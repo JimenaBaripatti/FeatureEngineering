{
  "nbformat": 4,
  "nbformat_minor": 0,
  "metadata": {
    "colab": {
      "name": "NLP_High_Cardinality_Variables.ipynb",
      "provenance": [],
      "collapsed_sections": [
        "zniR5difuc28"
      ],
      "toc_visible": true,
      "authorship_tag": "ABX9TyMlbmyfEYRa9dLLo6/DkktX",
      "include_colab_link": true
    },
    "kernelspec": {
      "name": "python3",
      "display_name": "Python 3"
    },
    "language_info": {
      "name": "python"
    }
  },
  "cells": [
    {
      "cell_type": "markdown",
      "metadata": {
        "id": "view-in-github",
        "colab_type": "text"
      },
      "source": [
        "<a href=\"https://colab.research.google.com/github/JimenaBaripatti/FeatureEngineering/blob/main/NLP_High_Cardinality_Variables.ipynb\" target=\"_parent\"><img src=\"https://colab.research.google.com/assets/colab-badge.svg\" alt=\"Open In Colab\"/></a>"
      ]
    },
    {
      "cell_type": "markdown",
      "metadata": {
        "id": "wGuiEx0Zkr9K"
      },
      "source": [
        "**NLP: FE Categorical variables with high cardinality **bold text**"
      ]
    },
    {
      "cell_type": "code",
      "metadata": {
        "colab": {
          "base_uri": "https://localhost:8080/"
        },
        "id": "cizTrfNHRyyu",
        "outputId": "ca312f69-445e-4f08-8136-19ad4241b879"
      },
      "source": [
        "from google.colab import drive\n",
        "drive.mount('/content/drive')"
      ],
      "execution_count": 1,
      "outputs": [
        {
          "output_type": "stream",
          "name": "stdout",
          "text": [
            "Mounted at /content/drive\n"
          ]
        }
      ]
    },
    {
      "cell_type": "code",
      "metadata": {
        "colab": {
          "base_uri": "https://localhost:8080/"
        },
        "id": "heGB8lJx9NWF",
        "outputId": "c34d2e20-4de2-43c9-f893-8b82c0adde90"
      },
      "source": [
        "# setting up libraries\n",
        "import os\n",
        "import pandas as pd\n",
        "import numpy as np\n",
        "import matplotlib.pyplot as plt\n",
        "import seaborn as sns\n",
        "from scipy.stats import norm \n",
        "import statistics\n",
        "from sklearn.metrics import matthews_corrcoef\n",
        "from scipy.stats import chi2_contingency\n",
        "import math\n",
        "from patsy import dmatrices\n",
        "from statsmodels.stats.outliers_influence import variance_inflation_factor\n",
        "from sklearn.ensemble import IsolationForest\n",
        "from scipy.stats import zscore\n",
        "from textblob import TextBlob\n",
        "\n",
        "pd.set_option('display.max_rows', None)\n",
        "pd.set_option('display.max_columns', None)\n",
        "pd.set_option('display.width', None)\n",
        "pd.set_option('display.max_colwidth', -1)\n",
        "\n",
        "%matplotlib inline\n",
        "\n",
        "\n",
        "# Setting working directory\n",
        "#os.chdir(\"/content/drive/MyDrive/Colab Notebooks/Data/\")"
      ],
      "execution_count": 2,
      "outputs": [
        {
          "output_type": "stream",
          "name": "stderr",
          "text": [
            "/usr/local/lib/python3.7/dist-packages/statsmodels/tools/_testing.py:19: FutureWarning: pandas.util.testing is deprecated. Use the functions in the public API at pandas.testing instead.\n",
            "  import pandas.util.testing as tm\n",
            "/usr/local/lib/python3.7/dist-packages/ipykernel_launcher.py:21: FutureWarning: Passing a negative integer is deprecated in version 1.0 and will not be supported in future version. Instead, use None to not limit the column width.\n"
          ]
        }
      ]
    },
    {
      "cell_type": "code",
      "metadata": {
        "id": "hCU3PPEyfEQL"
      },
      "source": [
        "!pip install category_encoders"
      ],
      "execution_count": null,
      "outputs": []
    },
    {
      "cell_type": "markdown",
      "metadata": {
        "id": "EYtCm1Xx86wK"
      },
      "source": [
        "# Functions"
      ]
    },
    {
      "cell_type": "code",
      "metadata": {
        "id": "nQ6DcDua9GkU"
      },
      "source": [
        "# extract categorical vs. numerical columns\n",
        "def find_diff_type_var(df):\n",
        "    cat_var = df.loc[:,df.dtypes == np.object].columns\n",
        "    num_var = df.loc[:,df.dtypes != np.object].columns\n",
        "    return(cat_var, num_var)"
      ],
      "execution_count": 3,
      "outputs": []
    },
    {
      "cell_type": "code",
      "metadata": {
        "id": "FVaw8g-OhBim"
      },
      "source": [
        "# explore different variables\n",
        "def exploration_cat(c):\n",
        "\n",
        "  print('---------------------------------------')\n",
        "\n",
        "  print('variable name:', c, '\\n')\n",
        "  print('number of categories: ' ,df[c].unique().shape[0], '\\n')\n",
        "  print(df[c].value_counts(normalize=True, dropna=False))\n",
        "\n",
        "  print('---------------------------------------')"
      ],
      "execution_count": null,
      "outputs": []
    },
    {
      "cell_type": "code",
      "metadata": {
        "id": "JjfaFyhQcqCz"
      },
      "source": [
        "# plot categorical variables\n",
        "def plot_cat(c):\n",
        "  plt.figure(figsize=(20,7))\n",
        "  cat_count=df[c].value_counts(normalize=True, dropna=False)\n",
        "  fig=sns.barplot(100*cat_count.values[0:11], cat_count.index[0:11], alpha=0.9)\n",
        "  plt.title('Frequency Distribution of ' + str(c))\n",
        "  plt.xlabel('% occurences', fontsize=12)\n",
        "  #fig.set_yticklabels(fig.get_yticklabels(),rotation=45, horizontalalignment='right')\n",
        "  plt.show()\n"
      ],
      "execution_count": null,
      "outputs": []
    },
    {
      "cell_type": "code",
      "metadata": {
        "id": "t5CqE5BMH_Ds"
      },
      "source": [
        "# frequency encoding\n",
        "def freq_encode(c):\n",
        "  freq_count=df[c].value_counts(normalize=True).to_dict()\n",
        "  c_imputed=str(c)+'_imputed'\n",
        "  df[c_imputed]=df[c].map(freq_count)\n",
        "  return df"
      ],
      "execution_count": null,
      "outputs": []
    },
    {
      "cell_type": "code",
      "metadata": {
        "id": "DgnkS9l4K54h"
      },
      "source": [
        "# Impute with the most frequent category\n",
        "def impute_frequent (c):\n",
        "  top_cat=df[c].value_counts().nlargest(1).index[0]\n",
        "  index_to_impute=df[df[c].isnull()].index\n",
        "  df.at[index_to_impute,c]=top_cat\n",
        "  return df"
      ],
      "execution_count": null,
      "outputs": []
    },
    {
      "cell_type": "code",
      "metadata": {
        "id": "LFch7xp1ew5R"
      },
      "source": [
        "# use WOE for categorical variables - feature creation based on the output woe value\n",
        "def woe_encoder(c,target):\n",
        "  from category_encoders import WOEEncoder\n",
        "  x = WOEEncoder()\n",
        "  x.fit(df[c],df[target])\n",
        "  df[str(c)+'_woe']=x.transform(df[c],df[target])\n",
        "  return df"
      ],
      "execution_count": null,
      "outputs": []
    },
    {
      "cell_type": "markdown",
      "metadata": {
        "id": "n4aTJSTUQEe3"
      },
      "source": [
        "# Load Complete Fire Data\n"
      ]
    },
    {
      "cell_type": "code",
      "metadata": {
        "id": "sjbj2yLbQiwa"
      },
      "source": [
        "df=pd.read_csv('https://raw.githubusercontent.com/JimenaBaripatti/FeatureEngineering/main/data/current_dataset/fire_incident_station_weather_demo_combined.csv', index_col=[0])"
      ],
      "execution_count": 4,
      "outputs": []
    },
    {
      "cell_type": "code",
      "metadata": {
        "colab": {
          "base_uri": "https://localhost:8080/"
        },
        "id": "ShxM_UFC24vz",
        "outputId": "3ed01f43-437d-4244-a167-655f090bb692"
      },
      "source": [
        "df.shape"
      ],
      "execution_count": 5,
      "outputs": [
        {
          "output_type": "execute_result",
          "data": {
            "text/plain": [
              "(17536, 106)"
            ]
          },
          "metadata": {},
          "execution_count": 5
        }
      ]
    },
    {
      "cell_type": "code",
      "metadata": {
        "id": "xa_TMc8mRdhv"
      },
      "source": [
        "df.head(2)"
      ],
      "execution_count": null,
      "outputs": []
    },
    {
      "cell_type": "code",
      "metadata": {
        "id": "spRrqd1_8e22"
      },
      "source": [
        "#drop unwanted columns\n",
        "my_not_needed_cols = ['Station_Area', 'TFS_Alarm_Timeinc_', 'TFS_Arrival_Time',\n",
        "                      'YEAR','TFS_ARR_DAY','TFS_ALM_DAY','TFS_ARR_HOUR','TFS_ALM_HOUR']\n",
        "# additional numerical columns that are not needed\n",
        "add_num_cols = ['Incident_Station_Area', 'Incident_Ward','ADDRESS_POINT_ID', 'ADDRESS_ID',\n",
        "       'CENTRELINE_ID', 'ADDRESS_NUMBER', 'OBJECTID', 'fs_Longitude',\n",
        "       'fs_Latitude', 'Latitude', 'Longitude']\n",
        "add_cat_cols = ['Intersection', 'Last_TFS_Unit_Clear_Time','TFS_Alarm_Timeinc_', \n",
        "        'TFS_Arrival_Time', 'NAME', 'ADDRESS','LINEAR_NAME_FULL', 'PLACE_NAME', \n",
        "        'WARD_NAME', 'MUNICIPALITY_NAME', 'geometry','INCIDENT_DATE',\n",
        "                'Ext_agent_app_or_defer_time','Fire_Under_Control_Time','location']\n",
        "\n",
        "fire_not_needed_cols = ['_id_x','_id_y','Exposures']\n",
        "Demographics_not_needed_cols = ['fsa_imputed','location','FSA']                        \n",
        "station_not_needed_cols=['ID', 'ADDRESS_ID_LINK', 'X','Y', 'LATITUDE', 'LONGITUDE','POSTAL_CODE','MAINT_STAGE','GENERAL_USE','CLASS_FAMILY_DESC', 'INCIDENT_PERIOD_CAT']\n",
        "weather_not_needed_cols=['date', 'Incident_Numberdemo','TFS_Alarm_Timedemo']\n",
        "drop_columns = my_not_needed_cols + add_num_cols + add_cat_cols + Demographics_not_needed_cols + fire_not_needed_cols + station_not_needed_cols + weather_not_needed_cols\n",
        "df.drop(columns=drop_columns, axis=1,inplace=True)"
      ],
      "execution_count": 7,
      "outputs": []
    },
    {
      "cell_type": "code",
      "metadata": {
        "colab": {
          "base_uri": "https://localhost:8080/"
        },
        "id": "Ue_Ix3-R8qJN",
        "outputId": "92580214-dbf8-4208-d07d-0e947a431c6a"
      },
      "source": [
        "find_diff_type_var(df)"
      ],
      "execution_count": 8,
      "outputs": [
        {
          "output_type": "execute_result",
          "data": {
            "text/plain": [
              "(Index(['Area_of_Origin', 'Building_Status', 'Business_Impact',\n",
              "        'Extent_Of_Fire', 'Final_Incident_Type',\n",
              "        'Fire_Alarm_System_Impact_on_Evacuation', 'Fire_Alarm_System_Operation',\n",
              "        'Fire_Alarm_System_Presence', 'Ignition_Source', 'Incident_Numberinc_',\n",
              "        'Initial_CAD_Event_Type', 'Level_Of_Origin', 'Material_First_Ignited',\n",
              "        'Method_Of_Fire_Control', 'Possible_Cause', 'Property_Use',\n",
              "        'Smoke_Alarm_at_Fire_Origin',\n",
              "        'Smoke_Alarm_at_Fire_Origin_Alarm_Failure',\n",
              "        'Smoke_Alarm_at_Fire_Origin_Alarm_Type',\n",
              "        'Smoke_Alarm_Impact_on_Persons_Evacuating_Impact_on_Evacuation',\n",
              "        'Smoke_Spread', 'Sprinkler_System_Operation',\n",
              "        'Sprinkler_System_Presence', 'Status_of_Fire_On_Arrival'],\n",
              "       dtype='object'),\n",
              " Index(['Civilian_Casualties', 'Count_of_Persons_Rescued',\n",
              "        'Estimated_Dollar_Loss', 'Estimated_Number_Of_Persons_Displaced',\n",
              "        'Number_of_responding_apparatus', 'Number_of_responding_personnel',\n",
              "        'TFS_Firefighter_Casualties', 'LABEL', 'DISTANCE_INCIDENT_FIRESTATION',\n",
              "        'DOW', 'IS_WEEKEND', 'MONTH', 'MINUTES_TO_ARRIVE', 'MINUTES_TO_LEAVE',\n",
              "        'INCIDENT_PERIOD_NUM', 'IS_HOLIDAY', 'IS_HOLIDAY_LAG1',\n",
              "        'IS_HOLIDAY_LEAD1', 'IS_HOLIDAY_SEASON', 'rain_v', 'snow_v',\n",
              "        'snow_on_ground_v', 'temperature_avg', 'relative_humidity_avg',\n",
              "        'wind_speed_avg', 'density', 'poor_building_condition',\n",
              "        'condo_dwelling', 'Average_Age', 'Median_Age', 'male'],\n",
              "       dtype='object'))"
            ]
          },
          "metadata": {},
          "execution_count": 8
        }
      ]
    },
    {
      "cell_type": "markdown",
      "metadata": {
        "id": "yT4x49kOG3dw"
      },
      "source": [
        "# Categorical variables overview"
      ]
    },
    {
      "cell_type": "code",
      "metadata": {
        "id": "Ao2-U5S-9XBE"
      },
      "source": [
        "cat_var = df.loc[:,df.dtypes == np.object].columns\n",
        "n_cat = [df[x].unique().shape[0] for x in cat_var]\n",
        "n_missing=[df[x].isnull().sum() for x in cat_var]"
      ],
      "execution_count": 9,
      "outputs": []
    },
    {
      "cell_type": "code",
      "metadata": {
        "id": "3bGSjbJz9uBI"
      },
      "source": [
        "cat_var_summary=pd.DataFrame(data=zip(n_cat,n_missing),index=cat_var, columns=['number of categories','number of missing records']).sort_values(by=['number of categories'], ascending=False)"
      ],
      "execution_count": 10,
      "outputs": []
    },
    {
      "cell_type": "code",
      "metadata": {
        "id": "aruuOppjZWOf"
      },
      "source": [
        "high_cat=cat_var_summary[cat_var_summary['number of categories']>=20]\n",
        "med_cat=cat_var_summary[(cat_var_summary['number of categories']>5) & (cat_var_summary['number of categories']<20)]\n",
        "low_cat=cat_var_summary[cat_var_summary['number of categories']<=5]"
      ],
      "execution_count": 11,
      "outputs": []
    },
    {
      "cell_type": "code",
      "metadata": {
        "id": "LpWOfwB3C4Jm"
      },
      "source": [
        "cat_var_id=['Incident_Numberinc_','FSA']\n",
        "high_cat=[x for x in high_cat.index if x not in cat_var_id]"
      ],
      "execution_count": 12,
      "outputs": []
    },
    {
      "cell_type": "code",
      "metadata": {
        "colab": {
          "base_uri": "https://localhost:8080/",
          "height": 793
        },
        "id": "xkznWfbbnW3e",
        "outputId": "ce2b9590-db3e-41b7-e484-565889598f39"
      },
      "source": [
        "cat_var_summary"
      ],
      "execution_count": 13,
      "outputs": [
        {
          "output_type": "execute_result",
          "data": {
            "text/html": [
              "<div>\n",
              "<style scoped>\n",
              "    .dataframe tbody tr th:only-of-type {\n",
              "        vertical-align: middle;\n",
              "    }\n",
              "\n",
              "    .dataframe tbody tr th {\n",
              "        vertical-align: top;\n",
              "    }\n",
              "\n",
              "    .dataframe thead th {\n",
              "        text-align: right;\n",
              "    }\n",
              "</style>\n",
              "<table border=\"1\" class=\"dataframe\">\n",
              "  <thead>\n",
              "    <tr style=\"text-align: right;\">\n",
              "      <th></th>\n",
              "      <th>number of categories</th>\n",
              "      <th>number of missing records</th>\n",
              "    </tr>\n",
              "  </thead>\n",
              "  <tbody>\n",
              "    <tr>\n",
              "      <th>Incident_Numberinc_</th>\n",
              "      <td>17536</td>\n",
              "      <td>0</td>\n",
              "    </tr>\n",
              "    <tr>\n",
              "      <th>Property_Use</th>\n",
              "      <td>284</td>\n",
              "      <td>1</td>\n",
              "    </tr>\n",
              "    <tr>\n",
              "      <th>Initial_CAD_Event_Type</th>\n",
              "      <td>115</td>\n",
              "      <td>0</td>\n",
              "    </tr>\n",
              "    <tr>\n",
              "      <th>Ignition_Source</th>\n",
              "      <td>85</td>\n",
              "      <td>1913</td>\n",
              "    </tr>\n",
              "    <tr>\n",
              "      <th>Area_of_Origin</th>\n",
              "      <td>74</td>\n",
              "      <td>1913</td>\n",
              "    </tr>\n",
              "    <tr>\n",
              "      <th>Level_Of_Origin</th>\n",
              "      <td>60</td>\n",
              "      <td>6322</td>\n",
              "    </tr>\n",
              "    <tr>\n",
              "      <th>Material_First_Ignited</th>\n",
              "      <td>55</td>\n",
              "      <td>1913</td>\n",
              "    </tr>\n",
              "    <tr>\n",
              "      <th>Possible_Cause</th>\n",
              "      <td>25</td>\n",
              "      <td>1913</td>\n",
              "    </tr>\n",
              "    <tr>\n",
              "      <th>Extent_Of_Fire</th>\n",
              "      <td>13</td>\n",
              "      <td>6322</td>\n",
              "    </tr>\n",
              "    <tr>\n",
              "      <th>Smoke_Alarm_at_Fire_Origin_Alarm_Failure</th>\n",
              "      <td>12</td>\n",
              "      <td>6322</td>\n",
              "    </tr>\n",
              "    <tr>\n",
              "      <th>Smoke_Spread</th>\n",
              "      <td>11</td>\n",
              "      <td>6322</td>\n",
              "    </tr>\n",
              "    <tr>\n",
              "      <th>Status_of_Fire_On_Arrival</th>\n",
              "      <td>9</td>\n",
              "      <td>1914</td>\n",
              "    </tr>\n",
              "    <tr>\n",
              "      <th>Sprinkler_System_Operation</th>\n",
              "      <td>8</td>\n",
              "      <td>6322</td>\n",
              "    </tr>\n",
              "    <tr>\n",
              "      <th>Smoke_Alarm_Impact_on_Persons_Evacuating_Impact_on_Evacuation</th>\n",
              "      <td>8</td>\n",
              "      <td>6322</td>\n",
              "    </tr>\n",
              "    <tr>\n",
              "      <th>Business_Impact</th>\n",
              "      <td>8</td>\n",
              "      <td>6322</td>\n",
              "    </tr>\n",
              "    <tr>\n",
              "      <th>Building_Status</th>\n",
              "      <td>8</td>\n",
              "      <td>6320</td>\n",
              "    </tr>\n",
              "    <tr>\n",
              "      <th>Fire_Alarm_System_Impact_on_Evacuation</th>\n",
              "      <td>8</td>\n",
              "      <td>6322</td>\n",
              "    </tr>\n",
              "    <tr>\n",
              "      <th>Smoke_Alarm_at_Fire_Origin_Alarm_Type</th>\n",
              "      <td>7</td>\n",
              "      <td>6322</td>\n",
              "    </tr>\n",
              "    <tr>\n",
              "      <th>Smoke_Alarm_at_Fire_Origin</th>\n",
              "      <td>6</td>\n",
              "      <td>6322</td>\n",
              "    </tr>\n",
              "    <tr>\n",
              "      <th>Method_Of_Fire_Control</th>\n",
              "      <td>6</td>\n",
              "      <td>1914</td>\n",
              "    </tr>\n",
              "    <tr>\n",
              "      <th>Fire_Alarm_System_Operation</th>\n",
              "      <td>5</td>\n",
              "      <td>6322</td>\n",
              "    </tr>\n",
              "    <tr>\n",
              "      <th>Sprinkler_System_Presence</th>\n",
              "      <td>5</td>\n",
              "      <td>6322</td>\n",
              "    </tr>\n",
              "    <tr>\n",
              "      <th>Fire_Alarm_System_Presence</th>\n",
              "      <td>5</td>\n",
              "      <td>6322</td>\n",
              "    </tr>\n",
              "    <tr>\n",
              "      <th>Final_Incident_Type</th>\n",
              "      <td>3</td>\n",
              "      <td>0</td>\n",
              "    </tr>\n",
              "  </tbody>\n",
              "</table>\n",
              "</div>"
            ],
            "text/plain": [
              "                                                               number of categories  \\\n",
              "Incident_Numberinc_                                            17536                  \n",
              "Property_Use                                                   284                    \n",
              "Initial_CAD_Event_Type                                         115                    \n",
              "Ignition_Source                                                85                     \n",
              "Area_of_Origin                                                 74                     \n",
              "Level_Of_Origin                                                60                     \n",
              "Material_First_Ignited                                         55                     \n",
              "Possible_Cause                                                 25                     \n",
              "Extent_Of_Fire                                                 13                     \n",
              "Smoke_Alarm_at_Fire_Origin_Alarm_Failure                       12                     \n",
              "Smoke_Spread                                                   11                     \n",
              "Status_of_Fire_On_Arrival                                      9                      \n",
              "Sprinkler_System_Operation                                     8                      \n",
              "Smoke_Alarm_Impact_on_Persons_Evacuating_Impact_on_Evacuation  8                      \n",
              "Business_Impact                                                8                      \n",
              "Building_Status                                                8                      \n",
              "Fire_Alarm_System_Impact_on_Evacuation                         8                      \n",
              "Smoke_Alarm_at_Fire_Origin_Alarm_Type                          7                      \n",
              "Smoke_Alarm_at_Fire_Origin                                     6                      \n",
              "Method_Of_Fire_Control                                         6                      \n",
              "Fire_Alarm_System_Operation                                    5                      \n",
              "Sprinkler_System_Presence                                      5                      \n",
              "Fire_Alarm_System_Presence                                     5                      \n",
              "Final_Incident_Type                                            3                      \n",
              "\n",
              "                                                               number of missing records  \n",
              "Incident_Numberinc_                                            0                          \n",
              "Property_Use                                                   1                          \n",
              "Initial_CAD_Event_Type                                         0                          \n",
              "Ignition_Source                                                1913                       \n",
              "Area_of_Origin                                                 1913                       \n",
              "Level_Of_Origin                                                6322                       \n",
              "Material_First_Ignited                                         1913                       \n",
              "Possible_Cause                                                 1913                       \n",
              "Extent_Of_Fire                                                 6322                       \n",
              "Smoke_Alarm_at_Fire_Origin_Alarm_Failure                       6322                       \n",
              "Smoke_Spread                                                   6322                       \n",
              "Status_of_Fire_On_Arrival                                      1914                       \n",
              "Sprinkler_System_Operation                                     6322                       \n",
              "Smoke_Alarm_Impact_on_Persons_Evacuating_Impact_on_Evacuation  6322                       \n",
              "Business_Impact                                                6322                       \n",
              "Building_Status                                                6320                       \n",
              "Fire_Alarm_System_Impact_on_Evacuation                         6322                       \n",
              "Smoke_Alarm_at_Fire_Origin_Alarm_Type                          6322                       \n",
              "Smoke_Alarm_at_Fire_Origin                                     6322                       \n",
              "Method_Of_Fire_Control                                         1914                       \n",
              "Fire_Alarm_System_Operation                                    6322                       \n",
              "Sprinkler_System_Presence                                      6322                       \n",
              "Fire_Alarm_System_Presence                                     6322                       \n",
              "Final_Incident_Type                                            0                          "
            ]
          },
          "metadata": {},
          "execution_count": 13
        }
      ]
    },
    {
      "cell_type": "code",
      "metadata": {
        "id": "T8RwEtevhRIt"
      },
      "source": [
        "for c in high_cat:\n",
        "  exploration_cat(c)"
      ],
      "execution_count": null,
      "outputs": []
    },
    {
      "cell_type": "code",
      "metadata": {
        "id": "Aas4FGSexJkm"
      },
      "source": [
        "for c in high_cat:\n",
        "  plot_cat(c)"
      ],
      "execution_count": null,
      "outputs": []
    },
    {
      "cell_type": "code",
      "metadata": {
        "id": "SmTPY8JkpuaM"
      },
      "source": [
        "med_cat=[x for x in med_cat.index if x not in cat_var_id]\n",
        "for c in med_cat:\n",
        "  exploration_cat(c)"
      ],
      "execution_count": null,
      "outputs": []
    },
    {
      "cell_type": "markdown",
      "metadata": {
        "id": "B7ff7uDMs1Yx"
      },
      "source": [
        "### High Card: Level of Origin binning\n",
        "\n",
        "\n",
        "* 001-003 low_rise_level\n",
        "* 004-012 mid_rise_level\n",
        "* 012-100 high_rise_level\n",
        "* 996 roof\n",
        "* B - below_grade_level\n",
        "* rest including NaN - other\n",
        "\n"
      ]
    },
    {
      "cell_type": "code",
      "metadata": {
        "id": "6OG9CwXx7NMk"
      },
      "source": [
        "#Level_of_Origin: https://www.toronto.ca/ext/open_data/catalog/data_set_files/ofmcodes2009.pdf\n",
        "LOO=df['Level_Of_Origin']"
      ],
      "execution_count": null,
      "outputs": []
    },
    {
      "cell_type": "code",
      "metadata": {
        "colab": {
          "base_uri": "https://localhost:8080/"
        },
        "id": "QDzusSPhs6Z1",
        "outputId": "c0d4820a-2a57-4959-ac17-b892ef1f0c05"
      },
      "source": [
        "LOO_imputed=[None]*len(LOO)\n",
        "for i in range(len(LOO)):\n",
        "  try: \n",
        "    #LOO_imputed[i]=int(LOO[i])\n",
        "    if int(LOO[i])<=3:\n",
        "      LOO_imputed[i]='low_rise_level'\n",
        "    elif int(LOO[i])<=12:\n",
        "      LOO_imputed[i]='mid_rise_level'\n",
        "    elif int(LOO[i])<=100:\n",
        "      LOO_imputed[i]='high_rise_level'\n",
        "    elif int(LOO[i])==996:\n",
        "      LOO_imputed[i]='roof'\n",
        "    else:\n",
        "      LOO_imputed[i]='other'\n",
        "  except:\n",
        "    LOO_imputed[i]='below_grade_level'\n",
        "print(LOO_imputed[0:50])"
      ],
      "execution_count": null,
      "outputs": [
        {
          "output_type": "stream",
          "name": "stdout",
          "text": [
            "['other', 'other', 'other', 'other', 'other', 'other', 'low_rise_level', 'mid_rise_level', 'low_rise_level', 'other', 'other', 'low_rise_level', 'other', 'low_rise_level', 'other', 'other', 'low_rise_level', 'high_rise_level', 'low_rise_level', 'other', 'other', 'other', 'mid_rise_level', 'low_rise_level', 'other', 'other', 'low_rise_level', 'other', 'other', 'other', 'other', 'other', 'other', 'other', 'other', 'low_rise_level', 'other', 'other', 'other', 'other', 'other', 'other', 'low_rise_level', 'other', 'low_rise_level', 'mid_rise_level', 'other', 'other', 'mid_rise_level', 'other']\n"
          ]
        }
      ]
    },
    {
      "cell_type": "code",
      "metadata": {
        "id": "eDG5bNr4XhW-"
      },
      "source": [
        "df['LOO_imputed']=LOO_imputed"
      ],
      "execution_count": null,
      "outputs": []
    },
    {
      "cell_type": "markdown",
      "metadata": {
        "id": "zylgRK5cOqdp"
      },
      "source": [
        "### High Card: Possible Cause WOE\n",
        "\n",
        "\n",
        "*   evaluate woe for each category\n",
        "*   create bins based on woe\n",
        "\n"
      ]
    },
    {
      "cell_type": "code",
      "metadata": {
        "id": "sZ5X2GnfOyyG"
      },
      "source": [
        "df_test=woe_encoder('Possible_Cause','LABEL')"
      ],
      "execution_count": null,
      "outputs": []
    },
    {
      "cell_type": "code",
      "metadata": {
        "colab": {
          "base_uri": "https://localhost:8080/",
          "height": 793
        },
        "id": "dmClJk6KgrPb",
        "outputId": "e7691be4-f6ae-4406-f853-4b0107167a7f"
      },
      "source": [
        "df_test[['Possible_Cause','Possible_Cause_woe']].drop_duplicates().sort_values(by='Possible_Cause_woe')"
      ],
      "execution_count": null,
      "outputs": [
        {
          "output_type": "execute_result",
          "data": {
            "text/html": [
              "<div>\n",
              "<style scoped>\n",
              "    .dataframe tbody tr th:only-of-type {\n",
              "        vertical-align: middle;\n",
              "    }\n",
              "\n",
              "    .dataframe tbody tr th {\n",
              "        vertical-align: top;\n",
              "    }\n",
              "\n",
              "    .dataframe thead th {\n",
              "        text-align: right;\n",
              "    }\n",
              "</style>\n",
              "<table border=\"1\" class=\"dataframe\">\n",
              "  <thead>\n",
              "    <tr style=\"text-align: right;\">\n",
              "      <th></th>\n",
              "      <th>Possible_Cause</th>\n",
              "      <th>Possible_Cause_woe</th>\n",
              "    </tr>\n",
              "  </thead>\n",
              "  <tbody>\n",
              "    <tr>\n",
              "      <th>13</th>\n",
              "      <td>28 - Routine maintenance deficiency, eg creosote, lint, grease buildup</td>\n",
              "      <td>-1.421197</td>\n",
              "    </tr>\n",
              "    <tr>\n",
              "      <th>21</th>\n",
              "      <td>51 - Mechanical Failure</td>\n",
              "      <td>-1.358665</td>\n",
              "    </tr>\n",
              "    <tr>\n",
              "      <th>1</th>\n",
              "      <td>03 - Suspected Vandalism</td>\n",
              "      <td>-1.299777</td>\n",
              "    </tr>\n",
              "    <tr>\n",
              "      <th>106</th>\n",
              "      <td>49 - Improper Storage</td>\n",
              "      <td>-1.257930</td>\n",
              "    </tr>\n",
              "    <tr>\n",
              "      <th>947</th>\n",
              "      <td>73 - Natural Cause</td>\n",
              "      <td>-0.995566</td>\n",
              "    </tr>\n",
              "    <tr>\n",
              "      <th>6</th>\n",
              "      <td>20 - Design/Construction/Installation/Maintenance Deficiency</td>\n",
              "      <td>-0.823195</td>\n",
              "    </tr>\n",
              "    <tr>\n",
              "      <th>0</th>\n",
              "      <td>99 - Undetermined</td>\n",
              "      <td>-0.610312</td>\n",
              "    </tr>\n",
              "    <tr>\n",
              "      <th>58</th>\n",
              "      <td>01 - Suspected Arson</td>\n",
              "      <td>-0.546298</td>\n",
              "    </tr>\n",
              "    <tr>\n",
              "      <th>7</th>\n",
              "      <td>52 - Electrical Failure</td>\n",
              "      <td>-0.400887</td>\n",
              "    </tr>\n",
              "    <tr>\n",
              "      <th>48</th>\n",
              "      <td>45 - Improperly Discarded</td>\n",
              "      <td>-0.331906</td>\n",
              "    </tr>\n",
              "    <tr>\n",
              "      <th>18</th>\n",
              "      <td>80 - Exposure fire</td>\n",
              "      <td>-0.324398</td>\n",
              "    </tr>\n",
              "    <tr>\n",
              "      <th>285</th>\n",
              "      <td>12 - Vehicle Accident/Collision</td>\n",
              "      <td>-0.154177</td>\n",
              "    </tr>\n",
              "    <tr>\n",
              "      <th>367</th>\n",
              "      <td>04 - Suspected Youth Vandalism (Ages 12 to 17)</td>\n",
              "      <td>-0.079275</td>\n",
              "    </tr>\n",
              "    <tr>\n",
              "      <th>4827</th>\n",
              "      <td>02 - Riot/Civil Commotion</td>\n",
              "      <td>0.000000</td>\n",
              "    </tr>\n",
              "    <tr>\n",
              "      <th>5148</th>\n",
              "      <td>72 - Rekindle</td>\n",
              "      <td>0.038508</td>\n",
              "    </tr>\n",
              "    <tr>\n",
              "      <th>19</th>\n",
              "      <td>60 - Other unintentional cause, not classified</td>\n",
              "      <td>0.222555</td>\n",
              "    </tr>\n",
              "    <tr>\n",
              "      <th>17</th>\n",
              "      <td>98 - Unintentional, cause undetermined</td>\n",
              "      <td>0.255676</td>\n",
              "    </tr>\n",
              "    <tr>\n",
              "      <th>253</th>\n",
              "      <td>11 - Children Playing (Ages 11 and under)</td>\n",
              "      <td>0.452942</td>\n",
              "    </tr>\n",
              "    <tr>\n",
              "      <th>8</th>\n",
              "      <td>46 - Used or Placed too close to combustibles</td>\n",
              "      <td>0.723356</td>\n",
              "    </tr>\n",
              "    <tr>\n",
              "      <th>26</th>\n",
              "      <td>47 - Improper handling of ignition source or ignited material</td>\n",
              "      <td>0.880611</td>\n",
              "    </tr>\n",
              "    <tr>\n",
              "      <th>192</th>\n",
              "      <td>48 - Used for purpose not intended</td>\n",
              "      <td>0.947878</td>\n",
              "    </tr>\n",
              "    <tr>\n",
              "      <th>66</th>\n",
              "      <td>50 - Other misuse of ignition source/material ignited</td>\n",
              "      <td>1.015556</td>\n",
              "    </tr>\n",
              "    <tr>\n",
              "      <th>11</th>\n",
              "      <td>44 - Unattended</td>\n",
              "      <td>1.098924</td>\n",
              "    </tr>\n",
              "    <tr>\n",
              "      <th>502</th>\n",
              "      <td>990 - Under Investigation</td>\n",
              "      <td>1.607124</td>\n",
              "    </tr>\n",
              "  </tbody>\n",
              "</table>\n",
              "</div>"
            ],
            "text/plain": [
              "                                                              Possible_Cause  \\\n",
              "13    28 - Routine maintenance deficiency, eg creosote, lint, grease buildup   \n",
              "21    51 - Mechanical Failure                                                  \n",
              "1     03 - Suspected Vandalism                                                 \n",
              "106   49 - Improper Storage                                                    \n",
              "947   73 - Natural Cause                                                       \n",
              "6     20 - Design/Construction/Installation/Maintenance Deficiency             \n",
              "0     99 - Undetermined                                                        \n",
              "58    01 - Suspected Arson                                                     \n",
              "7     52 - Electrical Failure                                                  \n",
              "48    45 - Improperly Discarded                                                \n",
              "18    80 - Exposure fire                                                       \n",
              "285   12 - Vehicle Accident/Collision                                          \n",
              "367   04 - Suspected Youth Vandalism (Ages 12 to 17)                           \n",
              "4827  02 - Riot/Civil Commotion                                                \n",
              "5148  72 - Rekindle                                                            \n",
              "19    60 - Other unintentional cause, not classified                           \n",
              "17    98 - Unintentional, cause undetermined                                   \n",
              "253   11 - Children Playing (Ages 11 and under)                                \n",
              "8     46 - Used or Placed too close to combustibles                            \n",
              "26    47 - Improper handling of ignition source or ignited material            \n",
              "192   48 - Used for purpose not intended                                       \n",
              "66    50 - Other misuse of ignition source/material ignited                    \n",
              "11    44 - Unattended                                                          \n",
              "502   990 - Under Investigation                                                \n",
              "\n",
              "      Possible_Cause_woe  \n",
              "13   -1.421197            \n",
              "21   -1.358665            \n",
              "1    -1.299777            \n",
              "106  -1.257930            \n",
              "947  -0.995566            \n",
              "6    -0.823195            \n",
              "0    -0.610312            \n",
              "58   -0.546298            \n",
              "7    -0.400887            \n",
              "48   -0.331906            \n",
              "18   -0.324398            \n",
              "285  -0.154177            \n",
              "367  -0.079275            \n",
              "4827  0.000000            \n",
              "5148  0.038508            \n",
              "19    0.222555            \n",
              "17    0.255676            \n",
              "253   0.452942            \n",
              "8     0.723356            \n",
              "26    0.880611            \n",
              "192   0.947878            \n",
              "66    1.015556            \n",
              "11    1.098924            \n",
              "502   1.607124            "
            ]
          },
          "metadata": {},
          "execution_count": 287
        }
      ]
    },
    {
      "cell_type": "code",
      "metadata": {
        "id": "Hlcdw8UWi6wP"
      },
      "source": [
        "df_test=woe_encoder('Initial_CAD_Event_Type','LABEL')"
      ],
      "execution_count": null,
      "outputs": []
    },
    {
      "cell_type": "code",
      "metadata": {
        "colab": {
          "base_uri": "https://localhost:8080/",
          "height": 1000
        },
        "id": "6mZswpUYjKFk",
        "outputId": "ff2b4830-bcca-4f92-8211-67d3896ac5d1"
      },
      "source": [
        "df_test[['Initial_CAD_Event_Type','Initial_CAD_Event_Type_woe']].drop_duplicates().sort_values(by='Initial_CAD_Event_Type_woe')"
      ],
      "execution_count": null,
      "outputs": [
        {
          "output_type": "execute_result",
          "data": {
            "text/html": [
              "<div>\n",
              "<style scoped>\n",
              "    .dataframe tbody tr th:only-of-type {\n",
              "        vertical-align: middle;\n",
              "    }\n",
              "\n",
              "    .dataframe tbody tr th {\n",
              "        vertical-align: top;\n",
              "    }\n",
              "\n",
              "    .dataframe thead th {\n",
              "        text-align: right;\n",
              "    }\n",
              "</style>\n",
              "<table border=\"1\" class=\"dataframe\">\n",
              "  <thead>\n",
              "    <tr style=\"text-align: right;\">\n",
              "      <th></th>\n",
              "      <th>Initial_CAD_Event_Type</th>\n",
              "      <th>Initial_CAD_Event_Type_woe</th>\n",
              "    </tr>\n",
              "  </thead>\n",
              "  <tbody>\n",
              "    <tr>\n",
              "      <th>1</th>\n",
              "      <td>Fire - Grass/Rubbish</td>\n",
              "      <td>-3.526908</td>\n",
              "    </tr>\n",
              "    <tr>\n",
              "      <th>4834</th>\n",
              "      <td>VEFH</td>\n",
              "      <td>-2.105228</td>\n",
              "    </tr>\n",
              "    <tr>\n",
              "      <th>4837</th>\n",
              "      <td>FIG</td>\n",
              "      <td>-2.058633</td>\n",
              "    </tr>\n",
              "    <tr>\n",
              "      <th>4832</th>\n",
              "      <td>VEF</td>\n",
              "      <td>-1.882695</td>\n",
              "    </tr>\n",
              "    <tr>\n",
              "      <th>0</th>\n",
              "      <td>Vehicle Fire</td>\n",
              "      <td>-1.558351</td>\n",
              "    </tr>\n",
              "    <tr>\n",
              "      <th>41</th>\n",
              "      <td>Vehicle Fire - Highway</td>\n",
              "      <td>-1.552002</td>\n",
              "    </tr>\n",
              "    <tr>\n",
              "      <th>5019</th>\n",
              "      <td>FITP</td>\n",
              "      <td>-1.223144</td>\n",
              "    </tr>\n",
              "    <tr>\n",
              "      <th>4920</th>\n",
              "      <td>FIS</td>\n",
              "      <td>-1.168585</td>\n",
              "    </tr>\n",
              "    <tr>\n",
              "      <th>4933</th>\n",
              "      <td>FII</td>\n",
              "      <td>-1.159195</td>\n",
              "    </tr>\n",
              "    <tr>\n",
              "      <th>181</th>\n",
              "      <td>Fire - Other</td>\n",
              "      <td>-0.973093</td>\n",
              "    </tr>\n",
              "    <tr>\n",
              "      <th>125</th>\n",
              "      <td>Fire - Subway</td>\n",
              "      <td>-0.902476</td>\n",
              "    </tr>\n",
              "    <tr>\n",
              "      <th>33</th>\n",
              "      <td>Fire - Transformer/Pole</td>\n",
              "      <td>-0.852465</td>\n",
              "    </tr>\n",
              "    <tr>\n",
              "      <th>4856</th>\n",
              "      <td>FICI</td>\n",
              "      <td>-0.810102</td>\n",
              "    </tr>\n",
              "    <tr>\n",
              "      <th>5590</th>\n",
              "      <td>FACI</td>\n",
              "      <td>-0.803194</td>\n",
              "    </tr>\n",
              "    <tr>\n",
              "      <th>183</th>\n",
              "      <td>Check Call</td>\n",
              "      <td>-0.715264</td>\n",
              "    </tr>\n",
              "    <tr>\n",
              "      <th>3</th>\n",
              "      <td>Fire - Commercial/Industrial</td>\n",
              "      <td>-0.603894</td>\n",
              "    </tr>\n",
              "    <tr>\n",
              "      <th>488</th>\n",
              "      <td>Fire - Outside Storage</td>\n",
              "      <td>-0.521108</td>\n",
              "    </tr>\n",
              "    <tr>\n",
              "      <th>4850</th>\n",
              "      <td>FIHV</td>\n",
              "      <td>-0.484740</td>\n",
              "    </tr>\n",
              "    <tr>\n",
              "      <th>71</th>\n",
              "      <td>Fire - Institution - School</td>\n",
              "      <td>-0.324398</td>\n",
              "    </tr>\n",
              "    <tr>\n",
              "      <th>5485</th>\n",
              "      <td>FAIS</td>\n",
              "      <td>-0.279946</td>\n",
              "    </tr>\n",
              "    <tr>\n",
              "      <th>4862</th>\n",
              "      <td>FIHRD</td>\n",
              "      <td>-0.249174</td>\n",
              "    </tr>\n",
              "    <tr>\n",
              "      <th>5648</th>\n",
              "      <td>VEPIH</td>\n",
              "      <td>-0.233426</td>\n",
              "    </tr>\n",
              "    <tr>\n",
              "      <th>5658</th>\n",
              "      <td>VEAT</td>\n",
              "      <td>-0.184636</td>\n",
              "    </tr>\n",
              "    <tr>\n",
              "      <th>4888</th>\n",
              "      <td>FIO</td>\n",
              "      <td>-0.172057</td>\n",
              "    </tr>\n",
              "    <tr>\n",
              "      <th>6029</th>\n",
              "      <td>FIOS</td>\n",
              "      <td>-0.106674</td>\n",
              "    </tr>\n",
              "    <tr>\n",
              "      <th>4940</th>\n",
              "      <td>FAHRD</td>\n",
              "      <td>-0.106674</td>\n",
              "    </tr>\n",
              "    <tr>\n",
              "      <th>250</th>\n",
              "      <td>Fire - Institution</td>\n",
              "      <td>-0.079275</td>\n",
              "    </tr>\n",
              "    <tr>\n",
              "      <th>4956</th>\n",
              "      <td>VEAF</td>\n",
              "      <td>-0.041535</td>\n",
              "    </tr>\n",
              "    <tr>\n",
              "      <th>77</th>\n",
              "      <td>Fire - Hydro Vault</td>\n",
              "      <td>-0.022117</td>\n",
              "    </tr>\n",
              "    <tr>\n",
              "      <th>5888</th>\n",
              "      <td>MEPI</td>\n",
              "      <td>0.000000</td>\n",
              "    </tr>\n",
              "    <tr>\n",
              "      <th>7288</th>\n",
              "      <td>PUB</td>\n",
              "      <td>0.000000</td>\n",
              "    </tr>\n",
              "    <tr>\n",
              "      <th>9546</th>\n",
              "      <td>LKFI</td>\n",
              "      <td>0.000000</td>\n",
              "    </tr>\n",
              "    <tr>\n",
              "      <th>17513</th>\n",
              "      <td>MECR</td>\n",
              "      <td>0.000000</td>\n",
              "    </tr>\n",
              "    <tr>\n",
              "      <th>9792</th>\n",
              "      <td>REHL</td>\n",
              "      <td>0.000000</td>\n",
              "    </tr>\n",
              "    <tr>\n",
              "      <th>12799</th>\n",
              "      <td>ISFA</td>\n",
              "      <td>0.000000</td>\n",
              "    </tr>\n",
              "    <tr>\n",
              "      <th>15122</th>\n",
              "      <td>MESC</td>\n",
              "      <td>0.000000</td>\n",
              "    </tr>\n",
              "    <tr>\n",
              "      <th>4429</th>\n",
              "      <td>Island - Fire Response</td>\n",
              "      <td>0.000000</td>\n",
              "    </tr>\n",
              "    <tr>\n",
              "      <th>4138</th>\n",
              "      <td>Alarm Waterfront Marina/Industrial</td>\n",
              "      <td>0.000000</td>\n",
              "    </tr>\n",
              "    <tr>\n",
              "      <th>3425</th>\n",
              "      <td>Island Fire Alarm Response</td>\n",
              "      <td>0.000000</td>\n",
              "    </tr>\n",
              "    <tr>\n",
              "      <th>3158</th>\n",
              "      <td>Vehicle Accident - Trapped - Highway</td>\n",
              "      <td>0.000000</td>\n",
              "    </tr>\n",
              "    <tr>\n",
              "      <th>3055</th>\n",
              "      <td>Fire Alarm - Check Call</td>\n",
              "      <td>0.000000</td>\n",
              "    </tr>\n",
              "    <tr>\n",
              "      <th>2688</th>\n",
              "      <td>Vehicle Fire - Highway Elevated</td>\n",
              "      <td>0.000000</td>\n",
              "    </tr>\n",
              "    <tr>\n",
              "      <th>17527</th>\n",
              "      <td>MECC</td>\n",
              "      <td>0.000000</td>\n",
              "    </tr>\n",
              "    <tr>\n",
              "      <th>2232</th>\n",
              "      <td>Vehicle - Spill Clean Up</td>\n",
              "      <td>0.000000</td>\n",
              "    </tr>\n",
              "    <tr>\n",
              "      <th>2053</th>\n",
              "      <td>Check Call - Non Emergency</td>\n",
              "      <td>0.000000</td>\n",
              "    </tr>\n",
              "    <tr>\n",
              "      <th>1362</th>\n",
              "      <td>Vehicle - Personal Injury</td>\n",
              "      <td>0.000000</td>\n",
              "    </tr>\n",
              "    <tr>\n",
              "      <th>8</th>\n",
              "      <td>Alarm Commercial/Industrial</td>\n",
              "      <td>0.051087</td>\n",
              "    </tr>\n",
              "    <tr>\n",
              "      <th>4942</th>\n",
              "      <td>FAHCD</td>\n",
              "      <td>0.103046</td>\n",
              "    </tr>\n",
              "    <tr>\n",
              "      <th>4892</th>\n",
              "      <td>FIID</td>\n",
              "      <td>0.103046</td>\n",
              "    </tr>\n",
              "    <tr>\n",
              "      <th>4844</th>\n",
              "      <td>FISD</td>\n",
              "      <td>0.103046</td>\n",
              "    </tr>\n",
              "    <tr>\n",
              "      <th>5389</th>\n",
              "      <td>FIHC</td>\n",
              "      <td>0.172039</td>\n",
              "    </tr>\n",
              "    <tr>\n",
              "      <th>4891</th>\n",
              "      <td>WDH</td>\n",
              "      <td>0.172039</td>\n",
              "    </tr>\n",
              "    <tr>\n",
              "      <th>4945</th>\n",
              "      <td>CC</td>\n",
              "      <td>0.246147</td>\n",
              "    </tr>\n",
              "    <tr>\n",
              "      <th>6157</th>\n",
              "      <td>NGASFI</td>\n",
              "      <td>0.246147</td>\n",
              "    </tr>\n",
              "    <tr>\n",
              "      <th>4958</th>\n",
              "      <td>FIIS</td>\n",
              "      <td>0.285368</td>\n",
              "    </tr>\n",
              "    <tr>\n",
              "      <th>85</th>\n",
              "      <td>Alarm Highrise Residential Downtown</td>\n",
              "      <td>0.293400</td>\n",
              "    </tr>\n",
              "    <tr>\n",
              "      <th>4907</th>\n",
              "      <td>VEFU</td>\n",
              "      <td>0.309661</td>\n",
              "    </tr>\n",
              "    <tr>\n",
              "      <th>4863</th>\n",
              "      <td>FIHCD</td>\n",
              "      <td>0.326190</td>\n",
              "    </tr>\n",
              "    <tr>\n",
              "      <th>414</th>\n",
              "      <td>Alarm Highrise - Commercial - Downtown</td>\n",
              "      <td>0.326190</td>\n",
              "    </tr>\n",
              "    <tr>\n",
              "      <th>6464</th>\n",
              "      <td>ISFI</td>\n",
              "      <td>0.326190</td>\n",
              "    </tr>\n",
              "    <tr>\n",
              "      <th>1022</th>\n",
              "      <td>Wires Down - Hydro</td>\n",
              "      <td>0.508511</td>\n",
              "    </tr>\n",
              "    <tr>\n",
              "      <th>4</th>\n",
              "      <td>Fire - Residential</td>\n",
              "      <td>0.576273</td>\n",
              "    </tr>\n",
              "    <tr>\n",
              "      <th>4840</th>\n",
              "      <td>FIR</td>\n",
              "      <td>0.576283</td>\n",
              "    </tr>\n",
              "    <tr>\n",
              "      <th>4841</th>\n",
              "      <td>FIHR</td>\n",
              "      <td>0.593809</td>\n",
              "    </tr>\n",
              "    <tr>\n",
              "      <th>2</th>\n",
              "      <td>Fire -  Highrise Residential</td>\n",
              "      <td>0.639847</td>\n",
              "    </tr>\n",
              "    <tr>\n",
              "      <th>63</th>\n",
              "      <td>Alarm - Institution - School</td>\n",
              "      <td>0.671030</td>\n",
              "    </tr>\n",
              "    <tr>\n",
              "      <th>4842</th>\n",
              "      <td>FAHR</td>\n",
              "      <td>0.710087</td>\n",
              "    </tr>\n",
              "    <tr>\n",
              "      <th>67</th>\n",
              "      <td>Vehicle Accident with Fire</td>\n",
              "      <td>0.731655</td>\n",
              "    </tr>\n",
              "    <tr>\n",
              "      <th>6415</th>\n",
              "      <td>FACC</td>\n",
              "      <td>0.731655</td>\n",
              "    </tr>\n",
              "    <tr>\n",
              "      <th>23</th>\n",
              "      <td>Alarm Residential</td>\n",
              "      <td>0.752708</td>\n",
              "    </tr>\n",
              "    <tr>\n",
              "      <th>5762</th>\n",
              "      <td>FAI</td>\n",
              "      <td>0.763404</td>\n",
              "    </tr>\n",
              "    <tr>\n",
              "      <th>7747</th>\n",
              "      <td>FAHC</td>\n",
              "      <td>0.796193</td>\n",
              "    </tr>\n",
              "    <tr>\n",
              "      <th>1808</th>\n",
              "      <td>Water Problem</td>\n",
              "      <td>0.865186</td>\n",
              "    </tr>\n",
              "    <tr>\n",
              "      <th>676</th>\n",
              "      <td>Alarm Institution</td>\n",
              "      <td>0.865186</td>\n",
              "    </tr>\n",
              "    <tr>\n",
              "      <th>9672</th>\n",
              "      <td>HAZ2</td>\n",
              "      <td>0.865186</td>\n",
              "    </tr>\n",
              "    <tr>\n",
              "      <th>10243</th>\n",
              "      <td>FAID</td>\n",
              "      <td>0.913976</td>\n",
              "    </tr>\n",
              "    <tr>\n",
              "      <th>5870</th>\n",
              "      <td>CONM</td>\n",
              "      <td>1.019337</td>\n",
              "    </tr>\n",
              "    <tr>\n",
              "      <th>5358</th>\n",
              "      <td>VEPI</td>\n",
              "      <td>1.019337</td>\n",
              "    </tr>\n",
              "    <tr>\n",
              "      <th>9603</th>\n",
              "      <td>VEFHE</td>\n",
              "      <td>1.019337</td>\n",
              "    </tr>\n",
              "    <tr>\n",
              "      <th>154</th>\n",
              "      <td>Fire - Highrise Commercial - Downtown</td>\n",
              "      <td>1.019337</td>\n",
              "    </tr>\n",
              "    <tr>\n",
              "      <th>1883</th>\n",
              "      <td>Natural Gas Fire</td>\n",
              "      <td>1.019337</td>\n",
              "    </tr>\n",
              "    <tr>\n",
              "      <th>163</th>\n",
              "      <td>Alarm Highrise Commercial</td>\n",
              "      <td>1.019337</td>\n",
              "    </tr>\n",
              "    <tr>\n",
              "      <th>4955</th>\n",
              "      <td>FAR</td>\n",
              "      <td>1.139355</td>\n",
              "    </tr>\n",
              "    <tr>\n",
              "      <th>81</th>\n",
              "      <td>Fire - Highrise Residential - Downtown</td>\n",
              "      <td>1.146089</td>\n",
              "    </tr>\n",
              "    <tr>\n",
              "      <th>13611</th>\n",
              "      <td>WAT</td>\n",
              "      <td>1.201659</td>\n",
              "    </tr>\n",
              "    <tr>\n",
              "      <th>111</th>\n",
              "      <td>Fire - Highrise Commercial</td>\n",
              "      <td>1.201659</td>\n",
              "    </tr>\n",
              "    <tr>\n",
              "      <th>492</th>\n",
              "      <td>Vehicle Fire - Underground</td>\n",
              "      <td>1.201659</td>\n",
              "    </tr>\n",
              "    <tr>\n",
              "      <th>7</th>\n",
              "      <td>Alarm Highrise Residential</td>\n",
              "      <td>1.216772</td>\n",
              "    </tr>\n",
              "    <tr>\n",
              "      <th>6113</th>\n",
              "      <td>HAZ1</td>\n",
              "      <td>1.307019</td>\n",
              "    </tr>\n",
              "    <tr>\n",
              "      <th>1445</th>\n",
              "      <td>Vehicle Accident - Trapped</td>\n",
              "      <td>1.424802</td>\n",
              "    </tr>\n",
              "    <tr>\n",
              "      <th>1088</th>\n",
              "      <td>Vehicle - Personal Injury Highway</td>\n",
              "      <td>1.424802</td>\n",
              "    </tr>\n",
              "    <tr>\n",
              "      <th>443</th>\n",
              "      <td>Fire - Subway - Downtown</td>\n",
              "      <td>1.424802</td>\n",
              "    </tr>\n",
              "    <tr>\n",
              "      <th>146</th>\n",
              "      <td>Hazmat Level 1</td>\n",
              "      <td>1.424802</td>\n",
              "    </tr>\n",
              "    <tr>\n",
              "      <th>4884</th>\n",
              "      <td>FIWMI</td>\n",
              "      <td>1.424802</td>\n",
              "    </tr>\n",
              "    <tr>\n",
              "      <th>7924</th>\n",
              "      <td>NGASLK</td>\n",
              "      <td>1.558334</td>\n",
              "    </tr>\n",
              "    <tr>\n",
              "      <th>5996</th>\n",
              "      <td>CCA</td>\n",
              "      <td>1.712484</td>\n",
              "    </tr>\n",
              "    <tr>\n",
              "      <th>2802</th>\n",
              "      <td>Natural Gas Leak</td>\n",
              "      <td>1.712484</td>\n",
              "    </tr>\n",
              "    <tr>\n",
              "      <th>14815</th>\n",
              "      <td>FAWMI</td>\n",
              "      <td>1.712484</td>\n",
              "    </tr>\n",
              "    <tr>\n",
              "      <th>13392</th>\n",
              "      <td>FAS</td>\n",
              "      <td>1.712484</td>\n",
              "    </tr>\n",
              "    <tr>\n",
              "      <th>2987</th>\n",
              "      <td>Fire Waterfront Marina/Industrial</td>\n",
              "      <td>1.712484</td>\n",
              "    </tr>\n",
              "    <tr>\n",
              "      <th>2308</th>\n",
              "      <td>Fire - Institution - Downtown</td>\n",
              "      <td>1.712484</td>\n",
              "    </tr>\n",
              "    <tr>\n",
              "      <th>4833</th>\n",
              "      <td>PA</td>\n",
              "      <td>1.712484</td>\n",
              "    </tr>\n",
              "    <tr>\n",
              "      <th>6995</th>\n",
              "      <td>FIW</td>\n",
              "      <td>1.712484</td>\n",
              "    </tr>\n",
              "    <tr>\n",
              "      <th>495</th>\n",
              "      <td>Carbon Monoxide - Non Medical</td>\n",
              "      <td>1.712484</td>\n",
              "    </tr>\n",
              "    <tr>\n",
              "      <th>1234</th>\n",
              "      <td>Fire - Alarm Waterfront Highrise</td>\n",
              "      <td>1.712484</td>\n",
              "    </tr>\n",
              "    <tr>\n",
              "      <th>5637</th>\n",
              "      <td>VEATH</td>\n",
              "      <td>1.894806</td>\n",
              "    </tr>\n",
              "    <tr>\n",
              "      <th>549</th>\n",
              "      <td>Alarm Institution Downtown</td>\n",
              "      <td>1.894806</td>\n",
              "    </tr>\n",
              "    <tr>\n",
              "      <th>375</th>\n",
              "      <td>Medical - Other</td>\n",
              "      <td>2.811096</td>\n",
              "    </tr>\n",
              "    <tr>\n",
              "      <th>3578</th>\n",
              "      <td>Hazmat Level 2</td>\n",
              "      <td>2.811096</td>\n",
              "    </tr>\n",
              "    <tr>\n",
              "      <th>459</th>\n",
              "      <td>Medical - Unconscious</td>\n",
              "      <td>2.811096</td>\n",
              "    </tr>\n",
              "    <tr>\n",
              "      <th>16481</th>\n",
              "      <td>MEU</td>\n",
              "      <td>3.216562</td>\n",
              "    </tr>\n",
              "    <tr>\n",
              "      <th>5700</th>\n",
              "      <td>MEO</td>\n",
              "      <td>3.504244</td>\n",
              "    </tr>\n",
              "    <tr>\n",
              "      <th>1871</th>\n",
              "      <td>Medical - Trouble Breathing</td>\n",
              "      <td>3.909709</td>\n",
              "    </tr>\n",
              "    <tr>\n",
              "      <th>5751</th>\n",
              "      <td>COM</td>\n",
              "      <td>3.909709</td>\n",
              "    </tr>\n",
              "    <tr>\n",
              "      <th>6194</th>\n",
              "      <td>METB</td>\n",
              "      <td>3.909709</td>\n",
              "    </tr>\n",
              "  </tbody>\n",
              "</table>\n",
              "</div>"
            ],
            "text/plain": [
              "                       Initial_CAD_Event_Type  Initial_CAD_Event_Type_woe\n",
              "1      Fire - Grass/Rubbish                   -3.526908                  \n",
              "4834   VEFH                                   -2.105228                  \n",
              "4837   FIG                                    -2.058633                  \n",
              "4832   VEF                                    -1.882695                  \n",
              "0      Vehicle Fire                           -1.558351                  \n",
              "41     Vehicle Fire - Highway                 -1.552002                  \n",
              "5019   FITP                                   -1.223144                  \n",
              "4920   FIS                                    -1.168585                  \n",
              "4933   FII                                    -1.159195                  \n",
              "181    Fire - Other                           -0.973093                  \n",
              "125    Fire - Subway                          -0.902476                  \n",
              "33     Fire - Transformer/Pole                -0.852465                  \n",
              "4856   FICI                                   -0.810102                  \n",
              "5590   FACI                                   -0.803194                  \n",
              "183    Check Call                             -0.715264                  \n",
              "3      Fire - Commercial/Industrial           -0.603894                  \n",
              "488    Fire - Outside Storage                 -0.521108                  \n",
              "4850   FIHV                                   -0.484740                  \n",
              "71     Fire - Institution - School            -0.324398                  \n",
              "5485   FAIS                                   -0.279946                  \n",
              "4862   FIHRD                                  -0.249174                  \n",
              "5648   VEPIH                                  -0.233426                  \n",
              "5658   VEAT                                   -0.184636                  \n",
              "4888   FIO                                    -0.172057                  \n",
              "6029   FIOS                                   -0.106674                  \n",
              "4940   FAHRD                                  -0.106674                  \n",
              "250    Fire - Institution                     -0.079275                  \n",
              "4956   VEAF                                   -0.041535                  \n",
              "77     Fire - Hydro Vault                     -0.022117                  \n",
              "5888   MEPI                                    0.000000                  \n",
              "7288   PUB                                     0.000000                  \n",
              "9546   LKFI                                    0.000000                  \n",
              "17513  MECR                                    0.000000                  \n",
              "9792   REHL                                    0.000000                  \n",
              "12799  ISFA                                    0.000000                  \n",
              "15122  MESC                                    0.000000                  \n",
              "4429   Island - Fire Response                  0.000000                  \n",
              "4138   Alarm Waterfront Marina/Industrial      0.000000                  \n",
              "3425   Island Fire Alarm Response              0.000000                  \n",
              "3158   Vehicle Accident - Trapped - Highway    0.000000                  \n",
              "3055   Fire Alarm - Check Call                 0.000000                  \n",
              "2688   Vehicle Fire - Highway Elevated         0.000000                  \n",
              "17527  MECC                                    0.000000                  \n",
              "2232   Vehicle - Spill Clean Up                0.000000                  \n",
              "2053   Check Call - Non Emergency              0.000000                  \n",
              "1362   Vehicle - Personal Injury               0.000000                  \n",
              "8      Alarm Commercial/Industrial             0.051087                  \n",
              "4942   FAHCD                                   0.103046                  \n",
              "4892   FIID                                    0.103046                  \n",
              "4844   FISD                                    0.103046                  \n",
              "5389   FIHC                                    0.172039                  \n",
              "4891   WDH                                     0.172039                  \n",
              "4945   CC                                      0.246147                  \n",
              "6157   NGASFI                                  0.246147                  \n",
              "4958   FIIS                                    0.285368                  \n",
              "85     Alarm Highrise Residential Downtown     0.293400                  \n",
              "4907   VEFU                                    0.309661                  \n",
              "4863   FIHCD                                   0.326190                  \n",
              "414    Alarm Highrise - Commercial - Downtown  0.326190                  \n",
              "6464   ISFI                                    0.326190                  \n",
              "1022   Wires Down - Hydro                      0.508511                  \n",
              "4      Fire - Residential                      0.576273                  \n",
              "4840   FIR                                     0.576283                  \n",
              "4841   FIHR                                    0.593809                  \n",
              "2      Fire -  Highrise Residential            0.639847                  \n",
              "63     Alarm - Institution - School            0.671030                  \n",
              "4842   FAHR                                    0.710087                  \n",
              "67     Vehicle Accident with Fire              0.731655                  \n",
              "6415   FACC                                    0.731655                  \n",
              "23     Alarm Residential                       0.752708                  \n",
              "5762   FAI                                     0.763404                  \n",
              "7747   FAHC                                    0.796193                  \n",
              "1808   Water Problem                           0.865186                  \n",
              "676    Alarm Institution                       0.865186                  \n",
              "9672   HAZ2                                    0.865186                  \n",
              "10243  FAID                                    0.913976                  \n",
              "5870   CONM                                    1.019337                  \n",
              "5358   VEPI                                    1.019337                  \n",
              "9603   VEFHE                                   1.019337                  \n",
              "154    Fire - Highrise Commercial - Downtown   1.019337                  \n",
              "1883   Natural Gas Fire                        1.019337                  \n",
              "163    Alarm Highrise Commercial               1.019337                  \n",
              "4955   FAR                                     1.139355                  \n",
              "81     Fire - Highrise Residential - Downtown  1.146089                  \n",
              "13611  WAT                                     1.201659                  \n",
              "111    Fire - Highrise Commercial              1.201659                  \n",
              "492    Vehicle Fire - Underground              1.201659                  \n",
              "7      Alarm Highrise Residential              1.216772                  \n",
              "6113   HAZ1                                    1.307019                  \n",
              "1445   Vehicle Accident - Trapped              1.424802                  \n",
              "1088   Vehicle - Personal Injury Highway       1.424802                  \n",
              "443    Fire - Subway - Downtown                1.424802                  \n",
              "146    Hazmat Level 1                          1.424802                  \n",
              "4884   FIWMI                                   1.424802                  \n",
              "7924   NGASLK                                  1.558334                  \n",
              "5996   CCA                                     1.712484                  \n",
              "2802   Natural Gas Leak                        1.712484                  \n",
              "14815  FAWMI                                   1.712484                  \n",
              "13392  FAS                                     1.712484                  \n",
              "2987   Fire Waterfront Marina/Industrial       1.712484                  \n",
              "2308   Fire - Institution - Downtown           1.712484                  \n",
              "4833   PA                                      1.712484                  \n",
              "6995   FIW                                     1.712484                  \n",
              "495    Carbon Monoxide - Non Medical           1.712484                  \n",
              "1234   Fire - Alarm Waterfront Highrise        1.712484                  \n",
              "5637   VEATH                                   1.894806                  \n",
              "549    Alarm Institution Downtown              1.894806                  \n",
              "375    Medical - Other                         2.811096                  \n",
              "3578   Hazmat Level 2                          2.811096                  \n",
              "459    Medical - Unconscious                   2.811096                  \n",
              "16481  MEU                                     3.216562                  \n",
              "5700   MEO                                     3.504244                  \n",
              "1871   Medical - Trouble Breathing             3.909709                  \n",
              "5751   COM                                     3.909709                  \n",
              "6194   METB                                    3.909709                  "
            ]
          },
          "metadata": {},
          "execution_count": 289
        }
      ]
    },
    {
      "cell_type": "markdown",
      "metadata": {
        "id": "qoHpZfDJ5cHP"
      },
      "source": [
        "## High Card: combined categorical variables\n",
        "\n",
        "\n",
        "*   List item\n",
        "*   List item\n",
        "\n"
      ]
    },
    {
      "cell_type": "markdown",
      "metadata": {
        "id": "K0CkXgmD5cHg"
      },
      "source": [
        "2) nlp: bow/n-gram/embedding to generate feature than use PCA to reduce"
      ]
    },
    {
      "cell_type": "code",
      "metadata": {
        "id": "zx5aToDd5cHh"
      },
      "source": [
        "#create data frame to store high cardinality variables (X5), ID and label\n",
        "df_c=df[['Incident_Numberinc_','Property_Use','Initial_CAD_Event_Type','Ignition_Source','Area_of_Origin','Material_First_Ignited','LABEL']]"
      ],
      "execution_count": 23,
      "outputs": []
    },
    {
      "cell_type": "code",
      "metadata": {
        "colab": {
          "base_uri": "https://localhost:8080/"
        },
        "id": "2CX5vdjU8f2g",
        "outputId": "53ff4ea3-911f-45e0-dc4d-8e2a2ea15ba2"
      },
      "source": [
        "df_c.isnull().sum()"
      ],
      "execution_count": 24,
      "outputs": [
        {
          "output_type": "execute_result",
          "data": {
            "text/plain": [
              "Incident_Numberinc_       0   \n",
              "Property_Use              1   \n",
              "Initial_CAD_Event_Type    0   \n",
              "Ignition_Source           1913\n",
              "Area_of_Origin            1913\n",
              "Material_First_Ignited    1913\n",
              "LABEL                     0   \n",
              "dtype: int64"
            ]
          },
          "metadata": {},
          "execution_count": 24
        }
      ]
    },
    {
      "cell_type": "code",
      "metadata": {
        "colab": {
          "base_uri": "https://localhost:8080/"
        },
        "id": "JbHnft0F5s9I",
        "outputId": "cee9efdc-3316-4d82-de19-8e7d3505822b"
      },
      "source": [
        "for col in df_c.columns:\n",
        "  df_c.at[df_c[df_c[col].isnull()].index,col]=' '"
      ],
      "execution_count": 25,
      "outputs": [
        {
          "output_type": "stream",
          "name": "stderr",
          "text": [
            "/usr/local/lib/python3.7/dist-packages/pandas/core/indexing.py:1763: SettingWithCopyWarning: \n",
            "A value is trying to be set on a copy of a slice from a DataFrame.\n",
            "Try using .loc[row_indexer,col_indexer] = value instead\n",
            "\n",
            "See the caveats in the documentation: https://pandas.pydata.org/pandas-docs/stable/user_guide/indexing.html#returning-a-view-versus-a-copy\n",
            "  isetter(loc, value)\n"
          ]
        }
      ]
    },
    {
      "cell_type": "code",
      "metadata": {
        "colab": {
          "base_uri": "https://localhost:8080/"
        },
        "id": "s7fa2Lbd8ZX1",
        "outputId": "fd460344-52e6-44ae-bc02-f7d71b9b3af4"
      },
      "source": [
        "df_c.isnull().sum()"
      ],
      "execution_count": 26,
      "outputs": [
        {
          "output_type": "execute_result",
          "data": {
            "text/plain": [
              "Incident_Numberinc_       0\n",
              "Property_Use              0\n",
              "Initial_CAD_Event_Type    0\n",
              "Ignition_Source           0\n",
              "Area_of_Origin            0\n",
              "Material_First_Ignited    0\n",
              "LABEL                     0\n",
              "dtype: int64"
            ]
          },
          "metadata": {},
          "execution_count": 26
        }
      ]
    },
    {
      "cell_type": "code",
      "metadata": {
        "id": "LtEOSGMg5cHi"
      },
      "source": [
        "#create a combined feature by joining the feature columns\n",
        "df_c['combined_feature']=df_c.iloc[:,1]+' '+df_c.iloc[:,2]+' '+df_c.iloc[:,3]+' '+df_c.iloc[:,4]+' '+df_c.iloc[:,5]"
      ],
      "execution_count": null,
      "outputs": []
    },
    {
      "cell_type": "code",
      "metadata": {
        "id": "EXPq2ezr5cHi"
      },
      "source": [
        "# clean up/process the text\n",
        "\n",
        "def clean_text(c):\n",
        "  df=pd.DataFrame()\n",
        "  df['text']=c\n",
        "  # replace all non-printable characters (such as \"\\n\") with space, and replace multiple spaces with single space\n",
        "  df['ss_text']=df['text'].apply(lambda x: ' '.join(c for c in x.split()))\n",
        "  #expand contraction\n",
        "  df['contract_text']=df['ss_text'].apply(lambda x: ' '.join([contractions.fix(w) for w in x.split()]))\n",
        "  #lower case\n",
        "  df['lower_text']=df['contract_text'].apply(lambda x: ' '.join([w.lower() for w in x.split()]))\n",
        "  #spelling correction\n",
        "  df['spl_text'] = df['lower_text'].apply(lambda x: str(TextBlob(x).correct()))\n",
        "  #lemmatization\n",
        "  lmtzr=WordNetLemmatizer()\n",
        "  df['lemm_text']=df['spl_text'].apply(lambda x: ' '.join([lmtzr.lemmatize(w) for w in x.split()]))\n",
        "  #remove punctuation\n",
        "  df['punct_text']=df['lemm_text'].str.replace('[^\\w\\s]',' ')\n",
        "  #remove english stopwords\n",
        "  STOPWORDS=set(stopwords.words('english'))\n",
        "  df['stop_text']=df['punct_text'].apply(lambda x: ' '.join([w for w in x.split() if w not in STOPWORDS]))\n",
        "  #remove all numbers\n",
        "  df['text_cleaned']=df['stop_text'].apply(lambda x: ' '.join([w for w in x.split() if not w.isdigit()]))\n",
        "  #return\n",
        "  return df"
      ],
      "execution_count": null,
      "outputs": []
    },
    {
      "cell_type": "code",
      "metadata": {
        "id": "S1ca_QYRB_IO"
      },
      "source": [
        "#testing \n",
        "df_test=clean_text(df_c['combined_feature'][0:10000])"
      ],
      "execution_count": null,
      "outputs": []
    },
    {
      "cell_type": "code",
      "metadata": {
        "id": "a9W_lcKM5cHk"
      },
      "source": [
        "# check for word frequency\n",
        "word_list=' '.join(df_test['text_cleaned'])\n",
        "word_listing=str(word_list).split()"
      ],
      "execution_count": null,
      "outputs": []
    },
    {
      "cell_type": "code",
      "metadata": {
        "id": "DGnDOANY5cHl"
      },
      "source": [
        "# define the rare category (bottom 1%)\n",
        "lower_word_limit=df_test.shape[0]*0.01\n",
        "# upper_word_limit=df_p.shape[0]*0.5"
      ],
      "execution_count": null,
      "outputs": []
    },
    {
      "cell_type": "code",
      "metadata": {
        "colab": {
          "base_uri": "https://localhost:8080/"
        },
        "id": "hbZdlRLZ5cHl",
        "outputId": "edd68bf8-6b04-4b81-c14e-15048e75d984"
      },
      "source": [
        "from collections import Counter\n",
        "c=Counter(word_listing)\n",
        "sorted_list=sorted(c.items(),key=lambda i:i[1],reverse=True)\n",
        "top20=sorted_list[0:20]\n",
        "top20\n",
        "#top10_word=[w for (w,wc) in top10]"
      ],
      "execution_count": null,
      "outputs": [
        {
          "output_type": "execute_result",
          "data": {
            "text/plain": [
              "[('undetermined', 7521),\n",
              " ('fire', 5204),\n",
              " ('area', 4914),\n",
              " ('rubbish', 4097),\n",
              " ('unit', 4063),\n",
              " ('dwelling', 4003),\n",
              " ('formerly', 3384),\n",
              " ('vehicle', 3195),\n",
              " ('trash', 2351),\n",
              " ('grass', 2286),\n",
              " ('etc', 2276),\n",
              " ('eg', 2180),\n",
              " ('cooking', 2088),\n",
              " ('multi', 2044),\n",
              " ('garage', 2003),\n",
              " ('fir', 1989),\n",
              " ('electrical', 1977),\n",
              " ('detached', 1764),\n",
              " ('residential', 1688),\n",
              " ('kitchen', 1328)]"
            ]
          },
          "metadata": {},
          "execution_count": 157
        }
      ]
    },
    {
      "cell_type": "code",
      "metadata": {
        "id": "Esu4qdMJ5cHm"
      },
      "source": [
        "#create custom stopwords based on the output\n",
        "custom_stopwords=['fire','etc','eg','incidents','use','fir','undetermined']"
      ],
      "execution_count": null,
      "outputs": []
    },
    {
      "cell_type": "code",
      "metadata": {
        "id": "DUOasN2t5cHm"
      },
      "source": [
        "#remove the rare words and custom stopwords\n",
        "sorted_clean=list(filter(lambda c: c[1]>lower_word_limit and c[0] not in custom_stopwords, sorted_list))"
      ],
      "execution_count": null,
      "outputs": []
    },
    {
      "cell_type": "code",
      "metadata": {
        "id": "rpF6Vhbn5cHm"
      },
      "source": [
        "#save final list of words for the dataset\n",
        "fire_word_list=[w for (w,wc) in sorted_clean]"
      ],
      "execution_count": null,
      "outputs": []
    },
    {
      "cell_type": "code",
      "metadata": {
        "id": "pfZ7jBs95cHn"
      },
      "source": [
        "#remove words that are NOT in the final list of words \n",
        "df_test['text_cleaned_final']=df_test['text_cleaned'].apply(lambda x: ' '.join([w for w in str(x).split() if w in fire_word_list]))"
      ],
      "execution_count": null,
      "outputs": []
    },
    {
      "cell_type": "code",
      "metadata": {
        "colab": {
          "base_uri": "https://localhost:8080/",
          "height": 427
        },
        "id": "5RJWdl4B5cHn",
        "outputId": "2dd65df3-ea10-45b9-9382-2996dc5e6a78"
      },
      "source": [
        "df_test[['text_cleaned_final','text_cleaned']].head(10)"
      ],
      "execution_count": null,
      "outputs": [
        {
          "output_type": "execute_result",
          "data": {
            "text/html": [
              "<div>\n",
              "<style scoped>\n",
              "    .dataframe tbody tr th:only-of-type {\n",
              "        vertical-align: middle;\n",
              "    }\n",
              "\n",
              "    .dataframe tbody tr th {\n",
              "        vertical-align: top;\n",
              "    }\n",
              "\n",
              "    .dataframe thead th {\n",
              "        text-align: right;\n",
              "    }\n",
              "</style>\n",
              "<table border=\"1\" class=\"dataframe\">\n",
              "  <thead>\n",
              "    <tr style=\"text-align: right;\">\n",
              "      <th></th>\n",
              "      <th>text_cleaned_final</th>\n",
              "      <th>text_cleaned</th>\n",
              "    </tr>\n",
              "  </thead>\n",
              "  <tbody>\n",
              "    <tr>\n",
              "      <th>0</th>\n",
              "      <td>sidewalk street roadway highway vehicle undetermined engine area vehicle</td>\n",
              "      <td>sidewalk street roadway highway use fire incidents vehicle fire undetermined engine area vehicle</td>\n",
              "    </tr>\n",
              "    <tr>\n",
              "      <th>1</th>\n",
              "      <td>sidewalk street roadway highway grass rubbish undetermined trash rubbish area outside</td>\n",
              "      <td>sidewalk street roadway highway use fire incidents fire grass rubbish undetermined trash rubbish area outside</td>\n",
              "    </tr>\n",
              "    <tr>\n",
              "      <th>2</th>\n",
              "      <td>outdoor general auto parking highrise residential undetermined undetermined formerly</td>\n",
              "      <td>outdoor general auto parking fire highrise residential undetermined undetermined formerly</td>\n",
              "    </tr>\n",
              "    <tr>\n",
              "      <th>3</th>\n",
              "      <td>store commercial industrial undetermined trash rubbish area outside undetermined formerly</td>\n",
              "      <td>department store fire commercial industrial undetermined trash rubbish area outside undetermined formerly</td>\n",
              "    </tr>\n",
              "    <tr>\n",
              "      <th>4</th>\n",
              "      <td>lawn structure residential undetermined undetermined formerly</td>\n",
              "      <td>lawn around structure fire residential undetermined undetermined formerly</td>\n",
              "    </tr>\n",
              "    <tr>\n",
              "      <th>5</th>\n",
              "      <td>vehicle vehicle part vehicle undetermined engine area vehicle</td>\n",
              "      <td>vehicle vehicle part vehicle fire undetermined engine area vehicle</td>\n",
              "    </tr>\n",
              "    <tr>\n",
              "      <th>6</th>\n",
              "      <td>detached dwelling residential light sleeping area bedroom patient room dormitory induration</td>\n",
              "      <td>detached dwelling fire residential incandescent lamp light bulb spotlight sleeping area bedroom patient room dormitory etc induration</td>\n",
              "    </tr>\n",
              "    <tr>\n",
              "      <th>7</th>\n",
              "      <td>multi unit dwelling unit alarm highrise residential distribution equipment includes circuit mechanical electrical service room electrical wiring induration</td>\n",
              "      <td>multi unit dwelling unit alarm highrise residential distribution equipment includes panel boards fuses circuit br mechanical electrical service room electrical wiring induration</td>\n",
              "    </tr>\n",
              "    <tr>\n",
              "      <th>8</th>\n",
              "      <td>facility alarm commercial industrial equipment office paper cardboard</td>\n",
              "      <td>court facility alarm commercial industrial heating equipment office paper cardboard</td>\n",
              "    </tr>\n",
              "    <tr>\n",
              "      <th>9</th>\n",
              "      <td>automobile vehicle undetermined undetermined formerly</td>\n",
              "      <td>automobile vehicle fire undetermined undetermined formerly</td>\n",
              "    </tr>\n",
              "  </tbody>\n",
              "</table>\n",
              "</div>"
            ],
            "text/plain": [
              "                                                                                                                                            text_cleaned_final  \\\n",
              "0  sidewalk street roadway highway vehicle undetermined engine area vehicle                                                                                      \n",
              "1  sidewalk street roadway highway grass rubbish undetermined trash rubbish area outside                                                                         \n",
              "2  outdoor general auto parking highrise residential undetermined undetermined formerly                                                                          \n",
              "3  store commercial industrial undetermined trash rubbish area outside undetermined formerly                                                                     \n",
              "4  lawn structure residential undetermined undetermined formerly                                                                                                 \n",
              "5  vehicle vehicle part vehicle undetermined engine area vehicle                                                                                                 \n",
              "6  detached dwelling residential light sleeping area bedroom patient room dormitory induration                                                                   \n",
              "7  multi unit dwelling unit alarm highrise residential distribution equipment includes circuit mechanical electrical service room electrical wiring induration   \n",
              "8  facility alarm commercial industrial equipment office paper cardboard                                                                                         \n",
              "9  automobile vehicle undetermined undetermined formerly                                                                                                         \n",
              "\n",
              "                                                                                                                                                                        text_cleaned  \n",
              "0  sidewalk street roadway highway use fire incidents vehicle fire undetermined engine area vehicle                                                                                   \n",
              "1  sidewalk street roadway highway use fire incidents fire grass rubbish undetermined trash rubbish area outside                                                                      \n",
              "2  outdoor general auto parking fire highrise residential undetermined undetermined formerly                                                                                          \n",
              "3  department store fire commercial industrial undetermined trash rubbish area outside undetermined formerly                                                                          \n",
              "4  lawn around structure fire residential undetermined undetermined formerly                                                                                                          \n",
              "5  vehicle vehicle part vehicle fire undetermined engine area vehicle                                                                                                                 \n",
              "6  detached dwelling fire residential incandescent lamp light bulb spotlight sleeping area bedroom patient room dormitory etc induration                                              \n",
              "7  multi unit dwelling unit alarm highrise residential distribution equipment includes panel boards fuses circuit br mechanical electrical service room electrical wiring induration  \n",
              "8  court facility alarm commercial industrial heating equipment office paper cardboard                                                                                                \n",
              "9  automobile vehicle fire undetermined undetermined formerly                                                                                                                         "
            ]
          },
          "metadata": {},
          "execution_count": 163
        }
      ]
    },
    {
      "cell_type": "code",
      "metadata": {
        "colab": {
          "base_uri": "https://localhost:8080/"
        },
        "id": "y868N55j5cHo",
        "outputId": "899987cb-5e2a-4a07-98ca-bdb9ade44d7f"
      },
      "source": [
        "#check if there's empty string as a result of text cleaning\n",
        "#df_p[df_p['text_cleaned_final']==\"\"].shape[0]"
      ],
      "execution_count": null,
      "outputs": [
        {
          "output_type": "execute_result",
          "data": {
            "text/plain": [
              "1303"
            ]
          },
          "metadata": {},
          "execution_count": 39
        }
      ]
    },
    {
      "cell_type": "markdown",
      "metadata": {
        "id": "SeXmabzXBrxN"
      },
      "source": [
        "Next step: Generate feature from cleaned text\n",
        "Below codes are for BOWs"
      ]
    },
    {
      "cell_type": "code",
      "metadata": {
        "id": "wKMR3qL2SEek"
      },
      "source": [
        "df_test['LABEL']=df_c['LABEL'][0:10000]"
      ],
      "execution_count": null,
      "outputs": []
    },
    {
      "cell_type": "code",
      "metadata": {
        "colab": {
          "base_uri": "https://localhost:8080/"
        },
        "id": "jKCuhEqc5cHo",
        "outputId": "6db80fa1-aa2a-4e3e-ba3d-4b8e5502a7aa"
      },
      "source": [
        "df_test['LABEL'].value_counts()"
      ],
      "execution_count": null,
      "outputs": [
        {
          "output_type": "execute_result",
          "data": {
            "text/plain": [
              "0    9590\n",
              "1    410 \n",
              "Name: LABEL, dtype: int64"
            ]
          },
          "metadata": {},
          "execution_count": 165
        }
      ]
    },
    {
      "cell_type": "code",
      "metadata": {
        "id": "rfho-Jxu5cHp"
      },
      "source": [
        "# dominant category is 'no casulaty'\n",
        "casualty=df_test[df_test['LABEL']==1]\n",
        "no_casualty=df_test[df_test['LABEL']==0]"
      ],
      "execution_count": null,
      "outputs": []
    },
    {
      "cell_type": "code",
      "metadata": {
        "colab": {
          "base_uri": "https://localhost:8080/"
        },
        "id": "VIigUyOC5cHq",
        "outputId": "63753bf2-f67b-4246-efd4-d1c29560231c"
      },
      "source": [
        "# downsampling\n",
        "no_casualty = no_casualty.sample(casualty.shape[0], random_state=10)\n",
        "no_casualty.shape, casualty.shape"
      ],
      "execution_count": null,
      "outputs": [
        {
          "output_type": "execute_result",
          "data": {
            "text/plain": [
              "((410, 11), (410, 11))"
            ]
          },
          "metadata": {},
          "execution_count": 167
        }
      ]
    },
    {
      "cell_type": "code",
      "metadata": {
        "colab": {
          "base_uri": "https://localhost:8080/"
        },
        "id": "zerlyMo45cHr",
        "outputId": "9e3ba321-1afd-408d-f595-36cba27117a0"
      },
      "source": [
        "#re-balanced data\n",
        "data=no_casualty.append(casualty,ignore_index=True)\n",
        "data['LABEL'].value_counts()"
      ],
      "execution_count": null,
      "outputs": [
        {
          "output_type": "execute_result",
          "data": {
            "text/plain": [
              "1    410\n",
              "0    410\n",
              "Name: LABEL, dtype: int64"
            ]
          },
          "metadata": {},
          "execution_count": 168
        }
      ]
    },
    {
      "cell_type": "markdown",
      "metadata": {
        "id": "oNAVorwpBnK2"
      },
      "source": [
        ""
      ]
    },
    {
      "cell_type": "code",
      "metadata": {
        "colab": {
          "base_uri": "https://localhost:8080/"
        },
        "id": "2DVY_95c5cHr",
        "outputId": "345c622e-49ca-42b7-e4a1-96662c8e18ea"
      },
      "source": [
        "X_train, X_test, y_train, y_test = train_test_split(data[\"text_cleaned_final\"], data[\"LABEL\"], test_size=0.2, random_state=10086, stratify=data[\"LABEL\"])\n",
        "print(X_train.shape)\n",
        "print(X_test.shape)"
      ],
      "execution_count": null,
      "outputs": [
        {
          "output_type": "stream",
          "name": "stdout",
          "text": [
            "(656,)\n",
            "(164,)\n"
          ]
        }
      ]
    },
    {
      "cell_type": "code",
      "metadata": {
        "id": "-_wEv_gV5cHs"
      },
      "source": [
        "# an alternative count vetorizer then use PCA to reduce?"
      ],
      "execution_count": null,
      "outputs": []
    },
    {
      "cell_type": "code",
      "metadata": {
        "id": "terLpudN5cHs"
      },
      "source": [
        "from sklearn.pipeline import Pipeline\n",
        "from sklearn.preprocessing import StandardScaler\n",
        "from sklearn.linear_model import LogisticRegression\n",
        "from sklearn.metrics import accuracy_score, f1_score, roc_auc_score\n",
        "from sklearn.base import TransformerMixin\n",
        "class DenseTransformer(TransformerMixin):\n",
        "    def fit(self, X, y=None, **fit_params):\n",
        "        return self\n",
        "    def transform(self, X, y=None, **fit_params):\n",
        "        return X.todense()"
      ],
      "execution_count": null,
      "outputs": []
    },
    {
      "cell_type": "markdown",
      "metadata": {
        "id": "owCd9by35cHt"
      },
      "source": [
        "1) bag-of-words: extract top words with highest coefficients"
      ]
    },
    {
      "cell_type": "code",
      "metadata": {
        "colab": {
          "base_uri": "https://localhost:8080/"
        },
        "id": "Klf09JiQ5cHt",
        "outputId": "798c279c-f3b6-4446-e59e-d080bba204c1"
      },
      "source": [
        "pipeline_bow = Pipeline([('vectorizer', CountVectorizer(max_features=1000)), ('dtf', DenseTransformer()),('scaler', StandardScaler()), ('LR', LogisticRegression(random_state=2020))])\n",
        "pipeline_bow.fit(X_train, y_train)"
      ],
      "execution_count": null,
      "outputs": [
        {
          "output_type": "execute_result",
          "data": {
            "text/plain": [
              "Pipeline(steps=[('vectorizer', CountVectorizer(max_features=1000)),\n",
              "                ('dtf', <__main__.DenseTransformer object at 0x7fbc4cd60f90>),\n",
              "                ('scaler', StandardScaler()),\n",
              "                ('LR', LogisticRegression(random_state=2020))])"
            ]
          },
          "metadata": {},
          "execution_count": 171
        }
      ]
    },
    {
      "cell_type": "code",
      "metadata": {
        "colab": {
          "base_uri": "https://localhost:8080/"
        },
        "id": "tf9cS5A15cHt",
        "outputId": "b37baad5-c198-4ef5-f884-b7cb4426d209"
      },
      "source": [
        "#accuracy\n",
        "pipeline_bow.score(X_test,y_test)"
      ],
      "execution_count": null,
      "outputs": [
        {
          "output_type": "execute_result",
          "data": {
            "text/plain": [
              "0.6585365853658537"
            ]
          },
          "metadata": {},
          "execution_count": 172
        }
      ]
    },
    {
      "cell_type": "code",
      "metadata": {
        "colab": {
          "base_uri": "https://localhost:8080/"
        },
        "id": "8Douuukg5cHu",
        "outputId": "ed032589-ffa6-4232-9136-397c2356a98b"
      },
      "source": [
        "## f1 score\n",
        "f1_score(y_test,pipeline_bow.predict(X_test))"
      ],
      "execution_count": null,
      "outputs": [
        {
          "output_type": "execute_result",
          "data": {
            "text/plain": [
              "0.654320987654321"
            ]
          },
          "metadata": {},
          "execution_count": 173
        }
      ]
    },
    {
      "cell_type": "code",
      "metadata": {
        "colab": {
          "base_uri": "https://localhost:8080/"
        },
        "id": "CD2no0__5cHu",
        "outputId": "5a9abd85-0f43-4288-df02-e2c30c2ddc02"
      },
      "source": [
        "## roc auc score\n",
        "roc_auc_score(y_test, pipeline_bow.predict_proba(X_test)[:,1])"
      ],
      "execution_count": null,
      "outputs": [
        {
          "output_type": "execute_result",
          "data": {
            "text/plain": [
              "0.7153480071386078"
            ]
          },
          "metadata": {},
          "execution_count": 174
        }
      ]
    },
    {
      "cell_type": "code",
      "metadata": {
        "id": "7rvcKQac5cHu"
      },
      "source": [
        "#coefficients (coef_) of your logisitic regression model, which features are most positively/negatively correlated with toxic comments?\n",
        "feature_names=pipeline_bow.named_steps['vectorizer'].get_feature_names()"
      ],
      "execution_count": null,
      "outputs": []
    },
    {
      "cell_type": "code",
      "metadata": {
        "colab": {
          "base_uri": "https://localhost:8080/"
        },
        "id": "EW5jd8EM5cHv",
        "outputId": "e623b8df-e925-4e8a-95e9-52f6064502e9"
      },
      "source": [
        "len(feature_names)"
      ],
      "execution_count": null,
      "outputs": [
        {
          "output_type": "execute_result",
          "data": {
            "text/plain": [
              "184"
            ]
          },
          "metadata": {},
          "execution_count": 176
        }
      ]
    },
    {
      "cell_type": "code",
      "metadata": {
        "id": "2GUgmyHM5cHv"
      },
      "source": [
        "feature_coeff=pipeline_bow.named_steps['LR'].coef_[0]\n",
        "feature_df=pd.DataFrame()\n",
        "feature_df['feature']=feature_names\n",
        "feature_df['coeff']=feature_coeff\n",
        "feature_df['abs']=np.abs(feature_coeff)\n",
        "feature_df.sort_values(by='abs',ascending=False, inplace=True)"
      ],
      "execution_count": null,
      "outputs": []
    },
    {
      "cell_type": "code",
      "metadata": {
        "colab": {
          "base_uri": "https://localhost:8080/",
          "height": 1000
        },
        "id": "J8CbrvJy5cHv",
        "outputId": "f75688c1-791a-4f46-d72a-b9731f38577a"
      },
      "source": [
        "feature_df.head(50)"
      ],
      "execution_count": null,
      "outputs": [
        {
          "output_type": "execute_result",
          "data": {
            "text/html": [
              "<div>\n",
              "<style scoped>\n",
              "    .dataframe tbody tr th:only-of-type {\n",
              "        vertical-align: middle;\n",
              "    }\n",
              "\n",
              "    .dataframe tbody tr th {\n",
              "        vertical-align: top;\n",
              "    }\n",
              "\n",
              "    .dataframe thead th {\n",
              "        text-align: right;\n",
              "    }\n",
              "</style>\n",
              "<table border=\"1\" class=\"dataframe\">\n",
              "  <thead>\n",
              "    <tr style=\"text-align: right;\">\n",
              "      <th></th>\n",
              "      <th>feature</th>\n",
              "      <th>coeff</th>\n",
              "      <th>abs</th>\n",
              "    </tr>\n",
              "  </thead>\n",
              "  <tbody>\n",
              "    <tr>\n",
              "      <th>151</th>\n",
              "      <td>soft</td>\n",
              "      <td>-1.408494</td>\n",
              "      <td>1.408494</td>\n",
              "    </tr>\n",
              "    <tr>\n",
              "      <th>172</th>\n",
              "      <td>undetermined</td>\n",
              "      <td>-0.981390</td>\n",
              "      <td>0.981390</td>\n",
              "    </tr>\n",
              "    <tr>\n",
              "      <th>8</th>\n",
              "      <td>attached</td>\n",
              "      <td>0.908297</td>\n",
              "      <td>0.908297</td>\n",
              "    </tr>\n",
              "    <tr>\n",
              "      <th>137</th>\n",
              "      <td>restaurant</td>\n",
              "      <td>0.877608</td>\n",
              "      <td>0.877608</td>\n",
              "    </tr>\n",
              "    <tr>\n",
              "      <th>87</th>\n",
              "      <td>lawn</td>\n",
              "      <td>-0.807004</td>\n",
              "      <td>0.807004</td>\n",
              "    </tr>\n",
              "    <tr>\n",
              "      <th>141</th>\n",
              "      <td>room</td>\n",
              "      <td>0.780192</td>\n",
              "      <td>0.780192</td>\n",
              "    </tr>\n",
              "    <tr>\n",
              "      <th>160</th>\n",
              "      <td>system</td>\n",
              "      <td>0.758446</td>\n",
              "      <td>0.758446</td>\n",
              "    </tr>\n",
              "    <tr>\n",
              "      <th>111</th>\n",
              "      <td>open</td>\n",
              "      <td>-0.756077</td>\n",
              "      <td>0.756077</td>\n",
              "    </tr>\n",
              "    <tr>\n",
              "      <th>49</th>\n",
              "      <td>dwyer</td>\n",
              "      <td>-0.750875</td>\n",
              "      <td>0.750875</td>\n",
              "    </tr>\n",
              "    <tr>\n",
              "      <th>42</th>\n",
              "      <td>cowhouse</td>\n",
              "      <td>-0.732141</td>\n",
              "      <td>0.732141</td>\n",
              "    </tr>\n",
              "    <tr>\n",
              "      <th>70</th>\n",
              "      <td>goods</td>\n",
              "      <td>0.721696</td>\n",
              "      <td>0.721696</td>\n",
              "    </tr>\n",
              "    <tr>\n",
              "      <th>157</th>\n",
              "      <td>structure</td>\n",
              "      <td>-0.701711</td>\n",
              "      <td>0.701711</td>\n",
              "    </tr>\n",
              "    <tr>\n",
              "      <th>128</th>\n",
              "      <td>pole</td>\n",
              "      <td>-0.672136</td>\n",
              "      <td>0.672136</td>\n",
              "    </tr>\n",
              "    <tr>\n",
              "      <th>10</th>\n",
              "      <td>automobile</td>\n",
              "      <td>-0.664600</td>\n",
              "      <td>0.664600</td>\n",
              "    </tr>\n",
              "    <tr>\n",
              "      <th>65</th>\n",
              "      <td>formerly</td>\n",
              "      <td>0.654875</td>\n",
              "      <td>0.654875</td>\n",
              "    </tr>\n",
              "    <tr>\n",
              "      <th>80</th>\n",
              "      <td>industrial</td>\n",
              "      <td>-0.654235</td>\n",
              "      <td>0.654235</td>\n",
              "    </tr>\n",
              "    <tr>\n",
              "      <th>107</th>\n",
              "      <td>object</td>\n",
              "      <td>-0.620197</td>\n",
              "      <td>0.620197</td>\n",
              "    </tr>\n",
              "    <tr>\n",
              "      <th>140</th>\n",
              "      <td>roof</td>\n",
              "      <td>-0.600848</td>\n",
              "      <td>0.600848</td>\n",
              "    </tr>\n",
              "    <tr>\n",
              "      <th>3</th>\n",
              "      <td>apparel</td>\n",
              "      <td>0.594372</td>\n",
              "      <td>0.594372</td>\n",
              "    </tr>\n",
              "    <tr>\n",
              "      <th>181</th>\n",
              "      <td>wearing</td>\n",
              "      <td>0.594372</td>\n",
              "      <td>0.594372</td>\n",
              "    </tr>\n",
              "    <tr>\n",
              "      <th>37</th>\n",
              "      <td>container</td>\n",
              "      <td>-0.581492</td>\n",
              "      <td>0.581492</td>\n",
              "    </tr>\n",
              "    <tr>\n",
              "      <th>101</th>\n",
              "      <td>mug</td>\n",
              "      <td>-0.560638</td>\n",
              "      <td>0.560638</td>\n",
              "    </tr>\n",
              "    <tr>\n",
              "      <th>81</th>\n",
              "      <td>industry</td>\n",
              "      <td>-0.560582</td>\n",
              "      <td>0.560582</td>\n",
              "    </tr>\n",
              "    <tr>\n",
              "      <th>112</th>\n",
              "      <td>outdoor</td>\n",
              "      <td>-0.560211</td>\n",
              "      <td>0.560211</td>\n",
              "    </tr>\n",
              "    <tr>\n",
              "      <th>71</th>\n",
              "      <td>grass</td>\n",
              "      <td>-0.555478</td>\n",
              "      <td>0.555478</td>\n",
              "    </tr>\n",
              "    <tr>\n",
              "      <th>35</th>\n",
              "      <td>clothes</td>\n",
              "      <td>0.550056</td>\n",
              "      <td>0.550056</td>\n",
              "    </tr>\n",
              "    <tr>\n",
              "      <th>118</th>\n",
              "      <td>part</td>\n",
              "      <td>-0.547804</td>\n",
              "      <td>0.547804</td>\n",
              "    </tr>\n",
              "    <tr>\n",
              "      <th>136</th>\n",
              "      <td>residential</td>\n",
              "      <td>0.538404</td>\n",
              "      <td>0.538404</td>\n",
              "    </tr>\n",
              "    <tr>\n",
              "      <th>26</th>\n",
              "      <td>cause</td>\n",
              "      <td>-0.534734</td>\n",
              "      <td>0.534734</td>\n",
              "    </tr>\n",
              "    <tr>\n",
              "      <th>27</th>\n",
              "      <td>ceiling</td>\n",
              "      <td>-0.510910</td>\n",
              "      <td>0.510910</td>\n",
              "    </tr>\n",
              "    <tr>\n",
              "      <th>44</th>\n",
              "      <td>distribution</td>\n",
              "      <td>-0.499111</td>\n",
              "      <td>0.499111</td>\n",
              "    </tr>\n",
              "    <tr>\n",
              "      <th>50</th>\n",
              "      <td>electrical</td>\n",
              "      <td>-0.496665</td>\n",
              "      <td>0.496665</td>\n",
              "    </tr>\n",
              "    <tr>\n",
              "      <th>57</th>\n",
              "      <td>far</td>\n",
              "      <td>0.493871</td>\n",
              "      <td>0.493871</td>\n",
              "    </tr>\n",
              "    <tr>\n",
              "      <th>68</th>\n",
              "      <td>garage</td>\n",
              "      <td>0.492924</td>\n",
              "      <td>0.492924</td>\n",
              "    </tr>\n",
              "    <tr>\n",
              "      <th>62</th>\n",
              "      <td>flame</td>\n",
              "      <td>0.488319</td>\n",
              "      <td>0.488319</td>\n",
              "    </tr>\n",
              "    <tr>\n",
              "      <th>103</th>\n",
              "      <td>multiple</td>\n",
              "      <td>0.477924</td>\n",
              "      <td>0.477924</td>\n",
              "    </tr>\n",
              "    <tr>\n",
              "      <th>92</th>\n",
              "      <td>linen</td>\n",
              "      <td>-0.473474</td>\n",
              "      <td>0.473474</td>\n",
              "    </tr>\n",
              "    <tr>\n",
              "      <th>79</th>\n",
              "      <td>induration</td>\n",
              "      <td>-0.471976</td>\n",
              "      <td>0.471976</td>\n",
              "    </tr>\n",
              "    <tr>\n",
              "      <th>182</th>\n",
              "      <td>wiring</td>\n",
              "      <td>0.465930</td>\n",
              "      <td>0.465930</td>\n",
              "    </tr>\n",
              "    <tr>\n",
              "      <th>9</th>\n",
              "      <td>auto</td>\n",
              "      <td>0.452334</td>\n",
              "      <td>0.452334</td>\n",
              "    </tr>\n",
              "    <tr>\n",
              "      <th>69</th>\n",
              "      <td>general</td>\n",
              "      <td>0.452334</td>\n",
              "      <td>0.452334</td>\n",
              "    </tr>\n",
              "    <tr>\n",
              "      <th>36</th>\n",
              "      <td>commercial</td>\n",
              "      <td>0.444125</td>\n",
              "      <td>0.444125</td>\n",
              "    </tr>\n",
              "    <tr>\n",
              "      <th>133</th>\n",
              "      <td>range</td>\n",
              "      <td>0.422712</td>\n",
              "      <td>0.422712</td>\n",
              "    </tr>\n",
              "    <tr>\n",
              "      <th>168</th>\n",
              "      <td>trash</td>\n",
              "      <td>0.412750</td>\n",
              "      <td>0.412750</td>\n",
              "    </tr>\n",
              "    <tr>\n",
              "      <th>154</th>\n",
              "      <td>store</td>\n",
              "      <td>-0.401658</td>\n",
              "      <td>0.401658</td>\n",
              "    </tr>\n",
              "    <tr>\n",
              "      <th>2</th>\n",
              "      <td>apartment</td>\n",
              "      <td>-0.380984</td>\n",
              "      <td>0.380984</td>\n",
              "    </tr>\n",
              "    <tr>\n",
              "      <th>56</th>\n",
              "      <td>facility</td>\n",
              "      <td>-0.377499</td>\n",
              "      <td>0.377499</td>\n",
              "    </tr>\n",
              "    <tr>\n",
              "      <th>146</th>\n",
              "      <td>sidewalk</td>\n",
              "      <td>-0.365302</td>\n",
              "      <td>0.365302</td>\n",
              "    </tr>\n",
              "    <tr>\n",
              "      <th>139</th>\n",
              "      <td>roadway</td>\n",
              "      <td>-0.365302</td>\n",
              "      <td>0.365302</td>\n",
              "    </tr>\n",
              "    <tr>\n",
              "      <th>156</th>\n",
              "      <td>street</td>\n",
              "      <td>-0.365302</td>\n",
              "      <td>0.365302</td>\n",
              "    </tr>\n",
              "  </tbody>\n",
              "</table>\n",
              "</div>"
            ],
            "text/plain": [
              "          feature     coeff       abs\n",
              "151  soft         -1.408494  1.408494\n",
              "172  undetermined -0.981390  0.981390\n",
              "8    attached      0.908297  0.908297\n",
              "137  restaurant    0.877608  0.877608\n",
              "87   lawn         -0.807004  0.807004\n",
              "141  room          0.780192  0.780192\n",
              "160  system        0.758446  0.758446\n",
              "111  open         -0.756077  0.756077\n",
              "49   dwyer        -0.750875  0.750875\n",
              "42   cowhouse     -0.732141  0.732141\n",
              "70   goods         0.721696  0.721696\n",
              "157  structure    -0.701711  0.701711\n",
              "128  pole         -0.672136  0.672136\n",
              "10   automobile   -0.664600  0.664600\n",
              "65   formerly      0.654875  0.654875\n",
              "80   industrial   -0.654235  0.654235\n",
              "107  object       -0.620197  0.620197\n",
              "140  roof         -0.600848  0.600848\n",
              "3    apparel       0.594372  0.594372\n",
              "181  wearing       0.594372  0.594372\n",
              "37   container    -0.581492  0.581492\n",
              "101  mug          -0.560638  0.560638\n",
              "81   industry     -0.560582  0.560582\n",
              "112  outdoor      -0.560211  0.560211\n",
              "71   grass        -0.555478  0.555478\n",
              "35   clothes       0.550056  0.550056\n",
              "118  part         -0.547804  0.547804\n",
              "136  residential   0.538404  0.538404\n",
              "26   cause        -0.534734  0.534734\n",
              "27   ceiling      -0.510910  0.510910\n",
              "44   distribution -0.499111  0.499111\n",
              "50   electrical   -0.496665  0.496665\n",
              "57   far           0.493871  0.493871\n",
              "68   garage        0.492924  0.492924\n",
              "62   flame         0.488319  0.488319\n",
              "103  multiple      0.477924  0.477924\n",
              "92   linen        -0.473474  0.473474\n",
              "79   induration   -0.471976  0.471976\n",
              "182  wiring        0.465930  0.465930\n",
              "9    auto          0.452334  0.452334\n",
              "69   general       0.452334  0.452334\n",
              "36   commercial    0.444125  0.444125\n",
              "133  range         0.422712  0.422712\n",
              "168  trash         0.412750  0.412750\n",
              "154  store        -0.401658  0.401658\n",
              "2    apartment    -0.380984  0.380984\n",
              "56   facility     -0.377499  0.377499\n",
              "146  sidewalk     -0.365302  0.365302\n",
              "139  roadway      -0.365302  0.365302\n",
              "156  street       -0.365302  0.365302"
            ]
          },
          "metadata": {},
          "execution_count": 178
        }
      ]
    },
    {
      "cell_type": "code",
      "metadata": {
        "id": "rFueLwNr5cHw"
      },
      "source": [
        "bow_feature=feature_df['feature'][0:50].to_list()"
      ],
      "execution_count": null,
      "outputs": []
    },
    {
      "cell_type": "markdown",
      "metadata": {
        "id": "Y6vs-zYEbl_4"
      },
      "source": [
        "INCOMPLETE BELOW THIS LINE"
      ]
    },
    {
      "cell_type": "code",
      "metadata": {
        "id": "BUXivq-R5cHw"
      },
      "source": [
        "bow_feature_names=[str(x)+'_encoded' for x in bow_feature]"
      ],
      "execution_count": null,
      "outputs": []
    },
    {
      "cell_type": "code",
      "metadata": {
        "id": "XYnWO-Bz5cHw"
      },
      "source": [
        "#create features using bow for property_use\n",
        "['combined_feature']=['text_cleaned_final'].apply(lambda x: ' '.join([w for w in str(x).split() if w in bow_feature]))"
      ],
      "execution_count": null,
      "outputs": []
    },
    {
      "cell_type": "code",
      "metadata": {
        "id": "bAC6FuAH5cHx"
      },
      "source": [
        "pipeline_feature_vector = Pipeline([('vectorizer', CountVectorizer(max_features=1000)), ('dtf', DenseTransformer())])\n",
        "feature_from_Property_use=pipeline_feature_vector.fit_transform(df_p['property_use'], df_p['LABEL']) #stored as a matrix"
      ],
      "execution_count": null,
      "outputs": []
    },
    {
      "cell_type": "markdown",
      "metadata": {
        "id": "tEhSraq95cHx"
      },
      "source": [
        "2) word2vec "
      ]
    }
  ]
}