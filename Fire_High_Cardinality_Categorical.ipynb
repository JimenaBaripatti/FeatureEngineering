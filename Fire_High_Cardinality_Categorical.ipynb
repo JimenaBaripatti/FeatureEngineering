{
  "nbformat": 4,
  "nbformat_minor": 0,
  "metadata": {
    "colab": {
      "name": "Fire_High_Cardinality_Categorical.ipynb",
      "provenance": [],
      "collapsed_sections": [
        "zniR5difuc28"
      ],
      "toc_visible": true,
      "authorship_tag": "ABX9TyMzIT0LH8J6vAeOkJF99I6g",
      "include_colab_link": true
    },
    "kernelspec": {
      "name": "python3",
      "display_name": "Python 3"
    },
    "language_info": {
      "name": "python"
    }
  },
  "cells": [
    {
      "cell_type": "markdown",
      "metadata": {
        "id": "view-in-github",
        "colab_type": "text"
      },
      "source": [
        "<a href=\"https://colab.research.google.com/github/JimenaBaripatti/FeatureEngineering/blob/main/Fire_High_Cardinality_Categorical.ipynb\" target=\"_parent\"><img src=\"https://colab.research.google.com/assets/colab-badge.svg\" alt=\"Open In Colab\"/></a>"
      ]
    },
    {
      "cell_type": "markdown",
      "metadata": {
        "id": "wGuiEx0Zkr9K"
      },
      "source": [
        "**To review/impute/FE Categorical variables with high cardinality"
      ]
    },
    {
      "cell_type": "code",
      "metadata": {
        "colab": {
          "base_uri": "https://localhost:8080/"
        },
        "id": "cizTrfNHRyyu",
        "outputId": "9e9316db-7cdb-4cd2-e03e-5775de4a8a18"
      },
      "source": [
        "from google.colab import drive\n",
        "drive.mount('/content/drive')"
      ],
      "execution_count": 1,
      "outputs": [
        {
          "output_type": "stream",
          "name": "stdout",
          "text": [
            "Mounted at /content/drive\n"
          ]
        }
      ]
    },
    {
      "cell_type": "code",
      "metadata": {
        "colab": {
          "base_uri": "https://localhost:8080/"
        },
        "id": "heGB8lJx9NWF",
        "outputId": "f9fef4e1-3e18-4bad-c9a4-601ae09caa04"
      },
      "source": [
        "# setting up libraries\n",
        "import os\n",
        "import pandas as pd\n",
        "import numpy as np\n",
        "import matplotlib.pyplot as plt\n",
        "import seaborn as sns\n",
        "from scipy.stats import norm \n",
        "import statistics\n",
        "from sklearn.metrics import matthews_corrcoef\n",
        "from scipy.stats import chi2_contingency\n",
        "import math\n",
        "from patsy import dmatrices\n",
        "from statsmodels.stats.outliers_influence import variance_inflation_factor\n",
        "from sklearn.ensemble import IsolationForest\n",
        "from scipy.stats import zscore\n",
        "from textblob import TextBlob\n",
        "\n",
        "pd.set_option('display.max_rows', None)\n",
        "pd.set_option('display.max_columns', None)\n",
        "pd.set_option('display.width', None)\n",
        "pd.set_option('display.max_colwidth', -1)\n",
        "\n",
        "%matplotlib inline\n",
        "\n",
        "\n",
        "# Setting working directory\n",
        "#os.chdir(\"/content/drive/MyDrive/Colab Notebooks/Data/\")"
      ],
      "execution_count": 2,
      "outputs": [
        {
          "output_type": "stream",
          "name": "stderr",
          "text": [
            "/usr/local/lib/python3.7/dist-packages/statsmodels/tools/_testing.py:19: FutureWarning: pandas.util.testing is deprecated. Use the functions in the public API at pandas.testing instead.\n",
            "  import pandas.util.testing as tm\n",
            "/usr/local/lib/python3.7/dist-packages/ipykernel_launcher.py:21: FutureWarning: Passing a negative integer is deprecated in version 1.0 and will not be supported in future version. Instead, use None to not limit the column width.\n"
          ]
        }
      ]
    },
    {
      "cell_type": "code",
      "metadata": {
        "colab": {
          "base_uri": "https://localhost:8080/"
        },
        "id": "hCU3PPEyfEQL",
        "outputId": "b3ca5d94-ca86-4011-fc9d-06757a803d2c"
      },
      "source": [
        "!pip install category_encoders"
      ],
      "execution_count": 3,
      "outputs": [
        {
          "output_type": "stream",
          "name": "stdout",
          "text": [
            "Collecting category_encoders\n",
            "  Downloading category_encoders-2.3.0-py2.py3-none-any.whl (82 kB)\n",
            "\u001b[?25l\r\u001b[K     |████                            | 10 kB 25.1 MB/s eta 0:00:01\r\u001b[K     |████████                        | 20 kB 28.6 MB/s eta 0:00:01\r\u001b[K     |████████████                    | 30 kB 32.4 MB/s eta 0:00:01\r\u001b[K     |████████████████                | 40 kB 34.2 MB/s eta 0:00:01\r\u001b[K     |████████████████████            | 51 kB 35.9 MB/s eta 0:00:01\r\u001b[K     |████████████████████████        | 61 kB 29.8 MB/s eta 0:00:01\r\u001b[K     |████████████████████████████    | 71 kB 26.9 MB/s eta 0:00:01\r\u001b[K     |███████████████████████████████▉| 81 kB 27.9 MB/s eta 0:00:01\r\u001b[K     |████████████████████████████████| 82 kB 481 kB/s \n",
            "\u001b[?25hRequirement already satisfied: statsmodels>=0.9.0 in /usr/local/lib/python3.7/dist-packages (from category_encoders) (0.10.2)\n",
            "Requirement already satisfied: scipy>=1.0.0 in /usr/local/lib/python3.7/dist-packages (from category_encoders) (1.4.1)\n",
            "Requirement already satisfied: numpy>=1.14.0 in /usr/local/lib/python3.7/dist-packages (from category_encoders) (1.19.5)\n",
            "Requirement already satisfied: patsy>=0.5.1 in /usr/local/lib/python3.7/dist-packages (from category_encoders) (0.5.2)\n",
            "Requirement already satisfied: pandas>=0.21.1 in /usr/local/lib/python3.7/dist-packages (from category_encoders) (1.1.5)\n",
            "Requirement already satisfied: scikit-learn>=0.20.0 in /usr/local/lib/python3.7/dist-packages (from category_encoders) (1.0.1)\n",
            "Requirement already satisfied: python-dateutil>=2.7.3 in /usr/local/lib/python3.7/dist-packages (from pandas>=0.21.1->category_encoders) (2.8.2)\n",
            "Requirement already satisfied: pytz>=2017.2 in /usr/local/lib/python3.7/dist-packages (from pandas>=0.21.1->category_encoders) (2018.9)\n",
            "Requirement already satisfied: six in /usr/local/lib/python3.7/dist-packages (from patsy>=0.5.1->category_encoders) (1.15.0)\n",
            "Requirement already satisfied: threadpoolctl>=2.0.0 in /usr/local/lib/python3.7/dist-packages (from scikit-learn>=0.20.0->category_encoders) (3.0.0)\n",
            "Requirement already satisfied: joblib>=0.11 in /usr/local/lib/python3.7/dist-packages (from scikit-learn>=0.20.0->category_encoders) (1.1.0)\n",
            "Installing collected packages: category-encoders\n",
            "Successfully installed category-encoders-2.3.0\n"
          ]
        }
      ]
    },
    {
      "cell_type": "markdown",
      "metadata": {
        "id": "EYtCm1Xx86wK"
      },
      "source": [
        "# Functions"
      ]
    },
    {
      "cell_type": "code",
      "metadata": {
        "id": "nQ6DcDua9GkU"
      },
      "source": [
        "# extract categorical vs. numerical columns\n",
        "def find_diff_type_var(df):\n",
        "    cat_var = df.loc[:,df.dtypes == np.object].columns\n",
        "    num_var = df.loc[:,df.dtypes != np.object].columns\n",
        "    return(cat_var, num_var)"
      ],
      "execution_count": 4,
      "outputs": []
    },
    {
      "cell_type": "code",
      "metadata": {
        "id": "FVaw8g-OhBim"
      },
      "source": [
        "# explore different variables\n",
        "def exploration_cat(c):\n",
        "\n",
        "  print('---------------------------------------')\n",
        "\n",
        "  print('variable name:', c, '\\n')\n",
        "  print('number of categories: ' ,df[c].unique().shape[0], '\\n')\n",
        "  print(df[c].value_counts(normalize=True, dropna=False))\n",
        "\n",
        "  print('---------------------------------------')"
      ],
      "execution_count": 5,
      "outputs": []
    },
    {
      "cell_type": "code",
      "metadata": {
        "id": "JjfaFyhQcqCz"
      },
      "source": [
        "# plot categorical variables\n",
        "def plot_cat(c):\n",
        "  plt.figure(figsize=(20,7))\n",
        "  cat_count=df[c].value_counts(normalize=True, dropna=False)\n",
        "  fig=sns.barplot(100*cat_count.values[0:11], cat_count.index[0:11], alpha=0.9)\n",
        "  plt.title('Frequency Distribution of ' + str(c))\n",
        "  plt.xlabel('% occurences', fontsize=12)\n",
        "  #fig.set_yticklabels(fig.get_yticklabels(),rotation=45, horizontalalignment='right')\n",
        "  plt.show()\n"
      ],
      "execution_count": 6,
      "outputs": []
    },
    {
      "cell_type": "code",
      "metadata": {
        "id": "t5CqE5BMH_Ds"
      },
      "source": [
        "# frequency encoding\n",
        "def freq_encode(c):\n",
        "  freq_count=df[c].value_counts(normalize=True).to_dict()\n",
        "  c_imputed=str(c)+'_imputed'\n",
        "  df[c_imputed]=df[c].map(freq_count)\n",
        "  return df"
      ],
      "execution_count": 7,
      "outputs": []
    },
    {
      "cell_type": "code",
      "metadata": {
        "id": "DgnkS9l4K54h"
      },
      "source": [
        "# Impute with the most frequent category\n",
        "def impute_frequent (c):\n",
        "  top_cat=df[c].value_counts().nlargest(1).index[0]\n",
        "  index_to_impute=df[df[c].isnull()].index\n",
        "  df.at[index_to_impute,c]=top_cat\n",
        "  return df"
      ],
      "execution_count": 8,
      "outputs": []
    },
    {
      "cell_type": "code",
      "metadata": {
        "id": "LFch7xp1ew5R"
      },
      "source": [
        "# use WOE for categorical variables - feature creation based on the output woe value\n",
        "def woe_encoder(c,target):\n",
        "  from category_encoders import WOEEncoder\n",
        "  x = WOEEncoder()\n",
        "  x.fit(df[c],df[target])\n",
        "  df[str(c)+'_woe']=x.transform(df[c],df[target])\n",
        "  return df"
      ],
      "execution_count": 9,
      "outputs": []
    },
    {
      "cell_type": "markdown",
      "metadata": {
        "id": "n4aTJSTUQEe3"
      },
      "source": [
        "# Load Complete Fire Data\n"
      ]
    },
    {
      "cell_type": "code",
      "metadata": {
        "id": "sjbj2yLbQiwa"
      },
      "source": [
        "df=pd.read_csv('https://raw.githubusercontent.com/JimenaBaripatti/FeatureEngineering/main/data/current_dataset/fire_incident_station_weather_demo_combined.csv', index_col=[0])"
      ],
      "execution_count": 10,
      "outputs": []
    },
    {
      "cell_type": "code",
      "metadata": {
        "colab": {
          "base_uri": "https://localhost:8080/"
        },
        "id": "ShxM_UFC24vz",
        "outputId": "fa033f2f-1e13-4c21-f314-44c71494d46e"
      },
      "source": [
        "df.shape"
      ],
      "execution_count": 11,
      "outputs": [
        {
          "output_type": "execute_result",
          "data": {
            "text/plain": [
              "(17536, 106)"
            ]
          },
          "metadata": {},
          "execution_count": 11
        }
      ]
    },
    {
      "cell_type": "code",
      "metadata": {
        "colab": {
          "base_uri": "https://localhost:8080/",
          "height": 335
        },
        "id": "xa_TMc8mRdhv",
        "outputId": "043410e8-641b-4c02-ec00-94b4b80de253"
      },
      "source": [
        "df.head(2)"
      ],
      "execution_count": 11,
      "outputs": [
        {
          "output_type": "execute_result",
          "data": {
            "text/html": [
              "<div>\n",
              "<style scoped>\n",
              "    .dataframe tbody tr th:only-of-type {\n",
              "        vertical-align: middle;\n",
              "    }\n",
              "\n",
              "    .dataframe tbody tr th {\n",
              "        vertical-align: top;\n",
              "    }\n",
              "\n",
              "    .dataframe thead th {\n",
              "        text-align: right;\n",
              "    }\n",
              "</style>\n",
              "<table border=\"1\" class=\"dataframe\">\n",
              "  <thead>\n",
              "    <tr style=\"text-align: right;\">\n",
              "      <th></th>\n",
              "      <th>_id_x</th>\n",
              "      <th>Area_of_Origin</th>\n",
              "      <th>Building_Status</th>\n",
              "      <th>Business_Impact</th>\n",
              "      <th>Civilian_Casualties</th>\n",
              "      <th>Count_of_Persons_Rescued</th>\n",
              "      <th>Estimated_Dollar_Loss</th>\n",
              "      <th>Estimated_Number_Of_Persons_Displaced</th>\n",
              "      <th>Exposures</th>\n",
              "      <th>Ext_agent_app_or_defer_time</th>\n",
              "      <th>Extent_Of_Fire</th>\n",
              "      <th>Final_Incident_Type</th>\n",
              "      <th>Fire_Alarm_System_Impact_on_Evacuation</th>\n",
              "      <th>Fire_Alarm_System_Operation</th>\n",
              "      <th>Fire_Alarm_System_Presence</th>\n",
              "      <th>Fire_Under_Control_Time</th>\n",
              "      <th>Ignition_Source</th>\n",
              "      <th>Incident_Numberinc_</th>\n",
              "      <th>Incident_Station_Area</th>\n",
              "      <th>Incident_Ward</th>\n",
              "      <th>Initial_CAD_Event_Type</th>\n",
              "      <th>Intersection</th>\n",
              "      <th>Last_TFS_Unit_Clear_Time</th>\n",
              "      <th>Level_Of_Origin</th>\n",
              "      <th>Material_First_Ignited</th>\n",
              "      <th>Method_Of_Fire_Control</th>\n",
              "      <th>Number_of_responding_apparatus</th>\n",
              "      <th>Number_of_responding_personnel</th>\n",
              "      <th>Possible_Cause</th>\n",
              "      <th>Property_Use</th>\n",
              "      <th>Smoke_Alarm_at_Fire_Origin</th>\n",
              "      <th>Smoke_Alarm_at_Fire_Origin_Alarm_Failure</th>\n",
              "      <th>Smoke_Alarm_at_Fire_Origin_Alarm_Type</th>\n",
              "      <th>Smoke_Alarm_Impact_on_Persons_Evacuating_Impact_on_Evacuation</th>\n",
              "      <th>Smoke_Spread</th>\n",
              "      <th>Sprinkler_System_Operation</th>\n",
              "      <th>Sprinkler_System_Presence</th>\n",
              "      <th>Status_of_Fire_On_Arrival</th>\n",
              "      <th>TFS_Alarm_Timeinc_</th>\n",
              "      <th>TFS_Arrival_Time</th>\n",
              "      <th>TFS_Firefighter_Casualties</th>\n",
              "      <th>_id_y</th>\n",
              "      <th>ID</th>\n",
              "      <th>NAME</th>\n",
              "      <th>ADDRESS</th>\n",
              "      <th>ADDRESS_POINT_ID</th>\n",
              "      <th>ADDRESS_ID</th>\n",
              "      <th>CENTRELINE_ID</th>\n",
              "      <th>MAINT_STAGE</th>\n",
              "      <th>ADDRESS_NUMBER</th>\n",
              "      <th>LINEAR_NAME_FULL</th>\n",
              "      <th>POSTAL_CODE</th>\n",
              "      <th>GENERAL_USE</th>\n",
              "      <th>CLASS_FAMILY_DESC</th>\n",
              "      <th>ADDRESS_ID_LINK</th>\n",
              "      <th>PLACE_NAME</th>\n",
              "      <th>X</th>\n",
              "      <th>Y</th>\n",
              "      <th>LATITUDE</th>\n",
              "      <th>LONGITUDE</th>\n",
              "      <th>WARD_NAME</th>\n",
              "      <th>MUNICIPALITY_NAME</th>\n",
              "      <th>OBJECTID</th>\n",
              "      <th>geometry</th>\n",
              "      <th>fs_Longitude</th>\n",
              "      <th>fs_Latitude</th>\n",
              "      <th>Station_Area</th>\n",
              "      <th>LABEL</th>\n",
              "      <th>DISTANCE_INCIDENT_FIRESTATION</th>\n",
              "      <th>INCIDENT_DATE</th>\n",
              "      <th>DOW</th>\n",
              "      <th>IS_WEEKEND</th>\n",
              "      <th>YEAR</th>\n",
              "      <th>MONTH</th>\n",
              "      <th>MINUTES_TO_ARRIVE</th>\n",
              "      <th>TFS_ARR_DAY</th>\n",
              "      <th>TFS_ALM_DAY</th>\n",
              "      <th>TFS_ARR_HOUR</th>\n",
              "      <th>TFS_ALM_HOUR</th>\n",
              "      <th>MINUTES_TO_LEAVE</th>\n",
              "      <th>INCIDENT_PERIOD_NUM</th>\n",
              "      <th>INCIDENT_PERIOD_CAT</th>\n",
              "      <th>IS_HOLIDAY</th>\n",
              "      <th>IS_HOLIDAY_LAG1</th>\n",
              "      <th>IS_HOLIDAY_LEAD1</th>\n",
              "      <th>IS_HOLIDAY_SEASON</th>\n",
              "      <th>date</th>\n",
              "      <th>rain_v</th>\n",
              "      <th>snow_v</th>\n",
              "      <th>snow_on_ground_v</th>\n",
              "      <th>temperature_avg</th>\n",
              "      <th>relative_humidity_avg</th>\n",
              "      <th>wind_speed_avg</th>\n",
              "      <th>Incident_Numberdemo</th>\n",
              "      <th>TFS_Alarm_Timedemo</th>\n",
              "      <th>Latitude</th>\n",
              "      <th>Longitude</th>\n",
              "      <th>location</th>\n",
              "      <th>FSA</th>\n",
              "      <th>fsa_imputed</th>\n",
              "      <th>density</th>\n",
              "      <th>poor_building_condition</th>\n",
              "      <th>condo_dwelling</th>\n",
              "      <th>Average_Age</th>\n",
              "      <th>Median_Age</th>\n",
              "      <th>male</th>\n",
              "    </tr>\n",
              "  </thead>\n",
              "  <tbody>\n",
              "    <tr>\n",
              "      <th>0</th>\n",
              "      <td>1946929</td>\n",
              "      <td>81 - Engine Area</td>\n",
              "      <td>NaN</td>\n",
              "      <td>NaN</td>\n",
              "      <td>0</td>\n",
              "      <td>0</td>\n",
              "      <td>15000.0</td>\n",
              "      <td>NaN</td>\n",
              "      <td>NaN</td>\n",
              "      <td>2018-02-25 02:12:00</td>\n",
              "      <td>NaN</td>\n",
              "      <td>01 - Fire</td>\n",
              "      <td>NaN</td>\n",
              "      <td>NaN</td>\n",
              "      <td>NaN</td>\n",
              "      <td>2018-02-25 02:15:40</td>\n",
              "      <td>999 - Undetermined</td>\n",
              "      <td>F18020956</td>\n",
              "      <td>441</td>\n",
              "      <td>1.0</td>\n",
              "      <td>Vehicle Fire</td>\n",
              "      <td>Dixon Rd / 427 N Dixon Ramp</td>\n",
              "      <td>2018-02-25 02:38:31</td>\n",
              "      <td>NaN</td>\n",
              "      <td>47 - Vehicle</td>\n",
              "      <td>1 - Extinguished by fire department</td>\n",
              "      <td>1</td>\n",
              "      <td>4</td>\n",
              "      <td>99 - Undetermined</td>\n",
              "      <td>896 - Sidewalk, street, roadway, highway, hwy (do not use for fire incidents)</td>\n",
              "      <td>NaN</td>\n",
              "      <td>NaN</td>\n",
              "      <td>NaN</td>\n",
              "      <td>NaN</td>\n",
              "      <td>NaN</td>\n",
              "      <td>NaN</td>\n",
              "      <td>NaN</td>\n",
              "      <td>7 - Fully involved (total structure, vehicle, spreading outdoor fire)</td>\n",
              "      <td>2018-02-25 02:04:29</td>\n",
              "      <td>2018-02-25 02:10:11</td>\n",
              "      <td>0</td>\n",
              "      <td>17</td>\n",
              "      <td>80</td>\n",
              "      <td>FIRE STATION 441</td>\n",
              "      <td>947 MARTIN GROVE RD</td>\n",
              "      <td>6044964</td>\n",
              "      <td>22707</td>\n",
              "      <td>6044958</td>\n",
              "      <td>REGULAR</td>\n",
              "      <td>947</td>\n",
              "      <td>Martin Grove Rd</td>\n",
              "      <td>NaN</td>\n",
              "      <td>Fire Station</td>\n",
              "      <td>Land, Structure, Structure Entrance</td>\n",
              "      <td>NaN</td>\n",
              "      <td>Fire Station 441</td>\n",
              "      <td>NaN</td>\n",
              "      <td>NaN</td>\n",
              "      <td>NaN</td>\n",
              "      <td>NaN</td>\n",
              "      <td>Etobicoke North (1)</td>\n",
              "      <td>Etobicoke</td>\n",
              "      <td>1959089</td>\n",
              "      <td>{u'type': u'Point', u'coordinates': (-79.5719196489, 43.6949604664)}</td>\n",
              "      <td>-79.571920</td>\n",
              "      <td>43.694960</td>\n",
              "      <td>441</td>\n",
              "      <td>0</td>\n",
              "      <td>13705.717515</td>\n",
              "      <td>2018-02-25 00:00:00</td>\n",
              "      <td>6</td>\n",
              "      <td>1</td>\n",
              "      <td>2018</td>\n",
              "      <td>2</td>\n",
              "      <td>5.7</td>\n",
              "      <td>25</td>\n",
              "      <td>25</td>\n",
              "      <td>2</td>\n",
              "      <td>2</td>\n",
              "      <td>28.333</td>\n",
              "      <td>1</td>\n",
              "      <td>Late Night</td>\n",
              "      <td>0</td>\n",
              "      <td>0</td>\n",
              "      <td>0</td>\n",
              "      <td>0</td>\n",
              "      <td>2018-02-25</td>\n",
              "      <td>0.96</td>\n",
              "      <td>0.77</td>\n",
              "      <td>5.1</td>\n",
              "      <td>-3.415</td>\n",
              "      <td>71.47</td>\n",
              "      <td>18.39</td>\n",
              "      <td>F18020956</td>\n",
              "      <td>2018-02-25 02:04:29</td>\n",
              "      <td>43.686558</td>\n",
              "      <td>-79.599419</td>\n",
              "      <td>M9W 5N4</td>\n",
              "      <td>M9W</td>\n",
              "      <td>0</td>\n",
              "      <td>1411.27</td>\n",
              "      <td>0.066034</td>\n",
              "      <td>0.175848</td>\n",
              "      <td>39.6</td>\n",
              "      <td>38.3</td>\n",
              "      <td>0.490844</td>\n",
              "    </tr>\n",
              "    <tr>\n",
              "      <th>1</th>\n",
              "      <td>1946930</td>\n",
              "      <td>75 - Trash, rubbish area (outside)</td>\n",
              "      <td>NaN</td>\n",
              "      <td>NaN</td>\n",
              "      <td>0</td>\n",
              "      <td>0</td>\n",
              "      <td>50.0</td>\n",
              "      <td>NaN</td>\n",
              "      <td>NaN</td>\n",
              "      <td>2018-02-25 02:29:42</td>\n",
              "      <td>NaN</td>\n",
              "      <td>01 - Fire</td>\n",
              "      <td>NaN</td>\n",
              "      <td>NaN</td>\n",
              "      <td>NaN</td>\n",
              "      <td>2018-02-25 02:32:24</td>\n",
              "      <td>999 - Undetermined</td>\n",
              "      <td>F18020969</td>\n",
              "      <td>116</td>\n",
              "      <td>18.0</td>\n",
              "      <td>Fire - Grass/Rubbish</td>\n",
              "      <td>Sheppard Ave E / Clairtrell Rd</td>\n",
              "      <td>2018-02-25 02:35:58</td>\n",
              "      <td>NaN</td>\n",
              "      <td>97 - Other</td>\n",
              "      <td>1 - Extinguished by fire department</td>\n",
              "      <td>1</td>\n",
              "      <td>4</td>\n",
              "      <td>03 - Suspected Vandalism</td>\n",
              "      <td>896 - Sidewalk, street, roadway, highway, hwy (do not use for fire incidents)</td>\n",
              "      <td>NaN</td>\n",
              "      <td>NaN</td>\n",
              "      <td>NaN</td>\n",
              "      <td>NaN</td>\n",
              "      <td>NaN</td>\n",
              "      <td>NaN</td>\n",
              "      <td>NaN</td>\n",
              "      <td>2 - Fire with no evidence from street</td>\n",
              "      <td>2018-02-25 02:24:43</td>\n",
              "      <td>2018-02-25 02:29:31</td>\n",
              "      <td>0</td>\n",
              "      <td>46</td>\n",
              "      <td>6</td>\n",
              "      <td>FIRE STATION 116</td>\n",
              "      <td>255 ESTHER SHINER BLVD</td>\n",
              "      <td>8731578</td>\n",
              "      <td>1464220</td>\n",
              "      <td>30005958</td>\n",
              "      <td>REGULAR</td>\n",
              "      <td>255</td>\n",
              "      <td>Esther Shiner Blvd</td>\n",
              "      <td>NaN</td>\n",
              "      <td>Fire Station</td>\n",
              "      <td>Structure, Structure Entrance</td>\n",
              "      <td>484876.0</td>\n",
              "      <td>Fire Station 116</td>\n",
              "      <td>NaN</td>\n",
              "      <td>NaN</td>\n",
              "      <td>NaN</td>\n",
              "      <td>NaN</td>\n",
              "      <td>Don Valley North (17)</td>\n",
              "      <td>North York</td>\n",
              "      <td>2607109</td>\n",
              "      <td>{u'type': u'Point', u'coordinates': (-79.3650636555, 43.7691459436)}</td>\n",
              "      <td>-79.365064</td>\n",
              "      <td>43.769146</td>\n",
              "      <td>116</td>\n",
              "      <td>0</td>\n",
              "      <td>13691.564674</td>\n",
              "      <td>2018-02-25 00:00:00</td>\n",
              "      <td>6</td>\n",
              "      <td>1</td>\n",
              "      <td>2018</td>\n",
              "      <td>2</td>\n",
              "      <td>4.8</td>\n",
              "      <td>25</td>\n",
              "      <td>25</td>\n",
              "      <td>2</td>\n",
              "      <td>2</td>\n",
              "      <td>6.450</td>\n",
              "      <td>1</td>\n",
              "      <td>Late Night</td>\n",
              "      <td>0</td>\n",
              "      <td>0</td>\n",
              "      <td>0</td>\n",
              "      <td>0</td>\n",
              "      <td>2018-02-25</td>\n",
              "      <td>0.96</td>\n",
              "      <td>0.77</td>\n",
              "      <td>5.1</td>\n",
              "      <td>-3.415</td>\n",
              "      <td>71.47</td>\n",
              "      <td>18.39</td>\n",
              "      <td>F18020969</td>\n",
              "      <td>2018-02-25 02:24:43</td>\n",
              "      <td>43.766135</td>\n",
              "      <td>-79.390039</td>\n",
              "      <td>M2N 3B1</td>\n",
              "      <td>M2N</td>\n",
              "      <td>0</td>\n",
              "      <td>7581.15</td>\n",
              "      <td>0.036021</td>\n",
              "      <td>0.682775</td>\n",
              "      <td>39.9</td>\n",
              "      <td>37.0</td>\n",
              "      <td>0.469236</td>\n",
              "    </tr>\n",
              "  </tbody>\n",
              "</table>\n",
              "</div>"
            ],
            "text/plain": [
              "     _id_x                      Area_of_Origin Building_Status  \\\n",
              "0  1946929  81 - Engine Area                    NaN              \n",
              "1  1946930  75 - Trash, rubbish area (outside)  NaN              \n",
              "\n",
              "  Business_Impact  Civilian_Casualties  Count_of_Persons_Rescued  \\\n",
              "0  NaN             0                    0                          \n",
              "1  NaN             0                    0                          \n",
              "\n",
              "   Estimated_Dollar_Loss  Estimated_Number_Of_Persons_Displaced  Exposures  \\\n",
              "0  15000.0               NaN                                    NaN          \n",
              "1  50.0                  NaN                                    NaN          \n",
              "\n",
              "  Ext_agent_app_or_defer_time Extent_Of_Fire Final_Incident_Type  \\\n",
              "0  2018-02-25 02:12:00         NaN            01 - Fire            \n",
              "1  2018-02-25 02:29:42         NaN            01 - Fire            \n",
              "\n",
              "  Fire_Alarm_System_Impact_on_Evacuation Fire_Alarm_System_Operation  \\\n",
              "0  NaN                                    NaN                          \n",
              "1  NaN                                    NaN                          \n",
              "\n",
              "  Fire_Alarm_System_Presence Fire_Under_Control_Time     Ignition_Source  \\\n",
              "0  NaN                        2018-02-25 02:15:40     999 - Undetermined   \n",
              "1  NaN                        2018-02-25 02:32:24     999 - Undetermined   \n",
              "\n",
              "  Incident_Numberinc_  Incident_Station_Area  Incident_Ward  \\\n",
              "0  F18020956           441                    1.0             \n",
              "1  F18020969           116                    18.0            \n",
              "\n",
              "  Initial_CAD_Event_Type                    Intersection  \\\n",
              "0  Vehicle Fire           Dixon Rd / 427 N Dixon Ramp      \n",
              "1  Fire - Grass/Rubbish   Sheppard Ave E / Clairtrell Rd   \n",
              "\n",
              "  Last_TFS_Unit_Clear_Time Level_Of_Origin Material_First_Ignited  \\\n",
              "0  2018-02-25 02:38:31      NaN             47 - Vehicle            \n",
              "1  2018-02-25 02:35:58      NaN             97 - Other              \n",
              "\n",
              "                Method_Of_Fire_Control  Number_of_responding_apparatus  \\\n",
              "0  1 - Extinguished by fire department  1                                \n",
              "1  1 - Extinguished by fire department  1                                \n",
              "\n",
              "   Number_of_responding_personnel            Possible_Cause  \\\n",
              "0  4                               99 - Undetermined          \n",
              "1  4                               03 - Suspected Vandalism   \n",
              "\n",
              "                                                                    Property_Use  \\\n",
              "0  896 - Sidewalk, street, roadway, highway, hwy (do not use for fire incidents)   \n",
              "1  896 - Sidewalk, street, roadway, highway, hwy (do not use for fire incidents)   \n",
              "\n",
              "  Smoke_Alarm_at_Fire_Origin Smoke_Alarm_at_Fire_Origin_Alarm_Failure  \\\n",
              "0  NaN                        NaN                                       \n",
              "1  NaN                        NaN                                       \n",
              "\n",
              "  Smoke_Alarm_at_Fire_Origin_Alarm_Type  \\\n",
              "0  NaN                                    \n",
              "1  NaN                                    \n",
              "\n",
              "  Smoke_Alarm_Impact_on_Persons_Evacuating_Impact_on_Evacuation Smoke_Spread  \\\n",
              "0  NaN                                                           NaN           \n",
              "1  NaN                                                           NaN           \n",
              "\n",
              "  Sprinkler_System_Operation Sprinkler_System_Presence  \\\n",
              "0  NaN                        NaN                        \n",
              "1  NaN                        NaN                        \n",
              "\n",
              "                                               Status_of_Fire_On_Arrival  \\\n",
              "0  7 - Fully involved (total structure, vehicle, spreading outdoor fire)   \n",
              "1  2 - Fire with no evidence from street                                   \n",
              "\n",
              "    TFS_Alarm_Timeinc_     TFS_Arrival_Time  TFS_Firefighter_Casualties  \\\n",
              "0  2018-02-25 02:04:29  2018-02-25 02:10:11  0                            \n",
              "1  2018-02-25 02:24:43  2018-02-25 02:29:31  0                            \n",
              "\n",
              "   _id_y  ID              NAME                 ADDRESS  ADDRESS_POINT_ID  \\\n",
              "0  17     80  FIRE STATION 441  947 MARTIN GROVE RD     6044964            \n",
              "1  46     6   FIRE STATION 116  255 ESTHER SHINER BLVD  8731578            \n",
              "\n",
              "   ADDRESS_ID  CENTRELINE_ID MAINT_STAGE  ADDRESS_NUMBER    LINEAR_NAME_FULL  \\\n",
              "0  22707       6044958        REGULAR     947             Martin Grove Rd      \n",
              "1  1464220     30005958       REGULAR     255             Esther Shiner Blvd   \n",
              "\n",
              "  POSTAL_CODE   GENERAL_USE                    CLASS_FAMILY_DESC  \\\n",
              "0  NaN         Fire Station  Land, Structure, Structure Entrance   \n",
              "1  NaN         Fire Station  Structure, Structure Entrance         \n",
              "\n",
              "   ADDRESS_ID_LINK        PLACE_NAME   X   Y  LATITUDE  LONGITUDE  \\\n",
              "0 NaN               Fire Station 441 NaN NaN NaN       NaN          \n",
              "1  484876.0         Fire Station 116 NaN NaN NaN       NaN          \n",
              "\n",
              "               WARD_NAME MUNICIPALITY_NAME  OBJECTID  \\\n",
              "0  Etobicoke North (1)    Etobicoke         1959089    \n",
              "1  Don Valley North (17)  North York        2607109    \n",
              "\n",
              "                                                               geometry  \\\n",
              "0  {u'type': u'Point', u'coordinates': (-79.5719196489, 43.6949604664)}   \n",
              "1  {u'type': u'Point', u'coordinates': (-79.3650636555, 43.7691459436)}   \n",
              "\n",
              "   fs_Longitude  fs_Latitude  Station_Area  LABEL  \\\n",
              "0 -79.571920     43.694960    441           0       \n",
              "1 -79.365064     43.769146    116           0       \n",
              "\n",
              "   DISTANCE_INCIDENT_FIRESTATION        INCIDENT_DATE  DOW  IS_WEEKEND  YEAR  \\\n",
              "0  13705.717515                   2018-02-25 00:00:00  6    1           2018   \n",
              "1  13691.564674                   2018-02-25 00:00:00  6    1           2018   \n",
              "\n",
              "   MONTH  MINUTES_TO_ARRIVE  TFS_ARR_DAY  TFS_ALM_DAY  TFS_ARR_HOUR  \\\n",
              "0  2      5.7                25           25           2              \n",
              "1  2      4.8                25           25           2              \n",
              "\n",
              "   TFS_ALM_HOUR  MINUTES_TO_LEAVE  INCIDENT_PERIOD_NUM INCIDENT_PERIOD_CAT  \\\n",
              "0  2             28.333            1                    Late Night           \n",
              "1  2             6.450             1                    Late Night           \n",
              "\n",
              "   IS_HOLIDAY  IS_HOLIDAY_LAG1  IS_HOLIDAY_LEAD1  IS_HOLIDAY_SEASON  \\\n",
              "0  0           0                0                 0                   \n",
              "1  0           0                0                 0                   \n",
              "\n",
              "         date  rain_v  snow_v  snow_on_ground_v  temperature_avg  \\\n",
              "0  2018-02-25  0.96    0.77    5.1              -3.415             \n",
              "1  2018-02-25  0.96    0.77    5.1              -3.415             \n",
              "\n",
              "   relative_humidity_avg  wind_speed_avg Incident_Numberdemo  \\\n",
              "0  71.47                  18.39           F18020956            \n",
              "1  71.47                  18.39           F18020969            \n",
              "\n",
              "    TFS_Alarm_Timedemo   Latitude  Longitude  location  FSA  fsa_imputed  \\\n",
              "0  2018-02-25 02:04:29  43.686558 -79.599419   M9W 5N4  M9W  0             \n",
              "1  2018-02-25 02:24:43  43.766135 -79.390039   M2N 3B1  M2N  0             \n",
              "\n",
              "   density  poor_building_condition  condo_dwelling  Average_Age  Median_Age  \\\n",
              "0  1411.27  0.066034                 0.175848        39.6         38.3         \n",
              "1  7581.15  0.036021                 0.682775        39.9         37.0         \n",
              "\n",
              "       male  \n",
              "0  0.490844  \n",
              "1  0.469236  "
            ]
          },
          "metadata": {},
          "execution_count": 11
        }
      ]
    },
    {
      "cell_type": "code",
      "metadata": {
        "id": "spRrqd1_8e22"
      },
      "source": [
        "#drop unwanted columns\n",
        "my_not_needed_cols = ['Station_Area', 'TFS_Alarm_Timeinc_', 'TFS_Arrival_Time',\n",
        "                      'YEAR','TFS_ARR_DAY','TFS_ALM_DAY','TFS_ARR_HOUR','TFS_ALM_HOUR']\n",
        "# additional numerical columns that are not needed\n",
        "add_num_cols = ['Incident_Station_Area', 'Incident_Ward','ADDRESS_POINT_ID', 'ADDRESS_ID',\n",
        "       'CENTRELINE_ID', 'ADDRESS_NUMBER', 'OBJECTID', 'fs_Longitude',\n",
        "       'fs_Latitude', 'Latitude', 'Longitude']\n",
        "add_cat_cols = ['Intersection', 'Last_TFS_Unit_Clear_Time','TFS_Alarm_Timeinc_', \n",
        "        'TFS_Arrival_Time', 'NAME', 'ADDRESS','LINEAR_NAME_FULL', 'PLACE_NAME', \n",
        "        'WARD_NAME', 'MUNICIPALITY_NAME', 'geometry','INCIDENT_DATE',\n",
        "                'Ext_agent_app_or_defer_time','Fire_Under_Control_Time','location']\n",
        "\n",
        "fire_not_needed_cols = ['_id_x','_id_y','Exposures']\n",
        "Demographics_not_needed_cols = ['fsa_imputed','location']                        \n",
        "station_not_needed_cols=['ID', 'ADDRESS_ID_LINK', 'X','Y', 'LATITUDE', 'LONGITUDE','POSTAL_CODE','MAINT_STAGE','GENERAL_USE','CLASS_FAMILY_DESC', 'INCIDENT_PERIOD_CAT']\n",
        "weather_not_needed_cols=['date', 'Incident_Numberdemo','TFS_Alarm_Timedemo']\n",
        "drop_columns = my_not_needed_cols + add_num_cols + add_cat_cols + Demographics_not_needed_cols + fire_not_needed_cols + station_not_needed_cols + weather_not_needed_cols\n",
        "df.drop(columns=drop_columns, axis=1,inplace=True)"
      ],
      "execution_count": 12,
      "outputs": []
    },
    {
      "cell_type": "code",
      "metadata": {
        "colab": {
          "base_uri": "https://localhost:8080/"
        },
        "id": "Ue_Ix3-R8qJN",
        "outputId": "b1b757b2-2e06-4791-ee89-00b750e3ee93"
      },
      "source": [
        "find_diff_type_var(df)"
      ],
      "execution_count": 13,
      "outputs": [
        {
          "output_type": "execute_result",
          "data": {
            "text/plain": [
              "(Index(['Area_of_Origin', 'Building_Status', 'Business_Impact',\n",
              "        'Extent_Of_Fire', 'Final_Incident_Type',\n",
              "        'Fire_Alarm_System_Impact_on_Evacuation', 'Fire_Alarm_System_Operation',\n",
              "        'Fire_Alarm_System_Presence', 'Ignition_Source', 'Incident_Numberinc_',\n",
              "        'Initial_CAD_Event_Type', 'Level_Of_Origin', 'Material_First_Ignited',\n",
              "        'Method_Of_Fire_Control', 'Possible_Cause', 'Property_Use',\n",
              "        'Smoke_Alarm_at_Fire_Origin',\n",
              "        'Smoke_Alarm_at_Fire_Origin_Alarm_Failure',\n",
              "        'Smoke_Alarm_at_Fire_Origin_Alarm_Type',\n",
              "        'Smoke_Alarm_Impact_on_Persons_Evacuating_Impact_on_Evacuation',\n",
              "        'Smoke_Spread', 'Sprinkler_System_Operation',\n",
              "        'Sprinkler_System_Presence', 'Status_of_Fire_On_Arrival', 'FSA'],\n",
              "       dtype='object'),\n",
              " Index(['Civilian_Casualties', 'Count_of_Persons_Rescued',\n",
              "        'Estimated_Dollar_Loss', 'Estimated_Number_Of_Persons_Displaced',\n",
              "        'Number_of_responding_apparatus', 'Number_of_responding_personnel',\n",
              "        'TFS_Firefighter_Casualties', 'LABEL', 'DISTANCE_INCIDENT_FIRESTATION',\n",
              "        'DOW', 'IS_WEEKEND', 'MONTH', 'MINUTES_TO_ARRIVE', 'MINUTES_TO_LEAVE',\n",
              "        'INCIDENT_PERIOD_NUM', 'IS_HOLIDAY', 'IS_HOLIDAY_LAG1',\n",
              "        'IS_HOLIDAY_LEAD1', 'IS_HOLIDAY_SEASON', 'rain_v', 'snow_v',\n",
              "        'snow_on_ground_v', 'temperature_avg', 'relative_humidity_avg',\n",
              "        'wind_speed_avg', 'density', 'poor_building_condition',\n",
              "        'condo_dwelling', 'Average_Age', 'Median_Age', 'male'],\n",
              "       dtype='object'))"
            ]
          },
          "metadata": {},
          "execution_count": 13
        }
      ]
    },
    {
      "cell_type": "markdown",
      "metadata": {
        "id": "VEVls-sYcn02"
      },
      "source": [
        "# Imputation \n",
        "\n",
        "\n",
        "*   Property_Use: only 1 missing\n",
        "*   Level_of_Origin: impute as '999'\n",
        "*   'Ignition_Source','Material_First_Ignited','Possible_Cause': impute with the most frequent\n",
        "\n",
        "\n"
      ]
    },
    {
      "cell_type": "code",
      "metadata": {
        "id": "vyTZM8cDsTjV"
      },
      "source": [
        "# Impute null categorical variables\n",
        "# only one missing for 'Property_Use'\n",
        "df.at[df[df['Property_Use'].isnull()].index,'Property_Use']='Other'\n",
        "# Level of Origin\n",
        "#impute with '999'\n",
        "df.at[df[df['Level_Of_Origin'].isnull()].index,'Level_Of_Origin']='999'"
      ],
      "execution_count": 14,
      "outputs": []
    },
    {
      "cell_type": "code",
      "metadata": {
        "colab": {
          "base_uri": "https://localhost:8080/"
        },
        "id": "kdzuWoslScdB",
        "outputId": "99643caa-e859-44c5-92ea-2b2a74476eb3"
      },
      "source": [
        "# Impute with the most frequent category\n",
        "cols_to_impute=['Ignition_Source','Material_First_Ignited','Possible_Cause']\n",
        "for col in cols_to_impute:\n",
        "  df_test=impute_frequent(col)\n",
        "print(df[cols_to_impute].isnull().sum())"
      ],
      "execution_count": 15,
      "outputs": [
        {
          "output_type": "stream",
          "name": "stdout",
          "text": [
            "Ignition_Source           0\n",
            "Material_First_Ignited    0\n",
            "Possible_Cause            0\n",
            "dtype: int64\n"
          ]
        }
      ]
    },
    {
      "cell_type": "markdown",
      "metadata": {
        "id": "yT4x49kOG3dw"
      },
      "source": [
        "# Categorical variables overview"
      ]
    },
    {
      "cell_type": "code",
      "metadata": {
        "id": "Ao2-U5S-9XBE"
      },
      "source": [
        "cat_var = df.loc[:,df.dtypes == np.object].columns\n",
        "n_cat = [df[x].unique().shape[0] for x in cat_var]\n",
        "n_missing=[df[x].isnull().sum() for x in cat_var]"
      ],
      "execution_count": null,
      "outputs": []
    },
    {
      "cell_type": "code",
      "metadata": {
        "id": "3bGSjbJz9uBI"
      },
      "source": [
        "cat_var_summary=pd.DataFrame(data=zip(n_cat,n_missing),index=cat_var, columns=['number of categories','number of missing records']).sort_values(by=['number of categories'], ascending=False)"
      ],
      "execution_count": null,
      "outputs": []
    },
    {
      "cell_type": "code",
      "metadata": {
        "id": "aruuOppjZWOf"
      },
      "source": [
        "high_cat=cat_var_summary[cat_var_summary['number of categories']>=20]\n",
        "med_cat=cat_var_summary[(cat_var_summary['number of categories']>5) & (cat_var_summary['number of categories']<20)]\n",
        "low_cat=cat_var_summary[cat_var_summary['number of categories']<=5]"
      ],
      "execution_count": null,
      "outputs": []
    },
    {
      "cell_type": "code",
      "metadata": {
        "id": "72QMRdFb-bX5"
      },
      "source": [
        "# Categorical variables with high cardinality\n",
        "#FSA: impute with numerical % incident with casualty"
      ],
      "execution_count": null,
      "outputs": []
    },
    {
      "cell_type": "code",
      "metadata": {
        "id": "LpWOfwB3C4Jm"
      },
      "source": [
        "cat_var_id=['Incident_Numberinc_','FSA']\n",
        "high_cat=[x for x in high_cat.index if x not in cat_var_id]"
      ],
      "execution_count": null,
      "outputs": []
    },
    {
      "cell_type": "code",
      "metadata": {
        "colab": {
          "base_uri": "https://localhost:8080/",
          "height": 824
        },
        "id": "xkznWfbbnW3e",
        "outputId": "7a4a2ead-5201-4eeb-ebd2-63ea8cf080be"
      },
      "source": [
        "cat_var_summary"
      ],
      "execution_count": null,
      "outputs": [
        {
          "output_type": "execute_result",
          "data": {
            "text/html": [
              "<div>\n",
              "<style scoped>\n",
              "    .dataframe tbody tr th:only-of-type {\n",
              "        vertical-align: middle;\n",
              "    }\n",
              "\n",
              "    .dataframe tbody tr th {\n",
              "        vertical-align: top;\n",
              "    }\n",
              "\n",
              "    .dataframe thead th {\n",
              "        text-align: right;\n",
              "    }\n",
              "</style>\n",
              "<table border=\"1\" class=\"dataframe\">\n",
              "  <thead>\n",
              "    <tr style=\"text-align: right;\">\n",
              "      <th></th>\n",
              "      <th>number of categories</th>\n",
              "      <th>number of missing records</th>\n",
              "    </tr>\n",
              "  </thead>\n",
              "  <tbody>\n",
              "    <tr>\n",
              "      <th>Incident_Numberinc_</th>\n",
              "      <td>17536</td>\n",
              "      <td>0</td>\n",
              "    </tr>\n",
              "    <tr>\n",
              "      <th>Property_Use</th>\n",
              "      <td>284</td>\n",
              "      <td>0</td>\n",
              "    </tr>\n",
              "    <tr>\n",
              "      <th>Initial_CAD_Event_Type</th>\n",
              "      <td>115</td>\n",
              "      <td>0</td>\n",
              "    </tr>\n",
              "    <tr>\n",
              "      <th>FSA</th>\n",
              "      <td>96</td>\n",
              "      <td>0</td>\n",
              "    </tr>\n",
              "    <tr>\n",
              "      <th>Ignition_Source</th>\n",
              "      <td>84</td>\n",
              "      <td>0</td>\n",
              "    </tr>\n",
              "    <tr>\n",
              "      <th>Area_of_Origin</th>\n",
              "      <td>74</td>\n",
              "      <td>1913</td>\n",
              "    </tr>\n",
              "    <tr>\n",
              "      <th>Level_Of_Origin</th>\n",
              "      <td>59</td>\n",
              "      <td>0</td>\n",
              "    </tr>\n",
              "    <tr>\n",
              "      <th>Material_First_Ignited</th>\n",
              "      <td>54</td>\n",
              "      <td>0</td>\n",
              "    </tr>\n",
              "    <tr>\n",
              "      <th>Possible_Cause</th>\n",
              "      <td>24</td>\n",
              "      <td>0</td>\n",
              "    </tr>\n",
              "    <tr>\n",
              "      <th>Extent_Of_Fire</th>\n",
              "      <td>13</td>\n",
              "      <td>6322</td>\n",
              "    </tr>\n",
              "    <tr>\n",
              "      <th>Smoke_Alarm_at_Fire_Origin_Alarm_Failure</th>\n",
              "      <td>12</td>\n",
              "      <td>6322</td>\n",
              "    </tr>\n",
              "    <tr>\n",
              "      <th>Smoke_Spread</th>\n",
              "      <td>11</td>\n",
              "      <td>6322</td>\n",
              "    </tr>\n",
              "    <tr>\n",
              "      <th>Status_of_Fire_On_Arrival</th>\n",
              "      <td>9</td>\n",
              "      <td>1914</td>\n",
              "    </tr>\n",
              "    <tr>\n",
              "      <th>Sprinkler_System_Operation</th>\n",
              "      <td>8</td>\n",
              "      <td>6322</td>\n",
              "    </tr>\n",
              "    <tr>\n",
              "      <th>Smoke_Alarm_Impact_on_Persons_Evacuating_Impact_on_Evacuation</th>\n",
              "      <td>8</td>\n",
              "      <td>6322</td>\n",
              "    </tr>\n",
              "    <tr>\n",
              "      <th>Business_Impact</th>\n",
              "      <td>8</td>\n",
              "      <td>6322</td>\n",
              "    </tr>\n",
              "    <tr>\n",
              "      <th>Building_Status</th>\n",
              "      <td>8</td>\n",
              "      <td>6320</td>\n",
              "    </tr>\n",
              "    <tr>\n",
              "      <th>Fire_Alarm_System_Impact_on_Evacuation</th>\n",
              "      <td>8</td>\n",
              "      <td>6322</td>\n",
              "    </tr>\n",
              "    <tr>\n",
              "      <th>Smoke_Alarm_at_Fire_Origin_Alarm_Type</th>\n",
              "      <td>7</td>\n",
              "      <td>6322</td>\n",
              "    </tr>\n",
              "    <tr>\n",
              "      <th>Smoke_Alarm_at_Fire_Origin</th>\n",
              "      <td>6</td>\n",
              "      <td>6322</td>\n",
              "    </tr>\n",
              "    <tr>\n",
              "      <th>Method_Of_Fire_Control</th>\n",
              "      <td>6</td>\n",
              "      <td>1914</td>\n",
              "    </tr>\n",
              "    <tr>\n",
              "      <th>Fire_Alarm_System_Presence</th>\n",
              "      <td>5</td>\n",
              "      <td>6322</td>\n",
              "    </tr>\n",
              "    <tr>\n",
              "      <th>Sprinkler_System_Presence</th>\n",
              "      <td>5</td>\n",
              "      <td>6322</td>\n",
              "    </tr>\n",
              "    <tr>\n",
              "      <th>Fire_Alarm_System_Operation</th>\n",
              "      <td>5</td>\n",
              "      <td>6322</td>\n",
              "    </tr>\n",
              "    <tr>\n",
              "      <th>Final_Incident_Type</th>\n",
              "      <td>3</td>\n",
              "      <td>0</td>\n",
              "    </tr>\n",
              "  </tbody>\n",
              "</table>\n",
              "</div>"
            ],
            "text/plain": [
              "                                                               number of categories  \\\n",
              "Incident_Numberinc_                                            17536                  \n",
              "Property_Use                                                   284                    \n",
              "Initial_CAD_Event_Type                                         115                    \n",
              "FSA                                                            96                     \n",
              "Ignition_Source                                                84                     \n",
              "Area_of_Origin                                                 74                     \n",
              "Level_Of_Origin                                                59                     \n",
              "Material_First_Ignited                                         54                     \n",
              "Possible_Cause                                                 24                     \n",
              "Extent_Of_Fire                                                 13                     \n",
              "Smoke_Alarm_at_Fire_Origin_Alarm_Failure                       12                     \n",
              "Smoke_Spread                                                   11                     \n",
              "Status_of_Fire_On_Arrival                                      9                      \n",
              "Sprinkler_System_Operation                                     8                      \n",
              "Smoke_Alarm_Impact_on_Persons_Evacuating_Impact_on_Evacuation  8                      \n",
              "Business_Impact                                                8                      \n",
              "Building_Status                                                8                      \n",
              "Fire_Alarm_System_Impact_on_Evacuation                         8                      \n",
              "Smoke_Alarm_at_Fire_Origin_Alarm_Type                          7                      \n",
              "Smoke_Alarm_at_Fire_Origin                                     6                      \n",
              "Method_Of_Fire_Control                                         6                      \n",
              "Fire_Alarm_System_Presence                                     5                      \n",
              "Sprinkler_System_Presence                                      5                      \n",
              "Fire_Alarm_System_Operation                                    5                      \n",
              "Final_Incident_Type                                            3                      \n",
              "\n",
              "                                                               number of missing records  \n",
              "Incident_Numberinc_                                            0                          \n",
              "Property_Use                                                   0                          \n",
              "Initial_CAD_Event_Type                                         0                          \n",
              "FSA                                                            0                          \n",
              "Ignition_Source                                                0                          \n",
              "Area_of_Origin                                                 1913                       \n",
              "Level_Of_Origin                                                0                          \n",
              "Material_First_Ignited                                         0                          \n",
              "Possible_Cause                                                 0                          \n",
              "Extent_Of_Fire                                                 6322                       \n",
              "Smoke_Alarm_at_Fire_Origin_Alarm_Failure                       6322                       \n",
              "Smoke_Spread                                                   6322                       \n",
              "Status_of_Fire_On_Arrival                                      1914                       \n",
              "Sprinkler_System_Operation                                     6322                       \n",
              "Smoke_Alarm_Impact_on_Persons_Evacuating_Impact_on_Evacuation  6322                       \n",
              "Business_Impact                                                6322                       \n",
              "Building_Status                                                6320                       \n",
              "Fire_Alarm_System_Impact_on_Evacuation                         6322                       \n",
              "Smoke_Alarm_at_Fire_Origin_Alarm_Type                          6322                       \n",
              "Smoke_Alarm_at_Fire_Origin                                     6322                       \n",
              "Method_Of_Fire_Control                                         1914                       \n",
              "Fire_Alarm_System_Presence                                     6322                       \n",
              "Sprinkler_System_Presence                                      6322                       \n",
              "Fire_Alarm_System_Operation                                    6322                       \n",
              "Final_Incident_Type                                            0                          "
            ]
          },
          "metadata": {},
          "execution_count": 21
        }
      ]
    },
    {
      "cell_type": "code",
      "metadata": {
        "colab": {
          "base_uri": "https://localhost:8080/"
        },
        "id": "T8RwEtevhRIt",
        "outputId": "b35846fc-877b-4e46-eb46-97d982b7a1ab"
      },
      "source": [
        "for c in high_cat:\n",
        "  exploration_cat(c)"
      ],
      "execution_count": null,
      "outputs": [
        {
          "output_type": "stream",
          "name": "stdout",
          "text": [
            "---------------------------------------\n",
            "variable name: Property_Use \n",
            "\n",
            "number of categories:  284 \n",
            "\n",
            "323 - Multi-Unit Dwelling - Over 12 Units                                        0.220632\n",
            "301 - Detached Dwelling                                                          0.141766\n",
            "901 - Automobile                                                                 0.082345\n",
            "896 - Sidewalk, street, roadway, highway, hwy (do not use for fire incidents)    0.053718\n",
            "302 - Semi-Detached Dwelling                                                     0.044138\n",
            "848 - Trash/Rubbish/Garbage Container or Dumpster                                0.042313\n",
            "303 - Attached Dwelling (eg. rowhouse, townhouse, etc.)                          0.034500\n",
            "861 - Open Land (eg. light ground cover, bush, grass, etc.)                      0.027030\n",
            "902 - Small Truck (eg. pick-up, van, etc.)                                       0.020814\n",
            "321 - Multi-Unit Dwelling - 2 to 6 Units                                         0.016423\n",
            "331 - Apartment, Flat, Tenement with Business                                    0.016195\n",
            "151 - Restaurants (occupant load greater than 30 persons, licensed)              0.013971\n",
            "898 - Other property non structure not classified                                0.011006\n",
            "891 - Outdoor general auto parking                                               0.010265\n",
            "501 - Restaurant (occupant load less than 30 persons)                            0.009808\n",
            "144 - Subway Station                                                             0.009637\n",
            "903 - Large Truck (Excluding Truck Trailer)                                      0.009409\n",
            "322 - Multi-Unit Dwelling - 7 to 12 Units                                        0.008668\n",
            "837 - Vehicles or Vehicle Parts                                                  0.008041\n",
            "365 - Detached Garage                                                            0.007698\n",
            "405 - General Business Office                                                    0.007527\n",
            "846 - Hydro/Telephone Pole                                                       0.007299\n",
            "311 - Rooming/Boarding/Lodging House                                             0.007128\n",
            "603 - Motor Vehicle Repair Garage                                                0.006444\n",
            "499 - Other Business or Personal Services                                        0.005760\n",
            "999 - Other Vehicle                                                              0.005417\n",
            "132 - School - Elementary                                                        0.004562\n",
            "334 - Attached Dwelling with Business                                            0.004505\n",
            "862 - Forest, Standing Timber                                                    0.003764\n",
            "510 - Mall - public area common to multi store facility                          0.003650\n",
            "842 - Fence                                                                      0.003593\n",
            "906 - Bus, Trackless Trolley                                                     0.003593\n",
            "498 - Garage:  General Auto Parking - Structure                                  0.003479\n",
            "355 - Hotel, Motel, Lodging - 4 or more guests or suites                         0.003422\n",
            "904 - Trailer Combin. (e.g. auto trailer, small t&t, t&t, etc)                   0.003307\n",
            "843 - Shed, Children's Playhouse                                                 0.003079\n",
            "653 - Mfg: Secondary Processing (eg finished goods, furniture, etc)              0.002737\n",
            "863 - Tree, Hedge                                                                0.002680\n",
            "791 - Recycling Facility                                                         0.002680\n",
            "152 - Bar, Tavern, Night Club                                                    0.002680\n",
            "502 - Supermarket, Grocery Store                                                 0.002623\n",
            "860 - Lawn around structure                                                      0.002623\n",
            "404 - Laundry, Dry Cleaner (includes self-service)                               0.002509\n",
            "651 - Mfg: Pulp, Paper Processing                                                0.002509\n",
            "599 - Other Mercantile                                                           0.002452\n",
            "137 - School - Post Secondary (University)                                       0.002452\n",
            "659 - Mfg: Other Wood, Furniture, Paper Products, Printing                       0.002395\n",
            "812 - Bridge, Overpass, Trestle, Tunnel, Underpass                               0.002281\n",
            "231 - Shelter for displaced/abused persons                                       0.002281\n",
            "612 - Hydro Distribution Facility                                                0.002224\n",
            "946 - Other specialty vehicle                                                    0.002224\n",
            "799 - Other Industrial                                                           0.002224\n",
            "335 - Detached/Semi/Attached with Accessory Apartment Above Grade                0.002167\n",
            "134 - School - Secondary/Senior High (Gr. 9+)                                    0.002167\n",
            "153 - Church, Other Similar Place of Worship                                     0.002110\n",
            "212 - Public/Private Hospital                                                    0.002053\n",
            "503 - Specialty Food Store (eg. butcher, delicatessen, etc.)                     0.001939\n",
            "760 - Sto: Warehouse, variety of items, not classified by codes                  0.001768\n",
            "679 - Mfg: Other Metal/Eletctrical/Miscellaneous Products                        0.001768\n",
            "792 - Waste Transfer Station                                                     0.001711\n",
            "941 - Construction Vehicles                                                      0.001711\n",
            "223 - Seniors long term care facility, licensed                                  0.001654\n",
            "601 - Motor Vehicle Sales                                                        0.001654\n",
            "855 - Outbuildings - structure not classified elsewhere                          0.001654\n",
            "633 - Mfg: Grain Products, Bakery Goods                                          0.001540\n",
            "909 - Multiple Road Vehicles                                                     0.001426\n",
            "234 - Retirement Home                                                            0.001426\n",
            "101 - Theatre - Motion Picture                                                   0.001369\n",
            "897 - Structure under 10 sq. metres not classified                               0.001312\n",
            "403 - Barber Shop, Hairdresser, Beauty Parlor, tanning salon                     0.001198\n",
            "124 - Sports/Country/Social/Yacht Club                                           0.001141\n",
            "905 - Motorcycle                                                                 0.001083\n",
            "401 - Bank                                                                       0.001026\n",
            "639 - Mfg: Other Agr/Food, Beverage, Tabac products                              0.001026\n",
            "672 - Mfg: Secondary Metal Processing (eg rolling, drawing, polishing)           0.001026\n",
            "521 - Clothing Store, Accessories, fur                                           0.000969\n",
            "623 - Mfg: Plastics                                                              0.000969\n",
            "123 - Community/Exhibition/Dance Hall                                            0.000969\n",
            "511 - Department Store                                                           0.000969\n",
            "661 - Mfg: Road Vehicles, Parts                                                  0.000969\n",
            "619 - Other Utilities                                                            0.000969\n",
            "504 - Convenience/Variety Store                                                  0.000969\n",
            "844 - Privy                                                                      0.000912\n",
            "629 - Mfg: Other Chemical/Petroleum/Paint/Plastic Products                       0.000912\n",
            "407 - Dental/Medical Office                                                      0.000912\n",
            "336 - Detached/Semi/Attached with Accessory Apartment Below Grade                0.000912\n",
            "232 - Halfway/Transitional House                                                 0.000912\n",
            "626 - Mfg: Rubber Goods                                                          0.000855\n",
            "233 - Group Home                                                                 0.000855\n",
            "602 - Service Station                                                            0.000798\n",
            "333 - Semi-Detached Dwelling with Business                                       0.000798\n",
            "850 - Parking Lot Kiosk                                                          0.000798\n",
            "367 - Hostel                                                                     0.000798\n",
            "199 - Other Assembly                                                             0.000741\n",
            "523 - Furniture/Appliance Store                                                  0.000741\n",
            "162 - Ice Rink                                                                   0.000684\n",
            "173 - Exhibition, Fair Stand, Amusement Park Structure                           0.000684\n",
            "332 - Detached Dwelling with Business                                            0.000684\n",
            "622 - Mfg: Chemicals, inc hazardous chemicals                                    0.000684\n",
            "893 - Cemetery                                                                   0.000684\n",
            "654 - Mfg: Printing, Publishing (eg newspapers, magazines, books)                0.000684\n",
            "399 - Other Residential                                                          0.000684\n",
            "206 - Psychiatric Hospital (with detention quarters)                             0.000627\n",
            "138 - School - Post Secondary (College)                                          0.000627\n",
            "530 - Pharmacy                                                                   0.000570\n",
            "994 - Multiple Vehicles - combination of types                                   0.000570\n",
            "142 - Bus Terminal                                                               0.000570\n",
            "103 - TV, radio, motion picture studio                                           0.000570\n",
            "133 - School - Secondary Junior High (Gr. 7 & 8)                                 0.000570\n",
            "921 - Private or Business Watercraft                                             0.000570\n",
            "856 - Freestanding deck                                                          0.000513\n",
            "125 - Gymnasium                                                                  0.000513\n",
            "849 - Tarpot                                                                     0.000513\n",
            "341 - Motor Home, Camper, Trailer                                                0.000513\n",
            "143 - Railway Station                                                            0.000513\n",
            "539 - Gifts, jewellery, leather goods, mixed goods                               0.000513\n",
            "361 - School/College Dormitory (detached from educational facility)              0.000513\n",
            "907 - Emergency Vehicle                                                          0.000513\n",
            "625 - Mfg: Drugs, Cosmetics, Pharmaceutical                                      0.000456\n",
            "609 - Other Vehicle Sales/Service                                                0.000456\n",
            "617 - Sanitary Services (includes plant)                                         0.000456\n",
            "102 - Theatre - Concert Hall, Live                                               0.000456\n",
            "631 - Mfg: Meat/Poultry/Fish Products                                            0.000456\n",
            "942 - Industrial Vehicles                                                        0.000456\n",
            "113 - Library                                                                    0.000399\n",
            "607 - Marina, Marine Service Station                                             0.000399\n",
            "649 - Mfg: Other Textiles, Clothing, Leather goods                               0.000399\n",
            "201 - Jail, Prison, Penitentiary                                                 0.000399\n",
            "638 - Mfg: Sugar Refining, Sugar Products                                        0.000399\n",
            "418 - Tent or temporary structure for business or personal service activity      0.000399\n",
            "543 - Big Box Store                                                              0.000399\n",
            "229 - Other care facility                                                        0.000342\n",
            "156 - Court Facility                                                             0.000342\n",
            "111 - Museum                                                                     0.000342\n",
            "912 - Subway Train                                                               0.000342\n",
            "157 - Day Care Centre                                                            0.000342\n",
            "836 - Metal Products, Machinery, Appliances                                      0.000342\n",
            "741 - Sto: Road Vehicles, Parts                                                  0.000342\n",
            "739 - Sto: Other Wood, Furniture, Paper Products, Printing                       0.000342\n",
            "853 - Gazebo                                                                     0.000342\n",
            "839 - Tent or temporary structure not classified under other occupancy           0.000342\n",
            "701 - Sto: Meat/Poultry/Fish products                                            0.000342\n",
            "161 - Arena                                                                      0.000342\n",
            "525 - Hardware Store                                                             0.000285\n",
            "366 - Residential Club (inc sorority, fraternity)                                0.000285\n",
            "655 - Mfg: Job Printing (eg forms, greeting cards, etc)                          0.000285\n",
            "505 - Liquor/Wine/Beer Store                                                     0.000285\n",
            "852 - Clothing Drop Box, etc.                                                    0.000285\n",
            "135 - School - Technical, Industrial Trade                                       0.000285\n",
            "793 - Laboratory                                                                 0.000285\n",
            "864 - Dump, Land Fill Site                                                       0.000285\n",
            "158 - Church Hall                                                                0.000285\n",
            "671 - Mfg: Primary Metal Processing (eg refining, melting, etc)                  0.000285\n",
            "411 - Fire Station                                                               0.000228\n",
            "644 - Mfg: Wearing Apparal Manufacturing                                         0.000228\n",
            "838 - General Goods                                                              0.000228\n",
            "145 - Marine Terminal                                                            0.000228\n",
            "847 - Toll Station, Weather/Bus Shelter                                          0.000228\n",
            "682 - Sto: Chemicals, inc hazardous chemicals                                    0.000228\n",
            "114 - Auditorium                                                                 0.000228\n",
            "733 - Secondary Products (eg. finished goods, furniture, etc.)                   0.000228\n",
            "627 - Mfg: Asphalt Products                                                      0.000228\n",
            "526 - Building Supply Store                                                      0.000228\n",
            "911 - Railway Train                                                              0.000228\n",
            "834 - Chemicals, Plastics, Rubber Products                                       0.000228\n",
            "866 - Silo, Storage Facility                                                     0.000228\n",
            "841 - Mailbox                                                                    0.000228\n",
            "890 - Composting site (large scale, eg municipal)                                0.000228\n",
            "614 - Gas Distribution Facility                                                  0.000228\n",
            "121 - Bowling Alley, Billiard Centre, pool hall                                  0.000228\n",
            "831 - Agricultural Products                                                      0.000171\n",
            "716 - Sto: Packed food stuffs (not classified by other codes)                    0.000171\n",
            "634 - Mfg: Alcoholic Beverages                                                   0.000171\n",
            "415 - Computer, electronic data processing, records storage                      0.000171\n",
            "709 - Sto: Cold Storage - Processed Food                                         0.000171\n",
            "832 - Processed Food Beverages                                                   0.000171\n",
            "204 - Police Station (with detention quarters)                                   0.000171\n",
            "759 - Sto: Other Metal/Electrical/Misc Parts                                     0.000171\n",
            "621 - Mfg: Petroleum Products                                                    0.000171\n",
            "944 - Multiple Specialty Vehicles                                                0.000171\n",
            "669 - Mfg: Other Vehicles, Parts                                                 0.000171\n",
            "172 - Stadium                                                                    0.000171\n",
            "731 - Sto: Pulp, Paper                                                           0.000171\n",
            "604 - Motor Vehicle Parts, Accessory Sales                                       0.000171\n",
            "216 - Convalescent Home or long term care (excluding senior care)                0.000171\n",
            "537 - Rug, floor covering store                                                  0.000171\n",
            "801 - Mine                                                                       0.000171\n",
            "112 - Art Gallery                                                                0.000171\n",
            "652 - Mfg: Primary Processing (eg sawmill, plywood manufacturer, etc)            0.000171\n",
            "645 - Mfg: Dry Cleaning Plant                                                    0.000171\n",
            "507 - Market - Indoors (flowers, fruit, vegetable sales)                         0.000171\n",
            "749 - Sto: Other Vehicles, Parts                                                 0.000171\n",
            "535 - Computer/electronics store, service or repair                              0.000171\n",
            "163 - Indoor Swimming Facility                                                   0.000171\n",
            "222 - Institute for the blind, deaf                                              0.000171\n",
            "870 - Barn - containing equipment or produce only                                0.000171\n",
            "872 - Animal shelter, excluding farm structures                                  0.000114\n",
            "914 - Multiple Rail Vehicles                                                     0.000114\n",
            "155 - Legislative Facility/Building                                              0.000114\n",
            "416 - Furniture, upholstery repair without sales                                 0.000114\n",
            "410 - Small Tool/Appliance Rental/Service Establishment                          0.000114\n",
            "835 - Textiles, Fibres, Clothing                                                 0.000114\n",
            "342 - Mobile Home                                                                0.000114\n",
            "136 - School - Business, Commerce, Secretarial                                   0.000114\n",
            "707 - Sto: Vegetable/Animal Oil Products                                         0.000114\n",
            "822 - Telephone Exchange                                                         0.000114\n",
            "126 - Non Residential Club                                                       0.000114\n",
            "528 - Garden Supply                                                              0.000114\n",
            "154 - Funeral Facility                                                           0.000114\n",
            "402 - Post Office                                                                0.000114\n",
            "531 - Florist                                                                    0.000114\n",
            "218 - Hospice                                                                    0.000114\n",
            "943 - Agricultural Vehicles                                                      0.000114\n",
            "299 - Other Care & Detention Not Classified                                      0.000114\n",
            "646 - Mfg:  Floor covering and coated fabrics (exc rubber, ceramic)              0.000114\n",
            "683 - Sto: Plastics                                                              0.000114\n",
            "529 - Book/Stationary/Art Supply Store                                           0.000114\n",
            "406 - Police Station (without detention quarters)                                0.000114\n",
            "742 - Sto: Rail Vehicles, Parts                                                  0.000114\n",
            "821 - Radio Transmission Site, Microwave Tower                                   0.000114\n",
            "122 - Dance Studio                                                               0.000114\n",
            "534 - Video Rental Shop                                                          0.000114\n",
            "175 - Tent or temporary structure for assembly activity                          0.000114\n",
            "131 - School - Pre-Elementary                                                    0.000114\n",
            "854 - Sauna - Outdoors                                                           0.000114\n",
            "833 - Flammable/Combustible Liquids, Gases                                       0.000114\n",
            "127 - Casino                                                                     0.000114\n",
            "541 - Tent or temporary structure for Mercantile activity                        0.000114\n",
            "527 - Lumber Yard                                                                0.000114\n",
            "615 - Water Works                                                                0.000114\n",
            "673 - Mfg: Prec.Goods/Instruments (eg surgical instr, cameras, etc)              0.000114\n",
            "641 - Mfg: Textile Manufacturing (e.g. preparing fibers, spinning, weaving)      0.000114\n",
            "665 - Specialty Vehicles, Parts                                                  0.000114\n",
            "724 - Sto: Dry Cleaning Plant                                                    0.000114\n",
            "664 - Mfg: Aircraft, Parts                                                       0.000114\n",
            "344 - Houseboat                                                                  0.000114\n",
            "703 - Sto: Grain Products, Bakery Goods                                          0.000114\n",
            "769 - Sto: Tent or temporary structure for industrial storage                    0.000114\n",
            "128 - Bingo Hall                                                                 0.000114\n",
            "413 - Mailing, photocopying office                                               0.000057\n",
            "369 - Convent, Monastery                                                         0.000057\n",
            "753 - Sto: Precision Goods/Instruments                                           0.000057\n",
            "678 - Mfg:Glass & glass products, china, pottery                                 0.000057\n",
            "752 - Sto: Secondary Metal Products                                              0.000057\n",
            "356 - Hotel, Motel, Lodging - Less than 4 guests or suites (inc B&B)             0.000057\n",
            "674 - Mfg: Precious Metals, Jewellery                                            0.000057\n",
            "663 - Mfg: Watercraft, Parts                                                     0.000057\n",
            "174 - Bleacher, Grandstand, Reviewing Stand                                      0.000057\n",
            "624 - Mfg: Paint, Varnishes, Lacquers                                            0.000057\n",
            "203 - Adult Detention Camp (minimum security)                                    0.000057\n",
            "868 - Greenhouse                                                                 0.000057\n",
            "637 - Mfg: Vegetable/Animal Oil Products                                         0.000057\n",
            "414 - Document centre, record repository (inc archives)                          0.000057\n",
            "605 - Car Wash                                                                   0.000057\n",
            "211 - Psychiatric Hospital (without detention quarters)                          0.000057\n",
            "524 - Paint/Wallpaper Store                                                      0.000057\n",
            "512 - Catalogue/Mail Order Outlet                                                0.000057\n",
            "687 - Sto: Asphalt Products                                                      0.000057\n",
            "729 - Sto: Other Textile Goods                                                   0.000057\n",
            "761 - Sto: Glass & Glass Products, pottery, chinaware                            0.000057\n",
            "721 - Sto: Textiles                                                              0.000057\n",
            "522 - Fabric Store                                                               0.000057\n",
            "412 - Engineering, Architect or Tech office                                      0.000057\n",
            "745 - Sto: Specialty Vehicles, Parts                                             0.000057\n",
            "803 - Quarry                                                                     0.000057\n",
            "506 - Market - Outdoors (flowers, fruit, vegetable sales)                        0.000057\n",
            "202 - Reformatory (with detention quarters)                                      0.000057\n",
            "723 - Sto: Wearing Apparal                                                       0.000057\n",
            "115 - Lecture Hall                                                               0.000057\n",
            "945 - Tank truck - Compressed or LP Gas, flammable liquid, chemicals             0.000057\n",
            "705 - Sto: Soft Drinks                                                           0.000057\n",
            "620 - Heating Plant - central/district heating plant, steam, etc                 0.000057\n",
            "640 - Mfg:  Canning, preserving, processing fruits, vegetables                   0.000057\n",
            "699 - Sto: Other Chem/Petroleum/Paint/Plastic Products                           0.000057\n",
            "691 - Sto: Tank, Tank Farm, Other Liquids                                        0.000057\n",
            "845 - Telephone Booth                                                            0.000057\n",
            "343 - Tent                                                                       0.000057\n",
            "217 - Infirmary                                                                  0.000057\n",
            "702 - Sto: Dairy Goods, Produce                                                  0.000057\n",
            "Other                                                                            0.000057\n",
            "871 - Barn - housing animals                                                     0.000057\n",
            "719 - Sto: Other Agri Products, Food, Beverages, Tobacco, etc                    0.000057\n",
            "708 - Sto: Sugar Refining, Sugar Products                                        0.000057\n",
            "869 - Other farm building (e.g. curing shed, growing facility)                   0.000057\n",
            "Name: Property_Use, dtype: float64\n",
            "---------------------------------------\n",
            "---------------------------------------\n",
            "variable name: Initial_CAD_Event_Type \n",
            "\n",
            "number of categories:  115 \n",
            "\n",
            "FIR                                       0.224053\n",
            "Fire - Grass/Rubbish                      0.096829\n",
            "VEF                                       0.094206\n",
            "FIHR                                      0.092210\n",
            "FICI                                      0.074304\n",
            "FIG                                       0.052292\n",
            "Fire - Residential                        0.051209\n",
            "FAHR                                      0.044879\n",
            "VEFH                                      0.031250\n",
            "Vehicle Fire                              0.027258\n",
            "Fire -  Highrise Residential              0.021613\n",
            "Fire - Commercial/Industrial              0.021385\n",
            "FACI                                      0.017279\n",
            "Alarm Highrise Residential                0.013401\n",
            "FIHRD                                     0.011348\n",
            "FAR                                       0.009979\n",
            "Vehicle Fire - Highway                    0.008953\n",
            "FAHRD                                     0.008782\n",
            "FITP                                      0.006444\n",
            "FIS                                       0.006102\n",
            "CC                                        0.004676\n",
            "Alarm Commercial/Industrial               0.004676\n",
            "FIO                                       0.004619\n",
            "FAI                                       0.003878\n",
            "Alarm Highrise Residential Downtown       0.003707\n",
            "VEFU                                      0.003650\n",
            "FIHV                                      0.003079\n",
            "VEAF                                      0.003022\n",
            "FII                                       0.002965\n",
            "Alarm Residential                         0.002908\n",
            "FIHCD                                     0.002851\n",
            "FAHCD                                     0.002623\n",
            "Fire - Other                              0.002452\n",
            "Fire - Highrise Residential - Downtown    0.002395\n",
            "Fire - Subway                             0.002281\n",
            "Fire - Transformer/Pole                   0.002167\n",
            "FIOS                                      0.002110\n",
            "Check Call                                0.001882\n",
            "Fire - Outside Storage                    0.001540\n",
            "FIIS                                      0.001426\n",
            "Fire - Institution - School               0.001255\n",
            "FAID                                      0.001198\n",
            "FAIS                                      0.001198\n",
            "VEPIH                                     0.001141\n",
            "VEAT                                      0.001083\n",
            "Alarm - Institution - School              0.000969\n",
            "Fire - Institution                        0.000969\n",
            "Fire - Hydro Vault                        0.000912\n",
            "Vehicle Accident with Fire                0.000912\n",
            "FAHC                                      0.000855\n",
            "Alarm Institution                         0.000798\n",
            "FIID                                      0.000798\n",
            "FISD                                      0.000798\n",
            "WDH                                       0.000741\n",
            "FIHC                                      0.000741\n",
            "VEATH                                     0.000684\n",
            "NGASFI                                    0.000684\n",
            "ISFI                                      0.000627\n",
            "Alarm Highrise - Commercial - Downtown    0.000627\n",
            "Vehicle Fire - Underground                0.000570\n",
            "MEO                                       0.000570\n",
            "Wires Down - Hydro                        0.000513\n",
            "HAZ1                                      0.000513\n",
            "Vehicle Accident - Trapped                0.000456\n",
            "FACC                                      0.000399\n",
            "NGASLK                                    0.000399\n",
            "HAZ2                                      0.000342\n",
            "Water Problem                             0.000342\n",
            "CONM                                      0.000285\n",
            "Alarm Institution Downtown                0.000285\n",
            "Natural Gas Fire                          0.000285\n",
            "VEFHE                                     0.000285\n",
            "Fire - Highrise Commercial - Downtown     0.000285\n",
            "VEPI                                      0.000285\n",
            "Alarm Highrise Commercial                 0.000285\n",
            "WAT                                       0.000228\n",
            "Fire - Highrise Commercial                0.000228\n",
            "Medical - Other                           0.000228\n",
            "FIWMI                                     0.000171\n",
            "MEU                                       0.000171\n",
            "Vehicle - Personal Injury Highway         0.000171\n",
            "Fire - Subway - Downtown                  0.000171\n",
            "Hazmat Level 1                            0.000171\n",
            "Fire - Alarm Waterfront Highrise          0.000114\n",
            "Natural Gas Leak                          0.000114\n",
            "FAWMI                                     0.000114\n",
            "CCA                                       0.000114\n",
            "PA                                        0.000114\n",
            "Medical - Unconscious                     0.000114\n",
            "FAS                                       0.000114\n",
            "Carbon Monoxide - Non Medical             0.000114\n",
            "METB                                      0.000114\n",
            "FIW                                       0.000114\n",
            "Medical - Trouble Breathing               0.000114\n",
            "Fire Waterfront Marina/Industrial         0.000114\n",
            "COM                                       0.000114\n",
            "Hazmat Level 2                            0.000114\n",
            "Fire - Institution - Downtown             0.000114\n",
            "Vehicle - Spill Clean Up                  0.000057\n",
            "REHL                                      0.000057\n",
            "Island Fire Alarm Response                0.000057\n",
            "Island - Fire Response                    0.000057\n",
            "Vehicle Fire - Highway Elevated           0.000057\n",
            "MEPI                                      0.000057\n",
            "LKFI                                      0.000057\n",
            "Vehicle Accident - Trapped - Highway      0.000057\n",
            "Vehicle - Personal Injury                 0.000057\n",
            "MECC                                      0.000057\n",
            "Fire Alarm - Check Call                   0.000057\n",
            "PUB                                       0.000057\n",
            "Alarm Waterfront Marina/Industrial        0.000057\n",
            "MECR                                      0.000057\n",
            "Check Call - Non Emergency                0.000057\n",
            "MESC                                      0.000057\n",
            "ISFA                                      0.000057\n",
            "Name: Initial_CAD_Event_Type, dtype: float64\n",
            "---------------------------------------\n",
            "---------------------------------------\n",
            "variable name: Ignition_Source \n",
            "\n",
            "number of categories:  84 \n",
            "\n",
            "999 - Undetermined                                                       0.352532\n",
            "11 - Stove, Range-top burner                                             0.109375\n",
            "71 - Smoker's Articles (eg. cigarettes, cigars, pipes already ignited    0.090899\n",
            "81 - Vehicle - Electrical                                                0.061131\n",
            "82 - Vehicle - Mechanical                                                0.035983\n",
            "12 - Oven                                                                0.024749\n",
            "24 - Circuit Wiring - Copper                                             0.019617\n",
            "43 - Clothes Dryer                                                       0.016937\n",
            "55 - Candle                                                              0.015739\n",
            "98 - Other                                                               0.015226\n",
            "30 - Other Electrical Distribution Item                                  0.012717\n",
            "28 - Cord, Cable for Appliance, Electrical Articles                      0.012432\n",
            "83 - Other Electrical                                                    0.012375\n",
            "72 - Cutting/Welding Equipment                                           0.012032\n",
            "73 - Blow Torch, Bunsen Burner                                           0.011975\n",
            "20 - Service/Utility Lines (includes power/hydro transmission lines)     0.010436\n",
            "79 - Other Open Flame Tools/Smokers' Articles                            0.009238\n",
            "14 - Open Fired Barbeque - Fixed or Portable                             0.009067\n",
            "19 - Other Cooking Items (eg Toaster, Kettle, elec frying pan)           0.008725\n",
            "23 - Distribution Equipment (includes panel boards, fuses, circuit br    0.008611\n",
            "84 - Other Mechanical                                                    0.007870\n",
            "93 - Hot Ashes, Embers, Spark                                            0.007812\n",
            "96 - Chemical Reaction (eg. spontaneous combustion, etc.)                0.006387\n",
            "36 - Fireplace - Masonry                                                 0.006330\n",
            "49 - Other Appliances                                                    0.006102\n",
            "85 - Vehicle collision                                                   0.005874\n",
            "51 - Incandescent Lamp - Light Bulb, Spotlight                           0.005760\n",
            "29 - Extension Cord, Temporary Wiring                                    0.005703\n",
            "26 - Terminations-Copper (incl receptacles, switches, lights)            0.005589\n",
            "16 - Deep Fat Fryer                                                      0.005474\n",
            "77 - Matches or Lighters (unable to distinguish)                         0.005360\n",
            "17 - Wood burning stove                                                  0.005246\n",
            "21 - Transformer                                                         0.004961\n",
            "76 - Lighters (open flame)                                               0.004676\n",
            "31 - Central Heating/Cooling Unit                                        0.004562\n",
            "41 - Other Heating Equipment                                             0.004220\n",
            "34 - Space Heater - Portable                                             0.004049\n",
            "92 - Open Fire (eg. camp fire, rubbish fire, etc.)                       0.003992\n",
            "69 - Other Processing Equipment                                          0.003536\n",
            "15 - Range Hood                                                          0.003079\n",
            "75 - Matches (open flame)                                                0.002851\n",
            "62 - Heat Treatment Equipment (eg. furnace, oven, kiln, quench tanks,    0.002737\n",
            "13 - Microwave                                                           0.002566\n",
            "33 - Space Heater - Fixed                                                0.002566\n",
            "59 - Other Lighting Equipment                                            0.002167\n",
            "47 - Refrigerator, Freezer (includes vending machine)                    0.002167\n",
            "42 - Television, Radio, Stereo, Tape Recorder, etc.                      0.002053\n",
            "52 - Florescent Lamp (includes ballast)                                  0.001939\n",
            "91 - Fireworks                                                           0.001768\n",
            "40 - Flue Pipe                                                           0.001654\n",
            "32 - Water Heater                                                        0.001483\n",
            "56 - Halogen Lamp or light                                               0.001426\n",
            "104 - Exposure, source open fire (inc campfire, rubbish fire)            0.001141\n",
            "108 - Exposure, source other                                             0.001141\n",
            "37 - Fireplace Insert                                                    0.001141\n",
            "9990 - Under Investigation                                               0.000912\n",
            "107 - Exposure, source vehicle (outside structure)                       0.000855\n",
            "48 - Air Conditioner - Window or Room Unit                               0.000855\n",
            "45 - Washing Machine                                                     0.000855\n",
            "63 - Painting Equipment                                                  0.000798\n",
            "95 - Lightning                                                           0.000798\n",
            "100 - Outdoor fireplace/heater                                           0.000741\n",
            "80 - Portable generator                                                  0.000684\n",
            "35 - Fireplace - Factory Built                                           0.000684\n",
            "94 - Static Electricity (spark)                                          0.000627\n",
            "97 - Rekindle                                                            0.000627\n",
            "39 - Chimney - Masonry                                                   0.000627\n",
            "88 - Multiple Ignition Source or Igniting Equipment (suspected arson)    0.000627\n",
            "106 - Exposure, source grass, shrubs, trees                              0.000570\n",
            "38 - Chimney - Factory Built                                             0.000513\n",
            "22 - Meter                                                               0.000513\n",
            "25 - Circuit Wiring - Aluminum                                           0.000513\n",
            "44 - Iron, Pressing Machine                                              0.000399\n",
            "74 - Salamander                                                          0.000342\n",
            "27 - Terminations-Aluminum (incl receptables, switches, lights)          0.000342\n",
            "54 - Lamp (eg. coal, oil, naphtha, etc.)                                 0.000342\n",
            "101 - Exposure, source structure detached                                0.000285\n",
            "53 - Christmas Lights, Decorative Lighting                               0.000285\n",
            "102 - Exposure, source structure semi-detached or attached               0.000228\n",
            "64 - Chemical Processing Equipment (eg. reactors, distilling units, e    0.000228\n",
            "103 - Exposure, source outside storage container, tank                   0.000228\n",
            "61 - Incinerator                                                         0.000114\n",
            "46 - Electric Blanket, Heating Pad                                       0.000114\n",
            "105 - Exposure, source forest, trees, wildland                           0.000114\n",
            "Name: Ignition_Source, dtype: float64\n",
            "---------------------------------------\n",
            "---------------------------------------\n",
            "variable name: Area_of_Origin \n",
            "\n",
            "number of categories:  74 \n",
            "\n",
            "24 - Cooking Area or Kitchen                                                 0.164120\n",
            "81 - Engine Area                                                             0.110116\n",
            "NaN                                                                          0.109090\n",
            "44 - Trash, Rubbish Storage (inc garbage chute room, garbage/industri        0.061017\n",
            "64 - Porch or Balcony                                                        0.054573\n",
            "22 - Sleeping Area or Bedroom (inc. patients room, dormitory, etc)           0.049669\n",
            "21 - Living Area (e.g. living, TV, recreation, etc)                          0.033987\n",
            "75 - Trash, rubbish area (outside)                                           0.024464\n",
            "97 - Other - unclassified                                                    0.023837\n",
            "99 - Undetermined  (formerly 98)                                             0.022924\n",
            "42 - Garage                                                                  0.022867\n",
            "83 - Electrical Systems                                                      0.022582\n",
            "27 - Laundry Area                                                            0.020871\n",
            "25 - Washroom or Bathroom (toilet,restroom/locker room)                      0.016708\n",
            "79 - Other Outside Area                                                      0.016024\n",
            "86 - Passenger Area                                                          0.015340\n",
            "62 - Roof                                                                    0.015112\n",
            "71 - Open Area (inc lawn, field, farmyard, park, playing field, pier,        0.012717\n",
            "89 - Other Vehicle Area                                                      0.012603\n",
            "31 - Process Manufacturing (inc manf, prod assembly, repair)                 0.011633\n",
            "53 - Chimney/Flue Pipe                                                       0.011405\n",
            "55 - Mechanical/Electrical Services Room                                     0.010094\n",
            "87 - Trunk/Cargo Area                                                        0.009694\n",
            "50 - Basement/cellar (not partitioned)                                       0.009067\n",
            "61 - Exterior Wall                                                           0.008668\n",
            "12 - Hallway, Corridor                                                       0.008554\n",
            "73 - Parking Area, Parking Lot                                               0.007870\n",
            "72 - Court, Patio, Terrace                                                   0.006729\n",
            "74 - Storage Area (outside)                                                  0.006387\n",
            "49 - Other Storage Area                                                      0.006387\n",
            "78 - Attached Deck                                                           0.005988\n",
            "52 - HVAC Equipment Room (furnace room, water heater closet, boiler)         0.005874\n",
            "29 - Electronic Equipment                                                    0.005189\n",
            "13 - Stairway, Escalator                                                     0.005018\n",
            "11 - Lobby, Entranceway                                                      0.004961\n",
            "23 - Dining or Beverage Area (inc mess, canteen, lunchroom, cafeteria        0.004619\n",
            "85 - Operator/Control Area                                                   0.004505\n",
            "82 - Running Gear (inc wheels and braking systems, transmission syste        0.004220\n",
            "41 - Closet (eg. clothes, broom, linen closet, etc.)                         0.003707\n",
            "69 - Attic Area                                                              0.003650\n",
            "58 - Ducting - Exhaust (inc cooking, fumes, etc.)                            0.003136\n",
            "70 - Other Structural Area                                                   0.003136\n",
            "28 - Office                                                                  0.003079\n",
            "66 - Concealed Ceiling Area                                                  0.003022\n",
            "84 - Fuel Systems (eg. fuel tank, etc.)                                      0.002965\n",
            "39 - Other Functional Area                                                   0.002680\n",
            "46 - Product Storage (inc products or materials awaiting manuf, assembly)    0.002566\n",
            "47 - Shipping/Receiving/Loading Platform                                     0.002281\n",
            "45 - Supply Storage Room (inc maintenance/office/document storage, et        0.002110\n",
            "30 - Sales, Showroom Area                                                    0.002053\n",
            "26 - Sauna                                                                   0.001825\n",
            "59 - Utility Shaft (eg. electrical wiring/phone, etc.)                       0.001768\n",
            "68 - Concealed Wall Area                                                     0.001540\n",
            "51 - Elevator (includes shaft)                                               0.001312\n",
            "60 - Other Building Services/Support Facilities                              0.001255\n",
            "57 - Ducting - Heating, Air Conditioning                                     0.001198\n",
            "63 - Awning or Canopy                                                        0.001141\n",
            "56 - Conveyor Shaft or Chute (inc dumbwaiter, laundry chute, garbage         0.001026\n",
            "43 - Locker (apartment storage)                                              0.000969\n",
            "67 - Concealed Floor Area                                                    0.000969\n",
            "91 - Multiple Areas of Origin                                                0.000855\n",
            "33 - Laboratory                                                              0.000855\n",
            "19 - Other Means of Egress                                                   0.000798\n",
            "32 - Assembly Area (inc school room,spectator area, church, etc)             0.000798\n",
            "65 - Crawl Space (includes sub-structure)                                    0.000684\n",
            "93 - Residential/Business: Other busines area                                0.000684\n",
            "92 - Residential/Business: Restaurant area                                   0.000570\n",
            "35 - Performance Area (inc stage, rink, boxing ring, gym floor, altar        0.000456\n",
            "18 - Covered Court, Atrium, mall concourse                                   0.000399\n",
            "990 - Under Investigation                                                    0.000342\n",
            "34 - Operating Room, Treatment or Examination Area                           0.000342\n",
            "54 - Incinerator Room                                                        0.000171\n",
            "48 - Records storage area (inc vaults)                                       0.000114\n",
            "76 - Fuel Dispensing Area (outside)                                          0.000057\n",
            "Name: Area_of_Origin, dtype: float64\n",
            "---------------------------------------\n",
            "---------------------------------------\n",
            "variable name: Level_Of_Origin \n",
            "\n",
            "number of categories:  60 \n",
            "\n",
            "NaN    0.360516\n",
            "001    0.246750\n",
            "B01    0.092153\n",
            "002    0.078125\n",
            "003    0.037466\n",
            "999    0.029026\n",
            "004    0.018077\n",
            "005    0.013287\n",
            "006    0.012432\n",
            "996    0.012032\n",
            "007    0.009751\n",
            "B02    0.008155\n",
            "997    0.008155\n",
            "008    0.007927\n",
            "009    0.007527\n",
            "010    0.006786\n",
            "012    0.006216\n",
            "011    0.005646\n",
            "015    0.004334\n",
            "014    0.004163\n",
            "998    0.003422\n",
            "016    0.003365\n",
            "017    0.003307\n",
            "018    0.002566\n",
            "019    0.002338\n",
            "B03    0.002110\n",
            "020    0.002110\n",
            "021    0.001312\n",
            "013    0.001255\n",
            "022    0.001141\n",
            "024    0.001083\n",
            "023    0.001083\n",
            "025    0.000855\n",
            "027    0.000741\n",
            "026    0.000513\n",
            "B04    0.000513\n",
            "028    0.000513\n",
            "029    0.000456\n",
            "030    0.000399\n",
            "033    0.000228\n",
            "031    0.000228\n",
            "035    0.000228\n",
            "037    0.000171\n",
            "034    0.000171\n",
            "039    0.000171\n",
            "046    0.000171\n",
            "041    0.000114\n",
            "048    0.000114\n",
            "047    0.000114\n",
            "B07    0.000114\n",
            "038    0.000057\n",
            "043    0.000057\n",
            "B05    0.000057\n",
            "B09    0.000057\n",
            "044    0.000057\n",
            "036    0.000057\n",
            "054    0.000057\n",
            "050    0.000057\n",
            "042    0.000057\n",
            "032    0.000057\n",
            "Name: Level_Of_Origin, dtype: float64\n",
            "---------------------------------------\n",
            "---------------------------------------\n",
            "variable name: Material_First_Ignited \n",
            "\n",
            "number of categories:  54 \n",
            "\n",
            "99 - Undetermined (formerly 98)                                 0.245381\n",
            "46 - Rubbish, Trash, Waste                                      0.104186\n",
            "74 - Cooking Oil, Grease                                        0.083086\n",
            "47 - Vehicle                                                    0.069115\n",
            "43 - Electrical Wiring Insulation                               0.063355\n",
            "97 - Other                                                      0.054402\n",
            "55 - Wood                                                       0.030395\n",
            "56 - Paper, Cardboard                                           0.027087\n",
            "54 - Plastic                                                    0.026973\n",
            "14 - Interior Wall/Ceiling                                      0.022924\n",
            "23 - Cabinetry                                                  0.019674\n",
            "16 - Insulation                                                 0.018932\n",
            "21 - Upholstered Sofa, Chair, etc.                              0.018761\n",
            "31 - Mattress, Pillow                                           0.015625\n",
            "51 - Bush, Grass, Tree, Leaves, etc.                            0.014713\n",
            "39 - Other Soft Goods, Wearing Apparel                          0.013914\n",
            "48 - Multiple Objects or Materials                              0.013344\n",
            "41 - Books, Magazines, Newspapers                               0.011006\n",
            "96 - Multiple diverse objects ignited                           0.009865\n",
            "33 - Linen Other than Bedding                                   0.009637\n",
            "44 - Creosote (chimney, flue pipe)                              0.008497\n",
            "11 - Exterior Roof Covering                                     0.008383\n",
            "32 - Bedding                                                    0.008041\n",
            "12 - Exterior Cladding                                          0.007984\n",
            "19 - Other Building Component                                   0.007927\n",
            "71 - Gasoline                                                   0.007755\n",
            "58 - Fabric - Synthetic, Combination                            0.007527\n",
            "29 - Other Furniture                                            0.006444\n",
            "15 - Structural Member                                          0.006330\n",
            "13 - Floor                                                      0.006045\n",
            "57 - Fabric - Natural (eg. cotton, wool, etc.)                  0.005303\n",
            "36 - Rug, Carpet                                                0.004106\n",
            "61 - Propane                                                    0.004106\n",
            "35 - Curtain, Drapery                                           0.003878\n",
            "79 - Other Flammable, Combustible Liquid                        0.003650\n",
            "62 - Natural Gas                                                0.003307\n",
            "81 - Rubber, not classified above                               0.003250\n",
            "87 - Other chemicals, materials not classified above            0.003022\n",
            "59 - Asphalt, Tar Product                                       0.002965\n",
            "52 - Agricultural Product - Grown (eg. straw, seeds, etc.)      0.002794\n",
            "83 - Oily rags (inc. paint rags, etc)                           0.002737\n",
            "22 - Non-upholstered Chair, etc.                                0.002338\n",
            "34 - Wearing Apparel on a Person                                0.002167\n",
            "72 - Diesel Fuel/Fuel Oil                                       0.001939\n",
            "42 - Cleaning Supplies                                          0.001882\n",
            "69 - Other Gases                                                0.001369\n",
            "45 - Nest                                                       0.000969\n",
            "75 - Paint, varnish stored in container                         0.000741\n",
            "40 - Christmas Tree                                             0.000570\n",
            "73 - Alcohol (methanol)                                         0.000399\n",
            "990 - Under Investigation                                       0.000342\n",
            "53 - Agricultural Product - Other (eg pesticide, fertilizer)    0.000342\n",
            "82 - Oxidizing material (inc bleach, peroxide)                  0.000285\n",
            "86 - Pyrophoric metals                                          0.000228\n",
            "Name: Material_First_Ignited, dtype: float64\n",
            "---------------------------------------\n",
            "---------------------------------------\n",
            "variable name: Possible_Cause \n",
            "\n",
            "number of categories:  24 \n",
            "\n",
            "99 - Undetermined                                                         0.288321\n",
            "52 - Electrical Failure                                                   0.145700\n",
            "45 - Improperly Discarded                                                 0.103273\n",
            "44 - Unattended                                                           0.090899\n",
            "60 - Other unintentional cause, not classified                            0.070883\n",
            "98 - Unintentional, cause undetermined                                    0.057653\n",
            "47 - Improper handling of ignition source or ignited material             0.050297\n",
            "51 - Mechanical Failure                                                   0.037352\n",
            "20 - Design/Construction/Installation/Maintenance Deficiency              0.035356\n",
            "28 - Routine maintenance deficiency, eg creosote, lint, grease buildup    0.031763\n",
            "46 - Used or Placed too close to combustibles                             0.023152\n",
            "50 - Other misuse of ignition source/material ignited                     0.017507\n",
            "01 - Suspected Arson                                                      0.011747\n",
            "12 - Vehicle Accident/Collision                                           0.011519\n",
            "49 - Improper Storage                                                     0.006672\n",
            "11 - Children Playing (Ages 11 and under)                                 0.004505\n",
            "48 - Used for purpose not intended                                        0.003707\n",
            "03 - Suspected Vandalism                                                  0.003422\n",
            "73 - Natural Cause                                                        0.002509\n",
            "80 - Exposure fire                                                        0.001255\n",
            "04 - Suspected Youth Vandalism (Ages 12 to 17)                            0.000969\n",
            "72 - Rekindle                                                             0.000855\n",
            "990 - Under Investigation                                                 0.000627\n",
            "02 - Riot/Civil Commotion                                                 0.000057\n",
            "Name: Possible_Cause, dtype: float64\n",
            "---------------------------------------\n"
          ]
        }
      ]
    },
    {
      "cell_type": "code",
      "metadata": {
        "colab": {
          "base_uri": "https://localhost:8080/",
          "height": 1000
        },
        "id": "Aas4FGSexJkm",
        "outputId": "fa04910b-9fdc-45d8-cfa7-d00ec118ab34"
      },
      "source": [
        "for c in high_cat:\n",
        "  plot_cat(c)"
      ],
      "execution_count": null,
      "outputs": [
        {
          "output_type": "stream",
          "name": "stderr",
          "text": [
            "/usr/local/lib/python3.7/dist-packages/seaborn/_decorators.py:43: FutureWarning: Pass the following variables as keyword args: x, y. From version 0.12, the only valid positional argument will be `data`, and passing other arguments without an explicit keyword will result in an error or misinterpretation.\n",
            "  FutureWarning\n"
          ]
        },
        {
          "output_type": "display_data",
          "data": {
            "image/png": "[encoded data removed]",
            "text/plain": [
              "<Figure size 1440x504 with 1 Axes>"
            ]
          },
          "metadata": {
            "needs_background": "light"
          }
        },
        {
          "output_type": "stream",
          "name": "stderr",
          "text": [
            "/usr/local/lib/python3.7/dist-packages/seaborn/_decorators.py:43: FutureWarning: Pass the following variables as keyword args: x, y. From version 0.12, the only valid positional argument will be `data`, and passing other arguments without an explicit keyword will result in an error or misinterpretation.\n",
            "  FutureWarning\n"
          ]
        },
        {
          "output_type": "display_data",
          "data": {
            "image/png": "[encoded data removed]",
            "text/plain": [
              "<Figure size 1440x504 with 1 Axes>"
            ]
          },
          "metadata": {
            "needs_background": "light"
          }
        },
        {
          "output_type": "stream",
          "name": "stderr",
          "text": [
            "/usr/local/lib/python3.7/dist-packages/seaborn/_decorators.py:43: FutureWarning: Pass the following variables as keyword args: x, y. From version 0.12, the only valid positional argument will be `data`, and passing other arguments without an explicit keyword will result in an error or misinterpretation.\n",
            "  FutureWarning\n"
          ]
        },
        {
          "output_type": "display_data",
          "data": {
            "image/png": "[encoded data removed]",
            "text/plain": [
              "<Figure size 1440x504 with 1 Axes>"
            ]
          },
          "metadata": {
            "needs_background": "light"
          }
        },
        {
          "output_type": "stream",
          "name": "stderr",
          "text": [
            "/usr/local/lib/python3.7/dist-packages/seaborn/_decorators.py:43: FutureWarning: Pass the following variables as keyword args: x, y. From version 0.12, the only valid positional argument will be `data`, and passing other arguments without an explicit keyword will result in an error or misinterpretation.\n",
            "  FutureWarning\n"
          ]
        },
        {
          "output_type": "display_data",
          "data": {
            "image/png": "[encoded data removed]",
            "text/plain": [
              "<Figure size 1440x504 with 1 Axes>"
            ]
          },
          "metadata": {
            "needs_background": "light"
          }
        },
        {
          "output_type": "stream",
          "name": "stderr",
          "text": [
            "/usr/local/lib/python3.7/dist-packages/seaborn/_decorators.py:43: FutureWarning: Pass the following variables as keyword args: x, y. From version 0.12, the only valid positional argument will be `data`, and passing other arguments without an explicit keyword will result in an error or misinterpretation.\n",
            "  FutureWarning\n"
          ]
        },
        {
          "output_type": "display_data",
          "data": {
            "image/png": "[encoded data removed]",
            "text/plain": [
              "<Figure size 1440x504 with 1 Axes>"
            ]
          },
          "metadata": {
            "needs_background": "light"
          }
        },
        {
          "output_type": "stream",
          "name": "stderr",
          "text": [
            "/usr/local/lib/python3.7/dist-packages/seaborn/_decorators.py:43: FutureWarning: Pass the following variables as keyword args: x, y. From version 0.12, the only valid positional argument will be `data`, and passing other arguments without an explicit keyword will result in an error or misinterpretation.\n",
            "  FutureWarning\n"
          ]
        },
        {
          "output_type": "display_data",
          "data": {
            "image/png": "[encoded data removed]",
            "text/plain": [
              "<Figure size 1440x504 with 1 Axes>"
            ]
          },
          "metadata": {
            "needs_background": "light"
          }
        },
        {
          "output_type": "stream",
          "name": "stderr",
          "text": [
            "/usr/local/lib/python3.7/dist-packages/seaborn/_decorators.py:43: FutureWarning: Pass the following variables as keyword args: x, y. From version 0.12, the only valid positional argument will be `data`, and passing other arguments without an explicit keyword will result in an error or misinterpretation.\n",
            "  FutureWarning\n"
          ]
        },
        {
          "output_type": "display_data",
          "data": {
            "image/png": "[encoded data removed]",
            "text/plain": [
              "<Figure size 1440x504 with 1 Axes>"
            ]
          },
          "metadata": {
            "needs_background": "light"
          }
        }
      ]
    },
    {
      "cell_type": "code",
      "metadata": {
        "id": "SmTPY8JkpuaM",
        "colab": {
          "base_uri": "https://localhost:8080/"
        },
        "outputId": "d703cd4c-439d-412e-f72d-3bef4a3c702d"
      },
      "source": [
        "med_cat=[x for x in med_cat.index if x not in cat_var_id]\n",
        "for c in med_cat:\n",
        "  exploration_cat(c)"
      ],
      "execution_count": null,
      "outputs": [
        {
          "output_type": "stream",
          "name": "stdout",
          "text": [
            "---------------------------------------\n",
            "variable name: Extent_Of_Fire \n",
            "\n",
            "number of categories:  13 \n",
            "\n",
            "NaN                                                                                 0.360516\n",
            "1 - Confined to object of origin                                                    0.292142\n",
            "2 - Confined to part of room/area of origin                                         0.232892\n",
            "3 - Spread to entire room of origin                                                 0.027429\n",
            "4 - Spread beyond room of origin, same floor                                        0.026745\n",
            "9 - Confined to roof/exterior structure                                             0.019503\n",
            "7 - Spread to other floors, confined to building                                    0.015625\n",
            "11 - Spread beyond building of origin, resulted in exposure fire(s)                 0.006843\n",
            "8 - Entire Structure                                                                0.005646\n",
            "99 - Undetermined                                                                   0.005189\n",
            "10 - Spread beyond building of origin                                               0.003193\n",
            "5 - Multi unit bldg: spread beyond suite of origin but not to separated suite(s)    0.002338\n",
            "6 - Multi unit bldg: spread to separate suite(s)                                    0.001939\n",
            "Name: Extent_Of_Fire, dtype: float64\n",
            "---------------------------------------\n",
            "---------------------------------------\n",
            "variable name: Smoke_Alarm_at_Fire_Origin_Alarm_Failure \n",
            "\n",
            "number of categories:  12 \n",
            "\n",
            "98 - Not applicable: Alarm operated OR presence/operation undetermined    0.443089\n",
            "NaN                                                                       0.360516\n",
            "4 - Remote from fire – smoke did not reach alarm                          0.063469\n",
            "99 - Reason for inoperation undetermined                                  0.035242\n",
            "9 - Other reason                                                          0.034443\n",
            "5 - Separated from fire (e.g. wall, etc)                                  0.022354\n",
            "1 - No battery                                                            0.010664\n",
            "7 - Unit failure                                                          0.009865\n",
            "2 - Dead battery                                                          0.008611\n",
            "3 - Electrical line or battery not connected                              0.007185\n",
            "6 - Improper installation of unit                                         0.002566\n",
            "8 - Tampered with (vandalism)                                             0.001996\n",
            "Name: Smoke_Alarm_at_Fire_Origin_Alarm_Failure, dtype: float64\n",
            "---------------------------------------\n",
            "---------------------------------------\n",
            "variable name: Smoke_Spread \n",
            "\n",
            "number of categories:  11 \n",
            "\n",
            "NaN                                                                                 0.360516\n",
            "2 - Confined to part of room/area of origin                                         0.164690\n",
            "4 - Spread beyond room of origin, same floor                                        0.156592\n",
            "7 - Spread to other floors, confined to building                                    0.103958\n",
            "3 - Spread to entire room of origin                                                 0.052920\n",
            "8 - Entire Structure                                                                0.042313\n",
            "5 - Multi unit bldg: spread beyond suite of origin but not to separated suite(s)    0.031193\n",
            "99 - Undetermined                                                                   0.030680\n",
            "9 - Confined to roof/exterior structure                                             0.026175\n",
            "6 - Multi unit bldg: spread to separate suite(s)                                    0.016880\n",
            "10 - Spread beyond building of origin                                               0.014085\n",
            "Name: Smoke_Spread, dtype: float64\n",
            "---------------------------------------\n",
            "---------------------------------------\n",
            "variable name: Status_of_Fire_On_Arrival \n",
            "\n",
            "number of categories:  9 \n",
            "\n",
            "3 - Fire with smoke showing only - including vehicle, outdoor fires                    0.228045\n",
            "1 - Fire extinguished prior to arrival                                                 0.226848\n",
            "2 - Fire with no evidence from street                                                  0.173415\n",
            "4 - Flames showing from small area (one storey or less, part of a vehicle, outdoor)    0.135036\n",
            "NaN                                                                                    0.109147\n",
            "7 - Fully involved (total structure, vehicle, spreading outdoor fire)                  0.087363\n",
            "5 - Flames showing from large area (more than one storey, large area outdoors)         0.020244\n",
            "9 - Unclassified                                                                       0.016937\n",
            "8 - Exposure involved                                                                  0.002965\n",
            "Name: Status_of_Fire_On_Arrival, dtype: float64\n",
            "---------------------------------------\n",
            "---------------------------------------\n",
            "variable name: Sprinkler_System_Operation \n",
            "\n",
            "number of categories:  8 \n",
            "\n",
            "8 - Not applicable - no sprinkler system present          0.392279\n",
            "NaN                                                       0.360516\n",
            "2 - Did not activate: remote from fire                    0.093351\n",
            "1 - Sprinkler system activated                            0.050297\n",
            "9 - Activation/operation undetermined                     0.048985\n",
            "3 - Did not activate: fire too small to trigger system    0.041914\n",
            "4 - Other reason for non activation/operation             0.006501\n",
            "5 - Did not activate: reason unknown                      0.006159\n",
            "Name: Sprinkler_System_Operation, dtype: float64\n",
            "---------------------------------------\n",
            "---------------------------------------\n",
            "variable name: Smoke_Alarm_Impact_on_Persons_Evacuating_Impact_on_Evacuation \n",
            "\n",
            "number of categories:  8 \n",
            "\n",
            "NaN                                                                                0.360516\n",
            "1 - All persons (at risk of injury) self evacuated as a result of hearing alarm    0.170906\n",
            "7 - Not applicable: Occupant(s) first alerted by other means                       0.148380\n",
            "8 - Not applicable: No alarm, no persons present                                   0.125342\n",
            "9 - Undetermined                                                                   0.079665\n",
            "2 - Some persons (at risk) self evacuated as a result of hearing alarm             0.063812\n",
            "3 - No one (at risk) evacuated as a result of hearing alarm                        0.049612\n",
            "4 - Alarm operated but failed to alert occupant(s) (at risk)                       0.001768\n",
            "Name: Smoke_Alarm_Impact_on_Persons_Evacuating_Impact_on_Evacuation, dtype: float64\n",
            "---------------------------------------\n",
            "---------------------------------------\n",
            "variable name: Business_Impact \n",
            "\n",
            "number of categories:  8 \n",
            "\n",
            "NaN                                         0.360516\n",
            "8 - Not applicable (not a business)         0.291058\n",
            "1 - No business interruption                0.256102\n",
            "9 - Undetermined                            0.042997\n",
            "2 - May resume operations within a week     0.036610\n",
            "3 - May resume operations within a month    0.007185\n",
            "5 - May not resume operations               0.003593\n",
            "4 - May resume operations within a year     0.001939\n",
            "Name: Business_Impact, dtype: float64\n",
            "---------------------------------------\n",
            "---------------------------------------\n",
            "variable name: Building_Status \n",
            "\n",
            "number of categories:  8 \n",
            "\n",
            "01 - Normal (no change)               0.558679\n",
            "NaN                                   0.360401\n",
            "08 - Not Applicable                   0.035983\n",
            "02 - Under Renovation                 0.027486\n",
            "03 - Under Construction               0.008668\n",
            "09 - Undetermined                     0.004733\n",
            "05 - Abandoned, vacant (long term)    0.003136\n",
            "04 - Under Demolition                 0.000912\n",
            "Name: Building_Status, dtype: float64\n",
            "---------------------------------------\n",
            "---------------------------------------\n",
            "variable name: Fire_Alarm_System_Impact_on_Evacuation \n",
            "\n",
            "number of categories:  8 \n",
            "\n",
            "NaN                                                                                       0.360516\n",
            "8 - Not applicable: No fire alarm system, no persons present                              0.175354\n",
            "7 - Not applicable: Occupant(s) first alerted by other means                              0.146042\n",
            "1 - All persons (at risk of injury) evacuated as a result of hearing fire alarm system    0.114906\n",
            "9 - Undetermined                                                                          0.091868\n",
            "2 - Some persons (at risk) evacuated as a result of hearing fire alarm system             0.070712\n",
            "3 - No one (at risk) evacuated as a result of hearing fire alarm system                   0.038435\n",
            "4 - Fire Alarm system operated but failed to alert occupant(s)                            0.002167\n",
            "Name: Fire_Alarm_System_Impact_on_Evacuation, dtype: float64\n",
            "---------------------------------------\n",
            "---------------------------------------\n",
            "variable name: Smoke_Alarm_at_Fire_Origin_Alarm_Type \n",
            "\n",
            "number of categories:  7 \n",
            "\n",
            "NaN                                                             0.360516\n",
            "8 - Not applicable - no smoke alarm or presence undetermined    0.146499\n",
            "1 - Battery operated                                            0.135721\n",
            "2 - Hardwired (standalone)                                      0.129790\n",
            "4 - Interconnected                                              0.117815\n",
            "9 - Type undetermined                                           0.108292\n",
            "3 - Wireless                                                    0.001369\n",
            "Name: Smoke_Alarm_at_Fire_Origin_Alarm_Type, dtype: float64\n",
            "---------------------------------------\n",
            "---------------------------------------\n",
            "variable name: Smoke_Alarm_at_Fire_Origin \n",
            "\n",
            "number of categories:  6 \n",
            "\n",
            "NaN                                                                            0.360516\n",
            "2 - Floor/suite of fire origin: Smoke alarm present and operated               0.281421\n",
            "1 - Floor/suite of fire origin: No smoke alarm                                 0.140226\n",
            "3 - Floor/suite of fire origin: Smoke alarm present did not operate            0.098312\n",
            "9 - Floor/suite of fire origin: Smoke alarm presence undetermined              0.076756\n",
            "4 - Floor/suite of fire origin: Smoke alarm present, operation undetermined    0.042769\n",
            "Name: Smoke_Alarm_at_Fire_Origin, dtype: float64\n",
            "---------------------------------------\n",
            "---------------------------------------\n",
            "variable name: Method_Of_Fire_Control \n",
            "\n",
            "number of categories:  6 \n",
            "\n",
            "1 - Extinguished by fire department     0.628136\n",
            "3 - Extinguished by occupant            0.173130\n",
            "NaN                                     0.109147\n",
            "4 - Fire self extinguished              0.040146\n",
            "2 - Extinguished by automatic system    0.028798\n",
            "5 - Action taken unclassified           0.020643\n",
            "Name: Method_Of_Fire_Control, dtype: float64\n",
            "---------------------------------------\n"
          ]
        }
      ]
    },
    {
      "cell_type": "markdown",
      "metadata": {
        "id": "qxaO8ByHypR0"
      },
      "source": [
        "### High Card: FSA frequency encoding"
      ]
    },
    {
      "cell_type": "code",
      "metadata": {
        "id": "xhrWIsnmJ8I5"
      },
      "source": [
        "#encode FSA with frequency (numerical)\n",
        "df=freq_encode('FSA')"
      ],
      "execution_count": null,
      "outputs": []
    },
    {
      "cell_type": "markdown",
      "metadata": {
        "id": "B7ff7uDMs1Yx"
      },
      "source": [
        "### High Card: Level of Origin binning\n",
        "\n",
        "\n",
        "* 001-003 low_rise_level\n",
        "* 004-012 mid_rise_level\n",
        "* 012-100 high_rise_level\n",
        "* 996 roof\n",
        "* B - below_grade_level\n",
        "* rest including NaN - other\n",
        "\n"
      ]
    },
    {
      "cell_type": "code",
      "metadata": {
        "id": "6OG9CwXx7NMk"
      },
      "source": [
        "#Level_of_Origin: https://www.toronto.ca/ext/open_data/catalog/data_set_files/ofmcodes2009.pdf\n",
        "LOO=df['Level_Of_Origin']"
      ],
      "execution_count": null,
      "outputs": []
    },
    {
      "cell_type": "code",
      "metadata": {
        "colab": {
          "base_uri": "https://localhost:8080/"
        },
        "id": "QDzusSPhs6Z1",
        "outputId": "c0d4820a-2a57-4959-ac17-b892ef1f0c05"
      },
      "source": [
        "LOO_imputed=[None]*len(LOO)\n",
        "for i in range(len(LOO)):\n",
        "  try: \n",
        "    #LOO_imputed[i]=int(LOO[i])\n",
        "    if int(LOO[i])<=3:\n",
        "      LOO_imputed[i]='low_rise_level'\n",
        "    elif int(LOO[i])<=12:\n",
        "      LOO_imputed[i]='mid_rise_level'\n",
        "    elif int(LOO[i])<=100:\n",
        "      LOO_imputed[i]='high_rise_level'\n",
        "    elif int(LOO[i])==996:\n",
        "      LOO_imputed[i]='roof'\n",
        "    else:\n",
        "      LOO_imputed[i]='other'\n",
        "  except:\n",
        "    LOO_imputed[i]='below_grade_level'\n",
        "print(LOO_imputed[0:50])"
      ],
      "execution_count": null,
      "outputs": [
        {
          "output_type": "stream",
          "name": "stdout",
          "text": [
            "['other', 'other', 'other', 'other', 'other', 'other', 'low_rise_level', 'mid_rise_level', 'low_rise_level', 'other', 'other', 'low_rise_level', 'other', 'low_rise_level', 'other', 'other', 'low_rise_level', 'high_rise_level', 'low_rise_level', 'other', 'other', 'other', 'mid_rise_level', 'low_rise_level', 'other', 'other', 'low_rise_level', 'other', 'other', 'other', 'other', 'other', 'other', 'other', 'other', 'low_rise_level', 'other', 'other', 'other', 'other', 'other', 'other', 'low_rise_level', 'other', 'low_rise_level', 'mid_rise_level', 'other', 'other', 'mid_rise_level', 'other']\n"
          ]
        }
      ]
    },
    {
      "cell_type": "code",
      "metadata": {
        "id": "eDG5bNr4XhW-"
      },
      "source": [
        "df['LOO_imputed']=LOO_imputed"
      ],
      "execution_count": null,
      "outputs": []
    },
    {
      "cell_type": "markdown",
      "metadata": {
        "id": "zylgRK5cOqdp"
      },
      "source": [
        "### High Card: Possible Cause\n",
        "\n",
        "\n",
        "*   evaluate woe for each category\n",
        "*   create bins based on woe\n",
        "\n"
      ]
    },
    {
      "cell_type": "code",
      "metadata": {
        "id": "sZ5X2GnfOyyG"
      },
      "source": [
        "df_test=woe_encoder('Possible_Cause','LABEL')"
      ],
      "execution_count": null,
      "outputs": []
    },
    {
      "cell_type": "code",
      "metadata": {
        "colab": {
          "base_uri": "https://localhost:8080/",
          "height": 793
        },
        "id": "dmClJk6KgrPb",
        "outputId": "e7691be4-f6ae-4406-f853-4b0107167a7f"
      },
      "source": [
        "df_test[['Possible_Cause','Possible_Cause_woe']].drop_duplicates().sort_values(by='Possible_Cause_woe')"
      ],
      "execution_count": null,
      "outputs": [
        {
          "output_type": "execute_result",
          "data": {
            "text/html": [
              "<div>\n",
              "<style scoped>\n",
              "    .dataframe tbody tr th:only-of-type {\n",
              "        vertical-align: middle;\n",
              "    }\n",
              "\n",
              "    .dataframe tbody tr th {\n",
              "        vertical-align: top;\n",
              "    }\n",
              "\n",
              "    .dataframe thead th {\n",
              "        text-align: right;\n",
              "    }\n",
              "</style>\n",
              "<table border=\"1\" class=\"dataframe\">\n",
              "  <thead>\n",
              "    <tr style=\"text-align: right;\">\n",
              "      <th></th>\n",
              "      <th>Possible_Cause</th>\n",
              "      <th>Possible_Cause_woe</th>\n",
              "    </tr>\n",
              "  </thead>\n",
              "  <tbody>\n",
              "    <tr>\n",
              "      <th>13</th>\n",
              "      <td>28 - Routine maintenance deficiency, eg creosote, lint, grease buildup</td>\n",
              "      <td>-1.421197</td>\n",
              "    </tr>\n",
              "    <tr>\n",
              "      <th>21</th>\n",
              "      <td>51 - Mechanical Failure</td>\n",
              "      <td>-1.358665</td>\n",
              "    </tr>\n",
              "    <tr>\n",
              "      <th>1</th>\n",
              "      <td>03 - Suspected Vandalism</td>\n",
              "      <td>-1.299777</td>\n",
              "    </tr>\n",
              "    <tr>\n",
              "      <th>106</th>\n",
              "      <td>49 - Improper Storage</td>\n",
              "      <td>-1.257930</td>\n",
              "    </tr>\n",
              "    <tr>\n",
              "      <th>947</th>\n",
              "      <td>73 - Natural Cause</td>\n",
              "      <td>-0.995566</td>\n",
              "    </tr>\n",
              "    <tr>\n",
              "      <th>6</th>\n",
              "      <td>20 - Design/Construction/Installation/Maintenance Deficiency</td>\n",
              "      <td>-0.823195</td>\n",
              "    </tr>\n",
              "    <tr>\n",
              "      <th>0</th>\n",
              "      <td>99 - Undetermined</td>\n",
              "      <td>-0.610312</td>\n",
              "    </tr>\n",
              "    <tr>\n",
              "      <th>58</th>\n",
              "      <td>01 - Suspected Arson</td>\n",
              "      <td>-0.546298</td>\n",
              "    </tr>\n",
              "    <tr>\n",
              "      <th>7</th>\n",
              "      <td>52 - Electrical Failure</td>\n",
              "      <td>-0.400887</td>\n",
              "    </tr>\n",
              "    <tr>\n",
              "      <th>48</th>\n",
              "      <td>45 - Improperly Discarded</td>\n",
              "      <td>-0.331906</td>\n",
              "    </tr>\n",
              "    <tr>\n",
              "      <th>18</th>\n",
              "      <td>80 - Exposure fire</td>\n",
              "      <td>-0.324398</td>\n",
              "    </tr>\n",
              "    <tr>\n",
              "      <th>285</th>\n",
              "      <td>12 - Vehicle Accident/Collision</td>\n",
              "      <td>-0.154177</td>\n",
              "    </tr>\n",
              "    <tr>\n",
              "      <th>367</th>\n",
              "      <td>04 - Suspected Youth Vandalism (Ages 12 to 17)</td>\n",
              "      <td>-0.079275</td>\n",
              "    </tr>\n",
              "    <tr>\n",
              "      <th>4827</th>\n",
              "      <td>02 - Riot/Civil Commotion</td>\n",
              "      <td>0.000000</td>\n",
              "    </tr>\n",
              "    <tr>\n",
              "      <th>5148</th>\n",
              "      <td>72 - Rekindle</td>\n",
              "      <td>0.038508</td>\n",
              "    </tr>\n",
              "    <tr>\n",
              "      <th>19</th>\n",
              "      <td>60 - Other unintentional cause, not classified</td>\n",
              "      <td>0.222555</td>\n",
              "    </tr>\n",
              "    <tr>\n",
              "      <th>17</th>\n",
              "      <td>98 - Unintentional, cause undetermined</td>\n",
              "      <td>0.255676</td>\n",
              "    </tr>\n",
              "    <tr>\n",
              "      <th>253</th>\n",
              "      <td>11 - Children Playing (Ages 11 and under)</td>\n",
              "      <td>0.452942</td>\n",
              "    </tr>\n",
              "    <tr>\n",
              "      <th>8</th>\n",
              "      <td>46 - Used or Placed too close to combustibles</td>\n",
              "      <td>0.723356</td>\n",
              "    </tr>\n",
              "    <tr>\n",
              "      <th>26</th>\n",
              "      <td>47 - Improper handling of ignition source or ignited material</td>\n",
              "      <td>0.880611</td>\n",
              "    </tr>\n",
              "    <tr>\n",
              "      <th>192</th>\n",
              "      <td>48 - Used for purpose not intended</td>\n",
              "      <td>0.947878</td>\n",
              "    </tr>\n",
              "    <tr>\n",
              "      <th>66</th>\n",
              "      <td>50 - Other misuse of ignition source/material ignited</td>\n",
              "      <td>1.015556</td>\n",
              "    </tr>\n",
              "    <tr>\n",
              "      <th>11</th>\n",
              "      <td>44 - Unattended</td>\n",
              "      <td>1.098924</td>\n",
              "    </tr>\n",
              "    <tr>\n",
              "      <th>502</th>\n",
              "      <td>990 - Under Investigation</td>\n",
              "      <td>1.607124</td>\n",
              "    </tr>\n",
              "  </tbody>\n",
              "</table>\n",
              "</div>"
            ],
            "text/plain": [
              "                                                              Possible_Cause  \\\n",
              "13    28 - Routine maintenance deficiency, eg creosote, lint, grease buildup   \n",
              "21    51 - Mechanical Failure                                                  \n",
              "1     03 - Suspected Vandalism                                                 \n",
              "106   49 - Improper Storage                                                    \n",
              "947   73 - Natural Cause                                                       \n",
              "6     20 - Design/Construction/Installation/Maintenance Deficiency             \n",
              "0     99 - Undetermined                                                        \n",
              "58    01 - Suspected Arson                                                     \n",
              "7     52 - Electrical Failure                                                  \n",
              "48    45 - Improperly Discarded                                                \n",
              "18    80 - Exposure fire                                                       \n",
              "285   12 - Vehicle Accident/Collision                                          \n",
              "367   04 - Suspected Youth Vandalism (Ages 12 to 17)                           \n",
              "4827  02 - Riot/Civil Commotion                                                \n",
              "5148  72 - Rekindle                                                            \n",
              "19    60 - Other unintentional cause, not classified                           \n",
              "17    98 - Unintentional, cause undetermined                                   \n",
              "253   11 - Children Playing (Ages 11 and under)                                \n",
              "8     46 - Used or Placed too close to combustibles                            \n",
              "26    47 - Improper handling of ignition source or ignited material            \n",
              "192   48 - Used for purpose not intended                                       \n",
              "66    50 - Other misuse of ignition source/material ignited                    \n",
              "11    44 - Unattended                                                          \n",
              "502   990 - Under Investigation                                                \n",
              "\n",
              "      Possible_Cause_woe  \n",
              "13   -1.421197            \n",
              "21   -1.358665            \n",
              "1    -1.299777            \n",
              "106  -1.257930            \n",
              "947  -0.995566            \n",
              "6    -0.823195            \n",
              "0    -0.610312            \n",
              "58   -0.546298            \n",
              "7    -0.400887            \n",
              "48   -0.331906            \n",
              "18   -0.324398            \n",
              "285  -0.154177            \n",
              "367  -0.079275            \n",
              "4827  0.000000            \n",
              "5148  0.038508            \n",
              "19    0.222555            \n",
              "17    0.255676            \n",
              "253   0.452942            \n",
              "8     0.723356            \n",
              "26    0.880611            \n",
              "192   0.947878            \n",
              "66    1.015556            \n",
              "11    1.098924            \n",
              "502   1.607124            "
            ]
          },
          "metadata": {},
          "execution_count": 287
        }
      ]
    },
    {
      "cell_type": "code",
      "metadata": {
        "id": "Hlcdw8UWi6wP"
      },
      "source": [
        "df_test=woe_encoder('Initial_CAD_Event_Type','LABEL')"
      ],
      "execution_count": null,
      "outputs": []
    },
    {
      "cell_type": "code",
      "metadata": {
        "colab": {
          "base_uri": "https://localhost:8080/",
          "height": 1000
        },
        "id": "6mZswpUYjKFk",
        "outputId": "ff2b4830-bcca-4f92-8211-67d3896ac5d1"
      },
      "source": [
        "df_test[['Initial_CAD_Event_Type','Initial_CAD_Event_Type_woe']].drop_duplicates().sort_values(by='Initial_CAD_Event_Type_woe')"
      ],
      "execution_count": null,
      "outputs": [
        {
          "output_type": "execute_result",
          "data": {
            "text/html": [
              "<div>\n",
              "<style scoped>\n",
              "    .dataframe tbody tr th:only-of-type {\n",
              "        vertical-align: middle;\n",
              "    }\n",
              "\n",
              "    .dataframe tbody tr th {\n",
              "        vertical-align: top;\n",
              "    }\n",
              "\n",
              "    .dataframe thead th {\n",
              "        text-align: right;\n",
              "    }\n",
              "</style>\n",
              "<table border=\"1\" class=\"dataframe\">\n",
              "  <thead>\n",
              "    <tr style=\"text-align: right;\">\n",
              "      <th></th>\n",
              "      <th>Initial_CAD_Event_Type</th>\n",
              "      <th>Initial_CAD_Event_Type_woe</th>\n",
              "    </tr>\n",
              "  </thead>\n",
              "  <tbody>\n",
              "    <tr>\n",
              "      <th>1</th>\n",
              "      <td>Fire - Grass/Rubbish</td>\n",
              "      <td>-3.526908</td>\n",
              "    </tr>\n",
              "    <tr>\n",
              "      <th>4834</th>\n",
              "      <td>VEFH</td>\n",
              "      <td>-2.105228</td>\n",
              "    </tr>\n",
              "    <tr>\n",
              "      <th>4837</th>\n",
              "      <td>FIG</td>\n",
              "      <td>-2.058633</td>\n",
              "    </tr>\n",
              "    <tr>\n",
              "      <th>4832</th>\n",
              "      <td>VEF</td>\n",
              "      <td>-1.882695</td>\n",
              "    </tr>\n",
              "    <tr>\n",
              "      <th>0</th>\n",
              "      <td>Vehicle Fire</td>\n",
              "      <td>-1.558351</td>\n",
              "    </tr>\n",
              "    <tr>\n",
              "      <th>41</th>\n",
              "      <td>Vehicle Fire - Highway</td>\n",
              "      <td>-1.552002</td>\n",
              "    </tr>\n",
              "    <tr>\n",
              "      <th>5019</th>\n",
              "      <td>FITP</td>\n",
              "      <td>-1.223144</td>\n",
              "    </tr>\n",
              "    <tr>\n",
              "      <th>4920</th>\n",
              "      <td>FIS</td>\n",
              "      <td>-1.168585</td>\n",
              "    </tr>\n",
              "    <tr>\n",
              "      <th>4933</th>\n",
              "      <td>FII</td>\n",
              "      <td>-1.159195</td>\n",
              "    </tr>\n",
              "    <tr>\n",
              "      <th>181</th>\n",
              "      <td>Fire - Other</td>\n",
              "      <td>-0.973093</td>\n",
              "    </tr>\n",
              "    <tr>\n",
              "      <th>125</th>\n",
              "      <td>Fire - Subway</td>\n",
              "      <td>-0.902476</td>\n",
              "    </tr>\n",
              "    <tr>\n",
              "      <th>33</th>\n",
              "      <td>Fire - Transformer/Pole</td>\n",
              "      <td>-0.852465</td>\n",
              "    </tr>\n",
              "    <tr>\n",
              "      <th>4856</th>\n",
              "      <td>FICI</td>\n",
              "      <td>-0.810102</td>\n",
              "    </tr>\n",
              "    <tr>\n",
              "      <th>5590</th>\n",
              "      <td>FACI</td>\n",
              "      <td>-0.803194</td>\n",
              "    </tr>\n",
              "    <tr>\n",
              "      <th>183</th>\n",
              "      <td>Check Call</td>\n",
              "      <td>-0.715264</td>\n",
              "    </tr>\n",
              "    <tr>\n",
              "      <th>3</th>\n",
              "      <td>Fire - Commercial/Industrial</td>\n",
              "      <td>-0.603894</td>\n",
              "    </tr>\n",
              "    <tr>\n",
              "      <th>488</th>\n",
              "      <td>Fire - Outside Storage</td>\n",
              "      <td>-0.521108</td>\n",
              "    </tr>\n",
              "    <tr>\n",
              "      <th>4850</th>\n",
              "      <td>FIHV</td>\n",
              "      <td>-0.484740</td>\n",
              "    </tr>\n",
              "    <tr>\n",
              "      <th>71</th>\n",
              "      <td>Fire - Institution - School</td>\n",
              "      <td>-0.324398</td>\n",
              "    </tr>\n",
              "    <tr>\n",
              "      <th>5485</th>\n",
              "      <td>FAIS</td>\n",
              "      <td>-0.279946</td>\n",
              "    </tr>\n",
              "    <tr>\n",
              "      <th>4862</th>\n",
              "      <td>FIHRD</td>\n",
              "      <td>-0.249174</td>\n",
              "    </tr>\n",
              "    <tr>\n",
              "      <th>5648</th>\n",
              "      <td>VEPIH</td>\n",
              "      <td>-0.233426</td>\n",
              "    </tr>\n",
              "    <tr>\n",
              "      <th>5658</th>\n",
              "      <td>VEAT</td>\n",
              "      <td>-0.184636</td>\n",
              "    </tr>\n",
              "    <tr>\n",
              "      <th>4888</th>\n",
              "      <td>FIO</td>\n",
              "      <td>-0.172057</td>\n",
              "    </tr>\n",
              "    <tr>\n",
              "      <th>6029</th>\n",
              "      <td>FIOS</td>\n",
              "      <td>-0.106674</td>\n",
              "    </tr>\n",
              "    <tr>\n",
              "      <th>4940</th>\n",
              "      <td>FAHRD</td>\n",
              "      <td>-0.106674</td>\n",
              "    </tr>\n",
              "    <tr>\n",
              "      <th>250</th>\n",
              "      <td>Fire - Institution</td>\n",
              "      <td>-0.079275</td>\n",
              "    </tr>\n",
              "    <tr>\n",
              "      <th>4956</th>\n",
              "      <td>VEAF</td>\n",
              "      <td>-0.041535</td>\n",
              "    </tr>\n",
              "    <tr>\n",
              "      <th>77</th>\n",
              "      <td>Fire - Hydro Vault</td>\n",
              "      <td>-0.022117</td>\n",
              "    </tr>\n",
              "    <tr>\n",
              "      <th>5888</th>\n",
              "      <td>MEPI</td>\n",
              "      <td>0.000000</td>\n",
              "    </tr>\n",
              "    <tr>\n",
              "      <th>7288</th>\n",
              "      <td>PUB</td>\n",
              "      <td>0.000000</td>\n",
              "    </tr>\n",
              "    <tr>\n",
              "      <th>9546</th>\n",
              "      <td>LKFI</td>\n",
              "      <td>0.000000</td>\n",
              "    </tr>\n",
              "    <tr>\n",
              "      <th>17513</th>\n",
              "      <td>MECR</td>\n",
              "      <td>0.000000</td>\n",
              "    </tr>\n",
              "    <tr>\n",
              "      <th>9792</th>\n",
              "      <td>REHL</td>\n",
              "      <td>0.000000</td>\n",
              "    </tr>\n",
              "    <tr>\n",
              "      <th>12799</th>\n",
              "      <td>ISFA</td>\n",
              "      <td>0.000000</td>\n",
              "    </tr>\n",
              "    <tr>\n",
              "      <th>15122</th>\n",
              "      <td>MESC</td>\n",
              "      <td>0.000000</td>\n",
              "    </tr>\n",
              "    <tr>\n",
              "      <th>4429</th>\n",
              "      <td>Island - Fire Response</td>\n",
              "      <td>0.000000</td>\n",
              "    </tr>\n",
              "    <tr>\n",
              "      <th>4138</th>\n",
              "      <td>Alarm Waterfront Marina/Industrial</td>\n",
              "      <td>0.000000</td>\n",
              "    </tr>\n",
              "    <tr>\n",
              "      <th>3425</th>\n",
              "      <td>Island Fire Alarm Response</td>\n",
              "      <td>0.000000</td>\n",
              "    </tr>\n",
              "    <tr>\n",
              "      <th>3158</th>\n",
              "      <td>Vehicle Accident - Trapped - Highway</td>\n",
              "      <td>0.000000</td>\n",
              "    </tr>\n",
              "    <tr>\n",
              "      <th>3055</th>\n",
              "      <td>Fire Alarm - Check Call</td>\n",
              "      <td>0.000000</td>\n",
              "    </tr>\n",
              "    <tr>\n",
              "      <th>2688</th>\n",
              "      <td>Vehicle Fire - Highway Elevated</td>\n",
              "      <td>0.000000</td>\n",
              "    </tr>\n",
              "    <tr>\n",
              "      <th>17527</th>\n",
              "      <td>MECC</td>\n",
              "      <td>0.000000</td>\n",
              "    </tr>\n",
              "    <tr>\n",
              "      <th>2232</th>\n",
              "      <td>Vehicle - Spill Clean Up</td>\n",
              "      <td>0.000000</td>\n",
              "    </tr>\n",
              "    <tr>\n",
              "      <th>2053</th>\n",
              "      <td>Check Call - Non Emergency</td>\n",
              "      <td>0.000000</td>\n",
              "    </tr>\n",
              "    <tr>\n",
              "      <th>1362</th>\n",
              "      <td>Vehicle - Personal Injury</td>\n",
              "      <td>0.000000</td>\n",
              "    </tr>\n",
              "    <tr>\n",
              "      <th>8</th>\n",
              "      <td>Alarm Commercial/Industrial</td>\n",
              "      <td>0.051087</td>\n",
              "    </tr>\n",
              "    <tr>\n",
              "      <th>4942</th>\n",
              "      <td>FAHCD</td>\n",
              "      <td>0.103046</td>\n",
              "    </tr>\n",
              "    <tr>\n",
              "      <th>4892</th>\n",
              "      <td>FIID</td>\n",
              "      <td>0.103046</td>\n",
              "    </tr>\n",
              "    <tr>\n",
              "      <th>4844</th>\n",
              "      <td>FISD</td>\n",
              "      <td>0.103046</td>\n",
              "    </tr>\n",
              "    <tr>\n",
              "      <th>5389</th>\n",
              "      <td>FIHC</td>\n",
              "      <td>0.172039</td>\n",
              "    </tr>\n",
              "    <tr>\n",
              "      <th>4891</th>\n",
              "      <td>WDH</td>\n",
              "      <td>0.172039</td>\n",
              "    </tr>\n",
              "    <tr>\n",
              "      <th>4945</th>\n",
              "      <td>CC</td>\n",
              "      <td>0.246147</td>\n",
              "    </tr>\n",
              "    <tr>\n",
              "      <th>6157</th>\n",
              "      <td>NGASFI</td>\n",
              "      <td>0.246147</td>\n",
              "    </tr>\n",
              "    <tr>\n",
              "      <th>4958</th>\n",
              "      <td>FIIS</td>\n",
              "      <td>0.285368</td>\n",
              "    </tr>\n",
              "    <tr>\n",
              "      <th>85</th>\n",
              "      <td>Alarm Highrise Residential Downtown</td>\n",
              "      <td>0.293400</td>\n",
              "    </tr>\n",
              "    <tr>\n",
              "      <th>4907</th>\n",
              "      <td>VEFU</td>\n",
              "      <td>0.309661</td>\n",
              "    </tr>\n",
              "    <tr>\n",
              "      <th>4863</th>\n",
              "      <td>FIHCD</td>\n",
              "      <td>0.326190</td>\n",
              "    </tr>\n",
              "    <tr>\n",
              "      <th>414</th>\n",
              "      <td>Alarm Highrise - Commercial - Downtown</td>\n",
              "      <td>0.326190</td>\n",
              "    </tr>\n",
              "    <tr>\n",
              "      <th>6464</th>\n",
              "      <td>ISFI</td>\n",
              "      <td>0.326190</td>\n",
              "    </tr>\n",
              "    <tr>\n",
              "      <th>1022</th>\n",
              "      <td>Wires Down - Hydro</td>\n",
              "      <td>0.508511</td>\n",
              "    </tr>\n",
              "    <tr>\n",
              "      <th>4</th>\n",
              "      <td>Fire - Residential</td>\n",
              "      <td>0.576273</td>\n",
              "    </tr>\n",
              "    <tr>\n",
              "      <th>4840</th>\n",
              "      <td>FIR</td>\n",
              "      <td>0.576283</td>\n",
              "    </tr>\n",
              "    <tr>\n",
              "      <th>4841</th>\n",
              "      <td>FIHR</td>\n",
              "      <td>0.593809</td>\n",
              "    </tr>\n",
              "    <tr>\n",
              "      <th>2</th>\n",
              "      <td>Fire -  Highrise Residential</td>\n",
              "      <td>0.639847</td>\n",
              "    </tr>\n",
              "    <tr>\n",
              "      <th>63</th>\n",
              "      <td>Alarm - Institution - School</td>\n",
              "      <td>0.671030</td>\n",
              "    </tr>\n",
              "    <tr>\n",
              "      <th>4842</th>\n",
              "      <td>FAHR</td>\n",
              "      <td>0.710087</td>\n",
              "    </tr>\n",
              "    <tr>\n",
              "      <th>67</th>\n",
              "      <td>Vehicle Accident with Fire</td>\n",
              "      <td>0.731655</td>\n",
              "    </tr>\n",
              "    <tr>\n",
              "      <th>6415</th>\n",
              "      <td>FACC</td>\n",
              "      <td>0.731655</td>\n",
              "    </tr>\n",
              "    <tr>\n",
              "      <th>23</th>\n",
              "      <td>Alarm Residential</td>\n",
              "      <td>0.752708</td>\n",
              "    </tr>\n",
              "    <tr>\n",
              "      <th>5762</th>\n",
              "      <td>FAI</td>\n",
              "      <td>0.763404</td>\n",
              "    </tr>\n",
              "    <tr>\n",
              "      <th>7747</th>\n",
              "      <td>FAHC</td>\n",
              "      <td>0.796193</td>\n",
              "    </tr>\n",
              "    <tr>\n",
              "      <th>1808</th>\n",
              "      <td>Water Problem</td>\n",
              "      <td>0.865186</td>\n",
              "    </tr>\n",
              "    <tr>\n",
              "      <th>676</th>\n",
              "      <td>Alarm Institution</td>\n",
              "      <td>0.865186</td>\n",
              "    </tr>\n",
              "    <tr>\n",
              "      <th>9672</th>\n",
              "      <td>HAZ2</td>\n",
              "      <td>0.865186</td>\n",
              "    </tr>\n",
              "    <tr>\n",
              "      <th>10243</th>\n",
              "      <td>FAID</td>\n",
              "      <td>0.913976</td>\n",
              "    </tr>\n",
              "    <tr>\n",
              "      <th>5870</th>\n",
              "      <td>CONM</td>\n",
              "      <td>1.019337</td>\n",
              "    </tr>\n",
              "    <tr>\n",
              "      <th>5358</th>\n",
              "      <td>VEPI</td>\n",
              "      <td>1.019337</td>\n",
              "    </tr>\n",
              "    <tr>\n",
              "      <th>9603</th>\n",
              "      <td>VEFHE</td>\n",
              "      <td>1.019337</td>\n",
              "    </tr>\n",
              "    <tr>\n",
              "      <th>154</th>\n",
              "      <td>Fire - Highrise Commercial - Downtown</td>\n",
              "      <td>1.019337</td>\n",
              "    </tr>\n",
              "    <tr>\n",
              "      <th>1883</th>\n",
              "      <td>Natural Gas Fire</td>\n",
              "      <td>1.019337</td>\n",
              "    </tr>\n",
              "    <tr>\n",
              "      <th>163</th>\n",
              "      <td>Alarm Highrise Commercial</td>\n",
              "      <td>1.019337</td>\n",
              "    </tr>\n",
              "    <tr>\n",
              "      <th>4955</th>\n",
              "      <td>FAR</td>\n",
              "      <td>1.139355</td>\n",
              "    </tr>\n",
              "    <tr>\n",
              "      <th>81</th>\n",
              "      <td>Fire - Highrise Residential - Downtown</td>\n",
              "      <td>1.146089</td>\n",
              "    </tr>\n",
              "    <tr>\n",
              "      <th>13611</th>\n",
              "      <td>WAT</td>\n",
              "      <td>1.201659</td>\n",
              "    </tr>\n",
              "    <tr>\n",
              "      <th>111</th>\n",
              "      <td>Fire - Highrise Commercial</td>\n",
              "      <td>1.201659</td>\n",
              "    </tr>\n",
              "    <tr>\n",
              "      <th>492</th>\n",
              "      <td>Vehicle Fire - Underground</td>\n",
              "      <td>1.201659</td>\n",
              "    </tr>\n",
              "    <tr>\n",
              "      <th>7</th>\n",
              "      <td>Alarm Highrise Residential</td>\n",
              "      <td>1.216772</td>\n",
              "    </tr>\n",
              "    <tr>\n",
              "      <th>6113</th>\n",
              "      <td>HAZ1</td>\n",
              "      <td>1.307019</td>\n",
              "    </tr>\n",
              "    <tr>\n",
              "      <th>1445</th>\n",
              "      <td>Vehicle Accident - Trapped</td>\n",
              "      <td>1.424802</td>\n",
              "    </tr>\n",
              "    <tr>\n",
              "      <th>1088</th>\n",
              "      <td>Vehicle - Personal Injury Highway</td>\n",
              "      <td>1.424802</td>\n",
              "    </tr>\n",
              "    <tr>\n",
              "      <th>443</th>\n",
              "      <td>Fire - Subway - Downtown</td>\n",
              "      <td>1.424802</td>\n",
              "    </tr>\n",
              "    <tr>\n",
              "      <th>146</th>\n",
              "      <td>Hazmat Level 1</td>\n",
              "      <td>1.424802</td>\n",
              "    </tr>\n",
              "    <tr>\n",
              "      <th>4884</th>\n",
              "      <td>FIWMI</td>\n",
              "      <td>1.424802</td>\n",
              "    </tr>\n",
              "    <tr>\n",
              "      <th>7924</th>\n",
              "      <td>NGASLK</td>\n",
              "      <td>1.558334</td>\n",
              "    </tr>\n",
              "    <tr>\n",
              "      <th>5996</th>\n",
              "      <td>CCA</td>\n",
              "      <td>1.712484</td>\n",
              "    </tr>\n",
              "    <tr>\n",
              "      <th>2802</th>\n",
              "      <td>Natural Gas Leak</td>\n",
              "      <td>1.712484</td>\n",
              "    </tr>\n",
              "    <tr>\n",
              "      <th>14815</th>\n",
              "      <td>FAWMI</td>\n",
              "      <td>1.712484</td>\n",
              "    </tr>\n",
              "    <tr>\n",
              "      <th>13392</th>\n",
              "      <td>FAS</td>\n",
              "      <td>1.712484</td>\n",
              "    </tr>\n",
              "    <tr>\n",
              "      <th>2987</th>\n",
              "      <td>Fire Waterfront Marina/Industrial</td>\n",
              "      <td>1.712484</td>\n",
              "    </tr>\n",
              "    <tr>\n",
              "      <th>2308</th>\n",
              "      <td>Fire - Institution - Downtown</td>\n",
              "      <td>1.712484</td>\n",
              "    </tr>\n",
              "    <tr>\n",
              "      <th>4833</th>\n",
              "      <td>PA</td>\n",
              "      <td>1.712484</td>\n",
              "    </tr>\n",
              "    <tr>\n",
              "      <th>6995</th>\n",
              "      <td>FIW</td>\n",
              "      <td>1.712484</td>\n",
              "    </tr>\n",
              "    <tr>\n",
              "      <th>495</th>\n",
              "      <td>Carbon Monoxide - Non Medical</td>\n",
              "      <td>1.712484</td>\n",
              "    </tr>\n",
              "    <tr>\n",
              "      <th>1234</th>\n",
              "      <td>Fire - Alarm Waterfront Highrise</td>\n",
              "      <td>1.712484</td>\n",
              "    </tr>\n",
              "    <tr>\n",
              "      <th>5637</th>\n",
              "      <td>VEATH</td>\n",
              "      <td>1.894806</td>\n",
              "    </tr>\n",
              "    <tr>\n",
              "      <th>549</th>\n",
              "      <td>Alarm Institution Downtown</td>\n",
              "      <td>1.894806</td>\n",
              "    </tr>\n",
              "    <tr>\n",
              "      <th>375</th>\n",
              "      <td>Medical - Other</td>\n",
              "      <td>2.811096</td>\n",
              "    </tr>\n",
              "    <tr>\n",
              "      <th>3578</th>\n",
              "      <td>Hazmat Level 2</td>\n",
              "      <td>2.811096</td>\n",
              "    </tr>\n",
              "    <tr>\n",
              "      <th>459</th>\n",
              "      <td>Medical - Unconscious</td>\n",
              "      <td>2.811096</td>\n",
              "    </tr>\n",
              "    <tr>\n",
              "      <th>16481</th>\n",
              "      <td>MEU</td>\n",
              "      <td>3.216562</td>\n",
              "    </tr>\n",
              "    <tr>\n",
              "      <th>5700</th>\n",
              "      <td>MEO</td>\n",
              "      <td>3.504244</td>\n",
              "    </tr>\n",
              "    <tr>\n",
              "      <th>1871</th>\n",
              "      <td>Medical - Trouble Breathing</td>\n",
              "      <td>3.909709</td>\n",
              "    </tr>\n",
              "    <tr>\n",
              "      <th>5751</th>\n",
              "      <td>COM</td>\n",
              "      <td>3.909709</td>\n",
              "    </tr>\n",
              "    <tr>\n",
              "      <th>6194</th>\n",
              "      <td>METB</td>\n",
              "      <td>3.909709</td>\n",
              "    </tr>\n",
              "  </tbody>\n",
              "</table>\n",
              "</div>"
            ],
            "text/plain": [
              "                       Initial_CAD_Event_Type  Initial_CAD_Event_Type_woe\n",
              "1      Fire - Grass/Rubbish                   -3.526908                  \n",
              "4834   VEFH                                   -2.105228                  \n",
              "4837   FIG                                    -2.058633                  \n",
              "4832   VEF                                    -1.882695                  \n",
              "0      Vehicle Fire                           -1.558351                  \n",
              "41     Vehicle Fire - Highway                 -1.552002                  \n",
              "5019   FITP                                   -1.223144                  \n",
              "4920   FIS                                    -1.168585                  \n",
              "4933   FII                                    -1.159195                  \n",
              "181    Fire - Other                           -0.973093                  \n",
              "125    Fire - Subway                          -0.902476                  \n",
              "33     Fire - Transformer/Pole                -0.852465                  \n",
              "4856   FICI                                   -0.810102                  \n",
              "5590   FACI                                   -0.803194                  \n",
              "183    Check Call                             -0.715264                  \n",
              "3      Fire - Commercial/Industrial           -0.603894                  \n",
              "488    Fire - Outside Storage                 -0.521108                  \n",
              "4850   FIHV                                   -0.484740                  \n",
              "71     Fire - Institution - School            -0.324398                  \n",
              "5485   FAIS                                   -0.279946                  \n",
              "4862   FIHRD                                  -0.249174                  \n",
              "5648   VEPIH                                  -0.233426                  \n",
              "5658   VEAT                                   -0.184636                  \n",
              "4888   FIO                                    -0.172057                  \n",
              "6029   FIOS                                   -0.106674                  \n",
              "4940   FAHRD                                  -0.106674                  \n",
              "250    Fire - Institution                     -0.079275                  \n",
              "4956   VEAF                                   -0.041535                  \n",
              "77     Fire - Hydro Vault                     -0.022117                  \n",
              "5888   MEPI                                    0.000000                  \n",
              "7288   PUB                                     0.000000                  \n",
              "9546   LKFI                                    0.000000                  \n",
              "17513  MECR                                    0.000000                  \n",
              "9792   REHL                                    0.000000                  \n",
              "12799  ISFA                                    0.000000                  \n",
              "15122  MESC                                    0.000000                  \n",
              "4429   Island - Fire Response                  0.000000                  \n",
              "4138   Alarm Waterfront Marina/Industrial      0.000000                  \n",
              "3425   Island Fire Alarm Response              0.000000                  \n",
              "3158   Vehicle Accident - Trapped - Highway    0.000000                  \n",
              "3055   Fire Alarm - Check Call                 0.000000                  \n",
              "2688   Vehicle Fire - Highway Elevated         0.000000                  \n",
              "17527  MECC                                    0.000000                  \n",
              "2232   Vehicle - Spill Clean Up                0.000000                  \n",
              "2053   Check Call - Non Emergency              0.000000                  \n",
              "1362   Vehicle - Personal Injury               0.000000                  \n",
              "8      Alarm Commercial/Industrial             0.051087                  \n",
              "4942   FAHCD                                   0.103046                  \n",
              "4892   FIID                                    0.103046                  \n",
              "4844   FISD                                    0.103046                  \n",
              "5389   FIHC                                    0.172039                  \n",
              "4891   WDH                                     0.172039                  \n",
              "4945   CC                                      0.246147                  \n",
              "6157   NGASFI                                  0.246147                  \n",
              "4958   FIIS                                    0.285368                  \n",
              "85     Alarm Highrise Residential Downtown     0.293400                  \n",
              "4907   VEFU                                    0.309661                  \n",
              "4863   FIHCD                                   0.326190                  \n",
              "414    Alarm Highrise - Commercial - Downtown  0.326190                  \n",
              "6464   ISFI                                    0.326190                  \n",
              "1022   Wires Down - Hydro                      0.508511                  \n",
              "4      Fire - Residential                      0.576273                  \n",
              "4840   FIR                                     0.576283                  \n",
              "4841   FIHR                                    0.593809                  \n",
              "2      Fire -  Highrise Residential            0.639847                  \n",
              "63     Alarm - Institution - School            0.671030                  \n",
              "4842   FAHR                                    0.710087                  \n",
              "67     Vehicle Accident with Fire              0.731655                  \n",
              "6415   FACC                                    0.731655                  \n",
              "23     Alarm Residential                       0.752708                  \n",
              "5762   FAI                                     0.763404                  \n",
              "7747   FAHC                                    0.796193                  \n",
              "1808   Water Problem                           0.865186                  \n",
              "676    Alarm Institution                       0.865186                  \n",
              "9672   HAZ2                                    0.865186                  \n",
              "10243  FAID                                    0.913976                  \n",
              "5870   CONM                                    1.019337                  \n",
              "5358   VEPI                                    1.019337                  \n",
              "9603   VEFHE                                   1.019337                  \n",
              "154    Fire - Highrise Commercial - Downtown   1.019337                  \n",
              "1883   Natural Gas Fire                        1.019337                  \n",
              "163    Alarm Highrise Commercial               1.019337                  \n",
              "4955   FAR                                     1.139355                  \n",
              "81     Fire - Highrise Residential - Downtown  1.146089                  \n",
              "13611  WAT                                     1.201659                  \n",
              "111    Fire - Highrise Commercial              1.201659                  \n",
              "492    Vehicle Fire - Underground              1.201659                  \n",
              "7      Alarm Highrise Residential              1.216772                  \n",
              "6113   HAZ1                                    1.307019                  \n",
              "1445   Vehicle Accident - Trapped              1.424802                  \n",
              "1088   Vehicle - Personal Injury Highway       1.424802                  \n",
              "443    Fire - Subway - Downtown                1.424802                  \n",
              "146    Hazmat Level 1                          1.424802                  \n",
              "4884   FIWMI                                   1.424802                  \n",
              "7924   NGASLK                                  1.558334                  \n",
              "5996   CCA                                     1.712484                  \n",
              "2802   Natural Gas Leak                        1.712484                  \n",
              "14815  FAWMI                                   1.712484                  \n",
              "13392  FAS                                     1.712484                  \n",
              "2987   Fire Waterfront Marina/Industrial       1.712484                  \n",
              "2308   Fire - Institution - Downtown           1.712484                  \n",
              "4833   PA                                      1.712484                  \n",
              "6995   FIW                                     1.712484                  \n",
              "495    Carbon Monoxide - Non Medical           1.712484                  \n",
              "1234   Fire - Alarm Waterfront Highrise        1.712484                  \n",
              "5637   VEATH                                   1.894806                  \n",
              "549    Alarm Institution Downtown              1.894806                  \n",
              "375    Medical - Other                         2.811096                  \n",
              "3578   Hazmat Level 2                          2.811096                  \n",
              "459    Medical - Unconscious                   2.811096                  \n",
              "16481  MEU                                     3.216562                  \n",
              "5700   MEO                                     3.504244                  \n",
              "1871   Medical - Trouble Breathing             3.909709                  \n",
              "5751   COM                                     3.909709                  \n",
              "6194   METB                                    3.909709                  "
            ]
          },
          "metadata": {},
          "execution_count": 289
        }
      ]
    },
    {
      "cell_type": "markdown",
      "metadata": {
        "id": "2FuQzLhQqb9p"
      },
      "source": [
        "## High Card: Material_First_Ignited"
      ]
    },
    {
      "cell_type": "code",
      "metadata": {
        "id": "E97-oshZjqNW",
        "colab": {
          "base_uri": "https://localhost:8080/"
        },
        "outputId": "e0024c6c-e2cd-4068-a844-ee26677f6873"
      },
      "source": [
        "df_test=woe_encoder('Material_First_Ignited','LABEL')\n",
        "df_test[['Material_First_Ignited','Material_First_Ignited_woe']].drop_duplicates().sort_values(by='Material_First_Ignited_woe')"
      ],
      "execution_count": null,
      "outputs": [
        {
          "output_type": "execute_result",
          "data": {
            "text/html": [
              "<div>\n",
              "<style scoped>\n",
              "    .dataframe tbody tr th:only-of-type {\n",
              "        vertical-align: middle;\n",
              "    }\n",
              "\n",
              "    .dataframe tbody tr th {\n",
              "        vertical-align: top;\n",
              "    }\n",
              "\n",
              "    .dataframe thead th {\n",
              "        text-align: right;\n",
              "    }\n",
              "</style>\n",
              "<table border=\"1\" class=\"dataframe\">\n",
              "  <thead>\n",
              "    <tr style=\"text-align: right;\">\n",
              "      <th></th>\n",
              "      <th>Material_First_Ignited</th>\n",
              "      <th>Material_First_Ignited_woe</th>\n",
              "    </tr>\n",
              "  </thead>\n",
              "  <tbody>\n",
              "    <tr>\n",
              "      <th>437</th>\n",
              "      <td>44 - Creosote (chimney, flue pipe)</td>\n",
              "      <td>-2.199539</td>\n",
              "    </tr>\n",
              "    <tr>\n",
              "      <th>26</th>\n",
              "      <td>46 - Rubbish, Trash, Waste</td>\n",
              "      <td>-1.389719</td>\n",
              "    </tr>\n",
              "    <tr>\n",
              "      <th>0</th>\n",
              "      <td>47 - Vehicle</td>\n",
              "      <td>-1.385270</td>\n",
              "    </tr>\n",
              "    <tr>\n",
              "      <th>91</th>\n",
              "      <td>51 - Bush, Grass, Tree, Leaves, etc.</td>\n",
              "      <td>-1.347787</td>\n",
              "    </tr>\n",
              "    <tr>\n",
              "      <th>389</th>\n",
              "      <td>81 - Rubber, not classified above</td>\n",
              "      <td>-1.249347</td>\n",
              "    </tr>\n",
              "    <tr>\n",
              "      <th>196</th>\n",
              "      <td>15 - Structural Member</td>\n",
              "      <td>-1.205287</td>\n",
              "    </tr>\n",
              "    <tr>\n",
              "      <th>623</th>\n",
              "      <td>59 - Asphalt, Tar Product</td>\n",
              "      <td>-1.159195</td>\n",
              "    </tr>\n",
              "    <tr>\n",
              "      <th>256</th>\n",
              "      <td>11 - Exterior Roof Covering</td>\n",
              "      <td>-0.779343</td>\n",
              "    </tr>\n",
              "    <tr>\n",
              "      <th>24</th>\n",
              "      <td>72 - Diesel Fuel/Fuel Oil</td>\n",
              "      <td>-0.744252</td>\n",
              "    </tr>\n",
              "    <tr>\n",
              "      <th>71</th>\n",
              "      <td>19 - Other Building Component</td>\n",
              "      <td>-0.722590</td>\n",
              "    </tr>\n",
              "    <tr>\n",
              "      <th>44</th>\n",
              "      <td>55 - Wood</td>\n",
              "      <td>-0.668219</td>\n",
              "    </tr>\n",
              "    <tr>\n",
              "      <th>6</th>\n",
              "      <td>16 - Insulation</td>\n",
              "      <td>-0.568661</td>\n",
              "    </tr>\n",
              "    <tr>\n",
              "      <th>2</th>\n",
              "      <td>99 - Undetermined (formerly 98)</td>\n",
              "      <td>-0.496609</td>\n",
              "    </tr>\n",
              "    <tr>\n",
              "      <th>7</th>\n",
              "      <td>43 - Electrical Wiring Insulation</td>\n",
              "      <td>-0.452613</td>\n",
              "    </tr>\n",
              "    <tr>\n",
              "      <th>1234</th>\n",
              "      <td>52 - Agricultural Product - Grown (eg. straw, seeds, etc.)</td>\n",
              "      <td>-0.387577</td>\n",
              "    </tr>\n",
              "    <tr>\n",
              "      <th>16</th>\n",
              "      <td>14 - Interior Wall/Ceiling</td>\n",
              "      <td>-0.377320</td>\n",
              "    </tr>\n",
              "    <tr>\n",
              "      <th>1447</th>\n",
              "      <td>83 - Oily rags (inc. paint rags, etc)</td>\n",
              "      <td>-0.366957</td>\n",
              "    </tr>\n",
              "    <tr>\n",
              "      <th>193</th>\n",
              "      <td>12 - Exterior Cladding</td>\n",
              "      <td>-0.309799</td>\n",
              "    </tr>\n",
              "    <tr>\n",
              "      <th>85</th>\n",
              "      <td>41 - Books, Magazines, Newspapers</td>\n",
              "      <td>-0.217426</td>\n",
              "    </tr>\n",
              "    <tr>\n",
              "      <th>8</th>\n",
              "      <td>56 - Paper, Cardboard</td>\n",
              "      <td>-0.171506</td>\n",
              "    </tr>\n",
              "    <tr>\n",
              "      <th>667</th>\n",
              "      <td>62 - Natural Gas</td>\n",
              "      <td>-0.133342</td>\n",
              "    </tr>\n",
              "    <tr>\n",
              "      <th>1</th>\n",
              "      <td>97 - Other</td>\n",
              "      <td>-0.128947</td>\n",
              "    </tr>\n",
              "    <tr>\n",
              "      <th>1376</th>\n",
              "      <td>45 - Nest</td>\n",
              "      <td>-0.079275</td>\n",
              "    </tr>\n",
              "    <tr>\n",
              "      <th>72</th>\n",
              "      <td>42 - Cleaning Supplies</td>\n",
              "      <td>0.007736</td>\n",
              "    </tr>\n",
              "    <tr>\n",
              "      <th>41</th>\n",
              "      <td>54 - Plastic</td>\n",
              "      <td>0.040742</td>\n",
              "    </tr>\n",
              "    <tr>\n",
              "      <th>190</th>\n",
              "      <td>79 - Other Flammable, Combustible Liquid</td>\n",
              "      <td>0.070256</td>\n",
              "    </tr>\n",
              "    <tr>\n",
              "      <th>79</th>\n",
              "      <td>29 - Other Furniture</td>\n",
              "      <td>0.074875</td>\n",
              "    </tr>\n",
              "    <tr>\n",
              "      <th>104</th>\n",
              "      <td>96 - Multiple diverse objects ignited</td>\n",
              "      <td>0.202253</td>\n",
              "    </tr>\n",
              "    <tr>\n",
              "      <th>23</th>\n",
              "      <td>39 - Other Soft Goods, Wearing Apparel</td>\n",
              "      <td>0.272123</td>\n",
              "    </tr>\n",
              "    <tr>\n",
              "      <th>64</th>\n",
              "      <td>13 - Floor</td>\n",
              "      <td>0.285368</td>\n",
              "    </tr>\n",
              "    <tr>\n",
              "      <th>773</th>\n",
              "      <td>61 - Propane</td>\n",
              "      <td>0.383348</td>\n",
              "    </tr>\n",
              "    <tr>\n",
              "      <th>22</th>\n",
              "      <td>48 - Multiple Objects or Materials</td>\n",
              "      <td>0.484981</td>\n",
              "    </tr>\n",
              "    <tr>\n",
              "      <th>197</th>\n",
              "      <td>87 - Other chemicals, materials not classified above</td>\n",
              "      <td>0.508511</td>\n",
              "    </tr>\n",
              "    <tr>\n",
              "      <th>1273</th>\n",
              "      <td>22 - Non-upholstered Chair, etc.</td>\n",
              "      <td>0.533829</td>\n",
              "    </tr>\n",
              "    <tr>\n",
              "      <th>209</th>\n",
              "      <td>36 - Rug, Carpet</td>\n",
              "      <td>0.552314</td>\n",
              "    </tr>\n",
              "    <tr>\n",
              "      <th>173</th>\n",
              "      <td>57 - Fabric - Natural (eg. cotton, wool, etc.)</td>\n",
              "      <td>0.553974</td>\n",
              "    </tr>\n",
              "    <tr>\n",
              "      <th>93</th>\n",
              "      <td>33 - Linen Other than Bedding</td>\n",
              "      <td>0.607357</td>\n",
              "    </tr>\n",
              "    <tr>\n",
              "      <th>317</th>\n",
              "      <td>71 - Gasoline</td>\n",
              "      <td>0.629872</td>\n",
              "    </tr>\n",
              "    <tr>\n",
              "      <th>59</th>\n",
              "      <td>58 - Fabric - Synthetic, Combination</td>\n",
              "      <td>0.740023</td>\n",
              "    </tr>\n",
              "    <tr>\n",
              "      <th>462</th>\n",
              "      <td>53 - Agricultural Product - Other (eg pesticide, fertilizer)</td>\n",
              "      <td>0.865186</td>\n",
              "    </tr>\n",
              "    <tr>\n",
              "      <th>1393</th>\n",
              "      <td>990 - Under Investigation</td>\n",
              "      <td>0.865186</td>\n",
              "    </tr>\n",
              "    <tr>\n",
              "      <th>1860</th>\n",
              "      <td>75 - Paint, varnish stored in container</td>\n",
              "      <td>0.939294</td>\n",
              "    </tr>\n",
              "    <tr>\n",
              "      <th>486</th>\n",
              "      <td>35 - Curtain, Drapery</td>\n",
              "      <td>1.019337</td>\n",
              "    </tr>\n",
              "    <tr>\n",
              "      <th>98</th>\n",
              "      <td>23 - Cabinetry</td>\n",
              "      <td>1.075365</td>\n",
              "    </tr>\n",
              "    <tr>\n",
              "      <th>11</th>\n",
              "      <td>74 - Cooking Oil, Grease</td>\n",
              "      <td>1.124860</td>\n",
              "    </tr>\n",
              "    <tr>\n",
              "      <th>301</th>\n",
              "      <td>21 - Upholstered Sofa, Chair, etc.</td>\n",
              "      <td>1.131128</td>\n",
              "    </tr>\n",
              "    <tr>\n",
              "      <th>559</th>\n",
              "      <td>40 - Christmas Tree</td>\n",
              "      <td>1.201659</td>\n",
              "    </tr>\n",
              "    <tr>\n",
              "      <th>5888</th>\n",
              "      <td>86 - Pyrophoric metals</td>\n",
              "      <td>1.201659</td>\n",
              "    </tr>\n",
              "    <tr>\n",
              "      <th>99</th>\n",
              "      <td>31 - Mattress, Pillow</td>\n",
              "      <td>1.350694</td>\n",
              "    </tr>\n",
              "    <tr>\n",
              "      <th>1237</th>\n",
              "      <td>69 - Other Gases</td>\n",
              "      <td>1.376012</td>\n",
              "    </tr>\n",
              "    <tr>\n",
              "      <th>1675</th>\n",
              "      <td>82 - Oxidizing material (inc bleach, peroxide)</td>\n",
              "      <td>1.894806</td>\n",
              "    </tr>\n",
              "    <tr>\n",
              "      <th>172</th>\n",
              "      <td>32 - Bedding</td>\n",
              "      <td>1.967126</td>\n",
              "    </tr>\n",
              "    <tr>\n",
              "      <th>328</th>\n",
              "      <td>34 - Wearing Apparel on a Person</td>\n",
              "      <td>2.911180</td>\n",
              "    </tr>\n",
              "    <tr>\n",
              "      <th>2085</th>\n",
              "      <td>73 - Alcohol (methanol)</td>\n",
              "      <td>3.034240</td>\n",
              "    </tr>\n",
              "  </tbody>\n",
              "</table>\n",
              "</div>"
            ],
            "text/plain": [
              "                                            Material_First_Ignited  \\\n",
              "437   44 - Creosote (chimney, flue pipe)                             \n",
              "26    46 - Rubbish, Trash, Waste                                     \n",
              "0     47 - Vehicle                                                   \n",
              "91    51 - Bush, Grass, Tree, Leaves, etc.                           \n",
              "389   81 - Rubber, not classified above                              \n",
              "196   15 - Structural Member                                         \n",
              "623   59 - Asphalt, Tar Product                                      \n",
              "256   11 - Exterior Roof Covering                                    \n",
              "24    72 - Diesel Fuel/Fuel Oil                                      \n",
              "71    19 - Other Building Component                                  \n",
              "44    55 - Wood                                                      \n",
              "6     16 - Insulation                                                \n",
              "2     99 - Undetermined (formerly 98)                                \n",
              "7     43 - Electrical Wiring Insulation                              \n",
              "1234  52 - Agricultural Product - Grown (eg. straw, seeds, etc.)     \n",
              "16    14 - Interior Wall/Ceiling                                     \n",
              "1447  83 - Oily rags (inc. paint rags, etc)                          \n",
              "193   12 - Exterior Cladding                                         \n",
              "85    41 - Books, Magazines, Newspapers                              \n",
              "8     56 - Paper, Cardboard                                          \n",
              "667   62 - Natural Gas                                               \n",
              "1     97 - Other                                                     \n",
              "1376  45 - Nest                                                      \n",
              "72    42 - Cleaning Supplies                                         \n",
              "41    54 - Plastic                                                   \n",
              "190   79 - Other Flammable, Combustible Liquid                       \n",
              "79    29 - Other Furniture                                           \n",
              "104   96 - Multiple diverse objects ignited                          \n",
              "23    39 - Other Soft Goods, Wearing Apparel                         \n",
              "64    13 - Floor                                                     \n",
              "773   61 - Propane                                                   \n",
              "22    48 - Multiple Objects or Materials                             \n",
              "197   87 - Other chemicals, materials not classified above           \n",
              "1273  22 - Non-upholstered Chair, etc.                               \n",
              "209   36 - Rug, Carpet                                               \n",
              "173   57 - Fabric - Natural (eg. cotton, wool, etc.)                 \n",
              "93    33 - Linen Other than Bedding                                  \n",
              "317   71 - Gasoline                                                  \n",
              "59    58 - Fabric - Synthetic, Combination                           \n",
              "462   53 - Agricultural Product - Other (eg pesticide, fertilizer)   \n",
              "1393  990 - Under Investigation                                      \n",
              "1860  75 - Paint, varnish stored in container                        \n",
              "486   35 - Curtain, Drapery                                          \n",
              "98    23 - Cabinetry                                                 \n",
              "11    74 - Cooking Oil, Grease                                       \n",
              "301   21 - Upholstered Sofa, Chair, etc.                             \n",
              "559   40 - Christmas Tree                                            \n",
              "5888  86 - Pyrophoric metals                                         \n",
              "99    31 - Mattress, Pillow                                          \n",
              "1237  69 - Other Gases                                               \n",
              "1675  82 - Oxidizing material (inc bleach, peroxide)                 \n",
              "172   32 - Bedding                                                   \n",
              "328   34 - Wearing Apparel on a Person                               \n",
              "2085  73 - Alcohol (methanol)                                        \n",
              "\n",
              "      Material_First_Ignited_woe  \n",
              "437  -2.199539                    \n",
              "26   -1.389719                    \n",
              "0    -1.385270                    \n",
              "91   -1.347787                    \n",
              "389  -1.249347                    \n",
              "196  -1.205287                    \n",
              "623  -1.159195                    \n",
              "256  -0.779343                    \n",
              "24   -0.744252                    \n",
              "71   -0.722590                    \n",
              "44   -0.668219                    \n",
              "6    -0.568661                    \n",
              "2    -0.496609                    \n",
              "7    -0.452613                    \n",
              "1234 -0.387577                    \n",
              "16   -0.377320                    \n",
              "1447 -0.366957                    \n",
              "193  -0.309799                    \n",
              "85   -0.217426                    \n",
              "8    -0.171506                    \n",
              "667  -0.133342                    \n",
              "1    -0.128947                    \n",
              "1376 -0.079275                    \n",
              "72    0.007736                    \n",
              "41    0.040742                    \n",
              "190   0.070256                    \n",
              "79    0.074875                    \n",
              "104   0.202253                    \n",
              "23    0.272123                    \n",
              "64    0.285368                    \n",
              "773   0.383348                    \n",
              "22    0.484981                    \n",
              "197   0.508511                    \n",
              "1273  0.533829                    \n",
              "209   0.552314                    \n",
              "173   0.553974                    \n",
              "93    0.607357                    \n",
              "317   0.629872                    \n",
              "59    0.740023                    \n",
              "462   0.865186                    \n",
              "1393  0.865186                    \n",
              "1860  0.939294                    \n",
              "486   1.019337                    \n",
              "98    1.075365                    \n",
              "11    1.124860                    \n",
              "301   1.131128                    \n",
              "559   1.201659                    \n",
              "5888  1.201659                    \n",
              "99    1.350694                    \n",
              "1237  1.376012                    \n",
              "1675  1.894806                    \n",
              "172   1.967126                    \n",
              "328   2.911180                    \n",
              "2085  3.034240                    "
            ]
          },
          "metadata": {},
          "execution_count": 23
        }
      ]
    },
    {
      "cell_type": "code",
      "metadata": {
        "id": "5GXWyFtFjp1P"
      },
      "source": [
        ""
      ],
      "execution_count": null,
      "outputs": []
    },
    {
      "cell_type": "markdown",
      "metadata": {
        "id": "WyKUi06Oqiex"
      },
      "source": [
        "## High Card: Ignition_Source\n",
        "\n",
        "\n",
        "*   use woe to bin?\n",
        "\n"
      ]
    },
    {
      "cell_type": "code",
      "metadata": {
        "colab": {
          "base_uri": "https://localhost:8080/"
        },
        "id": "3zg6R5WMqiex",
        "outputId": "0bce6aa9-c2af-484b-bb83-b9178be69b68"
      },
      "source": [
        "df_test=woe_encoder('Ignition_Source','LABEL')\n",
        "df_test[['Ignition_Source','Ignition_Source_woe']].drop_duplicates().sort_values(by='Ignition_Source_woe')"
      ],
      "execution_count": null,
      "outputs": [
        {
          "output_type": "execute_result",
          "data": {
            "text/html": [
              "<div>\n",
              "<style scoped>\n",
              "    .dataframe tbody tr th:only-of-type {\n",
              "        vertical-align: middle;\n",
              "    }\n",
              "\n",
              "    .dataframe tbody tr th {\n",
              "        vertical-align: top;\n",
              "    }\n",
              "\n",
              "    .dataframe thead th {\n",
              "        text-align: right;\n",
              "    }\n",
              "</style>\n",
              "<table border=\"1\" class=\"dataframe\">\n",
              "  <thead>\n",
              "    <tr style=\"text-align: right;\">\n",
              "      <th></th>\n",
              "      <th>Ignition_Source</th>\n",
              "      <th>Ignition_Source_woe</th>\n",
              "    </tr>\n",
              "  </thead>\n",
              "  <tbody>\n",
              "    <tr>\n",
              "      <th>21</th>\n",
              "      <td>81 - Vehicle - Electrical</td>\n",
              "      <td>-1.671906</td>\n",
              "    </tr>\n",
              "    <tr>\n",
              "      <th>15</th>\n",
              "      <td>82 - Vehicle - Mechanical</td>\n",
              "      <td>-1.547214</td>\n",
              "    </tr>\n",
              "    <tr>\n",
              "      <th>104</th>\n",
              "      <td>36 - Fireplace - Masonry</td>\n",
              "      <td>-1.205287</td>\n",
              "    </tr>\n",
              "    <tr>\n",
              "      <th>130</th>\n",
              "      <td>17 - Wood burning stove</td>\n",
              "      <td>-1.017545</td>\n",
              "    </tr>\n",
              "    <tr>\n",
              "      <th>116</th>\n",
              "      <td>20 - Service/Utility Lines (includes power/hydro transmission lines)</td>\n",
              "      <td>-1.001106</td>\n",
              "    </tr>\n",
              "    <tr>\n",
              "      <th>16</th>\n",
              "      <td>24 - Circuit Wiring - Copper</td>\n",
              "      <td>-0.932508</td>\n",
              "    </tr>\n",
              "    <tr>\n",
              "      <th>19</th>\n",
              "      <td>98 - Other</td>\n",
              "      <td>-0.811338</td>\n",
              "    </tr>\n",
              "    <tr>\n",
              "      <th>129</th>\n",
              "      <td>92 - Open Fire (eg. camp fire, rubbish fire, etc.)</td>\n",
              "      <td>-0.744252</td>\n",
              "    </tr>\n",
              "    <tr>\n",
              "      <th>192</th>\n",
              "      <td>93 - Hot Ashes, Embers, Spark</td>\n",
              "      <td>-0.707884</td>\n",
              "    </tr>\n",
              "    <tr>\n",
              "      <th>2291</th>\n",
              "      <td>91 - Fireworks</td>\n",
              "      <td>-0.654639</td>\n",
              "    </tr>\n",
              "    <tr>\n",
              "      <th>95</th>\n",
              "      <td>79 - Other Open Flame Tools/Smokers' Articles</td>\n",
              "      <td>-0.648370</td>\n",
              "    </tr>\n",
              "    <tr>\n",
              "      <th>2027</th>\n",
              "      <td>40 - Flue Pipe</td>\n",
              "      <td>-0.590101</td>\n",
              "    </tr>\n",
              "    <tr>\n",
              "      <th>0</th>\n",
              "      <td>999 - Undetermined</td>\n",
              "      <td>-0.527154</td>\n",
              "    </tr>\n",
              "    <tr>\n",
              "      <th>360</th>\n",
              "      <td>30 - Other Electrical Distribution Item</td>\n",
              "      <td>-0.489359</td>\n",
              "    </tr>\n",
              "    <tr>\n",
              "      <th>261</th>\n",
              "      <td>32 - Water Heater</td>\n",
              "      <td>-0.484740</td>\n",
              "    </tr>\n",
              "    <tr>\n",
              "      <th>103</th>\n",
              "      <td>84 - Other Mechanical</td>\n",
              "      <td>-0.484740</td>\n",
              "    </tr>\n",
              "    <tr>\n",
              "      <th>113</th>\n",
              "      <td>83 - Other Electrical</td>\n",
              "      <td>-0.461320</td>\n",
              "    </tr>\n",
              "    <tr>\n",
              "      <th>8</th>\n",
              "      <td>41 - Other Heating Equipment</td>\n",
              "      <td>-0.380751</td>\n",
              "    </tr>\n",
              "    <tr>\n",
              "      <th>406</th>\n",
              "      <td>33 - Space Heater - Fixed</td>\n",
              "      <td>-0.302419</td>\n",
              "    </tr>\n",
              "    <tr>\n",
              "      <th>833</th>\n",
              "      <td>104 - Exposure, source open fire (inc campfire, rubbish fire)</td>\n",
              "      <td>-0.233426</td>\n",
              "    </tr>\n",
              "    <tr>\n",
              "      <th>584</th>\n",
              "      <td>108 - Exposure, source other</td>\n",
              "      <td>-0.233426</td>\n",
              "    </tr>\n",
              "    <tr>\n",
              "      <th>1202</th>\n",
              "      <td>37 - Fireplace Insert</td>\n",
              "      <td>-0.233426</td>\n",
              "    </tr>\n",
              "    <tr>\n",
              "      <th>222</th>\n",
              "      <td>43 - Clothes Dryer</td>\n",
              "      <td>-0.202335</td>\n",
              "    </tr>\n",
              "    <tr>\n",
              "      <th>231</th>\n",
              "      <td>69 - Other Processing Equipment</td>\n",
              "      <td>-0.201165</td>\n",
              "    </tr>\n",
              "    <tr>\n",
              "      <th>285</th>\n",
              "      <td>85 - Vehicle collision</td>\n",
              "      <td>-0.184636</td>\n",
              "    </tr>\n",
              "    <tr>\n",
              "      <th>1448</th>\n",
              "      <td>31 - Central Heating/Cooling Unit</td>\n",
              "      <td>-0.159318</td>\n",
              "    </tr>\n",
              "    <tr>\n",
              "      <th>88</th>\n",
              "      <td>14 - Open Fired Barbeque - Fixed or Portable</td>\n",
              "      <td>-0.139900</td>\n",
              "    </tr>\n",
              "    <tr>\n",
              "      <th>266</th>\n",
              "      <td>26 - Terminations-Copper (incl receptacles, switches, lights)</td>\n",
              "      <td>-0.133342</td>\n",
              "    </tr>\n",
              "    <tr>\n",
              "      <th>66</th>\n",
              "      <td>72 - Cutting/Welding Equipment</td>\n",
              "      <td>-0.099276</td>\n",
              "    </tr>\n",
              "    <tr>\n",
              "      <th>7</th>\n",
              "      <td>23 - Distribution Equipment (includes panel boards, fuses, circuit br</td>\n",
              "      <td>-0.086196</td>\n",
              "    </tr>\n",
              "    <tr>\n",
              "      <th>879</th>\n",
              "      <td>96 - Chemical Reaction (eg. spontaneous combustion, etc.)</td>\n",
              "      <td>-0.079275</td>\n",
              "    </tr>\n",
              "    <tr>\n",
              "      <th>193</th>\n",
              "      <td>52 - Florescent Lamp (includes ballast)</td>\n",
              "      <td>-0.022117</td>\n",
              "    </tr>\n",
              "    <tr>\n",
              "      <th>1332</th>\n",
              "      <td>9990 - Under Investigation</td>\n",
              "      <td>-0.022117</td>\n",
              "    </tr>\n",
              "    <tr>\n",
              "      <th>4988</th>\n",
              "      <td>45 - Washing Machine</td>\n",
              "      <td>0.038508</td>\n",
              "    </tr>\n",
              "    <tr>\n",
              "      <th>303</th>\n",
              "      <td>16 - Deep Fat Fryer</td>\n",
              "      <td>0.081067</td>\n",
              "    </tr>\n",
              "    <tr>\n",
              "      <th>64</th>\n",
              "      <td>73 - Blow Torch, Bunsen Burner</td>\n",
              "      <td>0.082741</td>\n",
              "    </tr>\n",
              "    <tr>\n",
              "      <th>680</th>\n",
              "      <td>63 - Painting Equipment</td>\n",
              "      <td>0.103046</td>\n",
              "    </tr>\n",
              "    <tr>\n",
              "      <th>3444</th>\n",
              "      <td>95 - Lightning</td>\n",
              "      <td>0.103046</td>\n",
              "    </tr>\n",
              "    <tr>\n",
              "      <th>4209</th>\n",
              "      <td>100 - Outdoor fireplace/heater</td>\n",
              "      <td>0.172039</td>\n",
              "    </tr>\n",
              "    <tr>\n",
              "      <th>6</th>\n",
              "      <td>51 - Incandescent Lamp - Light Bulb, Spotlight</td>\n",
              "      <td>0.192658</td>\n",
              "    </tr>\n",
              "    <tr>\n",
              "      <th>621</th>\n",
              "      <td>15 - Range Hood</td>\n",
              "      <td>0.246147</td>\n",
              "    </tr>\n",
              "    <tr>\n",
              "      <th>3117</th>\n",
              "      <td>80 - Portable generator</td>\n",
              "      <td>0.246147</td>\n",
              "    </tr>\n",
              "    <tr>\n",
              "      <th>999</th>\n",
              "      <td>35 - Fireplace - Factory Built</td>\n",
              "      <td>0.246147</td>\n",
              "    </tr>\n",
              "    <tr>\n",
              "      <th>1674</th>\n",
              "      <td>56 - Halogen Lamp or light</td>\n",
              "      <td>0.285368</td>\n",
              "    </tr>\n",
              "    <tr>\n",
              "      <th>26</th>\n",
              "      <td>71 - Smoker's Articles (eg. cigarettes, cigars, pipes already ignited</td>\n",
              "      <td>0.301497</td>\n",
              "    </tr>\n",
              "    <tr>\n",
              "      <th>1237</th>\n",
              "      <td>94 - Static Electricity (spark)</td>\n",
              "      <td>0.326190</td>\n",
              "    </tr>\n",
              "    <tr>\n",
              "      <th>4469</th>\n",
              "      <td>97 - Rekindle</td>\n",
              "      <td>0.326190</td>\n",
              "    </tr>\n",
              "    <tr>\n",
              "      <th>437</th>\n",
              "      <td>39 - Chimney - Masonry</td>\n",
              "      <td>0.326190</td>\n",
              "    </tr>\n",
              "    <tr>\n",
              "      <th>77</th>\n",
              "      <td>21 - Transformer</td>\n",
              "      <td>0.350287</td>\n",
              "    </tr>\n",
              "    <tr>\n",
              "      <th>38</th>\n",
              "      <td>77 - Matches or Lighters (unable to distinguish)</td>\n",
              "      <td>0.413201</td>\n",
              "    </tr>\n",
              "    <tr>\n",
              "      <th>983</th>\n",
              "      <td>106 - Exposure, source grass, shrubs, trees</td>\n",
              "      <td>0.413201</td>\n",
              "    </tr>\n",
              "    <tr>\n",
              "      <th>54</th>\n",
              "      <td>12 - Oven</td>\n",
              "      <td>0.462231</td>\n",
              "    </tr>\n",
              "    <tr>\n",
              "      <th>79</th>\n",
              "      <td>29 - Extension Cord, Temporary Wiring</td>\n",
              "      <td>0.475722</td>\n",
              "    </tr>\n",
              "    <tr>\n",
              "      <th>2917</th>\n",
              "      <td>38 - Chimney - Factory Built</td>\n",
              "      <td>0.508511</td>\n",
              "    </tr>\n",
              "    <tr>\n",
              "      <th>3010</th>\n",
              "      <td>22 - Meter</td>\n",
              "      <td>0.508511</td>\n",
              "    </tr>\n",
              "    <tr>\n",
              "      <th>5504</th>\n",
              "      <td>25 - Circuit Wiring - Aluminum</td>\n",
              "      <td>0.508511</td>\n",
              "    </tr>\n",
              "    <tr>\n",
              "      <th>302</th>\n",
              "      <td>28 - Cord, Cable for Appliance, Electrical Articles</td>\n",
              "      <td>0.613872</td>\n",
              "    </tr>\n",
              "    <tr>\n",
              "      <th>61</th>\n",
              "      <td>47 - Refrigerator, Freezer (includes vending machine)</td>\n",
              "      <td>0.613872</td>\n",
              "    </tr>\n",
              "    <tr>\n",
              "      <th>35</th>\n",
              "      <td>13 - Microwave</td>\n",
              "      <td>0.682865</td>\n",
              "    </tr>\n",
              "    <tr>\n",
              "      <th>554</th>\n",
              "      <td>44 - Iron, Pressing Machine</td>\n",
              "      <td>0.731655</td>\n",
              "    </tr>\n",
              "    <tr>\n",
              "      <th>786</th>\n",
              "      <td>107 - Exposure, source vehicle (outside structure)</td>\n",
              "      <td>0.796193</td>\n",
              "    </tr>\n",
              "    <tr>\n",
              "      <th>150</th>\n",
              "      <td>62 - Heat Treatment Equipment (eg. furnace, oven, kiln, quench tanks,</td>\n",
              "      <td>0.818666</td>\n",
              "    </tr>\n",
              "    <tr>\n",
              "      <th>439</th>\n",
              "      <td>34 - Space Heater - Portable</td>\n",
              "      <td>0.849438</td>\n",
              "    </tr>\n",
              "    <tr>\n",
              "      <th>316</th>\n",
              "      <td>59 - Other Lighting Equipment</td>\n",
              "      <td>0.865186</td>\n",
              "    </tr>\n",
              "    <tr>\n",
              "      <th>44</th>\n",
              "      <td>74 - Salamander</td>\n",
              "      <td>0.865186</td>\n",
              "    </tr>\n",
              "    <tr>\n",
              "      <th>433</th>\n",
              "      <td>42 - Television, Radio, Stereo, Tape Recorder, etc.</td>\n",
              "      <td>0.924027</td>\n",
              "    </tr>\n",
              "    <tr>\n",
              "      <th>170</th>\n",
              "      <td>19 - Other Cooking Items (eg Toaster, Kettle, elec frying pan)</td>\n",
              "      <td>0.957779</td>\n",
              "    </tr>\n",
              "    <tr>\n",
              "      <th>23</th>\n",
              "      <td>49 - Other Appliances</td>\n",
              "      <td>0.975852</td>\n",
              "    </tr>\n",
              "    <tr>\n",
              "      <th>3359</th>\n",
              "      <td>101 - Exposure, source structure detached</td>\n",
              "      <td>1.019337</td>\n",
              "    </tr>\n",
              "    <tr>\n",
              "      <th>367</th>\n",
              "      <td>76 - Lighters (open flame)</td>\n",
              "      <td>1.019337</td>\n",
              "    </tr>\n",
              "    <tr>\n",
              "      <th>8300</th>\n",
              "      <td>53 - Christmas Lights, Decorative Lighting</td>\n",
              "      <td>1.019337</td>\n",
              "    </tr>\n",
              "    <tr>\n",
              "      <th>253</th>\n",
              "      <td>75 - Matches (open flame)</td>\n",
              "      <td>1.106348</td>\n",
              "    </tr>\n",
              "    <tr>\n",
              "      <th>11</th>\n",
              "      <td>11 - Stove, Range-top burner</td>\n",
              "      <td>1.124698</td>\n",
              "    </tr>\n",
              "    <tr>\n",
              "      <th>2192</th>\n",
              "      <td>103 - Exposure, source outside storage container, tank</td>\n",
              "      <td>1.201659</td>\n",
              "    </tr>\n",
              "    <tr>\n",
              "      <th>78</th>\n",
              "      <td>55 - Candle</td>\n",
              "      <td>1.218826</td>\n",
              "    </tr>\n",
              "    <tr>\n",
              "      <th>240</th>\n",
              "      <td>88 - Multiple Ignition Source or Igniting Equipment (suspected arson)</td>\n",
              "      <td>1.607124</td>\n",
              "    </tr>\n",
              "    <tr>\n",
              "      <th>852</th>\n",
              "      <td>48 - Air Conditioner - Window or Room Unit</td>\n",
              "      <td>1.632441</td>\n",
              "    </tr>\n",
              "    <tr>\n",
              "      <th>7719</th>\n",
              "      <td>46 - Electric Blanket, Heating Pad</td>\n",
              "      <td>1.712484</td>\n",
              "    </tr>\n",
              "    <tr>\n",
              "      <th>2486</th>\n",
              "      <td>27 - Terminations-Aluminum (incl receptables, switches, lights)</td>\n",
              "      <td>1.712484</td>\n",
              "    </tr>\n",
              "    <tr>\n",
              "      <th>10604</th>\n",
              "      <td>105 - Exposure, source forest, trees, wildland</td>\n",
              "      <td>1.712484</td>\n",
              "    </tr>\n",
              "    <tr>\n",
              "      <th>12844</th>\n",
              "      <td>61 - Incinerator</td>\n",
              "      <td>1.712484</td>\n",
              "    </tr>\n",
              "    <tr>\n",
              "      <th>1978</th>\n",
              "      <td>102 - Exposure, source structure semi-detached or attached</td>\n",
              "      <td>2.117949</td>\n",
              "    </tr>\n",
              "    <tr>\n",
              "      <th>197</th>\n",
              "      <td>64 - Chemical Processing Equipment (eg. reactors, distilling units, e</td>\n",
              "      <td>2.117949</td>\n",
              "    </tr>\n",
              "    <tr>\n",
              "      <th>1871</th>\n",
              "      <td>54 - Lamp (eg. coal, oil, naphtha, etc.)</td>\n",
              "      <td>2.300271</td>\n",
              "    </tr>\n",
              "  </tbody>\n",
              "</table>\n",
              "</div>"
            ],
            "text/plain": [
              "                                                             Ignition_Source  \\\n",
              "21     81 - Vehicle - Electrical                                               \n",
              "15     82 - Vehicle - Mechanical                                               \n",
              "104    36 - Fireplace - Masonry                                                \n",
              "130    17 - Wood burning stove                                                 \n",
              "116    20 - Service/Utility Lines (includes power/hydro transmission lines)    \n",
              "16     24 - Circuit Wiring - Copper                                            \n",
              "19     98 - Other                                                              \n",
              "129    92 - Open Fire (eg. camp fire, rubbish fire, etc.)                      \n",
              "192    93 - Hot Ashes, Embers, Spark                                           \n",
              "2291   91 - Fireworks                                                          \n",
              "95     79 - Other Open Flame Tools/Smokers' Articles                           \n",
              "2027   40 - Flue Pipe                                                          \n",
              "0      999 - Undetermined                                                      \n",
              "360    30 - Other Electrical Distribution Item                                 \n",
              "261    32 - Water Heater                                                       \n",
              "103    84 - Other Mechanical                                                   \n",
              "113    83 - Other Electrical                                                   \n",
              "8      41 - Other Heating Equipment                                            \n",
              "406    33 - Space Heater - Fixed                                               \n",
              "833    104 - Exposure, source open fire (inc campfire, rubbish fire)           \n",
              "584    108 - Exposure, source other                                            \n",
              "1202   37 - Fireplace Insert                                                   \n",
              "222    43 - Clothes Dryer                                                      \n",
              "231    69 - Other Processing Equipment                                         \n",
              "285    85 - Vehicle collision                                                  \n",
              "1448   31 - Central Heating/Cooling Unit                                       \n",
              "88     14 - Open Fired Barbeque - Fixed or Portable                            \n",
              "266    26 - Terminations-Copper (incl receptacles, switches, lights)           \n",
              "66     72 - Cutting/Welding Equipment                                          \n",
              "7      23 - Distribution Equipment (includes panel boards, fuses, circuit br   \n",
              "879    96 - Chemical Reaction (eg. spontaneous combustion, etc.)               \n",
              "193    52 - Florescent Lamp (includes ballast)                                 \n",
              "1332   9990 - Under Investigation                                              \n",
              "4988   45 - Washing Machine                                                    \n",
              "303    16 - Deep Fat Fryer                                                     \n",
              "64     73 - Blow Torch, Bunsen Burner                                          \n",
              "680    63 - Painting Equipment                                                 \n",
              "3444   95 - Lightning                                                          \n",
              "4209   100 - Outdoor fireplace/heater                                          \n",
              "6      51 - Incandescent Lamp - Light Bulb, Spotlight                          \n",
              "621    15 - Range Hood                                                         \n",
              "3117   80 - Portable generator                                                 \n",
              "999    35 - Fireplace - Factory Built                                          \n",
              "1674   56 - Halogen Lamp or light                                              \n",
              "26     71 - Smoker's Articles (eg. cigarettes, cigars, pipes already ignited   \n",
              "1237   94 - Static Electricity (spark)                                         \n",
              "4469   97 - Rekindle                                                           \n",
              "437    39 - Chimney - Masonry                                                  \n",
              "77     21 - Transformer                                                        \n",
              "38     77 - Matches or Lighters (unable to distinguish)                        \n",
              "983    106 - Exposure, source grass, shrubs, trees                             \n",
              "54     12 - Oven                                                               \n",
              "79     29 - Extension Cord, Temporary Wiring                                   \n",
              "2917   38 - Chimney - Factory Built                                            \n",
              "3010   22 - Meter                                                              \n",
              "5504   25 - Circuit Wiring - Aluminum                                          \n",
              "302    28 - Cord, Cable for Appliance, Electrical Articles                     \n",
              "61     47 - Refrigerator, Freezer (includes vending machine)                   \n",
              "35     13 - Microwave                                                          \n",
              "554    44 - Iron, Pressing Machine                                             \n",
              "786    107 - Exposure, source vehicle (outside structure)                      \n",
              "150    62 - Heat Treatment Equipment (eg. furnace, oven, kiln, quench tanks,   \n",
              "439    34 - Space Heater - Portable                                            \n",
              "316    59 - Other Lighting Equipment                                           \n",
              "44     74 - Salamander                                                         \n",
              "433    42 - Television, Radio, Stereo, Tape Recorder, etc.                     \n",
              "170    19 - Other Cooking Items (eg Toaster, Kettle, elec frying pan)          \n",
              "23     49 - Other Appliances                                                   \n",
              "3359   101 - Exposure, source structure detached                               \n",
              "367    76 - Lighters (open flame)                                              \n",
              "8300   53 - Christmas Lights, Decorative Lighting                              \n",
              "253    75 - Matches (open flame)                                               \n",
              "11     11 - Stove, Range-top burner                                            \n",
              "2192   103 - Exposure, source outside storage container, tank                  \n",
              "78     55 - Candle                                                             \n",
              "240    88 - Multiple Ignition Source or Igniting Equipment (suspected arson)   \n",
              "852    48 - Air Conditioner - Window or Room Unit                              \n",
              "7719   46 - Electric Blanket, Heating Pad                                      \n",
              "2486   27 - Terminations-Aluminum (incl receptables, switches, lights)         \n",
              "10604  105 - Exposure, source forest, trees, wildland                          \n",
              "12844  61 - Incinerator                                                        \n",
              "1978   102 - Exposure, source structure semi-detached or attached              \n",
              "197    64 - Chemical Processing Equipment (eg. reactors, distilling units, e   \n",
              "1871   54 - Lamp (eg. coal, oil, naphtha, etc.)                                \n",
              "\n",
              "       Ignition_Source_woe  \n",
              "21    -1.671906             \n",
              "15    -1.547214             \n",
              "104   -1.205287             \n",
              "130   -1.017545             \n",
              "116   -1.001106             \n",
              "16    -0.932508             \n",
              "19    -0.811338             \n",
              "129   -0.744252             \n",
              "192   -0.707884             \n",
              "2291  -0.654639             \n",
              "95    -0.648370             \n",
              "2027  -0.590101             \n",
              "0     -0.527154             \n",
              "360   -0.489359             \n",
              "261   -0.484740             \n",
              "103   -0.484740             \n",
              "113   -0.461320             \n",
              "8     -0.380751             \n",
              "406   -0.302419             \n",
              "833   -0.233426             \n",
              "584   -0.233426             \n",
              "1202  -0.233426             \n",
              "222   -0.202335             \n",
              "231   -0.201165             \n",
              "285   -0.184636             \n",
              "1448  -0.159318             \n",
              "88    -0.139900             \n",
              "266   -0.133342             \n",
              "66    -0.099276             \n",
              "7     -0.086196             \n",
              "879   -0.079275             \n",
              "193   -0.022117             \n",
              "1332  -0.022117             \n",
              "4988   0.038508             \n",
              "303    0.081067             \n",
              "64     0.082741             \n",
              "680    0.103046             \n",
              "3444   0.103046             \n",
              "4209   0.172039             \n",
              "6      0.192658             \n",
              "621    0.246147             \n",
              "3117   0.246147             \n",
              "999    0.246147             \n",
              "1674   0.285368             \n",
              "26     0.301497             \n",
              "1237   0.326190             \n",
              "4469   0.326190             \n",
              "437    0.326190             \n",
              "77     0.350287             \n",
              "38     0.413201             \n",
              "983    0.413201             \n",
              "54     0.462231             \n",
              "79     0.475722             \n",
              "2917   0.508511             \n",
              "3010   0.508511             \n",
              "5504   0.508511             \n",
              "302    0.613872             \n",
              "61     0.613872             \n",
              "35     0.682865             \n",
              "554    0.731655             \n",
              "786    0.796193             \n",
              "150    0.818666             \n",
              "439    0.849438             \n",
              "316    0.865186             \n",
              "44     0.865186             \n",
              "433    0.924027             \n",
              "170    0.957779             \n",
              "23     0.975852             \n",
              "3359   1.019337             \n",
              "367    1.019337             \n",
              "8300   1.019337             \n",
              "253    1.106348             \n",
              "11     1.124698             \n",
              "2192   1.201659             \n",
              "78     1.218826             \n",
              "240    1.607124             \n",
              "852    1.632441             \n",
              "7719   1.712484             \n",
              "2486   1.712484             \n",
              "10604  1.712484             \n",
              "12844  1.712484             \n",
              "1978   2.117949             \n",
              "197    2.117949             \n",
              "1871   2.300271             "
            ]
          },
          "metadata": {},
          "execution_count": 24
        }
      ]
    },
    {
      "cell_type": "code",
      "metadata": {
        "id": "C1C0fuKkqiey"
      },
      "source": [
        ""
      ],
      "execution_count": null,
      "outputs": []
    },
    {
      "cell_type": "markdown",
      "metadata": {
        "id": "SKnK8xwLjSbP"
      },
      "source": [
        "## High Card: Property Use\n"
      ]
    },
    {
      "cell_type": "markdown",
      "metadata": {
        "id": "GjXpJxIjr1zq"
      },
      "source": [
        "1) woe encoding\n",
        "comment: doesn't produce meaningful groups"
      ]
    },
    {
      "cell_type": "code",
      "metadata": {
        "id": "zqL1Hccgoz56"
      },
      "source": [
        "df_test=woe_encoder('Property_Use','LABEL')\n",
        "df_test[['Property_Use','Property_Use_woe']].drop_duplicates().sort_values(by='Property_Use_woe')\n"
      ],
      "execution_count": null,
      "outputs": []
    },
    {
      "cell_type": "markdown",
      "metadata": {
        "id": "p_3St2kDsDQf"
      },
      "source": [
        "2) nlp: bow/n-gram/embedding to generate feature than use PCA to reduce"
      ]
    },
    {
      "cell_type": "code",
      "metadata": {
        "id": "V6iIAPnyqjfa"
      },
      "source": [
        "import re,os\n",
        "import string\n",
        "from nltk import word_tokenize\n",
        "from nltk.corpus import stopwords\n",
        "from nltk.stem import WordNetLemmatizer\n",
        "from sklearn.feature_extraction.text import TfidfVectorizer, CountVectorizer\n",
        "from sklearn.model_selection import train_test_split\n",
        "from sklearn.metrics import accuracy_score,roc_curve,classification_report,confusion_matrix,precision_recall_curve,auc,roc_auc_score,f1_score\n",
        "from pylab import *\n",
        "import nltk\n",
        "import warnings\n",
        "warnings.filterwarnings('ignore')\n",
        "nltk.download('stopwords')\n",
        "nltk.download('punkt')\n",
        "nltk.download('wordnet')\n",
        "\n",
        "!pip install unidecode\n",
        "import unidecode\n",
        "\n",
        "!pip install contractions\n",
        "import contractions\n",
        "\n",
        "!pip install swifter\n",
        "import swifter #https://github.com/jmcarpenter2/swifter"
      ],
      "execution_count": null,
      "outputs": []
    },
    {
      "cell_type": "code",
      "metadata": {
        "id": "e-cHReWEiEpa"
      },
      "source": [
        "#make sure null is dropped/imputed\n",
        "df[df['Property_Use'].isnull()]\n",
        "#df_p=df.drop(labels=[np.where(df['Property_Use'].isnull())[0][0]],axis=0)"
      ],
      "execution_count": null,
      "outputs": []
    },
    {
      "cell_type": "code",
      "metadata": {
        "id": "WhataDZijd7J"
      },
      "source": [
        "df_p=df[['Incident_Numberinc_','Property_Use','LABEL']]"
      ],
      "execution_count": 18,
      "outputs": []
    },
    {
      "cell_type": "code",
      "metadata": {
        "id": "o92nAt5wqVs8"
      },
      "source": [
        "# clean up the text\n",
        "\n",
        "def clean_text(text):\n",
        "  # replace all non-printable characters (such as \"\\n\") with space, and replace multiple spaces with single space\n",
        "  df_p['ss_text']=text.apply(lambda x: ' '.join(c for c in x.split()))\n",
        "  #expand contraction\n",
        "  df_p['contract_text']=df_p['ss_text'].apply(lambda x: ' '.join([contractions.fix(w) for w in x.split()]))\n",
        "  #lower case\n",
        "  df_p['lower_text']=df_p['contract_text'].apply(lambda x: ' '.join([w.lower() for w in x.split()]))\n",
        "  #spelling correction\n",
        "  df_p['spl_text'] = df_p['lower_text'].apply(lambda x: str(TextBlob(x).correct()))\n",
        "  #lemmatization\n",
        "  lmtzr=WordNetLemmatizer()\n",
        "  df_p['lemm_text']=df_p['spl_text'].apply(lambda x: ' '.join([lmtzr.lemmatize(w) for w in x.split()]))\n",
        "  #remove punctuation\n",
        "  df_p['punct_text']=df_p['lemm_text'].str.replace('[^\\w\\s]',' ')\n",
        "  #remove english stopwords\n",
        "  STOPWORDS=set(stopwords.words('english'))\n",
        "  df_p['stop_text']=df_p['punct_text'].apply(lambda x: ' '.join([w for w in x.split() if w not in STOPWORDS]))\n",
        "  #remove all numbers\n",
        "  df_p['text_cleaned']=df_p['stop_text'].apply(lambda x: ' '.join([w for w in x.split() if not w.isdigit()]))\n",
        "  #return\n",
        "  return df_p[\"text_cleaned\"]"
      ],
      "execution_count": 19,
      "outputs": []
    },
    {
      "cell_type": "code",
      "metadata": {
        "id": "N4n4_NUArw_k"
      },
      "source": [
        "clean_text(df_p['Property_Use'])"
      ],
      "execution_count": null,
      "outputs": []
    },
    {
      "cell_type": "code",
      "metadata": {
        "colab": {
          "base_uri": "https://localhost:8080/",
          "height": 80
        },
        "id": "DuyZdIJEnKv0",
        "outputId": "2e6a77c0-cdab-49b0-ae6c-acc53781f235"
      },
      "source": [
        "#check if there's empty string as a result of text cleaning\n",
        "df_p[df_p['text_cleaned']==\"\"]"
      ],
      "execution_count": 21,
      "outputs": [
        {
          "output_type": "execute_result",
          "data": {
            "text/html": [
              "<div>\n",
              "<style scoped>\n",
              "    .dataframe tbody tr th:only-of-type {\n",
              "        vertical-align: middle;\n",
              "    }\n",
              "\n",
              "    .dataframe tbody tr th {\n",
              "        vertical-align: top;\n",
              "    }\n",
              "\n",
              "    .dataframe thead th {\n",
              "        text-align: right;\n",
              "    }\n",
              "</style>\n",
              "<table border=\"1\" class=\"dataframe\">\n",
              "  <thead>\n",
              "    <tr style=\"text-align: right;\">\n",
              "      <th></th>\n",
              "      <th>Incident_Numberinc_</th>\n",
              "      <th>Property_Use</th>\n",
              "      <th>LABEL</th>\n",
              "      <th>ss_text</th>\n",
              "      <th>contract_text</th>\n",
              "      <th>lower_text</th>\n",
              "      <th>spl_text</th>\n",
              "      <th>lemm_text</th>\n",
              "      <th>punct_text</th>\n",
              "      <th>stop_text</th>\n",
              "      <th>text_cleaned</th>\n",
              "    </tr>\n",
              "  </thead>\n",
              "  <tbody>\n",
              "    <tr>\n",
              "      <th>17276</th>\n",
              "      <td>F13029095</td>\n",
              "      <td>Other</td>\n",
              "      <td>0</td>\n",
              "      <td>Other</td>\n",
              "      <td>Other</td>\n",
              "      <td>other</td>\n",
              "      <td>other</td>\n",
              "      <td>other</td>\n",
              "      <td>other</td>\n",
              "      <td></td>\n",
              "      <td></td>\n",
              "    </tr>\n",
              "  </tbody>\n",
              "</table>\n",
              "</div>"
            ],
            "text/plain": [
              "      Incident_Numberinc_ Property_Use  LABEL ss_text contract_text  \\\n",
              "17276  F13029095           Other        0      Other   Other          \n",
              "\n",
              "      lower_text spl_text lemm_text punct_text stop_text text_cleaned  \n",
              "17276  other      other    other     other                             "
            ]
          },
          "metadata": {},
          "execution_count": 21
        }
      ]
    },
    {
      "cell_type": "code",
      "metadata": {
        "id": "ac3VO2T8nXJd"
      },
      "source": [
        "# check for word frequency\n",
        "word_list=' '.join(df_p['text_cleaned'])\n",
        "word_listing=str(word_list).split()"
      ],
      "execution_count": 22,
      "outputs": []
    },
    {
      "cell_type": "code",
      "metadata": {
        "id": "3Np8DXI51axT"
      },
      "source": [
        "# remove the rare category (bottom 1%)\n",
        "lower_word_limit=df_p.shape[0]*0.01\n",
        "# upper_word_limit=df_p.shape[0]*0.5"
      ],
      "execution_count": 23,
      "outputs": []
    },
    {
      "cell_type": "code",
      "metadata": {
        "colab": {
          "base_uri": "https://localhost:8080/"
        },
        "id": "AV9cbEmfwI8j",
        "outputId": "cb22452d-c7ec-45d6-bacd-984355dacf37"
      },
      "source": [
        "from collections import Counter\n",
        "c=Counter(word_listing)\n",
        "sorted_list=sorted(c.items(),key=lambda i:i[1],reverse=True)\n",
        "top20=sorted_list[0:20]\n",
        "top20\n",
        "#top10_word=[w for (w,wc) in top10]"
      ],
      "execution_count": 33,
      "outputs": [
        {
          "output_type": "execute_result",
          "data": {
            "text/plain": [
              "[('unit', 8618),\n",
              " ('dwelling', 8279),\n",
              " ('multi', 4373),\n",
              " ('detached', 3484),\n",
              " ('etc', 1612),\n",
              " ('eg', 1579),\n",
              " ('automobile', 1444),\n",
              " ('cowhouse', 1210),\n",
              " ('garage', 1051),\n",
              " ('fire', 946),\n",
              " ('sidewalk', 942),\n",
              " ('street', 942),\n",
              " ('roadway', 942),\n",
              " ('highway', 942),\n",
              " ('use', 942),\n",
              " ('incidents', 942),\n",
              " ('semi', 842),\n",
              " ('trash', 742),\n",
              " ('rubbish', 742),\n",
              " ('container', 742)]"
            ]
          },
          "metadata": {},
          "execution_count": 33
        }
      ]
    },
    {
      "cell_type": "code",
      "metadata": {
        "id": "P_PooCQw77eT"
      },
      "source": [
        "custom_stopwords=['fire','etc','eg','incidents','use']"
      ],
      "execution_count": 34,
      "outputs": []
    },
    {
      "cell_type": "code",
      "metadata": {
        "id": "7ZJg56FOz_4n"
      },
      "source": [
        "sorted_clean=list(filter(lambda c: c[1]>lower_word_limit and c[0] not in custom_stopwords, sorted_list))"
      ],
      "execution_count": 35,
      "outputs": []
    },
    {
      "cell_type": "code",
      "metadata": {
        "id": "r5-fLvqo6biD"
      },
      "source": [
        "fire_word_list=[w for (w,wc) in sorted_clean]"
      ],
      "execution_count": 36,
      "outputs": []
    },
    {
      "cell_type": "code",
      "metadata": {
        "id": "FX9s7YKk8v8f"
      },
      "source": [
        "#remove the frequent/rare words\n",
        "df_p['text_cleaned_final']=df_p['text_cleaned'].apply(lambda x: ' '.join([w for w in str(x).split() if w in fire_word_list]))"
      ],
      "execution_count": 37,
      "outputs": []
    },
    {
      "cell_type": "code",
      "metadata": {
        "colab": {
          "base_uri": "https://localhost:8080/",
          "height": 359
        },
        "id": "F-xLy_Q99r3Q",
        "outputId": "0ee8336c-d990-4ebb-9760-16c9389c1c01"
      },
      "source": [
        "df_p[['text_cleaned_final','text_cleaned']].head(10)"
      ],
      "execution_count": 38,
      "outputs": [
        {
          "output_type": "execute_result",
          "data": {
            "text/html": [
              "<div>\n",
              "<style scoped>\n",
              "    .dataframe tbody tr th:only-of-type {\n",
              "        vertical-align: middle;\n",
              "    }\n",
              "\n",
              "    .dataframe tbody tr th {\n",
              "        vertical-align: top;\n",
              "    }\n",
              "\n",
              "    .dataframe thead th {\n",
              "        text-align: right;\n",
              "    }\n",
              "</style>\n",
              "<table border=\"1\" class=\"dataframe\">\n",
              "  <thead>\n",
              "    <tr style=\"text-align: right;\">\n",
              "      <th></th>\n",
              "      <th>text_cleaned_final</th>\n",
              "      <th>text_cleaned</th>\n",
              "    </tr>\n",
              "  </thead>\n",
              "  <tbody>\n",
              "    <tr>\n",
              "      <th>0</th>\n",
              "      <td>sidewalk street roadway highway</td>\n",
              "      <td>sidewalk street roadway highway use fire incidents</td>\n",
              "    </tr>\n",
              "    <tr>\n",
              "      <th>1</th>\n",
              "      <td>sidewalk street roadway highway</td>\n",
              "      <td>sidewalk street roadway highway use fire incidents</td>\n",
              "    </tr>\n",
              "    <tr>\n",
              "      <th>2</th>\n",
              "      <td>outdoor general auto parking</td>\n",
              "      <td>outdoor general auto parking</td>\n",
              "    </tr>\n",
              "    <tr>\n",
              "      <th>3</th>\n",
              "      <td>store</td>\n",
              "      <td>department store</td>\n",
              "    </tr>\n",
              "    <tr>\n",
              "      <th>4</th>\n",
              "      <td>structure</td>\n",
              "      <td>lawn around structure</td>\n",
              "    </tr>\n",
              "    <tr>\n",
              "      <th>5</th>\n",
              "      <td>vehicle vehicle part</td>\n",
              "      <td>vehicle vehicle part</td>\n",
              "    </tr>\n",
              "    <tr>\n",
              "      <th>6</th>\n",
              "      <td>detached dwelling</td>\n",
              "      <td>detached dwelling</td>\n",
              "    </tr>\n",
              "    <tr>\n",
              "      <th>7</th>\n",
              "      <td>multi unit dwelling unit</td>\n",
              "      <td>multi unit dwelling unit</td>\n",
              "    </tr>\n",
              "    <tr>\n",
              "      <th>8</th>\n",
              "      <td>facility</td>\n",
              "      <td>court facility</td>\n",
              "    </tr>\n",
              "    <tr>\n",
              "      <th>9</th>\n",
              "      <td>automobile</td>\n",
              "      <td>automobile</td>\n",
              "    </tr>\n",
              "  </tbody>\n",
              "</table>\n",
              "</div>"
            ],
            "text/plain": [
              "                text_cleaned_final  \\\n",
              "0  sidewalk street roadway highway   \n",
              "1  sidewalk street roadway highway   \n",
              "2  outdoor general auto parking      \n",
              "3  store                             \n",
              "4  structure                         \n",
              "5  vehicle vehicle part              \n",
              "6  detached dwelling                 \n",
              "7  multi unit dwelling unit          \n",
              "8  facility                          \n",
              "9  automobile                        \n",
              "\n",
              "                                         text_cleaned  \n",
              "0  sidewalk street roadway highway use fire incidents  \n",
              "1  sidewalk street roadway highway use fire incidents  \n",
              "2  outdoor general auto parking                        \n",
              "3  department store                                    \n",
              "4  lawn around structure                               \n",
              "5  vehicle vehicle part                                \n",
              "6  detached dwelling                                   \n",
              "7  multi unit dwelling unit                            \n",
              "8  court facility                                      \n",
              "9  automobile                                          "
            ]
          },
          "metadata": {},
          "execution_count": 38
        }
      ]
    },
    {
      "cell_type": "code",
      "metadata": {
        "colab": {
          "base_uri": "https://localhost:8080/"
        },
        "id": "cKtCuS4osR7Y",
        "outputId": "899987cb-5e2a-4a07-98ca-bdb9ade44d7f"
      },
      "source": [
        "#check if there's empty string as a result of text cleaning\n",
        "df_p[df_p['text_cleaned_final']==\"\"].shape[0]"
      ],
      "execution_count": 39,
      "outputs": [
        {
          "output_type": "execute_result",
          "data": {
            "text/plain": [
              "1303"
            ]
          },
          "metadata": {},
          "execution_count": 39
        }
      ]
    },
    {
      "cell_type": "code",
      "metadata": {
        "colab": {
          "base_uri": "https://localhost:8080/"
        },
        "id": "rGEqKbRStqj_",
        "outputId": "e8da7b20-8af0-442a-b506-f960ed0688ea"
      },
      "source": [
        "df_p['LABEL'].value_counts()"
      ],
      "execution_count": 42,
      "outputs": [
        {
          "output_type": "execute_result",
          "data": {
            "text/plain": [
              "0    16543\n",
              "1    993  \n",
              "Name: LABEL, dtype: int64"
            ]
          },
          "metadata": {},
          "execution_count": 42
        }
      ]
    },
    {
      "cell_type": "code",
      "metadata": {
        "id": "Wuboayu6t8Nm"
      },
      "source": [
        "# dominant category is no casulaty\n",
        "casualty=df_p[df_p['LABEL']==1]\n",
        "no_casualty=df_p[df_p['LABEL']==0]"
      ],
      "execution_count": 45,
      "outputs": []
    },
    {
      "cell_type": "code",
      "metadata": {
        "colab": {
          "base_uri": "https://localhost:8080/"
        },
        "id": "eZxtPh_HuaWr",
        "outputId": "efa3bdc0-f509-4885-8acb-2a5f8707be1f"
      },
      "source": [
        "# downsampling\n",
        "no_casualty = no_casualty.sample(casualty.shape[0], random_state=10)\n",
        "no_casualty.shape, casualty.shape"
      ],
      "execution_count": 46,
      "outputs": [
        {
          "output_type": "execute_result",
          "data": {
            "text/plain": [
              "((993, 12), (993, 12))"
            ]
          },
          "metadata": {},
          "execution_count": 46
        }
      ]
    },
    {
      "cell_type": "code",
      "metadata": {
        "colab": {
          "base_uri": "https://localhost:8080/"
        },
        "id": "0ZiFlWxBuy8i",
        "outputId": "73586c93-934c-4d51-c2aa-109219673b93"
      },
      "source": [
        "data=no_casualty.append(casualty,ignore_index=True)\n",
        "data['LABEL'].value_counts()"
      ],
      "execution_count": 47,
      "outputs": [
        {
          "output_type": "execute_result",
          "data": {
            "text/plain": [
              "1    993\n",
              "0    993\n",
              "Name: LABEL, dtype: int64"
            ]
          },
          "metadata": {},
          "execution_count": 47
        }
      ]
    },
    {
      "cell_type": "code",
      "metadata": {
        "colab": {
          "base_uri": "https://localhost:8080/"
        },
        "id": "d9LtjdhDx0Hk",
        "outputId": "75c029d6-767a-40c3-a8be-62a79a9e94dc"
      },
      "source": [
        "X_train, X_test, y_train, y_test = train_test_split(data[\"text_cleaned_final\"], data[\"LABEL\"], test_size=0.2, random_state=10086, stratify=data[\"LABEL\"])\n",
        "print(X_train.shape)\n",
        "print(X_test.shape)"
      ],
      "execution_count": 48,
      "outputs": [
        {
          "output_type": "stream",
          "name": "stdout",
          "text": [
            "(1588,)\n",
            "(398,)\n"
          ]
        }
      ]
    },
    {
      "cell_type": "code",
      "metadata": {
        "id": "a9krXz9ZAA-L"
      },
      "source": [
        "# an alternative count vetorizer then use PCA to reduce?"
      ],
      "execution_count": null,
      "outputs": []
    },
    {
      "cell_type": "code",
      "metadata": {
        "id": "SwwcwbqJybDZ"
      },
      "source": [
        "from sklearn.pipeline import Pipeline\n",
        "from sklearn.preprocessing import StandardScaler\n",
        "from sklearn.linear_model import LogisticRegression\n",
        "from sklearn.metrics import accuracy_score, f1_score, roc_auc_score\n",
        "from sklearn.base import TransformerMixin\n",
        "class DenseTransformer(TransformerMixin):\n",
        "    def fit(self, X, y=None, **fit_params):\n",
        "        return self\n",
        "    def transform(self, X, y=None, **fit_params):\n",
        "        return X.todense()"
      ],
      "execution_count": 49,
      "outputs": []
    },
    {
      "cell_type": "markdown",
      "metadata": {
        "id": "9M_NRg8-vsPX"
      },
      "source": [
        "1) bag-of-words: extract top words with highest coefficients"
      ]
    },
    {
      "cell_type": "code",
      "metadata": {
        "colab": {
          "base_uri": "https://localhost:8080/"
        },
        "id": "MA89gqnWyMrV",
        "outputId": "9562b39b-a0f7-4bb1-86eb-9609d135024c"
      },
      "source": [
        "pipeline_bow = Pipeline([('vectorizer', CountVectorizer(max_features=1000)), ('dtf', DenseTransformer()),('scaler', StandardScaler()), ('LR', LogisticRegression(random_state=2020))])\n",
        "pipeline_bow.fit(X_train, y_train)"
      ],
      "execution_count": 58,
      "outputs": [
        {
          "output_type": "execute_result",
          "data": {
            "text/plain": [
              "Pipeline(steps=[('vectorizer', CountVectorizer(max_features=1000)),\n",
              "                ('dtf', <__main__.DenseTransformer object at 0x7fbc4e7fd190>),\n",
              "                ('scaler', StandardScaler()),\n",
              "                ('LR', LogisticRegression(random_state=2020))])"
            ]
          },
          "metadata": {},
          "execution_count": 58
        }
      ]
    },
    {
      "cell_type": "code",
      "metadata": {
        "colab": {
          "base_uri": "https://localhost:8080/"
        },
        "id": "0K21kAqEyewp",
        "outputId": "9dbb0950-6d1f-45d7-e287-1064d04696ea"
      },
      "source": [
        "#accuracy\n",
        "pipeline_bow.score(X_test,y_test)"
      ],
      "execution_count": 59,
      "outputs": [
        {
          "output_type": "execute_result",
          "data": {
            "text/plain": [
              "0.6984924623115578"
            ]
          },
          "metadata": {},
          "execution_count": 59
        }
      ]
    },
    {
      "cell_type": "code",
      "metadata": {
        "colab": {
          "base_uri": "https://localhost:8080/"
        },
        "id": "vhMMuJYtylwo",
        "outputId": "078d0fa7-072b-4d63-b7e4-41878dbaf95b"
      },
      "source": [
        "## f1 score\n",
        "f1_score(y_test,pipeline_bow.predict(X_test))"
      ],
      "execution_count": 60,
      "outputs": [
        {
          "output_type": "execute_result",
          "data": {
            "text/plain": [
              "0.7379912663755459"
            ]
          },
          "metadata": {},
          "execution_count": 60
        }
      ]
    },
    {
      "cell_type": "code",
      "metadata": {
        "colab": {
          "base_uri": "https://localhost:8080/"
        },
        "id": "AjgI5AAXyxUo",
        "outputId": "5086dfa1-b924-4125-c7e8-ed851ff68ac1"
      },
      "source": [
        "## roc auc score\n",
        "roc_auc_score(y_test, pipeline_bow.predict_proba(X_test)[:,1])"
      ],
      "execution_count": 61,
      "outputs": [
        {
          "output_type": "execute_result",
          "data": {
            "text/plain": [
              "0.7090856291507791"
            ]
          },
          "metadata": {},
          "execution_count": 61
        }
      ]
    },
    {
      "cell_type": "code",
      "metadata": {
        "id": "QSoJGTb2y-Bo"
      },
      "source": [
        "#coefficients (coef_) of your logisitic regression model, which features are most positively/negatively correlated with toxic comments?\n",
        "feature_names=pipeline_bow.named_steps['vectorizer'].get_feature_names()"
      ],
      "execution_count": 62,
      "outputs": []
    },
    {
      "cell_type": "code",
      "metadata": {
        "colab": {
          "base_uri": "https://localhost:8080/"
        },
        "id": "yB1HenRxzB5w",
        "outputId": "6b37ed72-e33f-4702-b5b8-f89166a9d8fc"
      },
      "source": [
        "len(feature_names)"
      ],
      "execution_count": 63,
      "outputs": [
        {
          "output_type": "execute_result",
          "data": {
            "text/plain": [
              "56"
            ]
          },
          "metadata": {},
          "execution_count": 63
        }
      ]
    },
    {
      "cell_type": "code",
      "metadata": {
        "id": "bQqZCczszFAY"
      },
      "source": [
        "feature_coeff=pipeline_bow.named_steps['LR'].coef_[0]\n",
        "feature_df=pd.DataFrame()\n",
        "feature_df['feature']=feature_names\n",
        "feature_df['coeff']=feature_coeff\n",
        "feature_df['abs']=np.abs(feature_coeff)\n",
        "feature_df.sort_values(by='abs',ascending=False, inplace=True)"
      ],
      "execution_count": 64,
      "outputs": []
    },
    {
      "cell_type": "code",
      "metadata": {
        "colab": {
          "base_uri": "https://localhost:8080/",
          "height": 669
        },
        "id": "f7WcfQ2OzKZo",
        "outputId": "3dd0ee7e-04f0-4f5c-db96-cf3e81dec60e"
      },
      "source": [
        "feature_df.head(20)"
      ],
      "execution_count": 65,
      "outputs": [
        {
          "output_type": "execute_result",
          "data": {
            "text/html": [
              "<div>\n",
              "<style scoped>\n",
              "    .dataframe tbody tr th:only-of-type {\n",
              "        vertical-align: middle;\n",
              "    }\n",
              "\n",
              "    .dataframe tbody tr th {\n",
              "        vertical-align: top;\n",
              "    }\n",
              "\n",
              "    .dataframe thead th {\n",
              "        text-align: right;\n",
              "    }\n",
              "</style>\n",
              "<table border=\"1\" class=\"dataframe\">\n",
              "  <thead>\n",
              "    <tr style=\"text-align: right;\">\n",
              "      <th></th>\n",
              "      <th>feature</th>\n",
              "      <th>coeff</th>\n",
              "      <th>abs</th>\n",
              "    </tr>\n",
              "  </thead>\n",
              "  <tbody>\n",
              "    <tr>\n",
              "      <th>12</th>\n",
              "      <td>dwelling</td>\n",
              "      <td>1.068439</td>\n",
              "      <td>1.068439</td>\n",
              "    </tr>\n",
              "    <tr>\n",
              "      <th>0</th>\n",
              "      <td>apartment</td>\n",
              "      <td>0.624753</td>\n",
              "      <td>0.624753</td>\n",
              "    </tr>\n",
              "    <tr>\n",
              "      <th>45</th>\n",
              "      <td>station</td>\n",
              "      <td>-0.469040</td>\n",
              "      <td>0.469040</td>\n",
              "    </tr>\n",
              "    <tr>\n",
              "      <th>18</th>\n",
              "      <td>greater</td>\n",
              "      <td>-0.408319</td>\n",
              "      <td>0.408319</td>\n",
              "    </tr>\n",
              "    <tr>\n",
              "      <th>10</th>\n",
              "      <td>detached</td>\n",
              "      <td>-0.404654</td>\n",
              "      <td>0.404654</td>\n",
              "    </tr>\n",
              "    <tr>\n",
              "      <th>22</th>\n",
              "      <td>licensed</td>\n",
              "      <td>0.398159</td>\n",
              "      <td>0.398159</td>\n",
              "    </tr>\n",
              "    <tr>\n",
              "      <th>3</th>\n",
              "      <td>automobile</td>\n",
              "      <td>-0.384122</td>\n",
              "      <td>0.384122</td>\n",
              "    </tr>\n",
              "    <tr>\n",
              "      <th>48</th>\n",
              "      <td>structure</td>\n",
              "      <td>-0.377567</td>\n",
              "      <td>0.377567</td>\n",
              "    </tr>\n",
              "    <tr>\n",
              "      <th>27</th>\n",
              "      <td>multi</td>\n",
              "      <td>-0.373668</td>\n",
              "      <td>0.373668</td>\n",
              "    </tr>\n",
              "    <tr>\n",
              "      <th>31</th>\n",
              "      <td>outdoor</td>\n",
              "      <td>-0.232551</td>\n",
              "      <td>0.232551</td>\n",
              "    </tr>\n",
              "    <tr>\n",
              "      <th>7</th>\n",
              "      <td>container</td>\n",
              "      <td>-0.222968</td>\n",
              "      <td>0.222968</td>\n",
              "    </tr>\n",
              "    <tr>\n",
              "      <th>51</th>\n",
              "      <td>trash</td>\n",
              "      <td>-0.222968</td>\n",
              "      <td>0.222968</td>\n",
              "    </tr>\n",
              "    <tr>\n",
              "      <th>39</th>\n",
              "      <td>rubbish</td>\n",
              "      <td>-0.222968</td>\n",
              "      <td>0.222968</td>\n",
              "    </tr>\n",
              "    <tr>\n",
              "      <th>11</th>\n",
              "      <td>dumpster</td>\n",
              "      <td>-0.222968</td>\n",
              "      <td>0.222968</td>\n",
              "    </tr>\n",
              "    <tr>\n",
              "      <th>32</th>\n",
              "      <td>parking</td>\n",
              "      <td>0.210735</td>\n",
              "      <td>0.210735</td>\n",
              "    </tr>\n",
              "    <tr>\n",
              "      <th>25</th>\n",
              "      <td>lodging</td>\n",
              "      <td>0.209416</td>\n",
              "      <td>0.209416</td>\n",
              "    </tr>\n",
              "    <tr>\n",
              "      <th>15</th>\n",
              "      <td>garage</td>\n",
              "      <td>0.178442</td>\n",
              "      <td>0.178442</td>\n",
              "    </tr>\n",
              "    <tr>\n",
              "      <th>49</th>\n",
              "      <td>tenement</td>\n",
              "      <td>-0.160646</td>\n",
              "      <td>0.160646</td>\n",
              "    </tr>\n",
              "    <tr>\n",
              "      <th>14</th>\n",
              "      <td>flat</td>\n",
              "      <td>-0.160646</td>\n",
              "      <td>0.160646</td>\n",
              "    </tr>\n",
              "    <tr>\n",
              "      <th>53</th>\n",
              "      <td>unit</td>\n",
              "      <td>0.147462</td>\n",
              "      <td>0.147462</td>\n",
              "    </tr>\n",
              "  </tbody>\n",
              "</table>\n",
              "</div>"
            ],
            "text/plain": [
              "       feature     coeff       abs\n",
              "12  dwelling    1.068439  1.068439\n",
              "0   apartment   0.624753  0.624753\n",
              "45  station    -0.469040  0.469040\n",
              "18  greater    -0.408319  0.408319\n",
              "10  detached   -0.404654  0.404654\n",
              "22  licensed    0.398159  0.398159\n",
              "3   automobile -0.384122  0.384122\n",
              "48  structure  -0.377567  0.377567\n",
              "27  multi      -0.373668  0.373668\n",
              "31  outdoor    -0.232551  0.232551\n",
              "7   container  -0.222968  0.222968\n",
              "51  trash      -0.222968  0.222968\n",
              "39  rubbish    -0.222968  0.222968\n",
              "11  dumpster   -0.222968  0.222968\n",
              "32  parking     0.210735  0.210735\n",
              "25  lodging     0.209416  0.209416\n",
              "15  garage      0.178442  0.178442\n",
              "49  tenement   -0.160646  0.160646\n",
              "14  flat       -0.160646  0.160646\n",
              "53  unit        0.147462  0.147462"
            ]
          },
          "metadata": {},
          "execution_count": 65
        }
      ]
    },
    {
      "cell_type": "code",
      "metadata": {
        "id": "I6YsJRplzC33"
      },
      "source": [
        "bow_feature=feature_df['feature'][0:20].to_list()"
      ],
      "execution_count": 67,
      "outputs": []
    },
    {
      "cell_type": "code",
      "metadata": {
        "id": "3Wndhn4w3gea"
      },
      "source": [
        "bow_feature_names=[str(x)+'_encoded' for x in bow_feature]"
      ],
      "execution_count": 78,
      "outputs": []
    },
    {
      "cell_type": "code",
      "metadata": {
        "id": "vO9YFu4J1TNE"
      },
      "source": [
        "#create features using bow for property_use\n",
        "df_p['property_use']=df_p['text_cleaned_final'].apply(lambda x: ' '.join([w for w in str(x).split() if w in bow_feature]))"
      ],
      "execution_count": 71,
      "outputs": []
    },
    {
      "cell_type": "code",
      "metadata": {
        "id": "7EnA1rBn181K"
      },
      "source": [
        "pipeline_feature_vector = Pipeline([('vectorizer', CountVectorizer(max_features=1000)), ('dtf', DenseTransformer())])\n",
        "feature_from_Property_use=pipeline_feature_vector.fit_transform(df_p['property_use'], df_p['LABEL']) #stored as a matrix"
      ],
      "execution_count": 80,
      "outputs": []
    },
    {
      "cell_type": "code",
      "metadata": {
        "colab": {
          "base_uri": "https://localhost:8080/"
        },
        "id": "0n_RwXG22_Mc",
        "outputId": "ece500d6-dbbe-4576-f5cb-0009bcf3417a"
      },
      "source": [
        "#number of features\n",
        "dataframe.shape\n",
        "#get names of features\n"
      ],
      "execution_count": 81,
      "outputs": [
        {
          "output_type": "execute_result",
          "data": {
            "text/plain": [
              "(17536, 20)"
            ]
          },
          "metadata": {},
          "execution_count": 81
        }
      ]
    },
    {
      "cell_type": "markdown",
      "metadata": {
        "id": "8G-BfpWcwVNv"
      },
      "source": [
        "2) word2vec "
      ]
    },
    {
      "cell_type": "markdown",
      "metadata": {
        "id": "qoHpZfDJ5cHP"
      },
      "source": [
        "## High Card: combined categorical variables\n",
        "\n",
        "\n",
        "*   List item\n",
        "*   List item\n",
        "\n"
      ]
    },
    {
      "cell_type": "markdown",
      "metadata": {
        "id": "K0CkXgmD5cHg"
      },
      "source": [
        "2) nlp: bow/n-gram/embedding to generate feature than use PCA to reduce"
      ]
    },
    {
      "cell_type": "code",
      "metadata": {
        "id": "zx5aToDd5cHh"
      },
      "source": [
        "#make sure null is dropped/imputed\n",
        "df_c=df[['Incident_Numberinc_','Property_Use','Initial_CAD_Event_Type','Ignition_Source','Area_of_Origin','Material_First_Ignited','LABEL']]"
      ],
      "execution_count": 105,
      "outputs": []
    },
    {
      "cell_type": "code",
      "metadata": {
        "id": "cDOcmDUQ_rhF"
      },
      "source": [
        "#impute missing with empty string\n",
        "df_c.at[df_c[df_c['Area_of_Origin'].isnull()].index,'Area_of_Origin']=' '"
      ],
      "execution_count": 116,
      "outputs": []
    },
    {
      "cell_type": "code",
      "metadata": {
        "id": "LtEOSGMg5cHi"
      },
      "source": [
        "df_c['combined_feature']=df_c.iloc[:,1]+' '+df_c.iloc[:,2]+' '+df_c.iloc[:,3]+' '+df_c.iloc[:,4]+' '+df_c.iloc[:,5]"
      ],
      "execution_count": 117,
      "outputs": []
    },
    {
      "cell_type": "code",
      "metadata": {
        "id": "EXPq2ezr5cHi"
      },
      "source": [
        "# clean up/process the text\n",
        "\n",
        "def clean_text(c):\n",
        "  df=pd.DataFrame()\n",
        "  df['text']=c\n",
        "  # replace all non-printable characters (such as \"\\n\") with space, and replace multiple spaces with single space\n",
        "  df['ss_text']=df['text'].apply(lambda x: ' '.join(c for c in x.split()))\n",
        "  #expand contraction\n",
        "  df['contract_text']=df['ss_text'].apply(lambda x: ' '.join([contractions.fix(w) for w in x.split()]))\n",
        "  #lower case\n",
        "  df['lower_text']=df['contract_text'].apply(lambda x: ' '.join([w.lower() for w in x.split()]))\n",
        "  #spelling correction\n",
        "  df['spl_text'] = df['lower_text'].apply(lambda x: str(TextBlob(x).correct()))\n",
        "  #lemmatization\n",
        "  lmtzr=WordNetLemmatizer()\n",
        "  df['lemm_text']=df['spl_text'].apply(lambda x: ' '.join([lmtzr.lemmatize(w) for w in x.split()]))\n",
        "  #remove punctuation\n",
        "  df['punct_text']=df['lemm_text'].str.replace('[^\\w\\s]',' ')\n",
        "  #remove english stopwords\n",
        "  STOPWORDS=set(stopwords.words('english'))\n",
        "  df['stop_text']=df['punct_text'].apply(lambda x: ' '.join([w for w in x.split() if w not in STOPWORDS]))\n",
        "  #remove all numbers\n",
        "  df['text_cleaned']=df['stop_text'].apply(lambda x: ' '.join([w for w in x.split() if not w.isdigit()]))\n",
        "  #return\n",
        "  return df"
      ],
      "execution_count": 135,
      "outputs": []
    },
    {
      "cell_type": "code",
      "metadata": {
        "id": "S1ca_QYRB_IO"
      },
      "source": [
        "df_test=clean_text(df_c['combined_feature'][0:10000])"
      ],
      "execution_count": 153,
      "outputs": []
    },
    {
      "cell_type": "markdown",
      "metadata": {
        "id": "40mG_p6YacV8"
      },
      "source": [
        "INCOMPLETE FOLLOWING THIS LINE - function"
      ]
    },
    {
      "cell_type": "code",
      "metadata": {
        "id": "KpFLcqda5cHj"
      },
      "source": [
        "#check if there's empty string as a result of text cleaning\n",
        "#df[df['text_cleaned']==\"\"]"
      ],
      "execution_count": null,
      "outputs": []
    },
    {
      "cell_type": "code",
      "metadata": {
        "id": "a9W_lcKM5cHk"
      },
      "source": [
        "# check for word frequency\n",
        "word_list=' '.join(df_test['text_cleaned'])\n",
        "word_listing=str(word_list).split()"
      ],
      "execution_count": 155,
      "outputs": []
    },
    {
      "cell_type": "code",
      "metadata": {
        "id": "DGnDOANY5cHl"
      },
      "source": [
        "# remove the rare category (bottom 1%)\n",
        "lower_word_limit=df_test.shape[0]*0.01\n",
        "# upper_word_limit=df_p.shape[0]*0.5"
      ],
      "execution_count": 156,
      "outputs": []
    },
    {
      "cell_type": "code",
      "metadata": {
        "colab": {
          "base_uri": "https://localhost:8080/"
        },
        "id": "hbZdlRLZ5cHl",
        "outputId": "edd68bf8-6b04-4b81-c14e-15048e75d984"
      },
      "source": [
        "from collections import Counter\n",
        "c=Counter(word_listing)\n",
        "sorted_list=sorted(c.items(),key=lambda i:i[1],reverse=True)\n",
        "top20=sorted_list[0:20]\n",
        "top20\n",
        "#top10_word=[w for (w,wc) in top10]"
      ],
      "execution_count": 157,
      "outputs": [
        {
          "output_type": "execute_result",
          "data": {
            "text/plain": [
              "[('undetermined', 7521),\n",
              " ('fire', 5204),\n",
              " ('area', 4914),\n",
              " ('rubbish', 4097),\n",
              " ('unit', 4063),\n",
              " ('dwelling', 4003),\n",
              " ('formerly', 3384),\n",
              " ('vehicle', 3195),\n",
              " ('trash', 2351),\n",
              " ('grass', 2286),\n",
              " ('etc', 2276),\n",
              " ('eg', 2180),\n",
              " ('cooking', 2088),\n",
              " ('multi', 2044),\n",
              " ('garage', 2003),\n",
              " ('fir', 1989),\n",
              " ('electrical', 1977),\n",
              " ('detached', 1764),\n",
              " ('residential', 1688),\n",
              " ('kitchen', 1328)]"
            ]
          },
          "metadata": {},
          "execution_count": 157
        }
      ]
    },
    {
      "cell_type": "code",
      "metadata": {
        "id": "Esu4qdMJ5cHm"
      },
      "source": [
        "custom_stopwords=['fire','etc','eg','incidents','use','fir']"
      ],
      "execution_count": 159,
      "outputs": []
    },
    {
      "cell_type": "code",
      "metadata": {
        "id": "DUOasN2t5cHm"
      },
      "source": [
        "sorted_clean=list(filter(lambda c: c[1]>lower_word_limit and c[0] not in custom_stopwords, sorted_list))"
      ],
      "execution_count": 160,
      "outputs": []
    },
    {
      "cell_type": "code",
      "metadata": {
        "id": "rpF6Vhbn5cHm"
      },
      "source": [
        "fire_word_list=[w for (w,wc) in sorted_clean]"
      ],
      "execution_count": 161,
      "outputs": []
    },
    {
      "cell_type": "code",
      "metadata": {
        "id": "pfZ7jBs95cHn"
      },
      "source": [
        "#remove the frequent/rare words\n",
        "df_test['text_cleaned_final']=df_test['text_cleaned'].apply(lambda x: ' '.join([w for w in str(x).split() if w in fire_word_list]))"
      ],
      "execution_count": 162,
      "outputs": []
    },
    {
      "cell_type": "code",
      "metadata": {
        "colab": {
          "base_uri": "https://localhost:8080/",
          "height": 427
        },
        "id": "5RJWdl4B5cHn",
        "outputId": "2dd65df3-ea10-45b9-9382-2996dc5e6a78"
      },
      "source": [
        "df_test[['text_cleaned_final','text_cleaned']].head(10)"
      ],
      "execution_count": 163,
      "outputs": [
        {
          "output_type": "execute_result",
          "data": {
            "text/html": [
              "<div>\n",
              "<style scoped>\n",
              "    .dataframe tbody tr th:only-of-type {\n",
              "        vertical-align: middle;\n",
              "    }\n",
              "\n",
              "    .dataframe tbody tr th {\n",
              "        vertical-align: top;\n",
              "    }\n",
              "\n",
              "    .dataframe thead th {\n",
              "        text-align: right;\n",
              "    }\n",
              "</style>\n",
              "<table border=\"1\" class=\"dataframe\">\n",
              "  <thead>\n",
              "    <tr style=\"text-align: right;\">\n",
              "      <th></th>\n",
              "      <th>text_cleaned_final</th>\n",
              "      <th>text_cleaned</th>\n",
              "    </tr>\n",
              "  </thead>\n",
              "  <tbody>\n",
              "    <tr>\n",
              "      <th>0</th>\n",
              "      <td>sidewalk street roadway highway vehicle undetermined engine area vehicle</td>\n",
              "      <td>sidewalk street roadway highway use fire incidents vehicle fire undetermined engine area vehicle</td>\n",
              "    </tr>\n",
              "    <tr>\n",
              "      <th>1</th>\n",
              "      <td>sidewalk street roadway highway grass rubbish undetermined trash rubbish area outside</td>\n",
              "      <td>sidewalk street roadway highway use fire incidents fire grass rubbish undetermined trash rubbish area outside</td>\n",
              "    </tr>\n",
              "    <tr>\n",
              "      <th>2</th>\n",
              "      <td>outdoor general auto parking highrise residential undetermined undetermined formerly</td>\n",
              "      <td>outdoor general auto parking fire highrise residential undetermined undetermined formerly</td>\n",
              "    </tr>\n",
              "    <tr>\n",
              "      <th>3</th>\n",
              "      <td>store commercial industrial undetermined trash rubbish area outside undetermined formerly</td>\n",
              "      <td>department store fire commercial industrial undetermined trash rubbish area outside undetermined formerly</td>\n",
              "    </tr>\n",
              "    <tr>\n",
              "      <th>4</th>\n",
              "      <td>lawn structure residential undetermined undetermined formerly</td>\n",
              "      <td>lawn around structure fire residential undetermined undetermined formerly</td>\n",
              "    </tr>\n",
              "    <tr>\n",
              "      <th>5</th>\n",
              "      <td>vehicle vehicle part vehicle undetermined engine area vehicle</td>\n",
              "      <td>vehicle vehicle part vehicle fire undetermined engine area vehicle</td>\n",
              "    </tr>\n",
              "    <tr>\n",
              "      <th>6</th>\n",
              "      <td>detached dwelling residential light sleeping area bedroom patient room dormitory induration</td>\n",
              "      <td>detached dwelling fire residential incandescent lamp light bulb spotlight sleeping area bedroom patient room dormitory etc induration</td>\n",
              "    </tr>\n",
              "    <tr>\n",
              "      <th>7</th>\n",
              "      <td>multi unit dwelling unit alarm highrise residential distribution equipment includes circuit mechanical electrical service room electrical wiring induration</td>\n",
              "      <td>multi unit dwelling unit alarm highrise residential distribution equipment includes panel boards fuses circuit br mechanical electrical service room electrical wiring induration</td>\n",
              "    </tr>\n",
              "    <tr>\n",
              "      <th>8</th>\n",
              "      <td>facility alarm commercial industrial equipment office paper cardboard</td>\n",
              "      <td>court facility alarm commercial industrial heating equipment office paper cardboard</td>\n",
              "    </tr>\n",
              "    <tr>\n",
              "      <th>9</th>\n",
              "      <td>automobile vehicle undetermined undetermined formerly</td>\n",
              "      <td>automobile vehicle fire undetermined undetermined formerly</td>\n",
              "    </tr>\n",
              "  </tbody>\n",
              "</table>\n",
              "</div>"
            ],
            "text/plain": [
              "                                                                                                                                            text_cleaned_final  \\\n",
              "0  sidewalk street roadway highway vehicle undetermined engine area vehicle                                                                                      \n",
              "1  sidewalk street roadway highway grass rubbish undetermined trash rubbish area outside                                                                         \n",
              "2  outdoor general auto parking highrise residential undetermined undetermined formerly                                                                          \n",
              "3  store commercial industrial undetermined trash rubbish area outside undetermined formerly                                                                     \n",
              "4  lawn structure residential undetermined undetermined formerly                                                                                                 \n",
              "5  vehicle vehicle part vehicle undetermined engine area vehicle                                                                                                 \n",
              "6  detached dwelling residential light sleeping area bedroom patient room dormitory induration                                                                   \n",
              "7  multi unit dwelling unit alarm highrise residential distribution equipment includes circuit mechanical electrical service room electrical wiring induration   \n",
              "8  facility alarm commercial industrial equipment office paper cardboard                                                                                         \n",
              "9  automobile vehicle undetermined undetermined formerly                                                                                                         \n",
              "\n",
              "                                                                                                                                                                        text_cleaned  \n",
              "0  sidewalk street roadway highway use fire incidents vehicle fire undetermined engine area vehicle                                                                                   \n",
              "1  sidewalk street roadway highway use fire incidents fire grass rubbish undetermined trash rubbish area outside                                                                      \n",
              "2  outdoor general auto parking fire highrise residential undetermined undetermined formerly                                                                                          \n",
              "3  department store fire commercial industrial undetermined trash rubbish area outside undetermined formerly                                                                          \n",
              "4  lawn around structure fire residential undetermined undetermined formerly                                                                                                          \n",
              "5  vehicle vehicle part vehicle fire undetermined engine area vehicle                                                                                                                 \n",
              "6  detached dwelling fire residential incandescent lamp light bulb spotlight sleeping area bedroom patient room dormitory etc induration                                              \n",
              "7  multi unit dwelling unit alarm highrise residential distribution equipment includes panel boards fuses circuit br mechanical electrical service room electrical wiring induration  \n",
              "8  court facility alarm commercial industrial heating equipment office paper cardboard                                                                                                \n",
              "9  automobile vehicle fire undetermined undetermined formerly                                                                                                                         "
            ]
          },
          "metadata": {},
          "execution_count": 163
        }
      ]
    },
    {
      "cell_type": "code",
      "metadata": {
        "colab": {
          "base_uri": "https://localhost:8080/"
        },
        "id": "y868N55j5cHo",
        "outputId": "899987cb-5e2a-4a07-98ca-bdb9ade44d7f"
      },
      "source": [
        "#check if there's empty string as a result of text cleaning\n",
        "#df_p[df_p['text_cleaned_final']==\"\"].shape[0]"
      ],
      "execution_count": null,
      "outputs": [
        {
          "output_type": "execute_result",
          "data": {
            "text/plain": [
              "1303"
            ]
          },
          "metadata": {},
          "execution_count": 39
        }
      ]
    },
    {
      "cell_type": "code",
      "metadata": {
        "id": "wKMR3qL2SEek"
      },
      "source": [
        "df_test['LABEL']=df_c['LABEL'][0:10000]"
      ],
      "execution_count": 164,
      "outputs": []
    },
    {
      "cell_type": "code",
      "metadata": {
        "colab": {
          "base_uri": "https://localhost:8080/"
        },
        "id": "jKCuhEqc5cHo",
        "outputId": "6db80fa1-aa2a-4e3e-ba3d-4b8e5502a7aa"
      },
      "source": [
        "df_test['LABEL'].value_counts()"
      ],
      "execution_count": 165,
      "outputs": [
        {
          "output_type": "execute_result",
          "data": {
            "text/plain": [
              "0    9590\n",
              "1    410 \n",
              "Name: LABEL, dtype: int64"
            ]
          },
          "metadata": {},
          "execution_count": 165
        }
      ]
    },
    {
      "cell_type": "code",
      "metadata": {
        "id": "rfho-Jxu5cHp"
      },
      "source": [
        "# dominant category is no casulaty\n",
        "casualty=df_test[df_test['LABEL']==1]\n",
        "no_casualty=df_test[df_test['LABEL']==0]"
      ],
      "execution_count": 166,
      "outputs": []
    },
    {
      "cell_type": "code",
      "metadata": {
        "colab": {
          "base_uri": "https://localhost:8080/"
        },
        "id": "VIigUyOC5cHq",
        "outputId": "63753bf2-f67b-4246-efd4-d1c29560231c"
      },
      "source": [
        "# downsampling\n",
        "no_casualty = no_casualty.sample(casualty.shape[0], random_state=10)\n",
        "no_casualty.shape, casualty.shape"
      ],
      "execution_count": 167,
      "outputs": [
        {
          "output_type": "execute_result",
          "data": {
            "text/plain": [
              "((410, 11), (410, 11))"
            ]
          },
          "metadata": {},
          "execution_count": 167
        }
      ]
    },
    {
      "cell_type": "code",
      "metadata": {
        "colab": {
          "base_uri": "https://localhost:8080/"
        },
        "id": "zerlyMo45cHr",
        "outputId": "9e3ba321-1afd-408d-f595-36cba27117a0"
      },
      "source": [
        "data=no_casualty.append(casualty,ignore_index=True)\n",
        "data['LABEL'].value_counts()"
      ],
      "execution_count": 168,
      "outputs": [
        {
          "output_type": "execute_result",
          "data": {
            "text/plain": [
              "1    410\n",
              "0    410\n",
              "Name: LABEL, dtype: int64"
            ]
          },
          "metadata": {},
          "execution_count": 168
        }
      ]
    },
    {
      "cell_type": "code",
      "metadata": {
        "colab": {
          "base_uri": "https://localhost:8080/"
        },
        "id": "2DVY_95c5cHr",
        "outputId": "345c622e-49ca-42b7-e4a1-96662c8e18ea"
      },
      "source": [
        "X_train, X_test, y_train, y_test = train_test_split(data[\"text_cleaned_final\"], data[\"LABEL\"], test_size=0.2, random_state=10086, stratify=data[\"LABEL\"])\n",
        "print(X_train.shape)\n",
        "print(X_test.shape)"
      ],
      "execution_count": 169,
      "outputs": [
        {
          "output_type": "stream",
          "name": "stdout",
          "text": [
            "(656,)\n",
            "(164,)\n"
          ]
        }
      ]
    },
    {
      "cell_type": "code",
      "metadata": {
        "id": "-_wEv_gV5cHs"
      },
      "source": [
        "# an alternative count vetorizer then use PCA to reduce?"
      ],
      "execution_count": null,
      "outputs": []
    },
    {
      "cell_type": "code",
      "metadata": {
        "id": "terLpudN5cHs"
      },
      "source": [
        "from sklearn.pipeline import Pipeline\n",
        "from sklearn.preprocessing import StandardScaler\n",
        "from sklearn.linear_model import LogisticRegression\n",
        "from sklearn.metrics import accuracy_score, f1_score, roc_auc_score\n",
        "from sklearn.base import TransformerMixin\n",
        "class DenseTransformer(TransformerMixin):\n",
        "    def fit(self, X, y=None, **fit_params):\n",
        "        return self\n",
        "    def transform(self, X, y=None, **fit_params):\n",
        "        return X.todense()"
      ],
      "execution_count": 170,
      "outputs": []
    },
    {
      "cell_type": "markdown",
      "metadata": {
        "id": "owCd9by35cHt"
      },
      "source": [
        "1) bag-of-words: extract top words with highest coefficients"
      ]
    },
    {
      "cell_type": "code",
      "metadata": {
        "colab": {
          "base_uri": "https://localhost:8080/"
        },
        "id": "Klf09JiQ5cHt",
        "outputId": "798c279c-f3b6-4446-e59e-d080bba204c1"
      },
      "source": [
        "pipeline_bow = Pipeline([('vectorizer', CountVectorizer(max_features=1000)), ('dtf', DenseTransformer()),('scaler', StandardScaler()), ('LR', LogisticRegression(random_state=2020))])\n",
        "pipeline_bow.fit(X_train, y_train)"
      ],
      "execution_count": 171,
      "outputs": [
        {
          "output_type": "execute_result",
          "data": {
            "text/plain": [
              "Pipeline(steps=[('vectorizer', CountVectorizer(max_features=1000)),\n",
              "                ('dtf', <__main__.DenseTransformer object at 0x7fbc4cd60f90>),\n",
              "                ('scaler', StandardScaler()),\n",
              "                ('LR', LogisticRegression(random_state=2020))])"
            ]
          },
          "metadata": {},
          "execution_count": 171
        }
      ]
    },
    {
      "cell_type": "code",
      "metadata": {
        "colab": {
          "base_uri": "https://localhost:8080/"
        },
        "id": "tf9cS5A15cHt",
        "outputId": "b37baad5-c198-4ef5-f884-b7cb4426d209"
      },
      "source": [
        "#accuracy\n",
        "pipeline_bow.score(X_test,y_test)"
      ],
      "execution_count": 172,
      "outputs": [
        {
          "output_type": "execute_result",
          "data": {
            "text/plain": [
              "0.6585365853658537"
            ]
          },
          "metadata": {},
          "execution_count": 172
        }
      ]
    },
    {
      "cell_type": "code",
      "metadata": {
        "colab": {
          "base_uri": "https://localhost:8080/"
        },
        "id": "8Douuukg5cHu",
        "outputId": "ed032589-ffa6-4232-9136-397c2356a98b"
      },
      "source": [
        "## f1 score\n",
        "f1_score(y_test,pipeline_bow.predict(X_test))"
      ],
      "execution_count": 173,
      "outputs": [
        {
          "output_type": "execute_result",
          "data": {
            "text/plain": [
              "0.654320987654321"
            ]
          },
          "metadata": {},
          "execution_count": 173
        }
      ]
    },
    {
      "cell_type": "code",
      "metadata": {
        "colab": {
          "base_uri": "https://localhost:8080/"
        },
        "id": "CD2no0__5cHu",
        "outputId": "5a9abd85-0f43-4288-df02-e2c30c2ddc02"
      },
      "source": [
        "## roc auc score\n",
        "roc_auc_score(y_test, pipeline_bow.predict_proba(X_test)[:,1])"
      ],
      "execution_count": 174,
      "outputs": [
        {
          "output_type": "execute_result",
          "data": {
            "text/plain": [
              "0.7153480071386078"
            ]
          },
          "metadata": {},
          "execution_count": 174
        }
      ]
    },
    {
      "cell_type": "code",
      "metadata": {
        "id": "7rvcKQac5cHu"
      },
      "source": [
        "#coefficients (coef_) of your logisitic regression model, which features are most positively/negatively correlated with toxic comments?\n",
        "feature_names=pipeline_bow.named_steps['vectorizer'].get_feature_names()"
      ],
      "execution_count": 175,
      "outputs": []
    },
    {
      "cell_type": "code",
      "metadata": {
        "colab": {
          "base_uri": "https://localhost:8080/"
        },
        "id": "EW5jd8EM5cHv",
        "outputId": "e623b8df-e925-4e8a-95e9-52f6064502e9"
      },
      "source": [
        "len(feature_names)"
      ],
      "execution_count": 176,
      "outputs": [
        {
          "output_type": "execute_result",
          "data": {
            "text/plain": [
              "184"
            ]
          },
          "metadata": {},
          "execution_count": 176
        }
      ]
    },
    {
      "cell_type": "code",
      "metadata": {
        "id": "2GUgmyHM5cHv"
      },
      "source": [
        "feature_coeff=pipeline_bow.named_steps['LR'].coef_[0]\n",
        "feature_df=pd.DataFrame()\n",
        "feature_df['feature']=feature_names\n",
        "feature_df['coeff']=feature_coeff\n",
        "feature_df['abs']=np.abs(feature_coeff)\n",
        "feature_df.sort_values(by='abs',ascending=False, inplace=True)"
      ],
      "execution_count": 177,
      "outputs": []
    },
    {
      "cell_type": "code",
      "metadata": {
        "colab": {
          "base_uri": "https://localhost:8080/",
          "height": 1000
        },
        "id": "J8CbrvJy5cHv",
        "outputId": "f75688c1-791a-4f46-d72a-b9731f38577a"
      },
      "source": [
        "feature_df.head(50)"
      ],
      "execution_count": 178,
      "outputs": [
        {
          "output_type": "execute_result",
          "data": {
            "text/html": [
              "<div>\n",
              "<style scoped>\n",
              "    .dataframe tbody tr th:only-of-type {\n",
              "        vertical-align: middle;\n",
              "    }\n",
              "\n",
              "    .dataframe tbody tr th {\n",
              "        vertical-align: top;\n",
              "    }\n",
              "\n",
              "    .dataframe thead th {\n",
              "        text-align: right;\n",
              "    }\n",
              "</style>\n",
              "<table border=\"1\" class=\"dataframe\">\n",
              "  <thead>\n",
              "    <tr style=\"text-align: right;\">\n",
              "      <th></th>\n",
              "      <th>feature</th>\n",
              "      <th>coeff</th>\n",
              "      <th>abs</th>\n",
              "    </tr>\n",
              "  </thead>\n",
              "  <tbody>\n",
              "    <tr>\n",
              "      <th>151</th>\n",
              "      <td>soft</td>\n",
              "      <td>-1.408494</td>\n",
              "      <td>1.408494</td>\n",
              "    </tr>\n",
              "    <tr>\n",
              "      <th>172</th>\n",
              "      <td>undetermined</td>\n",
              "      <td>-0.981390</td>\n",
              "      <td>0.981390</td>\n",
              "    </tr>\n",
              "    <tr>\n",
              "      <th>8</th>\n",
              "      <td>attached</td>\n",
              "      <td>0.908297</td>\n",
              "      <td>0.908297</td>\n",
              "    </tr>\n",
              "    <tr>\n",
              "      <th>137</th>\n",
              "      <td>restaurant</td>\n",
              "      <td>0.877608</td>\n",
              "      <td>0.877608</td>\n",
              "    </tr>\n",
              "    <tr>\n",
              "      <th>87</th>\n",
              "      <td>lawn</td>\n",
              "      <td>-0.807004</td>\n",
              "      <td>0.807004</td>\n",
              "    </tr>\n",
              "    <tr>\n",
              "      <th>141</th>\n",
              "      <td>room</td>\n",
              "      <td>0.780192</td>\n",
              "      <td>0.780192</td>\n",
              "    </tr>\n",
              "    <tr>\n",
              "      <th>160</th>\n",
              "      <td>system</td>\n",
              "      <td>0.758446</td>\n",
              "      <td>0.758446</td>\n",
              "    </tr>\n",
              "    <tr>\n",
              "      <th>111</th>\n",
              "      <td>open</td>\n",
              "      <td>-0.756077</td>\n",
              "      <td>0.756077</td>\n",
              "    </tr>\n",
              "    <tr>\n",
              "      <th>49</th>\n",
              "      <td>dwyer</td>\n",
              "      <td>-0.750875</td>\n",
              "      <td>0.750875</td>\n",
              "    </tr>\n",
              "    <tr>\n",
              "      <th>42</th>\n",
              "      <td>cowhouse</td>\n",
              "      <td>-0.732141</td>\n",
              "      <td>0.732141</td>\n",
              "    </tr>\n",
              "    <tr>\n",
              "      <th>70</th>\n",
              "      <td>goods</td>\n",
              "      <td>0.721696</td>\n",
              "      <td>0.721696</td>\n",
              "    </tr>\n",
              "    <tr>\n",
              "      <th>157</th>\n",
              "      <td>structure</td>\n",
              "      <td>-0.701711</td>\n",
              "      <td>0.701711</td>\n",
              "    </tr>\n",
              "    <tr>\n",
              "      <th>128</th>\n",
              "      <td>pole</td>\n",
              "      <td>-0.672136</td>\n",
              "      <td>0.672136</td>\n",
              "    </tr>\n",
              "    <tr>\n",
              "      <th>10</th>\n",
              "      <td>automobile</td>\n",
              "      <td>-0.664600</td>\n",
              "      <td>0.664600</td>\n",
              "    </tr>\n",
              "    <tr>\n",
              "      <th>65</th>\n",
              "      <td>formerly</td>\n",
              "      <td>0.654875</td>\n",
              "      <td>0.654875</td>\n",
              "    </tr>\n",
              "    <tr>\n",
              "      <th>80</th>\n",
              "      <td>industrial</td>\n",
              "      <td>-0.654235</td>\n",
              "      <td>0.654235</td>\n",
              "    </tr>\n",
              "    <tr>\n",
              "      <th>107</th>\n",
              "      <td>object</td>\n",
              "      <td>-0.620197</td>\n",
              "      <td>0.620197</td>\n",
              "    </tr>\n",
              "    <tr>\n",
              "      <th>140</th>\n",
              "      <td>roof</td>\n",
              "      <td>-0.600848</td>\n",
              "      <td>0.600848</td>\n",
              "    </tr>\n",
              "    <tr>\n",
              "      <th>3</th>\n",
              "      <td>apparel</td>\n",
              "      <td>0.594372</td>\n",
              "      <td>0.594372</td>\n",
              "    </tr>\n",
              "    <tr>\n",
              "      <th>181</th>\n",
              "      <td>wearing</td>\n",
              "      <td>0.594372</td>\n",
              "      <td>0.594372</td>\n",
              "    </tr>\n",
              "    <tr>\n",
              "      <th>37</th>\n",
              "      <td>container</td>\n",
              "      <td>-0.581492</td>\n",
              "      <td>0.581492</td>\n",
              "    </tr>\n",
              "    <tr>\n",
              "      <th>101</th>\n",
              "      <td>mug</td>\n",
              "      <td>-0.560638</td>\n",
              "      <td>0.560638</td>\n",
              "    </tr>\n",
              "    <tr>\n",
              "      <th>81</th>\n",
              "      <td>industry</td>\n",
              "      <td>-0.560582</td>\n",
              "      <td>0.560582</td>\n",
              "    </tr>\n",
              "    <tr>\n",
              "      <th>112</th>\n",
              "      <td>outdoor</td>\n",
              "      <td>-0.560211</td>\n",
              "      <td>0.560211</td>\n",
              "    </tr>\n",
              "    <tr>\n",
              "      <th>71</th>\n",
              "      <td>grass</td>\n",
              "      <td>-0.555478</td>\n",
              "      <td>0.555478</td>\n",
              "    </tr>\n",
              "    <tr>\n",
              "      <th>35</th>\n",
              "      <td>clothes</td>\n",
              "      <td>0.550056</td>\n",
              "      <td>0.550056</td>\n",
              "    </tr>\n",
              "    <tr>\n",
              "      <th>118</th>\n",
              "      <td>part</td>\n",
              "      <td>-0.547804</td>\n",
              "      <td>0.547804</td>\n",
              "    </tr>\n",
              "    <tr>\n",
              "      <th>136</th>\n",
              "      <td>residential</td>\n",
              "      <td>0.538404</td>\n",
              "      <td>0.538404</td>\n",
              "    </tr>\n",
              "    <tr>\n",
              "      <th>26</th>\n",
              "      <td>cause</td>\n",
              "      <td>-0.534734</td>\n",
              "      <td>0.534734</td>\n",
              "    </tr>\n",
              "    <tr>\n",
              "      <th>27</th>\n",
              "      <td>ceiling</td>\n",
              "      <td>-0.510910</td>\n",
              "      <td>0.510910</td>\n",
              "    </tr>\n",
              "    <tr>\n",
              "      <th>44</th>\n",
              "      <td>distribution</td>\n",
              "      <td>-0.499111</td>\n",
              "      <td>0.499111</td>\n",
              "    </tr>\n",
              "    <tr>\n",
              "      <th>50</th>\n",
              "      <td>electrical</td>\n",
              "      <td>-0.496665</td>\n",
              "      <td>0.496665</td>\n",
              "    </tr>\n",
              "    <tr>\n",
              "      <th>57</th>\n",
              "      <td>far</td>\n",
              "      <td>0.493871</td>\n",
              "      <td>0.493871</td>\n",
              "    </tr>\n",
              "    <tr>\n",
              "      <th>68</th>\n",
              "      <td>garage</td>\n",
              "      <td>0.492924</td>\n",
              "      <td>0.492924</td>\n",
              "    </tr>\n",
              "    <tr>\n",
              "      <th>62</th>\n",
              "      <td>flame</td>\n",
              "      <td>0.488319</td>\n",
              "      <td>0.488319</td>\n",
              "    </tr>\n",
              "    <tr>\n",
              "      <th>103</th>\n",
              "      <td>multiple</td>\n",
              "      <td>0.477924</td>\n",
              "      <td>0.477924</td>\n",
              "    </tr>\n",
              "    <tr>\n",
              "      <th>92</th>\n",
              "      <td>linen</td>\n",
              "      <td>-0.473474</td>\n",
              "      <td>0.473474</td>\n",
              "    </tr>\n",
              "    <tr>\n",
              "      <th>79</th>\n",
              "      <td>induration</td>\n",
              "      <td>-0.471976</td>\n",
              "      <td>0.471976</td>\n",
              "    </tr>\n",
              "    <tr>\n",
              "      <th>182</th>\n",
              "      <td>wiring</td>\n",
              "      <td>0.465930</td>\n",
              "      <td>0.465930</td>\n",
              "    </tr>\n",
              "    <tr>\n",
              "      <th>9</th>\n",
              "      <td>auto</td>\n",
              "      <td>0.452334</td>\n",
              "      <td>0.452334</td>\n",
              "    </tr>\n",
              "    <tr>\n",
              "      <th>69</th>\n",
              "      <td>general</td>\n",
              "      <td>0.452334</td>\n",
              "      <td>0.452334</td>\n",
              "    </tr>\n",
              "    <tr>\n",
              "      <th>36</th>\n",
              "      <td>commercial</td>\n",
              "      <td>0.444125</td>\n",
              "      <td>0.444125</td>\n",
              "    </tr>\n",
              "    <tr>\n",
              "      <th>133</th>\n",
              "      <td>range</td>\n",
              "      <td>0.422712</td>\n",
              "      <td>0.422712</td>\n",
              "    </tr>\n",
              "    <tr>\n",
              "      <th>168</th>\n",
              "      <td>trash</td>\n",
              "      <td>0.412750</td>\n",
              "      <td>0.412750</td>\n",
              "    </tr>\n",
              "    <tr>\n",
              "      <th>154</th>\n",
              "      <td>store</td>\n",
              "      <td>-0.401658</td>\n",
              "      <td>0.401658</td>\n",
              "    </tr>\n",
              "    <tr>\n",
              "      <th>2</th>\n",
              "      <td>apartment</td>\n",
              "      <td>-0.380984</td>\n",
              "      <td>0.380984</td>\n",
              "    </tr>\n",
              "    <tr>\n",
              "      <th>56</th>\n",
              "      <td>facility</td>\n",
              "      <td>-0.377499</td>\n",
              "      <td>0.377499</td>\n",
              "    </tr>\n",
              "    <tr>\n",
              "      <th>146</th>\n",
              "      <td>sidewalk</td>\n",
              "      <td>-0.365302</td>\n",
              "      <td>0.365302</td>\n",
              "    </tr>\n",
              "    <tr>\n",
              "      <th>139</th>\n",
              "      <td>roadway</td>\n",
              "      <td>-0.365302</td>\n",
              "      <td>0.365302</td>\n",
              "    </tr>\n",
              "    <tr>\n",
              "      <th>156</th>\n",
              "      <td>street</td>\n",
              "      <td>-0.365302</td>\n",
              "      <td>0.365302</td>\n",
              "    </tr>\n",
              "  </tbody>\n",
              "</table>\n",
              "</div>"
            ],
            "text/plain": [
              "          feature     coeff       abs\n",
              "151  soft         -1.408494  1.408494\n",
              "172  undetermined -0.981390  0.981390\n",
              "8    attached      0.908297  0.908297\n",
              "137  restaurant    0.877608  0.877608\n",
              "87   lawn         -0.807004  0.807004\n",
              "141  room          0.780192  0.780192\n",
              "160  system        0.758446  0.758446\n",
              "111  open         -0.756077  0.756077\n",
              "49   dwyer        -0.750875  0.750875\n",
              "42   cowhouse     -0.732141  0.732141\n",
              "70   goods         0.721696  0.721696\n",
              "157  structure    -0.701711  0.701711\n",
              "128  pole         -0.672136  0.672136\n",
              "10   automobile   -0.664600  0.664600\n",
              "65   formerly      0.654875  0.654875\n",
              "80   industrial   -0.654235  0.654235\n",
              "107  object       -0.620197  0.620197\n",
              "140  roof         -0.600848  0.600848\n",
              "3    apparel       0.594372  0.594372\n",
              "181  wearing       0.594372  0.594372\n",
              "37   container    -0.581492  0.581492\n",
              "101  mug          -0.560638  0.560638\n",
              "81   industry     -0.560582  0.560582\n",
              "112  outdoor      -0.560211  0.560211\n",
              "71   grass        -0.555478  0.555478\n",
              "35   clothes       0.550056  0.550056\n",
              "118  part         -0.547804  0.547804\n",
              "136  residential   0.538404  0.538404\n",
              "26   cause        -0.534734  0.534734\n",
              "27   ceiling      -0.510910  0.510910\n",
              "44   distribution -0.499111  0.499111\n",
              "50   electrical   -0.496665  0.496665\n",
              "57   far           0.493871  0.493871\n",
              "68   garage        0.492924  0.492924\n",
              "62   flame         0.488319  0.488319\n",
              "103  multiple      0.477924  0.477924\n",
              "92   linen        -0.473474  0.473474\n",
              "79   induration   -0.471976  0.471976\n",
              "182  wiring        0.465930  0.465930\n",
              "9    auto          0.452334  0.452334\n",
              "69   general       0.452334  0.452334\n",
              "36   commercial    0.444125  0.444125\n",
              "133  range         0.422712  0.422712\n",
              "168  trash         0.412750  0.412750\n",
              "154  store        -0.401658  0.401658\n",
              "2    apartment    -0.380984  0.380984\n",
              "56   facility     -0.377499  0.377499\n",
              "146  sidewalk     -0.365302  0.365302\n",
              "139  roadway      -0.365302  0.365302\n",
              "156  street       -0.365302  0.365302"
            ]
          },
          "metadata": {},
          "execution_count": 178
        }
      ]
    },
    {
      "cell_type": "code",
      "metadata": {
        "id": "rFueLwNr5cHw"
      },
      "source": [
        "bow_feature=feature_df['feature'][0:50].to_list()"
      ],
      "execution_count": 180,
      "outputs": []
    },
    {
      "cell_type": "markdown",
      "metadata": {
        "id": "Y6vs-zYEbl_4"
      },
      "source": [
        "INCOMPLETE FOLLOWING THIS LINE"
      ]
    },
    {
      "cell_type": "code",
      "metadata": {
        "id": "BUXivq-R5cHw"
      },
      "source": [
        "bow_feature_names=[str(x)+'_encoded' for x in bow_feature]"
      ],
      "execution_count": 181,
      "outputs": []
    },
    {
      "cell_type": "code",
      "metadata": {
        "id": "XYnWO-Bz5cHw"
      },
      "source": [
        "#create features using bow for property_use\n",
        "['combined_feature']=['text_cleaned_final'].apply(lambda x: ' '.join([w for w in str(x).split() if w in bow_feature]))"
      ],
      "execution_count": 182,
      "outputs": []
    },
    {
      "cell_type": "code",
      "metadata": {
        "id": "bAC6FuAH5cHx"
      },
      "source": [
        "pipeline_feature_vector = Pipeline([('vectorizer', CountVectorizer(max_features=1000)), ('dtf', DenseTransformer())])\n",
        "feature_from_Property_use=pipeline_feature_vector.fit_transform(df_p['property_use'], df_p['LABEL']) #stored as a matrix"
      ],
      "execution_count": null,
      "outputs": []
    },
    {
      "cell_type": "markdown",
      "metadata": {
        "id": "tEhSraq95cHx"
      },
      "source": [
        "2) word2vec "
      ]
    },
    {
      "cell_type": "markdown",
      "metadata": {
        "id": "zniR5difuc28"
      },
      "source": [
        "##Smoke Alarm"
      ]
    },
    {
      "cell_type": "code",
      "metadata": {
        "id": "DrDzSacoulAg"
      },
      "source": [
        "missing_smoke=df[df['Smoke_Alarm_at_Fire_Origin'].isnull()]"
      ],
      "execution_count": null,
      "outputs": []
    },
    {
      "cell_type": "code",
      "metadata": {
        "colab": {
          "base_uri": "https://localhost:8080/"
        },
        "id": "dMwfzt4ci4fa",
        "outputId": "5f86a609-df7c-4d33-9efe-80c669201c2a"
      },
      "source": [
        "missing_smoke.shape"
      ],
      "execution_count": null,
      "outputs": [
        {
          "output_type": "execute_result",
          "data": {
            "text/plain": [
              "(6322, 59)"
            ]
          },
          "metadata": {},
          "execution_count": 26
        }
      ]
    },
    {
      "cell_type": "code",
      "metadata": {
        "colab": {
          "base_uri": "https://localhost:8080/"
        },
        "id": "P3reRlRln5tf",
        "outputId": "79cf58c7-af74-4bcb-f501-8eaaebca0be2"
      },
      "source": [
        "#missing\n",
        "missing_smoke.select_dtypes(include='object').isnull().sum().sort_values()"
      ],
      "execution_count": null,
      "outputs": [
        {
          "output_type": "execute_result",
          "data": {
            "text/plain": [
              "Material_First_Ignited                                           0   \n",
              "Property_Use                                                     0   \n",
              "Possible_Cause                                                   0   \n",
              "Level_Of_Origin                                                  0   \n",
              "Initial_CAD_Event_Type                                           0   \n",
              "Incident_Numberinc_                                              0   \n",
              "Ignition_Source                                                  0   \n",
              "FSA                                                              0   \n",
              "Final_Incident_Type                                              0   \n",
              "Area_of_Origin                                                   1913\n",
              "Status_of_Fire_On_Arrival                                        1914\n",
              "Method_Of_Fire_Control                                           1914\n",
              "Building_Status                                                  6320\n",
              "Sprinkler_System_Presence                                        6322\n",
              "Sprinkler_System_Operation                                       6322\n",
              "Smoke_Spread                                                     6322\n",
              "Smoke_Alarm_Impact_on_Persons_Evacuating_Impact_on_Evacuation    6322\n",
              "Smoke_Alarm_at_Fire_Origin_Alarm_Type                            6322\n",
              "Fire_Alarm_System_Operation                                      6322\n",
              "Fire_Alarm_System_Presence                                       6322\n",
              "Business_Impact                                                  6322\n",
              "Extent_Of_Fire                                                   6322\n",
              "Fire_Alarm_System_Impact_on_Evacuation                           6322\n",
              "Smoke_Alarm_at_Fire_Origin_Alarm_Failure                         6322\n",
              "Smoke_Alarm_at_Fire_Origin                                       6322\n",
              "dtype: int64"
            ]
          },
          "metadata": {},
          "execution_count": 30
        }
      ]
    },
    {
      "cell_type": "code",
      "metadata": {
        "colab": {
          "base_uri": "https://localhost:8080/"
        },
        "id": "9C2KNDOl1lIP",
        "outputId": "9798c393-5de2-4272-93bc-8a013f22ef3f"
      },
      "source": [
        "# these are the variables that are missing together -> consider imputing them using the same strategy?\n",
        "missing_smoke.select_dtypes(include='object').isnull().sum().nlargest(n=13).index"
      ],
      "execution_count": null,
      "outputs": [
        {
          "output_type": "execute_result",
          "data": {
            "text/plain": [
              "Index(['Business_Impact', 'Extent_Of_Fire',\n",
              "       'Fire_Alarm_System_Impact_on_Evacuation', 'Fire_Alarm_System_Operation',\n",
              "       'Fire_Alarm_System_Presence', 'Smoke_Alarm_at_Fire_Origin',\n",
              "       'Smoke_Alarm_at_Fire_Origin_Alarm_Failure',\n",
              "       'Smoke_Alarm_at_Fire_Origin_Alarm_Type',\n",
              "       'Smoke_Alarm_Impact_on_Persons_Evacuating_Impact_on_Evacuation',\n",
              "       'Smoke_Spread', 'Sprinkler_System_Operation',\n",
              "       'Sprinkler_System_Presence', 'Building_Status'],\n",
              "      dtype='object')"
            ]
          },
          "metadata": {},
          "execution_count": 37
        }
      ]
    },
    {
      "cell_type": "code",
      "metadata": {
        "colab": {
          "base_uri": "https://localhost:8080/"
        },
        "id": "8BWK5en14j7N",
        "outputId": "f096097e-cdea-43d8-cb45-561906644172"
      },
      "source": [
        "missing_smoke['Property_Use'].value_counts(normalize=True,dropna=False).nlargest(n=20)"
      ],
      "execution_count": null,
      "outputs": [
        {
          "output_type": "execute_result",
          "data": {
            "text/plain": [
              "901 - Automobile                                                                 0.228251\n",
              "896 - Sidewalk, street, roadway, highway, hwy (do not use for fire incidents)    0.149003\n",
              "848 - Trash/Rubbish/Garbage Container or Dumpster                                0.117210\n",
              "861 - Open Land (eg. light ground cover, bush, grass, etc.)                      0.074976\n",
              "902 - Small Truck (eg. pick-up, van, etc.)                                       0.057735\n",
              "898 - Other property non structure not classified                                0.030528\n",
              "891 - Outdoor general auto parking                                               0.028472\n",
              "301 - Detached Dwelling                                                          0.026574\n",
              "903 - Large Truck (Excluding Truck Trailer)                                      0.026099\n",
              "323 - Multi-Unit Dwelling - Over 12 Units                                        0.023727\n",
              "837 - Vehicles or Vehicle Parts                                                  0.022303\n",
              "846 - Hydro/Telephone Pole                                                       0.020247\n",
              "999 - Other Vehicle                                                              0.015027\n",
              "862 - Forest, Standing Timber                                                    0.010440\n",
              "842 - Fence                                                                      0.009965\n",
              "906 - Bus, Trackless Trolley                                                     0.009965\n",
              "904 - Trailer Combin. (e.g. auto trailer, small t&t, t&t, etc)                   0.009174\n",
              "843 - Shed, Children's Playhouse                                                 0.008542\n",
              "863 - Tree, Hedge                                                                0.007434\n",
              "860 - Lawn around structure                                                      0.007276\n",
              "Name: Property_Use, dtype: float64"
            ]
          },
          "metadata": {},
          "execution_count": 43
        }
      ]
    },
    {
      "cell_type": "code",
      "metadata": {
        "colab": {
          "base_uri": "https://localhost:8080/"
        },
        "id": "BOby5Yvn4K3G",
        "outputId": "967e9665-c60d-46de-c35b-b1e416818b18"
      },
      "source": [
        "missing_smoke['Material_First_Ignited'].value_counts(normalize=True,dropna=False)"
      ],
      "execution_count": null,
      "outputs": [
        {
          "output_type": "execute_result",
          "data": {
            "text/plain": [
              "99 - Undetermined (formerly 98)                                 0.499684\n",
              "47 - Vehicle                                                    0.161025\n",
              "46 - Rubbish, Trash, Waste                                      0.087156\n",
              "43 - Electrical Wiring Insulation                               0.055995\n",
              "97 - Other                                                      0.033059\n",
              "51 - Bush, Grass, Tree, Leaves, etc.                            0.021987\n",
              "55 - Wood                                                       0.020247\n",
              "16 - Insulation                                                 0.015501\n",
              "71 - Gasoline                                                   0.015343\n",
              "54 - Plastic                                                    0.012338\n",
              "96 - Multiple diverse objects ignited                           0.009491\n",
              "56 - Paper, Cardboard                                           0.008858\n",
              "41 - Books, Magazines, Newspapers                               0.005853\n",
              "48 - Multiple Objects or Materials                              0.005062\n",
              "81 - Rubber, not classified above                               0.004745\n",
              "21 - Upholstered Sofa, Chair, etc.                              0.004745\n",
              "72 - Diesel Fuel/Fuel Oil                                       0.003954\n",
              "79 - Other Flammable, Combustible Liquid                        0.003164\n",
              "58 - Fabric - Synthetic, Combination                            0.002847\n",
              "19 - Other Building Component                                   0.002689\n",
              "31 - Mattress, Pillow                                           0.002531\n",
              "59 - Asphalt, Tar Product                                       0.002373\n",
              "14 - Interior Wall/Ceiling                                      0.002214\n",
              "39 - Other Soft Goods, Wearing Apparel                          0.002056\n",
              "61 - Propane                                                    0.001898\n",
              "87 - Other chemicals, materials not classified above            0.001740\n",
              "12 - Exterior Cladding                                          0.001265\n",
              "74 - Cooking Oil, Grease                                        0.001107\n",
              "33 - Linen Other than Bedding                                   0.000949\n",
              "36 - Rug, Carpet                                                0.000949\n",
              "45 - Nest                                                       0.000949\n",
              "52 - Agricultural Product - Grown (eg. straw, seeds, etc.)      0.000791\n",
              "11 - Exterior Roof Covering                                     0.000791\n",
              "13 - Floor                                                      0.000791\n",
              "29 - Other Furniture                                            0.000791\n",
              "34 - Wearing Apparel on a Person                                0.000791\n",
              "57 - Fabric - Natural (eg. cotton, wool, etc.)                  0.000633\n",
              "83 - Oily rags (inc. paint rags, etc)                           0.000633\n",
              "62 - Natural Gas                                                0.000475\n",
              "15 - Structural Member                                          0.000475\n",
              "23 - Cabinetry                                                  0.000316\n",
              "22 - Non-upholstered Chair, etc.                                0.000316\n",
              "990 - Under Investigation                                       0.000316\n",
              "32 - Bedding                                                    0.000316\n",
              "53 - Agricultural Product - Other (eg pesticide, fertilizer)    0.000158\n",
              "69 - Other Gases                                                0.000158\n",
              "44 - Creosote (chimney, flue pipe)                              0.000158\n",
              "75 - Paint, varnish stored in container                         0.000158\n",
              "40 - Christmas Tree                                             0.000158\n",
              "Name: Material_First_Ignited, dtype: float64"
            ]
          },
          "metadata": {},
          "execution_count": 44
        }
      ]
    },
    {
      "cell_type": "code",
      "metadata": {
        "colab": {
          "base_uri": "https://localhost:8080/"
        },
        "id": "o-da8Hri4hLf",
        "outputId": "1241009c-da8b-48b7-8d10-aeee5907c85d"
      },
      "source": [
        "missing_smoke['Possible_Cause'].value_counts(normalize=True,dropna=False)"
      ],
      "execution_count": null,
      "outputs": [
        {
          "output_type": "execute_result",
          "data": {
            "text/plain": [
              "99 - Undetermined                                                         0.525625\n",
              "52 - Electrical Failure                                                   0.153274\n",
              "51 - Mechanical Failure                                                   0.062480\n",
              "45 - Improperly Discarded                                                 0.056944\n",
              "98 - Unintentional, cause undetermined                                    0.055837\n",
              "12 - Vehicle Accident/Collision                                           0.030370\n",
              "60 - Other unintentional cause, not classified                            0.029737\n",
              "20 - Design/Construction/Installation/Maintenance Deficiency              0.027681\n",
              "01 - Suspected Arson                                                      0.012496\n",
              "47 - Improper handling of ignition source or ignited material             0.011705\n",
              "28 - Routine maintenance deficiency, eg creosote, lint, grease buildup    0.006011\n",
              "50 - Other misuse of ignition source/material ignited                     0.005853\n",
              "44 - Unattended                                                           0.004113\n",
              "46 - Used or Placed too close to combustibles                             0.003164\n",
              "03 - Suspected Vandalism                                                  0.003005\n",
              "73 - Natural Cause                                                        0.002847\n",
              "11 - Children Playing (Ages 11 and under)                                 0.002689\n",
              "49 - Improper Storage                                                     0.002373\n",
              "04 - Suspected Youth Vandalism (Ages 12 to 17)                            0.001107\n",
              "48 - Used for purpose not intended                                        0.000949\n",
              "80 - Exposure fire                                                        0.000791\n",
              "72 - Rekindle                                                             0.000633\n",
              "990 - Under Investigation                                                 0.000316\n",
              "Name: Possible_Cause, dtype: float64"
            ]
          },
          "metadata": {},
          "execution_count": 45
        }
      ]
    },
    {
      "cell_type": "markdown",
      "metadata": {
        "id": "X1IgUjPw41DU"
      },
      "source": [
        "## BOW feature function (to do)_\n"
      ]
    },
    {
      "cell_type": "markdown",
      "metadata": {
        "id": "3Ar8qkve41DX"
      },
      "source": [
        "Step 1: clean text"
      ]
    },
    {
      "cell_type": "code",
      "metadata": {
        "id": "D2UOtj9J41DX"
      },
      "source": [
        "import re,os\n",
        "import string\n",
        "from nltk import word_tokenize\n",
        "from nltk.corpus import stopwords\n",
        "from nltk.stem import WordNetLemmatizer\n",
        "from sklearn.feature_extraction.text import TfidfVectorizer, CountVectorizer\n",
        "from sklearn.model_selection import train_test_split\n",
        "from sklearn.metrics import accuracy_score,roc_curve,classification_report,confusion_matrix,precision_recall_curve,auc,roc_auc_score,f1_score\n",
        "from pylab import *\n",
        "import nltk\n",
        "import warnings\n",
        "warnings.filterwarnings('ignore')\n",
        "nltk.download('stopwords')\n",
        "nltk.download('punkt')\n",
        "nltk.download('wordnet')\n",
        "\n",
        "!pip install unidecode\n",
        "import unidecode\n",
        "\n",
        "!pip install contractions\n",
        "import contractions\n",
        "\n",
        "!pip install swifter\n",
        "import swifter #https://github.com/jmcarpenter2/swifter"
      ],
      "execution_count": null,
      "outputs": []
    },
    {
      "cell_type": "code",
      "metadata": {
        "id": "IO66bAI55LhI"
      },
      "source": [
        "def generate_bow_features(c)"
      ],
      "execution_count": null,
      "outputs": []
    },
    {
      "cell_type": "code",
      "metadata": {
        "id": "947gU3vC41DZ"
      },
      "source": [
        "df_p=df[['Incident_Numberinc_',c,'LABEL']]"
      ],
      "execution_count": null,
      "outputs": []
    },
    {
      "cell_type": "code",
      "metadata": {
        "id": "ujNDy7yG41Da"
      },
      "source": [
        "# clean up the text\n",
        "\n",
        "def clean_text(text):\n",
        "  # replace all non-printable characters (such as \"\\n\") with space, and replace multiple spaces with single space\n",
        "  df_p['ss_text']=text.apply(lambda x: ' '.join(c for c in x.split()))\n",
        "  #expand contraction\n",
        "  df_p['contract_text']=df_p['ss_text'].apply(lambda x: ' '.join([contractions.fix(w) for w in x.split()]))\n",
        "  #lower case\n",
        "  df_p['lower_text']=df_p['contract_text'].apply(lambda x: ' '.join([w.lower() for w in x.split()]))\n",
        "  #spelling correction\n",
        "  df_p['spl_text'] = df_p['lower_text'].apply(lambda x: str(TextBlob(x).correct()))\n",
        "  #lemmatization\n",
        "  lmtzr=WordNetLemmatizer()\n",
        "  df_p['lemm_text']=df_p['spl_text'].apply(lambda x: ' '.join([lmtzr.lemmatize(w) for w in x.split()]))\n",
        "  #remove punctuation\n",
        "  df_p['punct_text']=df_p['lemm_text'].str.replace('[^\\w\\s]',' ')\n",
        "  #remove english stopwords\n",
        "  STOPWORDS=set(stopwords.words('english'))\n",
        "  df_p['stop_text']=df_p['punct_text'].apply(lambda x: ' '.join([w for w in x.split() if w not in STOPWORDS]))\n",
        "  #remove all numbers\n",
        "  df_p['text_cleaned']=df_p['stop_text'].apply(lambda x: ' '.join([w for w in x.split() if not w.isdigit()]))\n",
        "  #return\n",
        "  return df_p[\"text_cleaned\"]"
      ],
      "execution_count": null,
      "outputs": []
    },
    {
      "cell_type": "code",
      "metadata": {
        "id": "lxGEX8dD41Db"
      },
      "source": [
        "clean_text(df_p['Property_Use'])"
      ],
      "execution_count": null,
      "outputs": []
    },
    {
      "cell_type": "code",
      "metadata": {
        "colab": {
          "base_uri": "https://localhost:8080/",
          "height": 80
        },
        "id": "9kv5QA6841Dc",
        "outputId": "2e6a77c0-cdab-49b0-ae6c-acc53781f235"
      },
      "source": [
        "#check if there's empty string as a result of text cleaning\n",
        "df_p[df_p['text_cleaned']==\"\"]"
      ],
      "execution_count": null,
      "outputs": [
        {
          "output_type": "execute_result",
          "data": {
            "text/html": [
              "<div>\n",
              "<style scoped>\n",
              "    .dataframe tbody tr th:only-of-type {\n",
              "        vertical-align: middle;\n",
              "    }\n",
              "\n",
              "    .dataframe tbody tr th {\n",
              "        vertical-align: top;\n",
              "    }\n",
              "\n",
              "    .dataframe thead th {\n",
              "        text-align: right;\n",
              "    }\n",
              "</style>\n",
              "<table border=\"1\" class=\"dataframe\">\n",
              "  <thead>\n",
              "    <tr style=\"text-align: right;\">\n",
              "      <th></th>\n",
              "      <th>Incident_Numberinc_</th>\n",
              "      <th>Property_Use</th>\n",
              "      <th>LABEL</th>\n",
              "      <th>ss_text</th>\n",
              "      <th>contract_text</th>\n",
              "      <th>lower_text</th>\n",
              "      <th>spl_text</th>\n",
              "      <th>lemm_text</th>\n",
              "      <th>punct_text</th>\n",
              "      <th>stop_text</th>\n",
              "      <th>text_cleaned</th>\n",
              "    </tr>\n",
              "  </thead>\n",
              "  <tbody>\n",
              "    <tr>\n",
              "      <th>17276</th>\n",
              "      <td>F13029095</td>\n",
              "      <td>Other</td>\n",
              "      <td>0</td>\n",
              "      <td>Other</td>\n",
              "      <td>Other</td>\n",
              "      <td>other</td>\n",
              "      <td>other</td>\n",
              "      <td>other</td>\n",
              "      <td>other</td>\n",
              "      <td></td>\n",
              "      <td></td>\n",
              "    </tr>\n",
              "  </tbody>\n",
              "</table>\n",
              "</div>"
            ],
            "text/plain": [
              "      Incident_Numberinc_ Property_Use  LABEL ss_text contract_text  \\\n",
              "17276  F13029095           Other        0      Other   Other          \n",
              "\n",
              "      lower_text spl_text lemm_text punct_text stop_text text_cleaned  \n",
              "17276  other      other    other     other                             "
            ]
          },
          "metadata": {},
          "execution_count": 21
        }
      ]
    },
    {
      "cell_type": "code",
      "metadata": {
        "id": "ARI7apW341Dd"
      },
      "source": [
        "# check for word frequency\n",
        "word_list=' '.join(df_p['text_cleaned'])\n",
        "word_listing=str(word_list).split()"
      ],
      "execution_count": null,
      "outputs": []
    },
    {
      "cell_type": "code",
      "metadata": {
        "id": "UC04CoR741De"
      },
      "source": [
        "# remove the rare category (bottom 1%)\n",
        "lower_word_limit=df_p.shape[0]*0.01\n",
        "# upper_word_limit=df_p.shape[0]*0.5"
      ],
      "execution_count": null,
      "outputs": []
    },
    {
      "cell_type": "code",
      "metadata": {
        "colab": {
          "base_uri": "https://localhost:8080/"
        },
        "id": "bMIaAD0741De",
        "outputId": "cb22452d-c7ec-45d6-bacd-984355dacf37"
      },
      "source": [
        "from collections import Counter\n",
        "c=Counter(word_listing)\n",
        "sorted_list=sorted(c.items(),key=lambda i:i[1],reverse=True)\n",
        "top20=sorted_list[0:20]\n",
        "top20\n",
        "#top10_word=[w for (w,wc) in top10]"
      ],
      "execution_count": null,
      "outputs": [
        {
          "output_type": "execute_result",
          "data": {
            "text/plain": [
              "[('unit', 8618),\n",
              " ('dwelling', 8279),\n",
              " ('multi', 4373),\n",
              " ('detached', 3484),\n",
              " ('etc', 1612),\n",
              " ('eg', 1579),\n",
              " ('automobile', 1444),\n",
              " ('cowhouse', 1210),\n",
              " ('garage', 1051),\n",
              " ('fire', 946),\n",
              " ('sidewalk', 942),\n",
              " ('street', 942),\n",
              " ('roadway', 942),\n",
              " ('highway', 942),\n",
              " ('use', 942),\n",
              " ('incidents', 942),\n",
              " ('semi', 842),\n",
              " ('trash', 742),\n",
              " ('rubbish', 742),\n",
              " ('container', 742)]"
            ]
          },
          "metadata": {},
          "execution_count": 33
        }
      ]
    },
    {
      "cell_type": "code",
      "metadata": {
        "id": "vshKufHG41Df"
      },
      "source": [
        "custom_stopwords=['fire','etc','eg','incidents','use']"
      ],
      "execution_count": null,
      "outputs": []
    },
    {
      "cell_type": "code",
      "metadata": {
        "id": "thqRbhc641Df"
      },
      "source": [
        "sorted_clean=list(filter(lambda c: c[1]>lower_word_limit and c[0] not in custom_stopwords, sorted_list))"
      ],
      "execution_count": null,
      "outputs": []
    },
    {
      "cell_type": "code",
      "metadata": {
        "id": "yvtxve5X41Df"
      },
      "source": [
        "fire_word_list=[w for (w,wc) in sorted_clean]"
      ],
      "execution_count": null,
      "outputs": []
    },
    {
      "cell_type": "code",
      "metadata": {
        "id": "nIx1FLi341Dg"
      },
      "source": [
        "#remove the frequent/rare words\n",
        "df_p['text_cleaned_final']=df_p['text_cleaned'].apply(lambda x: ' '.join([w for w in str(x).split() if w in fire_word_list]))"
      ],
      "execution_count": null,
      "outputs": []
    },
    {
      "cell_type": "code",
      "metadata": {
        "colab": {
          "base_uri": "https://localhost:8080/",
          "height": 359
        },
        "id": "VUZZC6os41Dg",
        "outputId": "0ee8336c-d990-4ebb-9760-16c9389c1c01"
      },
      "source": [
        "df_p[['text_cleaned_final','text_cleaned']].head(10)"
      ],
      "execution_count": null,
      "outputs": [
        {
          "output_type": "execute_result",
          "data": {
            "text/html": [
              "<div>\n",
              "<style scoped>\n",
              "    .dataframe tbody tr th:only-of-type {\n",
              "        vertical-align: middle;\n",
              "    }\n",
              "\n",
              "    .dataframe tbody tr th {\n",
              "        vertical-align: top;\n",
              "    }\n",
              "\n",
              "    .dataframe thead th {\n",
              "        text-align: right;\n",
              "    }\n",
              "</style>\n",
              "<table border=\"1\" class=\"dataframe\">\n",
              "  <thead>\n",
              "    <tr style=\"text-align: right;\">\n",
              "      <th></th>\n",
              "      <th>text_cleaned_final</th>\n",
              "      <th>text_cleaned</th>\n",
              "    </tr>\n",
              "  </thead>\n",
              "  <tbody>\n",
              "    <tr>\n",
              "      <th>0</th>\n",
              "      <td>sidewalk street roadway highway</td>\n",
              "      <td>sidewalk street roadway highway use fire incidents</td>\n",
              "    </tr>\n",
              "    <tr>\n",
              "      <th>1</th>\n",
              "      <td>sidewalk street roadway highway</td>\n",
              "      <td>sidewalk street roadway highway use fire incidents</td>\n",
              "    </tr>\n",
              "    <tr>\n",
              "      <th>2</th>\n",
              "      <td>outdoor general auto parking</td>\n",
              "      <td>outdoor general auto parking</td>\n",
              "    </tr>\n",
              "    <tr>\n",
              "      <th>3</th>\n",
              "      <td>store</td>\n",
              "      <td>department store</td>\n",
              "    </tr>\n",
              "    <tr>\n",
              "      <th>4</th>\n",
              "      <td>structure</td>\n",
              "      <td>lawn around structure</td>\n",
              "    </tr>\n",
              "    <tr>\n",
              "      <th>5</th>\n",
              "      <td>vehicle vehicle part</td>\n",
              "      <td>vehicle vehicle part</td>\n",
              "    </tr>\n",
              "    <tr>\n",
              "      <th>6</th>\n",
              "      <td>detached dwelling</td>\n",
              "      <td>detached dwelling</td>\n",
              "    </tr>\n",
              "    <tr>\n",
              "      <th>7</th>\n",
              "      <td>multi unit dwelling unit</td>\n",
              "      <td>multi unit dwelling unit</td>\n",
              "    </tr>\n",
              "    <tr>\n",
              "      <th>8</th>\n",
              "      <td>facility</td>\n",
              "      <td>court facility</td>\n",
              "    </tr>\n",
              "    <tr>\n",
              "      <th>9</th>\n",
              "      <td>automobile</td>\n",
              "      <td>automobile</td>\n",
              "    </tr>\n",
              "  </tbody>\n",
              "</table>\n",
              "</div>"
            ],
            "text/plain": [
              "                text_cleaned_final  \\\n",
              "0  sidewalk street roadway highway   \n",
              "1  sidewalk street roadway highway   \n",
              "2  outdoor general auto parking      \n",
              "3  store                             \n",
              "4  structure                         \n",
              "5  vehicle vehicle part              \n",
              "6  detached dwelling                 \n",
              "7  multi unit dwelling unit          \n",
              "8  facility                          \n",
              "9  automobile                        \n",
              "\n",
              "                                         text_cleaned  \n",
              "0  sidewalk street roadway highway use fire incidents  \n",
              "1  sidewalk street roadway highway use fire incidents  \n",
              "2  outdoor general auto parking                        \n",
              "3  department store                                    \n",
              "4  lawn around structure                               \n",
              "5  vehicle vehicle part                                \n",
              "6  detached dwelling                                   \n",
              "7  multi unit dwelling unit                            \n",
              "8  court facility                                      \n",
              "9  automobile                                          "
            ]
          },
          "metadata": {},
          "execution_count": 38
        }
      ]
    },
    {
      "cell_type": "code",
      "metadata": {
        "colab": {
          "base_uri": "https://localhost:8080/"
        },
        "id": "m5g2vJSr41Dg",
        "outputId": "899987cb-5e2a-4a07-98ca-bdb9ade44d7f"
      },
      "source": [
        "#check if there's empty string as a result of text cleaning\n",
        "df_p[df_p['text_cleaned_final']==\"\"].shape[0]"
      ],
      "execution_count": null,
      "outputs": [
        {
          "output_type": "execute_result",
          "data": {
            "text/plain": [
              "1303"
            ]
          },
          "metadata": {},
          "execution_count": 39
        }
      ]
    },
    {
      "cell_type": "code",
      "metadata": {
        "colab": {
          "base_uri": "https://localhost:8080/"
        },
        "id": "lH4TU_UI41Dg",
        "outputId": "e8da7b20-8af0-442a-b506-f960ed0688ea"
      },
      "source": [
        "df_p['LABEL'].value_counts()"
      ],
      "execution_count": null,
      "outputs": [
        {
          "output_type": "execute_result",
          "data": {
            "text/plain": [
              "0    16543\n",
              "1    993  \n",
              "Name: LABEL, dtype: int64"
            ]
          },
          "metadata": {},
          "execution_count": 42
        }
      ]
    },
    {
      "cell_type": "code",
      "metadata": {
        "id": "npHa0o2l41Dh"
      },
      "source": [
        "# dominant category is no casulaty\n",
        "casualty=df_p[df_p['LABEL']==1]\n",
        "no_casualty=df_p[df_p['LABEL']==0]"
      ],
      "execution_count": null,
      "outputs": []
    },
    {
      "cell_type": "code",
      "metadata": {
        "colab": {
          "base_uri": "https://localhost:8080/"
        },
        "id": "5YCQJRI741Dh",
        "outputId": "efa3bdc0-f509-4885-8acb-2a5f8707be1f"
      },
      "source": [
        "# downsampling\n",
        "no_casualty = no_casualty.sample(casualty.shape[0], random_state=10)\n",
        "no_casualty.shape, casualty.shape"
      ],
      "execution_count": null,
      "outputs": [
        {
          "output_type": "execute_result",
          "data": {
            "text/plain": [
              "((993, 12), (993, 12))"
            ]
          },
          "metadata": {},
          "execution_count": 46
        }
      ]
    },
    {
      "cell_type": "code",
      "metadata": {
        "colab": {
          "base_uri": "https://localhost:8080/"
        },
        "id": "bsR9-R6l41Dh",
        "outputId": "73586c93-934c-4d51-c2aa-109219673b93"
      },
      "source": [
        "data=no_casualty.append(casualty,ignore_index=True)\n",
        "data['LABEL'].value_counts()"
      ],
      "execution_count": null,
      "outputs": [
        {
          "output_type": "execute_result",
          "data": {
            "text/plain": [
              "1    993\n",
              "0    993\n",
              "Name: LABEL, dtype: int64"
            ]
          },
          "metadata": {},
          "execution_count": 47
        }
      ]
    },
    {
      "cell_type": "code",
      "metadata": {
        "colab": {
          "base_uri": "https://localhost:8080/"
        },
        "id": "PopZ2qSh41Di",
        "outputId": "75c029d6-767a-40c3-a8be-62a79a9e94dc"
      },
      "source": [
        "X_train, X_test, y_train, y_test = train_test_split(data[\"text_cleaned_final\"], data[\"LABEL\"], test_size=0.2, random_state=10086, stratify=data[\"LABEL\"])\n",
        "print(X_train.shape)\n",
        "print(X_test.shape)"
      ],
      "execution_count": null,
      "outputs": [
        {
          "output_type": "stream",
          "name": "stdout",
          "text": [
            "(1588,)\n",
            "(398,)\n"
          ]
        }
      ]
    },
    {
      "cell_type": "code",
      "metadata": {
        "id": "PRY4kAFp41Di"
      },
      "source": [
        "# an alternative count vetorizer then use PCA to reduce?"
      ],
      "execution_count": null,
      "outputs": []
    },
    {
      "cell_type": "code",
      "metadata": {
        "id": "bZ5MFq5l41Di"
      },
      "source": [
        "from sklearn.pipeline import Pipeline\n",
        "from sklearn.preprocessing import StandardScaler\n",
        "from sklearn.linear_model import LogisticRegression\n",
        "from sklearn.metrics import accuracy_score, f1_score, roc_auc_score\n",
        "from sklearn.base import TransformerMixin\n",
        "class DenseTransformer(TransformerMixin):\n",
        "    def fit(self, X, y=None, **fit_params):\n",
        "        return self\n",
        "    def transform(self, X, y=None, **fit_params):\n",
        "        return X.todense()"
      ],
      "execution_count": null,
      "outputs": []
    },
    {
      "cell_type": "markdown",
      "metadata": {
        "id": "hKpDpHfY41Dj"
      },
      "source": [
        "1) bag-of-words: extract top words with highest coefficients"
      ]
    },
    {
      "cell_type": "code",
      "metadata": {
        "colab": {
          "base_uri": "https://localhost:8080/"
        },
        "id": "1haRQGpi41Dj",
        "outputId": "9562b39b-a0f7-4bb1-86eb-9609d135024c"
      },
      "source": [
        "pipeline_bow = Pipeline([('vectorizer', CountVectorizer(max_features=1000)), ('dtf', DenseTransformer()),('scaler', StandardScaler()), ('LR', LogisticRegression(random_state=2020))])\n",
        "pipeline_bow.fit(X_train, y_train)"
      ],
      "execution_count": null,
      "outputs": [
        {
          "output_type": "execute_result",
          "data": {
            "text/plain": [
              "Pipeline(steps=[('vectorizer', CountVectorizer(max_features=1000)),\n",
              "                ('dtf', <__main__.DenseTransformer object at 0x7fbc4e7fd190>),\n",
              "                ('scaler', StandardScaler()),\n",
              "                ('LR', LogisticRegression(random_state=2020))])"
            ]
          },
          "metadata": {},
          "execution_count": 58
        }
      ]
    },
    {
      "cell_type": "code",
      "metadata": {
        "colab": {
          "base_uri": "https://localhost:8080/"
        },
        "id": "Y0Eg0DAr41Dj",
        "outputId": "9dbb0950-6d1f-45d7-e287-1064d04696ea"
      },
      "source": [
        "#accuracy\n",
        "pipeline_bow.score(X_test,y_test)"
      ],
      "execution_count": null,
      "outputs": [
        {
          "output_type": "execute_result",
          "data": {
            "text/plain": [
              "0.6984924623115578"
            ]
          },
          "metadata": {},
          "execution_count": 59
        }
      ]
    },
    {
      "cell_type": "code",
      "metadata": {
        "colab": {
          "base_uri": "https://localhost:8080/"
        },
        "id": "w2ZfDGfz41Dk",
        "outputId": "078d0fa7-072b-4d63-b7e4-41878dbaf95b"
      },
      "source": [
        "## f1 score\n",
        "f1_score(y_test,pipeline_bow.predict(X_test))"
      ],
      "execution_count": null,
      "outputs": [
        {
          "output_type": "execute_result",
          "data": {
            "text/plain": [
              "0.7379912663755459"
            ]
          },
          "metadata": {},
          "execution_count": 60
        }
      ]
    },
    {
      "cell_type": "code",
      "metadata": {
        "colab": {
          "base_uri": "https://localhost:8080/"
        },
        "id": "2gLjYA9a41Dk",
        "outputId": "5086dfa1-b924-4125-c7e8-ed851ff68ac1"
      },
      "source": [
        "## roc auc score\n",
        "roc_auc_score(y_test, pipeline_bow.predict_proba(X_test)[:,1])"
      ],
      "execution_count": null,
      "outputs": [
        {
          "output_type": "execute_result",
          "data": {
            "text/plain": [
              "0.7090856291507791"
            ]
          },
          "metadata": {},
          "execution_count": 61
        }
      ]
    },
    {
      "cell_type": "code",
      "metadata": {
        "id": "_2qsQKX741Dk"
      },
      "source": [
        "#coefficients (coef_) of your logisitic regression model, which features are most positively/negatively correlated with toxic comments?\n",
        "feature_names=pipeline_bow.named_steps['vectorizer'].get_feature_names()"
      ],
      "execution_count": null,
      "outputs": []
    },
    {
      "cell_type": "code",
      "metadata": {
        "colab": {
          "base_uri": "https://localhost:8080/"
        },
        "id": "nF1dpoYM41Dk",
        "outputId": "6b37ed72-e33f-4702-b5b8-f89166a9d8fc"
      },
      "source": [
        "len(feature_names)"
      ],
      "execution_count": null,
      "outputs": [
        {
          "output_type": "execute_result",
          "data": {
            "text/plain": [
              "56"
            ]
          },
          "metadata": {},
          "execution_count": 63
        }
      ]
    },
    {
      "cell_type": "code",
      "metadata": {
        "id": "RbRZnrHs41Dl"
      },
      "source": [
        "feature_coeff=pipeline_bow.named_steps['LR'].coef_[0]\n",
        "feature_df=pd.DataFrame()\n",
        "feature_df['feature']=feature_names\n",
        "feature_df['coeff']=feature_coeff\n",
        "feature_df['abs']=np.abs(feature_coeff)\n",
        "feature_df.sort_values(by='abs',ascending=False, inplace=True)"
      ],
      "execution_count": null,
      "outputs": []
    },
    {
      "cell_type": "code",
      "metadata": {
        "colab": {
          "base_uri": "https://localhost:8080/",
          "height": 669
        },
        "id": "RMEwnobD41Dl",
        "outputId": "3dd0ee7e-04f0-4f5c-db96-cf3e81dec60e"
      },
      "source": [
        "feature_df.head(20)"
      ],
      "execution_count": null,
      "outputs": [
        {
          "output_type": "execute_result",
          "data": {
            "text/html": [
              "<div>\n",
              "<style scoped>\n",
              "    .dataframe tbody tr th:only-of-type {\n",
              "        vertical-align: middle;\n",
              "    }\n",
              "\n",
              "    .dataframe tbody tr th {\n",
              "        vertical-align: top;\n",
              "    }\n",
              "\n",
              "    .dataframe thead th {\n",
              "        text-align: right;\n",
              "    }\n",
              "</style>\n",
              "<table border=\"1\" class=\"dataframe\">\n",
              "  <thead>\n",
              "    <tr style=\"text-align: right;\">\n",
              "      <th></th>\n",
              "      <th>feature</th>\n",
              "      <th>coeff</th>\n",
              "      <th>abs</th>\n",
              "    </tr>\n",
              "  </thead>\n",
              "  <tbody>\n",
              "    <tr>\n",
              "      <th>12</th>\n",
              "      <td>dwelling</td>\n",
              "      <td>1.068439</td>\n",
              "      <td>1.068439</td>\n",
              "    </tr>\n",
              "    <tr>\n",
              "      <th>0</th>\n",
              "      <td>apartment</td>\n",
              "      <td>0.624753</td>\n",
              "      <td>0.624753</td>\n",
              "    </tr>\n",
              "    <tr>\n",
              "      <th>45</th>\n",
              "      <td>station</td>\n",
              "      <td>-0.469040</td>\n",
              "      <td>0.469040</td>\n",
              "    </tr>\n",
              "    <tr>\n",
              "      <th>18</th>\n",
              "      <td>greater</td>\n",
              "      <td>-0.408319</td>\n",
              "      <td>0.408319</td>\n",
              "    </tr>\n",
              "    <tr>\n",
              "      <th>10</th>\n",
              "      <td>detached</td>\n",
              "      <td>-0.404654</td>\n",
              "      <td>0.404654</td>\n",
              "    </tr>\n",
              "    <tr>\n",
              "      <th>22</th>\n",
              "      <td>licensed</td>\n",
              "      <td>0.398159</td>\n",
              "      <td>0.398159</td>\n",
              "    </tr>\n",
              "    <tr>\n",
              "      <th>3</th>\n",
              "      <td>automobile</td>\n",
              "      <td>-0.384122</td>\n",
              "      <td>0.384122</td>\n",
              "    </tr>\n",
              "    <tr>\n",
              "      <th>48</th>\n",
              "      <td>structure</td>\n",
              "      <td>-0.377567</td>\n",
              "      <td>0.377567</td>\n",
              "    </tr>\n",
              "    <tr>\n",
              "      <th>27</th>\n",
              "      <td>multi</td>\n",
              "      <td>-0.373668</td>\n",
              "      <td>0.373668</td>\n",
              "    </tr>\n",
              "    <tr>\n",
              "      <th>31</th>\n",
              "      <td>outdoor</td>\n",
              "      <td>-0.232551</td>\n",
              "      <td>0.232551</td>\n",
              "    </tr>\n",
              "    <tr>\n",
              "      <th>7</th>\n",
              "      <td>container</td>\n",
              "      <td>-0.222968</td>\n",
              "      <td>0.222968</td>\n",
              "    </tr>\n",
              "    <tr>\n",
              "      <th>51</th>\n",
              "      <td>trash</td>\n",
              "      <td>-0.222968</td>\n",
              "      <td>0.222968</td>\n",
              "    </tr>\n",
              "    <tr>\n",
              "      <th>39</th>\n",
              "      <td>rubbish</td>\n",
              "      <td>-0.222968</td>\n",
              "      <td>0.222968</td>\n",
              "    </tr>\n",
              "    <tr>\n",
              "      <th>11</th>\n",
              "      <td>dumpster</td>\n",
              "      <td>-0.222968</td>\n",
              "      <td>0.222968</td>\n",
              "    </tr>\n",
              "    <tr>\n",
              "      <th>32</th>\n",
              "      <td>parking</td>\n",
              "      <td>0.210735</td>\n",
              "      <td>0.210735</td>\n",
              "    </tr>\n",
              "    <tr>\n",
              "      <th>25</th>\n",
              "      <td>lodging</td>\n",
              "      <td>0.209416</td>\n",
              "      <td>0.209416</td>\n",
              "    </tr>\n",
              "    <tr>\n",
              "      <th>15</th>\n",
              "      <td>garage</td>\n",
              "      <td>0.178442</td>\n",
              "      <td>0.178442</td>\n",
              "    </tr>\n",
              "    <tr>\n",
              "      <th>49</th>\n",
              "      <td>tenement</td>\n",
              "      <td>-0.160646</td>\n",
              "      <td>0.160646</td>\n",
              "    </tr>\n",
              "    <tr>\n",
              "      <th>14</th>\n",
              "      <td>flat</td>\n",
              "      <td>-0.160646</td>\n",
              "      <td>0.160646</td>\n",
              "    </tr>\n",
              "    <tr>\n",
              "      <th>53</th>\n",
              "      <td>unit</td>\n",
              "      <td>0.147462</td>\n",
              "      <td>0.147462</td>\n",
              "    </tr>\n",
              "  </tbody>\n",
              "</table>\n",
              "</div>"
            ],
            "text/plain": [
              "       feature     coeff       abs\n",
              "12  dwelling    1.068439  1.068439\n",
              "0   apartment   0.624753  0.624753\n",
              "45  station    -0.469040  0.469040\n",
              "18  greater    -0.408319  0.408319\n",
              "10  detached   -0.404654  0.404654\n",
              "22  licensed    0.398159  0.398159\n",
              "3   automobile -0.384122  0.384122\n",
              "48  structure  -0.377567  0.377567\n",
              "27  multi      -0.373668  0.373668\n",
              "31  outdoor    -0.232551  0.232551\n",
              "7   container  -0.222968  0.222968\n",
              "51  trash      -0.222968  0.222968\n",
              "39  rubbish    -0.222968  0.222968\n",
              "11  dumpster   -0.222968  0.222968\n",
              "32  parking     0.210735  0.210735\n",
              "25  lodging     0.209416  0.209416\n",
              "15  garage      0.178442  0.178442\n",
              "49  tenement   -0.160646  0.160646\n",
              "14  flat       -0.160646  0.160646\n",
              "53  unit        0.147462  0.147462"
            ]
          },
          "metadata": {},
          "execution_count": 65
        }
      ]
    },
    {
      "cell_type": "code",
      "metadata": {
        "id": "L-WfD6WC41Dm"
      },
      "source": [
        "bow_feature=feature_df['feature'][0:20].to_list()"
      ],
      "execution_count": null,
      "outputs": []
    },
    {
      "cell_type": "code",
      "metadata": {
        "id": "n9UkbXBG41Dm"
      },
      "source": [
        "bow_feature_names=[str(x)+'_encoded' for x in bow_feature]"
      ],
      "execution_count": null,
      "outputs": []
    },
    {
      "cell_type": "code",
      "metadata": {
        "id": "jxO-IkB641Dm"
      },
      "source": [
        "#create features using bow for property_use\n",
        "df_p['property_use']=df_p['text_cleaned_final'].apply(lambda x: ' '.join([w for w in str(x).split() if w in bow_feature]))"
      ],
      "execution_count": null,
      "outputs": []
    },
    {
      "cell_type": "code",
      "metadata": {
        "id": "n2g2mjxZ41Dm"
      },
      "source": [
        "pipeline_feature_vector = Pipeline([('vectorizer', CountVectorizer(max_features=1000)), ('dtf', DenseTransformer())])\n",
        "feature_from_Property_use=pipeline_feature_vector.fit_transform(df_p['property_use'], df_p['LABEL']) #stored as a matrix"
      ],
      "execution_count": null,
      "outputs": []
    },
    {
      "cell_type": "code",
      "metadata": {
        "colab": {
          "base_uri": "https://localhost:8080/"
        },
        "id": "fbWnKU3441Dn",
        "outputId": "ece500d6-dbbe-4576-f5cb-0009bcf3417a"
      },
      "source": [
        "#number of features\n",
        "dataframe.shape\n",
        "#get names of features\n"
      ],
      "execution_count": null,
      "outputs": [
        {
          "output_type": "execute_result",
          "data": {
            "text/plain": [
              "(17536, 20)"
            ]
          },
          "metadata": {},
          "execution_count": 81
        }
      ]
    },
    {
      "cell_type": "markdown",
      "metadata": {
        "id": "8U7-GWIL41Do"
      },
      "source": [
        "2) word2vec "
      ]
    }
  ]
}