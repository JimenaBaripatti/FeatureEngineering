{
  "nbformat": 4,
  "nbformat_minor": 0,
  "metadata": {
    "colab": {
      "name": "Fire - FSA and demographic .ipynb",
      "provenance": [],
      "collapsed_sections": [
        "fyxm5befxhjm",
        "6qxA1QECEedH",
        "VK-dYikmwsAs",
        "6RWw21JWY_uG",
        "vEID4b53CCE8"
      ],
      "authorship_tag": "ABX9TyNRd6HxH2ru01h7On3oEclO",
      "include_colab_link": true
    },
    "kernelspec": {
      "name": "python3",
      "display_name": "Python 3"
    },
    "language_info": {
      "name": "python"
    }
  },
  "cells": [
    {
      "cell_type": "markdown",
      "metadata": {
        "id": "view-in-github",
        "colab_type": "text"
      },
      "source": [
        "<a href=\"https://colab.research.google.com/github/JimenaBaripatti/FeatureEngineering/blob/main/Fire_FSA_and_demographic_.ipynb\" target=\"_parent\"><img src=\"https://colab.research.google.com/assets/colab-badge.svg\" alt=\"Open In Colab\"/></a>"
      ]
    },
    {
      "cell_type": "code",
      "metadata": {
        "colab": {
          "base_uri": "https://localhost:8080/"
        },
        "id": "cizTrfNHRyyu",
        "outputId": "4afb8899-b0cf-4bda-f8ca-29842bc94b5f"
      },
      "source": [
        "from google.colab import drive\n",
        "drive.mount('/content/drive')"
      ],
      "execution_count": 1,
      "outputs": [
        {
          "output_type": "stream",
          "name": "stdout",
          "text": [
            "Mounted at /content/drive\n"
          ]
        }
      ]
    },
    {
      "cell_type": "markdown",
      "metadata": {
        "id": "smeUFIWBeBzO"
      },
      "source": [
        "# Fire data"
      ]
    },
    {
      "cell_type": "code",
      "metadata": {
        "colab": {
          "base_uri": "https://localhost:8080/"
        },
        "id": "heGB8lJx9NWF",
        "outputId": "ec792f00-b201-486b-d2fa-a84058ca4cdb"
      },
      "source": [
        "# setting up libraries\n",
        "import os\n",
        "import pandas as pd\n",
        "import numpy as np\n",
        "import matplotlib.pyplot as plt\n",
        "import seaborn as sns\n",
        "from scipy.stats import norm \n",
        "import statistics\n",
        "from sklearn.metrics import matthews_corrcoef\n",
        "from scipy.stats import chi2_contingency\n",
        "import math\n",
        "from patsy import dmatrices\n",
        "from statsmodels.stats.outliers_influence import variance_inflation_factor\n",
        "from sklearn.ensemble import IsolationForest\n",
        "from scipy.stats import zscore\n",
        "\n",
        "pd.set_option('display.max_rows', None)\n",
        "pd.set_option('display.max_columns', None)\n",
        "pd.set_option('display.width', None)\n",
        "pd.set_option('display.max_colwidth', -1)\n",
        "\n",
        "%matplotlib inline\n",
        "\n",
        "\n",
        "# Setting working directory\n",
        "os.chdir(\"/content/drive/MyDrive/Colab Notebooks/Data/\")"
      ],
      "execution_count": 3,
      "outputs": [
        {
          "output_type": "stream",
          "name": "stderr",
          "text": [
            "/usr/local/lib/python3.7/dist-packages/statsmodels/tools/_testing.py:19: FutureWarning: pandas.util.testing is deprecated. Use the functions in the public API at pandas.testing instead.\n",
            "  import pandas.util.testing as tm\n",
            "/usr/local/lib/python3.7/dist-packages/ipykernel_launcher.py:20: FutureWarning: Passing a negative integer is deprecated in version 1.0 and will not be supported in future version. Instead, use None to not limit the column width.\n"
          ]
        }
      ]
    },
    {
      "cell_type": "code",
      "metadata": {
        "id": "AiDE5MBRea84"
      },
      "source": [
        "#load data sets\n",
        "#df=pd.read_csv('Fire Incidents Data.csv')\n",
        "#df_fsa=pd.read_csv('fire_FSA.csv')\n",
        "#df_station=pd.read_csv('fire-station-locations.csv')\n",
        "\n",
        "#load data sets from github\n",
        "df=pd.read_csv('https://raw.githubusercontent.com/JimenaBaripatti/FeatureEngineering/main/data/Fire_Incidents_Data.csv')\n",
        "df_fsa=pd.read_csv('https://raw.githubusercontent.com/JimenaBaripatti/FeatureEngineering/main/data/fire_FSA.csv')\n",
        "df_station=pd.read_csv('https://raw.githubusercontent.com/JimenaBaripatti/FeatureEngineering/main/data/fire-station-locations.csv')"
      ],
      "execution_count": 4,
      "outputs": []
    },
    {
      "cell_type": "code",
      "metadata": {
        "colab": {
          "base_uri": "https://localhost:8080/"
        },
        "id": "V2-jdlUxpIs-",
        "outputId": "197cad4e-fb42-42ae-9636-71a3f57f8f09"
      },
      "source": [
        "df.shape"
      ],
      "execution_count": 5,
      "outputs": [
        {
          "output_type": "execute_result",
          "data": {
            "text/plain": [
              "(17536, 43)"
            ]
          },
          "metadata": {},
          "execution_count": 5
        }
      ]
    },
    {
      "cell_type": "code",
      "metadata": {
        "colab": {
          "base_uri": "https://localhost:8080/"
        },
        "id": "oXovskAd9P54",
        "outputId": "9a9662b2-9fd1-4475-fb3c-af22d8971d45"
      },
      "source": [
        "df_fsa.shape"
      ],
      "execution_count": 6,
      "outputs": [
        {
          "output_type": "execute_result",
          "data": {
            "text/plain": [
              "(17536, 45)"
            ]
          },
          "metadata": {},
          "execution_count": 6
        }
      ]
    },
    {
      "cell_type": "markdown",
      "metadata": {
        "id": "WhCVVQpFxM_g"
      },
      "source": [
        "##Add new feature: FSA based on Latitude and Longitude"
      ]
    },
    {
      "cell_type": "code",
      "metadata": {
        "id": "ryqkPj2_Yole"
      },
      "source": [
        "#Extract postal code from latitude and longitude information \n",
        "#Reverse Geocoding\n",
        "\n",
        "from geopy.geocoders import Nominatim #from open street maps and its free\n",
        "from geopy.geocoders import GoogleV3\n",
        "from geopy.geocoders import Bing\n",
        "\n",
        "# create the locator\n",
        "geolocator = Nominatim(user_agent=\"jsqzhu@gmail.com\") # user_agent=\"specify_your_app_name_here\" \n",
        "# you may need to use your own email if the next step gives you HTTP Error 403\n"
      ],
      "execution_count": 22,
      "outputs": []
    },
    {
      "cell_type": "markdown",
      "metadata": {
        "id": "Bv2kuU8JOeoJ"
      },
      "source": [
        "## fire station number and FSA"
      ]
    },
    {
      "cell_type": "code",
      "metadata": {
        "colab": {
          "base_uri": "https://localhost:8080/"
        },
        "id": "NanKE8emPLaW",
        "outputId": "3b32b4e5-a3ef-4204-dedd-a9515764e2e8"
      },
      "source": [
        "df_station.columns"
      ],
      "execution_count": 5,
      "outputs": [
        {
          "output_type": "execute_result",
          "data": {
            "text/plain": [
              "Index(['_id', 'ID', 'NAME', 'ADDRESS', 'ADDRESS_POINT_ID', 'ADDRESS_ID',\n",
              "       'CENTRELINE_ID', 'MAINT_STAGE', 'ADDRESS_NUMBER', 'LINEAR_NAME_FULL',\n",
              "       'POSTAL_CODE', 'GENERAL_USE', 'CLASS_FAMILY_DESC', 'ADDRESS_ID_LINK',\n",
              "       'PLACE_NAME', 'X', 'Y', 'LATITUDE', 'LONGITUDE', 'WARD_NAME',\n",
              "       'MUNICIPALITY_NAME', 'OBJECTID', 'geometry'],\n",
              "      dtype='object')"
            ]
          },
          "metadata": {},
          "execution_count": 5
        }
      ]
    },
    {
      "cell_type": "code",
      "metadata": {
        "colab": {
          "base_uri": "https://localhost:8080/",
          "height": 35
        },
        "id": "sT5ymhUQO0Mu",
        "outputId": "cf33f88f-f0f3-4b92-9c30-24e9f0c3b877"
      },
      "source": [
        "df_station['NAME'][0][-3:]"
      ],
      "execution_count": 83,
      "outputs": [
        {
          "output_type": "execute_result",
          "data": {
            "application/vnd.google.colaboratory.intrinsic+json": {
              "type": "string"
            },
            "text/plain": [
              "'211'"
            ]
          },
          "metadata": {},
          "execution_count": 83
        }
      ]
    },
    {
      "cell_type": "code",
      "metadata": {
        "id": "irPHJhR4Pbz6"
      },
      "source": [
        "df_station['Incident_Station_Area']=df_station['NAME'].apply(lambda x: x[-3:])"
      ],
      "execution_count": 7,
      "outputs": []
    },
    {
      "cell_type": "code",
      "metadata": {
        "colab": {
          "base_uri": "https://localhost:8080/"
        },
        "id": "aXf25WXpQcB1",
        "outputId": "05599ca2-17f1-4e9d-939f-0045482e15ee"
      },
      "source": [
        "df_station['Incident_Station_Area'].unique()"
      ],
      "execution_count": 8,
      "outputs": [
        {
          "output_type": "execute_result",
          "data": {
            "text/plain": [
              "array(['211', '342', '343', '332', '214', '426', '422', '232', '121',\n",
              "       '412', '134', '314', '331', '115', '132', '433', '441', '341',\n",
              "       '434', '311', '323', '234', '435', '424', '221', '224', '244',\n",
              "       '226', '123', '131', '223', '231', '312', '243', '444', '215',\n",
              "       '423', '212', '227', '222', '322', '213', '321', '445', '413',\n",
              "       '116', '432', '225', '431', '415', '113', '133', '425', '233',\n",
              "       '421', '125', '142', '344', '315', '326', '325', '443', '146',\n",
              "       '122', '143', '245', '333', '241', '145', '235', '442', '411',\n",
              "       '112', '111', '114', '242', '346', '334', '324', '141', '313',\n",
              "       '335', '345', '135'], dtype=object)"
            ]
          },
          "metadata": {},
          "execution_count": 8
        }
      ]
    },
    {
      "cell_type": "code",
      "metadata": {
        "id": "YqV-Eb4DZGlv"
      },
      "source": [
        "df_station['Longitude'] = df_station['geometry'].str.extract('([-]?[0-9]*[.]{0,1}[0-9]{10})')\n",
        "df_station['Latitude'] = df_station['geometry'].str[53:-2]"
      ],
      "execution_count": 19,
      "outputs": []
    },
    {
      "cell_type": "code",
      "metadata": {
        "id": "LCiisvCfZCyq"
      },
      "source": [
        "## getting the postal code and extract FSA from firestation location"
      ],
      "execution_count": null,
      "outputs": []
    },
    {
      "cell_type": "code",
      "metadata": {
        "colab": {
          "base_uri": "https://localhost:8080/",
          "height": 202
        },
        "id": "JvIIaxm6WvZL",
        "outputId": "2005785c-4186-4024-a1fd-41c4386bb433"
      },
      "source": [
        "# getting the postal code and extract FSA from \n",
        "#df['location'] = df.apply(lambda x: geolocator.reverse(str(x['Latitude'])+\", \"+str(x['Longitude'])).address.split(\",\")[-2], axis=1)\n",
        "#df['FSA']=df['location'].apply(lambda x: x[0:4])\n",
        "df[df_fsa['FSA'].isnull()]"
      ],
      "execution_count": 26,
      "outputs": [
        {
          "output_type": "execute_result",
          "data": {
            "text/html": [
              "<div>\n",
              "<style scoped>\n",
              "    .dataframe tbody tr th:only-of-type {\n",
              "        vertical-align: middle;\n",
              "    }\n",
              "\n",
              "    .dataframe tbody tr th {\n",
              "        vertical-align: top;\n",
              "    }\n",
              "\n",
              "    .dataframe thead th {\n",
              "        text-align: right;\n",
              "    }\n",
              "</style>\n",
              "<table border=\"1\" class=\"dataframe\">\n",
              "  <thead>\n",
              "    <tr style=\"text-align: right;\">\n",
              "      <th></th>\n",
              "      <th>_id</th>\n",
              "      <th>Area_of_Origin</th>\n",
              "      <th>Building_Status</th>\n",
              "      <th>Business_Impact</th>\n",
              "      <th>Civilian_Casualties</th>\n",
              "      <th>Count_of_Persons_Rescued</th>\n",
              "      <th>Estimated_Dollar_Loss</th>\n",
              "      <th>Estimated_Number_Of_Persons_Displaced</th>\n",
              "      <th>Exposures</th>\n",
              "      <th>Ext_agent_app_or_defer_time</th>\n",
              "      <th>Extent_Of_Fire</th>\n",
              "      <th>Final_Incident_Type</th>\n",
              "      <th>Fire_Alarm_System_Impact_on_Evacuation</th>\n",
              "      <th>Fire_Alarm_System_Operation</th>\n",
              "      <th>Fire_Alarm_System_Presence</th>\n",
              "      <th>Fire_Under_Control_Time</th>\n",
              "      <th>Ignition_Source</th>\n",
              "      <th>Incident_Number</th>\n",
              "      <th>Incident_Station_Area</th>\n",
              "      <th>Incident_Ward</th>\n",
              "      <th>Initial_CAD_Event_Type</th>\n",
              "      <th>Intersection</th>\n",
              "      <th>Last_TFS_Unit_Clear_Time</th>\n",
              "      <th>Latitude</th>\n",
              "      <th>Level_Of_Origin</th>\n",
              "      <th>Longitude</th>\n",
              "      <th>Material_First_Ignited</th>\n",
              "      <th>Method_Of_Fire_Control</th>\n",
              "      <th>Number_of_responding_apparatus</th>\n",
              "      <th>Number_of_responding_personnel</th>\n",
              "      <th>Possible_Cause</th>\n",
              "      <th>Property_Use</th>\n",
              "      <th>Smoke_Alarm_at_Fire_Origin</th>\n",
              "      <th>Smoke_Alarm_at_Fire_Origin_Alarm_Failure</th>\n",
              "      <th>Smoke_Alarm_at_Fire_Origin_Alarm_Type</th>\n",
              "      <th>Smoke_Alarm_Impact_on_Persons_Evacuating_Impact_on_Evacuation</th>\n",
              "      <th>Smoke_Spread</th>\n",
              "      <th>Sprinkler_System_Operation</th>\n",
              "      <th>Sprinkler_System_Presence</th>\n",
              "      <th>Status_of_Fire_On_Arrival</th>\n",
              "      <th>TFS_Alarm_Time</th>\n",
              "      <th>TFS_Arrival_Time</th>\n",
              "      <th>TFS_Firefighter_Casualties</th>\n",
              "    </tr>\n",
              "  </thead>\n",
              "  <tbody>\n",
              "    <tr>\n",
              "      <th>17500</th>\n",
              "      <td>1964429</td>\n",
              "      <td>81 - Engine Area</td>\n",
              "      <td>NaN</td>\n",
              "      <td>NaN</td>\n",
              "      <td>0</td>\n",
              "      <td>0</td>\n",
              "      <td>3000.0</td>\n",
              "      <td>NaN</td>\n",
              "      <td>NaN</td>\n",
              "      <td>2011-09-26T23:03:00</td>\n",
              "      <td>NaN</td>\n",
              "      <td>01 - Fire</td>\n",
              "      <td>NaN</td>\n",
              "      <td>NaN</td>\n",
              "      <td>NaN</td>\n",
              "      <td>2011-09-26T23:07:00</td>\n",
              "      <td>81 - Vehicle - Electrical</td>\n",
              "      <td>F11126605</td>\n",
              "      <td>214</td>\n",
              "      <td>NaN</td>\n",
              "      <td>VEFH</td>\n",
              "      <td>NaN</td>\n",
              "      <td>2011-09-26T23:35:00</td>\n",
              "      <td>NaN</td>\n",
              "      <td>NaN</td>\n",
              "      <td>NaN</td>\n",
              "      <td>99 - Undetermined (formerly 98)</td>\n",
              "      <td>1 - Extinguished by fire department</td>\n",
              "      <td>3</td>\n",
              "      <td>10</td>\n",
              "      <td>51 - Mechanical Failure</td>\n",
              "      <td>896 - Sidewalk, street, roadway, highway, hwy (do not use for fire incidents)</td>\n",
              "      <td>NaN</td>\n",
              "      <td>NaN</td>\n",
              "      <td>NaN</td>\n",
              "      <td>NaN</td>\n",
              "      <td>NaN</td>\n",
              "      <td>NaN</td>\n",
              "      <td>NaN</td>\n",
              "      <td>3 - Fire with smoke showing only - including vehicle, outdoor fires</td>\n",
              "      <td>2011-09-26T22:55:12</td>\n",
              "      <td>2011-09-26T23:01:00</td>\n",
              "      <td>0</td>\n",
              "    </tr>\n",
              "  </tbody>\n",
              "</table>\n",
              "</div>"
            ],
            "text/plain": [
              "           _id    Area_of_Origin Building_Status Business_Impact  \\\n",
              "17500  1964429  81 - Engine Area  NaN             NaN              \n",
              "\n",
              "       Civilian_Casualties  Count_of_Persons_Rescued  Estimated_Dollar_Loss  \\\n",
              "17500  0                    0                         3000.0                  \n",
              "\n",
              "       Estimated_Number_Of_Persons_Displaced  Exposures  \\\n",
              "17500 NaN                                    NaN          \n",
              "\n",
              "      Ext_agent_app_or_defer_time Extent_Of_Fire Final_Incident_Type  \\\n",
              "17500  2011-09-26T23:03:00         NaN            01 - Fire            \n",
              "\n",
              "      Fire_Alarm_System_Impact_on_Evacuation Fire_Alarm_System_Operation  \\\n",
              "17500  NaN                                    NaN                          \n",
              "\n",
              "      Fire_Alarm_System_Presence Fire_Under_Control_Time  \\\n",
              "17500  NaN                        2011-09-26T23:07:00      \n",
              "\n",
              "                 Ignition_Source Incident_Number  Incident_Station_Area  \\\n",
              "17500  81 - Vehicle - Electrical  F11126605       214                     \n",
              "\n",
              "       Incident_Ward Initial_CAD_Event_Type Intersection  \\\n",
              "17500 NaN             VEFH                   NaN           \n",
              "\n",
              "      Last_TFS_Unit_Clear_Time  Latitude Level_Of_Origin  Longitude  \\\n",
              "17500  2011-09-26T23:35:00     NaN        NaN            NaN          \n",
              "\n",
              "                Material_First_Ignited               Method_Of_Fire_Control  \\\n",
              "17500  99 - Undetermined (formerly 98)  1 - Extinguished by fire department   \n",
              "\n",
              "       Number_of_responding_apparatus  Number_of_responding_personnel  \\\n",
              "17500  3                               10                               \n",
              "\n",
              "                Possible_Cause  \\\n",
              "17500  51 - Mechanical Failure   \n",
              "\n",
              "                                                                        Property_Use  \\\n",
              "17500  896 - Sidewalk, street, roadway, highway, hwy (do not use for fire incidents)   \n",
              "\n",
              "      Smoke_Alarm_at_Fire_Origin Smoke_Alarm_at_Fire_Origin_Alarm_Failure  \\\n",
              "17500  NaN                        NaN                                       \n",
              "\n",
              "      Smoke_Alarm_at_Fire_Origin_Alarm_Type  \\\n",
              "17500  NaN                                    \n",
              "\n",
              "      Smoke_Alarm_Impact_on_Persons_Evacuating_Impact_on_Evacuation  \\\n",
              "17500  NaN                                                            \n",
              "\n",
              "      Smoke_Spread Sprinkler_System_Operation Sprinkler_System_Presence  \\\n",
              "17500  NaN          NaN                        NaN                        \n",
              "\n",
              "                                                 Status_of_Fire_On_Arrival  \\\n",
              "17500  3 - Fire with smoke showing only - including vehicle, outdoor fires   \n",
              "\n",
              "            TFS_Alarm_Time     TFS_Arrival_Time  TFS_Firefighter_Casualties  \n",
              "17500  2011-09-26T22:55:12  2011-09-26T23:01:00  0                           "
            ]
          },
          "metadata": {},
          "execution_count": 26
        }
      ]
    },
    {
      "cell_type": "code",
      "metadata": {
        "colab": {
          "base_uri": "https://localhost:8080/"
        },
        "id": "L8nksXdHiaq0",
        "outputId": "f39055d8-2be3-4a8c-919e-980adf56b919"
      },
      "source": [
        "df_fsa['FSA'].isna().sum()"
      ],
      "execution_count": 88,
      "outputs": [
        {
          "output_type": "execute_result",
          "data": {
            "text/plain": [
              "1"
            ]
          },
          "metadata": {},
          "execution_count": 88
        }
      ]
    },
    {
      "cell_type": "code",
      "metadata": {
        "id": "jODR1mmUfiKP"
      },
      "source": [
        "df_fsa['FSA']=df_fsa['FSA'].apply(lambda x: str(x).strip())"
      ],
      "execution_count": 89,
      "outputs": []
    },
    {
      "cell_type": "code",
      "metadata": {
        "colab": {
          "base_uri": "https://localhost:8080/"
        },
        "id": "iy3TVY4afF_C",
        "outputId": "079700a3-8326-49fd-a699-dca649c97df8"
      },
      "source": [
        "df_fsa['FSA'].unique()"
      ],
      "execution_count": 90,
      "outputs": [
        {
          "output_type": "execute_result",
          "data": {
            "text/plain": [
              "array(['M9W', 'M2N', 'M1J', 'M6M', 'M6A', 'M1E', 'M4B', 'M5H', 'M6R',\n",
              "       'M1N', 'M5A', 'M4C', 'M6C', 'M1T', 'M1K', 'M2K', 'M6B', 'M6E',\n",
              "       'M3J', 'M3B', 'M8Y', 'M5V', 'M9V', 'M4Y', 'M5E', 'M4T', 'M5B',\n",
              "       'M3K', 'M3H', 'M6H', 'M9P', 'M6J', 'M4W', 'M6S', 'M2J', 'M1M',\n",
              "       'M9G', 'M4P', 'M1C', 'M8W', 'M6P', 'M3A', 'L4J', 'M4M', 'M1B',\n",
              "       'M9R', 'M5G', 'M5N', 'M5P', 'M3C', 'M5T', 'M3M', 'M4J', 'M5S',\n",
              "       'M1W', 'M3L', 'M8X', 'M4X', 'M9N', 'M4S', 'M1L', 'M1P', 'M2P',\n",
              "       'M4L', 'L4X', 'M5M', 'M5J', 'M3N', 'M9B', 'M1S', 'M6N', 'M9L',\n",
              "       'M6K', 'M9C', 'M8Z', 'M5R', 'L4V', 'M4G', 'M8V', 'M2M', 'M9A',\n",
              "       'M1G', 'M2R', 'L3R', 'M1R', 'M6L', 'M4A', 'M5C', 'M9M', 'L6B',\n",
              "       'M2Z', 'M4N', 'M4V', 'M4H', 'M1H', 'M6G', 'M1V', 'M4K', 'M2H',\n",
              "       'M2L', 'M1X', 'M5X', 'L4K', 'M4E', 'L4T', 'M4R', 'L4W', 'Ont',\n",
              "       'K4A', 'L4L', 'L1V', 'L3T', 'ON', 'M2S', 'MRJ', 'M5K', 'M7A',\n",
              "       'MK4', 'nan'], dtype=object)"
            ]
          },
          "metadata": {},
          "execution_count": 90
        }
      ]
    },
    {
      "cell_type": "code",
      "metadata": {
        "id": "Sj55JiDzeOjk"
      },
      "source": [
        "FSA_index_to_impute=df_fsa[df_fsa['FSA'].isin(['Ont','ON','MRJ','nan'])].index"
      ],
      "execution_count": 99,
      "outputs": []
    },
    {
      "cell_type": "code",
      "metadata": {
        "id": "e6lEF82kBNg1"
      },
      "source": [
        "df_fsa['fsa_imputed']=0"
      ],
      "execution_count": 100,
      "outputs": []
    },
    {
      "cell_type": "code",
      "metadata": {
        "id": "9s9dj9TUqAwQ"
      },
      "source": [
        "df_fsa.at[FSA_index_to_impute, 'fsa_imputed']=1"
      ],
      "execution_count": 101,
      "outputs": []
    },
    {
      "cell_type": "code",
      "metadata": {
        "colab": {
          "base_uri": "https://localhost:8080/"
        },
        "id": "21cUEGPTq37-",
        "outputId": "0e1cde45-5542-427a-cc46-6b97e25bc3cb"
      },
      "source": [
        "df_fsa['fsa_imputed'].value_counts()"
      ],
      "execution_count": 102,
      "outputs": [
        {
          "output_type": "execute_result",
          "data": {
            "text/plain": [
              "0    17515\n",
              "1    21   \n",
              "Name: fsa_imputed, dtype: int64"
            ]
          },
          "metadata": {},
          "execution_count": 102
        }
      ]
    },
    {
      "cell_type": "code",
      "metadata": {
        "id": "ljZh5lqB_BaA"
      },
      "source": [
        "#one record with missing lat/long and closest intersection; but the incident happens in area near Fire station 214 (FSA is M1C)\n",
        "df_fsa.at[17500,'FSA']='M1C'\n",
        "df_fsa.at[17500,'fsa_imputed']=1"
      ],
      "execution_count": 22,
      "outputs": []
    },
    {
      "cell_type": "code",
      "metadata": {
        "colab": {
          "base_uri": "https://localhost:8080/"
        },
        "id": "x8hIaLfbA_iv",
        "outputId": "6cd929d2-9497-45e6-dbf4-2b99dcba3da4"
      },
      "source": [
        "df_fsa.iloc[17500]"
      ],
      "execution_count": 23,
      "outputs": [
        {
          "output_type": "execute_result",
          "data": {
            "text/plain": [
              "_id                                                              1981965                                                                      \n",
              "Area_of_Origin                                                   81 - Engine Area                                                             \n",
              "Building_Status                                                  NaN                                                                          \n",
              "Business_Impact                                                  NaN                                                                          \n",
              "Civilian_Casualties                                              0                                                                            \n",
              "Count_of_Persons_Rescued                                         0                                                                            \n",
              "Estimated_Dollar_Loss                                            3000                                                                         \n",
              "Estimated_Number_Of_Persons_Displaced                            NaN                                                                          \n",
              "Exposures                                                        NaN                                                                          \n",
              "Ext_agent_app_or_defer_time                                      2011-09-26T23:03:00                                                          \n",
              "Extent_Of_Fire                                                   NaN                                                                          \n",
              "Final_Incident_Type                                              01 - Fire                                                                    \n",
              "Fire_Alarm_System_Impact_on_Evacuation                           NaN                                                                          \n",
              "Fire_Alarm_System_Operation                                      NaN                                                                          \n",
              "Fire_Alarm_System_Presence                                       NaN                                                                          \n",
              "Fire_Under_Control_Time                                          2011-09-26T23:07:00                                                          \n",
              "Ignition_Source                                                  81 - Vehicle - Electrical                                                    \n",
              "Incident_Number                                                  F11126605                                                                    \n",
              "Incident_Station_Area                                            214                                                                          \n",
              "Incident_Ward                                                    NaN                                                                          \n",
              "Initial_CAD_Event_Type                                           VEFH                                                                         \n",
              "Intersection                                                     NaN                                                                          \n",
              "Last_TFS_Unit_Clear_Time                                         2011-09-26T23:35:00                                                          \n",
              "Latitude                                                         NaN                                                                          \n",
              "Level_Of_Origin                                                  NaN                                                                          \n",
              "Longitude                                                        NaN                                                                          \n",
              "Material_First_Ignited                                           99 - Undetermined (formerly 98)                                              \n",
              "Method_Of_Fire_Control                                           1 - Extinguished by fire department                                          \n",
              "Number_of_responding_apparatus                                   3                                                                            \n",
              "Number_of_responding_personnel                                   10                                                                           \n",
              "Possible_Cause                                                   51 - Mechanical Failure                                                      \n",
              "Property_Use                                                     896 - Sidewalk, street, roadway, highway, hwy (do not use for fire incidents)\n",
              "Smoke_Alarm_at_Fire_Origin                                       NaN                                                                          \n",
              "Smoke_Alarm_at_Fire_Origin_Alarm_Failure                         NaN                                                                          \n",
              "Smoke_Alarm_at_Fire_Origin_Alarm_Type                            NaN                                                                          \n",
              "Smoke_Alarm_Impact_on_Persons_Evacuating_Impact_on_Evacuation    NaN                                                                          \n",
              "Smoke_Spread                                                     NaN                                                                          \n",
              "Sprinkler_System_Operation                                       NaN                                                                          \n",
              "Sprinkler_System_Presence                                        NaN                                                                          \n",
              "Status_of_Fire_On_Arrival                                        3 - Fire with smoke showing only - including vehicle, outdoor fires          \n",
              "TFS_Alarm_Time                                                   2011-09-26T22:55:12                                                          \n",
              "TFS_Arrival_Time                                                 2011-09-26T23:01:00                                                          \n",
              "TFS_Firefighter_Casualties                                       0                                                                            \n",
              "location                                                         NaN                                                                          \n",
              "FSA                                                              M1C                                                                          \n",
              "fsa_imputed                                                      1                                                                            \n",
              "Name: 17500, dtype: object"
            ]
          },
          "metadata": {},
          "execution_count": 23
        }
      ]
    },
    {
      "cell_type": "code",
      "metadata": {
        "id": "Ao3Gu3qCHpPP"
      },
      "source": [
        "#check to make sure FSA doesn't have space before/after"
      ],
      "execution_count": null,
      "outputs": []
    },
    {
      "cell_type": "markdown",
      "metadata": {
        "id": "fyxm5befxhjm"
      },
      "source": [
        "##Explore data"
      ]
    },
    {
      "cell_type": "code",
      "metadata": {
        "colab": {
          "base_uri": "https://localhost:8080/"
        },
        "id": "7Dx1TVE4EyXk",
        "outputId": "712eaf6b-9fbe-4e6a-c059-40784389cbc0"
      },
      "source": [
        "df['Area_of_Origin'].value_counts()"
      ],
      "execution_count": null,
      "outputs": [
        {
          "output_type": "execute_result",
          "data": {
            "text/plain": [
              "24 - Cooking Area or Kitchen                                                 2878\n",
              "81 - Engine Area                                                             1931\n",
              "44 - Trash, Rubbish Storage (inc garbage chute room, garbage/industri        1070\n",
              "64 - Porch or Balcony                                                        957 \n",
              "22 - Sleeping Area or Bedroom (inc. patients room, dormitory, etc)           871 \n",
              "21 - Living Area (e.g. living, TV, recreation, etc)                          596 \n",
              "75 - Trash, rubbish area (outside)                                           429 \n",
              "97 - Other - unclassified                                                    418 \n",
              "99 - Undetermined  (formerly 98)                                             402 \n",
              "42 - Garage                                                                  401 \n",
              "83 - Electrical Systems                                                      396 \n",
              "27 - Laundry Area                                                            366 \n",
              "25 - Washroom or Bathroom (toilet,restroom/locker room)                      293 \n",
              "79 - Other Outside Area                                                      281 \n",
              "86 - Passenger Area                                                          269 \n",
              "62 - Roof                                                                    265 \n",
              "71 - Open Area (inc lawn, field, farmyard, park, playing field, pier,        223 \n",
              "89 - Other Vehicle Area                                                      221 \n",
              "31 - Process Manufacturing (inc manf, prod assembly, repair)                 204 \n",
              "53 - Chimney/Flue Pipe                                                       200 \n",
              "55 - Mechanical/Electrical Services Room                                     177 \n",
              "87 - Trunk/Cargo Area                                                        170 \n",
              "50 - Basement/cellar (not partitioned)                                       159 \n",
              "61 - Exterior Wall                                                           152 \n",
              "12 - Hallway, Corridor                                                       150 \n",
              "73 - Parking Area, Parking Lot                                               138 \n",
              "72 - Court, Patio, Terrace                                                   118 \n",
              "49 - Other Storage Area                                                      112 \n",
              "74 - Storage Area (outside)                                                  112 \n",
              "78 - Attached Deck                                                           105 \n",
              "52 - HVAC Equipment Room (furnace room, water heater closet, boiler)         103 \n",
              "29 - Electronic Equipment                                                    91  \n",
              "13 - Stairway, Escalator                                                     88  \n",
              "11 - Lobby, Entranceway                                                      87  \n",
              "23 - Dining or Beverage Area (inc mess, canteen, lunchroom, cafeteria        81  \n",
              "85 - Operator/Control Area                                                   79  \n",
              "82 - Running Gear (inc wheels and braking systems, transmission syste        74  \n",
              "41 - Closet (eg. clothes, broom, linen closet, etc.)                         65  \n",
              "69 - Attic Area                                                              64  \n",
              "58 - Ducting - Exhaust (inc cooking, fumes, etc.)                            55  \n",
              "70 - Other Structural Area                                                   55  \n",
              "28 - Office                                                                  54  \n",
              "66 - Concealed Ceiling Area                                                  53  \n",
              "84 - Fuel Systems (eg. fuel tank, etc.)                                      52  \n",
              "39 - Other Functional Area                                                   47  \n",
              "46 - Product Storage (inc products or materials awaiting manuf, assembly)    45  \n",
              "47 - Shipping/Receiving/Loading Platform                                     40  \n",
              "45 - Supply Storage Room (inc maintenance/office/document storage, et        37  \n",
              "30 - Sales, Showroom Area                                                    36  \n",
              "26 - Sauna                                                                   32  \n",
              "59 - Utility Shaft (eg. electrical wiring/phone, etc.)                       31  \n",
              "68 - Concealed Wall Area                                                     27  \n",
              "51 - Elevator (includes shaft)                                               23  \n",
              "60 - Other Building Services/Support Facilities                              22  \n",
              "57 - Ducting - Heating, Air Conditioning                                     21  \n",
              "63 - Awning or Canopy                                                        20  \n",
              "56 - Conveyor Shaft or Chute (inc dumbwaiter, laundry chute, garbage         18  \n",
              "67 - Concealed Floor Area                                                    17  \n",
              "43 - Locker (apartment storage)                                              17  \n",
              "33 - Laboratory                                                              15  \n",
              "91 - Multiple Areas of Origin                                                15  \n",
              "19 - Other Means of Egress                                                   14  \n",
              "32 - Assembly Area (inc school room,spectator area, church, etc)             14  \n",
              "65 - Crawl Space (includes sub-structure)                                    12  \n",
              "93 - Residential/Business: Other busines area                                12  \n",
              "92 - Residential/Business: Restaurant area                                   10  \n",
              "35 - Performance Area (inc stage, rink, boxing ring, gym floor, altar        8   \n",
              "18 - Covered Court, Atrium, mall concourse                                   7   \n",
              "990 - Under Investigation                                                    6   \n",
              "34 - Operating Room, Treatment or Examination Area                           6   \n",
              "54 - Incinerator Room                                                        3   \n",
              "48 - Records storage area (inc vaults)                                       2   \n",
              "76 - Fuel Dispensing Area (outside)                                          1   \n",
              "Name: Area_of_Origin, dtype: int64"
            ]
          },
          "metadata": {},
          "execution_count": 7
        }
      ]
    },
    {
      "cell_type": "code",
      "metadata": {
        "colab": {
          "base_uri": "https://localhost:8080/"
        },
        "id": "E2xNymJ6E-oy",
        "outputId": "64458f30-49b6-48cd-b945-d6c64d814352"
      },
      "source": [
        "df['Final_Incident_Type'].value_counts()"
      ],
      "execution_count": null,
      "outputs": [
        {
          "output_type": "execute_result",
          "data": {
            "text/plain": [
              "01 - Fire                                                                                  15516\n",
              "03 - NO LOSS OUTDOOR fire (exc: Sus.arson,vandal,child playing,recycling or dump fires)    1914 \n",
              "02 - Explosion (including during Fire, excluding Codes 3 & 11-13)                          106  \n",
              "Name: Final_Incident_Type, dtype: int64"
            ]
          },
          "metadata": {},
          "execution_count": 10
        }
      ]
    },
    {
      "cell_type": "code",
      "metadata": {
        "colab": {
          "base_uri": "https://localhost:8080/"
        },
        "id": "QdGzVXHQF6rc",
        "outputId": "45e20cce-280b-4ac0-8ad3-af74bcc4bf2b"
      },
      "source": [
        "df['Initial_CAD_Event_Type'].value_counts()"
      ],
      "execution_count": null,
      "outputs": [
        {
          "output_type": "execute_result",
          "data": {
            "text/plain": [
              "FIR                                       3929\n",
              "Fire - Grass/Rubbish                      1698\n",
              "VEF                                       1652\n",
              "FIHR                                      1617\n",
              "FICI                                      1303\n",
              "FIG                                       917 \n",
              "Fire - Residential                        898 \n",
              "FAHR                                      787 \n",
              "VEFH                                      548 \n",
              "Vehicle Fire                              478 \n",
              "Fire -  Highrise Residential              379 \n",
              "Fire - Commercial/Industrial              375 \n",
              "FACI                                      303 \n",
              "Alarm Highrise Residential                235 \n",
              "FIHRD                                     199 \n",
              "FAR                                       175 \n",
              "Vehicle Fire - Highway                    157 \n",
              "FAHRD                                     154 \n",
              "FITP                                      113 \n",
              "FIS                                       107 \n",
              "CC                                        82  \n",
              "Alarm Commercial/Industrial               82  \n",
              "FIO                                       81  \n",
              "FAI                                       68  \n",
              "Alarm Highrise Residential Downtown       65  \n",
              "VEFU                                      64  \n",
              "FIHV                                      54  \n",
              "VEAF                                      53  \n",
              "FII                                       52  \n",
              "Alarm Residential                         51  \n",
              "FIHCD                                     50  \n",
              "FAHCD                                     46  \n",
              "Fire - Other                              43  \n",
              "Fire - Highrise Residential - Downtown    42  \n",
              "Fire - Subway                             40  \n",
              "Fire - Transformer/Pole                   38  \n",
              "FIOS                                      37  \n",
              "Check Call                                33  \n",
              "Fire - Outside Storage                    27  \n",
              "FIIS                                      25  \n",
              "Fire - Institution - School               22  \n",
              "FAID                                      21  \n",
              "FAIS                                      21  \n",
              "VEPIH                                     20  \n",
              "VEAT                                      19  \n",
              "Alarm - Institution - School              17  \n",
              "Fire - Institution                        17  \n",
              "Vehicle Accident with Fire                16  \n",
              "Fire - Hydro Vault                        16  \n",
              "FAHC                                      15  \n",
              "FIID                                      14  \n",
              "Alarm Institution                         14  \n",
              "FISD                                      14  \n",
              "WDH                                       13  \n",
              "FIHC                                      13  \n",
              "NGASFI                                    12  \n",
              "VEATH                                     12  \n",
              "ISFI                                      11  \n",
              "Alarm Highrise - Commercial - Downtown    11  \n",
              "MEO                                       10  \n",
              "Vehicle Fire - Underground                10  \n",
              "HAZ1                                      9   \n",
              "Wires Down - Hydro                        9   \n",
              "Vehicle Accident - Trapped                8   \n",
              "FACC                                      7   \n",
              "NGASLK                                    7   \n",
              "Water Problem                             6   \n",
              "HAZ2                                      6   \n",
              "VEPI                                      5   \n",
              "Natural Gas Fire                          5   \n",
              "Fire - Highrise Commercial - Downtown     5   \n",
              "CONM                                      5   \n",
              "VEFHE                                     5   \n",
              "Alarm Institution Downtown                5   \n",
              "Alarm Highrise Commercial                 5   \n",
              "WAT                                       4   \n",
              "Fire - Highrise Commercial                4   \n",
              "Medical - Other                           4   \n",
              "MEU                                       3   \n",
              "FIWMI                                     3   \n",
              "Fire - Subway - Downtown                  3   \n",
              "Hazmat Level 1                            3   \n",
              "Vehicle - Personal Injury Highway         3   \n",
              "COM                                       2   \n",
              "Medical - Trouble Breathing               2   \n",
              "Natural Gas Leak                          2   \n",
              "Carbon Monoxide - Non Medical             2   \n",
              "Fire - Institution - Downtown             2   \n",
              "METB                                      2   \n",
              "FIW                                       2   \n",
              "Fire Waterfront Marina/Industrial         2   \n",
              "Fire - Alarm Waterfront Highrise          2   \n",
              "FAS                                       2   \n",
              "PA                                        2   \n",
              "CCA                                       2   \n",
              "FAWMI                                     2   \n",
              "Hazmat Level 2                            2   \n",
              "Medical - Unconscious                     2   \n",
              "MEPI                                      1   \n",
              "Vehicle Fire - Highway Elevated           1   \n",
              "Alarm Waterfront Marina/Industrial        1   \n",
              "PUB                                       1   \n",
              "MESC                                      1   \n",
              "REHL                                      1   \n",
              "Vehicle - Spill Clean Up                  1   \n",
              "Fire Alarm - Check Call                   1   \n",
              "Check Call - Non Emergency                1   \n",
              "Vehicle - Personal Injury                 1   \n",
              "Vehicle Accident - Trapped - Highway      1   \n",
              "LKFI                                      1   \n",
              "MECR                                      1   \n",
              "Island Fire Alarm Response                1   \n",
              "Island - Fire Response                    1   \n",
              "ISFA                                      1   \n",
              "MECC                                      1   \n",
              "Name: Initial_CAD_Event_Type, dtype: int64"
            ]
          },
          "metadata": {},
          "execution_count": 11
        }
      ]
    },
    {
      "cell_type": "code",
      "metadata": {
        "colab": {
          "base_uri": "https://localhost:8080/"
        },
        "id": "dsT2W5lHGTer",
        "outputId": "d25db26d-eea2-49c2-83da-15e10f406f1a"
      },
      "source": [
        "df['Property_Use'].value_counts(normalize=True)"
      ],
      "execution_count": null,
      "outputs": [
        {
          "output_type": "execute_result",
          "data": {
            "text/plain": [
              "323 - Multi-Unit Dwelling - Over 12 Units                                        0.220644\n",
              "301 - Detached Dwelling                                                          0.141774\n",
              "901 - Automobile                                                                 0.082350\n",
              "896 - Sidewalk, street, roadway, highway, hwy (do not use for fire incidents)    0.053721\n",
              "302 - Semi-Detached Dwelling                                                     0.044140\n",
              "848 - Trash/Rubbish/Garbage Container or Dumpster                                0.042315\n",
              "303 - Attached Dwelling (eg. rowhouse, townhouse, etc.)                          0.034502\n",
              "861 - Open Land (eg. light ground cover, bush, grass, etc.)                      0.027032\n",
              "902 - Small Truck (eg. pick-up, van, etc.)                                       0.020816\n",
              "321 - Multi-Unit Dwelling - 2 to 6 Units                                         0.016424\n",
              "331 - Apartment, Flat, Tenement with Business                                    0.016196\n",
              "151 - Restaurants (occupant load greater than 30 persons, licensed)              0.013972\n",
              "898 - Other property non structure not classified                                0.011007\n",
              "891 - Outdoor general auto parking                                               0.010265\n",
              "501 - Restaurant (occupant load less than 30 persons)                            0.009809\n",
              "144 - Subway Station                                                             0.009638\n",
              "903 - Large Truck (Excluding Truck Trailer)                                      0.009410\n",
              "322 - Multi-Unit Dwelling - 7 to 12 Units                                        0.008668\n",
              "837 - Vehicles or Vehicle Parts                                                  0.008041\n",
              "365 - Detached Garage                                                            0.007699\n",
              "405 - General Business Office                                                    0.007528\n",
              "846 - Hydro/Telephone Pole                                                       0.007300\n",
              "311 - Rooming/Boarding/Lodging House                                             0.007129\n",
              "603 - Motor Vehicle Repair Garage                                                0.006444\n",
              "499 - Other Business or Personal Services                                        0.005760\n",
              "999 - Other Vehicle                                                              0.005418\n",
              "132 - School - Elementary                                                        0.004562\n",
              "334 - Attached Dwelling with Business                                            0.004505\n",
              "862 - Forest, Standing Timber                                                    0.003764\n",
              "510 - Mall - public area common to multi store facility                          0.003650\n",
              "842 - Fence                                                                      0.003593\n",
              "906 - Bus, Trackless Trolley                                                     0.003593\n",
              "498 - Garage:  General Auto Parking - Structure                                  0.003479\n",
              "355 - Hotel, Motel, Lodging - 4 or more guests or suites                         0.003422\n",
              "904 - Trailer Combin. (e.g. auto trailer, small t&t, t&t, etc)                   0.003308\n",
              "843 - Shed, Children's Playhouse                                                 0.003080\n",
              "653 - Mfg: Secondary Processing (eg finished goods, furniture, etc)              0.002737\n",
              "791 - Recycling Facility                                                         0.002680\n",
              "152 - Bar, Tavern, Night Club                                                    0.002680\n",
              "863 - Tree, Hedge                                                                0.002680\n",
              "860 - Lawn around structure                                                      0.002623\n",
              "502 - Supermarket, Grocery Store                                                 0.002623\n",
              "651 - Mfg: Pulp, Paper Processing                                                0.002509\n",
              "404 - Laundry, Dry Cleaner (includes self-service)                               0.002509\n",
              "599 - Other Mercantile                                                           0.002452\n",
              "137 - School - Post Secondary (University)                                       0.002452\n",
              "659 - Mfg: Other Wood, Furniture, Paper Products, Printing                       0.002395\n",
              "231 - Shelter for displaced/abused persons                                       0.002281\n",
              "812 - Bridge, Overpass, Trestle, Tunnel, Underpass                               0.002281\n",
              "612 - Hydro Distribution Facility                                                0.002224\n",
              "946 - Other specialty vehicle                                                    0.002224\n",
              "799 - Other Industrial                                                           0.002224\n",
              "134 - School - Secondary/Senior High (Gr. 9+)                                    0.002167\n",
              "335 - Detached/Semi/Attached with Accessory Apartment Above Grade                0.002167\n",
              "153 - Church, Other Similar Place of Worship                                     0.002110\n",
              "212 - Public/Private Hospital                                                    0.002053\n",
              "503 - Specialty Food Store (eg. butcher, delicatessen, etc.)                     0.001939\n",
              "679 - Mfg: Other Metal/Eletctrical/Miscellaneous Products                        0.001768\n",
              "760 - Sto: Warehouse, variety of items, not classified by codes                  0.001768\n",
              "792 - Waste Transfer Station                                                     0.001711\n",
              "941 - Construction Vehicles                                                      0.001711\n",
              "223 - Seniors long term care facility, licensed                                  0.001654\n",
              "601 - Motor Vehicle Sales                                                        0.001654\n",
              "855 - Outbuildings - structure not classified elsewhere                          0.001654\n",
              "633 - Mfg: Grain Products, Bakery Goods                                          0.001540\n",
              "909 - Multiple Road Vehicles                                                     0.001426\n",
              "234 - Retirement Home                                                            0.001426\n",
              "101 - Theatre - Motion Picture                                                   0.001369\n",
              "897 - Structure under 10 sq. metres not classified                               0.001312\n",
              "403 - Barber Shop, Hairdresser, Beauty Parlor, tanning salon                     0.001198\n",
              "124 - Sports/Country/Social/Yacht Club                                           0.001141\n",
              "905 - Motorcycle                                                                 0.001084\n",
              "672 - Mfg: Secondary Metal Processing (eg rolling, drawing, polishing)           0.001027\n",
              "639 - Mfg: Other Agr/Food, Beverage, Tabac products                              0.001027\n",
              "401 - Bank                                                                       0.001027\n",
              "661 - Mfg: Road Vehicles, Parts                                                  0.000969\n",
              "623 - Mfg: Plastics                                                              0.000969\n",
              "619 - Other Utilities                                                            0.000969\n",
              "511 - Department Store                                                           0.000969\n",
              "504 - Convenience/Variety Store                                                  0.000969\n",
              "123 - Community/Exhibition/Dance Hall                                            0.000969\n",
              "521 - Clothing Store, Accessories, fur                                           0.000969\n",
              "336 - Detached/Semi/Attached with Accessory Apartment Below Grade                0.000912\n",
              "629 - Mfg: Other Chemical/Petroleum/Paint/Plastic Products                       0.000912\n",
              "844 - Privy                                                                      0.000912\n",
              "232 - Halfway/Transitional House                                                 0.000912\n",
              "407 - Dental/Medical Office                                                      0.000912\n",
              "626 - Mfg: Rubber Goods                                                          0.000855\n",
              "233 - Group Home                                                                 0.000855\n",
              "602 - Service Station                                                            0.000798\n",
              "367 - Hostel                                                                     0.000798\n",
              "850 - Parking Lot Kiosk                                                          0.000798\n",
              "333 - Semi-Detached Dwelling with Business                                       0.000798\n",
              "199 - Other Assembly                                                             0.000741\n",
              "523 - Furniture/Appliance Store                                                  0.000741\n",
              "399 - Other Residential                                                          0.000684\n",
              "654 - Mfg: Printing, Publishing (eg newspapers, magazines, books)                0.000684\n",
              "622 - Mfg: Chemicals, inc hazardous chemicals                                    0.000684\n",
              "332 - Detached Dwelling with Business                                            0.000684\n",
              "173 - Exhibition, Fair Stand, Amusement Park Structure                           0.000684\n",
              "893 - Cemetery                                                                   0.000684\n",
              "162 - Ice Rink                                                                   0.000684\n",
              "138 - School - Post Secondary (College)                                          0.000627\n",
              "206 - Psychiatric Hospital (with detention quarters)                             0.000627\n",
              "103 - TV, radio, motion picture studio                                           0.000570\n",
              "133 - School - Secondary Junior High (Gr. 7 & 8)                                 0.000570\n",
              "142 - Bus Terminal                                                               0.000570\n",
              "994 - Multiple Vehicles - combination of types                                   0.000570\n",
              "530 - Pharmacy                                                                   0.000570\n",
              "921 - Private or Business Watercraft                                             0.000570\n",
              "856 - Freestanding deck                                                          0.000513\n",
              "143 - Railway Station                                                            0.000513\n",
              "849 - Tarpot                                                                     0.000513\n",
              "361 - School/College Dormitory (detached from educational facility)              0.000513\n",
              "539 - Gifts, jewellery, leather goods, mixed goods                               0.000513\n",
              "341 - Motor Home, Camper, Trailer                                                0.000513\n",
              "125 - Gymnasium                                                                  0.000513\n",
              "907 - Emergency Vehicle                                                          0.000513\n",
              "625 - Mfg: Drugs, Cosmetics, Pharmaceutical                                      0.000456\n",
              "102 - Theatre - Concert Hall, Live                                               0.000456\n",
              "609 - Other Vehicle Sales/Service                                                0.000456\n",
              "942 - Industrial Vehicles                                                        0.000456\n",
              "631 - Mfg: Meat/Poultry/Fish Products                                            0.000456\n",
              "617 - Sanitary Services (includes plant)                                         0.000456\n",
              "418 - Tent or temporary structure for business or personal service activity      0.000399\n",
              "201 - Jail, Prison, Penitentiary                                                 0.000399\n",
              "607 - Marina, Marine Service Station                                             0.000399\n",
              "543 - Big Box Store                                                              0.000399\n",
              "113 - Library                                                                    0.000399\n",
              "638 - Mfg: Sugar Refining, Sugar Products                                        0.000399\n",
              "649 - Mfg: Other Textiles, Clothing, Leather goods                               0.000399\n",
              "161 - Arena                                                                      0.000342\n",
              "853 - Gazebo                                                                     0.000342\n",
              "111 - Museum                                                                     0.000342\n",
              "701 - Sto: Meat/Poultry/Fish products                                            0.000342\n",
              "839 - Tent or temporary structure not classified under other occupancy           0.000342\n",
              "229 - Other care facility                                                        0.000342\n",
              "739 - Sto: Other Wood, Furniture, Paper Products, Printing                       0.000342\n",
              "741 - Sto: Road Vehicles, Parts                                                  0.000342\n",
              "157 - Day Care Centre                                                            0.000342\n",
              "912 - Subway Train                                                               0.000342\n",
              "836 - Metal Products, Machinery, Appliances                                      0.000342\n",
              "156 - Court Facility                                                             0.000342\n",
              "671 - Mfg: Primary Metal Processing (eg refining, melting, etc)                  0.000285\n",
              "525 - Hardware Store                                                             0.000285\n",
              "864 - Dump, Land Fill Site                                                       0.000285\n",
              "135 - School - Technical, Industrial Trade                                       0.000285\n",
              "655 - Mfg: Job Printing (eg forms, greeting cards, etc)                          0.000285\n",
              "505 - Liquor/Wine/Beer Store                                                     0.000285\n",
              "793 - Laboratory                                                                 0.000285\n",
              "366 - Residential Club (inc sorority, fraternity)                                0.000285\n",
              "158 - Church Hall                                                                0.000285\n",
              "852 - Clothing Drop Box, etc.                                                    0.000285\n",
              "114 - Auditorium                                                                 0.000228\n",
              "866 - Silo, Storage Facility                                                     0.000228\n",
              "145 - Marine Terminal                                                            0.000228\n",
              "847 - Toll Station, Weather/Bus Shelter                                          0.000228\n",
              "890 - Composting site (large scale, eg municipal)                                0.000228\n",
              "911 - Railway Train                                                              0.000228\n",
              "614 - Gas Distribution Facility                                                  0.000228\n",
              "841 - Mailbox                                                                    0.000228\n",
              "526 - Building Supply Store                                                      0.000228\n",
              "627 - Mfg: Asphalt Products                                                      0.000228\n",
              "682 - Sto: Chemicals, inc hazardous chemicals                                    0.000228\n",
              "838 - General Goods                                                              0.000228\n",
              "733 - Secondary Products (eg. finished goods, furniture, etc.)                   0.000228\n",
              "644 - Mfg: Wearing Apparal Manufacturing                                         0.000228\n",
              "834 - Chemicals, Plastics, Rubber Products                                       0.000228\n",
              "411 - Fire Station                                                               0.000228\n",
              "121 - Bowling Alley, Billiard Centre, pool hall                                  0.000228\n",
              "507 - Market - Indoors (flowers, fruit, vegetable sales)                         0.000171\n",
              "645 - Mfg: Dry Cleaning Plant                                                    0.000171\n",
              "731 - Sto: Pulp, Paper                                                           0.000171\n",
              "944 - Multiple Specialty Vehicles                                                0.000171\n",
              "216 - Convalescent Home or long term care (excluding senior care)                0.000171\n",
              "759 - Sto: Other Metal/Electrical/Misc Parts                                     0.000171\n",
              "415 - Computer, electronic data processing, records storage                      0.000171\n",
              "204 - Police Station (with detention quarters)                                   0.000171\n",
              "669 - Mfg: Other Vehicles, Parts                                                 0.000171\n",
              "112 - Art Gallery                                                                0.000171\n",
              "537 - Rug, floor covering store                                                  0.000171\n",
              "652 - Mfg: Primary Processing (eg sawmill, plywood manufacturer, etc)            0.000171\n",
              "716 - Sto: Packed food stuffs (not classified by other codes)                    0.000171\n",
              "831 - Agricultural Products                                                      0.000171\n",
              "709 - Sto: Cold Storage - Processed Food                                         0.000171\n",
              "634 - Mfg: Alcoholic Beverages                                                   0.000171\n",
              "832 - Processed Food Beverages                                                   0.000171\n",
              "870 - Barn - containing equipment or produce only                                0.000171\n",
              "163 - Indoor Swimming Facility                                                   0.000171\n",
              "172 - Stadium                                                                    0.000171\n",
              "222 - Institute for the blind, deaf                                              0.000171\n",
              "604 - Motor Vehicle Parts, Accessory Sales                                       0.000171\n",
              "535 - Computer/electronics store, service or repair                              0.000171\n",
              "749 - Sto: Other Vehicles, Parts                                                 0.000171\n",
              "621 - Mfg: Petroleum Products                                                    0.000171\n",
              "801 - Mine                                                                       0.000171\n",
              "683 - Sto: Plastics                                                              0.000114\n",
              "707 - Sto: Vegetable/Animal Oil Products                                         0.000114\n",
              "406 - Police Station (without detention quarters)                                0.000114\n",
              "410 - Small Tool/Appliance Rental/Service Establishment                          0.000114\n",
              "218 - Hospice                                                                    0.000114\n",
              "703 - Sto: Grain Products, Bakery Goods                                          0.000114\n",
              "299 - Other Care & Detention Not Classified                                      0.000114\n",
              "531 - Florist                                                                    0.000114\n",
              "402 - Post Office                                                                0.000114\n",
              "127 - Casino                                                                     0.000114\n",
              "742 - Sto: Rail Vehicles, Parts                                                  0.000114\n",
              "541 - Tent or temporary structure for Mercantile activity                        0.000114\n",
              "131 - School - Pre-Elementary                                                    0.000114\n",
              "136 - School - Business, Commerce, Secretarial                                   0.000114\n",
              "914 - Multiple Rail Vehicles                                                     0.000114\n",
              "833 - Flammable/Combustible Liquids, Gases                                       0.000114\n",
              "128 - Bingo Hall                                                                 0.000114\n",
              "724 - Sto: Dry Cleaning Plant                                                    0.000114\n",
              "175 - Tent or temporary structure for assembly activity                          0.000114\n",
              "665 - Specialty Vehicles, Parts                                                  0.000114\n",
              "854 - Sauna - Outdoors                                                           0.000114\n",
              "529 - Book/Stationary/Art Supply Store                                           0.000114\n",
              "528 - Garden Supply                                                              0.000114\n",
              "769 - Sto: Tent or temporary structure for industrial storage                    0.000114\n",
              "821 - Radio Transmission Site, Microwave Tower                                   0.000114\n",
              "122 - Dance Studio                                                               0.000114\n",
              "943 - Agricultural Vehicles                                                      0.000114\n",
              "673 - Mfg: Prec.Goods/Instruments (eg surgical instr, cameras, etc)              0.000114\n",
              "822 - Telephone Exchange                                                         0.000114\n",
              "664 - Mfg: Aircraft, Parts                                                       0.000114\n",
              "534 - Video Rental Shop                                                          0.000114\n",
              "154 - Funeral Facility                                                           0.000114\n",
              "835 - Textiles, Fibres, Clothing                                                 0.000114\n",
              "344 - Houseboat                                                                  0.000114\n",
              "641 - Mfg: Textile Manufacturing (e.g. preparing fibers, spinning, weaving)      0.000114\n",
              "646 - Mfg:  Floor covering and coated fabrics (exc rubber, ceramic)              0.000114\n",
              "416 - Furniture, upholstery repair without sales                                 0.000114\n",
              "342 - Mobile Home                                                                0.000114\n",
              "126 - Non Residential Club                                                       0.000114\n",
              "615 - Water Works                                                                0.000114\n",
              "872 - Animal shelter, excluding farm structures                                  0.000114\n",
              "527 - Lumber Yard                                                                0.000114\n",
              "155 - Legislative Facility/Building                                              0.000114\n",
              "761 - Sto: Glass & Glass Products, pottery, chinaware                            0.000057\n",
              "202 - Reformatory (with detention quarters)                                      0.000057\n",
              "752 - Sto: Secondary Metal Products                                              0.000057\n",
              "699 - Sto: Other Chem/Petroleum/Paint/Plastic Products                           0.000057\n",
              "869 - Other farm building (e.g. curing shed, growing facility)                   0.000057\n",
              "524 - Paint/Wallpaper Store                                                      0.000057\n",
              "702 - Sto: Dairy Goods, Produce                                                  0.000057\n",
              "620 - Heating Plant - central/district heating plant, steam, etc                 0.000057\n",
              "729 - Sto: Other Textile Goods                                                   0.000057\n",
              "369 - Convent, Monastery                                                         0.000057\n",
              "845 - Telephone Booth                                                            0.000057\n",
              "705 - Sto: Soft Drinks                                                           0.000057\n",
              "412 - Engineering, Architect or Tech office                                      0.000057\n",
              "723 - Sto: Wearing Apparal                                                       0.000057\n",
              "719 - Sto: Other Agri Products, Food, Beverages, Tobacco, etc                    0.000057\n",
              "721 - Sto: Textiles                                                              0.000057\n",
              "868 - Greenhouse                                                                 0.000057\n",
              "343 - Tent                                                                       0.000057\n",
              "663 - Mfg: Watercraft, Parts                                                     0.000057\n",
              "945 - Tank truck - Compressed or LP Gas, flammable liquid, chemicals             0.000057\n",
              "203 - Adult Detention Camp (minimum security)                                    0.000057\n",
              "217 - Infirmary                                                                  0.000057\n",
              "605 - Car Wash                                                                   0.000057\n",
              "414 - Document centre, record repository (inc archives)                          0.000057\n",
              "506 - Market - Outdoors (flowers, fruit, vegetable sales)                        0.000057\n",
              "174 - Bleacher, Grandstand, Reviewing Stand                                      0.000057\n",
              "691 - Sto: Tank, Tank Farm, Other Liquids                                        0.000057\n",
              "624 - Mfg: Paint, Varnishes, Lacquers                                            0.000057\n",
              "871 - Barn - housing animals                                                     0.000057\n",
              "640 - Mfg:  Canning, preserving, processing fruits, vegetables                   0.000057\n",
              "637 - Mfg: Vegetable/Animal Oil Products                                         0.000057\n",
              "356 - Hotel, Motel, Lodging - Less than 4 guests or suites (inc B&B)             0.000057\n",
              "522 - Fabric Store                                                               0.000057\n",
              "753 - Sto: Precision Goods/Instruments                                           0.000057\n",
              "687 - Sto: Asphalt Products                                                      0.000057\n",
              "745 - Sto: Specialty Vehicles, Parts                                             0.000057\n",
              "512 - Catalogue/Mail Order Outlet                                                0.000057\n",
              "115 - Lecture Hall                                                               0.000057\n",
              "678 - Mfg:Glass & glass products, china, pottery                                 0.000057\n",
              "674 - Mfg: Precious Metals, Jewellery                                            0.000057\n",
              "413 - Mailing, photocopying office                                               0.000057\n",
              "708 - Sto: Sugar Refining, Sugar Products                                        0.000057\n",
              "211 - Psychiatric Hospital (without detention quarters)                          0.000057\n",
              "803 - Quarry                                                                     0.000057\n",
              "Name: Property_Use, dtype: float64"
            ]
          },
          "metadata": {},
          "execution_count": 16
        }
      ]
    },
    {
      "cell_type": "code",
      "metadata": {
        "colab": {
          "base_uri": "https://localhost:8080/"
        },
        "id": "4fLpH588Gz7j",
        "outputId": "f10dc052-9a78-4a08-87e1-df0b02845806"
      },
      "source": [
        "df['Property_Use'].isnull().sum()"
      ],
      "execution_count": null,
      "outputs": [
        {
          "output_type": "execute_result",
          "data": {
            "text/plain": [
              "1"
            ]
          },
          "metadata": {},
          "execution_count": 18
        }
      ]
    },
    {
      "cell_type": "markdown",
      "metadata": {
        "id": "6qxA1QECEedH"
      },
      "source": [
        "# Demographic data"
      ]
    },
    {
      "cell_type": "code",
      "metadata": {
        "id": "QbMt8bD1LY9n"
      },
      "source": [
        "#load household/dwelling structure/construction age by FSA\n",
        "df_household=pd.read_csv('2016_CensusDataFSA_HouseholdStructure.csv') #possible features: ratio of highrises vs other, age of structure??\n",
        "#load poulation data by FSA\n",
        "df_population=pd.read_csv('2016_CensusDataFSA_Population.csv') #population density? need to find area\n",
        "#load family structure by FSA (might be redundant) \n",
        "df_family=pd.read_csv('2016_CensusDataFSA_FamilyStructure.csv')"
      ],
      "execution_count": null,
      "outputs": []
    },
    {
      "cell_type": "code",
      "metadata": {
        "id": "6xv5liTjOhWA"
      },
      "source": [
        "#load geographic data\n",
        "fsa=pd.read_csv('fsa_area_2016.csv')\n",
        "#set first row as column names\n",
        "fsa.columns=fsa.iloc[0]\n",
        "fsa=fsa[1:]"
      ],
      "execution_count": null,
      "outputs": []
    },
    {
      "cell_type": "code",
      "metadata": {
        "id": "dp1DLV9uOqhx"
      },
      "source": [
        "fsa=fsa.rename(columns={\"CFSAUID\":\"Geo Code\"})"
      ],
      "execution_count": null,
      "outputs": []
    },
    {
      "cell_type": "markdown",
      "metadata": {
        "id": "VK-dYikmwsAs"
      },
      "source": [
        "##Population density per FSA"
      ]
    },
    {
      "cell_type": "code",
      "metadata": {
        "colab": {
          "base_uri": "https://localhost:8080/"
        },
        "id": "8QPCtnFbMmox",
        "outputId": "aeb484fe-7f77-4326-b8b7-4a95241ffe4e"
      },
      "source": [
        "df_population['Category'].unique()"
      ],
      "execution_count": null,
      "outputs": [
        {
          "output_type": "execute_result",
          "data": {
            "text/plain": [
              "array(['Population; 2016', 'Population; 2011',\n",
              "       'Population percentage change; 2011 to 2016',\n",
              "       'Total private dwellings',\n",
              "       'Private dwellings occupied by usual residents',\n",
              "       'Population density per square kilometre',\n",
              "       'Land area in square kilometres'], dtype=object)"
            ]
          },
          "metadata": {},
          "execution_count": 60
        }
      ]
    },
    {
      "cell_type": "code",
      "metadata": {
        "id": "agZZ1gl2N35B"
      },
      "source": [
        "population_by_FSA=df_population[df_population['Category']=='Population; 2016']"
      ],
      "execution_count": null,
      "outputs": []
    },
    {
      "cell_type": "code",
      "metadata": {
        "id": "QicWttUMyBDA"
      },
      "source": [
        "# join population and area data together\n",
        "population_density_by_FSA=pd.merge(population_by_FSA[['Geo Code','Counts']], fsa, on='Geo Code', how='inner')\n",
        "#calculate density\n",
        "population_density_by_FSA['Counts']=pd.to_numeric(population_density_by_FSA['Counts'])\n",
        "population_density_by_FSA['Area Sq Km']=pd.to_numeric(population_density_by_FSA['Area Sq Km'])\n",
        "population_density_by_FSA['density']=round(population_density_by_FSA['Counts']/population_density_by_FSA['Area Sq Km'],2)\n",
        "#population_density_by_FSA.dtypes"
      ],
      "execution_count": null,
      "outputs": []
    },
    {
      "cell_type": "code",
      "metadata": {
        "colab": {
          "base_uri": "https://localhost:8080/",
          "height": 204
        },
        "id": "3trhKSgi4mrt",
        "outputId": "56b748f5-04d4-4d92-de5c-822330dd972f"
      },
      "source": [
        "population_density_by_FSA.head()"
      ],
      "execution_count": null,
      "outputs": [
        {
          "output_type": "execute_result",
          "data": {
            "text/html": [
              "<div>\n",
              "<style scoped>\n",
              "    .dataframe tbody tr th:only-of-type {\n",
              "        vertical-align: middle;\n",
              "    }\n",
              "\n",
              "    .dataframe tbody tr th {\n",
              "        vertical-align: top;\n",
              "    }\n",
              "\n",
              "    .dataframe thead th {\n",
              "        text-align: right;\n",
              "    }\n",
              "</style>\n",
              "<table border=\"1\" class=\"dataframe\">\n",
              "  <thead>\n",
              "    <tr style=\"text-align: right;\">\n",
              "      <th></th>\n",
              "      <th>Geo Code</th>\n",
              "      <th>Counts</th>\n",
              "      <th>PRUID</th>\n",
              "      <th>PRNAME</th>\n",
              "      <th>Area Sq Km</th>\n",
              "      <th>density</th>\n",
              "    </tr>\n",
              "  </thead>\n",
              "  <tbody>\n",
              "    <tr>\n",
              "      <th>0</th>\n",
              "      <td>M1B</td>\n",
              "      <td>66108</td>\n",
              "      <td>35</td>\n",
              "      <td>Ontario</td>\n",
              "      <td>37.470902</td>\n",
              "      <td>1764.25</td>\n",
              "    </tr>\n",
              "    <tr>\n",
              "      <th>1</th>\n",
              "      <td>M1C</td>\n",
              "      <td>35626</td>\n",
              "      <td>35</td>\n",
              "      <td>Ontario</td>\n",
              "      <td>14.761468</td>\n",
              "      <td>2413.45</td>\n",
              "    </tr>\n",
              "    <tr>\n",
              "      <th>2</th>\n",
              "      <td>M1G</td>\n",
              "      <td>29690</td>\n",
              "      <td>35</td>\n",
              "      <td>Ontario</td>\n",
              "      <td>9.496478</td>\n",
              "      <td>3126.42</td>\n",
              "    </tr>\n",
              "    <tr>\n",
              "      <th>3</th>\n",
              "      <td>M1H</td>\n",
              "      <td>24383</td>\n",
              "      <td>35</td>\n",
              "      <td>Ontario</td>\n",
              "      <td>5.121544</td>\n",
              "      <td>4760.87</td>\n",
              "    </tr>\n",
              "    <tr>\n",
              "      <th>4</th>\n",
              "      <td>M1J</td>\n",
              "      <td>36699</td>\n",
              "      <td>35</td>\n",
              "      <td>Ontario</td>\n",
              "      <td>6.438187</td>\n",
              "      <td>5700.21</td>\n",
              "    </tr>\n",
              "  </tbody>\n",
              "</table>\n",
              "</div>"
            ],
            "text/plain": [
              "  Geo Code  Counts PRUID   PRNAME  Area Sq Km  density\n",
              "0  M1B      66108   35    Ontario  37.470902   1764.25\n",
              "1  M1C      35626   35    Ontario  14.761468   2413.45\n",
              "2  M1G      29690   35    Ontario  9.496478    3126.42\n",
              "3  M1H      24383   35    Ontario  5.121544    4760.87\n",
              "4  M1J      36699   35    Ontario  6.438187    5700.21"
            ]
          },
          "metadata": {},
          "execution_count": 63
        }
      ]
    },
    {
      "cell_type": "code",
      "metadata": {
        "id": "xjvQeN3iFzFW"
      },
      "source": [
        "population_density_by_FSA=population_density_by_FSA.drop(columns=[col for col in population_density_by_FSA.columns if col not in ['Geo Code','density']], axis=1)"
      ],
      "execution_count": null,
      "outputs": []
    },
    {
      "cell_type": "code",
      "metadata": {
        "colab": {
          "base_uri": "https://localhost:8080/",
          "height": 204
        },
        "id": "xJyhgSWoIhTb",
        "outputId": "3c468127-51ed-42d9-9a16-8fd5b8b78879"
      },
      "source": [
        "population_density_by_FSA.head()"
      ],
      "execution_count": null,
      "outputs": [
        {
          "output_type": "execute_result",
          "data": {
            "text/html": [
              "<div>\n",
              "<style scoped>\n",
              "    .dataframe tbody tr th:only-of-type {\n",
              "        vertical-align: middle;\n",
              "    }\n",
              "\n",
              "    .dataframe tbody tr th {\n",
              "        vertical-align: top;\n",
              "    }\n",
              "\n",
              "    .dataframe thead th {\n",
              "        text-align: right;\n",
              "    }\n",
              "</style>\n",
              "<table border=\"1\" class=\"dataframe\">\n",
              "  <thead>\n",
              "    <tr style=\"text-align: right;\">\n",
              "      <th></th>\n",
              "      <th>Geo Code</th>\n",
              "      <th>density</th>\n",
              "    </tr>\n",
              "  </thead>\n",
              "  <tbody>\n",
              "    <tr>\n",
              "      <th>0</th>\n",
              "      <td>M1B</td>\n",
              "      <td>1764.25</td>\n",
              "    </tr>\n",
              "    <tr>\n",
              "      <th>1</th>\n",
              "      <td>M1C</td>\n",
              "      <td>2413.45</td>\n",
              "    </tr>\n",
              "    <tr>\n",
              "      <th>2</th>\n",
              "      <td>M1G</td>\n",
              "      <td>3126.42</td>\n",
              "    </tr>\n",
              "    <tr>\n",
              "      <th>3</th>\n",
              "      <td>M1H</td>\n",
              "      <td>4760.87</td>\n",
              "    </tr>\n",
              "    <tr>\n",
              "      <th>4</th>\n",
              "      <td>M1J</td>\n",
              "      <td>5700.21</td>\n",
              "    </tr>\n",
              "  </tbody>\n",
              "</table>\n",
              "</div>"
            ],
            "text/plain": [
              "  Geo Code  density\n",
              "0  M1B      1764.25\n",
              "1  M1C      2413.45\n",
              "2  M1G      3126.42\n",
              "3  M1H      4760.87\n",
              "4  M1J      5700.21"
            ]
          },
          "metadata": {},
          "execution_count": 99
        }
      ]
    },
    {
      "cell_type": "markdown",
      "metadata": {
        "id": "6RWw21JWY_uG"
      },
      "source": [
        "##building condition"
      ]
    },
    {
      "cell_type": "code",
      "metadata": {
        "colab": {
          "base_uri": "https://localhost:8080/"
        },
        "id": "QzDSkyMHLmvl",
        "outputId": "cb917db4-29e7-49b7-c896-c8d745432f84"
      },
      "source": [
        "df_household['Category'].unique()"
      ],
      "execution_count": null,
      "outputs": [
        {
          "output_type": "execute_result",
          "data": {
            "text/plain": [
              "array(['Total - Private households by household type - 100% data',\n",
              "       'Total - Private households by tenure - 25% sample data',\n",
              "       'Total - Occupied private dwellings by condominium status - 25% sample data',\n",
              "       'Total - Occupied private dwellings by number of bedrooms - 25% sample data',\n",
              "       'Total - Occupied private dwellings by number of rooms - 25% sample data',\n",
              "       'Average number of rooms per dwelling',\n",
              "       'Total - Private households by number of persons per room - 25% sample data',\n",
              "       'Total - Private households by housing suitability - 25% sample data',\n",
              "       'Total - Occupied private dwellings by period of construction - 25% sample data',\n",
              "       'Total - Occupied private dwellings by dwelling condition - 25% sample data',\n",
              "       'Total - Private households by number of household maintainers - 25% sample data',\n",
              "       'Total - Private households by age of primary household maintainers - 25% sample data',\n",
              "       'Total -  Owner and tenant households with household total income greater than zero; in non-farm; non-reserve private dwellings by shelter-cost-to-income ratio - 25% sample data',\n",
              "       'Total - Owner households in non-farm; non-reserve private dwellings - 25% sample data',\n",
              "       'Total - Tenant households in non-farm; non-reserve private dwellings - 25% sample data'],\n",
              "      dtype=object)"
            ]
          },
          "metadata": {},
          "execution_count": 21
        }
      ]
    },
    {
      "cell_type": "code",
      "metadata": {
        "id": "dlZ9Rt-k2_sI"
      },
      "source": [
        "#residential building condition\n",
        "df_condition=df_household.loc[df_household['Category']=='Total - Occupied private dwellings by dwelling condition - 25% sample data']\n",
        "df_condition=df_condition.pivot(index='Geo Code', columns='Sub Category', values='Counts')"
      ],
      "execution_count": null,
      "outputs": []
    },
    {
      "cell_type": "code",
      "metadata": {
        "id": "_fVR3esI7B3n"
      },
      "source": [
        "#clean up data frame\n",
        "df_condition=df_condition.rename(columns={df_condition.columns[0]: 'Total'})\n",
        "df_condition=df_condition[df_condition['Total']!='x']\n",
        "df_condition['Major repairs needed']=pd.to_numeric(df_condition['Major repairs needed'])\n",
        "df_condition['Total']=pd.to_numeric(df_condition['Total'])\n",
        "#proportion of residents that require major repairs\n",
        "df_condition['poor_building_condition']=(df_condition['Major repairs needed'])/(df_condition['Total'])"
      ],
      "execution_count": null,
      "outputs": []
    },
    {
      "cell_type": "code",
      "metadata": {
        "colab": {
          "base_uri": "https://localhost:8080/",
          "height": 238
        },
        "id": "gQrr9WxLELIk",
        "outputId": "1f86933d-c687-427a-b088-f471ed4063de"
      },
      "source": [
        "df_condition=df_condition.reset_index()\n",
        "df_condition.head()"
      ],
      "execution_count": null,
      "outputs": [
        {
          "output_type": "execute_result",
          "data": {
            "text/html": [
              "<div>\n",
              "<style scoped>\n",
              "    .dataframe tbody tr th:only-of-type {\n",
              "        vertical-align: middle;\n",
              "    }\n",
              "\n",
              "    .dataframe tbody tr th {\n",
              "        vertical-align: top;\n",
              "    }\n",
              "\n",
              "    .dataframe thead th {\n",
              "        text-align: right;\n",
              "    }\n",
              "</style>\n",
              "<table border=\"1\" class=\"dataframe\">\n",
              "  <thead>\n",
              "    <tr style=\"text-align: right;\">\n",
              "      <th>Sub Category</th>\n",
              "      <th>Geo Code</th>\n",
              "      <th>Total</th>\n",
              "      <th>Major repairs needed</th>\n",
              "      <th>Only regular maintenance or minor repairs needed</th>\n",
              "      <th>poor_building_condition</th>\n",
              "    </tr>\n",
              "  </thead>\n",
              "  <tbody>\n",
              "    <tr>\n",
              "      <th>0</th>\n",
              "      <td>Canada</td>\n",
              "      <td>14072075</td>\n",
              "      <td>920480</td>\n",
              "      <td>13151600</td>\n",
              "      <td>0.065412</td>\n",
              "    </tr>\n",
              "    <tr>\n",
              "      <th>1</th>\n",
              "      <td>M1B</td>\n",
              "      <td>20235</td>\n",
              "      <td>1130</td>\n",
              "      <td>19105</td>\n",
              "      <td>0.055844</td>\n",
              "    </tr>\n",
              "    <tr>\n",
              "      <th>2</th>\n",
              "      <td>M1C</td>\n",
              "      <td>11270</td>\n",
              "      <td>465</td>\n",
              "      <td>10805</td>\n",
              "      <td>0.041260</td>\n",
              "    </tr>\n",
              "    <tr>\n",
              "      <th>3</th>\n",
              "      <td>M1G</td>\n",
              "      <td>9825</td>\n",
              "      <td>1075</td>\n",
              "      <td>8750</td>\n",
              "      <td>0.109415</td>\n",
              "    </tr>\n",
              "    <tr>\n",
              "      <th>4</th>\n",
              "      <td>M1H</td>\n",
              "      <td>8930</td>\n",
              "      <td>500</td>\n",
              "      <td>8435</td>\n",
              "      <td>0.055991</td>\n",
              "    </tr>\n",
              "  </tbody>\n",
              "</table>\n",
              "</div>"
            ],
            "text/plain": [
              "Sub Category Geo Code     Total  Major repairs needed  \\\n",
              "0             Canada   14072075  920480                 \n",
              "1             M1B      20235     1130                   \n",
              "2             M1C      11270     465                    \n",
              "3             M1G      9825      1075                   \n",
              "4             M1H      8930      500                    \n",
              "\n",
              "Sub Category Only regular maintenance or minor repairs needed  \\\n",
              "0             13151600                                          \n",
              "1             19105                                             \n",
              "2             10805                                             \n",
              "3             8750                                              \n",
              "4             8435                                              \n",
              "\n",
              "Sub Category  poor_building_condition  \n",
              "0             0.065412                 \n",
              "1             0.055844                 \n",
              "2             0.041260                 \n",
              "3             0.109415                 \n",
              "4             0.055991                 "
            ]
          },
          "metadata": {},
          "execution_count": 88
        }
      ]
    },
    {
      "cell_type": "code",
      "metadata": {
        "id": "4G9jZiZdHCnN"
      },
      "source": [
        "df_condition=df_condition.drop(columns=[col for col in df_condition.columns if col not in ['Geo Code','poor_building_condition']], axis=1)"
      ],
      "execution_count": null,
      "outputs": []
    },
    {
      "cell_type": "markdown",
      "metadata": {
        "id": "vEID4b53CCE8"
      },
      "source": [
        "## dwell type: % condo"
      ]
    },
    {
      "cell_type": "code",
      "metadata": {
        "id": "lcqS60XY8-SB"
      },
      "source": [
        "#dwelling type (condo vs non-condo)\n",
        "df_dwell=df_household.loc[df_household['Category']=='Total - Occupied private dwellings by condominium status - 25% sample data']\n",
        "df_dwell=df_dwell.pivot(index='Geo Code', columns='Sub Category', values='Counts')"
      ],
      "execution_count": null,
      "outputs": []
    },
    {
      "cell_type": "code",
      "metadata": {
        "colab": {
          "base_uri": "https://localhost:8080/"
        },
        "id": "Wgx62uCbA3u_",
        "outputId": "23123fd5-c686-4fb2-cee2-3910ca659372"
      },
      "source": [
        "df_dwell.columns"
      ],
      "execution_count": null,
      "outputs": [
        {
          "output_type": "execute_result",
          "data": {
            "text/plain": [
              "Index([nan, 'Condominium', 'Not condominium'], dtype='object', name='Sub Category')"
            ]
          },
          "metadata": {},
          "execution_count": 73
        }
      ]
    },
    {
      "cell_type": "code",
      "metadata": {
        "id": "6BtP-lYf8T7P"
      },
      "source": [
        "#clean up data frame\n",
        "df_dwell=df_dwell.rename(columns={df_dwell.columns[0]: 'Total'})\n",
        "df_dwell=df_dwell[df_dwell['Total']!='x']\n",
        "df_dwell['Condominium']=pd.to_numeric(df_dwell['Condominium'])\n",
        "df_dwell['Total']=pd.to_numeric(df_dwell['Total'])\n",
        "#proportion of residents that live in condo\n",
        "df_dwell['condo_dwelling']=(df_dwell['Condominium'])/(df_dwell['Total'])"
      ],
      "execution_count": null,
      "outputs": []
    },
    {
      "cell_type": "code",
      "metadata": {
        "colab": {
          "base_uri": "https://localhost:8080/",
          "height": 204
        },
        "id": "zOZ82nSqBgxG",
        "outputId": "14b1d946-e287-4087-9d09-1effb0583353"
      },
      "source": [
        "df_dwell=df_dwell.reset_index()\n",
        "df_dwell.head()"
      ],
      "execution_count": null,
      "outputs": [
        {
          "output_type": "execute_result",
          "data": {
            "text/html": [
              "<div>\n",
              "<style scoped>\n",
              "    .dataframe tbody tr th:only-of-type {\n",
              "        vertical-align: middle;\n",
              "    }\n",
              "\n",
              "    .dataframe tbody tr th {\n",
              "        vertical-align: top;\n",
              "    }\n",
              "\n",
              "    .dataframe thead th {\n",
              "        text-align: right;\n",
              "    }\n",
              "</style>\n",
              "<table border=\"1\" class=\"dataframe\">\n",
              "  <thead>\n",
              "    <tr style=\"text-align: right;\">\n",
              "      <th>Sub Category</th>\n",
              "      <th>Geo Code</th>\n",
              "      <th>Total</th>\n",
              "      <th>Condominium</th>\n",
              "      <th>Not condominium</th>\n",
              "      <th>condo_dwelling</th>\n",
              "    </tr>\n",
              "  </thead>\n",
              "  <tbody>\n",
              "    <tr>\n",
              "      <th>0</th>\n",
              "      <td>Canada</td>\n",
              "      <td>14072080</td>\n",
              "      <td>1874835</td>\n",
              "      <td>12197240</td>\n",
              "      <td>0.133231</td>\n",
              "    </tr>\n",
              "    <tr>\n",
              "      <th>1</th>\n",
              "      <td>M1B</td>\n",
              "      <td>20235</td>\n",
              "      <td>5570</td>\n",
              "      <td>14660</td>\n",
              "      <td>0.275266</td>\n",
              "    </tr>\n",
              "    <tr>\n",
              "      <th>2</th>\n",
              "      <td>M1C</td>\n",
              "      <td>11270</td>\n",
              "      <td>300</td>\n",
              "      <td>10970</td>\n",
              "      <td>0.026619</td>\n",
              "    </tr>\n",
              "    <tr>\n",
              "      <th>3</th>\n",
              "      <td>M1G</td>\n",
              "      <td>9825</td>\n",
              "      <td>295</td>\n",
              "      <td>9535</td>\n",
              "      <td>0.030025</td>\n",
              "    </tr>\n",
              "    <tr>\n",
              "      <th>4</th>\n",
              "      <td>M1H</td>\n",
              "      <td>8930</td>\n",
              "      <td>3310</td>\n",
              "      <td>5625</td>\n",
              "      <td>0.370661</td>\n",
              "    </tr>\n",
              "  </tbody>\n",
              "</table>\n",
              "</div>"
            ],
            "text/plain": [
              "Sub Category Geo Code     Total  Condominium Not condominium  condo_dwelling\n",
              "0             Canada   14072080  1874835      12197240        0.133231      \n",
              "1             M1B      20235     5570         14660           0.275266      \n",
              "2             M1C      11270     300          10970           0.026619      \n",
              "3             M1G      9825      295          9535            0.030025      \n",
              "4             M1H      8930      3310         5625            0.370661      "
            ]
          },
          "metadata": {},
          "execution_count": 75
        }
      ]
    },
    {
      "cell_type": "code",
      "metadata": {
        "id": "m4ac2h0xHtxi"
      },
      "source": [
        "df_dwell=df_dwell.drop(columns=['Total','Condominium','Not condominium'], axis=1)"
      ],
      "execution_count": null,
      "outputs": []
    },
    {
      "cell_type": "markdown",
      "metadata": {
        "id": "FpETBcfDOaFI"
      },
      "source": [
        "## Age and Gender"
      ]
    },
    {
      "cell_type": "code",
      "metadata": {
        "id": "otCIdbJi5AKl"
      },
      "source": [
        "#load age/gender by FSA\n",
        "other_census=pd.read_csv('Census_age.csv', dtype={'FSA':object, \n",
        "                                                 'Average_Age': np.float32,\n",
        "                                                 'Median_Age': np.float32,\n",
        "                                                 'Percent_male': np.float32})"
      ],
      "execution_count": null,
      "outputs": []
    },
    {
      "cell_type": "code",
      "metadata": {
        "id": "c3P_veQxFKqp"
      },
      "source": [
        "#Merge Demographic data\n",
        "from functools import reduce\n",
        "data_frames=[population_density_by_FSA,df_condition, df_dwell]\n",
        "df_merge=reduce(lambda left, right: pd.merge(left, right, on=['Geo Code'], how='outer'),data_frames)"
      ],
      "execution_count": null,
      "outputs": []
    },
    {
      "cell_type": "code",
      "metadata": {
        "id": "F5xqvmpSI4GO"
      },
      "source": [
        "df_merge=df_merge.rename(columns={'Geo Code': 'FSA'})"
      ],
      "execution_count": null,
      "outputs": []
    },
    {
      "cell_type": "code",
      "metadata": {
        "id": "IjxRZtgYJIQb"
      },
      "source": [
        "data_frames=[df_merge, other_census]\n",
        "df_demographics=reduce(lambda left, right: pd.merge(left, right, on=['FSA'], how='outer'), data_frames)"
      ],
      "execution_count": null,
      "outputs": []
    },
    {
      "cell_type": "code",
      "metadata": {
        "id": "uH0NrnZ2IV_d"
      },
      "source": [
        "df_demographics.to_csv('demographics.csv')"
      ],
      "execution_count": null,
      "outputs": []
    },
    {
      "cell_type": "markdown",
      "metadata": {
        "id": "TmlBVpeWC6sD"
      },
      "source": [
        "# Fire+Demographic data"
      ]
    },
    {
      "cell_type": "code",
      "metadata": {
        "id": "8kJkRe_lDfqK"
      },
      "source": [
        "#load demographics data\n",
        "df_demographics=pd.read_csv('demographics.csv')\n",
        "df_demographics=df_demographics.iloc[:,1: ]"
      ],
      "execution_count": 103,
      "outputs": []
    },
    {
      "cell_type": "code",
      "metadata": {
        "colab": {
          "base_uri": "https://localhost:8080/",
          "height": 335
        },
        "id": "CfKiqkMzC49z",
        "outputId": "26d56daa-9947-47d1-97fe-6416f5ed9e1b"
      },
      "source": [
        "Fire_w_demographics=pd.merge(df_fsa, df_demographics,on='FSA',how='left')\n",
        "Fire_w_demographics.head(2)"
      ],
      "execution_count": 104,
      "outputs": [
        {
          "output_type": "execute_result",
          "data": {
            "text/html": [
              "<div>\n",
              "<style scoped>\n",
              "    .dataframe tbody tr th:only-of-type {\n",
              "        vertical-align: middle;\n",
              "    }\n",
              "\n",
              "    .dataframe tbody tr th {\n",
              "        vertical-align: top;\n",
              "    }\n",
              "\n",
              "    .dataframe thead th {\n",
              "        text-align: right;\n",
              "    }\n",
              "</style>\n",
              "<table border=\"1\" class=\"dataframe\">\n",
              "  <thead>\n",
              "    <tr style=\"text-align: right;\">\n",
              "      <th></th>\n",
              "      <th>_id</th>\n",
              "      <th>Area_of_Origin</th>\n",
              "      <th>Building_Status</th>\n",
              "      <th>Business_Impact</th>\n",
              "      <th>Civilian_Casualties</th>\n",
              "      <th>Count_of_Persons_Rescued</th>\n",
              "      <th>Estimated_Dollar_Loss</th>\n",
              "      <th>Estimated_Number_Of_Persons_Displaced</th>\n",
              "      <th>Exposures</th>\n",
              "      <th>Ext_agent_app_or_defer_time</th>\n",
              "      <th>Extent_Of_Fire</th>\n",
              "      <th>Final_Incident_Type</th>\n",
              "      <th>Fire_Alarm_System_Impact_on_Evacuation</th>\n",
              "      <th>Fire_Alarm_System_Operation</th>\n",
              "      <th>Fire_Alarm_System_Presence</th>\n",
              "      <th>Fire_Under_Control_Time</th>\n",
              "      <th>Ignition_Source</th>\n",
              "      <th>Incident_Number</th>\n",
              "      <th>Incident_Station_Area</th>\n",
              "      <th>Incident_Ward</th>\n",
              "      <th>Initial_CAD_Event_Type</th>\n",
              "      <th>Intersection</th>\n",
              "      <th>Last_TFS_Unit_Clear_Time</th>\n",
              "      <th>Latitude</th>\n",
              "      <th>Level_Of_Origin</th>\n",
              "      <th>Longitude</th>\n",
              "      <th>Material_First_Ignited</th>\n",
              "      <th>Method_Of_Fire_Control</th>\n",
              "      <th>Number_of_responding_apparatus</th>\n",
              "      <th>Number_of_responding_personnel</th>\n",
              "      <th>Possible_Cause</th>\n",
              "      <th>Property_Use</th>\n",
              "      <th>Smoke_Alarm_at_Fire_Origin</th>\n",
              "      <th>Smoke_Alarm_at_Fire_Origin_Alarm_Failure</th>\n",
              "      <th>Smoke_Alarm_at_Fire_Origin_Alarm_Type</th>\n",
              "      <th>Smoke_Alarm_Impact_on_Persons_Evacuating_Impact_on_Evacuation</th>\n",
              "      <th>Smoke_Spread</th>\n",
              "      <th>Sprinkler_System_Operation</th>\n",
              "      <th>Sprinkler_System_Presence</th>\n",
              "      <th>Status_of_Fire_On_Arrival</th>\n",
              "      <th>TFS_Alarm_Time</th>\n",
              "      <th>TFS_Arrival_Time</th>\n",
              "      <th>TFS_Firefighter_Casualties</th>\n",
              "      <th>location</th>\n",
              "      <th>FSA</th>\n",
              "      <th>fsa_imputed</th>\n",
              "      <th>density</th>\n",
              "      <th>poor_building_condition</th>\n",
              "      <th>condo_dwelling</th>\n",
              "      <th>Average_Age</th>\n",
              "      <th>Median_Age</th>\n",
              "      <th>male</th>\n",
              "    </tr>\n",
              "  </thead>\n",
              "  <tbody>\n",
              "    <tr>\n",
              "      <th>0</th>\n",
              "      <td>1964465</td>\n",
              "      <td>81 - Engine Area</td>\n",
              "      <td>NaN</td>\n",
              "      <td>NaN</td>\n",
              "      <td>0</td>\n",
              "      <td>0</td>\n",
              "      <td>15000.0</td>\n",
              "      <td>NaN</td>\n",
              "      <td>NaN</td>\n",
              "      <td>2018-02-25T02:12:00</td>\n",
              "      <td>NaN</td>\n",
              "      <td>01 - Fire</td>\n",
              "      <td>NaN</td>\n",
              "      <td>NaN</td>\n",
              "      <td>NaN</td>\n",
              "      <td>2018-02-25T02:15:40</td>\n",
              "      <td>999 - Undetermined</td>\n",
              "      <td>F18020956</td>\n",
              "      <td>441</td>\n",
              "      <td>1.0</td>\n",
              "      <td>Vehicle Fire</td>\n",
              "      <td>Dixon Rd / 427 N Dixon Ramp</td>\n",
              "      <td>2018-02-25T02:38:31</td>\n",
              "      <td>43.686558</td>\n",
              "      <td>NaN</td>\n",
              "      <td>-79.599419</td>\n",
              "      <td>47 - Vehicle</td>\n",
              "      <td>1 - Extinguished by fire department</td>\n",
              "      <td>1</td>\n",
              "      <td>4</td>\n",
              "      <td>99 - Undetermined</td>\n",
              "      <td>896 - Sidewalk, street, roadway, highway, hwy (do not use for fire incidents)</td>\n",
              "      <td>NaN</td>\n",
              "      <td>NaN</td>\n",
              "      <td>NaN</td>\n",
              "      <td>NaN</td>\n",
              "      <td>NaN</td>\n",
              "      <td>NaN</td>\n",
              "      <td>NaN</td>\n",
              "      <td>7 - Fully involved (total structure, vehicle, spreading outdoor fire)</td>\n",
              "      <td>2018-02-25T02:04:29</td>\n",
              "      <td>2018-02-25T02:10:11</td>\n",
              "      <td>0</td>\n",
              "      <td>M9W 5N4</td>\n",
              "      <td>M9W</td>\n",
              "      <td>0</td>\n",
              "      <td>1411.27</td>\n",
              "      <td>0.066034</td>\n",
              "      <td>0.175848</td>\n",
              "      <td>39.6</td>\n",
              "      <td>38.3</td>\n",
              "      <td>0.490844</td>\n",
              "    </tr>\n",
              "    <tr>\n",
              "      <th>1</th>\n",
              "      <td>1964466</td>\n",
              "      <td>75 - Trash, rubbish area (outside)</td>\n",
              "      <td>NaN</td>\n",
              "      <td>NaN</td>\n",
              "      <td>0</td>\n",
              "      <td>0</td>\n",
              "      <td>50.0</td>\n",
              "      <td>NaN</td>\n",
              "      <td>NaN</td>\n",
              "      <td>2018-02-25T02:29:42</td>\n",
              "      <td>NaN</td>\n",
              "      <td>01 - Fire</td>\n",
              "      <td>NaN</td>\n",
              "      <td>NaN</td>\n",
              "      <td>NaN</td>\n",
              "      <td>2018-02-25T02:32:24</td>\n",
              "      <td>999 - Undetermined</td>\n",
              "      <td>F18020969</td>\n",
              "      <td>116</td>\n",
              "      <td>18.0</td>\n",
              "      <td>Fire - Grass/Rubbish</td>\n",
              "      <td>Sheppard Ave E / Clairtrell Rd</td>\n",
              "      <td>2018-02-25T02:35:58</td>\n",
              "      <td>43.766135</td>\n",
              "      <td>NaN</td>\n",
              "      <td>-79.390039</td>\n",
              "      <td>97 - Other</td>\n",
              "      <td>1 - Extinguished by fire department</td>\n",
              "      <td>1</td>\n",
              "      <td>4</td>\n",
              "      <td>03 - Suspected Vandalism</td>\n",
              "      <td>896 - Sidewalk, street, roadway, highway, hwy (do not use for fire incidents)</td>\n",
              "      <td>NaN</td>\n",
              "      <td>NaN</td>\n",
              "      <td>NaN</td>\n",
              "      <td>NaN</td>\n",
              "      <td>NaN</td>\n",
              "      <td>NaN</td>\n",
              "      <td>NaN</td>\n",
              "      <td>2 - Fire with no evidence from street</td>\n",
              "      <td>2018-02-25T02:24:43</td>\n",
              "      <td>2018-02-25T02:29:31</td>\n",
              "      <td>0</td>\n",
              "      <td>M2N 3B1</td>\n",
              "      <td>M2N</td>\n",
              "      <td>0</td>\n",
              "      <td>7581.15</td>\n",
              "      <td>0.036021</td>\n",
              "      <td>0.682775</td>\n",
              "      <td>39.9</td>\n",
              "      <td>37.0</td>\n",
              "      <td>0.469236</td>\n",
              "    </tr>\n",
              "  </tbody>\n",
              "</table>\n",
              "</div>"
            ],
            "text/plain": [
              "       _id                      Area_of_Origin Building_Status  \\\n",
              "0  1964465  81 - Engine Area                    NaN              \n",
              "1  1964466  75 - Trash, rubbish area (outside)  NaN              \n",
              "\n",
              "  Business_Impact  Civilian_Casualties  Count_of_Persons_Rescued  \\\n",
              "0  NaN             0                    0                          \n",
              "1  NaN             0                    0                          \n",
              "\n",
              "   Estimated_Dollar_Loss  Estimated_Number_Of_Persons_Displaced  Exposures  \\\n",
              "0  15000.0               NaN                                    NaN          \n",
              "1  50.0                  NaN                                    NaN          \n",
              "\n",
              "  Ext_agent_app_or_defer_time Extent_Of_Fire Final_Incident_Type  \\\n",
              "0  2018-02-25T02:12:00         NaN            01 - Fire            \n",
              "1  2018-02-25T02:29:42         NaN            01 - Fire            \n",
              "\n",
              "  Fire_Alarm_System_Impact_on_Evacuation Fire_Alarm_System_Operation  \\\n",
              "0  NaN                                    NaN                          \n",
              "1  NaN                                    NaN                          \n",
              "\n",
              "  Fire_Alarm_System_Presence Fire_Under_Control_Time     Ignition_Source  \\\n",
              "0  NaN                        2018-02-25T02:15:40     999 - Undetermined   \n",
              "1  NaN                        2018-02-25T02:32:24     999 - Undetermined   \n",
              "\n",
              "  Incident_Number  Incident_Station_Area  Incident_Ward  \\\n",
              "0  F18020956       441                    1.0             \n",
              "1  F18020969       116                    18.0            \n",
              "\n",
              "  Initial_CAD_Event_Type                    Intersection  \\\n",
              "0  Vehicle Fire           Dixon Rd / 427 N Dixon Ramp      \n",
              "1  Fire - Grass/Rubbish   Sheppard Ave E / Clairtrell Rd   \n",
              "\n",
              "  Last_TFS_Unit_Clear_Time   Latitude Level_Of_Origin  Longitude  \\\n",
              "0  2018-02-25T02:38:31      43.686558  NaN            -79.599419   \n",
              "1  2018-02-25T02:35:58      43.766135  NaN            -79.390039   \n",
              "\n",
              "  Material_First_Ignited               Method_Of_Fire_Control  \\\n",
              "0  47 - Vehicle           1 - Extinguished by fire department   \n",
              "1  97 - Other             1 - Extinguished by fire department   \n",
              "\n",
              "   Number_of_responding_apparatus  Number_of_responding_personnel  \\\n",
              "0  1                               4                                \n",
              "1  1                               4                                \n",
              "\n",
              "             Possible_Cause  \\\n",
              "0  99 - Undetermined          \n",
              "1  03 - Suspected Vandalism   \n",
              "\n",
              "                                                                    Property_Use  \\\n",
              "0  896 - Sidewalk, street, roadway, highway, hwy (do not use for fire incidents)   \n",
              "1  896 - Sidewalk, street, roadway, highway, hwy (do not use for fire incidents)   \n",
              "\n",
              "  Smoke_Alarm_at_Fire_Origin Smoke_Alarm_at_Fire_Origin_Alarm_Failure  \\\n",
              "0  NaN                        NaN                                       \n",
              "1  NaN                        NaN                                       \n",
              "\n",
              "  Smoke_Alarm_at_Fire_Origin_Alarm_Type  \\\n",
              "0  NaN                                    \n",
              "1  NaN                                    \n",
              "\n",
              "  Smoke_Alarm_Impact_on_Persons_Evacuating_Impact_on_Evacuation Smoke_Spread  \\\n",
              "0  NaN                                                           NaN           \n",
              "1  NaN                                                           NaN           \n",
              "\n",
              "  Sprinkler_System_Operation Sprinkler_System_Presence  \\\n",
              "0  NaN                        NaN                        \n",
              "1  NaN                        NaN                        \n",
              "\n",
              "                                               Status_of_Fire_On_Arrival  \\\n",
              "0  7 - Fully involved (total structure, vehicle, spreading outdoor fire)   \n",
              "1  2 - Fire with no evidence from street                                   \n",
              "\n",
              "        TFS_Alarm_Time     TFS_Arrival_Time  TFS_Firefighter_Casualties  \\\n",
              "0  2018-02-25T02:04:29  2018-02-25T02:10:11  0                            \n",
              "1  2018-02-25T02:24:43  2018-02-25T02:29:31  0                            \n",
              "\n",
              "   location  FSA  fsa_imputed  density  poor_building_condition  \\\n",
              "0   M9W 5N4  M9W  0            1411.27  0.066034                  \n",
              "1   M2N 3B1  M2N  0            7581.15  0.036021                  \n",
              "\n",
              "   condo_dwelling  Average_Age  Median_Age      male  \n",
              "0  0.175848        39.6         38.3        0.490844  \n",
              "1  0.682775        39.9         37.0        0.469236  "
            ]
          },
          "metadata": {},
          "execution_count": 104
        }
      ]
    },
    {
      "cell_type": "code",
      "metadata": {
        "colab": {
          "base_uri": "https://localhost:8080/"
        },
        "id": "D0t0VgYtrWot",
        "outputId": "7b0e4842-25d8-4676-bf80-d39b1a5e5784"
      },
      "source": [
        "Fire_w_demographics[Fire_w_demographics['fsa_imputed']==0]['FSA'].unique()"
      ],
      "execution_count": 105,
      "outputs": [
        {
          "output_type": "execute_result",
          "data": {
            "text/plain": [
              "array(['M9W', 'M2N', 'M1J', 'M6M', 'M6A', 'M1E', 'M4B', 'M5H', 'M6R',\n",
              "       'M1N', 'M5A', 'M4C', 'M6C', 'M1T', 'M1K', 'M2K', 'M6B', 'M6E',\n",
              "       'M3J', 'M3B', 'M8Y', 'M5V', 'M9V', 'M4Y', 'M5E', 'M4T', 'M5B',\n",
              "       'M3K', 'M3H', 'M6H', 'M9P', 'M6J', 'M4W', 'M6S', 'M2J', 'M1M',\n",
              "       'M9G', 'M4P', 'M1C', 'M8W', 'M6P', 'M3A', 'L4J', 'M4M', 'M1B',\n",
              "       'M9R', 'M5G', 'M5N', 'M5P', 'M3C', 'M5T', 'M3M', 'M4J', 'M5S',\n",
              "       'M1W', 'M3L', 'M8X', 'M4X', 'M9N', 'M4S', 'M1L', 'M1P', 'M2P',\n",
              "       'M4L', 'L4X', 'M5M', 'M5J', 'M3N', 'M9B', 'M1S', 'M6N', 'M9L',\n",
              "       'M6K', 'M9C', 'M8Z', 'M5R', 'L4V', 'M4G', 'M8V', 'M2M', 'M9A',\n",
              "       'M1G', 'M2R', 'L3R', 'M1R', 'M6L', 'M4A', 'M5C', 'M9M', 'L6B',\n",
              "       'M2Z', 'M4N', 'M4V', 'M4H', 'M1H', 'M6G', 'M1V', 'M4K', 'M2H',\n",
              "       'M2L', 'M1X', 'M5X', 'L4K', 'M4E', 'L4T', 'M4R', 'L4W', 'K4A',\n",
              "       'L4L', 'L1V', 'L3T', 'M2S', 'M5K', 'M7A', 'MK4'], dtype=object)"
            ]
          },
          "metadata": {},
          "execution_count": 105
        }
      ]
    },
    {
      "cell_type": "code",
      "metadata": {
        "id": "ddMGRVi8sFmY"
      },
      "source": [
        "Fire_w_demographics.to_csv('Fire_w_demographics.csv',index=False)"
      ],
      "execution_count": 107,
      "outputs": []
    },
    {
      "cell_type": "markdown",
      "metadata": {
        "id": "n4aTJSTUQEe3"
      },
      "source": [
        "# Fire+Demgraphic data exploration\n"
      ]
    },
    {
      "cell_type": "code",
      "metadata": {
        "id": "sjbj2yLbQiwa"
      },
      "source": [
        "df=pd.read_csv('https://raw.githubusercontent.com/JimenaBaripatti/FeatureEngineering/main/data/Fire_w_demographics.csv')"
      ],
      "execution_count": 7,
      "outputs": []
    },
    {
      "cell_type": "code",
      "metadata": {
        "colab": {
          "base_uri": "https://localhost:8080/",
          "height": 335
        },
        "id": "xa_TMc8mRdhv",
        "outputId": "28ebf113-afe7-46ca-d0de-9a71ec4d36ff"
      },
      "source": [
        "df.head(2)"
      ],
      "execution_count": 8,
      "outputs": [
        {
          "output_type": "execute_result",
          "data": {
            "text/html": [
              "<div>\n",
              "<style scoped>\n",
              "    .dataframe tbody tr th:only-of-type {\n",
              "        vertical-align: middle;\n",
              "    }\n",
              "\n",
              "    .dataframe tbody tr th {\n",
              "        vertical-align: top;\n",
              "    }\n",
              "\n",
              "    .dataframe thead th {\n",
              "        text-align: right;\n",
              "    }\n",
              "</style>\n",
              "<table border=\"1\" class=\"dataframe\">\n",
              "  <thead>\n",
              "    <tr style=\"text-align: right;\">\n",
              "      <th></th>\n",
              "      <th>_id</th>\n",
              "      <th>Area_of_Origin</th>\n",
              "      <th>Building_Status</th>\n",
              "      <th>Business_Impact</th>\n",
              "      <th>Civilian_Casualties</th>\n",
              "      <th>Count_of_Persons_Rescued</th>\n",
              "      <th>Estimated_Dollar_Loss</th>\n",
              "      <th>Estimated_Number_Of_Persons_Displaced</th>\n",
              "      <th>Exposures</th>\n",
              "      <th>Ext_agent_app_or_defer_time</th>\n",
              "      <th>Extent_Of_Fire</th>\n",
              "      <th>Final_Incident_Type</th>\n",
              "      <th>Fire_Alarm_System_Impact_on_Evacuation</th>\n",
              "      <th>Fire_Alarm_System_Operation</th>\n",
              "      <th>Fire_Alarm_System_Presence</th>\n",
              "      <th>Fire_Under_Control_Time</th>\n",
              "      <th>Ignition_Source</th>\n",
              "      <th>Incident_Number</th>\n",
              "      <th>Incident_Station_Area</th>\n",
              "      <th>Incident_Ward</th>\n",
              "      <th>Initial_CAD_Event_Type</th>\n",
              "      <th>Intersection</th>\n",
              "      <th>Last_TFS_Unit_Clear_Time</th>\n",
              "      <th>Latitude</th>\n",
              "      <th>Level_Of_Origin</th>\n",
              "      <th>Longitude</th>\n",
              "      <th>Material_First_Ignited</th>\n",
              "      <th>Method_Of_Fire_Control</th>\n",
              "      <th>Number_of_responding_apparatus</th>\n",
              "      <th>Number_of_responding_personnel</th>\n",
              "      <th>Possible_Cause</th>\n",
              "      <th>Property_Use</th>\n",
              "      <th>Smoke_Alarm_at_Fire_Origin</th>\n",
              "      <th>Smoke_Alarm_at_Fire_Origin_Alarm_Failure</th>\n",
              "      <th>Smoke_Alarm_at_Fire_Origin_Alarm_Type</th>\n",
              "      <th>Smoke_Alarm_Impact_on_Persons_Evacuating_Impact_on_Evacuation</th>\n",
              "      <th>Smoke_Spread</th>\n",
              "      <th>Sprinkler_System_Operation</th>\n",
              "      <th>Sprinkler_System_Presence</th>\n",
              "      <th>Status_of_Fire_On_Arrival</th>\n",
              "      <th>TFS_Alarm_Time</th>\n",
              "      <th>TFS_Arrival_Time</th>\n",
              "      <th>TFS_Firefighter_Casualties</th>\n",
              "      <th>location</th>\n",
              "      <th>FSA</th>\n",
              "      <th>fsa_imputed</th>\n",
              "      <th>density</th>\n",
              "      <th>poor_building_condition</th>\n",
              "      <th>condo_dwelling</th>\n",
              "      <th>Average_Age</th>\n",
              "      <th>Median_Age</th>\n",
              "      <th>male</th>\n",
              "    </tr>\n",
              "  </thead>\n",
              "  <tbody>\n",
              "    <tr>\n",
              "      <th>0</th>\n",
              "      <td>1964465</td>\n",
              "      <td>81 - Engine Area</td>\n",
              "      <td>NaN</td>\n",
              "      <td>NaN</td>\n",
              "      <td>0</td>\n",
              "      <td>0</td>\n",
              "      <td>15000.0</td>\n",
              "      <td>NaN</td>\n",
              "      <td>NaN</td>\n",
              "      <td>2018-02-25T02:12:00</td>\n",
              "      <td>NaN</td>\n",
              "      <td>01 - Fire</td>\n",
              "      <td>NaN</td>\n",
              "      <td>NaN</td>\n",
              "      <td>NaN</td>\n",
              "      <td>2018-02-25T02:15:40</td>\n",
              "      <td>999 - Undetermined</td>\n",
              "      <td>F18020956</td>\n",
              "      <td>441</td>\n",
              "      <td>1.0</td>\n",
              "      <td>Vehicle Fire</td>\n",
              "      <td>Dixon Rd / 427 N Dixon Ramp</td>\n",
              "      <td>2018-02-25T02:38:31</td>\n",
              "      <td>43.686558</td>\n",
              "      <td>NaN</td>\n",
              "      <td>-79.599419</td>\n",
              "      <td>47 - Vehicle</td>\n",
              "      <td>1 - Extinguished by fire department</td>\n",
              "      <td>1</td>\n",
              "      <td>4</td>\n",
              "      <td>99 - Undetermined</td>\n",
              "      <td>896 - Sidewalk, street, roadway, highway, hwy (do not use for fire incidents)</td>\n",
              "      <td>NaN</td>\n",
              "      <td>NaN</td>\n",
              "      <td>NaN</td>\n",
              "      <td>NaN</td>\n",
              "      <td>NaN</td>\n",
              "      <td>NaN</td>\n",
              "      <td>NaN</td>\n",
              "      <td>7 - Fully involved (total structure, vehicle, spreading outdoor fire)</td>\n",
              "      <td>2018-02-25T02:04:29</td>\n",
              "      <td>2018-02-25T02:10:11</td>\n",
              "      <td>0</td>\n",
              "      <td>M9W 5N4</td>\n",
              "      <td>M9W</td>\n",
              "      <td>0</td>\n",
              "      <td>1411.27</td>\n",
              "      <td>0.066034</td>\n",
              "      <td>0.175848</td>\n",
              "      <td>39.6</td>\n",
              "      <td>38.3</td>\n",
              "      <td>0.490844</td>\n",
              "    </tr>\n",
              "    <tr>\n",
              "      <th>1</th>\n",
              "      <td>1964466</td>\n",
              "      <td>75 - Trash, rubbish area (outside)</td>\n",
              "      <td>NaN</td>\n",
              "      <td>NaN</td>\n",
              "      <td>0</td>\n",
              "      <td>0</td>\n",
              "      <td>50.0</td>\n",
              "      <td>NaN</td>\n",
              "      <td>NaN</td>\n",
              "      <td>2018-02-25T02:29:42</td>\n",
              "      <td>NaN</td>\n",
              "      <td>01 - Fire</td>\n",
              "      <td>NaN</td>\n",
              "      <td>NaN</td>\n",
              "      <td>NaN</td>\n",
              "      <td>2018-02-25T02:32:24</td>\n",
              "      <td>999 - Undetermined</td>\n",
              "      <td>F18020969</td>\n",
              "      <td>116</td>\n",
              "      <td>18.0</td>\n",
              "      <td>Fire - Grass/Rubbish</td>\n",
              "      <td>Sheppard Ave E / Clairtrell Rd</td>\n",
              "      <td>2018-02-25T02:35:58</td>\n",
              "      <td>43.766135</td>\n",
              "      <td>NaN</td>\n",
              "      <td>-79.390039</td>\n",
              "      <td>97 - Other</td>\n",
              "      <td>1 - Extinguished by fire department</td>\n",
              "      <td>1</td>\n",
              "      <td>4</td>\n",
              "      <td>03 - Suspected Vandalism</td>\n",
              "      <td>896 - Sidewalk, street, roadway, highway, hwy (do not use for fire incidents)</td>\n",
              "      <td>NaN</td>\n",
              "      <td>NaN</td>\n",
              "      <td>NaN</td>\n",
              "      <td>NaN</td>\n",
              "      <td>NaN</td>\n",
              "      <td>NaN</td>\n",
              "      <td>NaN</td>\n",
              "      <td>2 - Fire with no evidence from street</td>\n",
              "      <td>2018-02-25T02:24:43</td>\n",
              "      <td>2018-02-25T02:29:31</td>\n",
              "      <td>0</td>\n",
              "      <td>M2N 3B1</td>\n",
              "      <td>M2N</td>\n",
              "      <td>0</td>\n",
              "      <td>7581.15</td>\n",
              "      <td>0.036021</td>\n",
              "      <td>0.682775</td>\n",
              "      <td>39.9</td>\n",
              "      <td>37.0</td>\n",
              "      <td>0.469236</td>\n",
              "    </tr>\n",
              "  </tbody>\n",
              "</table>\n",
              "</div>"
            ],
            "text/plain": [
              "       _id                      Area_of_Origin Building_Status  \\\n",
              "0  1964465  81 - Engine Area                    NaN              \n",
              "1  1964466  75 - Trash, rubbish area (outside)  NaN              \n",
              "\n",
              "  Business_Impact  Civilian_Casualties  Count_of_Persons_Rescued  \\\n",
              "0  NaN             0                    0                          \n",
              "1  NaN             0                    0                          \n",
              "\n",
              "   Estimated_Dollar_Loss  Estimated_Number_Of_Persons_Displaced  Exposures  \\\n",
              "0  15000.0               NaN                                    NaN          \n",
              "1  50.0                  NaN                                    NaN          \n",
              "\n",
              "  Ext_agent_app_or_defer_time Extent_Of_Fire Final_Incident_Type  \\\n",
              "0  2018-02-25T02:12:00         NaN            01 - Fire            \n",
              "1  2018-02-25T02:29:42         NaN            01 - Fire            \n",
              "\n",
              "  Fire_Alarm_System_Impact_on_Evacuation Fire_Alarm_System_Operation  \\\n",
              "0  NaN                                    NaN                          \n",
              "1  NaN                                    NaN                          \n",
              "\n",
              "  Fire_Alarm_System_Presence Fire_Under_Control_Time     Ignition_Source  \\\n",
              "0  NaN                        2018-02-25T02:15:40     999 - Undetermined   \n",
              "1  NaN                        2018-02-25T02:32:24     999 - Undetermined   \n",
              "\n",
              "  Incident_Number  Incident_Station_Area  Incident_Ward  \\\n",
              "0  F18020956       441                    1.0             \n",
              "1  F18020969       116                    18.0            \n",
              "\n",
              "  Initial_CAD_Event_Type                    Intersection  \\\n",
              "0  Vehicle Fire           Dixon Rd / 427 N Dixon Ramp      \n",
              "1  Fire - Grass/Rubbish   Sheppard Ave E / Clairtrell Rd   \n",
              "\n",
              "  Last_TFS_Unit_Clear_Time   Latitude Level_Of_Origin  Longitude  \\\n",
              "0  2018-02-25T02:38:31      43.686558  NaN            -79.599419   \n",
              "1  2018-02-25T02:35:58      43.766135  NaN            -79.390039   \n",
              "\n",
              "  Material_First_Ignited               Method_Of_Fire_Control  \\\n",
              "0  47 - Vehicle           1 - Extinguished by fire department   \n",
              "1  97 - Other             1 - Extinguished by fire department   \n",
              "\n",
              "   Number_of_responding_apparatus  Number_of_responding_personnel  \\\n",
              "0  1                               4                                \n",
              "1  1                               4                                \n",
              "\n",
              "             Possible_Cause  \\\n",
              "0  99 - Undetermined          \n",
              "1  03 - Suspected Vandalism   \n",
              "\n",
              "                                                                    Property_Use  \\\n",
              "0  896 - Sidewalk, street, roadway, highway, hwy (do not use for fire incidents)   \n",
              "1  896 - Sidewalk, street, roadway, highway, hwy (do not use for fire incidents)   \n",
              "\n",
              "  Smoke_Alarm_at_Fire_Origin Smoke_Alarm_at_Fire_Origin_Alarm_Failure  \\\n",
              "0  NaN                        NaN                                       \n",
              "1  NaN                        NaN                                       \n",
              "\n",
              "  Smoke_Alarm_at_Fire_Origin_Alarm_Type  \\\n",
              "0  NaN                                    \n",
              "1  NaN                                    \n",
              "\n",
              "  Smoke_Alarm_Impact_on_Persons_Evacuating_Impact_on_Evacuation Smoke_Spread  \\\n",
              "0  NaN                                                           NaN           \n",
              "1  NaN                                                           NaN           \n",
              "\n",
              "  Sprinkler_System_Operation Sprinkler_System_Presence  \\\n",
              "0  NaN                        NaN                        \n",
              "1  NaN                        NaN                        \n",
              "\n",
              "                                               Status_of_Fire_On_Arrival  \\\n",
              "0  7 - Fully involved (total structure, vehicle, spreading outdoor fire)   \n",
              "1  2 - Fire with no evidence from street                                   \n",
              "\n",
              "        TFS_Alarm_Time     TFS_Arrival_Time  TFS_Firefighter_Casualties  \\\n",
              "0  2018-02-25T02:04:29  2018-02-25T02:10:11  0                            \n",
              "1  2018-02-25T02:24:43  2018-02-25T02:29:31  0                            \n",
              "\n",
              "   location  FSA  fsa_imputed  density  poor_building_condition  \\\n",
              "0   M9W 5N4  M9W  0            1411.27  0.066034                  \n",
              "1   M2N 3B1  M2N  0            7581.15  0.036021                  \n",
              "\n",
              "   condo_dwelling  Average_Age  Median_Age      male  \n",
              "0  0.175848        39.6         38.3        0.490844  \n",
              "1  0.682775        39.9         37.0        0.469236  "
            ]
          },
          "metadata": {},
          "execution_count": 8
        }
      ]
    },
    {
      "cell_type": "code",
      "metadata": {
        "id": "n2peU0koTGGI"
      },
      "source": [
        "df['label']=df['Civilian_Casualties'].apply(lambda x: 1 if x>0 else 0)"
      ],
      "execution_count": 16,
      "outputs": []
    },
    {
      "cell_type": "code",
      "metadata": {
        "colab": {
          "base_uri": "https://localhost:8080/"
        },
        "id": "nIL6regkVhFO",
        "outputId": "534268c1-4907-4eb3-f550-c500f4e7914f"
      },
      "source": [
        "df.dtypes"
      ],
      "execution_count": 17,
      "outputs": [
        {
          "output_type": "execute_result",
          "data": {
            "text/plain": [
              "_id                                                              int64  \n",
              "Area_of_Origin                                                   object \n",
              "Building_Status                                                  object \n",
              "Business_Impact                                                  object \n",
              "Civilian_Casualties                                              int64  \n",
              "Count_of_Persons_Rescued                                         int64  \n",
              "Estimated_Dollar_Loss                                            float64\n",
              "Estimated_Number_Of_Persons_Displaced                            float64\n",
              "Exposures                                                        float64\n",
              "Ext_agent_app_or_defer_time                                      object \n",
              "Extent_Of_Fire                                                   object \n",
              "Final_Incident_Type                                              object \n",
              "Fire_Alarm_System_Impact_on_Evacuation                           object \n",
              "Fire_Alarm_System_Operation                                      object \n",
              "Fire_Alarm_System_Presence                                       object \n",
              "Fire_Under_Control_Time                                          object \n",
              "Ignition_Source                                                  object \n",
              "Incident_Number                                                  object \n",
              "Incident_Station_Area                                            int64  \n",
              "Incident_Ward                                                    float64\n",
              "Initial_CAD_Event_Type                                           object \n",
              "Intersection                                                     object \n",
              "Last_TFS_Unit_Clear_Time                                         object \n",
              "Latitude                                                         float64\n",
              "Level_Of_Origin                                                  object \n",
              "Longitude                                                        float64\n",
              "Material_First_Ignited                                           object \n",
              "Method_Of_Fire_Control                                           object \n",
              "Number_of_responding_apparatus                                   int64  \n",
              "Number_of_responding_personnel                                   int64  \n",
              "Possible_Cause                                                   object \n",
              "Property_Use                                                     object \n",
              "Smoke_Alarm_at_Fire_Origin                                       object \n",
              "Smoke_Alarm_at_Fire_Origin_Alarm_Failure                         object \n",
              "Smoke_Alarm_at_Fire_Origin_Alarm_Type                            object \n",
              "Smoke_Alarm_Impact_on_Persons_Evacuating_Impact_on_Evacuation    object \n",
              "Smoke_Spread                                                     object \n",
              "Sprinkler_System_Operation                                       object \n",
              "Sprinkler_System_Presence                                        object \n",
              "Status_of_Fire_On_Arrival                                        object \n",
              "TFS_Alarm_Time                                                   object \n",
              "TFS_Arrival_Time                                                 object \n",
              "TFS_Firefighter_Casualties                                       int64  \n",
              "location                                                         object \n",
              "FSA                                                              object \n",
              "fsa_imputed                                                      int64  \n",
              "density                                                          float64\n",
              "poor_building_condition                                          float64\n",
              "condo_dwelling                                                   float64\n",
              "Average_Age                                                      float64\n",
              "Median_Age                                                       float64\n",
              "male                                                             float64\n",
              "label                                                            int64  \n",
              "dtype: object"
            ]
          },
          "metadata": {},
          "execution_count": 17
        }
      ]
    },
    {
      "cell_type": "code",
      "metadata": {
        "colab": {
          "base_uri": "https://localhost:8080/"
        },
        "id": "ndGsiCQeXwt2",
        "outputId": "620bbecf-b747-45fb-f174-10da7e0f22c9"
      },
      "source": [
        "df['label'].value_counts(normalize=True)"
      ],
      "execution_count": 25,
      "outputs": [
        {
          "output_type": "execute_result",
          "data": {
            "text/plain": [
              "0    0.943374\n",
              "1    0.056626\n",
              "Name: label, dtype: float64"
            ]
          },
          "metadata": {},
          "execution_count": 25
        }
      ]
    },
    {
      "cell_type": "code",
      "metadata": {
        "colab": {
          "base_uri": "https://localhost:8080/",
          "height": 673
        },
        "id": "VlX-sfEYVP6C",
        "outputId": "242335a5-e3b3-4498-c310-c0447c3064b2"
      },
      "source": [
        "#Pearson Correlation Coefficient \n",
        "#corr = df.select_dtypes(include = ['float64', 'int64']).corr()\n",
        "corr=df[['density','poor_building_condition','condo_dwelling','Average_Age','Median_Age','male','label']].corr()\n",
        "plt.figure(figsize=(10, 10))\n",
        "sns.heatmap(corr, vmax=1, square=True, annot=True)"
      ],
      "execution_count": 22,
      "outputs": [
        {
          "output_type": "execute_result",
          "data": {
            "text/plain": [
              "<matplotlib.axes._subplots.AxesSubplot at 0x7f1a3cab3f10>"
            ]
          },
          "metadata": {},
          "execution_count": 22
        },
        {
          "output_type": "display_data",
          "data": {
            "image/png": "[encoded data removed]",
            "text/plain": [
              "<Figure size 720x720 with 2 Axes>"
            ]
          },
          "metadata": {
            "needs_background": "light"
          }
        }
      ]
    },
    {
      "cell_type": "code",
      "metadata": {
        "colab": {
          "base_uri": "https://localhost:8080/"
        },
        "id": "c_8joENjZu_m",
        "outputId": "3ab0d020-5d60-4e6e-b8a7-aa2c8b083197"
      },
      "source": [
        "# calculate correlation between FSA and \n",
        "def cramers_V(var1,var2) :\n",
        "  crosstab =np.array(pd.crosstab(var1,var2, rownames=None, colnames=None)) # Cross table building\n",
        "  stat = chi2_contingency(crosstab)[0] # Keeping of the test statistic of the Chi2 test\n",
        "  obs = np.sum(crosstab) # Number of observations\n",
        "  mini = min(crosstab.shape)-1 # Take the minimum value between the columns and the rows of the cross table\n",
        "  return (math.sqrt(stat/(obs*mini)))\n",
        "\n",
        "cramers_V(df['label'],df['FSA'])"
      ],
      "execution_count": 28,
      "outputs": [
        {
          "output_type": "execute_result",
          "data": {
            "text/plain": [
              "0.11001224268757918"
            ]
          },
          "metadata": {},
          "execution_count": 28
        }
      ]
    },
    {
      "cell_type": "code",
      "metadata": {
        "colab": {
          "base_uri": "https://localhost:8080/"
        },
        "id": "OqDpFFq1YyCu",
        "outputId": "4aab6e70-cc92-4e52-bfe4-6155e7050c24"
      },
      "source": [
        "Siqi_Variables=['Area_of_Origin','Property_Use','Smoke_Alarm_at_Fire_Origin','Smoke_Alarm_at_Fire_Origin_Alarm_Failure','Smoke_Alarm_at_Fire_Origin_Alarm_Type','Smoke_Alarm_Impact_on_Persons_Evacuating_Impact_on_Evacuation','Smoke_Spread','Sprinkler_System_Operation','Sprinkler_System_Presence']\n",
        "df[Siqi_Variables].info()"
      ],
      "execution_count": 30,
      "outputs": [
        {
          "output_type": "stream",
          "name": "stdout",
          "text": [
            "<class 'pandas.core.frame.DataFrame'>\n",
            "RangeIndex: 17536 entries, 0 to 17535\n",
            "Data columns (total 9 columns):\n",
            " #   Column                                                         Non-Null Count  Dtype \n",
            "---  ------                                                         --------------  ----- \n",
            " 0   Area_of_Origin                                                 15623 non-null  object\n",
            " 1   Property_Use                                                   17535 non-null  object\n",
            " 2   Smoke_Alarm_at_Fire_Origin                                     11214 non-null  object\n",
            " 3   Smoke_Alarm_at_Fire_Origin_Alarm_Failure                       11214 non-null  object\n",
            " 4   Smoke_Alarm_at_Fire_Origin_Alarm_Type                          11214 non-null  object\n",
            " 5   Smoke_Alarm_Impact_on_Persons_Evacuating_Impact_on_Evacuation  11214 non-null  object\n",
            " 6   Smoke_Spread                                                   11214 non-null  object\n",
            " 7   Sprinkler_System_Operation                                     11214 non-null  object\n",
            " 8   Sprinkler_System_Presence                                      11214 non-null  object\n",
            "dtypes: object(9)\n",
            "memory usage: 1.2+ MB\n"
          ]
        }
      ]
    },
    {
      "cell_type": "code",
      "metadata": {
        "id": "yCW5j_I9f9XP"
      },
      "source": [
        "n_cat = [df[x].unique().shape[0] for x in Siqi_Variables]"
      ],
      "execution_count": 33,
      "outputs": []
    },
    {
      "cell_type": "code",
      "metadata": {
        "colab": {
          "base_uri": "https://localhost:8080/",
          "height": 328
        },
        "id": "ncfed6EhgZBl",
        "outputId": "3b69147d-ffb0-42bf-b476-1066a4a70822"
      },
      "source": [
        "pd.DataFrame(data=n_cat,index=Siqi_Variables, columns=['number of categories']).sort_values(by=['number of categories'], ascending=False)"
      ],
      "execution_count": 36,
      "outputs": [
        {
          "output_type": "execute_result",
          "data": {
            "text/html": [
              "<div>\n",
              "<style scoped>\n",
              "    .dataframe tbody tr th:only-of-type {\n",
              "        vertical-align: middle;\n",
              "    }\n",
              "\n",
              "    .dataframe tbody tr th {\n",
              "        vertical-align: top;\n",
              "    }\n",
              "\n",
              "    .dataframe thead th {\n",
              "        text-align: right;\n",
              "    }\n",
              "</style>\n",
              "<table border=\"1\" class=\"dataframe\">\n",
              "  <thead>\n",
              "    <tr style=\"text-align: right;\">\n",
              "      <th></th>\n",
              "      <th>number of categories</th>\n",
              "    </tr>\n",
              "  </thead>\n",
              "  <tbody>\n",
              "    <tr>\n",
              "      <th>Property_Use</th>\n",
              "      <td>284</td>\n",
              "    </tr>\n",
              "    <tr>\n",
              "      <th>Area_of_Origin</th>\n",
              "      <td>74</td>\n",
              "    </tr>\n",
              "    <tr>\n",
              "      <th>Smoke_Alarm_at_Fire_Origin_Alarm_Failure</th>\n",
              "      <td>12</td>\n",
              "    </tr>\n",
              "    <tr>\n",
              "      <th>Smoke_Spread</th>\n",
              "      <td>11</td>\n",
              "    </tr>\n",
              "    <tr>\n",
              "      <th>Smoke_Alarm_Impact_on_Persons_Evacuating_Impact_on_Evacuation</th>\n",
              "      <td>8</td>\n",
              "    </tr>\n",
              "    <tr>\n",
              "      <th>Sprinkler_System_Operation</th>\n",
              "      <td>8</td>\n",
              "    </tr>\n",
              "    <tr>\n",
              "      <th>Smoke_Alarm_at_Fire_Origin_Alarm_Type</th>\n",
              "      <td>7</td>\n",
              "    </tr>\n",
              "    <tr>\n",
              "      <th>Smoke_Alarm_at_Fire_Origin</th>\n",
              "      <td>6</td>\n",
              "    </tr>\n",
              "    <tr>\n",
              "      <th>Sprinkler_System_Presence</th>\n",
              "      <td>5</td>\n",
              "    </tr>\n",
              "  </tbody>\n",
              "</table>\n",
              "</div>"
            ],
            "text/plain": [
              "                                                               number of categories\n",
              "Property_Use                                                   284                 \n",
              "Area_of_Origin                                                 74                  \n",
              "Smoke_Alarm_at_Fire_Origin_Alarm_Failure                       12                  \n",
              "Smoke_Spread                                                   11                  \n",
              "Smoke_Alarm_Impact_on_Persons_Evacuating_Impact_on_Evacuation  8                   \n",
              "Sprinkler_System_Operation                                     8                   \n",
              "Smoke_Alarm_at_Fire_Origin_Alarm_Type                          7                   \n",
              "Smoke_Alarm_at_Fire_Origin                                     6                   \n",
              "Sprinkler_System_Presence                                      5                   "
            ]
          },
          "metadata": {},
          "execution_count": 36
        }
      ]
    },
    {
      "cell_type": "code",
      "metadata": {
        "id": "FVaw8g-OhBim"
      },
      "source": [
        "#explore different\n",
        "def exploration_cat(c):\n",
        "\n",
        "  print('---------------------------------------')\n",
        "\n",
        "  print('variable name:', c, '\\n')\n",
        "  print('number of categories: ' ,df[c].unique().shape[0], '\\n')\n",
        "  print(df[c].value_counts(normalize=True))\n",
        "\n",
        "  print('---------------------------------------')"
      ],
      "execution_count": 37,
      "outputs": []
    },
    {
      "cell_type": "code",
      "metadata": {
        "colab": {
          "base_uri": "https://localhost:8080/"
        },
        "id": "T8RwEtevhRIt",
        "outputId": "17f0ea7f-3da9-406b-d302-911df2cf9868"
      },
      "source": [
        "for c in Siqi_Variables:\n",
        "  exploration_cat(c)"
      ],
      "execution_count": 39,
      "outputs": [
        {
          "output_type": "stream",
          "name": "stdout",
          "text": [
            "---------------------------------------\n",
            "variable name: Area_of_Origin \n",
            "\n",
            "number of categories:  74 \n",
            "\n",
            "24 - Cooking Area or Kitchen                                                 0.184216\n",
            "81 - Engine Area                                                             0.123600\n",
            "44 - Trash, Rubbish Storage (inc garbage chute room, garbage/industri        0.068489\n",
            "64 - Porch or Balcony                                                        0.061256\n",
            "22 - Sleeping Area or Bedroom (inc. patients room, dormitory, etc)           0.055751\n",
            "21 - Living Area (e.g. living, TV, recreation, etc)                          0.038149\n",
            "75 - Trash, rubbish area (outside)                                           0.027460\n",
            "97 - Other - unclassified                                                    0.026755\n",
            "99 - Undetermined  (formerly 98)                                             0.025731\n",
            "42 - Garage                                                                  0.025667\n",
            "83 - Electrical Systems                                                      0.025347\n",
            "27 - Laundry Area                                                            0.023427\n",
            "25 - Washroom or Bathroom (toilet,restroom/locker room)                      0.018754\n",
            "79 - Other Outside Area                                                      0.017986\n",
            "86 - Passenger Area                                                          0.017218\n",
            "62 - Roof                                                                    0.016962\n",
            "71 - Open Area (inc lawn, field, farmyard, park, playing field, pier,        0.014274\n",
            "89 - Other Vehicle Area                                                      0.014146\n",
            "31 - Process Manufacturing (inc manf, prod assembly, repair)                 0.013058\n",
            "53 - Chimney/Flue Pipe                                                       0.012802\n",
            "55 - Mechanical/Electrical Services Room                                     0.011329\n",
            "87 - Trunk/Cargo Area                                                        0.010881\n",
            "50 - Basement/cellar (not partitioned)                                       0.010177\n",
            "61 - Exterior Wall                                                           0.009729\n",
            "12 - Hallway, Corridor                                                       0.009601\n",
            "73 - Parking Area, Parking Lot                                               0.008833\n",
            "72 - Court, Patio, Terrace                                                   0.007553\n",
            "49 - Other Storage Area                                                      0.007169\n",
            "74 - Storage Area (outside)                                                  0.007169\n",
            "78 - Attached Deck                                                           0.006721\n",
            "52 - HVAC Equipment Room (furnace room, water heater closet, boiler)         0.006593\n",
            "29 - Electronic Equipment                                                    0.005825\n",
            "13 - Stairway, Escalator                                                     0.005633\n",
            "11 - Lobby, Entranceway                                                      0.005569\n",
            "23 - Dining or Beverage Area (inc mess, canteen, lunchroom, cafeteria        0.005185\n",
            "85 - Operator/Control Area                                                   0.005057\n",
            "82 - Running Gear (inc wheels and braking systems, transmission syste        0.004737\n",
            "41 - Closet (eg. clothes, broom, linen closet, etc.)                         0.004161\n",
            "69 - Attic Area                                                              0.004097\n",
            "58 - Ducting - Exhaust (inc cooking, fumes, etc.)                            0.003520\n",
            "70 - Other Structural Area                                                   0.003520\n",
            "28 - Office                                                                  0.003456\n",
            "66 - Concealed Ceiling Area                                                  0.003392\n",
            "84 - Fuel Systems (eg. fuel tank, etc.)                                      0.003328\n",
            "39 - Other Functional Area                                                   0.003008\n",
            "46 - Product Storage (inc products or materials awaiting manuf, assembly)    0.002880\n",
            "47 - Shipping/Receiving/Loading Platform                                     0.002560\n",
            "45 - Supply Storage Room (inc maintenance/office/document storage, et        0.002368\n",
            "30 - Sales, Showroom Area                                                    0.002304\n",
            "26 - Sauna                                                                   0.002048\n",
            "59 - Utility Shaft (eg. electrical wiring/phone, etc.)                       0.001984\n",
            "68 - Concealed Wall Area                                                     0.001728\n",
            "51 - Elevator (includes shaft)                                               0.001472\n",
            "60 - Other Building Services/Support Facilities                              0.001408\n",
            "57 - Ducting - Heating, Air Conditioning                                     0.001344\n",
            "63 - Awning or Canopy                                                        0.001280\n",
            "56 - Conveyor Shaft or Chute (inc dumbwaiter, laundry chute, garbage         0.001152\n",
            "67 - Concealed Floor Area                                                    0.001088\n",
            "43 - Locker (apartment storage)                                              0.001088\n",
            "91 - Multiple Areas of Origin                                                0.000960\n",
            "33 - Laboratory                                                              0.000960\n",
            "32 - Assembly Area (inc school room,spectator area, church, etc)             0.000896\n",
            "19 - Other Means of Egress                                                   0.000896\n",
            "65 - Crawl Space (includes sub-structure)                                    0.000768\n",
            "93 - Residential/Business: Other busines area                                0.000768\n",
            "92 - Residential/Business: Restaurant area                                   0.000640\n",
            "35 - Performance Area (inc stage, rink, boxing ring, gym floor, altar        0.000512\n",
            "18 - Covered Court, Atrium, mall concourse                                   0.000448\n",
            "34 - Operating Room, Treatment or Examination Area                           0.000384\n",
            "990 - Under Investigation                                                    0.000384\n",
            "54 - Incinerator Room                                                        0.000192\n",
            "48 - Records storage area (inc vaults)                                       0.000128\n",
            "76 - Fuel Dispensing Area (outside)                                          0.000064\n",
            "Name: Area_of_Origin, dtype: float64\n",
            "---------------------------------------\n",
            "---------------------------------------\n",
            "variable name: Property_Use \n",
            "\n",
            "number of categories:  284 \n",
            "\n",
            "323 - Multi-Unit Dwelling - Over 12 Units                                        0.220644\n",
            "301 - Detached Dwelling                                                          0.141774\n",
            "901 - Automobile                                                                 0.082350\n",
            "896 - Sidewalk, street, roadway, highway, hwy (do not use for fire incidents)    0.053721\n",
            "302 - Semi-Detached Dwelling                                                     0.044140\n",
            "848 - Trash/Rubbish/Garbage Container or Dumpster                                0.042315\n",
            "303 - Attached Dwelling (eg. rowhouse, townhouse, etc.)                          0.034502\n",
            "861 - Open Land (eg. light ground cover, bush, grass, etc.)                      0.027032\n",
            "902 - Small Truck (eg. pick-up, van, etc.)                                       0.020816\n",
            "321 - Multi-Unit Dwelling - 2 to 6 Units                                         0.016424\n",
            "331 - Apartment, Flat, Tenement with Business                                    0.016196\n",
            "151 - Restaurants (occupant load greater than 30 persons, licensed)              0.013972\n",
            "898 - Other property non structure not classified                                0.011007\n",
            "891 - Outdoor general auto parking                                               0.010265\n",
            "501 - Restaurant (occupant load less than 30 persons)                            0.009809\n",
            "144 - Subway Station                                                             0.009638\n",
            "903 - Large Truck (Excluding Truck Trailer)                                      0.009410\n",
            "322 - Multi-Unit Dwelling - 7 to 12 Units                                        0.008668\n",
            "837 - Vehicles or Vehicle Parts                                                  0.008041\n",
            "365 - Detached Garage                                                            0.007699\n",
            "405 - General Business Office                                                    0.007528\n",
            "846 - Hydro/Telephone Pole                                                       0.007300\n",
            "311 - Rooming/Boarding/Lodging House                                             0.007129\n",
            "603 - Motor Vehicle Repair Garage                                                0.006444\n",
            "499 - Other Business or Personal Services                                        0.005760\n",
            "999 - Other Vehicle                                                              0.005418\n",
            "132 - School - Elementary                                                        0.004562\n",
            "334 - Attached Dwelling with Business                                            0.004505\n",
            "862 - Forest, Standing Timber                                                    0.003764\n",
            "510 - Mall - public area common to multi store facility                          0.003650\n",
            "906 - Bus, Trackless Trolley                                                     0.003593\n",
            "842 - Fence                                                                      0.003593\n",
            "498 - Garage:  General Auto Parking - Structure                                  0.003479\n",
            "355 - Hotel, Motel, Lodging - 4 or more guests or suites                         0.003422\n",
            "904 - Trailer Combin. (e.g. auto trailer, small t&t, t&t, etc)                   0.003308\n",
            "843 - Shed, Children's Playhouse                                                 0.003080\n",
            "653 - Mfg: Secondary Processing (eg finished goods, furniture, etc)              0.002737\n",
            "863 - Tree, Hedge                                                                0.002680\n",
            "791 - Recycling Facility                                                         0.002680\n",
            "152 - Bar, Tavern, Night Club                                                    0.002680\n",
            "502 - Supermarket, Grocery Store                                                 0.002623\n",
            "860 - Lawn around structure                                                      0.002623\n",
            "651 - Mfg: Pulp, Paper Processing                                                0.002509\n",
            "404 - Laundry, Dry Cleaner (includes self-service)                               0.002509\n",
            "137 - School - Post Secondary (University)                                       0.002452\n",
            "599 - Other Mercantile                                                           0.002452\n",
            "659 - Mfg: Other Wood, Furniture, Paper Products, Printing                       0.002395\n",
            "231 - Shelter for displaced/abused persons                                       0.002281\n",
            "812 - Bridge, Overpass, Trestle, Tunnel, Underpass                               0.002281\n",
            "946 - Other specialty vehicle                                                    0.002224\n",
            "612 - Hydro Distribution Facility                                                0.002224\n",
            "799 - Other Industrial                                                           0.002224\n",
            "335 - Detached/Semi/Attached with Accessory Apartment Above Grade                0.002167\n",
            "134 - School - Secondary/Senior High (Gr. 9+)                                    0.002167\n",
            "153 - Church, Other Similar Place of Worship                                     0.002110\n",
            "212 - Public/Private Hospital                                                    0.002053\n",
            "503 - Specialty Food Store (eg. butcher, delicatessen, etc.)                     0.001939\n",
            "760 - Sto: Warehouse, variety of items, not classified by codes                  0.001768\n",
            "679 - Mfg: Other Metal/Eletctrical/Miscellaneous Products                        0.001768\n",
            "941 - Construction Vehicles                                                      0.001711\n",
            "792 - Waste Transfer Station                                                     0.001711\n",
            "601 - Motor Vehicle Sales                                                        0.001654\n",
            "855 - Outbuildings - structure not classified elsewhere                          0.001654\n",
            "223 - Seniors long term care facility, licensed                                  0.001654\n",
            "633 - Mfg: Grain Products, Bakery Goods                                          0.001540\n",
            "909 - Multiple Road Vehicles                                                     0.001426\n",
            "234 - Retirement Home                                                            0.001426\n",
            "101 - Theatre - Motion Picture                                                   0.001369\n",
            "897 - Structure under 10 sq. metres not classified                               0.001312\n",
            "403 - Barber Shop, Hairdresser, Beauty Parlor, tanning salon                     0.001198\n",
            "124 - Sports/Country/Social/Yacht Club                                           0.001141\n",
            "905 - Motorcycle                                                                 0.001084\n",
            "401 - Bank                                                                       0.001027\n",
            "639 - Mfg: Other Agr/Food, Beverage, Tabac products                              0.001027\n",
            "672 - Mfg: Secondary Metal Processing (eg rolling, drawing, polishing)           0.001027\n",
            "619 - Other Utilities                                                            0.000969\n",
            "123 - Community/Exhibition/Dance Hall                                            0.000969\n",
            "623 - Mfg: Plastics                                                              0.000969\n",
            "511 - Department Store                                                           0.000969\n",
            "661 - Mfg: Road Vehicles, Parts                                                  0.000969\n",
            "521 - Clothing Store, Accessories, fur                                           0.000969\n",
            "504 - Convenience/Variety Store                                                  0.000969\n",
            "336 - Detached/Semi/Attached with Accessory Apartment Below Grade                0.000912\n",
            "629 - Mfg: Other Chemical/Petroleum/Paint/Plastic Products                       0.000912\n",
            "407 - Dental/Medical Office                                                      0.000912\n",
            "232 - Halfway/Transitional House                                                 0.000912\n",
            "844 - Privy                                                                      0.000912\n",
            "233 - Group Home                                                                 0.000855\n",
            "626 - Mfg: Rubber Goods                                                          0.000855\n",
            "367 - Hostel                                                                     0.000798\n",
            "333 - Semi-Detached Dwelling with Business                                       0.000798\n",
            "850 - Parking Lot Kiosk                                                          0.000798\n",
            "602 - Service Station                                                            0.000798\n",
            "523 - Furniture/Appliance Store                                                  0.000741\n",
            "199 - Other Assembly                                                             0.000741\n",
            "622 - Mfg: Chemicals, inc hazardous chemicals                                    0.000684\n",
            "654 - Mfg: Printing, Publishing (eg newspapers, magazines, books)                0.000684\n",
            "893 - Cemetery                                                                   0.000684\n",
            "173 - Exhibition, Fair Stand, Amusement Park Structure                           0.000684\n",
            "332 - Detached Dwelling with Business                                            0.000684\n",
            "162 - Ice Rink                                                                   0.000684\n",
            "399 - Other Residential                                                          0.000684\n",
            "206 - Psychiatric Hospital (with detention quarters)                             0.000627\n",
            "138 - School - Post Secondary (College)                                          0.000627\n",
            "133 - School - Secondary Junior High (Gr. 7 & 8)                                 0.000570\n",
            "103 - TV, radio, motion picture studio                                           0.000570\n",
            "142 - Bus Terminal                                                               0.000570\n",
            "994 - Multiple Vehicles - combination of types                                   0.000570\n",
            "921 - Private or Business Watercraft                                             0.000570\n",
            "530 - Pharmacy                                                                   0.000570\n",
            "856 - Freestanding deck                                                          0.000513\n",
            "907 - Emergency Vehicle                                                          0.000513\n",
            "539 - Gifts, jewellery, leather goods, mixed goods                               0.000513\n",
            "849 - Tarpot                                                                     0.000513\n",
            "361 - School/College Dormitory (detached from educational facility)              0.000513\n",
            "125 - Gymnasium                                                                  0.000513\n",
            "341 - Motor Home, Camper, Trailer                                                0.000513\n",
            "143 - Railway Station                                                            0.000513\n",
            "625 - Mfg: Drugs, Cosmetics, Pharmaceutical                                      0.000456\n",
            "609 - Other Vehicle Sales/Service                                                0.000456\n",
            "942 - Industrial Vehicles                                                        0.000456\n",
            "617 - Sanitary Services (includes plant)                                         0.000456\n",
            "631 - Mfg: Meat/Poultry/Fish Products                                            0.000456\n",
            "102 - Theatre - Concert Hall, Live                                               0.000456\n",
            "418 - Tent or temporary structure for business or personal service activity      0.000399\n",
            "113 - Library                                                                    0.000399\n",
            "649 - Mfg: Other Textiles, Clothing, Leather goods                               0.000399\n",
            "638 - Mfg: Sugar Refining, Sugar Products                                        0.000399\n",
            "543 - Big Box Store                                                              0.000399\n",
            "201 - Jail, Prison, Penitentiary                                                 0.000399\n",
            "607 - Marina, Marine Service Station                                             0.000399\n",
            "839 - Tent or temporary structure not classified under other occupancy           0.000342\n",
            "912 - Subway Train                                                               0.000342\n",
            "741 - Sto: Road Vehicles, Parts                                                  0.000342\n",
            "111 - Museum                                                                     0.000342\n",
            "229 - Other care facility                                                        0.000342\n",
            "853 - Gazebo                                                                     0.000342\n",
            "836 - Metal Products, Machinery, Appliances                                      0.000342\n",
            "157 - Day Care Centre                                                            0.000342\n",
            "161 - Arena                                                                      0.000342\n",
            "156 - Court Facility                                                             0.000342\n",
            "739 - Sto: Other Wood, Furniture, Paper Products, Printing                       0.000342\n",
            "701 - Sto: Meat/Poultry/Fish products                                            0.000342\n",
            "135 - School - Technical, Industrial Trade                                       0.000285\n",
            "864 - Dump, Land Fill Site                                                       0.000285\n",
            "671 - Mfg: Primary Metal Processing (eg refining, melting, etc)                  0.000285\n",
            "793 - Laboratory                                                                 0.000285\n",
            "852 - Clothing Drop Box, etc.                                                    0.000285\n",
            "525 - Hardware Store                                                             0.000285\n",
            "158 - Church Hall                                                                0.000285\n",
            "655 - Mfg: Job Printing (eg forms, greeting cards, etc)                          0.000285\n",
            "505 - Liquor/Wine/Beer Store                                                     0.000285\n",
            "366 - Residential Club (inc sorority, fraternity)                                0.000285\n",
            "841 - Mailbox                                                                    0.000228\n",
            "627 - Mfg: Asphalt Products                                                      0.000228\n",
            "890 - Composting site (large scale, eg municipal)                                0.000228\n",
            "644 - Mfg: Wearing Apparal Manufacturing                                         0.000228\n",
            "847 - Toll Station, Weather/Bus Shelter                                          0.000228\n",
            "834 - Chemicals, Plastics, Rubber Products                                       0.000228\n",
            "733 - Secondary Products (eg. finished goods, furniture, etc.)                   0.000228\n",
            "411 - Fire Station                                                               0.000228\n",
            "911 - Railway Train                                                              0.000228\n",
            "114 - Auditorium                                                                 0.000228\n",
            "614 - Gas Distribution Facility                                                  0.000228\n",
            "866 - Silo, Storage Facility                                                     0.000228\n",
            "526 - Building Supply Store                                                      0.000228\n",
            "145 - Marine Terminal                                                            0.000228\n",
            "682 - Sto: Chemicals, inc hazardous chemicals                                    0.000228\n",
            "121 - Bowling Alley, Billiard Centre, pool hall                                  0.000228\n",
            "838 - General Goods                                                              0.000228\n",
            "537 - Rug, floor covering store                                                  0.000171\n",
            "716 - Sto: Packed food stuffs (not classified by other codes)                    0.000171\n",
            "507 - Market - Indoors (flowers, fruit, vegetable sales)                         0.000171\n",
            "709 - Sto: Cold Storage - Processed Food                                         0.000171\n",
            "634 - Mfg: Alcoholic Beverages                                                   0.000171\n",
            "749 - Sto: Other Vehicles, Parts                                                 0.000171\n",
            "870 - Barn - containing equipment or produce only                                0.000171\n",
            "669 - Mfg: Other Vehicles, Parts                                                 0.000171\n",
            "204 - Police Station (with detention quarters)                                   0.000171\n",
            "645 - Mfg: Dry Cleaning Plant                                                    0.000171\n",
            "944 - Multiple Specialty Vehicles                                                0.000171\n",
            "801 - Mine                                                                       0.000171\n",
            "112 - Art Gallery                                                                0.000171\n",
            "604 - Motor Vehicle Parts, Accessory Sales                                       0.000171\n",
            "535 - Computer/electronics store, service or repair                              0.000171\n",
            "759 - Sto: Other Metal/Electrical/Misc Parts                                     0.000171\n",
            "163 - Indoor Swimming Facility                                                   0.000171\n",
            "222 - Institute for the blind, deaf                                              0.000171\n",
            "731 - Sto: Pulp, Paper                                                           0.000171\n",
            "172 - Stadium                                                                    0.000171\n",
            "415 - Computer, electronic data processing, records storage                      0.000171\n",
            "621 - Mfg: Petroleum Products                                                    0.000171\n",
            "832 - Processed Food Beverages                                                   0.000171\n",
            "216 - Convalescent Home or long term care (excluding senior care)                0.000171\n",
            "652 - Mfg: Primary Processing (eg sawmill, plywood manufacturer, etc)            0.000171\n",
            "831 - Agricultural Products                                                      0.000171\n",
            "665 - Specialty Vehicles, Parts                                                  0.000114\n",
            "707 - Sto: Vegetable/Animal Oil Products                                         0.000114\n",
            "175 - Tent or temporary structure for assembly activity                          0.000114\n",
            "528 - Garden Supply                                                              0.000114\n",
            "410 - Small Tool/Appliance Rental/Service Establishment                          0.000114\n",
            "402 - Post Office                                                                0.000114\n",
            "724 - Sto: Dry Cleaning Plant                                                    0.000114\n",
            "299 - Other Care & Detention Not Classified                                      0.000114\n",
            "673 - Mfg: Prec.Goods/Instruments (eg surgical instr, cameras, etc)              0.000114\n",
            "683 - Sto: Plastics                                                              0.000114\n",
            "821 - Radio Transmission Site, Microwave Tower                                   0.000114\n",
            "527 - Lumber Yard                                                                0.000114\n",
            "615 - Water Works                                                                0.000114\n",
            "534 - Video Rental Shop                                                          0.000114\n",
            "218 - Hospice                                                                    0.000114\n",
            "914 - Multiple Rail Vehicles                                                     0.000114\n",
            "835 - Textiles, Fibres, Clothing                                                 0.000114\n",
            "155 - Legislative Facility/Building                                              0.000114\n",
            "416 - Furniture, upholstery repair without sales                                 0.000114\n",
            "872 - Animal shelter, excluding farm structures                                  0.000114\n",
            "406 - Police Station (without detention quarters)                                0.000114\n",
            "531 - Florist                                                                    0.000114\n",
            "344 - Houseboat                                                                  0.000114\n",
            "342 - Mobile Home                                                                0.000114\n",
            "641 - Mfg: Textile Manufacturing (e.g. preparing fibers, spinning, weaving)      0.000114\n",
            "128 - Bingo Hall                                                                 0.000114\n",
            "122 - Dance Studio                                                               0.000114\n",
            "126 - Non Residential Club                                                       0.000114\n",
            "136 - School - Business, Commerce, Secretarial                                   0.000114\n",
            "154 - Funeral Facility                                                           0.000114\n",
            "742 - Sto: Rail Vehicles, Parts                                                  0.000114\n",
            "541 - Tent or temporary structure for Mercantile activity                        0.000114\n",
            "769 - Sto: Tent or temporary structure for industrial storage                    0.000114\n",
            "703 - Sto: Grain Products, Bakery Goods                                          0.000114\n",
            "854 - Sauna - Outdoors                                                           0.000114\n",
            "664 - Mfg: Aircraft, Parts                                                       0.000114\n",
            "131 - School - Pre-Elementary                                                    0.000114\n",
            "127 - Casino                                                                     0.000114\n",
            "943 - Agricultural Vehicles                                                      0.000114\n",
            "822 - Telephone Exchange                                                         0.000114\n",
            "646 - Mfg:  Floor covering and coated fabrics (exc rubber, ceramic)              0.000114\n",
            "833 - Flammable/Combustible Liquids, Gases                                       0.000114\n",
            "529 - Book/Stationary/Art Supply Store                                           0.000114\n",
            "624 - Mfg: Paint, Varnishes, Lacquers                                            0.000057\n",
            "702 - Sto: Dairy Goods, Produce                                                  0.000057\n",
            "522 - Fabric Store                                                               0.000057\n",
            "412 - Engineering, Architect or Tech office                                      0.000057\n",
            "868 - Greenhouse                                                                 0.000057\n",
            "217 - Infirmary                                                                  0.000057\n",
            "356 - Hotel, Motel, Lodging - Less than 4 guests or suites (inc B&B)             0.000057\n",
            "945 - Tank truck - Compressed or LP Gas, flammable liquid, chemicals             0.000057\n",
            "678 - Mfg:Glass & glass products, china, pottery                                 0.000057\n",
            "512 - Catalogue/Mail Order Outlet                                                0.000057\n",
            "687 - Sto: Asphalt Products                                                      0.000057\n",
            "869 - Other farm building (e.g. curing shed, growing facility)                   0.000057\n",
            "663 - Mfg: Watercraft, Parts                                                     0.000057\n",
            "745 - Sto: Specialty Vehicles, Parts                                             0.000057\n",
            "115 - Lecture Hall                                                               0.000057\n",
            "605 - Car Wash                                                                   0.000057\n",
            "211 - Psychiatric Hospital (without detention quarters)                          0.000057\n",
            "721 - Sto: Textiles                                                              0.000057\n",
            "637 - Mfg: Vegetable/Animal Oil Products                                         0.000057\n",
            "174 - Bleacher, Grandstand, Reviewing Stand                                      0.000057\n",
            "524 - Paint/Wallpaper Store                                                      0.000057\n",
            "871 - Barn - housing animals                                                     0.000057\n",
            "506 - Market - Outdoors (flowers, fruit, vegetable sales)                        0.000057\n",
            "640 - Mfg:  Canning, preserving, processing fruits, vegetables                   0.000057\n",
            "202 - Reformatory (with detention quarters)                                      0.000057\n",
            "719 - Sto: Other Agri Products, Food, Beverages, Tobacco, etc                    0.000057\n",
            "845 - Telephone Booth                                                            0.000057\n",
            "691 - Sto: Tank, Tank Farm, Other Liquids                                        0.000057\n",
            "699 - Sto: Other Chem/Petroleum/Paint/Plastic Products                           0.000057\n",
            "723 - Sto: Wearing Apparal                                                       0.000057\n",
            "343 - Tent                                                                       0.000057\n",
            "413 - Mailing, photocopying office                                               0.000057\n",
            "803 - Quarry                                                                     0.000057\n",
            "369 - Convent, Monastery                                                         0.000057\n",
            "729 - Sto: Other Textile Goods                                                   0.000057\n",
            "674 - Mfg: Precious Metals, Jewellery                                            0.000057\n",
            "752 - Sto: Secondary Metal Products                                              0.000057\n",
            "753 - Sto: Precision Goods/Instruments                                           0.000057\n",
            "203 - Adult Detention Camp (minimum security)                                    0.000057\n",
            "705 - Sto: Soft Drinks                                                           0.000057\n",
            "414 - Document centre, record repository (inc archives)                          0.000057\n",
            "620 - Heating Plant - central/district heating plant, steam, etc                 0.000057\n",
            "708 - Sto: Sugar Refining, Sugar Products                                        0.000057\n",
            "761 - Sto: Glass & Glass Products, pottery, chinaware                            0.000057\n",
            "Name: Property_Use, dtype: float64\n",
            "---------------------------------------\n",
            "---------------------------------------\n",
            "variable name: Smoke_Alarm_at_Fire_Origin \n",
            "\n",
            "number of categories:  6 \n",
            "\n",
            "2 - Floor/suite of fire origin: Smoke alarm present and operated               0.440075\n",
            "1 - Floor/suite of fire origin: No smoke alarm                                 0.219279\n",
            "3 - Floor/suite of fire origin: Smoke alarm present did not operate            0.153736\n",
            "9 - Floor/suite of fire origin: Smoke alarm presence undetermined              0.120029\n",
            "4 - Floor/suite of fire origin: Smoke alarm present, operation undetermined    0.066881\n",
            "Name: Smoke_Alarm_at_Fire_Origin, dtype: float64\n",
            "---------------------------------------\n",
            "---------------------------------------\n",
            "variable name: Smoke_Alarm_at_Fire_Origin_Alarm_Failure \n",
            "\n",
            "number of categories:  12 \n",
            "\n",
            "98 - Not applicable: Alarm operated OR presence/operation undetermined    0.692884\n",
            "4 - Remote from fire – smoke did not reach alarm                          0.099251\n",
            "99 - Reason for inoperation undetermined                                  0.055110\n",
            "9 - Other reason                                                          0.053861\n",
            "5 - Separated from fire (e.g. wall, etc)                                  0.034956\n",
            "1 - No battery                                                            0.016676\n",
            "7 - Unit failure                                                          0.015427\n",
            "2 - Dead battery                                                          0.013465\n",
            "3 - Electrical line or battery not connected                              0.011236\n",
            "6 - Improper installation of unit                                         0.004013\n",
            "8 - Tampered with (vandalism)                                             0.003121\n",
            "Name: Smoke_Alarm_at_Fire_Origin_Alarm_Failure, dtype: float64\n",
            "---------------------------------------\n",
            "---------------------------------------\n",
            "variable name: Smoke_Alarm_at_Fire_Origin_Alarm_Type \n",
            "\n",
            "number of categories:  7 \n",
            "\n",
            "8 - Not applicable - no smoke alarm or presence undetermined    0.229089\n",
            "1 - Battery operated                                            0.212235\n",
            "2 - Hardwired (standalone)                                      0.202961\n",
            "4 - Interconnected                                              0.184234\n",
            "9 - Type undetermined                                           0.169342\n",
            "3 - Wireless                                                    0.002140\n",
            "Name: Smoke_Alarm_at_Fire_Origin_Alarm_Type, dtype: float64\n",
            "---------------------------------------\n",
            "---------------------------------------\n",
            "variable name: Smoke_Alarm_Impact_on_Persons_Evacuating_Impact_on_Evacuation \n",
            "\n",
            "number of categories:  8 \n",
            "\n",
            "1 - All persons (at risk of injury) self evacuated as a result of hearing alarm    0.267255\n",
            "7 - Not applicable: Occupant(s) first alerted by other means                       0.232031\n",
            "8 - Not applicable: No alarm, no persons present                                   0.196005\n",
            "9 - Undetermined                                                                   0.124576\n",
            "2 - Some persons (at risk) self evacuated as a result of hearing alarm             0.099786\n",
            "3 - No one (at risk) evacuated as a result of hearing alarm                        0.077582\n",
            "4 - Alarm operated but failed to alert occupant(s) (at risk)                       0.002764\n",
            "Name: Smoke_Alarm_Impact_on_Persons_Evacuating_Impact_on_Evacuation, dtype: float64\n",
            "---------------------------------------\n",
            "---------------------------------------\n",
            "variable name: Smoke_Spread \n",
            "\n",
            "number of categories:  11 \n",
            "\n",
            "2 - Confined to part of room/area of origin                                         0.257535\n",
            "4 - Spread beyond room of origin, same floor                                        0.244872\n",
            "7 - Spread to other floors, confined to building                                    0.162565\n",
            "3 - Spread to entire room of origin                                                 0.082754\n",
            "8 - Entire Structure                                                                0.066167\n",
            "5 - Multi unit bldg: spread beyond suite of origin but not to separated suite(s)    0.048778\n",
            "99 - Undetermined                                                                   0.047976\n",
            "9 - Confined to roof/exterior structure                                             0.040931\n",
            "6 - Multi unit bldg: spread to separate suite(s)                                    0.026396\n",
            "10 - Spread beyond building of origin                                               0.022026\n",
            "Name: Smoke_Spread, dtype: float64\n",
            "---------------------------------------\n",
            "---------------------------------------\n",
            "variable name: Sprinkler_System_Operation \n",
            "\n",
            "number of categories:  8 \n",
            "\n",
            "8 - Not applicable - no sprinkler system present          0.613430\n",
            "2 - Did not activate: remote from fire                    0.145978\n",
            "1 - Sprinkler system activated                            0.078652\n",
            "9 - Activation/operation undetermined                     0.076601\n",
            "3 - Did not activate: fire too small to trigger system    0.065543\n",
            "4 - Other reason for non activation/operation             0.010166\n",
            "5 - Did not activate: reason unknown                      0.009631\n",
            "Name: Sprinkler_System_Operation, dtype: float64\n",
            "---------------------------------------\n",
            "---------------------------------------\n",
            "variable name: Sprinkler_System_Presence \n",
            "\n",
            "number of categories:  5 \n",
            "\n",
            "3 - No sprinkler system                 0.585875\n",
            "9 - Undetermined                        0.156768\n",
            "1 - Full sprinkler system present       0.154896\n",
            "2 - Partial sprinkler system present    0.102461\n",
            "Name: Sprinkler_System_Presence, dtype: float64\n",
            "---------------------------------------\n"
          ]
        }
      ]
    },
    {
      "cell_type": "markdown",
      "metadata": {
        "id": "jquRBmY13z1v"
      },
      "source": [
        "# Plot FSA data on map [link](https://stackoverflow.com/questions/58043978/display-data-on-real-map-based-on-postal-code)\n"
      ]
    },
    {
      "cell_type": "code",
      "metadata": {
        "id": "JLZMMmc7836r"
      },
      "source": [
        "#load sample data\n",
        "df=pd.read_csv('fire1_FSA.csv')"
      ],
      "execution_count": null,
      "outputs": []
    },
    {
      "cell_type": "code",
      "metadata": {
        "id": "D-APRgT29OgD"
      },
      "source": [
        "df['casualty_flag']=np.where(df['Civilian_Casualties']!=0, 1, 0)"
      ],
      "execution_count": null,
      "outputs": []
    },
    {
      "cell_type": "code",
      "metadata": {
        "id": "h81yoe_O99F8"
      },
      "source": [
        "df_casualty=df['casualty_flag'].groupby(df['FSA']).sum()\n",
        "df_incident=df['FSA'].value_counts()"
      ],
      "execution_count": null,
      "outputs": []
    },
    {
      "cell_type": "code",
      "metadata": {
        "id": "D2e5QkYmBK2q"
      },
      "source": [
        "df_casualty=df_casualty.reset_index()\n",
        "df_incident=df_incident.reset_index()"
      ],
      "execution_count": null,
      "outputs": []
    },
    {
      "cell_type": "code",
      "metadata": {
        "colab": {
          "base_uri": "https://localhost:8080/",
          "height": 204
        },
        "id": "s1Rvsm-VB6Gd",
        "outputId": "49a00c4c-ba38-4651-eb70-4d91252d8ff5"
      },
      "source": [
        "df_incident=df_incident.rename(columns={'index':'FSA', 'FSA':'count'})\n",
        "df_incident.head()"
      ],
      "execution_count": null,
      "outputs": [
        {
          "output_type": "execute_result",
          "data": {
            "text/html": [
              "<div>\n",
              "<style scoped>\n",
              "    .dataframe tbody tr th:only-of-type {\n",
              "        vertical-align: middle;\n",
              "    }\n",
              "\n",
              "    .dataframe tbody tr th {\n",
              "        vertical-align: top;\n",
              "    }\n",
              "\n",
              "    .dataframe thead th {\n",
              "        text-align: right;\n",
              "    }\n",
              "</style>\n",
              "<table border=\"1\" class=\"dataframe\">\n",
              "  <thead>\n",
              "    <tr style=\"text-align: right;\">\n",
              "      <th></th>\n",
              "      <th>FSA</th>\n",
              "      <th>count</th>\n",
              "    </tr>\n",
              "  </thead>\n",
              "  <tbody>\n",
              "    <tr>\n",
              "      <th>0</th>\n",
              "      <td>M5A</td>\n",
              "      <td>213</td>\n",
              "    </tr>\n",
              "    <tr>\n",
              "      <th>1</th>\n",
              "      <td>M5V</td>\n",
              "      <td>163</td>\n",
              "    </tr>\n",
              "    <tr>\n",
              "      <th>2</th>\n",
              "      <td>M3N</td>\n",
              "      <td>153</td>\n",
              "    </tr>\n",
              "    <tr>\n",
              "      <th>3</th>\n",
              "      <td>M4Y</td>\n",
              "      <td>153</td>\n",
              "    </tr>\n",
              "    <tr>\n",
              "      <th>4</th>\n",
              "      <td>M9W</td>\n",
              "      <td>153</td>\n",
              "    </tr>\n",
              "  </tbody>\n",
              "</table>\n",
              "</div>"
            ],
            "text/plain": [
              "    FSA  count\n",
              "0   M5A  213  \n",
              "1   M5V  163  \n",
              "2   M3N  153  \n",
              "3   M4Y  153  \n",
              "4   M9W  153  "
            ]
          },
          "metadata": {},
          "execution_count": 38
        }
      ]
    },
    {
      "cell_type": "code",
      "metadata": {
        "colab": {
          "base_uri": "https://localhost:8080/",
          "height": 204
        },
        "id": "WyKLlWC3Cw3b",
        "outputId": "574e4e63-81ef-4554-c392-64da9711b4d1"
      },
      "source": [
        "df_casualty.head()"
      ],
      "execution_count": null,
      "outputs": [
        {
          "output_type": "execute_result",
          "data": {
            "text/html": [
              "<div>\n",
              "<style scoped>\n",
              "    .dataframe tbody tr th:only-of-type {\n",
              "        vertical-align: middle;\n",
              "    }\n",
              "\n",
              "    .dataframe tbody tr th {\n",
              "        vertical-align: top;\n",
              "    }\n",
              "\n",
              "    .dataframe thead th {\n",
              "        text-align: right;\n",
              "    }\n",
              "</style>\n",
              "<table border=\"1\" class=\"dataframe\">\n",
              "  <thead>\n",
              "    <tr style=\"text-align: right;\">\n",
              "      <th></th>\n",
              "      <th>FSA</th>\n",
              "      <th>casualty_flag</th>\n",
              "    </tr>\n",
              "  </thead>\n",
              "  <tbody>\n",
              "    <tr>\n",
              "      <th>0</th>\n",
              "      <td>K4A</td>\n",
              "      <td>0</td>\n",
              "    </tr>\n",
              "    <tr>\n",
              "      <th>1</th>\n",
              "      <td>L1V</td>\n",
              "      <td>0</td>\n",
              "    </tr>\n",
              "    <tr>\n",
              "      <th>2</th>\n",
              "      <td>L3R</td>\n",
              "      <td>0</td>\n",
              "    </tr>\n",
              "    <tr>\n",
              "      <th>3</th>\n",
              "      <td>L3T</td>\n",
              "      <td>1</td>\n",
              "    </tr>\n",
              "    <tr>\n",
              "      <th>4</th>\n",
              "      <td>L4J</td>\n",
              "      <td>0</td>\n",
              "    </tr>\n",
              "  </tbody>\n",
              "</table>\n",
              "</div>"
            ],
            "text/plain": [
              "    FSA  casualty_flag\n",
              "0   K4A  0            \n",
              "1   L1V  0            \n",
              "2   L3R  0            \n",
              "3   L3T  1            \n",
              "4   L4J  0            "
            ]
          },
          "metadata": {},
          "execution_count": 36
        }
      ]
    },
    {
      "cell_type": "code",
      "metadata": {
        "id": "kIB7tCq-_Fvs"
      },
      "source": [
        "df_casualty_incident=df_incident.merge(df_casualty, how='left', on='FSA')"
      ],
      "execution_count": null,
      "outputs": []
    },
    {
      "cell_type": "code",
      "metadata": {
        "id": "dJzX9AusFUYZ"
      },
      "source": [
        "df_casualty_incident.head()\n",
        "df_casualty_incident['likelihood']=df_casualty_incident['casualty_flag']/df_casualty_incident['count']"
      ],
      "execution_count": null,
      "outputs": []
    },
    {
      "cell_type": "code",
      "metadata": {
        "colab": {
          "base_uri": "https://localhost:8080/"
        },
        "id": "X6GnP-l8HKx6",
        "outputId": "7d9c3c41-2fc9-4f34-9a01-44731d5c68fc"
      },
      "source": [
        "!pip install geopandas"
      ],
      "execution_count": null,
      "outputs": [
        {
          "output_type": "stream",
          "name": "stdout",
          "text": [
            "Collecting geopandas\n",
            "  Downloading geopandas-0.10.2-py2.py3-none-any.whl (1.0 MB)\n",
            "\u001b[K     |████████████████████████████████| 1.0 MB 4.7 MB/s \n",
            "\u001b[?25hCollecting pyproj>=2.2.0\n",
            "  Downloading pyproj-3.2.1-cp37-cp37m-manylinux2010_x86_64.whl (6.3 MB)\n",
            "\u001b[K     |████████████████████████████████| 6.3 MB 43.4 MB/s \n",
            "\u001b[?25hRequirement already satisfied: shapely>=1.6 in /usr/local/lib/python3.7/dist-packages (from geopandas) (1.8.0)\n",
            "Collecting fiona>=1.8\n",
            "  Downloading Fiona-1.8.20-cp37-cp37m-manylinux1_x86_64.whl (15.4 MB)\n",
            "\u001b[K     |████████████████████████████████| 15.4 MB 37 kB/s \n",
            "\u001b[?25hRequirement already satisfied: pandas>=0.25.0 in /usr/local/lib/python3.7/dist-packages (from geopandas) (1.1.5)\n",
            "Collecting click-plugins>=1.0\n",
            "  Downloading click_plugins-1.1.1-py2.py3-none-any.whl (7.5 kB)\n",
            "Requirement already satisfied: setuptools in /usr/local/lib/python3.7/dist-packages (from fiona>=1.8->geopandas) (57.4.0)\n",
            "Requirement already satisfied: certifi in /usr/local/lib/python3.7/dist-packages (from fiona>=1.8->geopandas) (2021.10.8)\n",
            "Collecting munch\n",
            "  Downloading munch-2.5.0-py2.py3-none-any.whl (10 kB)\n",
            "Requirement already satisfied: click>=4.0 in /usr/local/lib/python3.7/dist-packages (from fiona>=1.8->geopandas) (7.1.2)\n",
            "Requirement already satisfied: attrs>=17 in /usr/local/lib/python3.7/dist-packages (from fiona>=1.8->geopandas) (21.2.0)\n",
            "Collecting cligj>=0.5\n",
            "  Downloading cligj-0.7.2-py3-none-any.whl (7.1 kB)\n",
            "Requirement already satisfied: six>=1.7 in /usr/local/lib/python3.7/dist-packages (from fiona>=1.8->geopandas) (1.15.0)\n",
            "Requirement already satisfied: pytz>=2017.2 in /usr/local/lib/python3.7/dist-packages (from pandas>=0.25.0->geopandas) (2018.9)\n",
            "Requirement already satisfied: numpy>=1.15.4 in /usr/local/lib/python3.7/dist-packages (from pandas>=0.25.0->geopandas) (1.19.5)\n",
            "Requirement already satisfied: python-dateutil>=2.7.3 in /usr/local/lib/python3.7/dist-packages (from pandas>=0.25.0->geopandas) (2.8.2)\n",
            "Installing collected packages: munch, cligj, click-plugins, pyproj, fiona, geopandas\n",
            "Successfully installed click-plugins-1.1.1 cligj-0.7.2 fiona-1.8.20 geopandas-0.10.2 munch-2.5.0 pyproj-3.2.1\n"
          ]
        }
      ]
    },
    {
      "cell_type": "code",
      "metadata": {
        "colab": {
          "base_uri": "https://localhost:8080/"
        },
        "id": "1H7mhYUEHSnt",
        "outputId": "d0a16f0a-3b67-4d85-d0d1-81cacfe0635e"
      },
      "source": [
        "pip install pandas-bokeh"
      ],
      "execution_count": null,
      "outputs": [
        {
          "output_type": "stream",
          "name": "stdout",
          "text": [
            "Collecting pandas-bokeh\n",
            "  Downloading pandas_bokeh-0.5.5-py2.py3-none-any.whl (29 kB)\n",
            "Requirement already satisfied: bokeh>=2.0 in /usr/local/lib/python3.7/dist-packages (from pandas-bokeh) (2.3.3)\n",
            "Requirement already satisfied: pandas>=0.22.0 in /usr/local/lib/python3.7/dist-packages (from pandas-bokeh) (1.1.5)\n",
            "Requirement already satisfied: tornado>=5.1 in /usr/local/lib/python3.7/dist-packages (from bokeh>=2.0->pandas-bokeh) (5.1.1)\n",
            "Requirement already satisfied: typing-extensions>=3.7.4 in /usr/local/lib/python3.7/dist-packages (from bokeh>=2.0->pandas-bokeh) (3.10.0.2)\n",
            "Requirement already satisfied: python-dateutil>=2.1 in /usr/local/lib/python3.7/dist-packages (from bokeh>=2.0->pandas-bokeh) (2.8.2)\n",
            "Requirement already satisfied: numpy>=1.11.3 in /usr/local/lib/python3.7/dist-packages (from bokeh>=2.0->pandas-bokeh) (1.19.5)\n",
            "Requirement already satisfied: packaging>=16.8 in /usr/local/lib/python3.7/dist-packages (from bokeh>=2.0->pandas-bokeh) (21.3)\n",
            "Requirement already satisfied: Jinja2>=2.9 in /usr/local/lib/python3.7/dist-packages (from bokeh>=2.0->pandas-bokeh) (2.11.3)\n",
            "Requirement already satisfied: pillow>=7.1.0 in /usr/local/lib/python3.7/dist-packages (from bokeh>=2.0->pandas-bokeh) (7.1.2)\n",
            "Requirement already satisfied: PyYAML>=3.10 in /usr/local/lib/python3.7/dist-packages (from bokeh>=2.0->pandas-bokeh) (3.13)\n",
            "Requirement already satisfied: MarkupSafe>=0.23 in /usr/local/lib/python3.7/dist-packages (from Jinja2>=2.9->bokeh>=2.0->pandas-bokeh) (2.0.1)\n",
            "Requirement already satisfied: pyparsing!=3.0.5,>=2.0.2 in /usr/local/lib/python3.7/dist-packages (from packaging>=16.8->bokeh>=2.0->pandas-bokeh) (3.0.6)\n",
            "Requirement already satisfied: pytz>=2017.2 in /usr/local/lib/python3.7/dist-packages (from pandas>=0.22.0->pandas-bokeh) (2018.9)\n",
            "Requirement already satisfied: six>=1.5 in /usr/local/lib/python3.7/dist-packages (from python-dateutil>=2.1->bokeh>=2.0->pandas-bokeh) (1.15.0)\n",
            "Installing collected packages: pandas-bokeh\n",
            "Successfully installed pandas-bokeh-0.5.5\n"
          ]
        }
      ]
    },
    {
      "cell_type": "code",
      "metadata": {
        "colab": {
          "base_uri": "https://localhost:8080/",
          "height": 612
        },
        "id": "Mkg5BWwl4QTD",
        "outputId": "6ac39b7a-ce93-4713-bb01-b4fc7383a385"
      },
      "source": [
        "import geopandas\n",
        "import pandas as pd\n",
        "import pandas_bokeh\n",
        "import matplotlib.pyplot as plt\n",
        "pandas_bokeh.output_notebook()\n",
        "\n",
        "canada = geopandas.read_file(\"./gfsa000b11a_e.shp\")\n",
        "ontario = canada[canada['PRUID'] == '35']\n",
        "\n",
        "# Sample data to plot\n",
        "#df=pd.DataFrame({'PCODE': ['P0V','P0L','P0T','P0Y', 'P0G', 'P2N'], 'A':[6,3,5,2,2,4] })\n",
        "\n",
        "# Join ontario dataset with sample data\n",
        "new_df=ontario.join(df_casualty_incident.set_index('FSA'), on='CFSAUID')\n",
        "\n",
        "\n",
        "new_df.plot_bokeh(simplify_shapes=20000,\n",
        "                  category=\"casualty_flag\", \n",
        "                  colormap=\"Spectral\", \n",
        "                  hovertool_columns=[\"CFSAUID\",\"A\"])"
      ],
      "execution_count": null,
      "outputs": [
        {
          "output_type": "error",
          "ename": "DriverError",
          "evalue": "ignored",
          "traceback": [
            "\u001b[0;31m---------------------------------------------------------------------------\u001b[0m",
            "\u001b[0;31mCPLE_OpenFailedError\u001b[0m                      Traceback (most recent call last)",
            "\u001b[0;32mfiona/_shim.pyx\u001b[0m in \u001b[0;36mfiona._shim.gdal_open_vector\u001b[0;34m()\u001b[0m\n",
            "\u001b[0;32mfiona/_err.pyx\u001b[0m in \u001b[0;36mfiona._err.exc_wrap_pointer\u001b[0;34m()\u001b[0m\n",
            "\u001b[0;31mCPLE_OpenFailedError\u001b[0m: ./gfsa000b11a_e.shp: No such file or directory",
            "\nDuring handling of the above exception, another exception occurred:\n",
            "\u001b[0;31mDriverError\u001b[0m                               Traceback (most recent call last)",
            "\u001b[0;32m<ipython-input-49-278597c5d7dd>\u001b[0m in \u001b[0;36m<module>\u001b[0;34m()\u001b[0m\n\u001b[1;32m      5\u001b[0m \u001b[0mpandas_bokeh\u001b[0m\u001b[0;34m.\u001b[0m\u001b[0moutput_notebook\u001b[0m\u001b[0;34m(\u001b[0m\u001b[0;34m)\u001b[0m\u001b[0;34m\u001b[0m\u001b[0;34m\u001b[0m\u001b[0m\n\u001b[1;32m      6\u001b[0m \u001b[0;34m\u001b[0m\u001b[0m\n\u001b[0;32m----> 7\u001b[0;31m \u001b[0mcanada\u001b[0m \u001b[0;34m=\u001b[0m \u001b[0mgeopandas\u001b[0m\u001b[0;34m.\u001b[0m\u001b[0mread_file\u001b[0m\u001b[0;34m(\u001b[0m\u001b[0;34m\"./gfsa000b11a_e.shp\"\u001b[0m\u001b[0;34m)\u001b[0m\u001b[0;34m\u001b[0m\u001b[0;34m\u001b[0m\u001b[0m\n\u001b[0m\u001b[1;32m      8\u001b[0m \u001b[0montario\u001b[0m \u001b[0;34m=\u001b[0m \u001b[0mcanada\u001b[0m\u001b[0;34m[\u001b[0m\u001b[0mcanada\u001b[0m\u001b[0;34m[\u001b[0m\u001b[0;34m'PRUID'\u001b[0m\u001b[0;34m]\u001b[0m \u001b[0;34m==\u001b[0m \u001b[0;34m'35'\u001b[0m\u001b[0;34m]\u001b[0m\u001b[0;34m\u001b[0m\u001b[0;34m\u001b[0m\u001b[0m\n\u001b[1;32m      9\u001b[0m \u001b[0;34m\u001b[0m\u001b[0m\n",
            "\u001b[0;32m/usr/local/lib/python3.7/dist-packages/geopandas/io/file.py\u001b[0m in \u001b[0;36m_read_file\u001b[0;34m(filename, bbox, mask, rows, **kwargs)\u001b[0m\n\u001b[1;32m    199\u001b[0m \u001b[0;34m\u001b[0m\u001b[0m\n\u001b[1;32m    200\u001b[0m     \u001b[0;32mwith\u001b[0m \u001b[0mfiona_env\u001b[0m\u001b[0;34m(\u001b[0m\u001b[0;34m)\u001b[0m\u001b[0;34m:\u001b[0m\u001b[0;34m\u001b[0m\u001b[0;34m\u001b[0m\u001b[0m\n\u001b[0;32m--> 201\u001b[0;31m         \u001b[0;32mwith\u001b[0m \u001b[0mreader\u001b[0m\u001b[0;34m(\u001b[0m\u001b[0mpath_or_bytes\u001b[0m\u001b[0;34m,\u001b[0m \u001b[0;34m**\u001b[0m\u001b[0mkwargs\u001b[0m\u001b[0;34m)\u001b[0m \u001b[0;32mas\u001b[0m \u001b[0mfeatures\u001b[0m\u001b[0;34m:\u001b[0m\u001b[0;34m\u001b[0m\u001b[0;34m\u001b[0m\u001b[0m\n\u001b[0m\u001b[1;32m    202\u001b[0m \u001b[0;34m\u001b[0m\u001b[0m\n\u001b[1;32m    203\u001b[0m             \u001b[0;31m# In a future Fiona release the crs attribute of features will\u001b[0m\u001b[0;34m\u001b[0m\u001b[0;34m\u001b[0m\u001b[0;34m\u001b[0m\u001b[0m\n",
            "\u001b[0;32m/usr/local/lib/python3.7/dist-packages/fiona/env.py\u001b[0m in \u001b[0;36mwrapper\u001b[0;34m(*args, **kwargs)\u001b[0m\n\u001b[1;32m    406\u001b[0m     \u001b[0;32mdef\u001b[0m \u001b[0mwrapper\u001b[0m\u001b[0;34m(\u001b[0m\u001b[0;34m*\u001b[0m\u001b[0margs\u001b[0m\u001b[0;34m,\u001b[0m \u001b[0;34m**\u001b[0m\u001b[0mkwargs\u001b[0m\u001b[0;34m)\u001b[0m\u001b[0;34m:\u001b[0m\u001b[0;34m\u001b[0m\u001b[0;34m\u001b[0m\u001b[0m\n\u001b[1;32m    407\u001b[0m         \u001b[0;32mif\u001b[0m \u001b[0mlocal\u001b[0m\u001b[0;34m.\u001b[0m\u001b[0m_env\u001b[0m\u001b[0;34m:\u001b[0m\u001b[0;34m\u001b[0m\u001b[0;34m\u001b[0m\u001b[0m\n\u001b[0;32m--> 408\u001b[0;31m             \u001b[0;32mreturn\u001b[0m \u001b[0mf\u001b[0m\u001b[0;34m(\u001b[0m\u001b[0;34m*\u001b[0m\u001b[0margs\u001b[0m\u001b[0;34m,\u001b[0m \u001b[0;34m**\u001b[0m\u001b[0mkwargs\u001b[0m\u001b[0;34m)\u001b[0m\u001b[0;34m\u001b[0m\u001b[0;34m\u001b[0m\u001b[0m\n\u001b[0m\u001b[1;32m    409\u001b[0m         \u001b[0;32melse\u001b[0m\u001b[0;34m:\u001b[0m\u001b[0;34m\u001b[0m\u001b[0;34m\u001b[0m\u001b[0m\n\u001b[1;32m    410\u001b[0m             \u001b[0;32mif\u001b[0m \u001b[0misinstance\u001b[0m\u001b[0;34m(\u001b[0m\u001b[0margs\u001b[0m\u001b[0;34m[\u001b[0m\u001b[0;36m0\u001b[0m\u001b[0;34m]\u001b[0m\u001b[0;34m,\u001b[0m \u001b[0mstr\u001b[0m\u001b[0;34m)\u001b[0m\u001b[0;34m:\u001b[0m\u001b[0;34m\u001b[0m\u001b[0;34m\u001b[0m\u001b[0m\n",
            "\u001b[0;32m/usr/local/lib/python3.7/dist-packages/fiona/__init__.py\u001b[0m in \u001b[0;36mopen\u001b[0;34m(fp, mode, driver, schema, crs, encoding, layer, vfs, enabled_drivers, crs_wkt, **kwargs)\u001b[0m\n\u001b[1;32m    255\u001b[0m         \u001b[0;32mif\u001b[0m \u001b[0mmode\u001b[0m \u001b[0;32min\u001b[0m \u001b[0;34m(\u001b[0m\u001b[0;34m'a'\u001b[0m\u001b[0;34m,\u001b[0m \u001b[0;34m'r'\u001b[0m\u001b[0;34m)\u001b[0m\u001b[0;34m:\u001b[0m\u001b[0;34m\u001b[0m\u001b[0;34m\u001b[0m\u001b[0m\n\u001b[1;32m    256\u001b[0m             c = Collection(path, mode, driver=driver, encoding=encoding,\n\u001b[0;32m--> 257\u001b[0;31m                            layer=layer, enabled_drivers=enabled_drivers, **kwargs)\n\u001b[0m\u001b[1;32m    258\u001b[0m         \u001b[0;32melif\u001b[0m \u001b[0mmode\u001b[0m \u001b[0;34m==\u001b[0m \u001b[0;34m'w'\u001b[0m\u001b[0;34m:\u001b[0m\u001b[0;34m\u001b[0m\u001b[0;34m\u001b[0m\u001b[0m\n\u001b[1;32m    259\u001b[0m             \u001b[0;32mif\u001b[0m \u001b[0mschema\u001b[0m\u001b[0;34m:\u001b[0m\u001b[0;34m\u001b[0m\u001b[0;34m\u001b[0m\u001b[0m\n",
            "\u001b[0;32m/usr/local/lib/python3.7/dist-packages/fiona/collection.py\u001b[0m in \u001b[0;36m__init__\u001b[0;34m(self, path, mode, driver, schema, crs, encoding, layer, vsi, archive, enabled_drivers, crs_wkt, ignore_fields, ignore_geometry, **kwargs)\u001b[0m\n\u001b[1;32m    160\u001b[0m             \u001b[0;32mif\u001b[0m \u001b[0mself\u001b[0m\u001b[0;34m.\u001b[0m\u001b[0mmode\u001b[0m \u001b[0;34m==\u001b[0m \u001b[0;34m'r'\u001b[0m\u001b[0;34m:\u001b[0m\u001b[0;34m\u001b[0m\u001b[0;34m\u001b[0m\u001b[0m\n\u001b[1;32m    161\u001b[0m                 \u001b[0mself\u001b[0m\u001b[0;34m.\u001b[0m\u001b[0msession\u001b[0m \u001b[0;34m=\u001b[0m \u001b[0mSession\u001b[0m\u001b[0;34m(\u001b[0m\u001b[0;34m)\u001b[0m\u001b[0;34m\u001b[0m\u001b[0;34m\u001b[0m\u001b[0m\n\u001b[0;32m--> 162\u001b[0;31m                 \u001b[0mself\u001b[0m\u001b[0;34m.\u001b[0m\u001b[0msession\u001b[0m\u001b[0;34m.\u001b[0m\u001b[0mstart\u001b[0m\u001b[0;34m(\u001b[0m\u001b[0mself\u001b[0m\u001b[0;34m,\u001b[0m \u001b[0;34m**\u001b[0m\u001b[0mkwargs\u001b[0m\u001b[0;34m)\u001b[0m\u001b[0;34m\u001b[0m\u001b[0;34m\u001b[0m\u001b[0m\n\u001b[0m\u001b[1;32m    163\u001b[0m             \u001b[0;32melif\u001b[0m \u001b[0mself\u001b[0m\u001b[0;34m.\u001b[0m\u001b[0mmode\u001b[0m \u001b[0;32min\u001b[0m \u001b[0;34m(\u001b[0m\u001b[0;34m'a'\u001b[0m\u001b[0;34m,\u001b[0m \u001b[0;34m'w'\u001b[0m\u001b[0;34m)\u001b[0m\u001b[0;34m:\u001b[0m\u001b[0;34m\u001b[0m\u001b[0;34m\u001b[0m\u001b[0m\n\u001b[1;32m    164\u001b[0m                 \u001b[0mself\u001b[0m\u001b[0;34m.\u001b[0m\u001b[0msession\u001b[0m \u001b[0;34m=\u001b[0m \u001b[0mWritingSession\u001b[0m\u001b[0;34m(\u001b[0m\u001b[0;34m)\u001b[0m\u001b[0;34m\u001b[0m\u001b[0;34m\u001b[0m\u001b[0m\n",
            "\u001b[0;32mfiona/ogrext.pyx\u001b[0m in \u001b[0;36mfiona.ogrext.Session.start\u001b[0;34m()\u001b[0m\n",
            "\u001b[0;32mfiona/_shim.pyx\u001b[0m in \u001b[0;36mfiona._shim.gdal_open_vector\u001b[0;34m()\u001b[0m\n",
            "\u001b[0;31mDriverError\u001b[0m: ./gfsa000b11a_e.shp: No such file or directory"
          ]
        }
      ]
    }
  ]
}