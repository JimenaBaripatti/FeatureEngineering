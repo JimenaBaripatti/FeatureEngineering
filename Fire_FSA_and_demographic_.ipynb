{
  "nbformat": 4,
  "nbformat_minor": 0,
  "metadata": {
    "colab": {
      "name": "Fire - FSA and demographic .ipynb",
      "provenance": [],
      "toc_visible": true,
      "history_visible": true,
      "authorship_tag": "ABX9TyNAR+Psm7uAcFVbcYHxIFgx",
      "include_colab_link": true
    },
    "kernelspec": {
      "name": "python3",
      "display_name": "Python 3"
    },
    "language_info": {
      "name": "python"
    }
  },
  "cells": [
    {
      "cell_type": "markdown",
      "metadata": {
        "id": "view-in-github",
        "colab_type": "text"
      },
      "source": [
        "<a href=\"https://colab.research.google.com/github/JimenaBaripatti/FeatureEngineering/blob/main/Fire_FSA_and_demographic_.ipynb\" target=\"_parent\"><img src=\"https://colab.research.google.com/assets/colab-badge.svg\" alt=\"Open In Colab\"/></a>"
      ]
    },
    {
      "cell_type": "code",
      "metadata": {
        "colab": {
          "base_uri": "https://localhost:8080/"
        },
        "id": "cizTrfNHRyyu",
        "outputId": "2e156b74-4fed-4c2b-cde9-e2d9c827c0e1"
      },
      "source": [
        "from google.colab import drive\n",
        "drive.mount('/content/drive')"
      ],
      "execution_count": null,
      "outputs": [
        {
          "output_type": "stream",
          "name": "stdout",
          "text": [
            "Drive already mounted at /content/drive; to attempt to forcibly remount, call drive.mount(\"/content/drive\", force_remount=True).\n"
          ]
        }
      ]
    },
    {
      "cell_type": "markdown",
      "metadata": {
        "id": "smeUFIWBeBzO"
      },
      "source": [
        "# Fire data"
      ]
    },
    {
      "cell_type": "code",
      "metadata": {
        "colab": {
          "base_uri": "https://localhost:8080/"
        },
        "id": "heGB8lJx9NWF",
        "outputId": "ee04c5bc-7f9e-4821-de2d-8bf83060da3b"
      },
      "source": [
        "# setting up libraries\n",
        "import os\n",
        "import pandas as pd\n",
        "import numpy as np\n",
        "import matplotlib.pyplot as plt\n",
        "import seaborn as sns\n",
        "from scipy.stats import norm \n",
        "import statistics\n",
        "from sklearn.metrics import matthews_corrcoef\n",
        "from scipy.stats import chi2_contingency\n",
        "import math\n",
        "from patsy import dmatrices\n",
        "from statsmodels.stats.outliers_influence import variance_inflation_factor\n",
        "from sklearn.ensemble import IsolationForest\n",
        "from scipy.stats import zscore\n",
        "\n",
        "pd.set_option('display.max_rows', None)\n",
        "pd.set_option('display.max_columns', None)\n",
        "pd.set_option('display.width', None)\n",
        "pd.set_option('display.max_colwidth', -1)\n",
        "\n",
        "%matplotlib inline\n",
        "\n",
        "\n",
        "# Setting working directory\n",
        "os.chdir(\"/content/drive/MyDrive/Colab Notebooks/Data/\")"
      ],
      "execution_count": null,
      "outputs": [
        {
          "output_type": "stream",
          "name": "stderr",
          "text": [
            "/usr/local/lib/python3.7/dist-packages/ipykernel_launcher.py:20: FutureWarning: Passing a negative integer is deprecated in version 1.0 and will not be supported in future version. Instead, use None to not limit the column width.\n"
          ]
        }
      ]
    },
    {
      "cell_type": "code",
      "metadata": {
        "id": "AiDE5MBRea84"
      },
      "source": [
        "df=pd.read_csv('Fire Incidents Data.csv')"
      ],
      "execution_count": null,
      "outputs": []
    },
    {
      "cell_type": "markdown",
      "metadata": {
        "id": "WhCVVQpFxM_g"
      },
      "source": [
        "##Add new feature: FSA based on Latitude and Longitude"
      ]
    },
    {
      "cell_type": "code",
      "metadata": {
        "colab": {
          "base_uri": "https://localhost:8080/",
          "height": 561
        },
        "id": "3B5OenzDQZzl",
        "outputId": "e013eb60-f2e8-46ec-eeeb-279587fef852"
      },
      "source": [
        "#df['latitude']=str(df['latitude'])\n",
        "#df['latitude'].dtypes"
      ],
      "execution_count": null,
      "outputs": [
        {
          "output_type": "error",
          "ename": "KeyError",
          "evalue": "ignored",
          "traceback": [
            "\u001b[0;31m---------------------------------------------------------------------------\u001b[0m",
            "\u001b[0;31mKeyError\u001b[0m                                  Traceback (most recent call last)",
            "\u001b[0;32m/usr/local/lib/python3.7/dist-packages/pandas/core/indexes/base.py\u001b[0m in \u001b[0;36mget_loc\u001b[0;34m(self, key, method, tolerance)\u001b[0m\n\u001b[1;32m   2897\u001b[0m             \u001b[0;32mtry\u001b[0m\u001b[0;34m:\u001b[0m\u001b[0;34m\u001b[0m\u001b[0;34m\u001b[0m\u001b[0m\n\u001b[0;32m-> 2898\u001b[0;31m                 \u001b[0;32mreturn\u001b[0m \u001b[0mself\u001b[0m\u001b[0;34m.\u001b[0m\u001b[0m_engine\u001b[0m\u001b[0;34m.\u001b[0m\u001b[0mget_loc\u001b[0m\u001b[0;34m(\u001b[0m\u001b[0mcasted_key\u001b[0m\u001b[0;34m)\u001b[0m\u001b[0;34m\u001b[0m\u001b[0;34m\u001b[0m\u001b[0m\n\u001b[0m\u001b[1;32m   2899\u001b[0m             \u001b[0;32mexcept\u001b[0m \u001b[0mKeyError\u001b[0m \u001b[0;32mas\u001b[0m \u001b[0merr\u001b[0m\u001b[0;34m:\u001b[0m\u001b[0;34m\u001b[0m\u001b[0;34m\u001b[0m\u001b[0m\n",
            "\u001b[0;32mpandas/_libs/index.pyx\u001b[0m in \u001b[0;36mpandas._libs.index.IndexEngine.get_loc\u001b[0;34m()\u001b[0m\n",
            "\u001b[0;32mpandas/_libs/index.pyx\u001b[0m in \u001b[0;36mpandas._libs.index.IndexEngine.get_loc\u001b[0;34m()\u001b[0m\n",
            "\u001b[0;32mpandas/_libs/hashtable_class_helper.pxi\u001b[0m in \u001b[0;36mpandas._libs.hashtable.PyObjectHashTable.get_item\u001b[0;34m()\u001b[0m\n",
            "\u001b[0;32mpandas/_libs/hashtable_class_helper.pxi\u001b[0m in \u001b[0;36mpandas._libs.hashtable.PyObjectHashTable.get_item\u001b[0;34m()\u001b[0m\n",
            "\u001b[0;31mKeyError\u001b[0m: 'latitude'",
            "\nThe above exception was the direct cause of the following exception:\n",
            "\u001b[0;31mKeyError\u001b[0m                                  Traceback (most recent call last)",
            "\u001b[0;32m<ipython-input-15-d154d5e40bd8>\u001b[0m in \u001b[0;36m<module>\u001b[0;34m()\u001b[0m\n\u001b[0;32m----> 1\u001b[0;31m \u001b[0mdf\u001b[0m\u001b[0;34m[\u001b[0m\u001b[0;34m'latitude'\u001b[0m\u001b[0;34m]\u001b[0m\u001b[0;34m=\u001b[0m\u001b[0mstr\u001b[0m\u001b[0;34m(\u001b[0m\u001b[0mdf\u001b[0m\u001b[0;34m[\u001b[0m\u001b[0;34m'latitude'\u001b[0m\u001b[0;34m]\u001b[0m\u001b[0;34m)\u001b[0m\u001b[0;34m\u001b[0m\u001b[0;34m\u001b[0m\u001b[0m\n\u001b[0m\u001b[1;32m      2\u001b[0m \u001b[0mdf\u001b[0m\u001b[0;34m[\u001b[0m\u001b[0;34m'latitude'\u001b[0m\u001b[0;34m]\u001b[0m\u001b[0;34m.\u001b[0m\u001b[0mdtypes\u001b[0m\u001b[0;34m\u001b[0m\u001b[0;34m\u001b[0m\u001b[0m\n",
            "\u001b[0;32m/usr/local/lib/python3.7/dist-packages/pandas/core/frame.py\u001b[0m in \u001b[0;36m__getitem__\u001b[0;34m(self, key)\u001b[0m\n\u001b[1;32m   2904\u001b[0m             \u001b[0;32mif\u001b[0m \u001b[0mself\u001b[0m\u001b[0;34m.\u001b[0m\u001b[0mcolumns\u001b[0m\u001b[0;34m.\u001b[0m\u001b[0mnlevels\u001b[0m \u001b[0;34m>\u001b[0m \u001b[0;36m1\u001b[0m\u001b[0;34m:\u001b[0m\u001b[0;34m\u001b[0m\u001b[0;34m\u001b[0m\u001b[0m\n\u001b[1;32m   2905\u001b[0m                 \u001b[0;32mreturn\u001b[0m \u001b[0mself\u001b[0m\u001b[0;34m.\u001b[0m\u001b[0m_getitem_multilevel\u001b[0m\u001b[0;34m(\u001b[0m\u001b[0mkey\u001b[0m\u001b[0;34m)\u001b[0m\u001b[0;34m\u001b[0m\u001b[0;34m\u001b[0m\u001b[0m\n\u001b[0;32m-> 2906\u001b[0;31m             \u001b[0mindexer\u001b[0m \u001b[0;34m=\u001b[0m \u001b[0mself\u001b[0m\u001b[0;34m.\u001b[0m\u001b[0mcolumns\u001b[0m\u001b[0;34m.\u001b[0m\u001b[0mget_loc\u001b[0m\u001b[0;34m(\u001b[0m\u001b[0mkey\u001b[0m\u001b[0;34m)\u001b[0m\u001b[0;34m\u001b[0m\u001b[0;34m\u001b[0m\u001b[0m\n\u001b[0m\u001b[1;32m   2907\u001b[0m             \u001b[0;32mif\u001b[0m \u001b[0mis_integer\u001b[0m\u001b[0;34m(\u001b[0m\u001b[0mindexer\u001b[0m\u001b[0;34m)\u001b[0m\u001b[0;34m:\u001b[0m\u001b[0;34m\u001b[0m\u001b[0;34m\u001b[0m\u001b[0m\n\u001b[1;32m   2908\u001b[0m                 \u001b[0mindexer\u001b[0m \u001b[0;34m=\u001b[0m \u001b[0;34m[\u001b[0m\u001b[0mindexer\u001b[0m\u001b[0;34m]\u001b[0m\u001b[0;34m\u001b[0m\u001b[0;34m\u001b[0m\u001b[0m\n",
            "\u001b[0;32m/usr/local/lib/python3.7/dist-packages/pandas/core/indexes/base.py\u001b[0m in \u001b[0;36mget_loc\u001b[0;34m(self, key, method, tolerance)\u001b[0m\n\u001b[1;32m   2898\u001b[0m                 \u001b[0;32mreturn\u001b[0m \u001b[0mself\u001b[0m\u001b[0;34m.\u001b[0m\u001b[0m_engine\u001b[0m\u001b[0;34m.\u001b[0m\u001b[0mget_loc\u001b[0m\u001b[0;34m(\u001b[0m\u001b[0mcasted_key\u001b[0m\u001b[0;34m)\u001b[0m\u001b[0;34m\u001b[0m\u001b[0;34m\u001b[0m\u001b[0m\n\u001b[1;32m   2899\u001b[0m             \u001b[0;32mexcept\u001b[0m \u001b[0mKeyError\u001b[0m \u001b[0;32mas\u001b[0m \u001b[0merr\u001b[0m\u001b[0;34m:\u001b[0m\u001b[0;34m\u001b[0m\u001b[0;34m\u001b[0m\u001b[0m\n\u001b[0;32m-> 2900\u001b[0;31m                 \u001b[0;32mraise\u001b[0m \u001b[0mKeyError\u001b[0m\u001b[0;34m(\u001b[0m\u001b[0mkey\u001b[0m\u001b[0;34m)\u001b[0m \u001b[0;32mfrom\u001b[0m \u001b[0merr\u001b[0m\u001b[0;34m\u001b[0m\u001b[0;34m\u001b[0m\u001b[0m\n\u001b[0m\u001b[1;32m   2901\u001b[0m \u001b[0;34m\u001b[0m\u001b[0m\n\u001b[1;32m   2902\u001b[0m         \u001b[0;32mif\u001b[0m \u001b[0mtolerance\u001b[0m \u001b[0;32mis\u001b[0m \u001b[0;32mnot\u001b[0m \u001b[0;32mNone\u001b[0m\u001b[0;34m:\u001b[0m\u001b[0;34m\u001b[0m\u001b[0;34m\u001b[0m\u001b[0m\n",
            "\u001b[0;31mKeyError\u001b[0m: 'latitude'"
          ]
        }
      ]
    },
    {
      "cell_type": "code",
      "metadata": {
        "id": "k6sf8a_SNNpr"
      },
      "source": [
        "#df['Coord']=df[['Latitude','Longitude']].apply(lambda x: ','.join(x.astype(str)), axis=1)"
      ],
      "execution_count": null,
      "outputs": []
    },
    {
      "cell_type": "code",
      "metadata": {
        "colab": {
          "base_uri": "https://localhost:8080/"
        },
        "id": "ryqkPj2_Yole",
        "outputId": "a292a5f5-ffec-41fa-d83b-6f75e4ad4696"
      },
      "source": [
        "#Extract postal code from latitude and longitude information \n",
        "#Reverse Geocoding\n",
        "\n",
        "from geopy.geocoders import Nominatim #from open street maps and its free\n",
        "from geopy.geocoders import GoogleV3\n",
        "from geopy.geocoders import Bing\n",
        "\n",
        "# create the locator\n",
        "geolocator = Nominatim(user_agent=\"jsqzhu@gmail.com\") # user_agent=\"specify_your_app_name_here\" \n",
        "# you may need to use your own email if the next step gives you HTTP Error 403\n"
      ],
      "execution_count": null,
      "outputs": [
        {
          "output_type": "stream",
          "name": "stdout",
          "text": [
            "Dixon Road, West Humber-Clairville, Etobicoke, Toronto, Golden Horseshoe, Ontario, M9W 5N4, Canada\n"
          ]
        }
      ]
    },
    {
      "cell_type": "code",
      "metadata": {
        "colab": {
          "base_uri": "https://localhost:8080/",
          "height": 323
        },
        "id": "JvIIaxm6WvZL",
        "outputId": "04f95af5-0e63-40b7-e88b-5b47ddc9131d"
      },
      "source": [
        "# getting the postal code\n",
        "df['location'] = df.apply(lambda x: geolocator.reverse(str(x['Latitude'])+\", \"+str(x['Longitude'])).address.split(\",\")[-2], axis=1)"
      ],
      "execution_count": null,
      "outputs": [
        {
          "output_type": "error",
          "ename": "KeyboardInterrupt",
          "evalue": "ignored",
          "traceback": [
            "\u001b[0;31m---------------------------------------------------------------------------\u001b[0m",
            "\u001b[0;31mKeyboardInterrupt\u001b[0m                         Traceback (most recent call last)",
            "\u001b[0;32m<ipython-input-49-2da397927b87>\u001b[0m in \u001b[0;36m<module>\u001b[0;34m()\u001b[0m\n\u001b[1;32m      1\u001b[0m \u001b[0;31m# getting the location address\u001b[0m\u001b[0;34m\u001b[0m\u001b[0;34m\u001b[0m\u001b[0;34m\u001b[0m\u001b[0m\n\u001b[0;32m----> 2\u001b[0;31m \u001b[0mdf\u001b[0m\u001b[0;34m[\u001b[0m\u001b[0;34m'location'\u001b[0m\u001b[0;34m]\u001b[0m \u001b[0;34m=\u001b[0m \u001b[0mdf\u001b[0m\u001b[0;34m.\u001b[0m\u001b[0mapply\u001b[0m\u001b[0;34m(\u001b[0m\u001b[0;32mlambda\u001b[0m \u001b[0mx\u001b[0m\u001b[0;34m:\u001b[0m \u001b[0mgeolocator\u001b[0m\u001b[0;34m.\u001b[0m\u001b[0mreverse\u001b[0m\u001b[0;34m(\u001b[0m\u001b[0mstr\u001b[0m\u001b[0;34m(\u001b[0m\u001b[0mx\u001b[0m\u001b[0;34m[\u001b[0m\u001b[0;34m'Latitude'\u001b[0m\u001b[0;34m]\u001b[0m\u001b[0;34m)\u001b[0m\u001b[0;34m+\u001b[0m\u001b[0;34m\", \"\u001b[0m\u001b[0;34m+\u001b[0m\u001b[0mstr\u001b[0m\u001b[0;34m(\u001b[0m\u001b[0mx\u001b[0m\u001b[0;34m[\u001b[0m\u001b[0;34m'Longitude'\u001b[0m\u001b[0;34m]\u001b[0m\u001b[0;34m)\u001b[0m\u001b[0;34m)\u001b[0m\u001b[0;34m.\u001b[0m\u001b[0maddress\u001b[0m\u001b[0;34m.\u001b[0m\u001b[0msplit\u001b[0m\u001b[0;34m(\u001b[0m\u001b[0;34m\",\"\u001b[0m\u001b[0;34m)\u001b[0m\u001b[0;34m[\u001b[0m\u001b[0;34m-\u001b[0m\u001b[0;36m2\u001b[0m\u001b[0;34m]\u001b[0m\u001b[0;34m,\u001b[0m \u001b[0maxis\u001b[0m\u001b[0;34m=\u001b[0m\u001b[0;36m1\u001b[0m\u001b[0;34m)\u001b[0m\u001b[0;34m\u001b[0m\u001b[0;34m\u001b[0m\u001b[0m\n\u001b[0m",
            "\u001b[0;32m/usr/local/lib/python3.7/dist-packages/pandas/core/frame.py\u001b[0m in \u001b[0;36mapply\u001b[0;34m(self, func, axis, raw, result_type, args, **kwds)\u001b[0m\n\u001b[1;32m   7550\u001b[0m             \u001b[0mkwds\u001b[0m\u001b[0;34m=\u001b[0m\u001b[0mkwds\u001b[0m\u001b[0;34m,\u001b[0m\u001b[0;34m\u001b[0m\u001b[0;34m\u001b[0m\u001b[0m\n\u001b[1;32m   7551\u001b[0m         )\n\u001b[0;32m-> 7552\u001b[0;31m         \u001b[0;32mreturn\u001b[0m \u001b[0mop\u001b[0m\u001b[0;34m.\u001b[0m\u001b[0mget_result\u001b[0m\u001b[0;34m(\u001b[0m\u001b[0;34m)\u001b[0m\u001b[0;34m\u001b[0m\u001b[0;34m\u001b[0m\u001b[0m\n\u001b[0m\u001b[1;32m   7553\u001b[0m \u001b[0;34m\u001b[0m\u001b[0m\n\u001b[1;32m   7554\u001b[0m     \u001b[0;32mdef\u001b[0m \u001b[0mapplymap\u001b[0m\u001b[0;34m(\u001b[0m\u001b[0mself\u001b[0m\u001b[0;34m,\u001b[0m \u001b[0mfunc\u001b[0m\u001b[0;34m)\u001b[0m \u001b[0;34m->\u001b[0m \u001b[0;34m\"DataFrame\"\u001b[0m\u001b[0;34m:\u001b[0m\u001b[0;34m\u001b[0m\u001b[0;34m\u001b[0m\u001b[0m\n",
            "\u001b[0;32m/usr/local/lib/python3.7/dist-packages/pandas/core/apply.py\u001b[0m in \u001b[0;36mget_result\u001b[0;34m(self)\u001b[0m\n\u001b[1;32m    183\u001b[0m             \u001b[0;32mreturn\u001b[0m \u001b[0mself\u001b[0m\u001b[0;34m.\u001b[0m\u001b[0mapply_raw\u001b[0m\u001b[0;34m(\u001b[0m\u001b[0;34m)\u001b[0m\u001b[0;34m\u001b[0m\u001b[0;34m\u001b[0m\u001b[0m\n\u001b[1;32m    184\u001b[0m \u001b[0;34m\u001b[0m\u001b[0m\n\u001b[0;32m--> 185\u001b[0;31m         \u001b[0;32mreturn\u001b[0m \u001b[0mself\u001b[0m\u001b[0;34m.\u001b[0m\u001b[0mapply_standard\u001b[0m\u001b[0;34m(\u001b[0m\u001b[0;34m)\u001b[0m\u001b[0;34m\u001b[0m\u001b[0;34m\u001b[0m\u001b[0m\n\u001b[0m\u001b[1;32m    186\u001b[0m \u001b[0;34m\u001b[0m\u001b[0m\n\u001b[1;32m    187\u001b[0m     \u001b[0;32mdef\u001b[0m \u001b[0mapply_empty_result\u001b[0m\u001b[0;34m(\u001b[0m\u001b[0mself\u001b[0m\u001b[0;34m)\u001b[0m\u001b[0;34m:\u001b[0m\u001b[0;34m\u001b[0m\u001b[0;34m\u001b[0m\u001b[0m\n",
            "\u001b[0;32m/usr/local/lib/python3.7/dist-packages/pandas/core/apply.py\u001b[0m in \u001b[0;36mapply_standard\u001b[0;34m(self)\u001b[0m\n\u001b[1;32m    274\u001b[0m \u001b[0;34m\u001b[0m\u001b[0m\n\u001b[1;32m    275\u001b[0m     \u001b[0;32mdef\u001b[0m \u001b[0mapply_standard\u001b[0m\u001b[0;34m(\u001b[0m\u001b[0mself\u001b[0m\u001b[0;34m)\u001b[0m\u001b[0;34m:\u001b[0m\u001b[0;34m\u001b[0m\u001b[0;34m\u001b[0m\u001b[0m\n\u001b[0;32m--> 276\u001b[0;31m         \u001b[0mresults\u001b[0m\u001b[0;34m,\u001b[0m \u001b[0mres_index\u001b[0m \u001b[0;34m=\u001b[0m \u001b[0mself\u001b[0m\u001b[0;34m.\u001b[0m\u001b[0mapply_series_generator\u001b[0m\u001b[0;34m(\u001b[0m\u001b[0;34m)\u001b[0m\u001b[0;34m\u001b[0m\u001b[0;34m\u001b[0m\u001b[0m\n\u001b[0m\u001b[1;32m    277\u001b[0m \u001b[0;34m\u001b[0m\u001b[0m\n\u001b[1;32m    278\u001b[0m         \u001b[0;31m# wrap results\u001b[0m\u001b[0;34m\u001b[0m\u001b[0;34m\u001b[0m\u001b[0;34m\u001b[0m\u001b[0m\n",
            "\u001b[0;32m/usr/local/lib/python3.7/dist-packages/pandas/core/apply.py\u001b[0m in \u001b[0;36mapply_series_generator\u001b[0;34m(self)\u001b[0m\n\u001b[1;32m    303\u001b[0m                 \u001b[0;32mfor\u001b[0m \u001b[0mi\u001b[0m\u001b[0;34m,\u001b[0m \u001b[0mv\u001b[0m \u001b[0;32min\u001b[0m \u001b[0menumerate\u001b[0m\u001b[0;34m(\u001b[0m\u001b[0mseries_gen\u001b[0m\u001b[0;34m)\u001b[0m\u001b[0;34m:\u001b[0m\u001b[0;34m\u001b[0m\u001b[0;34m\u001b[0m\u001b[0m\n\u001b[1;32m    304\u001b[0m                     \u001b[0;31m# ignore SettingWithCopy here in case the user mutates\u001b[0m\u001b[0;34m\u001b[0m\u001b[0;34m\u001b[0m\u001b[0;34m\u001b[0m\u001b[0m\n\u001b[0;32m--> 305\u001b[0;31m                     \u001b[0mresults\u001b[0m\u001b[0;34m[\u001b[0m\u001b[0mi\u001b[0m\u001b[0;34m]\u001b[0m \u001b[0;34m=\u001b[0m \u001b[0mself\u001b[0m\u001b[0;34m.\u001b[0m\u001b[0mf\u001b[0m\u001b[0;34m(\u001b[0m\u001b[0mv\u001b[0m\u001b[0;34m)\u001b[0m\u001b[0;34m\u001b[0m\u001b[0;34m\u001b[0m\u001b[0m\n\u001b[0m\u001b[1;32m    306\u001b[0m                     \u001b[0;32mif\u001b[0m \u001b[0misinstance\u001b[0m\u001b[0;34m(\u001b[0m\u001b[0mresults\u001b[0m\u001b[0;34m[\u001b[0m\u001b[0mi\u001b[0m\u001b[0;34m]\u001b[0m\u001b[0;34m,\u001b[0m \u001b[0mABCSeries\u001b[0m\u001b[0;34m)\u001b[0m\u001b[0;34m:\u001b[0m\u001b[0;34m\u001b[0m\u001b[0;34m\u001b[0m\u001b[0m\n\u001b[1;32m    307\u001b[0m                         \u001b[0;31m# If we have a view on v, we need to make a copy because\u001b[0m\u001b[0;34m\u001b[0m\u001b[0;34m\u001b[0m\u001b[0;34m\u001b[0m\u001b[0m\n",
            "\u001b[0;32m<ipython-input-49-2da397927b87>\u001b[0m in \u001b[0;36m<lambda>\u001b[0;34m(x)\u001b[0m\n\u001b[1;32m      1\u001b[0m \u001b[0;31m# getting the location address\u001b[0m\u001b[0;34m\u001b[0m\u001b[0;34m\u001b[0m\u001b[0;34m\u001b[0m\u001b[0m\n\u001b[0;32m----> 2\u001b[0;31m \u001b[0mdf\u001b[0m\u001b[0;34m[\u001b[0m\u001b[0;34m'location'\u001b[0m\u001b[0;34m]\u001b[0m \u001b[0;34m=\u001b[0m \u001b[0mdf\u001b[0m\u001b[0;34m.\u001b[0m\u001b[0mapply\u001b[0m\u001b[0;34m(\u001b[0m\u001b[0;32mlambda\u001b[0m \u001b[0mx\u001b[0m\u001b[0;34m:\u001b[0m \u001b[0mgeolocator\u001b[0m\u001b[0;34m.\u001b[0m\u001b[0mreverse\u001b[0m\u001b[0;34m(\u001b[0m\u001b[0mstr\u001b[0m\u001b[0;34m(\u001b[0m\u001b[0mx\u001b[0m\u001b[0;34m[\u001b[0m\u001b[0;34m'Latitude'\u001b[0m\u001b[0;34m]\u001b[0m\u001b[0;34m)\u001b[0m\u001b[0;34m+\u001b[0m\u001b[0;34m\", \"\u001b[0m\u001b[0;34m+\u001b[0m\u001b[0mstr\u001b[0m\u001b[0;34m(\u001b[0m\u001b[0mx\u001b[0m\u001b[0;34m[\u001b[0m\u001b[0;34m'Longitude'\u001b[0m\u001b[0;34m]\u001b[0m\u001b[0;34m)\u001b[0m\u001b[0;34m)\u001b[0m\u001b[0;34m.\u001b[0m\u001b[0maddress\u001b[0m\u001b[0;34m.\u001b[0m\u001b[0msplit\u001b[0m\u001b[0;34m(\u001b[0m\u001b[0;34m\",\"\u001b[0m\u001b[0;34m)\u001b[0m\u001b[0;34m[\u001b[0m\u001b[0;34m-\u001b[0m\u001b[0;36m2\u001b[0m\u001b[0;34m]\u001b[0m\u001b[0;34m,\u001b[0m \u001b[0maxis\u001b[0m\u001b[0;34m=\u001b[0m\u001b[0;36m1\u001b[0m\u001b[0;34m)\u001b[0m\u001b[0;34m\u001b[0m\u001b[0;34m\u001b[0m\u001b[0m\n\u001b[0m",
            "\u001b[0;32m/usr/local/lib/python3.7/dist-packages/geopy/geocoders/osm.py\u001b[0m in \u001b[0;36mreverse\u001b[0;34m(self, query, exactly_one, timeout, language, addressdetails)\u001b[0m\n\u001b[1;32m    367\u001b[0m \u001b[0;34m\u001b[0m\u001b[0m\n\u001b[1;32m    368\u001b[0m         return self._parse_json(\n\u001b[0;32m--> 369\u001b[0;31m             \u001b[0mself\u001b[0m\u001b[0;34m.\u001b[0m\u001b[0m_call_geocoder\u001b[0m\u001b[0;34m(\u001b[0m\u001b[0murl\u001b[0m\u001b[0;34m,\u001b[0m \u001b[0mtimeout\u001b[0m\u001b[0;34m=\u001b[0m\u001b[0mtimeout\u001b[0m\u001b[0;34m)\u001b[0m\u001b[0;34m,\u001b[0m \u001b[0mexactly_one\u001b[0m\u001b[0;34m\u001b[0m\u001b[0;34m\u001b[0m\u001b[0m\n\u001b[0m\u001b[1;32m    370\u001b[0m         )\n\u001b[1;32m    371\u001b[0m \u001b[0;34m\u001b[0m\u001b[0m\n",
            "\u001b[0;32m/usr/local/lib/python3.7/dist-packages/geopy/geocoders/base.py\u001b[0m in \u001b[0;36m_call_geocoder\u001b[0;34m(self, url, timeout, raw, requester, deserializer, **kwargs)\u001b[0m\n\u001b[1;32m    342\u001b[0m \u001b[0;34m\u001b[0m\u001b[0m\n\u001b[1;32m    343\u001b[0m         \u001b[0;32mtry\u001b[0m\u001b[0;34m:\u001b[0m\u001b[0;34m\u001b[0m\u001b[0;34m\u001b[0m\u001b[0m\n\u001b[0;32m--> 344\u001b[0;31m             \u001b[0mpage\u001b[0m \u001b[0;34m=\u001b[0m \u001b[0mrequester\u001b[0m\u001b[0;34m(\u001b[0m\u001b[0mreq\u001b[0m\u001b[0;34m,\u001b[0m \u001b[0mtimeout\u001b[0m\u001b[0;34m=\u001b[0m\u001b[0mtimeout\u001b[0m\u001b[0;34m,\u001b[0m \u001b[0;34m**\u001b[0m\u001b[0mkwargs\u001b[0m\u001b[0;34m)\u001b[0m\u001b[0;34m\u001b[0m\u001b[0;34m\u001b[0m\u001b[0m\n\u001b[0m\u001b[1;32m    345\u001b[0m         \u001b[0;32mexcept\u001b[0m \u001b[0mException\u001b[0m \u001b[0;32mas\u001b[0m \u001b[0merror\u001b[0m\u001b[0;34m:\u001b[0m\u001b[0;34m\u001b[0m\u001b[0;34m\u001b[0m\u001b[0m\n\u001b[1;32m    346\u001b[0m             message = (\n",
            "\u001b[0;32m/usr/lib/python3.7/urllib/request.py\u001b[0m in \u001b[0;36mopen\u001b[0;34m(self, fullurl, data, timeout)\u001b[0m\n\u001b[1;32m    523\u001b[0m             \u001b[0mreq\u001b[0m \u001b[0;34m=\u001b[0m \u001b[0mmeth\u001b[0m\u001b[0;34m(\u001b[0m\u001b[0mreq\u001b[0m\u001b[0;34m)\u001b[0m\u001b[0;34m\u001b[0m\u001b[0;34m\u001b[0m\u001b[0m\n\u001b[1;32m    524\u001b[0m \u001b[0;34m\u001b[0m\u001b[0m\n\u001b[0;32m--> 525\u001b[0;31m         \u001b[0mresponse\u001b[0m \u001b[0;34m=\u001b[0m \u001b[0mself\u001b[0m\u001b[0;34m.\u001b[0m\u001b[0m_open\u001b[0m\u001b[0;34m(\u001b[0m\u001b[0mreq\u001b[0m\u001b[0;34m,\u001b[0m \u001b[0mdata\u001b[0m\u001b[0;34m)\u001b[0m\u001b[0;34m\u001b[0m\u001b[0;34m\u001b[0m\u001b[0m\n\u001b[0m\u001b[1;32m    526\u001b[0m \u001b[0;34m\u001b[0m\u001b[0m\n\u001b[1;32m    527\u001b[0m         \u001b[0;31m# post-process response\u001b[0m\u001b[0;34m\u001b[0m\u001b[0;34m\u001b[0m\u001b[0;34m\u001b[0m\u001b[0m\n",
            "\u001b[0;32m/usr/lib/python3.7/urllib/request.py\u001b[0m in \u001b[0;36m_open\u001b[0;34m(self, req, data)\u001b[0m\n\u001b[1;32m    541\u001b[0m         \u001b[0mprotocol\u001b[0m \u001b[0;34m=\u001b[0m \u001b[0mreq\u001b[0m\u001b[0;34m.\u001b[0m\u001b[0mtype\u001b[0m\u001b[0;34m\u001b[0m\u001b[0;34m\u001b[0m\u001b[0m\n\u001b[1;32m    542\u001b[0m         result = self._call_chain(self.handle_open, protocol, protocol +\n\u001b[0;32m--> 543\u001b[0;31m                                   '_open', req)\n\u001b[0m\u001b[1;32m    544\u001b[0m         \u001b[0;32mif\u001b[0m \u001b[0mresult\u001b[0m\u001b[0;34m:\u001b[0m\u001b[0;34m\u001b[0m\u001b[0;34m\u001b[0m\u001b[0m\n\u001b[1;32m    545\u001b[0m             \u001b[0;32mreturn\u001b[0m \u001b[0mresult\u001b[0m\u001b[0;34m\u001b[0m\u001b[0;34m\u001b[0m\u001b[0m\n",
            "\u001b[0;32m/usr/lib/python3.7/urllib/request.py\u001b[0m in \u001b[0;36m_call_chain\u001b[0;34m(self, chain, kind, meth_name, *args)\u001b[0m\n\u001b[1;32m    501\u001b[0m         \u001b[0;32mfor\u001b[0m \u001b[0mhandler\u001b[0m \u001b[0;32min\u001b[0m \u001b[0mhandlers\u001b[0m\u001b[0;34m:\u001b[0m\u001b[0;34m\u001b[0m\u001b[0;34m\u001b[0m\u001b[0m\n\u001b[1;32m    502\u001b[0m             \u001b[0mfunc\u001b[0m \u001b[0;34m=\u001b[0m \u001b[0mgetattr\u001b[0m\u001b[0;34m(\u001b[0m\u001b[0mhandler\u001b[0m\u001b[0;34m,\u001b[0m \u001b[0mmeth_name\u001b[0m\u001b[0;34m)\u001b[0m\u001b[0;34m\u001b[0m\u001b[0;34m\u001b[0m\u001b[0m\n\u001b[0;32m--> 503\u001b[0;31m             \u001b[0mresult\u001b[0m \u001b[0;34m=\u001b[0m \u001b[0mfunc\u001b[0m\u001b[0;34m(\u001b[0m\u001b[0;34m*\u001b[0m\u001b[0margs\u001b[0m\u001b[0;34m)\u001b[0m\u001b[0;34m\u001b[0m\u001b[0;34m\u001b[0m\u001b[0m\n\u001b[0m\u001b[1;32m    504\u001b[0m             \u001b[0;32mif\u001b[0m \u001b[0mresult\u001b[0m \u001b[0;32mis\u001b[0m \u001b[0;32mnot\u001b[0m \u001b[0;32mNone\u001b[0m\u001b[0;34m:\u001b[0m\u001b[0;34m\u001b[0m\u001b[0;34m\u001b[0m\u001b[0m\n\u001b[1;32m    505\u001b[0m                 \u001b[0;32mreturn\u001b[0m \u001b[0mresult\u001b[0m\u001b[0;34m\u001b[0m\u001b[0;34m\u001b[0m\u001b[0m\n",
            "\u001b[0;32m/usr/lib/python3.7/urllib/request.py\u001b[0m in \u001b[0;36mhttps_open\u001b[0;34m(self, req)\u001b[0m\n\u001b[1;32m   1391\u001b[0m         \u001b[0;32mdef\u001b[0m \u001b[0mhttps_open\u001b[0m\u001b[0;34m(\u001b[0m\u001b[0mself\u001b[0m\u001b[0;34m,\u001b[0m \u001b[0mreq\u001b[0m\u001b[0;34m)\u001b[0m\u001b[0;34m:\u001b[0m\u001b[0;34m\u001b[0m\u001b[0;34m\u001b[0m\u001b[0m\n\u001b[1;32m   1392\u001b[0m             return self.do_open(http.client.HTTPSConnection, req,\n\u001b[0;32m-> 1393\u001b[0;31m                 context=self._context, check_hostname=self._check_hostname)\n\u001b[0m\u001b[1;32m   1394\u001b[0m \u001b[0;34m\u001b[0m\u001b[0m\n\u001b[1;32m   1395\u001b[0m         \u001b[0mhttps_request\u001b[0m \u001b[0;34m=\u001b[0m \u001b[0mAbstractHTTPHandler\u001b[0m\u001b[0;34m.\u001b[0m\u001b[0mdo_request_\u001b[0m\u001b[0;34m\u001b[0m\u001b[0;34m\u001b[0m\u001b[0m\n",
            "\u001b[0;32m/usr/lib/python3.7/urllib/request.py\u001b[0m in \u001b[0;36mdo_open\u001b[0;34m(self, http_class, req, **http_conn_args)\u001b[0m\n\u001b[1;32m   1348\u001b[0m             \u001b[0;32mtry\u001b[0m\u001b[0;34m:\u001b[0m\u001b[0;34m\u001b[0m\u001b[0;34m\u001b[0m\u001b[0m\n\u001b[1;32m   1349\u001b[0m                 h.request(req.get_method(), req.selector, req.data, headers,\n\u001b[0;32m-> 1350\u001b[0;31m                           encode_chunked=req.has_header('Transfer-encoding'))\n\u001b[0m\u001b[1;32m   1351\u001b[0m             \u001b[0;32mexcept\u001b[0m \u001b[0mOSError\u001b[0m \u001b[0;32mas\u001b[0m \u001b[0merr\u001b[0m\u001b[0;34m:\u001b[0m \u001b[0;31m# timeout error\u001b[0m\u001b[0;34m\u001b[0m\u001b[0;34m\u001b[0m\u001b[0m\n\u001b[1;32m   1352\u001b[0m                 \u001b[0;32mraise\u001b[0m \u001b[0mURLError\u001b[0m\u001b[0;34m(\u001b[0m\u001b[0merr\u001b[0m\u001b[0;34m)\u001b[0m\u001b[0;34m\u001b[0m\u001b[0;34m\u001b[0m\u001b[0m\n",
            "\u001b[0;32m/usr/lib/python3.7/http/client.py\u001b[0m in \u001b[0;36mrequest\u001b[0;34m(self, method, url, body, headers, encode_chunked)\u001b[0m\n\u001b[1;32m   1279\u001b[0m                 encode_chunked=False):\n\u001b[1;32m   1280\u001b[0m         \u001b[0;34m\"\"\"Send a complete request to the server.\"\"\"\u001b[0m\u001b[0;34m\u001b[0m\u001b[0;34m\u001b[0m\u001b[0m\n\u001b[0;32m-> 1281\u001b[0;31m         \u001b[0mself\u001b[0m\u001b[0;34m.\u001b[0m\u001b[0m_send_request\u001b[0m\u001b[0;34m(\u001b[0m\u001b[0mmethod\u001b[0m\u001b[0;34m,\u001b[0m \u001b[0murl\u001b[0m\u001b[0;34m,\u001b[0m \u001b[0mbody\u001b[0m\u001b[0;34m,\u001b[0m \u001b[0mheaders\u001b[0m\u001b[0;34m,\u001b[0m \u001b[0mencode_chunked\u001b[0m\u001b[0;34m)\u001b[0m\u001b[0;34m\u001b[0m\u001b[0;34m\u001b[0m\u001b[0m\n\u001b[0m\u001b[1;32m   1282\u001b[0m \u001b[0;34m\u001b[0m\u001b[0m\n\u001b[1;32m   1283\u001b[0m     \u001b[0;32mdef\u001b[0m \u001b[0m_send_request\u001b[0m\u001b[0;34m(\u001b[0m\u001b[0mself\u001b[0m\u001b[0;34m,\u001b[0m \u001b[0mmethod\u001b[0m\u001b[0;34m,\u001b[0m \u001b[0murl\u001b[0m\u001b[0;34m,\u001b[0m \u001b[0mbody\u001b[0m\u001b[0;34m,\u001b[0m \u001b[0mheaders\u001b[0m\u001b[0;34m,\u001b[0m \u001b[0mencode_chunked\u001b[0m\u001b[0;34m)\u001b[0m\u001b[0;34m:\u001b[0m\u001b[0;34m\u001b[0m\u001b[0;34m\u001b[0m\u001b[0m\n",
            "\u001b[0;32m/usr/lib/python3.7/http/client.py\u001b[0m in \u001b[0;36m_send_request\u001b[0;34m(self, method, url, body, headers, encode_chunked)\u001b[0m\n\u001b[1;32m   1325\u001b[0m             \u001b[0;31m# default charset of iso-8859-1.\u001b[0m\u001b[0;34m\u001b[0m\u001b[0;34m\u001b[0m\u001b[0;34m\u001b[0m\u001b[0m\n\u001b[1;32m   1326\u001b[0m             \u001b[0mbody\u001b[0m \u001b[0;34m=\u001b[0m \u001b[0m_encode\u001b[0m\u001b[0;34m(\u001b[0m\u001b[0mbody\u001b[0m\u001b[0;34m,\u001b[0m \u001b[0;34m'body'\u001b[0m\u001b[0;34m)\u001b[0m\u001b[0;34m\u001b[0m\u001b[0;34m\u001b[0m\u001b[0m\n\u001b[0;32m-> 1327\u001b[0;31m         \u001b[0mself\u001b[0m\u001b[0;34m.\u001b[0m\u001b[0mendheaders\u001b[0m\u001b[0;34m(\u001b[0m\u001b[0mbody\u001b[0m\u001b[0;34m,\u001b[0m \u001b[0mencode_chunked\u001b[0m\u001b[0;34m=\u001b[0m\u001b[0mencode_chunked\u001b[0m\u001b[0;34m)\u001b[0m\u001b[0;34m\u001b[0m\u001b[0;34m\u001b[0m\u001b[0m\n\u001b[0m\u001b[1;32m   1328\u001b[0m \u001b[0;34m\u001b[0m\u001b[0m\n\u001b[1;32m   1329\u001b[0m     \u001b[0;32mdef\u001b[0m \u001b[0mgetresponse\u001b[0m\u001b[0;34m(\u001b[0m\u001b[0mself\u001b[0m\u001b[0;34m)\u001b[0m\u001b[0;34m:\u001b[0m\u001b[0;34m\u001b[0m\u001b[0;34m\u001b[0m\u001b[0m\n",
            "\u001b[0;32m/usr/lib/python3.7/http/client.py\u001b[0m in \u001b[0;36mendheaders\u001b[0;34m(self, message_body, encode_chunked)\u001b[0m\n\u001b[1;32m   1274\u001b[0m         \u001b[0;32melse\u001b[0m\u001b[0;34m:\u001b[0m\u001b[0;34m\u001b[0m\u001b[0;34m\u001b[0m\u001b[0m\n\u001b[1;32m   1275\u001b[0m             \u001b[0;32mraise\u001b[0m \u001b[0mCannotSendHeader\u001b[0m\u001b[0;34m(\u001b[0m\u001b[0;34m)\u001b[0m\u001b[0;34m\u001b[0m\u001b[0;34m\u001b[0m\u001b[0m\n\u001b[0;32m-> 1276\u001b[0;31m         \u001b[0mself\u001b[0m\u001b[0;34m.\u001b[0m\u001b[0m_send_output\u001b[0m\u001b[0;34m(\u001b[0m\u001b[0mmessage_body\u001b[0m\u001b[0;34m,\u001b[0m \u001b[0mencode_chunked\u001b[0m\u001b[0;34m=\u001b[0m\u001b[0mencode_chunked\u001b[0m\u001b[0;34m)\u001b[0m\u001b[0;34m\u001b[0m\u001b[0;34m\u001b[0m\u001b[0m\n\u001b[0m\u001b[1;32m   1277\u001b[0m \u001b[0;34m\u001b[0m\u001b[0m\n\u001b[1;32m   1278\u001b[0m     def request(self, method, url, body=None, headers={}, *,\n",
            "\u001b[0;32m/usr/lib/python3.7/http/client.py\u001b[0m in \u001b[0;36m_send_output\u001b[0;34m(self, message_body, encode_chunked)\u001b[0m\n\u001b[1;32m   1034\u001b[0m         \u001b[0mmsg\u001b[0m \u001b[0;34m=\u001b[0m \u001b[0;34mb\"\\r\\n\"\u001b[0m\u001b[0;34m.\u001b[0m\u001b[0mjoin\u001b[0m\u001b[0;34m(\u001b[0m\u001b[0mself\u001b[0m\u001b[0;34m.\u001b[0m\u001b[0m_buffer\u001b[0m\u001b[0;34m)\u001b[0m\u001b[0;34m\u001b[0m\u001b[0;34m\u001b[0m\u001b[0m\n\u001b[1;32m   1035\u001b[0m         \u001b[0;32mdel\u001b[0m \u001b[0mself\u001b[0m\u001b[0;34m.\u001b[0m\u001b[0m_buffer\u001b[0m\u001b[0;34m[\u001b[0m\u001b[0;34m:\u001b[0m\u001b[0;34m]\u001b[0m\u001b[0;34m\u001b[0m\u001b[0;34m\u001b[0m\u001b[0m\n\u001b[0;32m-> 1036\u001b[0;31m         \u001b[0mself\u001b[0m\u001b[0;34m.\u001b[0m\u001b[0msend\u001b[0m\u001b[0;34m(\u001b[0m\u001b[0mmsg\u001b[0m\u001b[0;34m)\u001b[0m\u001b[0;34m\u001b[0m\u001b[0;34m\u001b[0m\u001b[0m\n\u001b[0m\u001b[1;32m   1037\u001b[0m \u001b[0;34m\u001b[0m\u001b[0m\n\u001b[1;32m   1038\u001b[0m         \u001b[0;32mif\u001b[0m \u001b[0mmessage_body\u001b[0m \u001b[0;32mis\u001b[0m \u001b[0;32mnot\u001b[0m \u001b[0;32mNone\u001b[0m\u001b[0;34m:\u001b[0m\u001b[0;34m\u001b[0m\u001b[0;34m\u001b[0m\u001b[0m\n",
            "\u001b[0;32m/usr/lib/python3.7/http/client.py\u001b[0m in \u001b[0;36msend\u001b[0;34m(self, data)\u001b[0m\n\u001b[1;32m    974\u001b[0m         \u001b[0;32mif\u001b[0m \u001b[0mself\u001b[0m\u001b[0;34m.\u001b[0m\u001b[0msock\u001b[0m \u001b[0;32mis\u001b[0m \u001b[0;32mNone\u001b[0m\u001b[0;34m:\u001b[0m\u001b[0;34m\u001b[0m\u001b[0;34m\u001b[0m\u001b[0m\n\u001b[1;32m    975\u001b[0m             \u001b[0;32mif\u001b[0m \u001b[0mself\u001b[0m\u001b[0;34m.\u001b[0m\u001b[0mauto_open\u001b[0m\u001b[0;34m:\u001b[0m\u001b[0;34m\u001b[0m\u001b[0;34m\u001b[0m\u001b[0m\n\u001b[0;32m--> 976\u001b[0;31m                 \u001b[0mself\u001b[0m\u001b[0;34m.\u001b[0m\u001b[0mconnect\u001b[0m\u001b[0;34m(\u001b[0m\u001b[0;34m)\u001b[0m\u001b[0;34m\u001b[0m\u001b[0;34m\u001b[0m\u001b[0m\n\u001b[0m\u001b[1;32m    977\u001b[0m             \u001b[0;32melse\u001b[0m\u001b[0;34m:\u001b[0m\u001b[0;34m\u001b[0m\u001b[0;34m\u001b[0m\u001b[0m\n\u001b[1;32m    978\u001b[0m                 \u001b[0;32mraise\u001b[0m \u001b[0mNotConnected\u001b[0m\u001b[0;34m(\u001b[0m\u001b[0;34m)\u001b[0m\u001b[0;34m\u001b[0m\u001b[0;34m\u001b[0m\u001b[0m\n",
            "\u001b[0;32m/usr/lib/python3.7/http/client.py\u001b[0m in \u001b[0;36mconnect\u001b[0;34m(self)\u001b[0m\n\u001b[1;32m   1441\u001b[0m             \u001b[0;34m\"Connect to a host on a given (SSL) port.\"\u001b[0m\u001b[0;34m\u001b[0m\u001b[0;34m\u001b[0m\u001b[0m\n\u001b[1;32m   1442\u001b[0m \u001b[0;34m\u001b[0m\u001b[0m\n\u001b[0;32m-> 1443\u001b[0;31m             \u001b[0msuper\u001b[0m\u001b[0;34m(\u001b[0m\u001b[0;34m)\u001b[0m\u001b[0;34m.\u001b[0m\u001b[0mconnect\u001b[0m\u001b[0;34m(\u001b[0m\u001b[0;34m)\u001b[0m\u001b[0;34m\u001b[0m\u001b[0;34m\u001b[0m\u001b[0m\n\u001b[0m\u001b[1;32m   1444\u001b[0m \u001b[0;34m\u001b[0m\u001b[0m\n\u001b[1;32m   1445\u001b[0m             \u001b[0;32mif\u001b[0m \u001b[0mself\u001b[0m\u001b[0;34m.\u001b[0m\u001b[0m_tunnel_host\u001b[0m\u001b[0;34m:\u001b[0m\u001b[0;34m\u001b[0m\u001b[0;34m\u001b[0m\u001b[0m\n",
            "\u001b[0;32m/usr/lib/python3.7/http/client.py\u001b[0m in \u001b[0;36mconnect\u001b[0;34m(self)\u001b[0m\n\u001b[1;32m    946\u001b[0m         \u001b[0;34m\"\"\"Connect to the host and port specified in __init__.\"\"\"\u001b[0m\u001b[0;34m\u001b[0m\u001b[0;34m\u001b[0m\u001b[0m\n\u001b[1;32m    947\u001b[0m         self.sock = self._create_connection(\n\u001b[0;32m--> 948\u001b[0;31m             (self.host,self.port), self.timeout, self.source_address)\n\u001b[0m\u001b[1;32m    949\u001b[0m         \u001b[0mself\u001b[0m\u001b[0;34m.\u001b[0m\u001b[0msock\u001b[0m\u001b[0;34m.\u001b[0m\u001b[0msetsockopt\u001b[0m\u001b[0;34m(\u001b[0m\u001b[0msocket\u001b[0m\u001b[0;34m.\u001b[0m\u001b[0mIPPROTO_TCP\u001b[0m\u001b[0;34m,\u001b[0m \u001b[0msocket\u001b[0m\u001b[0;34m.\u001b[0m\u001b[0mTCP_NODELAY\u001b[0m\u001b[0;34m,\u001b[0m \u001b[0;36m1\u001b[0m\u001b[0;34m)\u001b[0m\u001b[0;34m\u001b[0m\u001b[0;34m\u001b[0m\u001b[0m\n\u001b[1;32m    950\u001b[0m \u001b[0;34m\u001b[0m\u001b[0m\n",
            "\u001b[0;32m/usr/lib/python3.7/socket.py\u001b[0m in \u001b[0;36mcreate_connection\u001b[0;34m(address, timeout, source_address)\u001b[0m\n\u001b[1;32m    714\u001b[0m             \u001b[0;32mif\u001b[0m \u001b[0msource_address\u001b[0m\u001b[0;34m:\u001b[0m\u001b[0;34m\u001b[0m\u001b[0;34m\u001b[0m\u001b[0m\n\u001b[1;32m    715\u001b[0m                 \u001b[0msock\u001b[0m\u001b[0;34m.\u001b[0m\u001b[0mbind\u001b[0m\u001b[0;34m(\u001b[0m\u001b[0msource_address\u001b[0m\u001b[0;34m)\u001b[0m\u001b[0;34m\u001b[0m\u001b[0;34m\u001b[0m\u001b[0m\n\u001b[0;32m--> 716\u001b[0;31m             \u001b[0msock\u001b[0m\u001b[0;34m.\u001b[0m\u001b[0mconnect\u001b[0m\u001b[0;34m(\u001b[0m\u001b[0msa\u001b[0m\u001b[0;34m)\u001b[0m\u001b[0;34m\u001b[0m\u001b[0;34m\u001b[0m\u001b[0m\n\u001b[0m\u001b[1;32m    717\u001b[0m             \u001b[0;31m# Break explicitly a reference cycle\u001b[0m\u001b[0;34m\u001b[0m\u001b[0;34m\u001b[0m\u001b[0;34m\u001b[0m\u001b[0m\n\u001b[1;32m    718\u001b[0m             \u001b[0merr\u001b[0m \u001b[0;34m=\u001b[0m \u001b[0;32mNone\u001b[0m\u001b[0;34m\u001b[0m\u001b[0;34m\u001b[0m\u001b[0m\n",
            "\u001b[0;31mKeyboardInterrupt\u001b[0m: "
          ]
        }
      ]
    },
    {
      "cell_type": "code",
      "metadata": {
        "colab": {
          "base_uri": "https://localhost:8080/",
          "height": 357
        },
        "id": "TIQ-V3wzb_p7",
        "outputId": "53220a42-83e4-4e4a-e772-c85e35d5f5f6"
      },
      "source": [
        "# extracting FSA from location: the first three letters from 'location'"
      ],
      "execution_count": null,
      "outputs": [
        {
          "output_type": "error",
          "ename": "KeyboardInterrupt",
          "evalue": "ignored",
          "traceback": [
            "\u001b[0;31m---------------------------------------------------------------------------\u001b[0m",
            "\u001b[0;31mKeyboardInterrupt\u001b[0m                         Traceback (most recent call last)",
            "\u001b[0;32m<ipython-input-52-50d99be9e4b5>\u001b[0m in \u001b[0;36m<module>\u001b[0;34m()\u001b[0m\n\u001b[1;32m      1\u001b[0m \u001b[0;31m# extracting FSA from location: the first three letters\u001b[0m\u001b[0;34m\u001b[0m\u001b[0;34m\u001b[0m\u001b[0;34m\u001b[0m\u001b[0m\n\u001b[0;32m----> 2\u001b[0;31m \u001b[0mdf\u001b[0m\u001b[0;34m[\u001b[0m\u001b[0;34m'FSA'\u001b[0m\u001b[0;34m]\u001b[0m\u001b[0;34m=\u001b[0m\u001b[0mdf\u001b[0m\u001b[0;34m[\u001b[0m\u001b[0;34m'Coord'\u001b[0m\u001b[0;34m]\u001b[0m\u001b[0;34m.\u001b[0m\u001b[0mapply\u001b[0m\u001b[0;34m(\u001b[0m\u001b[0;32mlambda\u001b[0m \u001b[0mx\u001b[0m\u001b[0;34m:\u001b[0m \u001b[0mgeolocator\u001b[0m\u001b[0;34m.\u001b[0m\u001b[0mreverse\u001b[0m\u001b[0;34m(\u001b[0m\u001b[0mx\u001b[0m\u001b[0;34m)\u001b[0m\u001b[0;34m)\u001b[0m\u001b[0;34m\u001b[0m\u001b[0;34m\u001b[0m\u001b[0m\n\u001b[0m",
            "\u001b[0;32m/usr/local/lib/python3.7/dist-packages/pandas/core/series.py\u001b[0m in \u001b[0;36mapply\u001b[0;34m(self, func, convert_dtype, args, **kwds)\u001b[0m\n\u001b[1;32m   4211\u001b[0m             \u001b[0;32melse\u001b[0m\u001b[0;34m:\u001b[0m\u001b[0;34m\u001b[0m\u001b[0;34m\u001b[0m\u001b[0m\n\u001b[1;32m   4212\u001b[0m                 \u001b[0mvalues\u001b[0m \u001b[0;34m=\u001b[0m \u001b[0mself\u001b[0m\u001b[0;34m.\u001b[0m\u001b[0mastype\u001b[0m\u001b[0;34m(\u001b[0m\u001b[0mobject\u001b[0m\u001b[0;34m)\u001b[0m\u001b[0;34m.\u001b[0m\u001b[0m_values\u001b[0m\u001b[0;34m\u001b[0m\u001b[0;34m\u001b[0m\u001b[0m\n\u001b[0;32m-> 4213\u001b[0;31m                 \u001b[0mmapped\u001b[0m \u001b[0;34m=\u001b[0m \u001b[0mlib\u001b[0m\u001b[0;34m.\u001b[0m\u001b[0mmap_infer\u001b[0m\u001b[0;34m(\u001b[0m\u001b[0mvalues\u001b[0m\u001b[0;34m,\u001b[0m \u001b[0mf\u001b[0m\u001b[0;34m,\u001b[0m \u001b[0mconvert\u001b[0m\u001b[0;34m=\u001b[0m\u001b[0mconvert_dtype\u001b[0m\u001b[0;34m)\u001b[0m\u001b[0;34m\u001b[0m\u001b[0;34m\u001b[0m\u001b[0m\n\u001b[0m\u001b[1;32m   4214\u001b[0m \u001b[0;34m\u001b[0m\u001b[0m\n\u001b[1;32m   4215\u001b[0m         \u001b[0;32mif\u001b[0m \u001b[0mlen\u001b[0m\u001b[0;34m(\u001b[0m\u001b[0mmapped\u001b[0m\u001b[0;34m)\u001b[0m \u001b[0;32mand\u001b[0m \u001b[0misinstance\u001b[0m\u001b[0;34m(\u001b[0m\u001b[0mmapped\u001b[0m\u001b[0;34m[\u001b[0m\u001b[0;36m0\u001b[0m\u001b[0;34m]\u001b[0m\u001b[0;34m,\u001b[0m \u001b[0mSeries\u001b[0m\u001b[0;34m)\u001b[0m\u001b[0;34m:\u001b[0m\u001b[0;34m\u001b[0m\u001b[0;34m\u001b[0m\u001b[0m\n",
            "\u001b[0;32mpandas/_libs/lib.pyx\u001b[0m in \u001b[0;36mpandas._libs.lib.map_infer\u001b[0;34m()\u001b[0m\n",
            "\u001b[0;32m<ipython-input-52-50d99be9e4b5>\u001b[0m in \u001b[0;36m<lambda>\u001b[0;34m(x)\u001b[0m\n\u001b[1;32m      1\u001b[0m \u001b[0;31m# extracting FSA from location: the first three letters\u001b[0m\u001b[0;34m\u001b[0m\u001b[0;34m\u001b[0m\u001b[0;34m\u001b[0m\u001b[0m\n\u001b[0;32m----> 2\u001b[0;31m \u001b[0mdf\u001b[0m\u001b[0;34m[\u001b[0m\u001b[0;34m'FSA'\u001b[0m\u001b[0;34m]\u001b[0m\u001b[0;34m=\u001b[0m\u001b[0mdf\u001b[0m\u001b[0;34m[\u001b[0m\u001b[0;34m'Coord'\u001b[0m\u001b[0;34m]\u001b[0m\u001b[0;34m.\u001b[0m\u001b[0mapply\u001b[0m\u001b[0;34m(\u001b[0m\u001b[0;32mlambda\u001b[0m \u001b[0mx\u001b[0m\u001b[0;34m:\u001b[0m \u001b[0mgeolocator\u001b[0m\u001b[0;34m.\u001b[0m\u001b[0mreverse\u001b[0m\u001b[0;34m(\u001b[0m\u001b[0mx\u001b[0m\u001b[0;34m)\u001b[0m\u001b[0;34m)\u001b[0m\u001b[0;34m\u001b[0m\u001b[0;34m\u001b[0m\u001b[0m\n\u001b[0m",
            "\u001b[0;32m/usr/local/lib/python3.7/dist-packages/geopy/geocoders/osm.py\u001b[0m in \u001b[0;36mreverse\u001b[0;34m(self, query, exactly_one, timeout, language, addressdetails)\u001b[0m\n\u001b[1;32m    367\u001b[0m \u001b[0;34m\u001b[0m\u001b[0m\n\u001b[1;32m    368\u001b[0m         return self._parse_json(\n\u001b[0;32m--> 369\u001b[0;31m             \u001b[0mself\u001b[0m\u001b[0;34m.\u001b[0m\u001b[0m_call_geocoder\u001b[0m\u001b[0;34m(\u001b[0m\u001b[0murl\u001b[0m\u001b[0;34m,\u001b[0m \u001b[0mtimeout\u001b[0m\u001b[0;34m=\u001b[0m\u001b[0mtimeout\u001b[0m\u001b[0;34m)\u001b[0m\u001b[0;34m,\u001b[0m \u001b[0mexactly_one\u001b[0m\u001b[0;34m\u001b[0m\u001b[0;34m\u001b[0m\u001b[0m\n\u001b[0m\u001b[1;32m    370\u001b[0m         )\n\u001b[1;32m    371\u001b[0m \u001b[0;34m\u001b[0m\u001b[0m\n",
            "\u001b[0;32m/usr/local/lib/python3.7/dist-packages/geopy/geocoders/base.py\u001b[0m in \u001b[0;36m_call_geocoder\u001b[0;34m(self, url, timeout, raw, requester, deserializer, **kwargs)\u001b[0m\n\u001b[1;32m    342\u001b[0m \u001b[0;34m\u001b[0m\u001b[0m\n\u001b[1;32m    343\u001b[0m         \u001b[0;32mtry\u001b[0m\u001b[0;34m:\u001b[0m\u001b[0;34m\u001b[0m\u001b[0;34m\u001b[0m\u001b[0m\n\u001b[0;32m--> 344\u001b[0;31m             \u001b[0mpage\u001b[0m \u001b[0;34m=\u001b[0m \u001b[0mrequester\u001b[0m\u001b[0;34m(\u001b[0m\u001b[0mreq\u001b[0m\u001b[0;34m,\u001b[0m \u001b[0mtimeout\u001b[0m\u001b[0;34m=\u001b[0m\u001b[0mtimeout\u001b[0m\u001b[0;34m,\u001b[0m \u001b[0;34m**\u001b[0m\u001b[0mkwargs\u001b[0m\u001b[0;34m)\u001b[0m\u001b[0;34m\u001b[0m\u001b[0;34m\u001b[0m\u001b[0m\n\u001b[0m\u001b[1;32m    345\u001b[0m         \u001b[0;32mexcept\u001b[0m \u001b[0mException\u001b[0m \u001b[0;32mas\u001b[0m \u001b[0merror\u001b[0m\u001b[0;34m:\u001b[0m\u001b[0;34m\u001b[0m\u001b[0;34m\u001b[0m\u001b[0m\n\u001b[1;32m    346\u001b[0m             message = (\n",
            "\u001b[0;32m/usr/lib/python3.7/urllib/request.py\u001b[0m in \u001b[0;36mopen\u001b[0;34m(self, fullurl, data, timeout)\u001b[0m\n\u001b[1;32m    523\u001b[0m             \u001b[0mreq\u001b[0m \u001b[0;34m=\u001b[0m \u001b[0mmeth\u001b[0m\u001b[0;34m(\u001b[0m\u001b[0mreq\u001b[0m\u001b[0;34m)\u001b[0m\u001b[0;34m\u001b[0m\u001b[0;34m\u001b[0m\u001b[0m\n\u001b[1;32m    524\u001b[0m \u001b[0;34m\u001b[0m\u001b[0m\n\u001b[0;32m--> 525\u001b[0;31m         \u001b[0mresponse\u001b[0m \u001b[0;34m=\u001b[0m \u001b[0mself\u001b[0m\u001b[0;34m.\u001b[0m\u001b[0m_open\u001b[0m\u001b[0;34m(\u001b[0m\u001b[0mreq\u001b[0m\u001b[0;34m,\u001b[0m \u001b[0mdata\u001b[0m\u001b[0;34m)\u001b[0m\u001b[0;34m\u001b[0m\u001b[0;34m\u001b[0m\u001b[0m\n\u001b[0m\u001b[1;32m    526\u001b[0m \u001b[0;34m\u001b[0m\u001b[0m\n\u001b[1;32m    527\u001b[0m         \u001b[0;31m# post-process response\u001b[0m\u001b[0;34m\u001b[0m\u001b[0;34m\u001b[0m\u001b[0;34m\u001b[0m\u001b[0m\n",
            "\u001b[0;32m/usr/lib/python3.7/urllib/request.py\u001b[0m in \u001b[0;36m_open\u001b[0;34m(self, req, data)\u001b[0m\n\u001b[1;32m    541\u001b[0m         \u001b[0mprotocol\u001b[0m \u001b[0;34m=\u001b[0m \u001b[0mreq\u001b[0m\u001b[0;34m.\u001b[0m\u001b[0mtype\u001b[0m\u001b[0;34m\u001b[0m\u001b[0;34m\u001b[0m\u001b[0m\n\u001b[1;32m    542\u001b[0m         result = self._call_chain(self.handle_open, protocol, protocol +\n\u001b[0;32m--> 543\u001b[0;31m                                   '_open', req)\n\u001b[0m\u001b[1;32m    544\u001b[0m         \u001b[0;32mif\u001b[0m \u001b[0mresult\u001b[0m\u001b[0;34m:\u001b[0m\u001b[0;34m\u001b[0m\u001b[0;34m\u001b[0m\u001b[0m\n\u001b[1;32m    545\u001b[0m             \u001b[0;32mreturn\u001b[0m \u001b[0mresult\u001b[0m\u001b[0;34m\u001b[0m\u001b[0;34m\u001b[0m\u001b[0m\n",
            "\u001b[0;32m/usr/lib/python3.7/urllib/request.py\u001b[0m in \u001b[0;36m_call_chain\u001b[0;34m(self, chain, kind, meth_name, *args)\u001b[0m\n\u001b[1;32m    501\u001b[0m         \u001b[0;32mfor\u001b[0m \u001b[0mhandler\u001b[0m \u001b[0;32min\u001b[0m \u001b[0mhandlers\u001b[0m\u001b[0;34m:\u001b[0m\u001b[0;34m\u001b[0m\u001b[0;34m\u001b[0m\u001b[0m\n\u001b[1;32m    502\u001b[0m             \u001b[0mfunc\u001b[0m \u001b[0;34m=\u001b[0m \u001b[0mgetattr\u001b[0m\u001b[0;34m(\u001b[0m\u001b[0mhandler\u001b[0m\u001b[0;34m,\u001b[0m \u001b[0mmeth_name\u001b[0m\u001b[0;34m)\u001b[0m\u001b[0;34m\u001b[0m\u001b[0;34m\u001b[0m\u001b[0m\n\u001b[0;32m--> 503\u001b[0;31m             \u001b[0mresult\u001b[0m \u001b[0;34m=\u001b[0m \u001b[0mfunc\u001b[0m\u001b[0;34m(\u001b[0m\u001b[0;34m*\u001b[0m\u001b[0margs\u001b[0m\u001b[0;34m)\u001b[0m\u001b[0;34m\u001b[0m\u001b[0;34m\u001b[0m\u001b[0m\n\u001b[0m\u001b[1;32m    504\u001b[0m             \u001b[0;32mif\u001b[0m \u001b[0mresult\u001b[0m \u001b[0;32mis\u001b[0m \u001b[0;32mnot\u001b[0m \u001b[0;32mNone\u001b[0m\u001b[0;34m:\u001b[0m\u001b[0;34m\u001b[0m\u001b[0;34m\u001b[0m\u001b[0m\n\u001b[1;32m    505\u001b[0m                 \u001b[0;32mreturn\u001b[0m \u001b[0mresult\u001b[0m\u001b[0;34m\u001b[0m\u001b[0;34m\u001b[0m\u001b[0m\n",
            "\u001b[0;32m/usr/lib/python3.7/urllib/request.py\u001b[0m in \u001b[0;36mhttps_open\u001b[0;34m(self, req)\u001b[0m\n\u001b[1;32m   1391\u001b[0m         \u001b[0;32mdef\u001b[0m \u001b[0mhttps_open\u001b[0m\u001b[0;34m(\u001b[0m\u001b[0mself\u001b[0m\u001b[0;34m,\u001b[0m \u001b[0mreq\u001b[0m\u001b[0;34m)\u001b[0m\u001b[0;34m:\u001b[0m\u001b[0;34m\u001b[0m\u001b[0;34m\u001b[0m\u001b[0m\n\u001b[1;32m   1392\u001b[0m             return self.do_open(http.client.HTTPSConnection, req,\n\u001b[0;32m-> 1393\u001b[0;31m                 context=self._context, check_hostname=self._check_hostname)\n\u001b[0m\u001b[1;32m   1394\u001b[0m \u001b[0;34m\u001b[0m\u001b[0m\n\u001b[1;32m   1395\u001b[0m         \u001b[0mhttps_request\u001b[0m \u001b[0;34m=\u001b[0m \u001b[0mAbstractHTTPHandler\u001b[0m\u001b[0;34m.\u001b[0m\u001b[0mdo_request_\u001b[0m\u001b[0;34m\u001b[0m\u001b[0;34m\u001b[0m\u001b[0m\n",
            "\u001b[0;32m/usr/lib/python3.7/urllib/request.py\u001b[0m in \u001b[0;36mdo_open\u001b[0;34m(self, http_class, req, **http_conn_args)\u001b[0m\n\u001b[1;32m   1351\u001b[0m             \u001b[0;32mexcept\u001b[0m \u001b[0mOSError\u001b[0m \u001b[0;32mas\u001b[0m \u001b[0merr\u001b[0m\u001b[0;34m:\u001b[0m \u001b[0;31m# timeout error\u001b[0m\u001b[0;34m\u001b[0m\u001b[0;34m\u001b[0m\u001b[0m\n\u001b[1;32m   1352\u001b[0m                 \u001b[0;32mraise\u001b[0m \u001b[0mURLError\u001b[0m\u001b[0;34m(\u001b[0m\u001b[0merr\u001b[0m\u001b[0;34m)\u001b[0m\u001b[0;34m\u001b[0m\u001b[0;34m\u001b[0m\u001b[0m\n\u001b[0;32m-> 1353\u001b[0;31m             \u001b[0mr\u001b[0m \u001b[0;34m=\u001b[0m \u001b[0mh\u001b[0m\u001b[0;34m.\u001b[0m\u001b[0mgetresponse\u001b[0m\u001b[0;34m(\u001b[0m\u001b[0;34m)\u001b[0m\u001b[0;34m\u001b[0m\u001b[0;34m\u001b[0m\u001b[0m\n\u001b[0m\u001b[1;32m   1354\u001b[0m         \u001b[0;32mexcept\u001b[0m\u001b[0;34m:\u001b[0m\u001b[0;34m\u001b[0m\u001b[0;34m\u001b[0m\u001b[0m\n\u001b[1;32m   1355\u001b[0m             \u001b[0mh\u001b[0m\u001b[0;34m.\u001b[0m\u001b[0mclose\u001b[0m\u001b[0;34m(\u001b[0m\u001b[0;34m)\u001b[0m\u001b[0;34m\u001b[0m\u001b[0;34m\u001b[0m\u001b[0m\n",
            "\u001b[0;32m/usr/lib/python3.7/http/client.py\u001b[0m in \u001b[0;36mgetresponse\u001b[0;34m(self)\u001b[0m\n\u001b[1;32m   1371\u001b[0m         \u001b[0;32mtry\u001b[0m\u001b[0;34m:\u001b[0m\u001b[0;34m\u001b[0m\u001b[0;34m\u001b[0m\u001b[0m\n\u001b[1;32m   1372\u001b[0m             \u001b[0;32mtry\u001b[0m\u001b[0;34m:\u001b[0m\u001b[0;34m\u001b[0m\u001b[0;34m\u001b[0m\u001b[0m\n\u001b[0;32m-> 1373\u001b[0;31m                 \u001b[0mresponse\u001b[0m\u001b[0;34m.\u001b[0m\u001b[0mbegin\u001b[0m\u001b[0;34m(\u001b[0m\u001b[0;34m)\u001b[0m\u001b[0;34m\u001b[0m\u001b[0;34m\u001b[0m\u001b[0m\n\u001b[0m\u001b[1;32m   1374\u001b[0m             \u001b[0;32mexcept\u001b[0m \u001b[0mConnectionError\u001b[0m\u001b[0;34m:\u001b[0m\u001b[0;34m\u001b[0m\u001b[0;34m\u001b[0m\u001b[0m\n\u001b[1;32m   1375\u001b[0m                 \u001b[0mself\u001b[0m\u001b[0;34m.\u001b[0m\u001b[0mclose\u001b[0m\u001b[0;34m(\u001b[0m\u001b[0;34m)\u001b[0m\u001b[0;34m\u001b[0m\u001b[0;34m\u001b[0m\u001b[0m\n",
            "\u001b[0;32m/usr/lib/python3.7/http/client.py\u001b[0m in \u001b[0;36mbegin\u001b[0;34m(self)\u001b[0m\n\u001b[1;32m    317\u001b[0m         \u001b[0;31m# read until we get a non-100 response\u001b[0m\u001b[0;34m\u001b[0m\u001b[0;34m\u001b[0m\u001b[0;34m\u001b[0m\u001b[0m\n\u001b[1;32m    318\u001b[0m         \u001b[0;32mwhile\u001b[0m \u001b[0;32mTrue\u001b[0m\u001b[0;34m:\u001b[0m\u001b[0;34m\u001b[0m\u001b[0;34m\u001b[0m\u001b[0m\n\u001b[0;32m--> 319\u001b[0;31m             \u001b[0mversion\u001b[0m\u001b[0;34m,\u001b[0m \u001b[0mstatus\u001b[0m\u001b[0;34m,\u001b[0m \u001b[0mreason\u001b[0m \u001b[0;34m=\u001b[0m \u001b[0mself\u001b[0m\u001b[0;34m.\u001b[0m\u001b[0m_read_status\u001b[0m\u001b[0;34m(\u001b[0m\u001b[0;34m)\u001b[0m\u001b[0;34m\u001b[0m\u001b[0;34m\u001b[0m\u001b[0m\n\u001b[0m\u001b[1;32m    320\u001b[0m             \u001b[0;32mif\u001b[0m \u001b[0mstatus\u001b[0m \u001b[0;34m!=\u001b[0m \u001b[0mCONTINUE\u001b[0m\u001b[0;34m:\u001b[0m\u001b[0;34m\u001b[0m\u001b[0;34m\u001b[0m\u001b[0m\n\u001b[1;32m    321\u001b[0m                 \u001b[0;32mbreak\u001b[0m\u001b[0;34m\u001b[0m\u001b[0;34m\u001b[0m\u001b[0m\n",
            "\u001b[0;32m/usr/lib/python3.7/http/client.py\u001b[0m in \u001b[0;36m_read_status\u001b[0;34m(self)\u001b[0m\n\u001b[1;32m    278\u001b[0m \u001b[0;34m\u001b[0m\u001b[0m\n\u001b[1;32m    279\u001b[0m     \u001b[0;32mdef\u001b[0m \u001b[0m_read_status\u001b[0m\u001b[0;34m(\u001b[0m\u001b[0mself\u001b[0m\u001b[0;34m)\u001b[0m\u001b[0;34m:\u001b[0m\u001b[0;34m\u001b[0m\u001b[0;34m\u001b[0m\u001b[0m\n\u001b[0;32m--> 280\u001b[0;31m         \u001b[0mline\u001b[0m \u001b[0;34m=\u001b[0m \u001b[0mstr\u001b[0m\u001b[0;34m(\u001b[0m\u001b[0mself\u001b[0m\u001b[0;34m.\u001b[0m\u001b[0mfp\u001b[0m\u001b[0;34m.\u001b[0m\u001b[0mreadline\u001b[0m\u001b[0;34m(\u001b[0m\u001b[0m_MAXLINE\u001b[0m \u001b[0;34m+\u001b[0m \u001b[0;36m1\u001b[0m\u001b[0;34m)\u001b[0m\u001b[0;34m,\u001b[0m \u001b[0;34m\"iso-8859-1\"\u001b[0m\u001b[0;34m)\u001b[0m\u001b[0;34m\u001b[0m\u001b[0;34m\u001b[0m\u001b[0m\n\u001b[0m\u001b[1;32m    281\u001b[0m         \u001b[0;32mif\u001b[0m \u001b[0mlen\u001b[0m\u001b[0;34m(\u001b[0m\u001b[0mline\u001b[0m\u001b[0;34m)\u001b[0m \u001b[0;34m>\u001b[0m \u001b[0m_MAXLINE\u001b[0m\u001b[0;34m:\u001b[0m\u001b[0;34m\u001b[0m\u001b[0;34m\u001b[0m\u001b[0m\n\u001b[1;32m    282\u001b[0m             \u001b[0;32mraise\u001b[0m \u001b[0mLineTooLong\u001b[0m\u001b[0;34m(\u001b[0m\u001b[0;34m\"status line\"\u001b[0m\u001b[0;34m)\u001b[0m\u001b[0;34m\u001b[0m\u001b[0;34m\u001b[0m\u001b[0m\n",
            "\u001b[0;32m/usr/lib/python3.7/socket.py\u001b[0m in \u001b[0;36mreadinto\u001b[0;34m(self, b)\u001b[0m\n\u001b[1;32m    587\u001b[0m         \u001b[0;32mwhile\u001b[0m \u001b[0;32mTrue\u001b[0m\u001b[0;34m:\u001b[0m\u001b[0;34m\u001b[0m\u001b[0;34m\u001b[0m\u001b[0m\n\u001b[1;32m    588\u001b[0m             \u001b[0;32mtry\u001b[0m\u001b[0;34m:\u001b[0m\u001b[0;34m\u001b[0m\u001b[0;34m\u001b[0m\u001b[0m\n\u001b[0;32m--> 589\u001b[0;31m                 \u001b[0;32mreturn\u001b[0m \u001b[0mself\u001b[0m\u001b[0;34m.\u001b[0m\u001b[0m_sock\u001b[0m\u001b[0;34m.\u001b[0m\u001b[0mrecv_into\u001b[0m\u001b[0;34m(\u001b[0m\u001b[0mb\u001b[0m\u001b[0;34m)\u001b[0m\u001b[0;34m\u001b[0m\u001b[0;34m\u001b[0m\u001b[0m\n\u001b[0m\u001b[1;32m    590\u001b[0m             \u001b[0;32mexcept\u001b[0m \u001b[0mtimeout\u001b[0m\u001b[0;34m:\u001b[0m\u001b[0;34m\u001b[0m\u001b[0;34m\u001b[0m\u001b[0m\n\u001b[1;32m    591\u001b[0m                 \u001b[0mself\u001b[0m\u001b[0;34m.\u001b[0m\u001b[0m_timeout_occurred\u001b[0m \u001b[0;34m=\u001b[0m \u001b[0;32mTrue\u001b[0m\u001b[0;34m\u001b[0m\u001b[0;34m\u001b[0m\u001b[0m\n",
            "\u001b[0;32m/usr/lib/python3.7/ssl.py\u001b[0m in \u001b[0;36mrecv_into\u001b[0;34m(self, buffer, nbytes, flags)\u001b[0m\n\u001b[1;32m   1069\u001b[0m                   \u001b[0;34m\"non-zero flags not allowed in calls to recv_into() on %s\"\u001b[0m \u001b[0;34m%\u001b[0m\u001b[0;34m\u001b[0m\u001b[0;34m\u001b[0m\u001b[0m\n\u001b[1;32m   1070\u001b[0m                   self.__class__)\n\u001b[0;32m-> 1071\u001b[0;31m             \u001b[0;32mreturn\u001b[0m \u001b[0mself\u001b[0m\u001b[0;34m.\u001b[0m\u001b[0mread\u001b[0m\u001b[0;34m(\u001b[0m\u001b[0mnbytes\u001b[0m\u001b[0;34m,\u001b[0m \u001b[0mbuffer\u001b[0m\u001b[0;34m)\u001b[0m\u001b[0;34m\u001b[0m\u001b[0;34m\u001b[0m\u001b[0m\n\u001b[0m\u001b[1;32m   1072\u001b[0m         \u001b[0;32melse\u001b[0m\u001b[0;34m:\u001b[0m\u001b[0;34m\u001b[0m\u001b[0;34m\u001b[0m\u001b[0m\n\u001b[1;32m   1073\u001b[0m             \u001b[0;32mreturn\u001b[0m \u001b[0msuper\u001b[0m\u001b[0;34m(\u001b[0m\u001b[0;34m)\u001b[0m\u001b[0;34m.\u001b[0m\u001b[0mrecv_into\u001b[0m\u001b[0;34m(\u001b[0m\u001b[0mbuffer\u001b[0m\u001b[0;34m,\u001b[0m \u001b[0mnbytes\u001b[0m\u001b[0;34m,\u001b[0m \u001b[0mflags\u001b[0m\u001b[0;34m)\u001b[0m\u001b[0;34m\u001b[0m\u001b[0;34m\u001b[0m\u001b[0m\n",
            "\u001b[0;32m/usr/lib/python3.7/ssl.py\u001b[0m in \u001b[0;36mread\u001b[0;34m(self, len, buffer)\u001b[0m\n\u001b[1;32m    927\u001b[0m         \u001b[0;32mtry\u001b[0m\u001b[0;34m:\u001b[0m\u001b[0;34m\u001b[0m\u001b[0;34m\u001b[0m\u001b[0m\n\u001b[1;32m    928\u001b[0m             \u001b[0;32mif\u001b[0m \u001b[0mbuffer\u001b[0m \u001b[0;32mis\u001b[0m \u001b[0;32mnot\u001b[0m \u001b[0;32mNone\u001b[0m\u001b[0;34m:\u001b[0m\u001b[0;34m\u001b[0m\u001b[0;34m\u001b[0m\u001b[0m\n\u001b[0;32m--> 929\u001b[0;31m                 \u001b[0;32mreturn\u001b[0m \u001b[0mself\u001b[0m\u001b[0;34m.\u001b[0m\u001b[0m_sslobj\u001b[0m\u001b[0;34m.\u001b[0m\u001b[0mread\u001b[0m\u001b[0;34m(\u001b[0m\u001b[0mlen\u001b[0m\u001b[0;34m,\u001b[0m \u001b[0mbuffer\u001b[0m\u001b[0;34m)\u001b[0m\u001b[0;34m\u001b[0m\u001b[0;34m\u001b[0m\u001b[0m\n\u001b[0m\u001b[1;32m    930\u001b[0m             \u001b[0;32melse\u001b[0m\u001b[0;34m:\u001b[0m\u001b[0;34m\u001b[0m\u001b[0;34m\u001b[0m\u001b[0m\n\u001b[1;32m    931\u001b[0m                 \u001b[0;32mreturn\u001b[0m \u001b[0mself\u001b[0m\u001b[0;34m.\u001b[0m\u001b[0m_sslobj\u001b[0m\u001b[0;34m.\u001b[0m\u001b[0mread\u001b[0m\u001b[0;34m(\u001b[0m\u001b[0mlen\u001b[0m\u001b[0;34m)\u001b[0m\u001b[0;34m\u001b[0m\u001b[0;34m\u001b[0m\u001b[0m\n",
            "\u001b[0;31mKeyboardInterrupt\u001b[0m: "
          ]
        }
      ]
    },
    {
      "cell_type": "markdown",
      "metadata": {
        "id": "fyxm5befxhjm"
      },
      "source": [
        "##Explore data"
      ]
    },
    {
      "cell_type": "code",
      "metadata": {
        "colab": {
          "base_uri": "https://localhost:8080/"
        },
        "id": "7Dx1TVE4EyXk",
        "outputId": "712eaf6b-9fbe-4e6a-c059-40784389cbc0"
      },
      "source": [
        "df['Area_of_Origin'].value_counts()"
      ],
      "execution_count": null,
      "outputs": [
        {
          "output_type": "execute_result",
          "data": {
            "text/plain": [
              "24 - Cooking Area or Kitchen                                                 2878\n",
              "81 - Engine Area                                                             1931\n",
              "44 - Trash, Rubbish Storage (inc garbage chute room, garbage/industri        1070\n",
              "64 - Porch or Balcony                                                        957 \n",
              "22 - Sleeping Area or Bedroom (inc. patients room, dormitory, etc)           871 \n",
              "21 - Living Area (e.g. living, TV, recreation, etc)                          596 \n",
              "75 - Trash, rubbish area (outside)                                           429 \n",
              "97 - Other - unclassified                                                    418 \n",
              "99 - Undetermined  (formerly 98)                                             402 \n",
              "42 - Garage                                                                  401 \n",
              "83 - Electrical Systems                                                      396 \n",
              "27 - Laundry Area                                                            366 \n",
              "25 - Washroom or Bathroom (toilet,restroom/locker room)                      293 \n",
              "79 - Other Outside Area                                                      281 \n",
              "86 - Passenger Area                                                          269 \n",
              "62 - Roof                                                                    265 \n",
              "71 - Open Area (inc lawn, field, farmyard, park, playing field, pier,        223 \n",
              "89 - Other Vehicle Area                                                      221 \n",
              "31 - Process Manufacturing (inc manf, prod assembly, repair)                 204 \n",
              "53 - Chimney/Flue Pipe                                                       200 \n",
              "55 - Mechanical/Electrical Services Room                                     177 \n",
              "87 - Trunk/Cargo Area                                                        170 \n",
              "50 - Basement/cellar (not partitioned)                                       159 \n",
              "61 - Exterior Wall                                                           152 \n",
              "12 - Hallway, Corridor                                                       150 \n",
              "73 - Parking Area, Parking Lot                                               138 \n",
              "72 - Court, Patio, Terrace                                                   118 \n",
              "49 - Other Storage Area                                                      112 \n",
              "74 - Storage Area (outside)                                                  112 \n",
              "78 - Attached Deck                                                           105 \n",
              "52 - HVAC Equipment Room (furnace room, water heater closet, boiler)         103 \n",
              "29 - Electronic Equipment                                                    91  \n",
              "13 - Stairway, Escalator                                                     88  \n",
              "11 - Lobby, Entranceway                                                      87  \n",
              "23 - Dining or Beverage Area (inc mess, canteen, lunchroom, cafeteria        81  \n",
              "85 - Operator/Control Area                                                   79  \n",
              "82 - Running Gear (inc wheels and braking systems, transmission syste        74  \n",
              "41 - Closet (eg. clothes, broom, linen closet, etc.)                         65  \n",
              "69 - Attic Area                                                              64  \n",
              "58 - Ducting - Exhaust (inc cooking, fumes, etc.)                            55  \n",
              "70 - Other Structural Area                                                   55  \n",
              "28 - Office                                                                  54  \n",
              "66 - Concealed Ceiling Area                                                  53  \n",
              "84 - Fuel Systems (eg. fuel tank, etc.)                                      52  \n",
              "39 - Other Functional Area                                                   47  \n",
              "46 - Product Storage (inc products or materials awaiting manuf, assembly)    45  \n",
              "47 - Shipping/Receiving/Loading Platform                                     40  \n",
              "45 - Supply Storage Room (inc maintenance/office/document storage, et        37  \n",
              "30 - Sales, Showroom Area                                                    36  \n",
              "26 - Sauna                                                                   32  \n",
              "59 - Utility Shaft (eg. electrical wiring/phone, etc.)                       31  \n",
              "68 - Concealed Wall Area                                                     27  \n",
              "51 - Elevator (includes shaft)                                               23  \n",
              "60 - Other Building Services/Support Facilities                              22  \n",
              "57 - Ducting - Heating, Air Conditioning                                     21  \n",
              "63 - Awning or Canopy                                                        20  \n",
              "56 - Conveyor Shaft or Chute (inc dumbwaiter, laundry chute, garbage         18  \n",
              "67 - Concealed Floor Area                                                    17  \n",
              "43 - Locker (apartment storage)                                              17  \n",
              "33 - Laboratory                                                              15  \n",
              "91 - Multiple Areas of Origin                                                15  \n",
              "19 - Other Means of Egress                                                   14  \n",
              "32 - Assembly Area (inc school room,spectator area, church, etc)             14  \n",
              "65 - Crawl Space (includes sub-structure)                                    12  \n",
              "93 - Residential/Business: Other busines area                                12  \n",
              "92 - Residential/Business: Restaurant area                                   10  \n",
              "35 - Performance Area (inc stage, rink, boxing ring, gym floor, altar        8   \n",
              "18 - Covered Court, Atrium, mall concourse                                   7   \n",
              "990 - Under Investigation                                                    6   \n",
              "34 - Operating Room, Treatment or Examination Area                           6   \n",
              "54 - Incinerator Room                                                        3   \n",
              "48 - Records storage area (inc vaults)                                       2   \n",
              "76 - Fuel Dispensing Area (outside)                                          1   \n",
              "Name: Area_of_Origin, dtype: int64"
            ]
          },
          "metadata": {},
          "execution_count": 7
        }
      ]
    },
    {
      "cell_type": "code",
      "metadata": {
        "colab": {
          "base_uri": "https://localhost:8080/"
        },
        "id": "E2xNymJ6E-oy",
        "outputId": "64458f30-49b6-48cd-b945-d6c64d814352"
      },
      "source": [
        "df['Final_Incident_Type'].value_counts()"
      ],
      "execution_count": null,
      "outputs": [
        {
          "output_type": "execute_result",
          "data": {
            "text/plain": [
              "01 - Fire                                                                                  15516\n",
              "03 - NO LOSS OUTDOOR fire (exc: Sus.arson,vandal,child playing,recycling or dump fires)    1914 \n",
              "02 - Explosion (including during Fire, excluding Codes 3 & 11-13)                          106  \n",
              "Name: Final_Incident_Type, dtype: int64"
            ]
          },
          "metadata": {},
          "execution_count": 10
        }
      ]
    },
    {
      "cell_type": "code",
      "metadata": {
        "colab": {
          "base_uri": "https://localhost:8080/"
        },
        "id": "QdGzVXHQF6rc",
        "outputId": "45e20cce-280b-4ac0-8ad3-af74bcc4bf2b"
      },
      "source": [
        "df['Initial_CAD_Event_Type'].value_counts()"
      ],
      "execution_count": null,
      "outputs": [
        {
          "output_type": "execute_result",
          "data": {
            "text/plain": [
              "FIR                                       3929\n",
              "Fire - Grass/Rubbish                      1698\n",
              "VEF                                       1652\n",
              "FIHR                                      1617\n",
              "FICI                                      1303\n",
              "FIG                                       917 \n",
              "Fire - Residential                        898 \n",
              "FAHR                                      787 \n",
              "VEFH                                      548 \n",
              "Vehicle Fire                              478 \n",
              "Fire -  Highrise Residential              379 \n",
              "Fire - Commercial/Industrial              375 \n",
              "FACI                                      303 \n",
              "Alarm Highrise Residential                235 \n",
              "FIHRD                                     199 \n",
              "FAR                                       175 \n",
              "Vehicle Fire - Highway                    157 \n",
              "FAHRD                                     154 \n",
              "FITP                                      113 \n",
              "FIS                                       107 \n",
              "CC                                        82  \n",
              "Alarm Commercial/Industrial               82  \n",
              "FIO                                       81  \n",
              "FAI                                       68  \n",
              "Alarm Highrise Residential Downtown       65  \n",
              "VEFU                                      64  \n",
              "FIHV                                      54  \n",
              "VEAF                                      53  \n",
              "FII                                       52  \n",
              "Alarm Residential                         51  \n",
              "FIHCD                                     50  \n",
              "FAHCD                                     46  \n",
              "Fire - Other                              43  \n",
              "Fire - Highrise Residential - Downtown    42  \n",
              "Fire - Subway                             40  \n",
              "Fire - Transformer/Pole                   38  \n",
              "FIOS                                      37  \n",
              "Check Call                                33  \n",
              "Fire - Outside Storage                    27  \n",
              "FIIS                                      25  \n",
              "Fire - Institution - School               22  \n",
              "FAID                                      21  \n",
              "FAIS                                      21  \n",
              "VEPIH                                     20  \n",
              "VEAT                                      19  \n",
              "Alarm - Institution - School              17  \n",
              "Fire - Institution                        17  \n",
              "Vehicle Accident with Fire                16  \n",
              "Fire - Hydro Vault                        16  \n",
              "FAHC                                      15  \n",
              "FIID                                      14  \n",
              "Alarm Institution                         14  \n",
              "FISD                                      14  \n",
              "WDH                                       13  \n",
              "FIHC                                      13  \n",
              "NGASFI                                    12  \n",
              "VEATH                                     12  \n",
              "ISFI                                      11  \n",
              "Alarm Highrise - Commercial - Downtown    11  \n",
              "MEO                                       10  \n",
              "Vehicle Fire - Underground                10  \n",
              "HAZ1                                      9   \n",
              "Wires Down - Hydro                        9   \n",
              "Vehicle Accident - Trapped                8   \n",
              "FACC                                      7   \n",
              "NGASLK                                    7   \n",
              "Water Problem                             6   \n",
              "HAZ2                                      6   \n",
              "VEPI                                      5   \n",
              "Natural Gas Fire                          5   \n",
              "Fire - Highrise Commercial - Downtown     5   \n",
              "CONM                                      5   \n",
              "VEFHE                                     5   \n",
              "Alarm Institution Downtown                5   \n",
              "Alarm Highrise Commercial                 5   \n",
              "WAT                                       4   \n",
              "Fire - Highrise Commercial                4   \n",
              "Medical - Other                           4   \n",
              "MEU                                       3   \n",
              "FIWMI                                     3   \n",
              "Fire - Subway - Downtown                  3   \n",
              "Hazmat Level 1                            3   \n",
              "Vehicle - Personal Injury Highway         3   \n",
              "COM                                       2   \n",
              "Medical - Trouble Breathing               2   \n",
              "Natural Gas Leak                          2   \n",
              "Carbon Monoxide - Non Medical             2   \n",
              "Fire - Institution - Downtown             2   \n",
              "METB                                      2   \n",
              "FIW                                       2   \n",
              "Fire Waterfront Marina/Industrial         2   \n",
              "Fire - Alarm Waterfront Highrise          2   \n",
              "FAS                                       2   \n",
              "PA                                        2   \n",
              "CCA                                       2   \n",
              "FAWMI                                     2   \n",
              "Hazmat Level 2                            2   \n",
              "Medical - Unconscious                     2   \n",
              "MEPI                                      1   \n",
              "Vehicle Fire - Highway Elevated           1   \n",
              "Alarm Waterfront Marina/Industrial        1   \n",
              "PUB                                       1   \n",
              "MESC                                      1   \n",
              "REHL                                      1   \n",
              "Vehicle - Spill Clean Up                  1   \n",
              "Fire Alarm - Check Call                   1   \n",
              "Check Call - Non Emergency                1   \n",
              "Vehicle - Personal Injury                 1   \n",
              "Vehicle Accident - Trapped - Highway      1   \n",
              "LKFI                                      1   \n",
              "MECR                                      1   \n",
              "Island Fire Alarm Response                1   \n",
              "Island - Fire Response                    1   \n",
              "ISFA                                      1   \n",
              "MECC                                      1   \n",
              "Name: Initial_CAD_Event_Type, dtype: int64"
            ]
          },
          "metadata": {},
          "execution_count": 11
        }
      ]
    },
    {
      "cell_type": "code",
      "metadata": {
        "colab": {
          "base_uri": "https://localhost:8080/"
        },
        "id": "dsT2W5lHGTer",
        "outputId": "d25db26d-eea2-49c2-83da-15e10f406f1a"
      },
      "source": [
        "df['Property_Use'].value_counts(normalize=True)"
      ],
      "execution_count": null,
      "outputs": [
        {
          "output_type": "execute_result",
          "data": {
            "text/plain": [
              "323 - Multi-Unit Dwelling - Over 12 Units                                        0.220644\n",
              "301 - Detached Dwelling                                                          0.141774\n",
              "901 - Automobile                                                                 0.082350\n",
              "896 - Sidewalk, street, roadway, highway, hwy (do not use for fire incidents)    0.053721\n",
              "302 - Semi-Detached Dwelling                                                     0.044140\n",
              "848 - Trash/Rubbish/Garbage Container or Dumpster                                0.042315\n",
              "303 - Attached Dwelling (eg. rowhouse, townhouse, etc.)                          0.034502\n",
              "861 - Open Land (eg. light ground cover, bush, grass, etc.)                      0.027032\n",
              "902 - Small Truck (eg. pick-up, van, etc.)                                       0.020816\n",
              "321 - Multi-Unit Dwelling - 2 to 6 Units                                         0.016424\n",
              "331 - Apartment, Flat, Tenement with Business                                    0.016196\n",
              "151 - Restaurants (occupant load greater than 30 persons, licensed)              0.013972\n",
              "898 - Other property non structure not classified                                0.011007\n",
              "891 - Outdoor general auto parking                                               0.010265\n",
              "501 - Restaurant (occupant load less than 30 persons)                            0.009809\n",
              "144 - Subway Station                                                             0.009638\n",
              "903 - Large Truck (Excluding Truck Trailer)                                      0.009410\n",
              "322 - Multi-Unit Dwelling - 7 to 12 Units                                        0.008668\n",
              "837 - Vehicles or Vehicle Parts                                                  0.008041\n",
              "365 - Detached Garage                                                            0.007699\n",
              "405 - General Business Office                                                    0.007528\n",
              "846 - Hydro/Telephone Pole                                                       0.007300\n",
              "311 - Rooming/Boarding/Lodging House                                             0.007129\n",
              "603 - Motor Vehicle Repair Garage                                                0.006444\n",
              "499 - Other Business or Personal Services                                        0.005760\n",
              "999 - Other Vehicle                                                              0.005418\n",
              "132 - School - Elementary                                                        0.004562\n",
              "334 - Attached Dwelling with Business                                            0.004505\n",
              "862 - Forest, Standing Timber                                                    0.003764\n",
              "510 - Mall - public area common to multi store facility                          0.003650\n",
              "842 - Fence                                                                      0.003593\n",
              "906 - Bus, Trackless Trolley                                                     0.003593\n",
              "498 - Garage:  General Auto Parking - Structure                                  0.003479\n",
              "355 - Hotel, Motel, Lodging - 4 or more guests or suites                         0.003422\n",
              "904 - Trailer Combin. (e.g. auto trailer, small t&t, t&t, etc)                   0.003308\n",
              "843 - Shed, Children's Playhouse                                                 0.003080\n",
              "653 - Mfg: Secondary Processing (eg finished goods, furniture, etc)              0.002737\n",
              "791 - Recycling Facility                                                         0.002680\n",
              "152 - Bar, Tavern, Night Club                                                    0.002680\n",
              "863 - Tree, Hedge                                                                0.002680\n",
              "860 - Lawn around structure                                                      0.002623\n",
              "502 - Supermarket, Grocery Store                                                 0.002623\n",
              "651 - Mfg: Pulp, Paper Processing                                                0.002509\n",
              "404 - Laundry, Dry Cleaner (includes self-service)                               0.002509\n",
              "599 - Other Mercantile                                                           0.002452\n",
              "137 - School - Post Secondary (University)                                       0.002452\n",
              "659 - Mfg: Other Wood, Furniture, Paper Products, Printing                       0.002395\n",
              "231 - Shelter for displaced/abused persons                                       0.002281\n",
              "812 - Bridge, Overpass, Trestle, Tunnel, Underpass                               0.002281\n",
              "612 - Hydro Distribution Facility                                                0.002224\n",
              "946 - Other specialty vehicle                                                    0.002224\n",
              "799 - Other Industrial                                                           0.002224\n",
              "134 - School - Secondary/Senior High (Gr. 9+)                                    0.002167\n",
              "335 - Detached/Semi/Attached with Accessory Apartment Above Grade                0.002167\n",
              "153 - Church, Other Similar Place of Worship                                     0.002110\n",
              "212 - Public/Private Hospital                                                    0.002053\n",
              "503 - Specialty Food Store (eg. butcher, delicatessen, etc.)                     0.001939\n",
              "679 - Mfg: Other Metal/Eletctrical/Miscellaneous Products                        0.001768\n",
              "760 - Sto: Warehouse, variety of items, not classified by codes                  0.001768\n",
              "792 - Waste Transfer Station                                                     0.001711\n",
              "941 - Construction Vehicles                                                      0.001711\n",
              "223 - Seniors long term care facility, licensed                                  0.001654\n",
              "601 - Motor Vehicle Sales                                                        0.001654\n",
              "855 - Outbuildings - structure not classified elsewhere                          0.001654\n",
              "633 - Mfg: Grain Products, Bakery Goods                                          0.001540\n",
              "909 - Multiple Road Vehicles                                                     0.001426\n",
              "234 - Retirement Home                                                            0.001426\n",
              "101 - Theatre - Motion Picture                                                   0.001369\n",
              "897 - Structure under 10 sq. metres not classified                               0.001312\n",
              "403 - Barber Shop, Hairdresser, Beauty Parlor, tanning salon                     0.001198\n",
              "124 - Sports/Country/Social/Yacht Club                                           0.001141\n",
              "905 - Motorcycle                                                                 0.001084\n",
              "672 - Mfg: Secondary Metal Processing (eg rolling, drawing, polishing)           0.001027\n",
              "639 - Mfg: Other Agr/Food, Beverage, Tabac products                              0.001027\n",
              "401 - Bank                                                                       0.001027\n",
              "661 - Mfg: Road Vehicles, Parts                                                  0.000969\n",
              "623 - Mfg: Plastics                                                              0.000969\n",
              "619 - Other Utilities                                                            0.000969\n",
              "511 - Department Store                                                           0.000969\n",
              "504 - Convenience/Variety Store                                                  0.000969\n",
              "123 - Community/Exhibition/Dance Hall                                            0.000969\n",
              "521 - Clothing Store, Accessories, fur                                           0.000969\n",
              "336 - Detached/Semi/Attached with Accessory Apartment Below Grade                0.000912\n",
              "629 - Mfg: Other Chemical/Petroleum/Paint/Plastic Products                       0.000912\n",
              "844 - Privy                                                                      0.000912\n",
              "232 - Halfway/Transitional House                                                 0.000912\n",
              "407 - Dental/Medical Office                                                      0.000912\n",
              "626 - Mfg: Rubber Goods                                                          0.000855\n",
              "233 - Group Home                                                                 0.000855\n",
              "602 - Service Station                                                            0.000798\n",
              "367 - Hostel                                                                     0.000798\n",
              "850 - Parking Lot Kiosk                                                          0.000798\n",
              "333 - Semi-Detached Dwelling with Business                                       0.000798\n",
              "199 - Other Assembly                                                             0.000741\n",
              "523 - Furniture/Appliance Store                                                  0.000741\n",
              "399 - Other Residential                                                          0.000684\n",
              "654 - Mfg: Printing, Publishing (eg newspapers, magazines, books)                0.000684\n",
              "622 - Mfg: Chemicals, inc hazardous chemicals                                    0.000684\n",
              "332 - Detached Dwelling with Business                                            0.000684\n",
              "173 - Exhibition, Fair Stand, Amusement Park Structure                           0.000684\n",
              "893 - Cemetery                                                                   0.000684\n",
              "162 - Ice Rink                                                                   0.000684\n",
              "138 - School - Post Secondary (College)                                          0.000627\n",
              "206 - Psychiatric Hospital (with detention quarters)                             0.000627\n",
              "103 - TV, radio, motion picture studio                                           0.000570\n",
              "133 - School - Secondary Junior High (Gr. 7 & 8)                                 0.000570\n",
              "142 - Bus Terminal                                                               0.000570\n",
              "994 - Multiple Vehicles - combination of types                                   0.000570\n",
              "530 - Pharmacy                                                                   0.000570\n",
              "921 - Private or Business Watercraft                                             0.000570\n",
              "856 - Freestanding deck                                                          0.000513\n",
              "143 - Railway Station                                                            0.000513\n",
              "849 - Tarpot                                                                     0.000513\n",
              "361 - School/College Dormitory (detached from educational facility)              0.000513\n",
              "539 - Gifts, jewellery, leather goods, mixed goods                               0.000513\n",
              "341 - Motor Home, Camper, Trailer                                                0.000513\n",
              "125 - Gymnasium                                                                  0.000513\n",
              "907 - Emergency Vehicle                                                          0.000513\n",
              "625 - Mfg: Drugs, Cosmetics, Pharmaceutical                                      0.000456\n",
              "102 - Theatre - Concert Hall, Live                                               0.000456\n",
              "609 - Other Vehicle Sales/Service                                                0.000456\n",
              "942 - Industrial Vehicles                                                        0.000456\n",
              "631 - Mfg: Meat/Poultry/Fish Products                                            0.000456\n",
              "617 - Sanitary Services (includes plant)                                         0.000456\n",
              "418 - Tent or temporary structure for business or personal service activity      0.000399\n",
              "201 - Jail, Prison, Penitentiary                                                 0.000399\n",
              "607 - Marina, Marine Service Station                                             0.000399\n",
              "543 - Big Box Store                                                              0.000399\n",
              "113 - Library                                                                    0.000399\n",
              "638 - Mfg: Sugar Refining, Sugar Products                                        0.000399\n",
              "649 - Mfg: Other Textiles, Clothing, Leather goods                               0.000399\n",
              "161 - Arena                                                                      0.000342\n",
              "853 - Gazebo                                                                     0.000342\n",
              "111 - Museum                                                                     0.000342\n",
              "701 - Sto: Meat/Poultry/Fish products                                            0.000342\n",
              "839 - Tent or temporary structure not classified under other occupancy           0.000342\n",
              "229 - Other care facility                                                        0.000342\n",
              "739 - Sto: Other Wood, Furniture, Paper Products, Printing                       0.000342\n",
              "741 - Sto: Road Vehicles, Parts                                                  0.000342\n",
              "157 - Day Care Centre                                                            0.000342\n",
              "912 - Subway Train                                                               0.000342\n",
              "836 - Metal Products, Machinery, Appliances                                      0.000342\n",
              "156 - Court Facility                                                             0.000342\n",
              "671 - Mfg: Primary Metal Processing (eg refining, melting, etc)                  0.000285\n",
              "525 - Hardware Store                                                             0.000285\n",
              "864 - Dump, Land Fill Site                                                       0.000285\n",
              "135 - School - Technical, Industrial Trade                                       0.000285\n",
              "655 - Mfg: Job Printing (eg forms, greeting cards, etc)                          0.000285\n",
              "505 - Liquor/Wine/Beer Store                                                     0.000285\n",
              "793 - Laboratory                                                                 0.000285\n",
              "366 - Residential Club (inc sorority, fraternity)                                0.000285\n",
              "158 - Church Hall                                                                0.000285\n",
              "852 - Clothing Drop Box, etc.                                                    0.000285\n",
              "114 - Auditorium                                                                 0.000228\n",
              "866 - Silo, Storage Facility                                                     0.000228\n",
              "145 - Marine Terminal                                                            0.000228\n",
              "847 - Toll Station, Weather/Bus Shelter                                          0.000228\n",
              "890 - Composting site (large scale, eg municipal)                                0.000228\n",
              "911 - Railway Train                                                              0.000228\n",
              "614 - Gas Distribution Facility                                                  0.000228\n",
              "841 - Mailbox                                                                    0.000228\n",
              "526 - Building Supply Store                                                      0.000228\n",
              "627 - Mfg: Asphalt Products                                                      0.000228\n",
              "682 - Sto: Chemicals, inc hazardous chemicals                                    0.000228\n",
              "838 - General Goods                                                              0.000228\n",
              "733 - Secondary Products (eg. finished goods, furniture, etc.)                   0.000228\n",
              "644 - Mfg: Wearing Apparal Manufacturing                                         0.000228\n",
              "834 - Chemicals, Plastics, Rubber Products                                       0.000228\n",
              "411 - Fire Station                                                               0.000228\n",
              "121 - Bowling Alley, Billiard Centre, pool hall                                  0.000228\n",
              "507 - Market - Indoors (flowers, fruit, vegetable sales)                         0.000171\n",
              "645 - Mfg: Dry Cleaning Plant                                                    0.000171\n",
              "731 - Sto: Pulp, Paper                                                           0.000171\n",
              "944 - Multiple Specialty Vehicles                                                0.000171\n",
              "216 - Convalescent Home or long term care (excluding senior care)                0.000171\n",
              "759 - Sto: Other Metal/Electrical/Misc Parts                                     0.000171\n",
              "415 - Computer, electronic data processing, records storage                      0.000171\n",
              "204 - Police Station (with detention quarters)                                   0.000171\n",
              "669 - Mfg: Other Vehicles, Parts                                                 0.000171\n",
              "112 - Art Gallery                                                                0.000171\n",
              "537 - Rug, floor covering store                                                  0.000171\n",
              "652 - Mfg: Primary Processing (eg sawmill, plywood manufacturer, etc)            0.000171\n",
              "716 - Sto: Packed food stuffs (not classified by other codes)                    0.000171\n",
              "831 - Agricultural Products                                                      0.000171\n",
              "709 - Sto: Cold Storage - Processed Food                                         0.000171\n",
              "634 - Mfg: Alcoholic Beverages                                                   0.000171\n",
              "832 - Processed Food Beverages                                                   0.000171\n",
              "870 - Barn - containing equipment or produce only                                0.000171\n",
              "163 - Indoor Swimming Facility                                                   0.000171\n",
              "172 - Stadium                                                                    0.000171\n",
              "222 - Institute for the blind, deaf                                              0.000171\n",
              "604 - Motor Vehicle Parts, Accessory Sales                                       0.000171\n",
              "535 - Computer/electronics store, service or repair                              0.000171\n",
              "749 - Sto: Other Vehicles, Parts                                                 0.000171\n",
              "621 - Mfg: Petroleum Products                                                    0.000171\n",
              "801 - Mine                                                                       0.000171\n",
              "683 - Sto: Plastics                                                              0.000114\n",
              "707 - Sto: Vegetable/Animal Oil Products                                         0.000114\n",
              "406 - Police Station (without detention quarters)                                0.000114\n",
              "410 - Small Tool/Appliance Rental/Service Establishment                          0.000114\n",
              "218 - Hospice                                                                    0.000114\n",
              "703 - Sto: Grain Products, Bakery Goods                                          0.000114\n",
              "299 - Other Care & Detention Not Classified                                      0.000114\n",
              "531 - Florist                                                                    0.000114\n",
              "402 - Post Office                                                                0.000114\n",
              "127 - Casino                                                                     0.000114\n",
              "742 - Sto: Rail Vehicles, Parts                                                  0.000114\n",
              "541 - Tent or temporary structure for Mercantile activity                        0.000114\n",
              "131 - School - Pre-Elementary                                                    0.000114\n",
              "136 - School - Business, Commerce, Secretarial                                   0.000114\n",
              "914 - Multiple Rail Vehicles                                                     0.000114\n",
              "833 - Flammable/Combustible Liquids, Gases                                       0.000114\n",
              "128 - Bingo Hall                                                                 0.000114\n",
              "724 - Sto: Dry Cleaning Plant                                                    0.000114\n",
              "175 - Tent or temporary structure for assembly activity                          0.000114\n",
              "665 - Specialty Vehicles, Parts                                                  0.000114\n",
              "854 - Sauna - Outdoors                                                           0.000114\n",
              "529 - Book/Stationary/Art Supply Store                                           0.000114\n",
              "528 - Garden Supply                                                              0.000114\n",
              "769 - Sto: Tent or temporary structure for industrial storage                    0.000114\n",
              "821 - Radio Transmission Site, Microwave Tower                                   0.000114\n",
              "122 - Dance Studio                                                               0.000114\n",
              "943 - Agricultural Vehicles                                                      0.000114\n",
              "673 - Mfg: Prec.Goods/Instruments (eg surgical instr, cameras, etc)              0.000114\n",
              "822 - Telephone Exchange                                                         0.000114\n",
              "664 - Mfg: Aircraft, Parts                                                       0.000114\n",
              "534 - Video Rental Shop                                                          0.000114\n",
              "154 - Funeral Facility                                                           0.000114\n",
              "835 - Textiles, Fibres, Clothing                                                 0.000114\n",
              "344 - Houseboat                                                                  0.000114\n",
              "641 - Mfg: Textile Manufacturing (e.g. preparing fibers, spinning, weaving)      0.000114\n",
              "646 - Mfg:  Floor covering and coated fabrics (exc rubber, ceramic)              0.000114\n",
              "416 - Furniture, upholstery repair without sales                                 0.000114\n",
              "342 - Mobile Home                                                                0.000114\n",
              "126 - Non Residential Club                                                       0.000114\n",
              "615 - Water Works                                                                0.000114\n",
              "872 - Animal shelter, excluding farm structures                                  0.000114\n",
              "527 - Lumber Yard                                                                0.000114\n",
              "155 - Legislative Facility/Building                                              0.000114\n",
              "761 - Sto: Glass & Glass Products, pottery, chinaware                            0.000057\n",
              "202 - Reformatory (with detention quarters)                                      0.000057\n",
              "752 - Sto: Secondary Metal Products                                              0.000057\n",
              "699 - Sto: Other Chem/Petroleum/Paint/Plastic Products                           0.000057\n",
              "869 - Other farm building (e.g. curing shed, growing facility)                   0.000057\n",
              "524 - Paint/Wallpaper Store                                                      0.000057\n",
              "702 - Sto: Dairy Goods, Produce                                                  0.000057\n",
              "620 - Heating Plant - central/district heating plant, steam, etc                 0.000057\n",
              "729 - Sto: Other Textile Goods                                                   0.000057\n",
              "369 - Convent, Monastery                                                         0.000057\n",
              "845 - Telephone Booth                                                            0.000057\n",
              "705 - Sto: Soft Drinks                                                           0.000057\n",
              "412 - Engineering, Architect or Tech office                                      0.000057\n",
              "723 - Sto: Wearing Apparal                                                       0.000057\n",
              "719 - Sto: Other Agri Products, Food, Beverages, Tobacco, etc                    0.000057\n",
              "721 - Sto: Textiles                                                              0.000057\n",
              "868 - Greenhouse                                                                 0.000057\n",
              "343 - Tent                                                                       0.000057\n",
              "663 - Mfg: Watercraft, Parts                                                     0.000057\n",
              "945 - Tank truck - Compressed or LP Gas, flammable liquid, chemicals             0.000057\n",
              "203 - Adult Detention Camp (minimum security)                                    0.000057\n",
              "217 - Infirmary                                                                  0.000057\n",
              "605 - Car Wash                                                                   0.000057\n",
              "414 - Document centre, record repository (inc archives)                          0.000057\n",
              "506 - Market - Outdoors (flowers, fruit, vegetable sales)                        0.000057\n",
              "174 - Bleacher, Grandstand, Reviewing Stand                                      0.000057\n",
              "691 - Sto: Tank, Tank Farm, Other Liquids                                        0.000057\n",
              "624 - Mfg: Paint, Varnishes, Lacquers                                            0.000057\n",
              "871 - Barn - housing animals                                                     0.000057\n",
              "640 - Mfg:  Canning, preserving, processing fruits, vegetables                   0.000057\n",
              "637 - Mfg: Vegetable/Animal Oil Products                                         0.000057\n",
              "356 - Hotel, Motel, Lodging - Less than 4 guests or suites (inc B&B)             0.000057\n",
              "522 - Fabric Store                                                               0.000057\n",
              "753 - Sto: Precision Goods/Instruments                                           0.000057\n",
              "687 - Sto: Asphalt Products                                                      0.000057\n",
              "745 - Sto: Specialty Vehicles, Parts                                             0.000057\n",
              "512 - Catalogue/Mail Order Outlet                                                0.000057\n",
              "115 - Lecture Hall                                                               0.000057\n",
              "678 - Mfg:Glass & glass products, china, pottery                                 0.000057\n",
              "674 - Mfg: Precious Metals, Jewellery                                            0.000057\n",
              "413 - Mailing, photocopying office                                               0.000057\n",
              "708 - Sto: Sugar Refining, Sugar Products                                        0.000057\n",
              "211 - Psychiatric Hospital (without detention quarters)                          0.000057\n",
              "803 - Quarry                                                                     0.000057\n",
              "Name: Property_Use, dtype: float64"
            ]
          },
          "metadata": {},
          "execution_count": 16
        }
      ]
    },
    {
      "cell_type": "code",
      "metadata": {
        "colab": {
          "base_uri": "https://localhost:8080/"
        },
        "id": "4fLpH588Gz7j",
        "outputId": "f10dc052-9a78-4a08-87e1-df0b02845806"
      },
      "source": [
        "df['Property_Use'].isnull().sum()"
      ],
      "execution_count": null,
      "outputs": [
        {
          "output_type": "execute_result",
          "data": {
            "text/plain": [
              "1"
            ]
          },
          "metadata": {},
          "execution_count": 18
        }
      ]
    },
    {
      "cell_type": "markdown",
      "metadata": {
        "id": "6qxA1QECEedH"
      },
      "source": [
        "# Demographic data"
      ]
    },
    {
      "cell_type": "code",
      "metadata": {
        "id": "QbMt8bD1LY9n"
      },
      "source": [
        "#load household/dwelling structure/construction age by FSA\n",
        "df_household=pd.read_csv('2016_CensusDataFSA_HouseholdStructure.csv') #possible features: ratio of highrises vs other, age of structure??\n",
        "#load poulation data by FSA\n",
        "df_population=pd.read_csv('2016_CensusDataFSA_Population.csv') #population density? need to find area\n",
        "#load family structure by FSA (might be redundant) \n",
        "df_family=pd.read_csv('2016_CensusDataFSA_FamilyStructure.csv')"
      ],
      "execution_count": null,
      "outputs": []
    },
    {
      "cell_type": "code",
      "metadata": {
        "id": "6xv5liTjOhWA"
      },
      "source": [
        "#load geographic data\n",
        "fsa=pd.read_csv('fsa_area_2016.csv')\n",
        "#set first row as column names\n",
        "fsa.columns=fsa.iloc[0]\n",
        "fsa=fsa[1:]"
      ],
      "execution_count": null,
      "outputs": []
    },
    {
      "cell_type": "code",
      "metadata": {
        "id": "dp1DLV9uOqhx"
      },
      "source": [
        "fsa=fsa.rename(columns={\"CFSAUID\":\"Geo Code\"})"
      ],
      "execution_count": null,
      "outputs": []
    },
    {
      "cell_type": "markdown",
      "metadata": {
        "id": "VK-dYikmwsAs"
      },
      "source": [
        "##Population density per FSA"
      ]
    },
    {
      "cell_type": "code",
      "metadata": {
        "colab": {
          "base_uri": "https://localhost:8080/"
        },
        "id": "8QPCtnFbMmox",
        "outputId": "aeb484fe-7f77-4326-b8b7-4a95241ffe4e"
      },
      "source": [
        "df_population['Category'].unique()"
      ],
      "execution_count": null,
      "outputs": [
        {
          "output_type": "execute_result",
          "data": {
            "text/plain": [
              "array(['Population; 2016', 'Population; 2011',\n",
              "       'Population percentage change; 2011 to 2016',\n",
              "       'Total private dwellings',\n",
              "       'Private dwellings occupied by usual residents',\n",
              "       'Population density per square kilometre',\n",
              "       'Land area in square kilometres'], dtype=object)"
            ]
          },
          "metadata": {},
          "execution_count": 60
        }
      ]
    },
    {
      "cell_type": "code",
      "metadata": {
        "id": "agZZ1gl2N35B"
      },
      "source": [
        "population_by_FSA=df_population[df_population['Category']=='Population; 2016']"
      ],
      "execution_count": null,
      "outputs": []
    },
    {
      "cell_type": "code",
      "metadata": {
        "id": "QicWttUMyBDA"
      },
      "source": [
        "# join population and area data together\n",
        "population_density_by_FSA=pd.merge(population_by_FSA[['Geo Code','Counts']], fsa, on='Geo Code', how='inner')\n",
        "#calculate density\n",
        "population_density_by_FSA['Counts']=pd.to_numeric(population_density_by_FSA['Counts'])\n",
        "population_density_by_FSA['Area Sq Km']=pd.to_numeric(population_density_by_FSA['Area Sq Km'])\n",
        "population_density_by_FSA['density']=round(population_density_by_FSA['Counts']/population_density_by_FSA['Area Sq Km'],2)\n",
        "#population_density_by_FSA.dtypes"
      ],
      "execution_count": null,
      "outputs": []
    },
    {
      "cell_type": "code",
      "metadata": {
        "colab": {
          "base_uri": "https://localhost:8080/",
          "height": 204
        },
        "id": "3trhKSgi4mrt",
        "outputId": "56b748f5-04d4-4d92-de5c-822330dd972f"
      },
      "source": [
        "population_density_by_FSA.head()"
      ],
      "execution_count": null,
      "outputs": [
        {
          "output_type": "execute_result",
          "data": {
            "text/html": [
              "<div>\n",
              "<style scoped>\n",
              "    .dataframe tbody tr th:only-of-type {\n",
              "        vertical-align: middle;\n",
              "    }\n",
              "\n",
              "    .dataframe tbody tr th {\n",
              "        vertical-align: top;\n",
              "    }\n",
              "\n",
              "    .dataframe thead th {\n",
              "        text-align: right;\n",
              "    }\n",
              "</style>\n",
              "<table border=\"1\" class=\"dataframe\">\n",
              "  <thead>\n",
              "    <tr style=\"text-align: right;\">\n",
              "      <th></th>\n",
              "      <th>Geo Code</th>\n",
              "      <th>Counts</th>\n",
              "      <th>PRUID</th>\n",
              "      <th>PRNAME</th>\n",
              "      <th>Area Sq Km</th>\n",
              "      <th>density</th>\n",
              "    </tr>\n",
              "  </thead>\n",
              "  <tbody>\n",
              "    <tr>\n",
              "      <th>0</th>\n",
              "      <td>M1B</td>\n",
              "      <td>66108</td>\n",
              "      <td>35</td>\n",
              "      <td>Ontario</td>\n",
              "      <td>37.470902</td>\n",
              "      <td>1764.25</td>\n",
              "    </tr>\n",
              "    <tr>\n",
              "      <th>1</th>\n",
              "      <td>M1C</td>\n",
              "      <td>35626</td>\n",
              "      <td>35</td>\n",
              "      <td>Ontario</td>\n",
              "      <td>14.761468</td>\n",
              "      <td>2413.45</td>\n",
              "    </tr>\n",
              "    <tr>\n",
              "      <th>2</th>\n",
              "      <td>M1G</td>\n",
              "      <td>29690</td>\n",
              "      <td>35</td>\n",
              "      <td>Ontario</td>\n",
              "      <td>9.496478</td>\n",
              "      <td>3126.42</td>\n",
              "    </tr>\n",
              "    <tr>\n",
              "      <th>3</th>\n",
              "      <td>M1H</td>\n",
              "      <td>24383</td>\n",
              "      <td>35</td>\n",
              "      <td>Ontario</td>\n",
              "      <td>5.121544</td>\n",
              "      <td>4760.87</td>\n",
              "    </tr>\n",
              "    <tr>\n",
              "      <th>4</th>\n",
              "      <td>M1J</td>\n",
              "      <td>36699</td>\n",
              "      <td>35</td>\n",
              "      <td>Ontario</td>\n",
              "      <td>6.438187</td>\n",
              "      <td>5700.21</td>\n",
              "    </tr>\n",
              "  </tbody>\n",
              "</table>\n",
              "</div>"
            ],
            "text/plain": [
              "  Geo Code  Counts PRUID   PRNAME  Area Sq Km  density\n",
              "0  M1B      66108   35    Ontario  37.470902   1764.25\n",
              "1  M1C      35626   35    Ontario  14.761468   2413.45\n",
              "2  M1G      29690   35    Ontario  9.496478    3126.42\n",
              "3  M1H      24383   35    Ontario  5.121544    4760.87\n",
              "4  M1J      36699   35    Ontario  6.438187    5700.21"
            ]
          },
          "metadata": {},
          "execution_count": 63
        }
      ]
    },
    {
      "cell_type": "code",
      "metadata": {
        "id": "xjvQeN3iFzFW"
      },
      "source": [
        "population_density_by_FSA=population_density_by_FSA.drop(columns=[col for col in population_density_by_FSA.columns if col not in ['Geo Code','density']], axis=1)"
      ],
      "execution_count": null,
      "outputs": []
    },
    {
      "cell_type": "code",
      "metadata": {
        "colab": {
          "base_uri": "https://localhost:8080/",
          "height": 204
        },
        "id": "xJyhgSWoIhTb",
        "outputId": "3c468127-51ed-42d9-9a16-8fd5b8b78879"
      },
      "source": [
        "population_density_by_FSA.head()"
      ],
      "execution_count": null,
      "outputs": [
        {
          "output_type": "execute_result",
          "data": {
            "text/html": [
              "<div>\n",
              "<style scoped>\n",
              "    .dataframe tbody tr th:only-of-type {\n",
              "        vertical-align: middle;\n",
              "    }\n",
              "\n",
              "    .dataframe tbody tr th {\n",
              "        vertical-align: top;\n",
              "    }\n",
              "\n",
              "    .dataframe thead th {\n",
              "        text-align: right;\n",
              "    }\n",
              "</style>\n",
              "<table border=\"1\" class=\"dataframe\">\n",
              "  <thead>\n",
              "    <tr style=\"text-align: right;\">\n",
              "      <th></th>\n",
              "      <th>Geo Code</th>\n",
              "      <th>density</th>\n",
              "    </tr>\n",
              "  </thead>\n",
              "  <tbody>\n",
              "    <tr>\n",
              "      <th>0</th>\n",
              "      <td>M1B</td>\n",
              "      <td>1764.25</td>\n",
              "    </tr>\n",
              "    <tr>\n",
              "      <th>1</th>\n",
              "      <td>M1C</td>\n",
              "      <td>2413.45</td>\n",
              "    </tr>\n",
              "    <tr>\n",
              "      <th>2</th>\n",
              "      <td>M1G</td>\n",
              "      <td>3126.42</td>\n",
              "    </tr>\n",
              "    <tr>\n",
              "      <th>3</th>\n",
              "      <td>M1H</td>\n",
              "      <td>4760.87</td>\n",
              "    </tr>\n",
              "    <tr>\n",
              "      <th>4</th>\n",
              "      <td>M1J</td>\n",
              "      <td>5700.21</td>\n",
              "    </tr>\n",
              "  </tbody>\n",
              "</table>\n",
              "</div>"
            ],
            "text/plain": [
              "  Geo Code  density\n",
              "0  M1B      1764.25\n",
              "1  M1C      2413.45\n",
              "2  M1G      3126.42\n",
              "3  M1H      4760.87\n",
              "4  M1J      5700.21"
            ]
          },
          "metadata": {},
          "execution_count": 99
        }
      ]
    },
    {
      "cell_type": "markdown",
      "metadata": {
        "id": "6RWw21JWY_uG"
      },
      "source": [
        "##building condition"
      ]
    },
    {
      "cell_type": "code",
      "metadata": {
        "colab": {
          "base_uri": "https://localhost:8080/"
        },
        "id": "QzDSkyMHLmvl",
        "outputId": "cb917db4-29e7-49b7-c896-c8d745432f84"
      },
      "source": [
        "df_household['Category'].unique()"
      ],
      "execution_count": null,
      "outputs": [
        {
          "output_type": "execute_result",
          "data": {
            "text/plain": [
              "array(['Total - Private households by household type - 100% data',\n",
              "       'Total - Private households by tenure - 25% sample data',\n",
              "       'Total - Occupied private dwellings by condominium status - 25% sample data',\n",
              "       'Total - Occupied private dwellings by number of bedrooms - 25% sample data',\n",
              "       'Total - Occupied private dwellings by number of rooms - 25% sample data',\n",
              "       'Average number of rooms per dwelling',\n",
              "       'Total - Private households by number of persons per room - 25% sample data',\n",
              "       'Total - Private households by housing suitability - 25% sample data',\n",
              "       'Total - Occupied private dwellings by period of construction - 25% sample data',\n",
              "       'Total - Occupied private dwellings by dwelling condition - 25% sample data',\n",
              "       'Total - Private households by number of household maintainers - 25% sample data',\n",
              "       'Total - Private households by age of primary household maintainers - 25% sample data',\n",
              "       'Total -  Owner and tenant households with household total income greater than zero; in non-farm; non-reserve private dwellings by shelter-cost-to-income ratio - 25% sample data',\n",
              "       'Total - Owner households in non-farm; non-reserve private dwellings - 25% sample data',\n",
              "       'Total - Tenant households in non-farm; non-reserve private dwellings - 25% sample data'],\n",
              "      dtype=object)"
            ]
          },
          "metadata": {},
          "execution_count": 21
        }
      ]
    },
    {
      "cell_type": "code",
      "metadata": {
        "id": "dlZ9Rt-k2_sI"
      },
      "source": [
        "#residential building condition\n",
        "df_condition=df_household.loc[df_household['Category']=='Total - Occupied private dwellings by dwelling condition - 25% sample data']\n",
        "df_condition=df_condition.pivot(index='Geo Code', columns='Sub Category', values='Counts')"
      ],
      "execution_count": null,
      "outputs": []
    },
    {
      "cell_type": "code",
      "metadata": {
        "id": "_fVR3esI7B3n"
      },
      "source": [
        "#clean up data frame\n",
        "df_condition=df_condition.rename(columns={df_condition.columns[0]: 'Total'})\n",
        "df_condition=df_condition[df_condition['Total']!='x']\n",
        "df_condition['Major repairs needed']=pd.to_numeric(df_condition['Major repairs needed'])\n",
        "df_condition['Total']=pd.to_numeric(df_condition['Total'])\n",
        "#proportion of residents that require major repairs\n",
        "df_condition['poor_building_condition']=(df_condition['Major repairs needed'])/(df_condition['Total'])"
      ],
      "execution_count": null,
      "outputs": []
    },
    {
      "cell_type": "code",
      "metadata": {
        "colab": {
          "base_uri": "https://localhost:8080/",
          "height": 238
        },
        "id": "gQrr9WxLELIk",
        "outputId": "1f86933d-c687-427a-b088-f471ed4063de"
      },
      "source": [
        "df_condition=df_condition.reset_index()\n",
        "df_condition.head()"
      ],
      "execution_count": null,
      "outputs": [
        {
          "output_type": "execute_result",
          "data": {
            "text/html": [
              "<div>\n",
              "<style scoped>\n",
              "    .dataframe tbody tr th:only-of-type {\n",
              "        vertical-align: middle;\n",
              "    }\n",
              "\n",
              "    .dataframe tbody tr th {\n",
              "        vertical-align: top;\n",
              "    }\n",
              "\n",
              "    .dataframe thead th {\n",
              "        text-align: right;\n",
              "    }\n",
              "</style>\n",
              "<table border=\"1\" class=\"dataframe\">\n",
              "  <thead>\n",
              "    <tr style=\"text-align: right;\">\n",
              "      <th>Sub Category</th>\n",
              "      <th>Geo Code</th>\n",
              "      <th>Total</th>\n",
              "      <th>Major repairs needed</th>\n",
              "      <th>Only regular maintenance or minor repairs needed</th>\n",
              "      <th>poor_building_condition</th>\n",
              "    </tr>\n",
              "  </thead>\n",
              "  <tbody>\n",
              "    <tr>\n",
              "      <th>0</th>\n",
              "      <td>Canada</td>\n",
              "      <td>14072075</td>\n",
              "      <td>920480</td>\n",
              "      <td>13151600</td>\n",
              "      <td>0.065412</td>\n",
              "    </tr>\n",
              "    <tr>\n",
              "      <th>1</th>\n",
              "      <td>M1B</td>\n",
              "      <td>20235</td>\n",
              "      <td>1130</td>\n",
              "      <td>19105</td>\n",
              "      <td>0.055844</td>\n",
              "    </tr>\n",
              "    <tr>\n",
              "      <th>2</th>\n",
              "      <td>M1C</td>\n",
              "      <td>11270</td>\n",
              "      <td>465</td>\n",
              "      <td>10805</td>\n",
              "      <td>0.041260</td>\n",
              "    </tr>\n",
              "    <tr>\n",
              "      <th>3</th>\n",
              "      <td>M1G</td>\n",
              "      <td>9825</td>\n",
              "      <td>1075</td>\n",
              "      <td>8750</td>\n",
              "      <td>0.109415</td>\n",
              "    </tr>\n",
              "    <tr>\n",
              "      <th>4</th>\n",
              "      <td>M1H</td>\n",
              "      <td>8930</td>\n",
              "      <td>500</td>\n",
              "      <td>8435</td>\n",
              "      <td>0.055991</td>\n",
              "    </tr>\n",
              "  </tbody>\n",
              "</table>\n",
              "</div>"
            ],
            "text/plain": [
              "Sub Category Geo Code     Total  Major repairs needed  \\\n",
              "0             Canada   14072075  920480                 \n",
              "1             M1B      20235     1130                   \n",
              "2             M1C      11270     465                    \n",
              "3             M1G      9825      1075                   \n",
              "4             M1H      8930      500                    \n",
              "\n",
              "Sub Category Only regular maintenance or minor repairs needed  \\\n",
              "0             13151600                                          \n",
              "1             19105                                             \n",
              "2             10805                                             \n",
              "3             8750                                              \n",
              "4             8435                                              \n",
              "\n",
              "Sub Category  poor_building_condition  \n",
              "0             0.065412                 \n",
              "1             0.055844                 \n",
              "2             0.041260                 \n",
              "3             0.109415                 \n",
              "4             0.055991                 "
            ]
          },
          "metadata": {},
          "execution_count": 88
        }
      ]
    },
    {
      "cell_type": "code",
      "metadata": {
        "id": "4G9jZiZdHCnN"
      },
      "source": [
        "df_condition=df_condition.drop(columns=[col for col in df_condition.columns if col not in ['Geo Code','poor_building_condition']], axis=1)"
      ],
      "execution_count": null,
      "outputs": []
    },
    {
      "cell_type": "markdown",
      "metadata": {
        "id": "vEID4b53CCE8"
      },
      "source": [
        "## dwell type: % condo"
      ]
    },
    {
      "cell_type": "code",
      "metadata": {
        "id": "lcqS60XY8-SB"
      },
      "source": [
        "#dwelling type (condo vs non-condo)\n",
        "df_dwell=df_household.loc[df_household['Category']=='Total - Occupied private dwellings by condominium status - 25% sample data']\n",
        "df_dwell=df_dwell.pivot(index='Geo Code', columns='Sub Category', values='Counts')"
      ],
      "execution_count": null,
      "outputs": []
    },
    {
      "cell_type": "code",
      "metadata": {
        "colab": {
          "base_uri": "https://localhost:8080/"
        },
        "id": "Wgx62uCbA3u_",
        "outputId": "23123fd5-c686-4fb2-cee2-3910ca659372"
      },
      "source": [
        "df_dwell.columns"
      ],
      "execution_count": null,
      "outputs": [
        {
          "output_type": "execute_result",
          "data": {
            "text/plain": [
              "Index([nan, 'Condominium', 'Not condominium'], dtype='object', name='Sub Category')"
            ]
          },
          "metadata": {},
          "execution_count": 73
        }
      ]
    },
    {
      "cell_type": "code",
      "metadata": {
        "id": "6BtP-lYf8T7P"
      },
      "source": [
        "#clean up data frame\n",
        "df_dwell=df_dwell.rename(columns={df_dwell.columns[0]: 'Total'})\n",
        "df_dwell=df_dwell[df_dwell['Total']!='x']\n",
        "df_dwell['Condominium']=pd.to_numeric(df_dwell['Condominium'])\n",
        "df_dwell['Total']=pd.to_numeric(df_dwell['Total'])\n",
        "#proportion of residents that live in condo\n",
        "df_dwell['condo_dwelling']=(df_dwell['Condominium'])/(df_dwell['Total'])"
      ],
      "execution_count": null,
      "outputs": []
    },
    {
      "cell_type": "code",
      "metadata": {
        "colab": {
          "base_uri": "https://localhost:8080/",
          "height": 204
        },
        "id": "zOZ82nSqBgxG",
        "outputId": "14b1d946-e287-4087-9d09-1effb0583353"
      },
      "source": [
        "df_dwell=df_dwell.reset_index()\n",
        "df_dwell.head()"
      ],
      "execution_count": null,
      "outputs": [
        {
          "output_type": "execute_result",
          "data": {
            "text/html": [
              "<div>\n",
              "<style scoped>\n",
              "    .dataframe tbody tr th:only-of-type {\n",
              "        vertical-align: middle;\n",
              "    }\n",
              "\n",
              "    .dataframe tbody tr th {\n",
              "        vertical-align: top;\n",
              "    }\n",
              "\n",
              "    .dataframe thead th {\n",
              "        text-align: right;\n",
              "    }\n",
              "</style>\n",
              "<table border=\"1\" class=\"dataframe\">\n",
              "  <thead>\n",
              "    <tr style=\"text-align: right;\">\n",
              "      <th>Sub Category</th>\n",
              "      <th>Geo Code</th>\n",
              "      <th>Total</th>\n",
              "      <th>Condominium</th>\n",
              "      <th>Not condominium</th>\n",
              "      <th>condo_dwelling</th>\n",
              "    </tr>\n",
              "  </thead>\n",
              "  <tbody>\n",
              "    <tr>\n",
              "      <th>0</th>\n",
              "      <td>Canada</td>\n",
              "      <td>14072080</td>\n",
              "      <td>1874835</td>\n",
              "      <td>12197240</td>\n",
              "      <td>0.133231</td>\n",
              "    </tr>\n",
              "    <tr>\n",
              "      <th>1</th>\n",
              "      <td>M1B</td>\n",
              "      <td>20235</td>\n",
              "      <td>5570</td>\n",
              "      <td>14660</td>\n",
              "      <td>0.275266</td>\n",
              "    </tr>\n",
              "    <tr>\n",
              "      <th>2</th>\n",
              "      <td>M1C</td>\n",
              "      <td>11270</td>\n",
              "      <td>300</td>\n",
              "      <td>10970</td>\n",
              "      <td>0.026619</td>\n",
              "    </tr>\n",
              "    <tr>\n",
              "      <th>3</th>\n",
              "      <td>M1G</td>\n",
              "      <td>9825</td>\n",
              "      <td>295</td>\n",
              "      <td>9535</td>\n",
              "      <td>0.030025</td>\n",
              "    </tr>\n",
              "    <tr>\n",
              "      <th>4</th>\n",
              "      <td>M1H</td>\n",
              "      <td>8930</td>\n",
              "      <td>3310</td>\n",
              "      <td>5625</td>\n",
              "      <td>0.370661</td>\n",
              "    </tr>\n",
              "  </tbody>\n",
              "</table>\n",
              "</div>"
            ],
            "text/plain": [
              "Sub Category Geo Code     Total  Condominium Not condominium  condo_dwelling\n",
              "0             Canada   14072080  1874835      12197240        0.133231      \n",
              "1             M1B      20235     5570         14660           0.275266      \n",
              "2             M1C      11270     300          10970           0.026619      \n",
              "3             M1G      9825      295          9535            0.030025      \n",
              "4             M1H      8930      3310         5625            0.370661      "
            ]
          },
          "metadata": {},
          "execution_count": 75
        }
      ]
    },
    {
      "cell_type": "code",
      "metadata": {
        "id": "m4ac2h0xHtxi"
      },
      "source": [
        "df_dwell=df_dwell.drop(columns=['Total','Condominium','Not condominium'], axis=1)"
      ],
      "execution_count": null,
      "outputs": []
    },
    {
      "cell_type": "markdown",
      "metadata": {
        "id": "FpETBcfDOaFI"
      },
      "source": [
        "## Age and Gender"
      ]
    },
    {
      "cell_type": "code",
      "metadata": {
        "id": "otCIdbJi5AKl"
      },
      "source": [
        "#load age/gender by FSA\n",
        "other_census=pd.read_csv('Census_age.csv', dtype={'FSA':object, \n",
        "                                                 'Average_Age': np.float32,\n",
        "                                                 'Median_Age': np.float32,\n",
        "                                                 'Percent_male': np.float32})"
      ],
      "execution_count": null,
      "outputs": []
    },
    {
      "cell_type": "code",
      "metadata": {
        "id": "c3P_veQxFKqp"
      },
      "source": [
        "#Merge Demographic data\n",
        "from functools import reduce\n",
        "data_frames=[population_density_by_FSA,df_condition, df_dwell]\n",
        "df_merge=reduce(lambda left, right: pd.merge(left, right, on=['Geo Code'], how='outer'),data_frames)"
      ],
      "execution_count": null,
      "outputs": []
    },
    {
      "cell_type": "code",
      "metadata": {
        "id": "F5xqvmpSI4GO"
      },
      "source": [
        "df_merge=df_merge.rename(columns={'Geo Code': 'FSA'})"
      ],
      "execution_count": null,
      "outputs": []
    },
    {
      "cell_type": "code",
      "metadata": {
        "id": "IjxRZtgYJIQb"
      },
      "source": [
        "data_frames=[df_merge, other_census]\n",
        "df_demographics=reduce(lambda left, right: pd.merge(left, right, on=['FSA'], how='outer'), data_frames)"
      ],
      "execution_count": null,
      "outputs": []
    },
    {
      "cell_type": "code",
      "metadata": {
        "id": "uH0NrnZ2IV_d"
      },
      "source": [
        "df_demographics.to_csv('demographics.csv')"
      ],
      "execution_count": null,
      "outputs": []
    }
  ]
}