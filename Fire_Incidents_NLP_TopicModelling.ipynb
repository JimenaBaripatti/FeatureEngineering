{
  "nbformat": 4,
  "nbformat_minor": 0,
  "metadata": {
    "colab": {
      "name": "Fire_Incidents_NLP_TopicModelling.ipynb",
      "provenance": [],
      "authorship_tag": "ABX9TyMmg3EnkdIOa6Tw3hczdVsa",
      "include_colab_link": true
    },
    "kernelspec": {
      "name": "python3",
      "display_name": "Python 3"
    },
    "language_info": {
      "name": "python"
    }
  },
  "cells": [
    {
      "cell_type": "markdown",
      "metadata": {
        "id": "view-in-github",
        "colab_type": "text"
      },
      "source": [
        "<a href=\"https://colab.research.google.com/github/JimenaBaripatti/FeatureEngineering/blob/main/Fire_Incidents_NLP_TopicModelling.ipynb\" target=\"_parent\"><img src=\"https://colab.research.google.com/assets/colab-badge.svg\" alt=\"Open In Colab\"/></a>"
      ]
    },
    {
      "cell_type": "markdown",
      "metadata": {
        "id": "V8X6ouWnns0V"
      },
      "source": [
        "**Cardinality reduction of semi-fixed text variables**\n",
        "\n",
        "Process: text preprocessing, BoW, LDA Topic Modelling "
      ]
    },
    {
      "cell_type": "code",
      "metadata": {
        "id": "vDdJTixz2zRU"
      },
      "source": [
        "import warnings\n",
        "warnings.filterwarnings('ignore')"
      ],
      "execution_count": 33,
      "outputs": []
    },
    {
      "cell_type": "code",
      "metadata": {
        "colab": {
          "base_uri": "https://localhost:8080/"
        },
        "id": "CTUSZoydm8cC",
        "outputId": "a70107eb-d464-4741-9ed5-dd9c90e422d9"
      },
      "source": [
        "!pip install Unidecode"
      ],
      "execution_count": 2,
      "outputs": [
        {
          "output_type": "stream",
          "name": "stdout",
          "text": [
            "Requirement already satisfied: Unidecode in /usr/local/lib/python3.7/dist-packages (1.3.2)\n"
          ]
        }
      ]
    },
    {
      "cell_type": "code",
      "metadata": {
        "colab": {
          "base_uri": "https://localhost:8080/"
        },
        "id": "XoYDAYk1w_6A",
        "outputId": "457907c8-bf1f-4fb5-90e5-7be5078ca0d3"
      },
      "source": [
        "!pip install flashtext"
      ],
      "execution_count": 3,
      "outputs": [
        {
          "output_type": "stream",
          "name": "stdout",
          "text": [
            "Requirement already satisfied: flashtext in /usr/local/lib/python3.7/dist-packages (2.7)\n"
          ]
        }
      ]
    },
    {
      "cell_type": "code",
      "metadata": {
        "colab": {
          "base_uri": "https://localhost:8080/"
        },
        "id": "-p3j1p4rEp_l",
        "outputId": "02846b54-598b-48f6-c3f3-767ef5fcec76"
      },
      "source": [
        "!pip install pyldavis"
      ],
      "execution_count": 4,
      "outputs": [
        {
          "output_type": "stream",
          "name": "stdout",
          "text": [
            "Requirement already satisfied: pyldavis in /usr/local/lib/python3.7/dist-packages (3.3.1)\n",
            "Requirement already satisfied: future in /usr/local/lib/python3.7/dist-packages (from pyldavis) (0.16.0)\n",
            "Requirement already satisfied: numexpr in /usr/local/lib/python3.7/dist-packages (from pyldavis) (2.7.3)\n",
            "Requirement already satisfied: scipy in /usr/local/lib/python3.7/dist-packages (from pyldavis) (1.4.1)\n",
            "Requirement already satisfied: funcy in /usr/local/lib/python3.7/dist-packages (from pyldavis) (1.16)\n",
            "Requirement already satisfied: pandas>=1.2.0 in /usr/local/lib/python3.7/dist-packages (from pyldavis) (1.3.4)\n",
            "Requirement already satisfied: setuptools in /usr/local/lib/python3.7/dist-packages (from pyldavis) (57.4.0)\n",
            "Requirement already satisfied: scikit-learn in /usr/local/lib/python3.7/dist-packages (from pyldavis) (1.0.1)\n",
            "Requirement already satisfied: jinja2 in /usr/local/lib/python3.7/dist-packages (from pyldavis) (2.11.3)\n",
            "Requirement already satisfied: numpy>=1.20.0 in /usr/local/lib/python3.7/dist-packages (from pyldavis) (1.21.4)\n",
            "Requirement already satisfied: gensim in /usr/local/lib/python3.7/dist-packages (from pyldavis) (3.6.0)\n",
            "Requirement already satisfied: sklearn in /usr/local/lib/python3.7/dist-packages (from pyldavis) (0.0)\n",
            "Requirement already satisfied: joblib in /usr/local/lib/python3.7/dist-packages (from pyldavis) (1.1.0)\n",
            "Requirement already satisfied: pytz>=2017.3 in /usr/local/lib/python3.7/dist-packages (from pandas>=1.2.0->pyldavis) (2018.9)\n",
            "Requirement already satisfied: python-dateutil>=2.7.3 in /usr/local/lib/python3.7/dist-packages (from pandas>=1.2.0->pyldavis) (2.8.2)\n",
            "Requirement already satisfied: six>=1.5 in /usr/local/lib/python3.7/dist-packages (from python-dateutil>=2.7.3->pandas>=1.2.0->pyldavis) (1.15.0)\n",
            "Requirement already satisfied: smart-open>=1.2.1 in /usr/local/lib/python3.7/dist-packages (from gensim->pyldavis) (5.2.1)\n",
            "Requirement already satisfied: MarkupSafe>=0.23 in /usr/local/lib/python3.7/dist-packages (from jinja2->pyldavis) (2.0.1)\n",
            "Requirement already satisfied: threadpoolctl>=2.0.0 in /usr/local/lib/python3.7/dist-packages (from scikit-learn->pyldavis) (3.0.0)\n"
          ]
        }
      ]
    },
    {
      "cell_type": "code",
      "metadata": {
        "id": "xU3poooNosAD"
      },
      "source": [
        "import pandas as pd\n",
        "import numpy as np"
      ],
      "execution_count": 5,
      "outputs": []
    },
    {
      "cell_type": "code",
      "metadata": {
        "id": "RVLhUZiGS7Z0"
      },
      "source": [
        "#general\n",
        "\n",
        "import time\n",
        "\n",
        "from collections import Counter\n",
        "\n",
        "from unidecode import unidecode\n",
        "\n",
        "import re\n",
        "\n",
        "import glob\n",
        "\n",
        "import pprint\n",
        "\n",
        "from pathlib import Path\n",
        "\n",
        "#nlp libraries\n",
        "\n",
        "from flashtext import KeywordProcessor\n",
        "\n",
        "keyword_processor = KeywordProcessor(case_sensitive=False)\n",
        "\n",
        "from nltk import bigrams\n",
        "\n",
        "from nltk.util import trigrams\n",
        "\n",
        "import spacy\n",
        "\n",
        "nlp = spacy.load('en_core_web_sm')"
      ],
      "execution_count": 6,
      "outputs": []
    },
    {
      "cell_type": "code",
      "metadata": {
        "id": "uSr3IRxo0GTg"
      },
      "source": [
        "import nltk"
      ],
      "execution_count": null,
      "outputs": []
    },
    {
      "cell_type": "code",
      "metadata": {
        "id": "7CG-oIej0Uuq"
      },
      "source": [
        "nltk.download('punkt')"
      ],
      "execution_count": null,
      "outputs": []
    },
    {
      "cell_type": "markdown",
      "metadata": {
        "id": "_motDpsymhSS"
      },
      "source": [
        "# Functions"
      ]
    },
    {
      "cell_type": "code",
      "metadata": {
        "id": "QzJNP60SmVMr"
      },
      "source": [
        "def remove_special_characters(text, remove_digits=False):\n",
        "\n",
        "    text = re.sub('\\'', '', text) # replace apostraphes with nothing\n",
        "\n",
        "    text = re.sub('’', '', text) # replace apostraphes with nothing\n",
        "\n",
        "    text = re.sub(u\"\\u2019\", '', text)\n",
        "\n",
        "    text = re.sub(u\"\\u2018\", '', text)# replace apostraphes with nothing\n",
        "\n",
        "    pattern = r'[^a-zA-z0-9\\s]' if not remove_digits else r'[^a-zA-z\\s]' #replace all other text with a space\n",
        "\n",
        "    text = re.sub(pattern, ' ', text)\n",
        "\n",
        "    return text\n",
        "\n",
        " \n",
        "\n",
        "def lemmatize(text):\n",
        "\n",
        "    sent = []\n",
        "\n",
        "    doc = nlp(text)\n",
        "\n",
        "    for word in doc:\n",
        "\n",
        "        if word.is_punct == False and word.is_alpha == True and word.is_stop == False and word.pos_ in {'NOUN', 'VERB', 'ADJ'} :\n",
        "\n",
        "            sent.append(word.lemma_)\n",
        "\n",
        "    return \" \".join(sent)\n",
        "\n",
        " \n",
        "\n",
        "def remove_stop_words(text):  \n",
        "\n",
        "    sent = []\n",
        "\n",
        "    doc = nlp(text)\n",
        "\n",
        "    for word in doc:\n",
        "\n",
        "        if word.is_stop == False:\n",
        "\n",
        "            sent.append(word.lemma_)\n",
        "\n",
        "    return \" \".join(sent)\n",
        "\n",
        " \n",
        "\n",
        "def standardize(text):\n",
        "\n",
        "    text = remove_special_characters(text)\n",
        "\n",
        "    text = lemmatize(text)\n",
        "\n",
        "    text = remove_stop_words(text)   \n",
        "\n",
        "    text = keyword_processor.replace_keywords(text)\n",
        "\n",
        "    return text"
      ],
      "execution_count": 7,
      "outputs": []
    },
    {
      "cell_type": "code",
      "metadata": {
        "id": "bCI7VDrtwDRr"
      },
      "source": [
        "def get_w_freq(serie_string):\n",
        "\n",
        "    \"\"\"\n",
        "\n",
        "    Create a dataframe with word frequency\n",
        "\n",
        "    \"\"\"\n",
        "\n",
        "    serie_docs = serie_string.str.split()\n",
        "\n",
        "    bow = serie_docs.explode()\n",
        "\n",
        "    count_words = Counter(bow)\n",
        "\n",
        "    return pd.DataFrame.from_records(count_words.most_common(), columns=['word', 'frequency'])\n",
        "\n",
        " \n",
        "\n",
        "def get_bigram_freq(serie, n):\n",
        "\n",
        "    tokens = serie[ serie.str.len() > 1].str.split() #only text with more than 1 word\n",
        "    serie_bigram = tokens.apply(lambda x: list(bigrams(x)))\n",
        "    count_bigrams = Counter(serie_bigram.explode())\n",
        "\n",
        "    return pd.DataFrame.from_records(count_bigrams.most_common(n), columns=['bigram', 'frequency'])"
      ],
      "execution_count": 8,
      "outputs": []
    },
    {
      "cell_type": "markdown",
      "metadata": {
        "id": "tS9vXBN735cg"
      },
      "source": [
        "# Clean text and standarize\n",
        "\n",
        "Use training data"
      ]
    },
    {
      "cell_type": "code",
      "metadata": {
        "id": "sjbj2yLbQiwa"
      },
      "source": [
        "df = pd.read_csv('https://raw.githubusercontent.com/JimenaBaripatti/FeatureEngineering/main/data/current_dataset/training_initial.csv')\n",
        "#create data frame to store high cardinality variables (X5), ID and label\n",
        "df_c = df[['Incident_Numberinc_','Property_Use','Initial_CAD_Event_Type','Ignition_Source','Area_of_Origin','Material_First_Ignited']].copy()"
      ],
      "execution_count": 9,
      "outputs": []
    },
    {
      "cell_type": "code",
      "metadata": {
        "colab": {
          "base_uri": "https://localhost:8080/",
          "height": 448
        },
        "id": "G1-J-t-wmtjS",
        "outputId": "387290de-3db6-4e89-d706-dac45ff4c4a9"
      },
      "source": [
        "df_c.head()"
      ],
      "execution_count": 11,
      "outputs": [
        {
          "output_type": "execute_result",
          "data": {
            "text/html": [
              "<div>\n",
              "<style scoped>\n",
              "    .dataframe tbody tr th:only-of-type {\n",
              "        vertical-align: middle;\n",
              "    }\n",
              "\n",
              "    .dataframe tbody tr th {\n",
              "        vertical-align: top;\n",
              "    }\n",
              "\n",
              "    .dataframe thead th {\n",
              "        text-align: right;\n",
              "    }\n",
              "</style>\n",
              "<table border=\"1\" class=\"dataframe\">\n",
              "  <thead>\n",
              "    <tr style=\"text-align: right;\">\n",
              "      <th></th>\n",
              "      <th>Incident_Numberinc_</th>\n",
              "      <th>Property_Use</th>\n",
              "      <th>Initial_CAD_Event_Type</th>\n",
              "      <th>Ignition_Source</th>\n",
              "      <th>Area_of_Origin</th>\n",
              "      <th>Material_First_Ignited</th>\n",
              "    </tr>\n",
              "    <tr>\n",
              "      <th>_id_x</th>\n",
              "      <th></th>\n",
              "      <th></th>\n",
              "      <th></th>\n",
              "      <th></th>\n",
              "      <th></th>\n",
              "      <th></th>\n",
              "    </tr>\n",
              "  </thead>\n",
              "  <tbody>\n",
              "    <tr>\n",
              "      <th>1951921</th>\n",
              "      <td>F17039755</td>\n",
              "      <td>539 - Gifts, jewellery, leather goods, mixed g...</td>\n",
              "      <td>FIHRD</td>\n",
              "      <td>12 - Oven</td>\n",
              "      <td>28 - Office</td>\n",
              "      <td>14 - Interior Wall/Ceiling</td>\n",
              "    </tr>\n",
              "    <tr>\n",
              "      <th>1949598</th>\n",
              "      <td>F18134861</td>\n",
              "      <td>896 - Sidewalk, street, roadway, highway, hwy ...</td>\n",
              "      <td>Fire - Grass/Rubbish</td>\n",
              "      <td>NaN</td>\n",
              "      <td>NaN</td>\n",
              "      <td>NaN</td>\n",
              "    </tr>\n",
              "    <tr>\n",
              "      <th>1964401</th>\n",
              "      <td>F13046589</td>\n",
              "      <td>323 - Multi-Unit Dwelling - Over 12 Units</td>\n",
              "      <td>FAHR</td>\n",
              "      <td>52 - Florescent Lamp (includes ballast)</td>\n",
              "      <td>12 - Hallway, Corridor</td>\n",
              "      <td>43 - Electrical Wiring Insulation</td>\n",
              "    </tr>\n",
              "    <tr>\n",
              "      <th>1961269</th>\n",
              "      <td>F13104454</td>\n",
              "      <td>323 - Multi-Unit Dwelling - Over 12 Units</td>\n",
              "      <td>FAHR</td>\n",
              "      <td>999 - Undetermined</td>\n",
              "      <td>42 - Garage</td>\n",
              "      <td>46 - Rubbish, Trash, Waste</td>\n",
              "    </tr>\n",
              "    <tr>\n",
              "      <th>1951192</th>\n",
              "      <td>F18062211</td>\n",
              "      <td>896 - Sidewalk, street, roadway, highway, hwy ...</td>\n",
              "      <td>Check Call</td>\n",
              "      <td>NaN</td>\n",
              "      <td>NaN</td>\n",
              "      <td>NaN</td>\n",
              "    </tr>\n",
              "  </tbody>\n",
              "</table>\n",
              "</div>"
            ],
            "text/plain": [
              "        Incident_Numberinc_  ...             Material_First_Ignited\n",
              "_id_x                        ...                                   \n",
              "1951921           F17039755  ...         14 - Interior Wall/Ceiling\n",
              "1949598           F18134861  ...                                NaN\n",
              "1964401           F13046589  ...  43 - Electrical Wiring Insulation\n",
              "1961269           F13104454  ...         46 - Rubbish, Trash, Waste\n",
              "1951192           F18062211  ...                                NaN\n",
              "\n",
              "[5 rows x 6 columns]"
            ]
          },
          "metadata": {},
          "execution_count": 11
        }
      ]
    },
    {
      "cell_type": "code",
      "metadata": {
        "colab": {
          "base_uri": "https://localhost:8080/"
        },
        "id": "UfEaqYK5-oEz",
        "outputId": "b751d145-e426-448d-bb7f-276a124c0f6d"
      },
      "source": [
        "df_c.shape"
      ],
      "execution_count": 12,
      "outputs": [
        {
          "output_type": "execute_result",
          "data": {
            "text/plain": [
              "(14028, 6)"
            ]
          },
          "metadata": {},
          "execution_count": 12
        }
      ]
    },
    {
      "cell_type": "code",
      "metadata": {
        "id": "baGlRUGir_Pf"
      },
      "source": [
        "df_c['raw_text'] = df_c['Property_Use'].str.cat(others= df_c[['Initial_CAD_Event_Type', 'Ignition_Source', 'Area_of_Origin', 'Material_First_Ignited']], sep=\" \" , na_rep= '',  )"
      ],
      "execution_count": 13,
      "outputs": []
    },
    {
      "cell_type": "code",
      "metadata": {
        "colab": {
          "base_uri": "https://localhost:8080/",
          "height": 692
        },
        "id": "owZ-sgrHt3SO",
        "outputId": "fbecca46-6df8-4aad-af44-ad94afe80ae5"
      },
      "source": [
        "df_c.head()"
      ],
      "execution_count": 14,
      "outputs": [
        {
          "output_type": "execute_result",
          "data": {
            "text/html": [
              "<div>\n",
              "<style scoped>\n",
              "    .dataframe tbody tr th:only-of-type {\n",
              "        vertical-align: middle;\n",
              "    }\n",
              "\n",
              "    .dataframe tbody tr th {\n",
              "        vertical-align: top;\n",
              "    }\n",
              "\n",
              "    .dataframe thead th {\n",
              "        text-align: right;\n",
              "    }\n",
              "</style>\n",
              "<table border=\"1\" class=\"dataframe\">\n",
              "  <thead>\n",
              "    <tr style=\"text-align: right;\">\n",
              "      <th></th>\n",
              "      <th>Incident_Numberinc_</th>\n",
              "      <th>Property_Use</th>\n",
              "      <th>Initial_CAD_Event_Type</th>\n",
              "      <th>Ignition_Source</th>\n",
              "      <th>Area_of_Origin</th>\n",
              "      <th>Material_First_Ignited</th>\n",
              "      <th>raw_text</th>\n",
              "    </tr>\n",
              "    <tr>\n",
              "      <th>_id_x</th>\n",
              "      <th></th>\n",
              "      <th></th>\n",
              "      <th></th>\n",
              "      <th></th>\n",
              "      <th></th>\n",
              "      <th></th>\n",
              "      <th></th>\n",
              "    </tr>\n",
              "  </thead>\n",
              "  <tbody>\n",
              "    <tr>\n",
              "      <th>1951921</th>\n",
              "      <td>F17039755</td>\n",
              "      <td>539 - Gifts, jewellery, leather goods, mixed g...</td>\n",
              "      <td>FIHRD</td>\n",
              "      <td>12 - Oven</td>\n",
              "      <td>28 - Office</td>\n",
              "      <td>14 - Interior Wall/Ceiling</td>\n",
              "      <td>539 - Gifts, jewellery, leather goods, mixed g...</td>\n",
              "    </tr>\n",
              "    <tr>\n",
              "      <th>1949598</th>\n",
              "      <td>F18134861</td>\n",
              "      <td>896 - Sidewalk, street, roadway, highway, hwy ...</td>\n",
              "      <td>Fire - Grass/Rubbish</td>\n",
              "      <td>NaN</td>\n",
              "      <td>NaN</td>\n",
              "      <td>NaN</td>\n",
              "      <td>896 - Sidewalk, street, roadway, highway, hwy ...</td>\n",
              "    </tr>\n",
              "    <tr>\n",
              "      <th>1964401</th>\n",
              "      <td>F13046589</td>\n",
              "      <td>323 - Multi-Unit Dwelling - Over 12 Units</td>\n",
              "      <td>FAHR</td>\n",
              "      <td>52 - Florescent Lamp (includes ballast)</td>\n",
              "      <td>12 - Hallway, Corridor</td>\n",
              "      <td>43 - Electrical Wiring Insulation</td>\n",
              "      <td>323 - Multi-Unit Dwelling - Over 12 Units FAHR...</td>\n",
              "    </tr>\n",
              "    <tr>\n",
              "      <th>1961269</th>\n",
              "      <td>F13104454</td>\n",
              "      <td>323 - Multi-Unit Dwelling - Over 12 Units</td>\n",
              "      <td>FAHR</td>\n",
              "      <td>999 - Undetermined</td>\n",
              "      <td>42 - Garage</td>\n",
              "      <td>46 - Rubbish, Trash, Waste</td>\n",
              "      <td>323 - Multi-Unit Dwelling - Over 12 Units FAHR...</td>\n",
              "    </tr>\n",
              "    <tr>\n",
              "      <th>1951192</th>\n",
              "      <td>F18062211</td>\n",
              "      <td>896 - Sidewalk, street, roadway, highway, hwy ...</td>\n",
              "      <td>Check Call</td>\n",
              "      <td>NaN</td>\n",
              "      <td>NaN</td>\n",
              "      <td>NaN</td>\n",
              "      <td>896 - Sidewalk, street, roadway, highway, hwy ...</td>\n",
              "    </tr>\n",
              "  </tbody>\n",
              "</table>\n",
              "</div>"
            ],
            "text/plain": [
              "        Incident_Numberinc_  ...                                           raw_text\n",
              "_id_x                        ...                                                   \n",
              "1951921           F17039755  ...  539 - Gifts, jewellery, leather goods, mixed g...\n",
              "1949598           F18134861  ...  896 - Sidewalk, street, roadway, highway, hwy ...\n",
              "1964401           F13046589  ...  323 - Multi-Unit Dwelling - Over 12 Units FAHR...\n",
              "1961269           F13104454  ...  323 - Multi-Unit Dwelling - Over 12 Units FAHR...\n",
              "1951192           F18062211  ...  896 - Sidewalk, street, roadway, highway, hwy ...\n",
              "\n",
              "[5 rows x 7 columns]"
            ]
          },
          "metadata": {},
          "execution_count": 14
        }
      ]
    },
    {
      "cell_type": "code",
      "metadata": {
        "id": "fRTz2RQF3GtE"
      },
      "source": [
        "keyword_dict = {'trash' : ['rubbish', 'waste', 'garbage'],\n",
        "                'cigarette': ['cigar', 'pipe'],\n",
        "                'road': ['street', 'roadway', 'highway'],\n",
        "                'vehicle': ['car', 'automobile'],\n",
        "                'house': ['townhouse', 'rowhouse', 'dwell'],\n",
        "         \n",
        "                }\n",
        "\n",
        "keyword_processor.add_keywords_from_dict(keyword_dict)"
      ],
      "execution_count": 115,
      "outputs": []
    },
    {
      "cell_type": "code",
      "metadata": {
        "id": "3RUbJr8Tuwrn"
      },
      "source": [
        "df_c['clean_text'] = df_c['raw_text'].apply(standardize)"
      ],
      "execution_count": 16,
      "outputs": []
    },
    {
      "cell_type": "code",
      "metadata": {
        "id": "nQop5zFE7zx6"
      },
      "source": [
        "df_c['clean_text'] = df_c['clean_text'].apply(keyword_processor.replace_keywords)"
      ],
      "execution_count": 38,
      "outputs": []
    },
    {
      "cell_type": "code",
      "metadata": {
        "id": "0MzNLoNsxE7a"
      },
      "source": [
        "w_freq =  get_w_freq(df_c['clean_text'])"
      ],
      "execution_count": 39,
      "outputs": []
    },
    {
      "cell_type": "code",
      "metadata": {
        "colab": {
          "base_uri": "https://localhost:8080/",
          "height": 1000
        },
        "id": "aMTBXN2MxaSM",
        "outputId": "d654f817-5f2f-45c5-cd95-9730373bc6f5"
      },
      "source": [
        "w_freq[:50]"
      ],
      "execution_count": 40,
      "outputs": [
        {
          "output_type": "execute_result",
          "data": {
            "text/html": [
              "<div>\n",
              "<style scoped>\n",
              "    .dataframe tbody tr th:only-of-type {\n",
              "        vertical-align: middle;\n",
              "    }\n",
              "\n",
              "    .dataframe tbody tr th {\n",
              "        vertical-align: top;\n",
              "    }\n",
              "\n",
              "    .dataframe thead th {\n",
              "        text-align: right;\n",
              "    }\n",
              "</style>\n",
              "<table border=\"1\" class=\"dataframe\">\n",
              "  <thead>\n",
              "    <tr style=\"text-align: right;\">\n",
              "      <th></th>\n",
              "      <th>word</th>\n",
              "      <th>frequency</th>\n",
              "    </tr>\n",
              "  </thead>\n",
              "  <tbody>\n",
              "    <tr>\n",
              "      <th>0</th>\n",
              "      <td>trash</td>\n",
              "      <td>9495</td>\n",
              "    </tr>\n",
              "    <tr>\n",
              "      <th>1</th>\n",
              "      <td>house</td>\n",
              "      <td>4756</td>\n",
              "    </tr>\n",
              "    <tr>\n",
              "      <th>2</th>\n",
              "      <td>cigarette</td>\n",
              "      <td>3954</td>\n",
              "    </tr>\n",
              "    <tr>\n",
              "      <th>3</th>\n",
              "      <td>vehicle</td>\n",
              "      <td>3830</td>\n",
              "    </tr>\n",
              "    <tr>\n",
              "      <th>4</th>\n",
              "      <td>undetermined</td>\n",
              "      <td>3334</td>\n",
              "    </tr>\n",
              "    <tr>\n",
              "      <th>5</th>\n",
              "      <td>unit</td>\n",
              "      <td>3129</td>\n",
              "    </tr>\n",
              "    <tr>\n",
              "      <th>6</th>\n",
              "      <td>undetermine</td>\n",
              "      <td>2276</td>\n",
              "    </tr>\n",
              "    <tr>\n",
              "      <th>7</th>\n",
              "      <td>road</td>\n",
              "      <td>2248</td>\n",
              "    </tr>\n",
              "    <tr>\n",
              "      <th>8</th>\n",
              "      <td>room</td>\n",
              "      <td>1967</td>\n",
              "    </tr>\n",
              "    <tr>\n",
              "      <th>9</th>\n",
              "      <td>burner</td>\n",
              "      <td>1534</td>\n",
              "    </tr>\n",
              "    <tr>\n",
              "      <th>10</th>\n",
              "      <td>range</td>\n",
              "      <td>1531</td>\n",
              "    </tr>\n",
              "    <tr>\n",
              "      <th>11</th>\n",
              "      <td>ignite</td>\n",
              "      <td>1423</td>\n",
              "    </tr>\n",
              "    <tr>\n",
              "      <th>12</th>\n",
              "      <td>article</td>\n",
              "      <td>1407</td>\n",
              "    </tr>\n",
              "    <tr>\n",
              "      <th>13</th>\n",
              "      <td>smoker</td>\n",
              "      <td>1280</td>\n",
              "    </tr>\n",
              "    <tr>\n",
              "      <th>14</th>\n",
              "      <td>detach</td>\n",
              "      <td>1271</td>\n",
              "    </tr>\n",
              "    <tr>\n",
              "      <th>15</th>\n",
              "      <td>oil</td>\n",
              "      <td>1198</td>\n",
              "    </tr>\n",
              "    <tr>\n",
              "      <th>16</th>\n",
              "      <td>fihr</td>\n",
              "      <td>1171</td>\n",
              "    </tr>\n",
              "    <tr>\n",
              "      <th>17</th>\n",
              "      <td>grease</td>\n",
              "      <td>1167</td>\n",
              "    </tr>\n",
              "    <tr>\n",
              "      <th>18</th>\n",
              "      <td>insulation</td>\n",
              "      <td>1148</td>\n",
              "    </tr>\n",
              "    <tr>\n",
              "      <th>19</th>\n",
              "      <td>fire</td>\n",
              "      <td>1075</td>\n",
              "    </tr>\n",
              "    <tr>\n",
              "      <th>20</th>\n",
              "      <td>cooking</td>\n",
              "      <td>1034</td>\n",
              "    </tr>\n",
              "    <tr>\n",
              "      <th>21</th>\n",
              "      <td>chute</td>\n",
              "      <td>870</td>\n",
              "    </tr>\n",
              "    <tr>\n",
              "      <th>22</th>\n",
              "      <td>inc</td>\n",
              "      <td>860</td>\n",
              "    </tr>\n",
              "    <tr>\n",
              "      <th>23</th>\n",
              "      <td>industri</td>\n",
              "      <td>860</td>\n",
              "    </tr>\n",
              "    <tr>\n",
              "      <th>24</th>\n",
              "      <td>residential</td>\n",
              "      <td>859</td>\n",
              "    </tr>\n",
              "    <tr>\n",
              "      <th>25</th>\n",
              "      <td>use</td>\n",
              "      <td>749</td>\n",
              "    </tr>\n",
              "    <tr>\n",
              "      <th>26</th>\n",
              "      <td>incident</td>\n",
              "      <td>749</td>\n",
              "    </tr>\n",
              "    <tr>\n",
              "      <th>27</th>\n",
              "      <td>patient</td>\n",
              "      <td>704</td>\n",
              "    </tr>\n",
              "    <tr>\n",
              "      <th>28</th>\n",
              "      <td>dormitory</td>\n",
              "      <td>704</td>\n",
              "    </tr>\n",
              "    <tr>\n",
              "      <th>29</th>\n",
              "      <td>fir</td>\n",
              "      <td>696</td>\n",
              "    </tr>\n",
              "    <tr>\n",
              "      <th>30</th>\n",
              "      <td>attach</td>\n",
              "      <td>671</td>\n",
              "    </tr>\n",
              "    <tr>\n",
              "      <th>31</th>\n",
              "      <td>light</td>\n",
              "      <td>635</td>\n",
              "    </tr>\n",
              "    <tr>\n",
              "      <th>32</th>\n",
              "      <td>vef</td>\n",
              "      <td>626</td>\n",
              "    </tr>\n",
              "    <tr>\n",
              "      <th>33</th>\n",
              "      <td>grass</td>\n",
              "      <td>594</td>\n",
              "    </tr>\n",
              "    <tr>\n",
              "      <th>34</th>\n",
              "      <td>electrical</td>\n",
              "      <td>562</td>\n",
              "    </tr>\n",
              "    <tr>\n",
              "      <th>35</th>\n",
              "      <td>area</td>\n",
              "      <td>561</td>\n",
              "    </tr>\n",
              "    <tr>\n",
              "      <th>36</th>\n",
              "      <td>wood</td>\n",
              "      <td>545</td>\n",
              "    </tr>\n",
              "    <tr>\n",
              "      <th>37</th>\n",
              "      <td>e</td>\n",
              "      <td>520</td>\n",
              "    </tr>\n",
              "    <tr>\n",
              "      <th>38</th>\n",
              "      <td>g</td>\n",
              "      <td>517</td>\n",
              "    </tr>\n",
              "    <tr>\n",
              "      <th>39</th>\n",
              "      <td>mechanical</td>\n",
              "      <td>498</td>\n",
              "    </tr>\n",
              "    <tr>\n",
              "      <th>40</th>\n",
              "      <td>live</td>\n",
              "      <td>477</td>\n",
              "    </tr>\n",
              "    <tr>\n",
              "      <th>41</th>\n",
              "      <td>tv</td>\n",
              "      <td>477</td>\n",
              "    </tr>\n",
              "    <tr>\n",
              "      <th>42</th>\n",
              "      <td>recreation</td>\n",
              "      <td>471</td>\n",
              "    </tr>\n",
              "    <tr>\n",
              "      <th>43</th>\n",
              "      <td>person</td>\n",
              "      <td>393</td>\n",
              "    </tr>\n",
              "    <tr>\n",
              "      <th>44</th>\n",
              "      <td>include</td>\n",
              "      <td>391</td>\n",
              "    </tr>\n",
              "    <tr>\n",
              "      <th>45</th>\n",
              "      <td>fici</td>\n",
              "      <td>389</td>\n",
              "    </tr>\n",
              "    <tr>\n",
              "      <th>46</th>\n",
              "      <td>cover</td>\n",
              "      <td>384</td>\n",
              "    </tr>\n",
              "    <tr>\n",
              "      <th>47</th>\n",
              "      <td>land</td>\n",
              "      <td>382</td>\n",
              "    </tr>\n",
              "    <tr>\n",
              "      <th>48</th>\n",
              "      <td>ground</td>\n",
              "      <td>380</td>\n",
              "    </tr>\n",
              "    <tr>\n",
              "      <th>49</th>\n",
              "      <td>paper</td>\n",
              "      <td>375</td>\n",
              "    </tr>\n",
              "  </tbody>\n",
              "</table>\n",
              "</div>"
            ],
            "text/plain": [
              "            word  frequency\n",
              "0          trash       9495\n",
              "1          house       4756\n",
              "2      cigarette       3954\n",
              "3        vehicle       3830\n",
              "4   undetermined       3334\n",
              "5           unit       3129\n",
              "6    undetermine       2276\n",
              "7           road       2248\n",
              "8           room       1967\n",
              "9         burner       1534\n",
              "10         range       1531\n",
              "11        ignite       1423\n",
              "12       article       1407\n",
              "13        smoker       1280\n",
              "14        detach       1271\n",
              "15           oil       1198\n",
              "16          fihr       1171\n",
              "17        grease       1167\n",
              "18    insulation       1148\n",
              "19          fire       1075\n",
              "20       cooking       1034\n",
              "21         chute        870\n",
              "22           inc        860\n",
              "23      industri        860\n",
              "24   residential        859\n",
              "25           use        749\n",
              "26      incident        749\n",
              "27       patient        704\n",
              "28     dormitory        704\n",
              "29           fir        696\n",
              "30        attach        671\n",
              "31         light        635\n",
              "32           vef        626\n",
              "33         grass        594\n",
              "34    electrical        562\n",
              "35          area        561\n",
              "36          wood        545\n",
              "37             e        520\n",
              "38             g        517\n",
              "39    mechanical        498\n",
              "40          live        477\n",
              "41            tv        477\n",
              "42    recreation        471\n",
              "43        person        393\n",
              "44       include        391\n",
              "45          fici        389\n",
              "46         cover        384\n",
              "47          land        382\n",
              "48        ground        380\n",
              "49         paper        375"
            ]
          },
          "metadata": {},
          "execution_count": 40
        }
      ]
    },
    {
      "cell_type": "code",
      "metadata": {
        "colab": {
          "base_uri": "https://localhost:8080/",
          "height": 1000
        },
        "id": "TER-XSypEnPv",
        "outputId": "8cc70072-edb9-40a1-dda0-e125b3f03493"
      },
      "source": [
        "df_c[ df_c['clean_text'].str.contains('unit ')]"
      ],
      "execution_count": 60,
      "outputs": [
        {
          "output_type": "execute_result",
          "data": {
            "text/html": [
              "<div>\n",
              "<style scoped>\n",
              "    .dataframe tbody tr th:only-of-type {\n",
              "        vertical-align: middle;\n",
              "    }\n",
              "\n",
              "    .dataframe tbody tr th {\n",
              "        vertical-align: top;\n",
              "    }\n",
              "\n",
              "    .dataframe thead th {\n",
              "        text-align: right;\n",
              "    }\n",
              "</style>\n",
              "<table border=\"1\" class=\"dataframe\">\n",
              "  <thead>\n",
              "    <tr style=\"text-align: right;\">\n",
              "      <th></th>\n",
              "      <th>Incident_Numberinc_</th>\n",
              "      <th>Property_Use</th>\n",
              "      <th>Initial_CAD_Event_Type</th>\n",
              "      <th>Ignition_Source</th>\n",
              "      <th>Area_of_Origin</th>\n",
              "      <th>Material_First_Ignited</th>\n",
              "      <th>raw_text</th>\n",
              "      <th>clean_text</th>\n",
              "    </tr>\n",
              "    <tr>\n",
              "      <th>_id_x</th>\n",
              "      <th></th>\n",
              "      <th></th>\n",
              "      <th></th>\n",
              "      <th></th>\n",
              "      <th></th>\n",
              "      <th></th>\n",
              "      <th></th>\n",
              "      <th></th>\n",
              "    </tr>\n",
              "  </thead>\n",
              "  <tbody>\n",
              "    <tr>\n",
              "      <th>1964401</th>\n",
              "      <td>F13046589</td>\n",
              "      <td>323 - Multi-Unit Dwelling - Over 12 Units</td>\n",
              "      <td>FAHR</td>\n",
              "      <td>52 - Florescent Lamp (includes ballast)</td>\n",
              "      <td>12 - Hallway, Corridor</td>\n",
              "      <td>43 - Electrical Wiring Insulation</td>\n",
              "      <td>323 - Multi-Unit Dwelling - Over 12 Units FAHR...</td>\n",
              "      <td>house unit include ballast insulation</td>\n",
              "    </tr>\n",
              "    <tr>\n",
              "      <th>1961269</th>\n",
              "      <td>F13104454</td>\n",
              "      <td>323 - Multi-Unit Dwelling - Over 12 Units</td>\n",
              "      <td>FAHR</td>\n",
              "      <td>999 - Undetermined</td>\n",
              "      <td>42 - Garage</td>\n",
              "      <td>46 - Rubbish, Trash, Waste</td>\n",
              "      <td>323 - Multi-Unit Dwelling - Over 12 Units FAHR...</td>\n",
              "      <td>house unit undetermined trash trash trash</td>\n",
              "    </tr>\n",
              "    <tr>\n",
              "      <th>1962593</th>\n",
              "      <td>F11161591</td>\n",
              "      <td>323 - Multi-Unit Dwelling - Over 12 Units</td>\n",
              "      <td>FIHR</td>\n",
              "      <td>11 - Stove, Range-top burner</td>\n",
              "      <td>24 - Cooking Area or Kitchen</td>\n",
              "      <td>74 - Cooking Oil, Grease</td>\n",
              "      <td>323 - Multi-Unit Dwelling - Over 12 Units FIHR...</td>\n",
              "      <td>house unit fihr range burner cooking oil grease</td>\n",
              "    </tr>\n",
              "    <tr>\n",
              "      <th>1952539</th>\n",
              "      <td>F17093622</td>\n",
              "      <td>323 - Multi-Unit Dwelling - Over 12 Units</td>\n",
              "      <td>FIHR</td>\n",
              "      <td>999 - Undetermined</td>\n",
              "      <td>13 - Stairway, Escalator</td>\n",
              "      <td>46 - Rubbish, Trash, Waste</td>\n",
              "      <td>323 - Multi-Unit Dwelling - Over 12 Units FIHR...</td>\n",
              "      <td>house unit fihr undetermine stairway escalator...</td>\n",
              "    </tr>\n",
              "    <tr>\n",
              "      <th>1961385</th>\n",
              "      <td>F16102892</td>\n",
              "      <td>322 - Multi-Unit Dwelling - 7 to 12 Units</td>\n",
              "      <td>FAHR</td>\n",
              "      <td>11 - Stove, Range-top burner</td>\n",
              "      <td>24 - Cooking Area or Kitchen</td>\n",
              "      <td>74 - Cooking Oil, Grease</td>\n",
              "      <td>322 - Multi-Unit Dwelling - 7 to 12 Units FAHR...</td>\n",
              "      <td>multi dwelling unit range burner cooking oil g...</td>\n",
              "    </tr>\n",
              "    <tr>\n",
              "      <th>...</th>\n",
              "      <td>...</td>\n",
              "      <td>...</td>\n",
              "      <td>...</td>\n",
              "      <td>...</td>\n",
              "      <td>...</td>\n",
              "      <td>...</td>\n",
              "      <td>...</td>\n",
              "      <td>...</td>\n",
              "    </tr>\n",
              "    <tr>\n",
              "      <th>1959821</th>\n",
              "      <td>F15100989</td>\n",
              "      <td>323 - Multi-Unit Dwelling - Over 12 Units</td>\n",
              "      <td>FIHRD</td>\n",
              "      <td>999 - Undetermined</td>\n",
              "      <td>22 - Sleeping Area or Bedroom (inc. patients r...</td>\n",
              "      <td>31 - Mattress, Pillow</td>\n",
              "      <td>323 - Multi-Unit Dwelling - Over 12 Units FIHR...</td>\n",
              "      <td>house unit undetermine patient room dormitory ...</td>\n",
              "    </tr>\n",
              "    <tr>\n",
              "      <th>1960069</th>\n",
              "      <td>F15017831</td>\n",
              "      <td>323 - Multi-Unit Dwelling - Over 12 Units</td>\n",
              "      <td>FIHRD</td>\n",
              "      <td>79 - Other Open Flame Tools/Smokers' Articles</td>\n",
              "      <td>22 - Sleeping Area or Bedroom (inc. patients r...</td>\n",
              "      <td>31 - Mattress, Pillow</td>\n",
              "      <td>323 - Multi-Unit Dwelling - Over 12 Units FIHR...</td>\n",
              "      <td>house unit tool article patient room dormitory...</td>\n",
              "    </tr>\n",
              "    <tr>\n",
              "      <th>1963060</th>\n",
              "      <td>F15112359</td>\n",
              "      <td>322 - Multi-Unit Dwelling - 7 to 12 Units</td>\n",
              "      <td>FIHR</td>\n",
              "      <td>11 - Stove, Range-top burner</td>\n",
              "      <td>24 - Cooking Area or Kitchen</td>\n",
              "      <td>97 - Other</td>\n",
              "      <td>322 - Multi-Unit Dwelling - 7 to 12 Units FIHR...</td>\n",
              "      <td>multi house unit fihr range burner</td>\n",
              "    </tr>\n",
              "    <tr>\n",
              "      <th>1953714</th>\n",
              "      <td>F11121707</td>\n",
              "      <td>323 - Multi-Unit Dwelling - Over 12 Units</td>\n",
              "      <td>FIHR</td>\n",
              "      <td>11 - Stove, Range-top burner</td>\n",
              "      <td>24 - Cooking Area or Kitchen</td>\n",
              "      <td>23 - Cabinetry</td>\n",
              "      <td>323 - Multi-Unit Dwelling - Over 12 Units FIHR...</td>\n",
              "      <td>house unit fihr range burner</td>\n",
              "    </tr>\n",
              "    <tr>\n",
              "      <th>1948089</th>\n",
              "      <td>F18107142</td>\n",
              "      <td>323 - Multi-Unit Dwelling - Over 12 Units</td>\n",
              "      <td>Alarm Highrise Residential Downtown</td>\n",
              "      <td>55 - Candle</td>\n",
              "      <td>22 - Sleeping Area or Bedroom (inc. patients r...</td>\n",
              "      <td>39 - Other Soft Goods, Wearing Apparel</td>\n",
              "      <td>323 - Multi-Unit Dwelling - Over 12 Units Alar...</td>\n",
              "      <td>house unit residential downtown candle patient...</td>\n",
              "    </tr>\n",
              "  </tbody>\n",
              "</table>\n",
              "<p>3113 rows × 8 columns</p>\n",
              "</div>"
            ],
            "text/plain": [
              "        Incident_Numberinc_  ...                                         clean_text\n",
              "_id_x                        ...                                                   \n",
              "1964401           F13046589  ...              house unit include ballast insulation\n",
              "1961269           F13104454  ...          house unit undetermined trash trash trash\n",
              "1962593           F11161591  ...    house unit fihr range burner cooking oil grease\n",
              "1952539           F17093622  ...  house unit fihr undetermine stairway escalator...\n",
              "1961385           F16102892  ...  multi dwelling unit range burner cooking oil g...\n",
              "...                     ...  ...                                                ...\n",
              "1959821           F15100989  ...  house unit undetermine patient room dormitory ...\n",
              "1960069           F15017831  ...  house unit tool article patient room dormitory...\n",
              "1963060           F15112359  ...                 multi house unit fihr range burner\n",
              "1953714           F11121707  ...                       house unit fihr range burner\n",
              "1948089           F18107142  ...  house unit residential downtown candle patient...\n",
              "\n",
              "[3113 rows x 8 columns]"
            ]
          },
          "metadata": {},
          "execution_count": 60
        }
      ]
    },
    {
      "cell_type": "code",
      "metadata": {
        "colab": {
          "base_uri": "https://localhost:8080/",
          "height": 677
        },
        "id": "OjB4VSY26uKM",
        "outputId": "4c7776e3-6adb-4838-9c7e-49bbe820ec16"
      },
      "source": [
        "bigram_freq = get_bigram_freq(df_c['clean_text'], 20)\n",
        "bigram_freq"
      ],
      "execution_count": 41,
      "outputs": [
        {
          "output_type": "execute_result",
          "data": {
            "text/html": [
              "<div>\n",
              "<style scoped>\n",
              "    .dataframe tbody tr th:only-of-type {\n",
              "        vertical-align: middle;\n",
              "    }\n",
              "\n",
              "    .dataframe tbody tr th {\n",
              "        vertical-align: top;\n",
              "    }\n",
              "\n",
              "    .dataframe thead th {\n",
              "        text-align: right;\n",
              "    }\n",
              "</style>\n",
              "<table border=\"1\" class=\"dataframe\">\n",
              "  <thead>\n",
              "    <tr style=\"text-align: right;\">\n",
              "      <th></th>\n",
              "      <th>bigram</th>\n",
              "      <th>frequency</th>\n",
              "    </tr>\n",
              "  </thead>\n",
              "  <tbody>\n",
              "    <tr>\n",
              "      <th>0</th>\n",
              "      <td>(trash, trash)</td>\n",
              "      <td>3421</td>\n",
              "    </tr>\n",
              "    <tr>\n",
              "      <th>1</th>\n",
              "      <td>(house, unit)</td>\n",
              "      <td>2939</td>\n",
              "    </tr>\n",
              "    <tr>\n",
              "      <th>2</th>\n",
              "      <td>(cigarette, cigarette)</td>\n",
              "      <td>2560</td>\n",
              "    </tr>\n",
              "    <tr>\n",
              "      <th>3</th>\n",
              "      <td>(range, burner)</td>\n",
              "      <td>1531</td>\n",
              "    </tr>\n",
              "    <tr>\n",
              "      <th>4</th>\n",
              "      <td>(road, road)</td>\n",
              "      <td>1498</td>\n",
              "    </tr>\n",
              "    <tr>\n",
              "      <th>5</th>\n",
              "      <td>(smoker, article)</td>\n",
              "      <td>1280</td>\n",
              "    </tr>\n",
              "    <tr>\n",
              "      <th>6</th>\n",
              "      <td>(article, cigarette)</td>\n",
              "      <td>1280</td>\n",
              "    </tr>\n",
              "    <tr>\n",
              "      <th>7</th>\n",
              "      <td>(cigarette, ignite)</td>\n",
              "      <td>1280</td>\n",
              "    </tr>\n",
              "    <tr>\n",
              "      <th>8</th>\n",
              "      <td>(oil, grease)</td>\n",
              "      <td>1167</td>\n",
              "    </tr>\n",
              "    <tr>\n",
              "      <th>9</th>\n",
              "      <td>(unit, fihr)</td>\n",
              "      <td>1119</td>\n",
              "    </tr>\n",
              "    <tr>\n",
              "      <th>10</th>\n",
              "      <td>(cooking, oil)</td>\n",
              "      <td>1007</td>\n",
              "    </tr>\n",
              "    <tr>\n",
              "      <th>11</th>\n",
              "      <td>(house, house)</td>\n",
              "      <td>972</td>\n",
              "    </tr>\n",
              "    <tr>\n",
              "      <th>12</th>\n",
              "      <td>(room, trash)</td>\n",
              "      <td>900</td>\n",
              "    </tr>\n",
              "    <tr>\n",
              "      <th>13</th>\n",
              "      <td>(trash, inc)</td>\n",
              "      <td>860</td>\n",
              "    </tr>\n",
              "    <tr>\n",
              "      <th>14</th>\n",
              "      <td>(inc, trash)</td>\n",
              "      <td>860</td>\n",
              "    </tr>\n",
              "    <tr>\n",
              "      <th>15</th>\n",
              "      <td>(trash, chute)</td>\n",
              "      <td>860</td>\n",
              "    </tr>\n",
              "    <tr>\n",
              "      <th>16</th>\n",
              "      <td>(chute, room)</td>\n",
              "      <td>860</td>\n",
              "    </tr>\n",
              "    <tr>\n",
              "      <th>17</th>\n",
              "      <td>(trash, industri)</td>\n",
              "      <td>860</td>\n",
              "    </tr>\n",
              "    <tr>\n",
              "      <th>18</th>\n",
              "      <td>(burner, cooking)</td>\n",
              "      <td>805</td>\n",
              "    </tr>\n",
              "    <tr>\n",
              "      <th>19</th>\n",
              "      <td>(road, use)</td>\n",
              "      <td>749</td>\n",
              "    </tr>\n",
              "  </tbody>\n",
              "</table>\n",
              "</div>"
            ],
            "text/plain": [
              "                    bigram  frequency\n",
              "0           (trash, trash)       3421\n",
              "1            (house, unit)       2939\n",
              "2   (cigarette, cigarette)       2560\n",
              "3          (range, burner)       1531\n",
              "4             (road, road)       1498\n",
              "5        (smoker, article)       1280\n",
              "6     (article, cigarette)       1280\n",
              "7      (cigarette, ignite)       1280\n",
              "8            (oil, grease)       1167\n",
              "9             (unit, fihr)       1119\n",
              "10          (cooking, oil)       1007\n",
              "11          (house, house)        972\n",
              "12           (room, trash)        900\n",
              "13            (trash, inc)        860\n",
              "14            (inc, trash)        860\n",
              "15          (trash, chute)        860\n",
              "16           (chute, room)        860\n",
              "17       (trash, industri)        860\n",
              "18       (burner, cooking)        805\n",
              "19             (road, use)        749"
            ]
          },
          "metadata": {},
          "execution_count": 41
        }
      ]
    },
    {
      "cell_type": "code",
      "metadata": {
        "id": "8D3DgShF6RZf"
      },
      "source": [
        "df_c.to_csv('train_incident_clean_text.csv')\n",
        "#df_c = pd.read_csv('fire_incident_clean_text.csv')"
      ],
      "execution_count": 20,
      "outputs": []
    },
    {
      "cell_type": "code",
      "metadata": {
        "id": "aPMHe0b0IRN3"
      },
      "source": [
        "df_c.info()"
      ],
      "execution_count": null,
      "outputs": []
    },
    {
      "cell_type": "code",
      "metadata": {
        "id": "_0iKkY7UIeO4"
      },
      "source": [
        "#df_c['clean_text'] = df_c['clean_text'].astype('str')"
      ],
      "execution_count": null,
      "outputs": []
    },
    {
      "cell_type": "markdown",
      "metadata": {
        "id": "9KuK4HnO8sG-"
      },
      "source": [
        "# Topic Modelling - LDA"
      ]
    },
    {
      "cell_type": "code",
      "metadata": {
        "id": "y-7KWs4r8rC8"
      },
      "source": [
        "from gensim.corpora.dictionary import Dictionary\n",
        "from gensim import models"
      ],
      "execution_count": 21,
      "outputs": []
    },
    {
      "cell_type": "code",
      "metadata": {
        "colab": {
          "base_uri": "https://localhost:8080/"
        },
        "id": "gRD_hGUrvMGY",
        "outputId": "11d949e5-c2e3-475d-b7b5-723b219a19b8"
      },
      "source": [
        "texts = df_c['clean_text'].str.split().copy()\n",
        "dictionary = Dictionary(texts)\n",
        "\n",
        "dictionary.filter_extremes(no_below=10, no_above=0.50)\n",
        "\n",
        "stoplist = ['undetermined', 'undetermine', 'e', 'g', 'fire', 'incident', 'unit', 'inc', 'fihr', 'fir', 'fici']\n",
        "\n",
        "stop_ids = [\n",
        "    dictionary.token2id[stopword]\n",
        "    for stopword in stoplist\n",
        "    if stopword in dictionary.token2id\n",
        "]\n",
        "\n",
        "dictionary.filter_tokens(stop_ids)\n",
        "\n",
        "print(dictionary)"
      ],
      "execution_count": 61,
      "outputs": [
        {
          "output_type": "stream",
          "name": "stdout",
          "text": [
            "Dictionary(319 unique tokens: ['good', 'jewellery', 'leather', 'office', 'oven']...)\n"
          ]
        }
      ]
    },
    {
      "cell_type": "code",
      "metadata": {
        "colab": {
          "base_uri": "https://localhost:8080/"
        },
        "id": "3B8Ub755wei1",
        "outputId": "0df5e5a2-384b-4ec1-fe1f-8b5d9e4e3a53"
      },
      "source": [
        "num_topics = 4\n",
        "\n",
        "corpus = [dictionary.doc2bow(text) for text in texts]\n",
        "ldamodel = models.LdaModel(corpus, id2word=dictionary, num_topics=num_topics, random_state=0)\n",
        "\n",
        "for i in range(num_topics):\n",
        "\n",
        "    print('Topic number', i)\n",
        "\n",
        "    pprint.pprint(ldamodel.show_topic(i, topn=5))\n",
        "\n",
        "    print('\\n')\n"
      ],
      "execution_count": 62,
      "outputs": [
        {
          "output_type": "stream",
          "name": "stdout",
          "text": [
            "Topic number 0\n",
            "[('house', 0.11779296),\n",
            " ('road', 0.10669046),\n",
            " ('burner', 0.074478656),\n",
            " ('range', 0.07437411),\n",
            " ('oil', 0.052091643)]\n",
            "\n",
            "\n",
            "Topic number 1\n",
            "[('vehicle', 0.24173911),\n",
            " ('electrical', 0.06565055),\n",
            " ('insulation', 0.06564075),\n",
            " ('plastic', 0.032919366),\n",
            " ('vef', 0.025043154)]\n",
            "\n",
            "\n",
            "Topic number 2\n",
            "[('cigarette', 0.15222582),\n",
            " ('house', 0.059176177),\n",
            " ('ignite', 0.054586492),\n",
            " ('article', 0.054175403),\n",
            " ('smoker', 0.04938931)]\n",
            "\n",
            "\n",
            "Topic number 3\n",
            "[('trash', 0.3587738),\n",
            " ('room', 0.086102255),\n",
            " ('house', 0.063032776),\n",
            " ('dormitory', 0.039448503),\n",
            " ('patient', 0.039437115)]\n",
            "\n",
            "\n"
          ]
        }
      ]
    },
    {
      "cell_type": "code",
      "metadata": {
        "id": "uuLC3hm4CVzh"
      },
      "source": [
        "import pyLDAvis\n",
        "import pyLDAvis.gensim_models as gensimvis\n",
        "pyLDAvis.enable_notebook()\n",
        "\n",
        "# feed the LDA model into the pyLDAvis instance\n",
        "lda_viz = gensimvis.prepare(ldamodel, corpus, dictionary, sort_topics=True)\n"
      ],
      "execution_count": 63,
      "outputs": []
    },
    {
      "cell_type": "code",
      "metadata": {
        "colab": {
          "base_uri": "https://localhost:8080/",
          "height": 881
        },
        "id": "78v5qL6nJWPb",
        "outputId": "c07d3711-e6d2-478d-a44e-9d34cf7398c5"
      },
      "source": [
        "lda_viz"
      ],
      "execution_count": 64,
      "outputs": [
        {
          "output_type": "execute_result",
          "data": {
            "text/html": [
              "\n",
              "<link rel=\"stylesheet\" type=\"text/css\" href=\"https://cdn.jsdelivr.net/gh/bmabey/pyLDAvis@3.3.1/pyLDAvis/js/ldavis.v1.0.0.css\">\n",
              "\n",
              "\n",
              "<div id=\"ldavis_el17181402577225628965027985207\"></div>\n",
              "<script type=\"text/javascript\">\n",
              "\n",
              "var ldavis_el17181402577225628965027985207_data = {\"mdsDat\": {\"x\": [-0.23928875801402266, -0.10700621717426279, -0.018103910089499263, 0.3643988852777844], \"y\": [-0.1447700311188782, -0.08598400582779098, 0.33445292304095525, -0.10369888609428597], \"topics\": [1, 2, 3, 4], \"cluster\": [1, 1, 1, 1], \"Freq\": [28.915975720872893, 26.602766268631356, 25.55622914125925, 18.925028869236506]}, \"tinfo\": {\"Term\": [\"trash\", \"vehicle\", \"cigarette\", \"road\", \"room\", \"burner\", \"range\", \"electrical\", \"insulation\", \"ignite\", \"grease\", \"oil\", \"smoker\", \"article\", \"house\", \"dormitory\", \"patient\", \"chute\", \"cooking\", \"industri\", \"use\", \"light\", \"grass\", \"wear\", \"apparel\", \"cover\", \"land\", \"person\", \"ground\", \"plastic\", \"industri\", \"chute\", \"non\", \"property\", \"dormitory\", \"patient\", \"soft\", \"field\", \"wear\", \"apparel\", \"restroom\", \"toilet\", \"pier\", \"farmyard\", \"play\", \"locker\", \"forest\", \"room\", \"camp\", \"radio\", \"lawn\", \"stereo\", \"television\", \"trash\", \"metre\", \"sq\", \"supply\", \"trestle\", \"overpass\", \"structure\", \"mattress\", \"unable\", \"distinguish\", \"candle\", \"good\", \"open\", \"downtown\", \"flame\", \"tool\", \"area\", \"source\", \"house\", \"residential\", \"classify\", \"article\", \"detach\", \"cigarette\", \"ground\", \"cover\", \"land\", \"newspaper\", \"book\", \"upholster\", \"magazine\", \"chair\", \"sofa\", \"wool\", \"cotton\", \"natural\", \"brake\", \"syste\", \"system\", \"wheel\", \"chimney\", \"bus\", \"burn\", \"receptacle\", \"incl\", \"switch\", \"stove\", \"spotlight\", \"clothe\", \"broom\", \"bulb\", \"rubber\", \"linen\", \"light\", \"cigarette\", \"smoker\", \"ignite\", \"grass\", \"object\", \"multiple\", \"shipping\", \"recreation\", \"tv\", \"live\", \"article\", \"material\", \"diverse\", \"leave\", \"tree\", \"house\", \"receive\", \"residential\", \"wood\", \"detach\", \"trash\", \"vehicle\", \"burner\", \"range\", \"cooking\", \"road\", \"use\", \"grease\", \"general\", \"cellar\", \"partition\", \"outdoor\", \"basement\", \"oil\", \"occupant\", \"load\", \"furniture\", \"restaurant\", \"cut\", \"equipment\", \"finish\", \"great\", \"license\", \"printing\", \"sto\", \"person\", \"garage\", \"elevator\", \"shaft\", \"leather\", \"lightning\", \"hazardous\", \"oven\", \"ashe\", \"ember\", \"spark\", \"cardboard\", \"paper\", \"parking\", \"attach\", \"detach\", \"house\", \"multi\", \"cook\", \"residential\", \"wood\", \"plastic\", \"phone\", \"wiring\", \"large\", \"truck\", \"utility\", \"electrical\", \"exclude\", \"t\", \"tank\", \"vefh\", \"fuse\", \"panel\", \"circuit\", \"board\", \"fuel\", \"water\", \"furnace\", \"boiler\", \"power\", \"line\", \"trailer\", \"small\", \"secondary\", \"extension\", \"include\", \"school\", \"paint\", \"rag\", \"university\", \"diesel\", \"vehicle\", \"insulation\", \"collision\", \"synthetic\", \"combination\", \"mechanical\", \"vef\", \"fai\", \"transmission\", \"cc\", \"repair\", \"pick\", \"manf\", \"plastic\", \"copper\", \"portable\", \"Oven\", \"fry\", \"unclassified\", \"cook\", \"detach\"], \"Freq\": [8447.0, 3754.0, 3236.0, 2122.0, 1992.0, 1480.0, 1478.0, 970.0, 1023.0, 1166.0, 1027.0, 1049.0, 1052.0, 1320.0, 5024.0, 896.0, 896.0, 851.0, 756.0, 844.0, 707.0, 720.0, 693.0, 605.0, 603.0, 525.0, 523.0, 643.0, 520.0, 641.0, 839.0357722465542, 845.6090011311809, 89.70111128977587, 89.02829472587202, 884.8233537137795, 884.5679180075709, 415.75582870800775, 201.6978659455185, 594.8319675965295, 593.306539316339, 134.7577722990166, 134.71357030733054, 100.96591366909287, 100.91364836512382, 100.88192779594834, 143.2346113435524, 31.553119664428902, 1931.2592159486348, 30.8927192436292, 24.21691029972867, 22.1826159904869, 19.810081659148604, 19.809364891265933, 8047.236461475686, 18.633810728987026, 18.633728476934916, 19.47311327988945, 15.904806448510833, 15.904607999115266, 162.89297713420268, 425.55764125380233, 43.1068434742799, 43.07194510359912, 261.8368690224638, 416.8785091622496, 78.566966948029, 333.4043012277228, 63.64943710334199, 197.2210146968306, 238.7537575654812, 42.93626577408592, 1413.8146582046527, 402.68052026941723, 119.47655260283987, 201.58625382757018, 117.45707933003537, 94.24627090935859, 518.1042963276475, 523.3060001238501, 521.1200330333052, 135.16360103094755, 135.14840895940904, 425.40990546748884, 135.06416551147856, 447.7903924876685, 447.7408092560817, 66.83331472904186, 66.82559857885501, 66.8243205614517, 48.72165086930464, 48.721530754887034, 48.72012301391272, 48.700726937758084, 77.34215875721974, 39.80655219796549, 48.79191299902605, 65.00408745877958, 68.94925030954727, 68.94186087057629, 33.48980464255318, 61.93165194343629, 37.39084706544671, 37.39042426269675, 61.903180021887536, 33.30961139555258, 38.34423603686865, 699.1934431371185, 3141.255926123937, 1019.1731011269424, 1126.4195554720013, 671.6433084565062, 453.52747987516744, 458.6388191927186, 236.00105754558635, 560.745068323388, 562.7779423818322, 561.421514286718, 1117.936517969936, 372.9759839939965, 107.02821125284997, 139.6846788820877, 151.02834213549426, 1221.1299851538329, 153.79407749692845, 392.91563073862966, 139.23538369617629, 190.26634955375147, 368.7304293985323, 152.68882306275356, 1476.4433852390475, 1474.3708846616698, 754.0757607834572, 2115.0008705392484, 704.9383554181012, 1019.4970341285242, 99.07615632747999, 92.78362393020198, 92.78310698664292, 102.69196420704617, 88.06776015694209, 1032.6497029509353, 406.93675118740225, 406.8861645676936, 60.2103548628323, 410.5796524481445, 283.34968831337494, 283.58395605698195, 27.287202701756872, 128.8999595334692, 132.29448787634993, 16.00031126601496, 19.498236397952123, 594.9768908739511, 289.72327007580657, 14.10921172219459, 14.10648161402327, 8.226718840579016, 7.650018106143762, 7.5876998677631615, 111.18937165736298, 225.01866329725925, 227.57781084868836, 228.52625458141583, 391.77018103248747, 391.669635510249, 186.59919644019064, 341.9652538342168, 671.2311244982441, 2335.0935786621617, 221.527503433373, 197.661603981516, 329.31125092360526, 182.69450019132108, 115.11412716255133, 208.48257881559152, 208.48174483737037, 273.65680102658337, 273.06166869925477, 198.32725336008815, 963.7472011066669, 273.7757181178562, 133.7590188650741, 249.33958202338823, 105.6365281359075, 82.70047276937028, 82.688674028307, 82.68207739729537, 82.6808332658507, 75.39567803790088, 57.447721606872534, 56.20791386075752, 56.206861134150486, 107.76564719097786, 107.76522336598023, 39.67731367041927, 33.63806038189728, 52.898814743109696, 38.654610279344375, 266.0018653240814, 52.51832585148008, 40.89859274466173, 66.66164971197693, 22.780403927182853, 21.465917532895297, 3548.7194081076336, 963.6032646687594, 54.84369638811807, 240.04220140907148, 238.11087191015693, 285.06094734528864, 367.6323927464263, 192.304987250907, 137.58770350422154, 208.97082521287064, 101.66374299756309, 193.1792425186156, 98.54050823109722, 483.25483254886194, 166.64845391162717, 185.98046555953925, 89.9321918681824, 85.68234139146266, 103.1133817148878, 103.13448409823793, 108.8980597334575], \"Total\": [8447.0, 3754.0, 3236.0, 2122.0, 1992.0, 1480.0, 1478.0, 970.0, 1023.0, 1166.0, 1027.0, 1049.0, 1052.0, 1320.0, 5024.0, 896.0, 896.0, 851.0, 756.0, 844.0, 707.0, 720.0, 693.0, 605.0, 603.0, 525.0, 523.0, 643.0, 520.0, 641.0, 844.7492196977637, 851.5126005001383, 90.72443438235385, 90.05005011264252, 896.2755535002841, 896.3917240893402, 421.8725410704445, 204.7915114302491, 605.2009579347085, 603.6768390361614, 137.26324514837083, 137.27894029861432, 102.93923223611708, 102.96030133804348, 102.97588458910887, 146.50705141774222, 32.42831635088694, 1992.864129266236, 31.919837839206323, 25.087861501992943, 23.11227076346954, 20.677170145368947, 20.67738182415663, 8447.275203530578, 19.565149971390934, 19.565101231436966, 20.66073049685582, 16.890681250041656, 16.890791565900418, 173.43246348503914, 462.18567153244527, 45.981960662297105, 45.98839712925492, 290.47193847142034, 477.30454366036037, 85.56156394935189, 396.9521920744592, 71.29421416065948, 255.88111692551294, 345.17527868965067, 48.578902234634114, 5024.47058941267, 1148.7561302511679, 203.3228938330978, 1320.6876274522167, 1087.8526131154883, 3236.379598610789, 520.0524242661822, 525.2810753505994, 523.1711747812823, 136.96554929710945, 136.96121686970952, 431.25646510624256, 136.93711054642563, 454.12941154995644, 454.1149447887298, 67.91063068097199, 67.90897059972481, 67.90869838994966, 49.56696813560926, 49.56697318134436, 49.566684143161595, 49.56317854182892, 78.78689217870851, 40.673194754874906, 49.93020337928783, 66.63174058058226, 70.67923767518289, 70.67780706304345, 34.379280487511956, 63.74408746044319, 38.49272543118843, 38.4925733650657, 63.735797347175115, 34.3106373503365, 39.50177944624757, 720.3243105973407, 3236.379598610789, 1052.904748531057, 1166.2673662568764, 693.4990621453019, 480.1731241401056, 487.275898870591, 249.99998713895494, 614.1565507522002, 619.3653286092197, 618.2761875148574, 1320.6876274522167, 419.8819652309684, 114.67011138069604, 167.66420610444538, 202.20360245919892, 5024.47058941267, 239.0824030245766, 1148.7561302511679, 375.26992591845664, 1087.8526131154883, 8447.275203530578, 3754.465464262625, 1480.6946919361374, 1478.6191444047715, 756.397939183036, 2122.6330798500476, 707.9973883267114, 1027.2640601321484, 100.20464867094479, 94.10251410808561, 94.10237468657927, 104.2364549732704, 89.41826926435422, 1049.73575036955, 415.155964512646, 415.16232198923313, 61.45008156016963, 419.8108013143271, 289.98671760824993, 290.5335390450215, 28.125727845373124, 133.28522195771427, 136.83704276658983, 16.832934516718183, 20.67040913067821, 643.5012085067218, 314.21785474300316, 15.45568919622868, 15.45577335907934, 9.067042975423554, 8.486795118643098, 8.491851141762396, 124.53034477228988, 256.55648792245773, 261.35377497337186, 265.44537464982847, 474.4985533775622, 474.4975786164308, 239.0255388205491, 491.7000446340428, 1087.8526131154883, 5024.47058941267, 310.32076162529336, 301.9706278943859, 1148.7561302511679, 375.26992591845664, 641.8196193010883, 209.75714756609793, 209.75695861204298, 275.4021152799666, 274.82404471680456, 199.61773121825067, 970.4470912261326, 275.7676308798348, 134.79447971533787, 251.52999902642287, 107.3296977238592, 84.07010288674694, 84.06988278577451, 84.0698354618852, 84.06974672858014, 76.66298592975235, 58.53709063807379, 57.28927284293065, 57.289522809194544, 109.88166498160467, 109.88173855669183, 40.54983795638679, 34.511575026807975, 54.285314475667334, 39.812572557466254, 275.1388784549088, 54.35649158544547, 42.412918941408634, 69.18990463099796, 23.724305076560206, 22.369839674520577, 3754.465464262625, 1023.8104564853855, 57.15452625547694, 261.5146810578461, 263.319045591615, 326.54588326126975, 431.1018585696205, 217.6475605779701, 152.65969433140603, 242.5762955318769, 109.9608275811346, 225.45282279224753, 106.77872046085452, 641.8196193010883, 195.5499360965868, 244.9463247456827, 103.72236459311286, 97.90151357794883, 226.5024530556834, 301.9706278943859, 1087.8526131154883], \"Category\": [\"Default\", \"Default\", \"Default\", \"Default\", \"Default\", \"Default\", \"Default\", \"Default\", \"Default\", \"Default\", \"Default\", \"Default\", \"Default\", \"Default\", \"Default\", \"Default\", \"Default\", \"Default\", \"Default\", \"Default\", \"Default\", \"Default\", \"Default\", \"Default\", \"Default\", \"Default\", \"Default\", \"Default\", \"Default\", \"Default\", \"Topic1\", \"Topic1\", \"Topic1\", \"Topic1\", \"Topic1\", \"Topic1\", \"Topic1\", \"Topic1\", \"Topic1\", \"Topic1\", \"Topic1\", \"Topic1\", \"Topic1\", \"Topic1\", \"Topic1\", \"Topic1\", \"Topic1\", \"Topic1\", \"Topic1\", \"Topic1\", \"Topic1\", \"Topic1\", \"Topic1\", \"Topic1\", \"Topic1\", \"Topic1\", \"Topic1\", \"Topic1\", \"Topic1\", \"Topic1\", \"Topic1\", \"Topic1\", \"Topic1\", \"Topic1\", \"Topic1\", \"Topic1\", \"Topic1\", \"Topic1\", \"Topic1\", \"Topic1\", \"Topic1\", \"Topic1\", \"Topic1\", \"Topic1\", \"Topic1\", \"Topic1\", \"Topic1\", \"Topic2\", \"Topic2\", \"Topic2\", \"Topic2\", \"Topic2\", \"Topic2\", \"Topic2\", \"Topic2\", \"Topic2\", \"Topic2\", \"Topic2\", \"Topic2\", \"Topic2\", \"Topic2\", \"Topic2\", \"Topic2\", \"Topic2\", \"Topic2\", \"Topic2\", \"Topic2\", \"Topic2\", \"Topic2\", \"Topic2\", \"Topic2\", \"Topic2\", \"Topic2\", \"Topic2\", \"Topic2\", \"Topic2\", \"Topic2\", \"Topic2\", \"Topic2\", \"Topic2\", \"Topic2\", \"Topic2\", \"Topic2\", \"Topic2\", \"Topic2\", \"Topic2\", \"Topic2\", \"Topic2\", \"Topic2\", \"Topic2\", \"Topic2\", \"Topic2\", \"Topic2\", \"Topic2\", \"Topic2\", \"Topic2\", \"Topic2\", \"Topic2\", \"Topic2\", \"Topic3\", \"Topic3\", \"Topic3\", \"Topic3\", \"Topic3\", \"Topic3\", \"Topic3\", \"Topic3\", \"Topic3\", \"Topic3\", \"Topic3\", \"Topic3\", \"Topic3\", \"Topic3\", \"Topic3\", \"Topic3\", \"Topic3\", \"Topic3\", \"Topic3\", \"Topic3\", \"Topic3\", \"Topic3\", \"Topic3\", \"Topic3\", \"Topic3\", \"Topic3\", \"Topic3\", \"Topic3\", \"Topic3\", \"Topic3\", \"Topic3\", \"Topic3\", \"Topic3\", \"Topic3\", \"Topic3\", \"Topic3\", \"Topic3\", \"Topic3\", \"Topic3\", \"Topic3\", \"Topic3\", \"Topic3\", \"Topic3\", \"Topic3\", \"Topic3\", \"Topic4\", \"Topic4\", \"Topic4\", \"Topic4\", \"Topic4\", \"Topic4\", \"Topic4\", \"Topic4\", \"Topic4\", \"Topic4\", \"Topic4\", \"Topic4\", \"Topic4\", \"Topic4\", \"Topic4\", \"Topic4\", \"Topic4\", \"Topic4\", \"Topic4\", \"Topic4\", \"Topic4\", \"Topic4\", \"Topic4\", \"Topic4\", \"Topic4\", \"Topic4\", \"Topic4\", \"Topic4\", \"Topic4\", \"Topic4\", \"Topic4\", \"Topic4\", \"Topic4\", \"Topic4\", \"Topic4\", \"Topic4\", \"Topic4\", \"Topic4\", \"Topic4\", \"Topic4\", \"Topic4\", \"Topic4\", \"Topic4\", \"Topic4\", \"Topic4\", \"Topic4\", \"Topic4\", \"Topic4\", \"Topic4\", \"Topic4\", \"Topic4\"], \"logprob\": [30.0, 29.0, 28.0, 27.0, 26.0, 25.0, 24.0, 23.0, 22.0, 21.0, 20.0, 19.0, 18.0, 17.0, 16.0, 15.0, 14.0, 13.0, 12.0, 11.0, 10.0, 9.0, 8.0, 7.0, 6.0, 5.0, 4.0, 3.0, 2.0, 1.0, -3.2859, -3.2781, -5.5217, -5.5292, -3.2328, -3.233, -3.988, -4.7114, -3.6299, -3.6324, -5.1147, -5.115, -5.4034, -5.4039, -5.4042, -5.0537, -6.5665, -2.4522, -6.5876, -6.8311, -6.9188, -7.032, -7.032, -1.0251, -7.0932, -7.0932, -7.0491, -7.2515, -7.2515, -4.9251, -3.9647, -6.2545, -6.2553, -4.4504, -3.9854, -5.6542, -4.2088, -5.8648, -4.7338, -4.5427, -6.2584, -2.7641, -4.02, -5.235, -4.7119, -5.2521, -5.4722, -3.6846, -3.6746, -3.6788, -5.0283, -5.0284, -3.8817, -5.029, -3.8304, -3.8306, -5.7326, -5.7327, -5.7327, -6.0486, -6.0486, -6.0487, -6.0491, -5.5865, -6.2507, -6.0472, -5.7603, -5.7014, -5.7015, -6.4235, -5.8087, -6.3133, -6.3134, -5.8092, -6.4289, -6.2882, -3.3848, -1.8824, -3.008, -2.908, -3.425, -3.8177, -3.8065, -4.4709, -3.6055, -3.6019, -3.6043, -2.9155, -4.0133, -5.2617, -4.9954, -4.9173, -2.8272, -4.8992, -3.9612, -4.9986, -4.6863, -4.0247, -4.9064, -2.5972, -2.5986, -3.2691, -2.2378, -3.3365, -2.9676, -5.2987, -5.3644, -5.3644, -5.2629, -5.4165, -2.9548, -3.886, -3.8861, -5.7968, -3.8771, -4.248, -4.2471, -6.5882, -5.0356, -5.0096, -7.122, -6.9243, -3.5061, -4.2257, -7.2478, -7.248, -7.7872, -7.8599, -7.8681, -5.1834, -4.4785, -4.4671, -4.463, -3.924, -3.9242, -4.6657, -4.0599, -3.3855, -2.1388, -4.4941, -4.6081, -4.0976, -4.6868, -5.1487, -4.2544, -4.2544, -3.9824, -3.9845, -4.3043, -2.7234, -3.9819, -4.6982, -4.0754, -4.9342, -5.179, -5.1792, -5.1792, -5.1793, -5.2715, -5.5434, -5.5652, -5.5652, -4.9143, -4.9143, -5.9135, -6.0786, -5.6259, -5.9396, -4.0107, -5.6331, -5.8831, -5.3946, -6.4683, -6.5278, -1.4199, -2.7236, -5.5898, -4.1134, -4.1215, -3.9415, -3.6872, -4.3352, -4.67, -4.252, -4.9726, -4.3306, -5.0038, -3.4137, -4.4784, -4.3686, -5.0952, -5.1436, -4.9584, -4.9582, -4.9038], \"loglift\": [30.0, 29.0, 28.0, 27.0, 26.0, 25.0, 24.0, 23.0, 22.0, 21.0, 20.0, 19.0, 18.0, 17.0, 16.0, 15.0, 14.0, 13.0, 12.0, 11.0, 10.0, 9.0, 8.0, 7.0, 6.0, 5.0, 4.0, 3.0, 2.0, 1.0, 1.234, 1.2338, 1.2294, 1.2294, 1.2279, 1.2275, 1.2262, 1.2256, 1.2235, 1.2234, 1.2224, 1.2219, 1.2214, 1.2207, 1.2202, 1.2182, 1.2134, 1.2094, 1.2081, 1.2054, 1.1997, 1.1979, 1.1979, 1.1923, 1.192, 1.192, 1.1816, 1.1806, 1.1806, 1.1781, 1.1582, 1.1762, 1.1753, 1.137, 1.1054, 1.1555, 1.0663, 1.1274, 0.9804, 0.8722, 1.1173, -0.0273, 0.1925, 0.7091, -0.6389, -0.9851, -2.2955, 1.3204, 1.3204, 1.3202, 1.3109, 1.3108, 1.3105, 1.3104, 1.3101, 1.31, 1.3082, 1.3081, 1.3081, 1.307, 1.307, 1.3069, 1.3066, 1.3056, 1.3026, 1.3011, 1.2994, 1.2994, 1.2993, 1.2979, 1.2953, 1.2951, 1.2951, 1.295, 1.2945, 1.2944, 1.2944, 1.2943, 1.2916, 1.2894, 1.2921, 1.2671, 1.2636, 1.2665, 1.2332, 1.2283, 1.2277, 1.1575, 1.2057, 1.2552, 1.1416, 1.0323, -0.0904, 0.883, 0.2513, 0.3327, -0.4194, -1.8074, -1.8781, 1.3614, 1.3614, 1.3612, 1.3607, 1.36, 1.3567, 1.353, 1.3502, 1.3502, 1.3494, 1.3491, 1.3479, 1.3443, 1.3442, 1.3439, 1.3421, 1.3411, 1.3401, 1.334, 1.3308, 1.3305, 1.3136, 1.3059, 1.2859, 1.2831, 1.2731, 1.2729, 1.267, 1.2605, 1.2517, 1.251, 1.2331, 1.2259, 1.2145, 1.1727, 1.1725, 1.1167, 1.0011, 0.8814, 0.598, 1.0272, 0.9405, 0.1149, 0.6445, -0.3541, 1.6586, 1.6586, 1.6583, 1.6583, 1.6582, 1.6578, 1.6574, 1.657, 1.6559, 1.6488, 1.6483, 1.6481, 1.648, 1.648, 1.648, 1.6459, 1.6456, 1.6456, 1.6452, 1.6452, 1.6429, 1.639, 1.6388, 1.6352, 1.6309, 1.6303, 1.6283, 1.6275, 1.6241, 1.6234, 1.6083, 1.6041, 1.6234, 1.579, 1.5641, 1.5288, 1.5054, 1.5409, 1.5607, 1.5156, 1.5862, 1.5102, 1.5844, 1.3809, 1.5048, 1.3893, 1.522, 1.5314, 0.8778, 0.5904, -0.6369]}, \"token.table\": {\"Topic\": [2, 3, 4, 1, 2, 3, 1, 2, 3, 4, 1, 2, 3, 1, 2, 3, 1, 2, 3, 4, 2, 3, 3, 4, 3, 4, 1, 2, 2, 2, 3, 1, 2, 2, 1, 3, 4, 2, 1, 1, 2, 3, 4, 2, 3, 4, 1, 2, 3, 4, 2, 3, 1, 2, 2, 3, 1, 2, 1, 2, 3, 3, 4, 1, 2, 3, 4, 2, 3, 3, 4, 1, 2, 3, 4, 2, 3, 4, 2, 3, 4, 1, 2, 3, 4, 1, 2, 1, 2, 1, 2, 3, 4, 1, 2, 3, 4, 4, 1, 2, 3, 4, 1, 2, 3, 1, 2, 3, 1, 2, 3, 1, 2, 3, 4, 1, 3, 1, 2, 3, 1, 2, 3, 4, 2, 4, 2, 4, 1, 2, 3, 4, 1, 2, 3, 1, 2, 3, 3, 1, 2, 3, 1, 2, 3, 4, 2, 4, 3, 4, 2, 3, 3, 4, 1, 2, 3, 4, 2, 3, 1, 2, 3, 4, 1, 2, 3, 2, 3, 4, 2, 3, 1, 2, 3, 1, 2, 3, 4, 1, 2, 3, 1, 2, 3, 1, 2, 3, 4, 1, 2, 1, 2, 3, 4, 1, 2, 2, 4, 1, 3, 1, 2, 3, 2, 3, 1, 2, 3, 3, 1, 3, 4, 2, 3, 1, 2, 4, 2, 3, 4, 1, 2, 4, 1, 2, 1, 3, 4, 1, 2, 3, 4, 1, 2, 3, 1, 2, 3, 4, 1, 1, 2, 3, 4, 1, 2, 3, 4, 1, 2, 1, 2, 1, 1, 2, 3, 4, 2, 3, 4, 2, 3, 4, 1, 2, 3, 1, 2, 3, 2, 3, 4, 1, 3, 4, 3, 4, 2, 3, 4, 1, 2, 3, 2, 3, 1, 2, 3, 1, 2, 3, 4, 1, 4, 2, 4, 1, 2, 3, 1, 2, 3, 4, 1, 2, 3, 1, 2, 4, 1, 3, 4, 3, 1, 1, 3, 4, 1, 3, 4, 2, 3, 4, 1, 2, 3, 1, 2, 4, 1, 3, 4, 1, 2, 3, 4, 2, 3, 4, 1, 2, 4, 1, 2, 3, 1, 2, 3, 4, 2, 2, 4, 2, 3, 4, 1, 3, 2, 3, 4, 4, 1, 2, 1, 2, 1, 2, 3, 1, 3, 1, 2, 3, 4, 1, 2, 1, 1, 3, 2, 1, 2, 3, 4, 1, 2, 1, 2, 3, 1, 2, 3, 4, 2, 2, 4, 1, 3, 4, 1, 1, 2, 4, 1, 2, 3, 4, 4, 1, 2, 3, 4, 1, 2, 3, 4, 1, 2, 3, 4, 1, 2, 4, 1, 2, 4, 1, 2, 3, 4, 1, 2, 3, 4, 4, 1, 2, 2, 3, 1, 4, 2, 4, 1, 4, 1, 2, 3, 4, 3, 4, 1, 2, 3, 2, 1, 4, 1, 2, 3, 4, 1, 2], \"Freq\": [0.009641122277946985, 0.12533458961331082, 0.8677010050152287, 0.982313651368159, 0.0033130308646480908, 0.013252123458592363, 0.6924018455414545, 0.10429483865896386, 0.05214741932948193, 0.15064810028517, 0.15295062647757596, 0.8465287148610393, 0.0007571813191959207, 0.10134220424727011, 0.01948888543216733, 0.8769998444475299, 0.028472643337707583, 0.27252387194662975, 0.6955460015354281, 0.004067520476815369, 0.011183396952625217, 0.984138931831019, 0.011894885364987576, 0.9872754852939687, 0.017455198629085237, 0.9774911232287733, 0.007301336997840014, 0.9856804947084019, 0.9885615732223504, 0.9612243808458828, 0.025979037320158996, 0.015689769982054232, 0.9727657388873625, 0.9813699260901929, 0.0006753586714708978, 0.9968293990910452, 0.002026076014412693, 0.9834486875463792, 0.9711828786900506, 0.9019804163484738, 0.058525446862305555, 0.03098406010357353, 0.01032802003452451, 0.17281401474527144, 0.8261352900017854, 0.002107487984698432, 0.008244828686227425, 0.07008104383293311, 0.05771380080359197, 0.8615845977107659, 0.010626708642995506, 0.9882839037985821, 0.013212092957207575, 0.9865029408048323, 0.9773199306471514, 0.012692466631781188, 0.9935261081316935, 0.0058719037123622555, 0.029044800566765828, 0.9705289210660794, 0.0003089872400719769, 0.01189487281027653, 0.987274443252952, 0.5852759507627501, 0.2164045532232017, 0.009836570601054622, 0.18197655611951052, 0.9612205835137108, 0.02597893468955975, 0.03499285412777516, 0.962303488513817, 0.0037976744057887602, 0.05316744168104264, 0.04177441846367636, 0.903846508577725, 0.0033115803579073576, 0.6556929108656567, 0.3410927768644578, 0.0013220554263805528, 0.9968297914909368, 0.0013220554263805528, 0.015341349937942337, 0.0051137833126474455, 0.12784458281618613, 0.8540018132121234, 0.014725595030651994, 0.9866148670536836, 0.0019037426759236451, 0.9956574195080664, 0.01724216902497797, 0.0034484338049955935, 0.975906766813753, 0.0034484338049955935, 0.10755133424271977, 0.17465601287279278, 0.616811498092863, 0.10019739685860217, 0.9387639923016151, 0.9350184543102092, 0.021744615216516494, 0.04348923043303299, 0.021744615216516494, 0.03488267301599023, 0.9331115031777386, 0.03488267301599023, 0.9874195458570203, 0.011157283004034128, 0.0011157283004034127, 0.8388919538641488, 0.0579414863029292, 0.10076780226596382, 0.0010304528799571424, 0.0041218115198285695, 0.0020609057599142847, 0.9933565762786852, 0.06470109403105806, 0.9058153164348128, 0.10330824570163911, 0.026783619255980513, 0.8723807414805081, 0.01720971704827921, 0.003441943409655842, 0.9775119283422592, 0.003441943409655842, 0.0036262414004482922, 0.9935901437228322, 0.025117693626971235, 0.9795900514518782, 0.018378336009730004, 0.022972920012162504, 0.07351334403892001, 0.8821601284670402, 0.9809606099383166, 0.009712481286517985, 0.009712481286517985, 0.9863690081158473, 0.00976602978332522, 0.00488301489166261, 0.9599751568541784, 0.897688553741231, 0.02805276730441347, 0.07013191826103367, 0.9867919029081748, 0.0919291201032784, 0.030643040034426135, 0.8784338143202158, 0.013044104503264688, 0.9783078377448515, 0.017455274790128487, 0.9774953882471953, 0.01627337140343479, 0.9764022842060874, 0.011894834972988275, 0.9872713027580268, 0.003182505337953802, 0.003182505337953802, 0.9229265480066027, 0.07001511743498365, 0.009979576928450013, 0.9879781159165514, 0.873656045262222, 0.012570590579312547, 0.07961374033564612, 0.03352157487816679, 0.03028122335888622, 0.968999147484359, 0.00144196301708982, 0.0019469190811004502, 0.9919552718206793, 0.005840757243301351, 0.030010828966988028, 0.9678492341853638, 0.0019228830658967618, 0.9960534281345226, 0.9420796321612961, 0.2814226842086637, 0.24301067709956034, 0.46472557823707894, 0.010747400952806109, 0.03258258020368059, 0.9654732976143249, 0.0008574363211494892, 0.014148426509573448, 0.9762414291605679, 0.014148426509573448, 0.014538112615936757, 0.0036345281539841893, 0.018172640769920947, 0.9667844889597944, 0.9931941698628374, 0.005918916387740389, 0.007813946369978491, 0.016604636036204292, 0.0341860153686559, 0.9415805375824081, 0.0019114202926376084, 0.995849972464194, 0.003631054173216593, 0.9949088434613464, 0.9518753144226938, 0.8823163209531707, 0.16103616047411168, 0.8350023135694679, 0.005964302239781913, 0.02923185066797308, 0.9646510720431116, 0.026377007856702682, 0.9703962364123776, 0.0027765271428108087, 0.9426408777591736, 0.009100693282934042, 0.009100693282934042, 0.9828748745568767, 0.9619819798677391, 0.025315315259677347, 0.025878402440681923, 0.9073614855764099, 0.06631340625424743, 0.016860874962014348, 0.9803394442199771, 0.002408696423144907, 0.9760622346583004, 0.013651220065151055, 0.0068256100325755275, 0.007302622320637992, 0.985854013286129, 0.00936516185700693, 0.0655561329990485, 0.927151023843686, 0.019052973603187185, 0.8883448942486025, 0.021434595303585584, 0.06906702931155355, 0.9217075003375456, 0.0778907746764123, 0.0021636326299003415, 0.006124713562534174, 0.0949330602192797, 0.027561211031403784, 0.8727716826611198, 0.9711144574809126, 0.09022921912588462, 0.05155955378621978, 0.7153888087837994, 0.14501124502374313, 0.024626705379464944, 0.9419714807645342, 0.024626705379464944, 0.008208901793154982, 0.014725654057713434, 0.9866188218668, 0.007301106045512017, 0.9856493161441223, 0.9920150024931459, 0.024990986368696934, 0.9454923176157007, 0.024990986368696934, 0.004165164394782823, 0.01686113316044331, 0.9803544566143465, 0.002408733308634758, 0.001905241389841127, 0.9840571778529422, 0.014289310423808453, 0.9233117810558488, 0.023374981798882248, 0.05843745449720562, 0.009593572615803486, 0.009593572615803486, 0.988137979427759, 0.016060342590852875, 0.8913490137923347, 0.08833188424969082, 0.947261703963077, 0.02357772171685356, 0.9666865903909959, 0.011894866114517889, 0.9872738875049848, 0.17281436975737713, 0.8261369871328272, 0.0021074923141143555, 0.05857114712127329, 0.15897882790059892, 0.782343179405579, 0.01062672438746244, 0.9882853680340068, 0.9872915782428566, 0.012271420746521383, 0.0011155837042292167, 0.04817395770232836, 0.02486397816894367, 0.9246291881575928, 0.0015539986355589794, 0.00476741799554117, 0.9916229430725634, 0.1419365683856958, 0.8560549280762279, 0.9811613881899861, 0.009714469189999863, 0.009714469189999863, 0.028045262965942303, 0.03895175411936431, 0.1791780689490758, 0.7525478895861185, 0.9808121620222736, 0.009711011505171025, 0.009711011505171025, 0.21637393439165759, 0.024495162383961235, 0.7593500339027983, 0.009100699376619479, 0.009100699376619479, 0.9828755326749037, 0.9505175692395805, 0.9883392612071951, 0.9566379341696173, 0.028905951101773516, 0.9683493619094128, 0.0006763066769317104, 0.9968760417973412, 0.0020289200307951317, 0.6441293798781564, 0.00418265831089712, 0.3513432981153581, 0.015007862488458222, 0.9755110617497844, 0.015007862488458222, 0.02442374013861524, 0.9134478811842099, 0.06187347501782527, 0.009094147634185002, 0.063659033439295, 0.9276030586868701, 0.3508142323574689, 0.34210916455703544, 0.2863967306342612, 0.02089216272104033, 0.016674177934642646, 0.9790124473054467, 0.004764050838469327, 0.9835116447529385, 0.014570542885228719, 0.0072852714426143595, 0.00047111298202826674, 0.0028266778921696004, 0.9964039569897842, 0.9689571765793115, 0.012544758888908745, 0.0010035807111126996, 0.017562662444472243, 0.9618008451153518, 0.01839706667653585, 0.9750445338563999, 0.018421188302192422, 0.018421188302192422, 0.9763229800161983, 0.06470074170779426, 0.9058103839091196, 0.9440000485633087, 0.004000000205776732, 0.05200000267509751, 0.985176711685555, 0.03134186643762355, 0.9677988454526787, 0.013212513855476416, 0.9865343678755724, 0.9860798215130481, 0.004740768372658885, 0.00948153674531777, 0.8851579188082875, 0.1029253393963125, 0.10925034967460391, 0.02637077405938715, 0.8627010370856654, 0.0037672534370553072, 0.015687729479546737, 0.9726392277318976, 0.9711168766901667, 0.9672503470925584, 0.9191883856716192, 0.9598804725417982, 0.9398471123836681, 0.01153186640961556, 0.01153186640961556, 0.04036153243365446, 0.9196189845703397, 0.048400999187912616, 0.014148712892407886, 0.9762611895761442, 0.014148712892407886, 0.003823877099193539, 0.034414893892741855, 0.04206264809112893, 0.9177305038064494, 0.9885614725904274, 0.9885672371884942, 0.9941059921963001, 0.003975668921681789, 0.003975668921681789, 0.9899415614987654, 0.9672404451435302, 0.9833991995155479, 0.014568877029859968, 0.007284438514929984, 0.7698887763466609, 0.1406903347638568, 0.07816129709103156, 0.007816129709103156, 0.9864404401078455, 0.0065505175048308365, 0.08515672756280088, 0.0065505175048308365, 0.9039714156666554, 0.9526148735673627, 0.04368272503372149, 0.0036698224283072257, 0.00011838136865507179, 0.2423300050249467, 0.7467720563013663, 0.004945510306631566, 0.004945510306631566, 0.9472678906873896, 0.003638691807445236, 0.9933628634325494, 0.027447451794199357, 0.9089950211843669, 0.0629676835278691, 0.935149336406132, 0.021747658986189116, 0.04349531797237823, 0.021747658986189116, 0.17659852889172195, 0.12361897022420537, 0.24723794044841074, 0.45474121189618405, 0.969469913903787, 0.011594029086075777, 0.9854924723164411, 0.002824869177451094, 0.9957663850515106, 0.005009575020701227, 0.9918958540988428, 0.14613715702602534, 0.8536265680250369, 0.009317085775950171, 0.9876110922507182, 0.001331747501100532, 0.04075147353367628, 0.012784776010565107, 0.9452743762811576, 0.01708318587582107, 0.973741594921801, 0.9831445112553687, 0.0033046874327911555, 0.013218749731164622, 0.9886371585035931, 0.004767422290144638, 0.9916238363500847, 0.05329497148232937, 0.3704000518021891, 0.4876489890633137, 0.08793670294584345, 0.014725235062206422, 0.9865907491678303], \"Term\": [\"Oven\", \"Oven\", \"Oven\", \"apparel\", \"apparel\", \"apparel\", \"area\", \"area\", \"area\", \"area\", \"article\", \"article\", \"article\", \"ashe\", \"ashe\", \"ashe\", \"attach\", \"attach\", \"attach\", \"attach\", \"basement\", \"basement\", \"board\", \"board\", \"boiler\", \"boiler\", \"book\", \"book\", \"brake\", \"broom\", \"broom\", \"bulb\", \"bulb\", \"burn\", \"burner\", \"burner\", \"burner\", \"bus\", \"camp\", \"candle\", \"candle\", \"candle\", \"candle\", \"cardboard\", \"cardboard\", \"cardboard\", \"cc\", \"cc\", \"cc\", \"cc\", \"cellar\", \"cellar\", \"chair\", \"chair\", \"chimney\", \"chimney\", \"chute\", \"chute\", \"cigarette\", \"cigarette\", \"cigarette\", \"circuit\", \"circuit\", \"classify\", \"classify\", \"classify\", \"classify\", \"clothe\", \"clothe\", \"collision\", \"collision\", \"combination\", \"combination\", \"combination\", \"combination\", \"cook\", \"cook\", \"cook\", \"cooking\", \"cooking\", \"cooking\", \"copper\", \"copper\", \"copper\", \"copper\", \"cotton\", \"cotton\", \"cover\", \"cover\", \"cut\", \"cut\", \"cut\", \"cut\", \"detach\", \"detach\", \"detach\", \"detach\", \"diesel\", \"distinguish\", \"distinguish\", \"distinguish\", \"distinguish\", \"diverse\", \"diverse\", \"diverse\", \"dormitory\", \"dormitory\", \"dormitory\", \"downtown\", \"downtown\", \"downtown\", \"electrical\", \"electrical\", \"electrical\", \"electrical\", \"elevator\", \"elevator\", \"ember\", \"ember\", \"ember\", \"equipment\", \"equipment\", \"equipment\", \"equipment\", \"exclude\", \"exclude\", \"extension\", \"extension\", \"fai\", \"fai\", \"fai\", \"fai\", \"farmyard\", \"farmyard\", \"farmyard\", \"field\", \"field\", \"field\", \"finish\", \"flame\", \"flame\", \"flame\", \"forest\", \"fry\", \"fry\", \"fry\", \"fuel\", \"fuel\", \"furnace\", \"furnace\", \"furniture\", \"furniture\", \"fuse\", \"fuse\", \"garage\", \"garage\", \"garage\", \"garage\", \"general\", \"general\", \"good\", \"good\", \"good\", \"good\", \"grass\", \"grass\", \"grass\", \"grease\", \"grease\", \"grease\", \"great\", \"great\", \"ground\", \"ground\", \"hazardous\", \"house\", \"house\", \"house\", \"house\", \"ignite\", \"ignite\", \"ignite\", \"incl\", \"incl\", \"incl\", \"include\", \"include\", \"include\", \"include\", \"industri\", \"industri\", \"insulation\", \"insulation\", \"insulation\", \"insulation\", \"land\", \"land\", \"large\", \"large\", \"lawn\", \"leather\", \"leave\", \"leave\", \"leave\", \"license\", \"license\", \"light\", \"light\", \"light\", \"lightning\", \"line\", \"line\", \"line\", \"linen\", \"linen\", \"live\", \"live\", \"live\", \"load\", \"load\", \"load\", \"locker\", \"locker\", \"locker\", \"magazine\", \"magazine\", \"manf\", \"manf\", \"manf\", \"material\", \"material\", \"material\", \"material\", \"mattress\", \"mattress\", \"mattress\", \"mechanical\", \"mechanical\", \"mechanical\", \"mechanical\", \"metre\", \"multi\", \"multi\", \"multi\", \"multi\", \"multiple\", \"multiple\", \"multiple\", \"multiple\", \"natural\", \"natural\", \"newspaper\", \"newspaper\", \"non\", \"object\", \"object\", \"object\", \"object\", \"occupant\", \"occupant\", \"occupant\", \"oil\", \"oil\", \"oil\", \"open\", \"open\", \"open\", \"outdoor\", \"outdoor\", \"outdoor\", \"oven\", \"oven\", \"oven\", \"overpass\", \"paint\", \"paint\", \"panel\", \"panel\", \"paper\", \"paper\", \"paper\", \"parking\", \"parking\", \"parking\", \"partition\", \"partition\", \"patient\", \"patient\", \"patient\", \"person\", \"person\", \"person\", \"person\", \"phone\", \"phone\", \"pick\", \"pick\", \"pier\", \"pier\", \"pier\", \"plastic\", \"plastic\", \"plastic\", \"plastic\", \"play\", \"play\", \"play\", \"portable\", \"portable\", \"portable\", \"power\", \"power\", \"power\", \"printing\", \"property\", \"radio\", \"rag\", \"rag\", \"range\", \"range\", \"range\", \"receive\", \"receive\", \"receive\", \"receptacle\", \"receptacle\", \"receptacle\", \"recreation\", \"recreation\", \"recreation\", \"repair\", \"repair\", \"repair\", \"residential\", \"residential\", \"residential\", \"residential\", \"restaurant\", \"restaurant\", \"restaurant\", \"restroom\", \"restroom\", \"restroom\", \"road\", \"road\", \"road\", \"room\", \"room\", \"room\", \"room\", \"rubber\", \"school\", \"school\", \"secondary\", \"secondary\", \"secondary\", \"shaft\", \"shaft\", \"shipping\", \"shipping\", \"shipping\", \"small\", \"smoker\", \"smoker\", \"sofa\", \"sofa\", \"soft\", \"soft\", \"soft\", \"source\", \"source\", \"spark\", \"spark\", \"spark\", \"spark\", \"spotlight\", \"spotlight\", \"sq\", \"stereo\", \"sto\", \"stove\", \"structure\", \"structure\", \"structure\", \"structure\", \"supply\", \"supply\", \"switch\", \"switch\", \"switch\", \"synthetic\", \"synthetic\", \"synthetic\", \"synthetic\", \"syste\", \"system\", \"t\", \"tank\", \"tank\", \"tank\", \"television\", \"toilet\", \"toilet\", \"toilet\", \"tool\", \"tool\", \"tool\", \"tool\", \"trailer\", \"transmission\", \"transmission\", \"transmission\", \"transmission\", \"trash\", \"trash\", \"trash\", \"trash\", \"tree\", \"tree\", \"tree\", \"tree\", \"trestle\", \"truck\", \"truck\", \"tv\", \"tv\", \"tv\", \"unable\", \"unable\", \"unable\", \"unable\", \"unclassified\", \"unclassified\", \"unclassified\", \"unclassified\", \"university\", \"upholster\", \"upholster\", \"use\", \"use\", \"utility\", \"utility\", \"vef\", \"vef\", \"vefh\", \"vefh\", \"vehicle\", \"vehicle\", \"vehicle\", \"vehicle\", \"water\", \"water\", \"wear\", \"wear\", \"wear\", \"wheel\", \"wiring\", \"wiring\", \"wood\", \"wood\", \"wood\", \"wood\", \"wool\", \"wool\"]}, \"R\": 30, \"lambda.step\": 0.01, \"plot.opts\": {\"xlab\": \"PC1\", \"ylab\": \"PC2\"}, \"topic.order\": [4, 3, 1, 2]};\n",
              "\n",
              "function LDAvis_load_lib(url, callback){\n",
              "  var s = document.createElement('script');\n",
              "  s.src = url;\n",
              "  s.async = true;\n",
              "  s.onreadystatechange = s.onload = callback;\n",
              "  s.onerror = function(){console.warn(\"failed to load library \" + url);};\n",
              "  document.getElementsByTagName(\"head\")[0].appendChild(s);\n",
              "}\n",
              "\n",
              "if(typeof(LDAvis) !== \"undefined\"){\n",
              "   // already loaded: just create the visualization\n",
              "   !function(LDAvis){\n",
              "       new LDAvis(\"#\" + \"ldavis_el17181402577225628965027985207\", ldavis_el17181402577225628965027985207_data);\n",
              "   }(LDAvis);\n",
              "}else if(typeof define === \"function\" && define.amd){\n",
              "   // require.js is available: use it to load d3/LDAvis\n",
              "   require.config({paths: {d3: \"https://d3js.org/d3.v5\"}});\n",
              "   require([\"d3\"], function(d3){\n",
              "      window.d3 = d3;\n",
              "      LDAvis_load_lib(\"https://cdn.jsdelivr.net/gh/bmabey/pyLDAvis@3.3.1/pyLDAvis/js/ldavis.v3.0.0.js\", function(){\n",
              "        new LDAvis(\"#\" + \"ldavis_el17181402577225628965027985207\", ldavis_el17181402577225628965027985207_data);\n",
              "      });\n",
              "    });\n",
              "}else{\n",
              "    // require.js not available: dynamically load d3 & LDAvis\n",
              "    LDAvis_load_lib(\"https://d3js.org/d3.v5.js\", function(){\n",
              "         LDAvis_load_lib(\"https://cdn.jsdelivr.net/gh/bmabey/pyLDAvis@3.3.1/pyLDAvis/js/ldavis.v3.0.0.js\", function(){\n",
              "                 new LDAvis(\"#\" + \"ldavis_el17181402577225628965027985207\", ldavis_el17181402577225628965027985207_data);\n",
              "            })\n",
              "         });\n",
              "}\n",
              "</script>"
            ],
            "text/plain": [
              "PreparedData(topic_coordinates=              x         y  topics  cluster       Freq\n",
              "topic                                                \n",
              "3     -0.239289 -0.144770       1        1  28.915976\n",
              "2     -0.107006 -0.085984       2        1  26.602766\n",
              "0     -0.018104  0.334453       3        1  25.556229\n",
              "1      0.364399 -0.103699       4        1  18.925029, topic_info=             Term         Freq        Total Category  logprob  loglift\n",
              "6           trash  8447.000000  8447.000000  Default  30.0000  30.0000\n",
              "29        vehicle  3754.000000  3754.000000  Default  29.0000  29.0000\n",
              "19      cigarette  3236.000000  3236.000000  Default  28.0000  28.0000\n",
              "5            road  2122.000000  2122.000000  Default  27.0000  27.0000\n",
              "24           room  1992.000000  1992.000000  Default  26.0000  26.0000\n",
              "..            ...          ...          ...      ...      ...      ...\n",
              "138          Oven    89.932192   103.722365   Topic4  -5.0952   1.5220\n",
              "180           fry    85.682341    97.901514   Topic4  -5.1436   1.5314\n",
              "140  unclassified   103.113382   226.502453   Topic4  -4.9584   0.8778\n",
              "146          cook   103.134484   301.970628   Topic4  -4.9582   0.5904\n",
              "20         detach   108.898060  1087.852613   Topic4  -4.9038  -0.6369\n",
              "\n",
              "[225 rows x 6 columns], token_table=      Topic      Freq     Term\n",
              "term                          \n",
              "138       2  0.009641     Oven\n",
              "138       3  0.125335     Oven\n",
              "138       4  0.867701     Oven\n",
              "167       1  0.982314  apparel\n",
              "167       2  0.003313  apparel\n",
              "...     ...       ...      ...\n",
              "145       2  0.370400     wood\n",
              "145       3  0.487649     wood\n",
              "145       4  0.087937     wood\n",
              "259       1  0.014725     wool\n",
              "259       2  0.986591     wool\n",
              "\n",
              "[464 rows x 3 columns], R=30, lambda_step=0.01, plot_opts={'xlab': 'PC1', 'ylab': 'PC2'}, topic_order=[4, 3, 1, 2])"
            ]
          },
          "metadata": {},
          "execution_count": 64
        }
      ]
    },
    {
      "cell_type": "code",
      "metadata": {
        "id": "u0e7SlOtKqUJ"
      },
      "source": [
        ""
      ],
      "execution_count": null,
      "outputs": []
    },
    {
      "cell_type": "code",
      "metadata": {
        "colab": {
          "base_uri": "https://localhost:8080/"
        },
        "id": "A3RX2icoCGYz",
        "outputId": "20aaf6e0-e691-47c0-ed53-e4c0869cd517"
      },
      "source": [
        "num_topics = 5\n",
        "\n",
        "ldamodel = models.LdaModel(corpus, id2word=dictionary, num_topics=num_topics, random_state=0)\n",
        "\n",
        "for i in range(num_topics):\n",
        "\n",
        "    print('Topic number', i)\n",
        "\n",
        "    pprint.pprint(ldamodel.show_topic(i, topn=5))\n",
        "\n",
        "    print('\\n')\n"
      ],
      "execution_count": 65,
      "outputs": [
        {
          "output_type": "stream",
          "name": "stdout",
          "text": [
            "Topic number 0\n",
            "[('road', 0.14144872),\n",
            " ('burner', 0.09881301),\n",
            " ('range', 0.098673835),\n",
            " ('oil', 0.06928492),\n",
            " ('grease', 0.068331)]\n",
            "\n",
            "\n",
            "Topic number 1\n",
            "[('vehicle', 0.24781783),\n",
            " ('electrical', 0.06631986),\n",
            " ('insulation', 0.060128465),\n",
            " ('plastic', 0.03199409),\n",
            " ('vef', 0.026995987)]\n",
            "\n",
            "\n",
            "Topic number 2\n",
            "[('cigarette', 0.18139337),\n",
            " ('ignite', 0.06526273),\n",
            " ('article', 0.0592747),\n",
            " ('smoker', 0.058847006),\n",
            " ('house', 0.044898994)]\n",
            "\n",
            "\n",
            "Topic number 3\n",
            "[('trash', 0.5420605),\n",
            " ('room', 0.0629687),\n",
            " ('chute', 0.05710876),\n",
            " ('industri', 0.056664445),\n",
            " ('house', 0.04367334)]\n",
            "\n",
            "\n",
            "Topic number 4\n",
            "[('house', 0.16022101),\n",
            " ('room', 0.070015125),\n",
            " ('dormitory', 0.06112365),\n",
            " ('patient', 0.0611231),\n",
            " ('wear', 0.040099725)]\n",
            "\n",
            "\n"
          ]
        }
      ]
    },
    {
      "cell_type": "code",
      "metadata": {
        "id": "tc62_B2rCGY6"
      },
      "source": [
        "# feed the LDA model into the pyLDAvis instance\n",
        "lda_viz = gensimvis.prepare(ldamodel, corpus, dictionary, sort_topics=True)\n"
      ],
      "execution_count": 66,
      "outputs": []
    },
    {
      "cell_type": "code",
      "metadata": {
        "colab": {
          "base_uri": "https://localhost:8080/",
          "height": 881
        },
        "id": "gBMcaEyyCGY6",
        "outputId": "91b13ee0-d58b-49c7-c32c-abc985c89ab6"
      },
      "source": [
        "lda_viz"
      ],
      "execution_count": 67,
      "outputs": [
        {
          "output_type": "execute_result",
          "data": {
            "text/html": [
              "\n",
              "<link rel=\"stylesheet\" type=\"text/css\" href=\"https://cdn.jsdelivr.net/gh/bmabey/pyLDAvis@3.3.1/pyLDAvis/js/ldavis.v1.0.0.css\">\n",
              "\n",
              "\n",
              "<div id=\"ldavis_el17181402578276235048255076585\"></div>\n",
              "<script type=\"text/javascript\">\n",
              "\n",
              "var ldavis_el17181402578276235048255076585_data = {\"mdsDat\": {\"x\": [-0.04972291307965609, -0.22280046919015908, -0.0014304522350667393, -0.12326950586846071, 0.3972233403733424], \"y\": [-0.14951729442808437, -0.12941163763582647, 0.3643793301194214, 0.003464580258267062, -0.08891497831377801], \"topics\": [1, 2, 3, 4, 5], \"cluster\": [1, 1, 1, 1, 1], \"Freq\": [22.540198362577215, 22.030552601202377, 19.64114418128293, 17.977453046206133, 17.810651808731347]}, \"tinfo\": {\"Term\": [\"trash\", \"vehicle\", \"cigarette\", \"road\", \"burner\", \"range\", \"house\", \"room\", \"grease\", \"oil\", \"electrical\", \"ignite\", \"chute\", \"industri\", \"dormitory\", \"patient\", \"smoker\", \"cooking\", \"insulation\", \"use\", \"article\", \"grass\", \"person\", \"wear\", \"apparel\", \"cover\", \"land\", \"ground\", \"light\", \"mattress\", \"cover\", \"ground\", \"land\", \"chair\", \"sofa\", \"upholster\", \"upholstered\", \"syste\", \"brake\", \"system\", \"wheel\", \"bus\", \"broom\", \"clothe\", \"grass\", \"chimney\", \"linen\", \"specialty\", \"torch\", \"newspaper\", \"book\", \"vefu\", \"magazine\", \"await\", \"assembly\", \"manuf\", \"fihrd\", \"cigarette\", \"ignite\", \"smoker\", \"object\", \"multiple\", \"diverse\", \"material\", \"light\", \"article\", \"leave\", \"tree\", \"burn\", \"downtown\", \"house\", \"live\", \"recreation\", \"tv\", \"wood\", \"trash\", \"detach\", \"residential\", \"industri\", \"chute\", \"non\", \"property\", \"field\", \"play\", \"pier\", \"farmyard\", \"forest\", \"structure\", \"radio\", \"camp\", \"stereo\", \"television\", \"lawn\", \"trash\", \"trestle\", \"overpass\", \"metre\", \"sq\", \"tanning\", \"salon\", \"firework\", \"tunnel\", \"outbuilde\", \"park\", \"lodging\", \"suit\", \"stand\", \"exhibition\", \"area\", \"source\", \"apartment\", \"flat\", \"tenement\", \"room\", \"classify\", \"exposure\", \"downtown\", \"locker\", \"restroom\", \"toilet\", \"house\", \"residential\", \"lot\", \"cigarette\", \"tree\", \"article\", \"detach\", \"unclassified\", \"ignite\", \"burner\", \"range\", \"cooking\", \"road\", \"use\", \"grease\", \"oil\", \"occupant\", \"load\", \"restaurant\", \"furniture\", \"great\", \"license\", \"finish\", \"person\", \"printing\", \"outside\", \"oven\", \"tent\", \"business\", \"leather\", \"lightning\", \"hazardous\", \"fume\", \"long\", \"build\", \"term\", \"garage\", \"jewellery\", \"licensed\", \"ashe\", \"ember\", \"spark\", \"lobby\", \"detach\", \"shed\", \"floor\", \"product\", \"house\", \"storage\", \"wood\", \"residential\", \"plastic\", \"cardboard\", \"paper\", \"shipping\", \"dormitory\", \"patient\", \"receive\", \"general\", \"outdoor\", \"mattress\", \"multi\", \"cut\", \"natural\", \"equipment\", \"cotton\", \"wool\", \"cellar\", \"partition\", \"basement\", \"flame\", \"bedding\", \"candle\", \"wear\", \"apparel\", \"portable\", \"drapery\", \"curtain\", \"match\", \"soft\", \"asphalt\", \"attach\", \"porch\", \"elevator\", \"tool\", \"bulb\", \"good\", \"spotlight\", \"cardboard\", \"paper\", \"synthetic\", \"combination\", \"house\", \"parking\", \"room\", \"residential\", \"article\", \"auto\", \"detach\", \"wood\", \"light\", \"insulation\", \"phone\", \"wiring\", \"utility\", \"truck\", \"cook\", \"large\", \"exclude\", \"electrical\", \"tank\", \"t\", \"vefh\", \"fuel\", \"rag\", \"water\", \"furnace\", \"boiler\", \"line\", \"power\", \"collision\", \"trailer\", \"extension\", \"paint\", \"fai\", \"small\", \"dining\", \"fuse\", \"panel\", \"board\", \"circuit\", \"supply\", \"vehicle\", \"gasoline\", \"vef\", \"include\", \"insulation\", \"mechanical\", \"cc\", \"transmission\", \"plastic\", \"pick\", \"tv\", \"recreation\", \"live\", \"copper\", \"unclassified\", \"detach\", \"repair\"], \"Freq\": [9689.0, 3575.0, 3308.0, 2164.0, 1509.0, 1507.0, 4738.0, 2102.0, 1047.0, 1069.0, 923.0, 1193.0, 980.0, 972.0, 868.0, 868.0, 1076.0, 771.0, 960.0, 722.0, 1314.0, 713.0, 660.0, 591.0, 589.0, 537.0, 535.0, 532.0, 697.0, 440.0, 535.1903685431172, 529.8385566962662, 532.940127925773, 462.8070424815109, 462.70768095373046, 435.7061287873706, 53.064095558260455, 49.69307416799542, 49.69237805109725, 49.69054616452313, 49.67503212066983, 40.747076437560736, 38.42310442103769, 38.423031145574726, 696.1596259033885, 78.3787244413962, 39.33909248754881, 31.6196934402745, 42.72810707483079, 135.5000579588701, 135.48689280069073, 26.984796510495215, 135.423428108045, 26.086545176880662, 26.419352152519703, 26.080943674822898, 69.42384409650654, 3171.518879179454, 1141.0668731580834, 1028.8930818279232, 465.1510431245777, 469.0819623273577, 110.9212856999824, 384.16628498455214, 599.7958787300298, 1036.3709568075471, 155.05350126700608, 168.83254499165437, 47.3437936207361, 276.4179408150044, 785.0232223563819, 179.58764062723, 178.8051238165095, 179.40225370592876, 123.44924859512193, 392.6219477419799, 149.4410241732346, 140.24843822648677, 968.3319846485895, 975.9248364800075, 103.4492321681318, 102.67271871696889, 233.13375045510176, 116.67224220069984, 116.66327395217338, 116.6609980701161, 36.26967398232642, 191.9931716242488, 27.87019305063428, 35.34637011728298, 22.788317516330082, 22.788158363738663, 25.46196765594801, 9263.207424680679, 18.385144229317454, 18.385092504725243, 21.329888924936338, 21.32517999763773, 15.185514669133635, 15.184672155102811, 16.360069746139175, 11.669714560244213, 14.731611478406629, 12.60386666380025, 9.529120163288143, 10.288036311358589, 7.547147683329068, 7.546849769572005, 288.27595358389243, 43.38683463325212, 125.01359662719098, 116.93493946809605, 116.89402929447179, 1076.0646655774317, 142.5779949213754, 43.386094573702024, 198.09672125094514, 80.2910818280844, 73.00853776178565, 72.92177572657357, 746.3285070133394, 225.93161823561746, 26.550521646069196, 109.25868372114495, 44.34156715628603, 67.27047410365348, 60.935807062513256, 41.18715483673175, 41.683201633666506, 1505.4596361951922, 1503.3392158323811, 769.0871925575326, 2155.033387412246, 718.272362881146, 1041.0528418021536, 1055.5862347524633, 416.5646680660304, 416.5473857319705, 420.3907043959992, 61.44314586825428, 132.5710676909831, 136.1000266578887, 27.789292581008922, 638.5664652228568, 16.27466259965876, 20.79374109963478, 118.11801347256734, 10.71924354592269, 10.474893796580504, 8.348578746038767, 7.751757354347886, 7.752884501648279, 25.760019503433476, 13.100008330546332, 11.629975904182794, 13.051826552436435, 271.1072081849978, 5.2276369034539405, 7.549780716854717, 225.87160688628188, 229.25917138774707, 231.3561229652256, 42.23958169692065, 632.7402470348578, 28.86367236081388, 49.69764667738355, 46.2448371081099, 966.1361655318386, 54.145917979049095, 86.596355734486, 154.53135215054928, 86.81253389587255, 39.026787991185074, 39.01633771283115, 170.00886210411545, 852.3650633443841, 852.3573749050227, 170.33915330317, 81.02074801646478, 84.2833281684345, 427.97983424521664, 250.37732656157914, 233.14948203687544, 45.31609017491052, 233.5556186512524, 45.290729364162104, 45.29115144909326, 75.36533592167463, 75.36453071349827, 71.57051316512586, 65.60432967594375, 57.17439098827759, 265.241573395156, 559.1878831973576, 557.7197029728089, 196.488509613598, 35.19289934336514, 35.18930837464312, 24.71510197392319, 386.7525782026726, 22.780522770652965, 367.3466975098089, 11.383284808435473, 12.006963996332534, 211.78646494797812, 40.98106688942675, 393.5650809405175, 40.96969332393555, 318.0197744978104, 318.00556646966606, 173.8037043415072, 170.01175825610463, 2234.2708682192424, 153.7743717372478, 976.3560573861986, 531.0712604525481, 210.73759038765863, 79.00516909150127, 125.79721884092243, 88.8100591828442, 93.23870415286653, 95.24546474957594, 198.53863877735103, 198.53795684074055, 188.74672385399703, 259.8579155907402, 289.1141027195813, 260.3458219354559, 260.4285549997102, 916.2449861020874, 237.31412058609052, 126.96593035604543, 100.53275492699329, 71.49305693852705, 64.50593442740613, 54.48741068171214, 53.30147144914918, 53.29985024135819, 102.36943538680222, 102.36930028615298, 53.160481054929555, 37.643129283696425, 36.86975848380017, 39.322513987594256, 201.55332613160274, 31.896385133421482, 35.9667843444067, 77.13585078925142, 77.13493725152793, 77.127062813686, 77.1258662079355, 22.436927174411778, 3423.738254947669, 74.40007550869173, 372.9642563422063, 240.51358702832908, 830.7074897039873, 278.79647900317894, 196.72113617637117, 130.81238737417226, 442.0157679141448, 179.83162501099625, 359.46746988113824, 355.2870183246114, 356.1730212491135, 137.21528321102738, 100.2610096210757, 113.95192928175007, 79.82883133082049], \"Total\": [9689.0, 3575.0, 3308.0, 2164.0, 1509.0, 1507.0, 4738.0, 2102.0, 1047.0, 1069.0, 923.0, 1193.0, 980.0, 972.0, 868.0, 868.0, 1076.0, 771.0, 960.0, 722.0, 1314.0, 713.0, 660.0, 591.0, 589.0, 537.0, 535.0, 532.0, 697.0, 440.0, 537.395226582314, 532.0350577431643, 535.2445655066015, 465.9231473132587, 465.89049465171604, 441.10088854116987, 53.992587936983455, 50.64354590054239, 50.6434162543718, 50.64311848915473, 50.640289718307365, 41.57812319301887, 39.375627395257425, 39.37558951667711, 713.8645249929215, 80.437454722351, 40.39395567464857, 32.51542728289207, 43.94696842678941, 139.61419756318963, 139.61139700617892, 27.80708055758028, 139.5981948176502, 26.927477016701452, 27.27494784058178, 26.92648443574011, 72.41545177927327, 3308.813363049371, 1193.8492738355603, 1076.6899993834693, 492.645329594883, 499.4965245736252, 117.97312450577449, 428.4371022331851, 697.3930147390342, 1314.8360473041703, 177.3910286088506, 216.10255187029787, 50.179253122045914, 501.29989574167183, 4738.553802263002, 544.7616425100946, 541.0492573204211, 546.1903503482536, 358.9672911954132, 9689.523601352685, 1082.8662263932783, 1062.719159101503, 972.7573061286345, 980.5244936912, 104.3839406949829, 103.60681057758616, 235.31809178285437, 118.1934073436242, 118.19199442863362, 118.19196917296398, 37.21760453779139, 197.83938591034888, 28.73879872897003, 36.65453654134904, 23.654968653796626, 23.65499223745067, 26.456991843637176, 9689.523601352685, 19.24963703501525, 19.249651795094476, 22.36348141537559, 22.36342453671651, 16.05900019911649, 16.059009307735295, 17.31502797988199, 12.532261441340106, 15.931186502411961, 13.718295939999138, 10.474002689400889, 11.310821880210675, 8.413106785695728, 8.41311430974503, 366.981133794066, 55.40519473304718, 175.8060382006074, 164.84973808971756, 164.85847473478037, 2102.324311063651, 217.35225133550404, 55.40606223471091, 501.29989574167183, 155.1401549886325, 144.89153247356197, 144.89661536663678, 4738.553802263002, 1062.719159101503, 34.13694487914538, 3308.813363049371, 216.10255187029787, 1314.8360473041703, 1082.8662263932783, 221.240374581882, 1193.8492738355603, 1509.75468333608, 1507.6365250968615, 771.2895368210276, 2164.971020790673, 722.0980599403691, 1047.175497865808, 1069.513247666493, 422.9024642800218, 422.90348035450444, 427.589505123119, 62.6162502214021, 135.6038868293607, 139.27163426940137, 28.646316164860448, 660.0410284090664, 17.130212656784597, 22.13720727910458, 126.29164402367732, 11.591676527705262, 11.347651731714102, 9.209471032417694, 8.617556618127338, 8.625802129990783, 29.6390311431135, 15.143815494431973, 13.493800855208127, 15.153797238517932, 315.57961120258113, 6.094460290792611, 8.828611265276773, 265.5747917158705, 270.4558899587462, 275.03652782077853, 50.13763700926233, 1082.8662263932783, 37.75459539629851, 80.81836071457776, 79.78907491818022, 4738.553802263002, 106.62363677380701, 358.9672911954132, 1062.719159101503, 611.2080909318156, 401.7627569488776, 401.76891750357, 172.49188653708345, 868.7963550955291, 868.8020237675214, 174.48168349839062, 82.9912142989895, 86.40688748760101, 440.71532507220417, 258.7362250252215, 240.97120015579156, 46.84145138683648, 241.43702849866676, 46.852716364838535, 46.853392544132674, 78.06579079935497, 78.06614186810101, 74.18246967342148, 68.34860468169244, 59.66695120983162, 276.8249776368292, 591.0200954083957, 589.5214618447447, 207.80511783285155, 37.35984603501774, 37.360634496470134, 26.303952879620695, 412.5584016020313, 24.350851074192413, 394.3092171270294, 12.279439068302986, 13.00415231195483, 238.86599872209578, 45.02002995367658, 466.9965449593356, 45.02559883367201, 401.7627569488776, 401.76891750357, 217.3084564737445, 219.07151822626525, 4738.553802263002, 204.09387847278379, 2102.324311063651, 1062.719159101503, 1314.8360473041703, 115.18794343153928, 1082.8662263932783, 358.9672911954132, 697.3930147390342, 960.4008751610957, 199.6835483423226, 199.68360541818947, 190.00556671123698, 261.6119643558477, 291.0720432633215, 262.18709678606297, 262.53501515793147, 923.6693778433346, 239.5932947156333, 128.35599971189438, 102.30688851674398, 73.03047599985102, 65.94618157622604, 55.74851470729345, 54.56150431583794, 54.56123666783003, 104.8126906702071, 104.81262394985619, 54.50930794482698, 38.63736769609285, 37.897609234824614, 40.427069652344414, 207.64792128484444, 32.891413284245985, 37.1578171704132, 79.7888770011012, 79.78890835359046, 79.78783675175679, 79.78763551973813, 23.310387561400926, 3575.940386100329, 77.71376588490874, 408.32877579309485, 260.4461966043388, 960.4008751610957, 311.8923304540615, 227.36817367608856, 146.3761715049194, 611.2080909318156, 217.69160224494914, 546.1903503482536, 541.0492573204211, 544.7616425100946, 180.86894418684847, 221.240374581882, 1082.8662263932783, 106.02958656858998], \"Category\": [\"Default\", \"Default\", \"Default\", \"Default\", \"Default\", \"Default\", \"Default\", \"Default\", \"Default\", \"Default\", \"Default\", \"Default\", \"Default\", \"Default\", \"Default\", \"Default\", \"Default\", \"Default\", \"Default\", \"Default\", \"Default\", \"Default\", \"Default\", \"Default\", \"Default\", \"Default\", \"Default\", \"Default\", \"Default\", \"Default\", \"Topic1\", \"Topic1\", \"Topic1\", \"Topic1\", \"Topic1\", \"Topic1\", \"Topic1\", \"Topic1\", \"Topic1\", \"Topic1\", \"Topic1\", \"Topic1\", \"Topic1\", \"Topic1\", \"Topic1\", \"Topic1\", \"Topic1\", \"Topic1\", \"Topic1\", \"Topic1\", \"Topic1\", \"Topic1\", \"Topic1\", \"Topic1\", \"Topic1\", \"Topic1\", \"Topic1\", \"Topic1\", \"Topic1\", \"Topic1\", \"Topic1\", \"Topic1\", \"Topic1\", \"Topic1\", \"Topic1\", \"Topic1\", \"Topic1\", \"Topic1\", \"Topic1\", \"Topic1\", \"Topic1\", \"Topic1\", \"Topic1\", \"Topic1\", \"Topic1\", \"Topic1\", \"Topic1\", \"Topic1\", \"Topic2\", \"Topic2\", \"Topic2\", \"Topic2\", \"Topic2\", \"Topic2\", \"Topic2\", \"Topic2\", \"Topic2\", \"Topic2\", \"Topic2\", \"Topic2\", \"Topic2\", \"Topic2\", \"Topic2\", \"Topic2\", \"Topic2\", \"Topic2\", \"Topic2\", \"Topic2\", \"Topic2\", \"Topic2\", \"Topic2\", \"Topic2\", \"Topic2\", \"Topic2\", \"Topic2\", \"Topic2\", \"Topic2\", \"Topic2\", \"Topic2\", \"Topic2\", \"Topic2\", \"Topic2\", \"Topic2\", \"Topic2\", \"Topic2\", \"Topic2\", \"Topic2\", \"Topic2\", \"Topic2\", \"Topic2\", \"Topic2\", \"Topic2\", \"Topic2\", \"Topic2\", \"Topic2\", \"Topic2\", \"Topic2\", \"Topic2\", \"Topic2\", \"Topic3\", \"Topic3\", \"Topic3\", \"Topic3\", \"Topic3\", \"Topic3\", \"Topic3\", \"Topic3\", \"Topic3\", \"Topic3\", \"Topic3\", \"Topic3\", \"Topic3\", \"Topic3\", \"Topic3\", \"Topic3\", \"Topic3\", \"Topic3\", \"Topic3\", \"Topic3\", \"Topic3\", \"Topic3\", \"Topic3\", \"Topic3\", \"Topic3\", \"Topic3\", \"Topic3\", \"Topic3\", \"Topic3\", \"Topic3\", \"Topic3\", \"Topic3\", \"Topic3\", \"Topic3\", \"Topic3\", \"Topic3\", \"Topic3\", \"Topic3\", \"Topic3\", \"Topic3\", \"Topic3\", \"Topic3\", \"Topic3\", \"Topic3\", \"Topic3\", \"Topic4\", \"Topic4\", \"Topic4\", \"Topic4\", \"Topic4\", \"Topic4\", \"Topic4\", \"Topic4\", \"Topic4\", \"Topic4\", \"Topic4\", \"Topic4\", \"Topic4\", \"Topic4\", \"Topic4\", \"Topic4\", \"Topic4\", \"Topic4\", \"Topic4\", \"Topic4\", \"Topic4\", \"Topic4\", \"Topic4\", \"Topic4\", \"Topic4\", \"Topic4\", \"Topic4\", \"Topic4\", \"Topic4\", \"Topic4\", \"Topic4\", \"Topic4\", \"Topic4\", \"Topic4\", \"Topic4\", \"Topic4\", \"Topic4\", \"Topic4\", \"Topic4\", \"Topic4\", \"Topic4\", \"Topic4\", \"Topic4\", \"Topic4\", \"Topic4\", \"Topic4\", \"Topic4\", \"Topic4\", \"Topic5\", \"Topic5\", \"Topic5\", \"Topic5\", \"Topic5\", \"Topic5\", \"Topic5\", \"Topic5\", \"Topic5\", \"Topic5\", \"Topic5\", \"Topic5\", \"Topic5\", \"Topic5\", \"Topic5\", \"Topic5\", \"Topic5\", \"Topic5\", \"Topic5\", \"Topic5\", \"Topic5\", \"Topic5\", \"Topic5\", \"Topic5\", \"Topic5\", \"Topic5\", \"Topic5\", \"Topic5\", \"Topic5\", \"Topic5\", \"Topic5\", \"Topic5\", \"Topic5\", \"Topic5\", \"Topic5\", \"Topic5\", \"Topic5\", \"Topic5\", \"Topic5\", \"Topic5\", \"Topic5\", \"Topic5\", \"Topic5\", \"Topic5\", \"Topic5\", \"Topic5\", \"Topic5\"], \"logprob\": [30.0, 29.0, 28.0, 27.0, 26.0, 25.0, 24.0, 23.0, 22.0, 21.0, 20.0, 19.0, 18.0, 17.0, 16.0, 15.0, 14.0, 13.0, 12.0, 11.0, 10.0, 9.0, 8.0, 7.0, 6.0, 5.0, 4.0, 3.0, 2.0, 1.0, -3.4864, -3.4965, -3.4906, -3.6317, -3.632, -3.6921, -5.7976, -5.8632, -5.8632, -5.8632, -5.8636, -6.0617, -6.1204, -6.1204, -3.2235, -5.4075, -6.0968, -6.3153, -6.0142, -4.8601, -4.8602, -6.4738, -4.8606, -6.5076, -6.495, -6.5078, -5.5288, -1.7071, -2.7293, -2.8328, -3.6267, -3.6183, -5.0602, -3.818, -3.3725, -2.8256, -4.7253, -4.6401, -5.9116, -4.1471, -3.1033, -4.5784, -4.5828, -4.5794, -4.9532, -3.7962, -4.7622, -4.8256, -2.8706, -2.8628, -5.1071, -5.1146, -4.2946, -4.9868, -4.9869, -4.9869, -6.1552, -4.4887, -6.4186, -6.181, -6.6199, -6.6199, -6.509, -0.6124, -6.8346, -6.8346, -6.6861, -6.6863, -7.0258, -7.0259, -6.9513, -7.2892, -7.0562, -7.2122, -7.4918, -7.4152, -7.725, -7.7251, -4.0823, -5.976, -4.9178, -4.9846, -4.9849, -2.7651, -4.7863, -5.976, -4.4574, -5.3605, -5.4556, -5.4568, -3.131, -4.326, -6.4671, -5.0525, -5.9543, -5.5375, -5.6364, -6.0281, -6.0161, -2.3145, -2.3159, -2.9862, -1.9558, -3.0545, -2.6834, -2.6695, -3.5993, -3.5994, -3.5902, -5.5133, -4.7443, -4.718, -6.3067, -3.1722, -6.8418, -6.5967, -4.8597, -7.2593, -7.2824, -7.5093, -7.5835, -7.5833, -6.3826, -7.0588, -7.1778, -7.0625, -4.0289, -7.9774, -7.6099, -4.2114, -4.1965, -4.1874, -5.888, -3.1813, -6.2688, -5.7254, -5.7974, -2.7581, -5.6397, -5.1701, -4.591, -5.1676, -5.9671, -5.9674, -4.407, -2.7949, -2.7949, -4.4051, -5.1482, -5.1087, -3.4838, -4.0199, -4.0912, -5.7292, -4.0895, -5.7298, -5.7298, -5.2205, -5.2205, -5.2722, -5.3592, -5.4968, -3.9622, -3.2164, -3.219, -4.2623, -5.982, -5.9821, -6.3355, -3.5851, -6.417, -3.6366, -7.1107, -7.0574, -4.1873, -5.8298, -3.5676, -5.83, -3.7808, -3.7808, -4.3849, -4.407, -1.8312, -4.5074, -2.659, -3.268, -4.1923, -5.1734, -4.7082, -5.0564, -5.0077, -4.9864, -4.2426, -4.2426, -4.2931, -3.9734, -3.8667, -3.9715, -3.9712, -2.7133, -4.0642, -4.6896, -4.9231, -5.2639, -5.3668, -5.5356, -5.5576, -5.5576, -4.905, -4.905, -5.5602, -5.9054, -5.9262, -5.8618, -4.2275, -6.0711, -5.951, -5.188, -5.188, -5.1881, -5.1881, -6.4228, -1.3951, -5.2241, -3.6121, -4.0508, -2.8113, -3.9031, -4.2518, -4.6598, -3.4422, -4.3415, -3.6489, -3.6606, -3.6581, -4.612, -4.9258, -4.7978, -5.1537], \"loglift\": [30.0, 29.0, 28.0, 27.0, 26.0, 25.0, 24.0, 23.0, 22.0, 21.0, 20.0, 19.0, 18.0, 17.0, 16.0, 15.0, 14.0, 13.0, 12.0, 11.0, 10.0, 9.0, 8.0, 7.0, 6.0, 5.0, 4.0, 3.0, 2.0, 1.0, 1.4858, 1.4857, 1.4856, 1.4832, 1.483, 1.4776, 1.4725, 1.4709, 1.4709, 1.4709, 1.4706, 1.4697, 1.4654, 1.4654, 1.4648, 1.4639, 1.4634, 1.4619, 1.4617, 1.46, 1.4599, 1.4599, 1.4595, 1.4581, 1.458, 1.458, 1.4477, 1.4475, 1.4447, 1.4445, 1.4324, 1.427, 1.4282, 1.3808, 1.3391, 1.2519, 1.3553, 1.243, 1.4317, 0.8946, -0.3079, 0.3802, 0.3827, 0.3765, 0.4225, -1.7161, -0.4906, -0.5353, 1.5082, 1.508, 1.5037, 1.5037, 1.5034, 1.4998, 1.4997, 1.4997, 1.4869, 1.4827, 1.482, 1.4764, 1.4754, 1.4754, 1.4744, 1.4677, 1.4668, 1.4668, 1.4654, 1.4652, 1.4568, 1.4568, 1.456, 1.4414, 1.4345, 1.428, 1.4182, 1.418, 1.4041, 1.4041, 1.2713, 1.2682, 1.1718, 1.1693, 1.1689, 0.843, 1.0911, 1.2682, 0.5843, 0.8541, 0.8273, 0.8261, -0.3356, -0.0356, 1.2614, -1.8979, -0.0711, -1.46, -1.3648, -0.1684, -1.8421, 1.6247, 1.6247, 1.6247, 1.6229, 1.6222, 1.6217, 1.6144, 1.6124, 1.6124, 1.6106, 1.6086, 1.6049, 1.6045, 1.5972, 1.5945, 1.5763, 1.5649, 1.5606, 1.5493, 1.5475, 1.5294, 1.5217, 1.5209, 1.4873, 1.4826, 1.4789, 1.4782, 1.4756, 1.4741, 1.4711, 1.4656, 1.4623, 1.4546, 1.4561, 1.0902, 1.359, 1.1413, 1.0821, 0.0374, 0.9499, 0.2056, -0.3006, -0.3241, -0.7041, -0.7044, 1.7016, 1.697, 1.6969, 1.692, 1.692, 1.6912, 1.6867, 1.6832, 1.6831, 1.6829, 1.6829, 1.6821, 1.6821, 1.6808, 1.6808, 1.6802, 1.6751, 1.6734, 1.6733, 1.6607, 1.6606, 1.6601, 1.6563, 1.6562, 1.6537, 1.6515, 1.6494, 1.6452, 1.6403, 1.6363, 1.5957, 1.6221, 1.545, 1.6217, 1.4823, 1.4822, 1.4927, 1.4625, 0.9642, 1.433, 0.9491, 1.0224, -0.1148, 1.339, -0.4366, 0.3193, -0.2961, -0.5948, 1.7196, 1.7196, 1.7187, 1.7186, 1.7186, 1.7183, 1.7173, 1.7173, 1.7158, 1.7145, 1.7079, 1.7041, 1.7033, 1.7025, 1.702, 1.702, 1.7018, 1.7018, 1.7003, 1.6993, 1.6979, 1.6977, 1.6956, 1.6947, 1.6928, 1.6916, 1.6915, 1.6915, 1.6914, 1.6872, 1.6819, 1.6818, 1.6348, 1.6458, 1.5803, 1.6132, 1.5806, 1.613, 1.4013, 1.5343, 1.307, 1.3048, 1.3004, 1.4492, 0.9339, -0.5262, 1.4415]}, \"token.table\": {\"Topic\": [1, 2, 3, 4, 5, 1, 2, 3, 4, 1, 2, 3, 4, 5, 1, 2, 4, 1, 2, 3, 4, 1, 2, 4, 1, 1, 2, 3, 4, 5, 1, 3, 4, 5, 1, 3, 4, 1, 4, 4, 5, 5, 1, 2, 1, 1, 2, 3, 1, 4, 1, 4, 2, 3, 4, 5, 1, 3, 1, 2, 2, 3, 4, 5, 1, 2, 3, 4, 1, 2, 3, 4, 5, 3, 4, 1, 2, 4, 1, 3, 1, 2, 1, 2, 3, 4, 4, 5, 1, 2, 3, 4, 5, 1, 5, 1, 2, 3, 4, 5, 1, 5, 1, 3, 5, 2, 3, 4, 5, 1, 4, 1, 2, 3, 4, 2, 3, 4, 5, 1, 2, 3, 4, 5, 1, 5, 1, 2, 3, 1, 2, 4, 1, 2, 3, 4, 3, 4, 1, 2, 3, 4, 5, 4, 1, 2, 3, 2, 3, 4, 5, 1, 5, 2, 2, 3, 5, 5, 1, 2, 3, 4, 5, 2, 3, 2, 3, 1, 3, 3, 2, 1, 2, 4, 1, 2, 3, 4, 5, 1, 3, 2, 1, 5, 3, 5, 5, 1, 3, 4, 5, 1, 2, 3, 4, 5, 3, 4, 5, 3, 4, 1, 2, 3, 4, 1, 2, 3, 5, 1, 3, 5, 1, 3, 1, 2, 3, 1, 2, 3, 4, 5, 1, 2, 3, 4, 2, 3, 4, 5, 1, 2, 1, 2, 3, 4, 5, 3, 1, 2, 1, 5, 2, 3, 1, 2, 5, 1, 3, 3, 5, 1, 2, 3, 4, 3, 2, 3, 5, 1, 1, 2, 3, 4, 5, 1, 3, 5, 1, 2, 3, 1, 2, 4, 5, 2, 1, 2, 3, 1, 2, 3, 1, 2, 1, 2, 4, 1, 2, 3, 4, 5, 1, 2, 4, 1, 2, 3, 5, 2, 1, 2, 4, 5, 1, 2, 3, 5, 1, 4, 1, 2, 2, 1, 2, 3, 5, 1, 3, 5, 1, 3, 4, 5, 1, 2, 3, 4, 2, 3, 1, 3, 5, 2, 5, 4, 5, 1, 2, 3, 4, 2, 1, 2, 3, 4, 3, 4, 1, 2, 4, 1, 2, 3, 4, 5, 5, 1, 4, 5, 2, 3, 1, 2, 3, 4, 5, 2, 3, 4, 1, 2, 3, 4, 2, 3, 5, 3, 1, 2, 3, 2, 2, 3, 5, 2, 3, 4, 5, 1, 2, 4, 5, 1, 2, 3, 4, 5, 2, 3, 4, 5, 1, 2, 3, 4, 5, 1, 3, 5, 1, 2, 4, 5, 1, 2, 3, 5, 1, 2, 3, 4, 5, 2, 1, 3, 1, 2, 4, 5, 5, 1, 2, 4, 1, 2, 4, 1, 2, 3, 4, 2, 3, 5, 1, 2, 3, 1, 1, 4, 2, 2, 2, 1, 2, 3, 1, 2, 3, 4, 5, 2, 5, 1, 3, 4, 5, 1, 1, 3, 5, 2, 5, 2, 2, 1, 2, 3, 4, 5, 3, 1, 2, 3, 1, 2, 4, 5, 1, 2, 4, 1, 5, 1, 2, 3, 5, 1, 2, 3, 1, 2, 3, 5, 2, 1, 5, 2, 1, 2, 3, 4, 5, 1, 2, 3, 4, 5, 1, 2, 4, 1, 1, 2, 3, 5, 1, 5, 2, 5, 1, 1, 2, 3, 4, 5, 5, 1, 2, 3, 4, 1, 5, 1, 2, 3, 4, 5, 1, 4], \"Freq\": [0.07963321478199167, 0.7110108462677828, 0.1933949501848369, 0.005688086770142262, 0.011376173540284524, 0.00848145542378369, 0.04071098603416171, 0.005088873254270214, 0.9465304252942598, 0.05722365011762238, 0.7847814873273926, 0.01089974287954712, 0.14169665743411256, 0.00544987143977356, 0.7879309379478359, 0.05095692359315155, 0.16047628176350712, 0.033888758574755075, 0.11296252858251692, 0.8509843819882942, 0.0037654176194172307, 0.0410663264685571, 0.0410663264685571, 0.9445255087768133, 0.9532557184697962, 0.020288645693571868, 0.0025360807116964834, 0.043113372098840225, 0.9307416211926095, 0.0025360807116964834, 0.008681464137731909, 0.008681464137731909, 0.6858356668808208, 0.2951697806828849, 0.9655564828399558, 0.026960547536429236, 0.9705797113114525, 0.03351939322266645, 0.9553027068459939, 0.0250664773156162, 0.9650593766512237, 0.9713856070137327, 0.9669697667592652, 0.02148821703909478, 0.987295164861311, 0.9650639878966574, 0.07410810421246403, 0.8892972505495682, 0.06663700586354239, 0.910705746801746, 0.9366420796596286, 0.03985710977275016, 0.0006623592634204098, 0.9968506914477168, 0.0006623592634204098, 0.0013247185268408196, 0.9860954956928903, 0.8812395935673879, 0.027281752665783286, 0.954861343302415, 0.014449563164952764, 0.003612390791238191, 0.9572835596781206, 0.025286735538667338, 0.10951736874306343, 0.002489031107796896, 0.09707221320407895, 0.791511892279413, 0.026388917599996526, 0.004398152933332754, 0.026388917599996526, 0.07916675279998958, 0.8664361278665526, 0.02561941638611474, 0.9607281144793027, 0.9937261169999494, 0.002146276710583044, 0.004292553421166088, 0.9696975155322298, 0.012432019429900383, 0.004079449341384565, 0.995385639297834, 0.9586518343472582, 0.03294232343753189, 0.0003022231508030448, 0.00816002507168221, 0.025066540535660233, 0.965061810622919, 0.13802479530654654, 0.6579181909612052, 0.004600826510218218, 0.004600826510218218, 0.19783553993938335, 0.9650649162701553, 0.9723110051891566, 0.004564719357845334, 0.004564719357845334, 0.004564719357845334, 0.7760022908337069, 0.21454180981873072, 0.0034355755667518336, 0.9928813387912798, 0.0012965299699534796, 0.9970315468942257, 0.0012965299699534796, 0.0055288651376597855, 0.027644325688298926, 0.20456801009341205, 0.7574545238593906, 0.021343479686707516, 0.9604565859018381, 0.9955428956867612, 0.003721655684810322, 0.02676614071140791, 0.9368149248992769, 0.004149873509172402, 0.004149873509172402, 0.9669205276371696, 0.02074936754586201, 0.13759779035336334, 0.056331981285605126, 0.5845597402260335, 0.11635786298338108, 0.1052761617468686, 0.026912237481922025, 0.968840549349193, 0.9408922622420399, 0.025429520601136214, 0.03390602746818162, 0.0011510177202458962, 0.017265265803688444, 0.9806670976495035, 0.5505686363482257, 0.3949731521628576, 0.05186516139512271, 0.0019948138998124123, 0.026766705597841344, 0.936834695924447, 0.0032479154034581797, 0.0010826384678193934, 0.0021652769356387868, 0.0010826384678193934, 0.9916968365225642, 0.9227821785021925, 0.033277145494493794, 0.11462127892547863, 0.8467184798043421, 0.004141866747691198, 0.004141866747691198, 0.9691968189597403, 0.02070933373845599, 0.003809015720811323, 0.990344087410944, 0.9508963869340853, 0.7760883604729677, 0.1985342317488987, 0.018048566522627155, 0.9763148849505845, 0.004815844020072003, 0.009631688040144006, 0.009631688040144006, 0.004815844020072003, 0.9728004920545446, 0.9899149732312216, 0.008460811737018988, 0.9901491136304409, 0.004249567011289446, 0.9528353176655754, 0.027618415004799286, 0.9774380705309235, 0.9240527949819142, 0.014630876587124473, 0.014630876587124473, 0.9656378547502152, 0.06672743388899639, 0.7097372513647798, 0.20624843202053433, 0.0060661303535451275, 0.012132260707090255, 0.38357620379707, 0.6186712964468871, 0.9672841776650345, 0.013692913626936238, 0.972196867512473, 0.8772216566208841, 0.10121788345625586, 0.9713808419430865, 0.015970295194364773, 0.9741880068562511, 0.0250661505108337, 0.9650467946670974, 0.0031687725204720732, 0.0031687725204720732, 0.8587373530479319, 0.04119404276613695, 0.09189440309369012, 0.02573546626169072, 0.01286773313084536, 0.9522122516825566, 0.012049468229219245, 0.9760069265667589, 0.01284806079351713, 0.062098960501999464, 0.08137105169227517, 0.8436893254409583, 0.9749749085891352, 0.022413216289405406, 0.0014008260180878378, 0.0014008260180878378, 0.0019098995384021994, 0.9941027097383448, 0.003819799076804399, 0.014748839777112964, 0.9807978451780122, 0.9961749555531231, 0.0037591507756721625, 0.9274499784993965, 0.1656623587612545, 0.15743199953617307, 0.20385966695970936, 0.47145185920081856, 0.0014772439634761548, 0.9557320383788752, 0.03518032043112424, 0.0016752533538630591, 0.007538640092383766, 0.01535825845088714, 0.00767912922544357, 0.049914339965383206, 0.9253350716659502, 0.004112022572124533, 0.9951094624541371, 0.010412318708396241, 0.004164927483358497, 0.020824637416792482, 0.0989170277297643, 0.8652636846677277, 0.8204171922416001, 0.9958064674519824, 0.0037366096339661627, 0.0038140702279333407, 0.9916582592626686, 0.944929799568745, 0.8686709553501706, 0.8737758680106473, 0.11838253695628125, 0.005637263664584821, 0.01436042601561838, 0.97650896906205, 0.9061447785637896, 0.1132680973204737, 0.8603470171328302, 0.004301735085664151, 0.0014339116952213837, 0.13335378765558867, 0.9283373877894476, 0.009540829393899426, 0.009540829393899426, 0.9731645981777414, 0.9654909837036973, 0.33041973948572295, 0.005506995658095383, 0.0018356652193651276, 0.009178326096825638, 0.6534968180939854, 0.011823028734142088, 0.9860405964274501, 0.0023646057468284178, 0.09972548165914381, 0.059835288995486284, 0.837694045936808, 0.01933735337714351, 0.5156627567238269, 0.4576506965923964, 0.006445784459047836, 0.9547448379137278, 0.0660335567590398, 0.0660335567590398, 0.8584362378675173, 0.1464688775665614, 0.7909319388594316, 0.08788132653993684, 0.9670612157724776, 0.02149024923938839, 0.9655920757887588, 0.0380170997331265, 0.9504274933281626, 0.8962809196459383, 0.016338454264379083, 0.007002194684733893, 0.004668129789822595, 0.07469007663716153, 0.013614230453676636, 0.015883268862622743, 0.9711484390289333, 0.07374339717336416, 0.009618703979134457, 0.0224436426179804, 0.8945394700595044, 0.9390308963953102, 0.011594820167556984, 0.015459760223409313, 0.966235013963082, 0.0038649400558523283, 0.9389454719436591, 0.02002015931649593, 0.024024191179795113, 0.016016127453196742, 0.021348612615385842, 0.960687567692363, 0.9741129653984234, 0.02148778600143581, 0.9867418236390704, 0.9438839101192402, 0.020298578712241725, 0.02435829445469007, 0.012179147227345035, 0.01182305714040315, 0.9860429655096228, 0.0023646114280806304, 0.0018700095621664158, 0.9873650488238676, 0.0009350047810832079, 0.010285052591915287, 0.06276996379702172, 0.9415494569553259, 0.011573151505353036, 0.972144726449655, 0.045172816398747144, 0.9486291443736901, 0.015836360477064004, 0.9343452681467762, 0.047509081431192014, 0.9350818493551695, 0.9647001460997148, 0.0250661406612665, 0.9650464154587602, 0.10951568945004073, 0.00248899294204638, 0.09707072473980882, 0.7914997555707488, 0.9476395652097893, 0.06369617794163077, 0.16169029785183192, 0.024498529977550292, 0.754554723308549, 0.02561930117385793, 0.9607237940196723, 0.001151010210201335, 0.017265153153020026, 0.9806606990915374, 0.016665630660133223, 0.009090343996436304, 0.9681216356204663, 0.004545171998218152, 0.0015150573327393838, 0.9965768419682187, 0.16996521509528498, 0.004593654462034729, 0.8268578031662512, 0.9899147617028041, 0.008460809929083796, 0.031085975925210025, 0.01472493596457317, 0.14234104765754063, 0.0899857197835027, 0.723157966260149, 0.9899029280021127, 0.008460708786342842, 0.8958063913843091, 0.0048122010200169945, 0.033685407140118966, 0.019248804080067978, 0.943191399923331, 0.009540835467285066, 0.009540835467285066, 0.9731652176630766, 0.9340222635043025, 0.4010574133465569, 0.012533044167079904, 0.5765200316856756, 0.9941431400676913, 0.9742926370744479, 0.015163880244440195, 0.9856522158886127, 0.0006632898469581405, 0.9969246399780851, 0.0006632898469581405, 0.001326579693916281, 0.0057312606111415915, 0.0057312606111415915, 0.9743143038940706, 0.011462521222283183, 0.33083863914074707, 0.005544781661576766, 0.001848260553858922, 0.005544781661576766, 0.6561324966199173, 0.009431329804847493, 0.2357832451211873, 0.009431329804847493, 0.7545063843877994, 0.13173753272535876, 0.21266201711379343, 0.14585226837450435, 0.4996616419797536, 0.01035080614270676, 0.011693458188503278, 0.9822504878342753, 0.0046773832754013105, 0.013803429129752185, 0.5038251632359548, 0.4762183049764504, 0.006901714564876093, 0.0036951995768877803, 0.00046189994711097254, 0.9953943860241459, 0.00046189994711097254, 0.01141593610162717, 0.5118144685562848, 0.0004756640042344654, 0.46424806813283825, 0.011891600105861636, 0.9340551283431169, 0.2118947353567541, 0.7681184156682336, 0.005797374126260793, 0.005797374126260793, 0.9855536014643348, 0.005797374126260793, 0.9728982979070423, 0.95570684281383, 0.03529335279584601, 0.008358951977963528, 0.9937957638438688, 0.002146427135731898, 0.004292854271463796, 0.007271697748368503, 0.050901884238579526, 0.0048477984989123354, 0.938049009539537, 0.7761005120040136, 0.19853734028009654, 0.01804884911637241, 0.039994687568074255, 0.11634818201621601, 0.8398884389295593, 0.9841482235983637, 0.06662876403004052, 0.9105931084105539, 0.9390332847065517, 0.9508972373442226, 0.9723115822564616, 0.3282574207654305, 0.15943931865749483, 0.5064543063238072, 0.005054605256675994, 0.9704842092817908, 0.015163815770027981, 0.005054605256675994, 0.005054605256675994, 0.8841090511288062, 0.9437852520491438, 0.004601753729362213, 0.004601753729362213, 0.8007051489090251, 0.19327365663321294, 0.9872926374111671, 0.9873009698387264, 0.007790831766684708, 0.9894356343689579, 0.00417373950797276, 0.9891762633895443, 0.9340556581365039, 0.9723106128771548, 0.06672389768070151, 0.7096996389674615, 0.2062375019221683, 0.006065808880063773, 0.012131617760127547, 0.9489567771934373, 0.06599006072604689, 0.06599006072604689, 0.8578707894386096, 0.013802944913097748, 0.5038074893280677, 0.4762015995018723, 0.006901472456548874, 0.004186447654123564, 0.10884763900721266, 0.8875269026741954, 0.9784520193158044, 0.9835038530288567, 0.08881226955415415, 0.0068317130426272426, 0.0068317130426272426, 0.8949544085841687, 0.04055926959558013, 0.9559809523253403, 0.003405740195048713, 0.7820361145084106, 0.20360703573000039, 0.004627432630227282, 0.009254865260454563, 0.935082566349581, 0.003822455148266033, 0.9938383385491686, 0.9575286995223115, 0.32772457419994466, 0.005492590629049352, 0.0018308635430164507, 0.005492590629049352, 0.6572800119429058, 0.12655917823732069, 0.18531879670464815, 0.076839501072659, 0.15819897279665088, 0.4519970651332882, 0.9884360048377147, 0.002267055056967235, 0.00906822022786894, 0.9816162185420351, 0.004154560393428754, 0.0013848534644762514, 0.9943247874939485, 0.9947076986814539, 0.0857152424097951, 0.9134795833958164, 0.009774512884695304, 0.9872258013542257, 0.970975717644682, 0.029642552323305423, 0.002237173760249466, 0.00950798848106023, 0.001118586880124733, 0.9575103693867715, 0.9686356718833856, 0.008459949228198397, 0.0406077562953523, 0.0050759695369190375, 0.9458223237125807, 0.9873561205540282, 0.9965765571151531, 0.34264960350674883, 0.08357307402603631, 0.24236191467550527, 0.2479334529439077, 0.08357307402603631, 0.021343171661647953, 0.9604427247741579], \"Term\": [\"apartment\", \"apartment\", \"apartment\", \"apartment\", \"apartment\", \"apparel\", \"apparel\", \"apparel\", \"apparel\", \"area\", \"area\", \"area\", \"area\", \"area\", \"article\", \"article\", \"article\", \"ashe\", \"ashe\", \"ashe\", \"ashe\", \"asphalt\", \"asphalt\", \"asphalt\", \"assembly\", \"attach\", \"attach\", \"attach\", \"attach\", \"attach\", \"auto\", \"auto\", \"auto\", \"auto\", \"await\", \"basement\", \"basement\", \"bedding\", \"bedding\", \"board\", \"board\", \"boiler\", \"book\", \"book\", \"brake\", \"broom\", \"build\", \"build\", \"bulb\", \"bulb\", \"burn\", \"burn\", \"burner\", \"burner\", \"burner\", \"burner\", \"bus\", \"business\", \"camp\", \"camp\", \"candle\", \"candle\", \"candle\", \"candle\", \"cardboard\", \"cardboard\", \"cardboard\", \"cardboard\", \"cc\", \"cc\", \"cc\", \"cc\", \"cc\", \"cellar\", \"cellar\", \"chair\", \"chair\", \"chair\", \"chimney\", \"chimney\", \"chute\", \"chute\", \"cigarette\", \"cigarette\", \"cigarette\", \"cigarette\", \"circuit\", \"circuit\", \"classify\", \"classify\", \"classify\", \"classify\", \"classify\", \"clothe\", \"collision\", \"combination\", \"combination\", \"combination\", \"combination\", \"combination\", \"cook\", \"cook\", \"cooking\", \"cooking\", \"cooking\", \"copper\", \"copper\", \"copper\", \"copper\", \"cotton\", \"cotton\", \"cover\", \"cover\", \"curtain\", \"curtain\", \"cut\", \"cut\", \"cut\", \"cut\", \"detach\", \"detach\", \"detach\", \"detach\", \"detach\", \"dining\", \"dining\", \"diverse\", \"diverse\", \"diverse\", \"dormitory\", \"dormitory\", \"dormitory\", \"downtown\", \"downtown\", \"downtown\", \"downtown\", \"drapery\", \"drapery\", \"electrical\", \"electrical\", \"electrical\", \"electrical\", \"electrical\", \"elevator\", \"ember\", \"ember\", \"ember\", \"equipment\", \"equipment\", \"equipment\", \"equipment\", \"exclude\", \"exclude\", \"exhibition\", \"exposure\", \"exposure\", \"exposure\", \"extension\", \"fai\", \"fai\", \"fai\", \"fai\", \"fai\", \"farmyard\", \"farmyard\", \"field\", \"field\", \"fihrd\", \"fihrd\", \"finish\", \"firework\", \"flame\", \"flame\", \"flame\", \"flat\", \"flat\", \"flat\", \"flat\", \"flat\", \"floor\", \"floor\", \"forest\", \"fuel\", \"fuel\", \"fume\", \"fume\", \"furnace\", \"furniture\", \"furniture\", \"fuse\", \"fuse\", \"garage\", \"garage\", \"garage\", \"garage\", \"garage\", \"gasoline\", \"gasoline\", \"gasoline\", \"general\", \"general\", \"good\", \"good\", \"good\", \"good\", \"grass\", \"grass\", \"grass\", \"grass\", \"grease\", \"grease\", \"grease\", \"great\", \"great\", \"ground\", \"ground\", \"hazardous\", \"house\", \"house\", \"house\", \"house\", \"house\", \"ignite\", \"ignite\", \"ignite\", \"ignite\", \"include\", \"include\", \"include\", \"include\", \"industri\", \"industri\", \"insulation\", \"insulation\", \"insulation\", \"insulation\", \"insulation\", \"jewellery\", \"land\", \"land\", \"large\", \"large\", \"lawn\", \"leather\", \"leave\", \"leave\", \"leave\", \"license\", \"license\", \"licensed\", \"licensed\", \"light\", \"light\", \"light\", \"light\", \"lightning\", \"line\", \"line\", \"line\", \"linen\", \"live\", \"live\", \"live\", \"live\", \"live\", \"load\", \"load\", \"load\", \"lobby\", \"lobby\", \"lobby\", \"locker\", \"locker\", \"locker\", \"locker\", \"lodging\", \"long\", \"long\", \"long\", \"lot\", \"lot\", \"lot\", \"magazine\", \"magazine\", \"manuf\", \"match\", \"match\", \"material\", \"material\", \"material\", \"material\", \"material\", \"mattress\", \"mattress\", \"mattress\", \"mechanical\", \"mechanical\", \"mechanical\", \"mechanical\", \"metre\", \"multi\", \"multi\", \"multi\", \"multi\", \"multiple\", \"multiple\", \"multiple\", \"multiple\", \"natural\", \"natural\", \"newspaper\", \"newspaper\", \"non\", \"object\", \"object\", \"object\", \"object\", \"occupant\", \"occupant\", \"occupant\", \"oil\", \"oil\", \"oil\", \"oil\", \"outbuilde\", \"outbuilde\", \"outdoor\", \"outdoor\", \"outside\", \"outside\", \"oven\", \"oven\", \"oven\", \"overpass\", \"paint\", \"panel\", \"panel\", \"paper\", \"paper\", \"paper\", \"paper\", \"park\", \"parking\", \"parking\", \"parking\", \"parking\", \"partition\", \"partition\", \"patient\", \"patient\", \"patient\", \"person\", \"person\", \"person\", \"person\", \"person\", \"phone\", \"pick\", \"pick\", \"pick\", \"pier\", \"pier\", \"plastic\", \"plastic\", \"plastic\", \"plastic\", \"plastic\", \"play\", \"play\", \"porch\", \"portable\", \"portable\", \"portable\", \"portable\", \"power\", \"power\", \"power\", \"printing\", \"product\", \"product\", \"product\", \"property\", \"radio\", \"rag\", \"rag\", \"range\", \"range\", \"range\", \"range\", \"receive\", \"receive\", \"receive\", \"receive\", \"recreation\", \"recreation\", \"recreation\", \"recreation\", \"recreation\", \"repair\", \"repair\", \"repair\", \"repair\", \"residential\", \"residential\", \"residential\", \"residential\", \"residential\", \"restaurant\", \"restaurant\", \"restaurant\", \"restroom\", \"restroom\", \"restroom\", \"restroom\", \"road\", \"road\", \"road\", \"road\", \"room\", \"room\", \"room\", \"room\", \"room\", \"salon\", \"shed\", \"shed\", \"shipping\", \"shipping\", \"shipping\", \"shipping\", \"small\", \"smoker\", \"smoker\", \"smoker\", \"sofa\", \"sofa\", \"sofa\", \"soft\", \"soft\", \"soft\", \"soft\", \"source\", \"source\", \"source\", \"spark\", \"spark\", \"spark\", \"specialty\", \"spotlight\", \"spotlight\", \"sq\", \"stand\", \"stereo\", \"storage\", \"storage\", \"storage\", \"structure\", \"structure\", \"structure\", \"structure\", \"structure\", \"suit\", \"supply\", \"synthetic\", \"synthetic\", \"synthetic\", \"synthetic\", \"syste\", \"system\", \"t\", \"t\", \"tank\", \"tank\", \"tanning\", \"television\", \"tenement\", \"tenement\", \"tenement\", \"tenement\", \"tenement\", \"tent\", \"term\", \"term\", \"term\", \"toilet\", \"toilet\", \"toilet\", \"toilet\", \"tool\", \"tool\", \"tool\", \"torch\", \"trailer\", \"transmission\", \"transmission\", \"transmission\", \"transmission\", \"trash\", \"trash\", \"trash\", \"tree\", \"tree\", \"tree\", \"tree\", \"trestle\", \"truck\", \"truck\", \"tunnel\", \"tv\", \"tv\", \"tv\", \"tv\", \"tv\", \"unclassified\", \"unclassified\", \"unclassified\", \"unclassified\", \"unclassified\", \"upholster\", \"upholster\", \"upholster\", \"upholstered\", \"use\", \"use\", \"use\", \"utility\", \"vef\", \"vef\", \"vefh\", \"vefh\", \"vefu\", \"vehicle\", \"vehicle\", \"vehicle\", \"vehicle\", \"vehicle\", \"water\", \"wear\", \"wear\", \"wear\", \"wear\", \"wheel\", \"wiring\", \"wood\", \"wood\", \"wood\", \"wood\", \"wood\", \"wool\", \"wool\"]}, \"R\": 30, \"lambda.step\": 0.01, \"plot.opts\": {\"xlab\": \"PC1\", \"ylab\": \"PC2\"}, \"topic.order\": [3, 4, 1, 5, 2]};\n",
              "\n",
              "function LDAvis_load_lib(url, callback){\n",
              "  var s = document.createElement('script');\n",
              "  s.src = url;\n",
              "  s.async = true;\n",
              "  s.onreadystatechange = s.onload = callback;\n",
              "  s.onerror = function(){console.warn(\"failed to load library \" + url);};\n",
              "  document.getElementsByTagName(\"head\")[0].appendChild(s);\n",
              "}\n",
              "\n",
              "if(typeof(LDAvis) !== \"undefined\"){\n",
              "   // already loaded: just create the visualization\n",
              "   !function(LDAvis){\n",
              "       new LDAvis(\"#\" + \"ldavis_el17181402578276235048255076585\", ldavis_el17181402578276235048255076585_data);\n",
              "   }(LDAvis);\n",
              "}else if(typeof define === \"function\" && define.amd){\n",
              "   // require.js is available: use it to load d3/LDAvis\n",
              "   require.config({paths: {d3: \"https://d3js.org/d3.v5\"}});\n",
              "   require([\"d3\"], function(d3){\n",
              "      window.d3 = d3;\n",
              "      LDAvis_load_lib(\"https://cdn.jsdelivr.net/gh/bmabey/pyLDAvis@3.3.1/pyLDAvis/js/ldavis.v3.0.0.js\", function(){\n",
              "        new LDAvis(\"#\" + \"ldavis_el17181402578276235048255076585\", ldavis_el17181402578276235048255076585_data);\n",
              "      });\n",
              "    });\n",
              "}else{\n",
              "    // require.js not available: dynamically load d3 & LDAvis\n",
              "    LDAvis_load_lib(\"https://d3js.org/d3.v5.js\", function(){\n",
              "         LDAvis_load_lib(\"https://cdn.jsdelivr.net/gh/bmabey/pyLDAvis@3.3.1/pyLDAvis/js/ldavis.v3.0.0.js\", function(){\n",
              "                 new LDAvis(\"#\" + \"ldavis_el17181402578276235048255076585\", ldavis_el17181402578276235048255076585_data);\n",
              "            })\n",
              "         });\n",
              "}\n",
              "</script>"
            ],
            "text/plain": [
              "PreparedData(topic_coordinates=              x         y  topics  cluster       Freq\n",
              "topic                                                \n",
              "2     -0.049723 -0.149517       1        1  22.540198\n",
              "3     -0.222800 -0.129412       2        1  22.030553\n",
              "0     -0.001430  0.364379       3        1  19.641144\n",
              "4     -0.123270  0.003465       4        1  17.977453\n",
              "1      0.397223 -0.088915       5        1  17.810652, topic_info=             Term         Freq        Total Category  logprob  loglift\n",
              "6           trash  9689.000000  9689.000000  Default  30.0000  30.0000\n",
              "29        vehicle  3575.000000  3575.000000  Default  29.0000  29.0000\n",
              "19      cigarette  3308.000000  3308.000000  Default  28.0000  28.0000\n",
              "5            road  2164.000000  2164.000000  Default  27.0000  27.0000\n",
              "13         burner  1509.000000  1509.000000  Default  26.0000  26.0000\n",
              "..            ...          ...          ...      ...      ...      ...\n",
              "128          live   356.173021   544.761643   Topic5  -3.6581   1.3004\n",
              "70         copper   137.215283   180.868944   Topic5  -4.6120   1.4492\n",
              "140  unclassified   100.261010   221.240375   Topic5  -4.9258   0.9339\n",
              "20         detach   113.951929  1082.866226   Topic5  -4.7978  -0.5262\n",
              "183        repair    79.828831   106.029587   Topic5  -5.1537   1.4415\n",
              "\n",
              "[269 rows x 6 columns], token_table=      Topic      Freq       Term\n",
              "term                            \n",
              "135       1  0.079633  apartment\n",
              "135       2  0.711011  apartment\n",
              "135       3  0.193395  apartment\n",
              "135       4  0.005688  apartment\n",
              "135       5  0.011376  apartment\n",
              "...     ...       ...        ...\n",
              "145       3  0.242362       wood\n",
              "145       4  0.247933       wood\n",
              "145       5  0.083573       wood\n",
              "259       1  0.021343       wool\n",
              "259       4  0.960443       wool\n",
              "\n",
              "[550 rows x 3 columns], R=30, lambda_step=0.01, plot_opts={'xlab': 'PC1', 'ylab': 'PC2'}, topic_order=[3, 4, 1, 5, 2])"
            ]
          },
          "metadata": {},
          "execution_count": 67
        }
      ]
    },
    {
      "cell_type": "code",
      "metadata": {
        "colab": {
          "base_uri": "https://localhost:8080/"
        },
        "id": "n8fc8R1-w3jo",
        "outputId": "c5c01681-c8c5-4bdc-96f6-6210e60b212b"
      },
      "source": [
        "coherence_model_lda = models.CoherenceModel(model=ldamodel, texts=texts, dictionary=dictionary, coherence='c_v')\n",
        "\n",
        "coherence_lda = coherence_model_lda.get_coherence()\n",
        "\n",
        "print('\\nCoherence Score: ', coherence_lda)\n"
      ],
      "execution_count": 68,
      "outputs": [
        {
          "output_type": "stream",
          "name": "stdout",
          "text": [
            "\n",
            "Coherence Score:  0.3026828913086479\n"
          ]
        }
      ]
    },
    {
      "cell_type": "code",
      "metadata": {
        "id": "rpGDjXTfG5xP"
      },
      "source": [
        "# Save model to disk.\n",
        "ldamodel.save('lda.model')"
      ],
      "execution_count": 70,
      "outputs": []
    },
    {
      "cell_type": "markdown",
      "metadata": {
        "id": "QzrxD09_H8fr"
      },
      "source": [
        "## Topic probabilities"
      ]
    },
    {
      "cell_type": "code",
      "metadata": {
        "id": "T9e3xAPLH0F1"
      },
      "source": [
        "#len(corpus) 14028"
      ],
      "execution_count": 96,
      "outputs": []
    },
    {
      "cell_type": "code",
      "metadata": {
        "id": "YGgycP5kP-pM"
      },
      "source": [
        "train_vecs = []\n",
        "for i in range(len(corpus)):\n",
        "    top_topics = ldamodel.get_document_topics(corpus[i], minimum_probability=0.0)\n",
        "    topic_vec = [top_topics[i][1] for i in range(num_topics)]\n",
        "    train_vecs.append(topic_vec)"
      ],
      "execution_count": 100,
      "outputs": []
    },
    {
      "cell_type": "code",
      "metadata": {
        "id": "cP4-Q1R7Qp-g"
      },
      "source": [
        "df_topic_prob = pd.DataFrame(train_vecs, columns=['t0', 't1', 't2', 't3', 't4'])"
      ],
      "execution_count": 102,
      "outputs": []
    },
    {
      "cell_type": "code",
      "metadata": {
        "colab": {
          "base_uri": "https://localhost:8080/",
          "height": 206
        },
        "id": "T4KgvClFQ6nc",
        "outputId": "b17a70c4-777b-47e0-9a7b-31b76ba995a3"
      },
      "source": [
        "df_topic_prob.head()"
      ],
      "execution_count": 104,
      "outputs": [
        {
          "output_type": "execute_result",
          "data": {
            "text/html": [
              "<div>\n",
              "<style scoped>\n",
              "    .dataframe tbody tr th:only-of-type {\n",
              "        vertical-align: middle;\n",
              "    }\n",
              "\n",
              "    .dataframe tbody tr th {\n",
              "        vertical-align: top;\n",
              "    }\n",
              "\n",
              "    .dataframe thead th {\n",
              "        text-align: right;\n",
              "    }\n",
              "</style>\n",
              "<table border=\"1\" class=\"dataframe\">\n",
              "  <thead>\n",
              "    <tr style=\"text-align: right;\">\n",
              "      <th></th>\n",
              "      <th>t0</th>\n",
              "      <th>t1</th>\n",
              "      <th>t2</th>\n",
              "      <th>t3</th>\n",
              "      <th>t4</th>\n",
              "    </tr>\n",
              "  </thead>\n",
              "  <tbody>\n",
              "    <tr>\n",
              "      <th>0</th>\n",
              "      <td>0.514684</td>\n",
              "      <td>0.159836</td>\n",
              "      <td>0.028584</td>\n",
              "      <td>0.028623</td>\n",
              "      <td>0.268272</td>\n",
              "    </tr>\n",
              "    <tr>\n",
              "      <th>1</th>\n",
              "      <td>0.703259</td>\n",
              "      <td>0.033333</td>\n",
              "      <td>0.033384</td>\n",
              "      <td>0.196690</td>\n",
              "      <td>0.033333</td>\n",
              "    </tr>\n",
              "    <tr>\n",
              "      <th>2</th>\n",
              "      <td>0.040245</td>\n",
              "      <td>0.404311</td>\n",
              "      <td>0.040157</td>\n",
              "      <td>0.040158</td>\n",
              "      <td>0.475129</td>\n",
              "    </tr>\n",
              "    <tr>\n",
              "      <th>3</th>\n",
              "      <td>0.040418</td>\n",
              "      <td>0.040003</td>\n",
              "      <td>0.040325</td>\n",
              "      <td>0.838076</td>\n",
              "      <td>0.041178</td>\n",
              "    </tr>\n",
              "    <tr>\n",
              "      <th>4</th>\n",
              "      <td>0.700119</td>\n",
              "      <td>0.033334</td>\n",
              "      <td>0.199865</td>\n",
              "      <td>0.033349</td>\n",
              "      <td>0.033334</td>\n",
              "    </tr>\n",
              "  </tbody>\n",
              "</table>\n",
              "</div>"
            ],
            "text/plain": [
              "         t0        t1        t2        t3        t4\n",
              "0  0.514684  0.159836  0.028584  0.028623  0.268272\n",
              "1  0.703259  0.033333  0.033384  0.196690  0.033333\n",
              "2  0.040245  0.404311  0.040157  0.040158  0.475129\n",
              "3  0.040418  0.040003  0.040325  0.838076  0.041178\n",
              "4  0.700119  0.033334  0.199865  0.033349  0.033334"
            ]
          },
          "metadata": {},
          "execution_count": 104
        }
      ]
    },
    {
      "cell_type": "code",
      "metadata": {
        "id": "fIgqm0WLQ73w"
      },
      "source": [
        "df_c.reset_index(inplace=True)\n",
        "df_final_train = df_c.join(df_topic_prob)\n",
        "df_train_topic_prob = df_final_train[[ 'Incident_Numberinc_', 't0', 't1', 't2',\n",
        "       't3', 't4']]"
      ],
      "execution_count": 112,
      "outputs": []
    },
    {
      "cell_type": "code",
      "metadata": {
        "colab": {
          "base_uri": "https://localhost:8080/",
          "height": 206
        },
        "id": "bxlTYWcUR6MP",
        "outputId": "8c4f5072-9365-4f2e-d53a-d70155880ea9"
      },
      "source": [
        "df_train_topic_prob.head()"
      ],
      "execution_count": 113,
      "outputs": [
        {
          "output_type": "execute_result",
          "data": {
            "text/html": [
              "<div>\n",
              "<style scoped>\n",
              "    .dataframe tbody tr th:only-of-type {\n",
              "        vertical-align: middle;\n",
              "    }\n",
              "\n",
              "    .dataframe tbody tr th {\n",
              "        vertical-align: top;\n",
              "    }\n",
              "\n",
              "    .dataframe thead th {\n",
              "        text-align: right;\n",
              "    }\n",
              "</style>\n",
              "<table border=\"1\" class=\"dataframe\">\n",
              "  <thead>\n",
              "    <tr style=\"text-align: right;\">\n",
              "      <th></th>\n",
              "      <th>Incident_Numberinc_</th>\n",
              "      <th>t0</th>\n",
              "      <th>t1</th>\n",
              "      <th>t2</th>\n",
              "      <th>t3</th>\n",
              "      <th>t4</th>\n",
              "    </tr>\n",
              "  </thead>\n",
              "  <tbody>\n",
              "    <tr>\n",
              "      <th>0</th>\n",
              "      <td>F17039755</td>\n",
              "      <td>0.514684</td>\n",
              "      <td>0.159836</td>\n",
              "      <td>0.028584</td>\n",
              "      <td>0.028623</td>\n",
              "      <td>0.268272</td>\n",
              "    </tr>\n",
              "    <tr>\n",
              "      <th>1</th>\n",
              "      <td>F18134861</td>\n",
              "      <td>0.703259</td>\n",
              "      <td>0.033333</td>\n",
              "      <td>0.033384</td>\n",
              "      <td>0.196690</td>\n",
              "      <td>0.033333</td>\n",
              "    </tr>\n",
              "    <tr>\n",
              "      <th>2</th>\n",
              "      <td>F13046589</td>\n",
              "      <td>0.040245</td>\n",
              "      <td>0.404311</td>\n",
              "      <td>0.040157</td>\n",
              "      <td>0.040158</td>\n",
              "      <td>0.475129</td>\n",
              "    </tr>\n",
              "    <tr>\n",
              "      <th>3</th>\n",
              "      <td>F13104454</td>\n",
              "      <td>0.040418</td>\n",
              "      <td>0.040003</td>\n",
              "      <td>0.040325</td>\n",
              "      <td>0.838076</td>\n",
              "      <td>0.041178</td>\n",
              "    </tr>\n",
              "    <tr>\n",
              "      <th>4</th>\n",
              "      <td>F18062211</td>\n",
              "      <td>0.700119</td>\n",
              "      <td>0.033334</td>\n",
              "      <td>0.199865</td>\n",
              "      <td>0.033349</td>\n",
              "      <td>0.033334</td>\n",
              "    </tr>\n",
              "  </tbody>\n",
              "</table>\n",
              "</div>"
            ],
            "text/plain": [
              "  Incident_Numberinc_        t0        t1        t2        t3        t4\n",
              "0           F17039755  0.514684  0.159836  0.028584  0.028623  0.268272\n",
              "1           F18134861  0.703259  0.033333  0.033384  0.196690  0.033333\n",
              "2           F13046589  0.040245  0.404311  0.040157  0.040158  0.475129\n",
              "3           F13104454  0.040418  0.040003  0.040325  0.838076  0.041178\n",
              "4           F18062211  0.700119  0.033334  0.199865  0.033349  0.033334"
            ]
          },
          "metadata": {},
          "execution_count": 113
        }
      ]
    },
    {
      "cell_type": "code",
      "metadata": {
        "id": "_X1tVvM_S20-"
      },
      "source": [
        "df_train_topic_prob.to_csv('train_topic_model_prob.csv')"
      ],
      "execution_count": 114,
      "outputs": []
    },
    {
      "cell_type": "markdown",
      "metadata": {
        "id": "ExG-JAlRTa2n"
      },
      "source": [
        "#Test dataset"
      ]
    },
    {
      "cell_type": "code",
      "metadata": {
        "id": "-Y_N4uagTqwO"
      },
      "source": [
        "df = pd.read_csv('https://raw.githubusercontent.com/JimenaBaripatti/FeatureEngineering/main/data/current_dataset/testing_initial.csv')\n",
        "#create data frame to store high cardinality variables (X5), ID and label\n",
        "df_c = df[['Incident_Numberinc_','Property_Use','Initial_CAD_Event_Type','Ignition_Source','Area_of_Origin','Material_First_Ignited']].copy()"
      ],
      "execution_count": 117,
      "outputs": []
    },
    {
      "cell_type": "code",
      "metadata": {
        "id": "lX2aMLfeT182"
      },
      "source": [
        "df_c['raw_text'] = df_c['Property_Use'].str.cat(others= df_c[['Initial_CAD_Event_Type', 'Ignition_Source', 'Area_of_Origin', 'Material_First_Ignited']], sep=\" \" , na_rep= '',  )"
      ],
      "execution_count": 118,
      "outputs": []
    },
    {
      "cell_type": "code",
      "metadata": {
        "id": "wmEdZsufUJ_D"
      },
      "source": [
        "df_c['clean_text'] = df_c['raw_text'].apply(standardize)"
      ],
      "execution_count": 119,
      "outputs": []
    },
    {
      "cell_type": "code",
      "metadata": {
        "id": "TmCu01EJTaHl"
      },
      "source": [
        "texts = df_c['clean_text'].str.split().copy()\n",
        "corpus = [dictionary.doc2bow(text) for text in texts]\n",
        "\n",
        "train_vecs = []\n",
        "for i in range(len(corpus)):\n",
        "    top_topics = ldamodel.get_document_topics(corpus[i], minimum_probability=0.0)\n",
        "    topic_vec = [top_topics[i][1] for i in range(num_topics)]\n",
        "    train_vecs.append(topic_vec)"
      ],
      "execution_count": 120,
      "outputs": []
    },
    {
      "cell_type": "code",
      "metadata": {
        "id": "XB93Vdd6Un_v"
      },
      "source": [
        "df_topic_prob = pd.DataFrame(train_vecs, columns=['t0', 't1', 't2', 't3', 't4'])"
      ],
      "execution_count": 121,
      "outputs": []
    },
    {
      "cell_type": "code",
      "metadata": {
        "id": "-tCmplFN5wcy"
      },
      "source": [
        "df_c.reset_index(inplace=True)\n",
        "df_final_test = df_c.join(df_topic_prob)\n",
        "df_test_topic_prob = df_final_test[[ 'Incident_Numberinc_', 't0', 't1', 't2',\n",
        "       't3', 't4']]"
      ],
      "execution_count": 122,
      "outputs": []
    },
    {
      "cell_type": "code",
      "metadata": {
        "colab": {
          "base_uri": "https://localhost:8080/",
          "height": 206
        },
        "id": "XaOlnp7V569T",
        "outputId": "0be1ef08-a190-44ce-bc6c-f69d56ce7390"
      },
      "source": [
        "df_test_topic_prob.head()"
      ],
      "execution_count": 123,
      "outputs": [
        {
          "output_type": "execute_result",
          "data": {
            "text/html": [
              "<div>\n",
              "<style scoped>\n",
              "    .dataframe tbody tr th:only-of-type {\n",
              "        vertical-align: middle;\n",
              "    }\n",
              "\n",
              "    .dataframe tbody tr th {\n",
              "        vertical-align: top;\n",
              "    }\n",
              "\n",
              "    .dataframe thead th {\n",
              "        text-align: right;\n",
              "    }\n",
              "</style>\n",
              "<table border=\"1\" class=\"dataframe\">\n",
              "  <thead>\n",
              "    <tr style=\"text-align: right;\">\n",
              "      <th></th>\n",
              "      <th>Incident_Numberinc_</th>\n",
              "      <th>t0</th>\n",
              "      <th>t1</th>\n",
              "      <th>t2</th>\n",
              "      <th>t3</th>\n",
              "      <th>t4</th>\n",
              "    </tr>\n",
              "  </thead>\n",
              "  <tbody>\n",
              "    <tr>\n",
              "      <th>0</th>\n",
              "      <td>F13080506</td>\n",
              "      <td>0.025029</td>\n",
              "      <td>0.025001</td>\n",
              "      <td>0.025092</td>\n",
              "      <td>0.898346</td>\n",
              "      <td>0.026533</td>\n",
              "    </tr>\n",
              "    <tr>\n",
              "      <th>1</th>\n",
              "      <td>F13110611</td>\n",
              "      <td>0.595794</td>\n",
              "      <td>0.226407</td>\n",
              "      <td>0.022350</td>\n",
              "      <td>0.022308</td>\n",
              "      <td>0.133142</td>\n",
              "    </tr>\n",
              "    <tr>\n",
              "      <th>2</th>\n",
              "      <td>F17084837</td>\n",
              "      <td>0.040422</td>\n",
              "      <td>0.040041</td>\n",
              "      <td>0.838111</td>\n",
              "      <td>0.040290</td>\n",
              "      <td>0.041137</td>\n",
              "    </tr>\n",
              "    <tr>\n",
              "      <th>3</th>\n",
              "      <td>F12006092</td>\n",
              "      <td>0.050717</td>\n",
              "      <td>0.050006</td>\n",
              "      <td>0.796714</td>\n",
              "      <td>0.050472</td>\n",
              "      <td>0.052091</td>\n",
              "    </tr>\n",
              "    <tr>\n",
              "      <th>4</th>\n",
              "      <td>F12031790</td>\n",
              "      <td>0.015448</td>\n",
              "      <td>0.015388</td>\n",
              "      <td>0.489893</td>\n",
              "      <td>0.463866</td>\n",
              "      <td>0.015404</td>\n",
              "    </tr>\n",
              "  </tbody>\n",
              "</table>\n",
              "</div>"
            ],
            "text/plain": [
              "  Incident_Numberinc_        t0        t1        t2        t3        t4\n",
              "0           F13080506  0.025029  0.025001  0.025092  0.898346  0.026533\n",
              "1           F13110611  0.595794  0.226407  0.022350  0.022308  0.133142\n",
              "2           F17084837  0.040422  0.040041  0.838111  0.040290  0.041137\n",
              "3           F12006092  0.050717  0.050006  0.796714  0.050472  0.052091\n",
              "4           F12031790  0.015448  0.015388  0.489893  0.463866  0.015404"
            ]
          },
          "metadata": {},
          "execution_count": 123
        }
      ]
    },
    {
      "cell_type": "code",
      "metadata": {
        "colab": {
          "base_uri": "https://localhost:8080/"
        },
        "id": "EBclz3Zy58XG",
        "outputId": "0cf1784b-0a72-4a55-c84c-c8d992bdcf38"
      },
      "source": [
        "df_test_topic_prob.shape"
      ],
      "execution_count": 124,
      "outputs": [
        {
          "output_type": "execute_result",
          "data": {
            "text/plain": [
              "(3508, 6)"
            ]
          },
          "metadata": {},
          "execution_count": 124
        }
      ]
    },
    {
      "cell_type": "code",
      "metadata": {
        "id": "dpbV8k0U5_Ly"
      },
      "source": [
        "df_test_topic_prob.to_csv('test_topic_model_prob.csv')"
      ],
      "execution_count": 125,
      "outputs": []
    }
  ]
}