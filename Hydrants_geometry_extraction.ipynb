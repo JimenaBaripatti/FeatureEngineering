{
  "nbformat": 4,
  "nbformat_minor": 0,
  "metadata": {
    "colab": {
      "name": "Hydrants-geo.ipynb",
      "provenance": [],
      "authorship_tag": "ABX9TyOMHHnGKk5g/e73yD/JEXgT",
      "include_colab_link": true
    },
    "kernelspec": {
      "name": "python3",
      "display_name": "Python 3"
    },
    "language_info": {
      "name": "python"
    }
  },
  "cells": [
    {
      "cell_type": "markdown",
      "metadata": {
        "id": "view-in-github",
        "colab_type": "text"
      },
      "source": [
        "<a href=\"https://colab.research.google.com/github/JimenaBaripatti/FeatureEngineering/blob/main/Hydrants_geometry_extraction.ipynb\" target=\"_parent\"><img src=\"https://colab.research.google.com/assets/colab-badge.svg\" alt=\"Open In Colab\"/></a>"
      ]
    },
    {
      "cell_type": "code",
      "metadata": {
        "colab": {
          "base_uri": "https://localhost:8080/"
        },
        "id": "zdaCe2mTM7xj",
        "outputId": "30677389-49fb-463f-e16c-910cda08e1c4"
      },
      "source": [
        "# setting up libraries\n",
        "import os\n",
        "import pandas as pd\n",
        "import numpy as np\n",
        "import matplotlib.pyplot as plt\n",
        "import seaborn as sns\n",
        "import math\n",
        "\n",
        "pd.set_option('display.max_rows', None)\n",
        "pd.set_option('display.max_columns', None)\n",
        "pd.set_option('display.width', None)\n",
        "pd.set_option('display.max_colwidth', -1)\n",
        "\n",
        "%matplotlib inline"
      ],
      "execution_count": 2,
      "outputs": [
        {
          "output_type": "stream",
          "name": "stderr",
          "text": [
            "/usr/local/lib/python3.7/dist-packages/ipykernel_launcher.py:12: FutureWarning: Passing a negative integer is deprecated in version 1.0 and will not be supported in future version. Instead, use None to not limit the column width.\n",
            "  if sys.path[0] == '':\n"
          ]
        }
      ]
    },
    {
      "cell_type": "code",
      "metadata": {
        "colab": {
          "base_uri": "https://localhost:8080/",
          "height": 380
        },
        "id": "7QvLwClINSdd",
        "outputId": "9c46186a-eb7f-4dab-e802-afb15780b489"
      },
      "source": [
        "#Reading Data\n",
        "df = pd.read_csv('Fire_Hydrants_Data.csv')\n",
        "df_original = df.copy()\n",
        "df.head()"
      ],
      "execution_count": 3,
      "outputs": [
        {
          "output_type": "execute_result",
          "data": {
            "text/html": [
              "<div>\n",
              "<style scoped>\n",
              "    .dataframe tbody tr th:only-of-type {\n",
              "        vertical-align: middle;\n",
              "    }\n",
              "\n",
              "    .dataframe tbody tr th {\n",
              "        vertical-align: top;\n",
              "    }\n",
              "\n",
              "    .dataframe thead th {\n",
              "        text-align: right;\n",
              "    }\n",
              "</style>\n",
              "<table border=\"1\" class=\"dataframe\">\n",
              "  <thead>\n",
              "    <tr style=\"text-align: right;\">\n",
              "      <th></th>\n",
              "      <th>_id</th>\n",
              "      <th>FACILITYID</th>\n",
              "      <th>LOCDESC</th>\n",
              "      <th>X_COORDINATE</th>\n",
              "      <th>Y_COORDINATE</th>\n",
              "      <th>geometry</th>\n",
              "    </tr>\n",
              "  </thead>\n",
              "  <tbody>\n",
              "    <tr>\n",
              "      <th>0</th>\n",
              "      <td>1</td>\n",
              "      <td>HY4014837</td>\n",
              "      <td>99 BEVERLY HILLS DR ACROSS  2ND SOUTH OF WILSON AVE ON EAST SIDE</td>\n",
              "      <td>303523.657</td>\n",
              "      <td>4841793.384</td>\n",
              "      <td>{u'type': u'Point', u'coordinates': (-79.5156446895, 43.7180897096)}</td>\n",
              "    </tr>\n",
              "    <tr>\n",
              "      <th>1</th>\n",
              "      <td>2</td>\n",
              "      <td>HY4019330</td>\n",
              "      <td>62m South 82 CARNFORTH RD</td>\n",
              "      <td>319369.222</td>\n",
              "      <td>4843857.194</td>\n",
              "      <td>{u'type': u'Point', u'coordinates': (-79.3189377615, 43.7365254436)}</td>\n",
              "    </tr>\n",
              "    <tr>\n",
              "      <th>2</th>\n",
              "      <td>3</td>\n",
              "      <td>HY1356043</td>\n",
              "      <td>21m West 67 DUNCANNON DR</td>\n",
              "      <td>311870.194</td>\n",
              "      <td>4840197.712</td>\n",
              "      <td>{u'type': u'Point', u'coordinates': (-79.4120812703, 43.7036940724)}</td>\n",
              "    </tr>\n",
              "    <tr>\n",
              "      <th>3</th>\n",
              "      <td>4</td>\n",
              "      <td>HY4041398</td>\n",
              "      <td>6150 YONGE ST ON GOULDING AVE NORTH WEST CORNER</td>\n",
              "      <td>311311.715</td>\n",
              "      <td>4850015.128</td>\n",
              "      <td>{u'type': u'Point', u'coordinates': (-79.4188921533, 43.7920683833)}</td>\n",
              "    </tr>\n",
              "    <tr>\n",
              "      <th>4</th>\n",
              "      <td>5</td>\n",
              "      <td>HY1362146</td>\n",
              "      <td>135m North 685 LAKE SHORE BLVD E</td>\n",
              "      <td>317514.332</td>\n",
              "      <td>4834560.646</td>\n",
              "      <td>{u'type': u'Point', u'coordinates': (-79.3421839331, 43.6528793339)}</td>\n",
              "    </tr>\n",
              "  </tbody>\n",
              "</table>\n",
              "</div>"
            ],
            "text/plain": [
              "   _id FACILITYID  \\\n",
              "0  1    HY4014837   \n",
              "1  2    HY4019330   \n",
              "2  3    HY1356043   \n",
              "3  4    HY4041398   \n",
              "4  5    HY1362146   \n",
              "\n",
              "                                                            LOCDESC  \\\n",
              "0  99 BEVERLY HILLS DR ACROSS  2ND SOUTH OF WILSON AVE ON EAST SIDE   \n",
              "1  62m South 82 CARNFORTH RD                                          \n",
              "2  21m West 67 DUNCANNON DR                                           \n",
              "3  6150 YONGE ST ON GOULDING AVE NORTH WEST CORNER                    \n",
              "4  135m North 685 LAKE SHORE BLVD E                                   \n",
              "\n",
              "   X_COORDINATE  Y_COORDINATE  \\\n",
              "0  303523.657    4841793.384    \n",
              "1  319369.222    4843857.194    \n",
              "2  311870.194    4840197.712    \n",
              "3  311311.715    4850015.128    \n",
              "4  317514.332    4834560.646    \n",
              "\n",
              "                                                               geometry  \n",
              "0  {u'type': u'Point', u'coordinates': (-79.5156446895, 43.7180897096)}  \n",
              "1  {u'type': u'Point', u'coordinates': (-79.3189377615, 43.7365254436)}  \n",
              "2  {u'type': u'Point', u'coordinates': (-79.4120812703, 43.7036940724)}  \n",
              "3  {u'type': u'Point', u'coordinates': (-79.4188921533, 43.7920683833)}  \n",
              "4  {u'type': u'Point', u'coordinates': (-79.3421839331, 43.6528793339)}  "
            ]
          },
          "metadata": {},
          "execution_count": 3
        }
      ]
    },
    {
      "cell_type": "code",
      "metadata": {
        "colab": {
          "base_uri": "https://localhost:8080/"
        },
        "id": "gyzvZTNiOdxs",
        "outputId": "6cfc622a-a0f9-4f5f-9b15-86c6eed010cf"
      },
      "source": [
        "df.columns"
      ],
      "execution_count": 4,
      "outputs": [
        {
          "output_type": "execute_result",
          "data": {
            "text/plain": [
              "Index(['_id', 'FACILITYID', 'LOCDESC', 'X_COORDINATE', 'Y_COORDINATE',\n",
              "       'geometry'],\n",
              "      dtype='object')"
            ]
          },
          "metadata": {},
          "execution_count": 4
        }
      ]
    },
    {
      "cell_type": "code",
      "metadata": {
        "colab": {
          "base_uri": "https://localhost:8080/",
          "height": 35
        },
        "id": "uSXnqLVBOgKB",
        "outputId": "4bad56b1-8e2d-47ec-e390-94013b9522af"
      },
      "source": [
        "df['geometry'][0]"
      ],
      "execution_count": 9,
      "outputs": [
        {
          "output_type": "execute_result",
          "data": {
            "application/vnd.google.colaboratory.intrinsic+json": {
              "type": "string"
            },
            "text/plain": [
              "\"{u'type': u'Point', u'coordinates': (-79.5156446895, 43.7180897096)}\""
            ]
          },
          "metadata": {},
          "execution_count": 9
        }
      ]
    },
    {
      "cell_type": "code",
      "metadata": {
        "colab": {
          "base_uri": "https://localhost:8080/"
        },
        "id": "x1JM7DQjOkl2",
        "outputId": "fbe5d7df-18dd-4a26-a4dc-31b178e80618"
      },
      "source": [
        "test_geometry = df['geometry'][:10]\n",
        "test_geometry"
      ],
      "execution_count": 13,
      "outputs": [
        {
          "output_type": "execute_result",
          "data": {
            "text/plain": [
              "0    {u'type': u'Point', u'coordinates': (-79.5156446895, 43.7180897096)}\n",
              "1    {u'type': u'Point', u'coordinates': (-79.3189377615, 43.7365254436)}\n",
              "2    {u'type': u'Point', u'coordinates': (-79.4120812703, 43.7036940724)}\n",
              "3    {u'type': u'Point', u'coordinates': (-79.4188921533, 43.7920683833)}\n",
              "4    {u'type': u'Point', u'coordinates': (-79.3421839331, 43.6528793339)}\n",
              "5    {u'type': u'Point', u'coordinates': (-79.4081709312, 43.7775691885)}\n",
              "6    {u'type': u'Point', u'coordinates': (-79.4966461026, 43.6423305764)}\n",
              "7    {u'type': u'Point', u'coordinates': (-79.3632376012, 43.7387074066)}\n",
              "8    {u'type': u'Point', u'coordinates': (-79.3248525054, 43.6598963714)}\n",
              "9    {u'type': u'Point', u'coordinates': (-79.4614929971, 43.6810232826)}\n",
              "Name: geometry, dtype: object"
            ]
          },
          "metadata": {},
          "execution_count": 13
        }
      ]
    },
    {
      "cell_type": "code",
      "metadata": {
        "id": "UhvktuhVQCTW"
      },
      "source": [
        "test_latitude = test_geometry.str.extract('([-]?[0-9]*[.]{0,1}[0-9]{10})')"
      ],
      "execution_count": 16,
      "outputs": []
    },
    {
      "cell_type": "code",
      "metadata": {
        "colab": {
          "base_uri": "https://localhost:8080/",
          "height": 363
        },
        "id": "YW8lzmPRQk7-",
        "outputId": "6f9d3695-baa0-471a-f625-2befdd784ccf"
      },
      "source": [
        "test_latitude"
      ],
      "execution_count": 17,
      "outputs": [
        {
          "output_type": "execute_result",
          "data": {
            "text/html": [
              "<div>\n",
              "<style scoped>\n",
              "    .dataframe tbody tr th:only-of-type {\n",
              "        vertical-align: middle;\n",
              "    }\n",
              "\n",
              "    .dataframe tbody tr th {\n",
              "        vertical-align: top;\n",
              "    }\n",
              "\n",
              "    .dataframe thead th {\n",
              "        text-align: right;\n",
              "    }\n",
              "</style>\n",
              "<table border=\"1\" class=\"dataframe\">\n",
              "  <thead>\n",
              "    <tr style=\"text-align: right;\">\n",
              "      <th></th>\n",
              "      <th>0</th>\n",
              "    </tr>\n",
              "  </thead>\n",
              "  <tbody>\n",
              "    <tr>\n",
              "      <th>0</th>\n",
              "      <td>-79.5156446895</td>\n",
              "    </tr>\n",
              "    <tr>\n",
              "      <th>1</th>\n",
              "      <td>-79.3189377615</td>\n",
              "    </tr>\n",
              "    <tr>\n",
              "      <th>2</th>\n",
              "      <td>-79.4120812703</td>\n",
              "    </tr>\n",
              "    <tr>\n",
              "      <th>3</th>\n",
              "      <td>-79.4188921533</td>\n",
              "    </tr>\n",
              "    <tr>\n",
              "      <th>4</th>\n",
              "      <td>-79.3421839331</td>\n",
              "    </tr>\n",
              "    <tr>\n",
              "      <th>5</th>\n",
              "      <td>-79.4081709312</td>\n",
              "    </tr>\n",
              "    <tr>\n",
              "      <th>6</th>\n",
              "      <td>-79.4966461026</td>\n",
              "    </tr>\n",
              "    <tr>\n",
              "      <th>7</th>\n",
              "      <td>-79.3632376012</td>\n",
              "    </tr>\n",
              "    <tr>\n",
              "      <th>8</th>\n",
              "      <td>-79.3248525054</td>\n",
              "    </tr>\n",
              "    <tr>\n",
              "      <th>9</th>\n",
              "      <td>-79.4614929971</td>\n",
              "    </tr>\n",
              "  </tbody>\n",
              "</table>\n",
              "</div>"
            ],
            "text/plain": [
              "                0\n",
              "0  -79.5156446895\n",
              "1  -79.3189377615\n",
              "2  -79.4120812703\n",
              "3  -79.4188921533\n",
              "4  -79.3421839331\n",
              "5  -79.4081709312\n",
              "6  -79.4966461026\n",
              "7  -79.3632376012\n",
              "8  -79.3248525054\n",
              "9  -79.4614929971"
            ]
          },
          "metadata": {},
          "execution_count": 17
        }
      ]
    },
    {
      "cell_type": "code",
      "metadata": {
        "id": "GjbzREoaQn2-"
      },
      "source": [
        "test_longitude = test_geometry.str[53:-2]"
      ],
      "execution_count": 30,
      "outputs": []
    },
    {
      "cell_type": "code",
      "metadata": {
        "colab": {
          "base_uri": "https://localhost:8080/"
        },
        "id": "xJh_L1GCRgiC",
        "outputId": "2675d925-1120-44d0-889f-a1a7764a0897"
      },
      "source": [
        "test_longitude"
      ],
      "execution_count": 31,
      "outputs": [
        {
          "output_type": "execute_result",
          "data": {
            "text/plain": [
              "0    43.7180897096\n",
              "1    43.7365254436\n",
              "2    43.7036940724\n",
              "3    43.7920683833\n",
              "4    43.6528793339\n",
              "5    43.7775691885\n",
              "6    43.6423305764\n",
              "7    43.7387074066\n",
              "8    43.6598963714\n",
              "9    43.6810232826\n",
              "Name: geometry, dtype: object"
            ]
          },
          "metadata": {},
          "execution_count": 31
        }
      ]
    },
    {
      "cell_type": "code",
      "metadata": {
        "id": "YVm2RzmQRhC_"
      },
      "source": [
        "df['latitude'] = df['geometry'].str.extract('([-]?[0-9]*[.]{0,1}[0-9]{10})')"
      ],
      "execution_count": 32,
      "outputs": []
    },
    {
      "cell_type": "code",
      "metadata": {
        "id": "k-NoiLVFRvht"
      },
      "source": [
        "df['longitude'] = df['geometry'].str[53:-2]"
      ],
      "execution_count": 33,
      "outputs": []
    },
    {
      "cell_type": "code",
      "metadata": {
        "colab": {
          "base_uri": "https://localhost:8080/",
          "height": 553
        },
        "id": "i0mI2QWuR3F4",
        "outputId": "e349e52a-d1db-4182-a3f6-0b46774fb3b6"
      },
      "source": [
        "df.head()"
      ],
      "execution_count": 34,
      "outputs": [
        {
          "output_type": "execute_result",
          "data": {
            "text/html": [
              "<div>\n",
              "<style scoped>\n",
              "    .dataframe tbody tr th:only-of-type {\n",
              "        vertical-align: middle;\n",
              "    }\n",
              "\n",
              "    .dataframe tbody tr th {\n",
              "        vertical-align: top;\n",
              "    }\n",
              "\n",
              "    .dataframe thead th {\n",
              "        text-align: right;\n",
              "    }\n",
              "</style>\n",
              "<table border=\"1\" class=\"dataframe\">\n",
              "  <thead>\n",
              "    <tr style=\"text-align: right;\">\n",
              "      <th></th>\n",
              "      <th>_id</th>\n",
              "      <th>FACILITYID</th>\n",
              "      <th>LOCDESC</th>\n",
              "      <th>X_COORDINATE</th>\n",
              "      <th>Y_COORDINATE</th>\n",
              "      <th>geometry</th>\n",
              "      <th>latitude</th>\n",
              "      <th>longitude</th>\n",
              "    </tr>\n",
              "  </thead>\n",
              "  <tbody>\n",
              "    <tr>\n",
              "      <th>0</th>\n",
              "      <td>1</td>\n",
              "      <td>HY4014837</td>\n",
              "      <td>99 BEVERLY HILLS DR ACROSS  2ND SOUTH OF WILSON AVE ON EAST SIDE</td>\n",
              "      <td>303523.657</td>\n",
              "      <td>4841793.384</td>\n",
              "      <td>{u'type': u'Point', u'coordinates': (-79.5156446895, 43.7180897096)}</td>\n",
              "      <td>-79.5156446895</td>\n",
              "      <td>43.7180897096</td>\n",
              "    </tr>\n",
              "    <tr>\n",
              "      <th>1</th>\n",
              "      <td>2</td>\n",
              "      <td>HY4019330</td>\n",
              "      <td>62m South 82 CARNFORTH RD</td>\n",
              "      <td>319369.222</td>\n",
              "      <td>4843857.194</td>\n",
              "      <td>{u'type': u'Point', u'coordinates': (-79.3189377615, 43.7365254436)}</td>\n",
              "      <td>-79.3189377615</td>\n",
              "      <td>43.7365254436</td>\n",
              "    </tr>\n",
              "    <tr>\n",
              "      <th>2</th>\n",
              "      <td>3</td>\n",
              "      <td>HY1356043</td>\n",
              "      <td>21m West 67 DUNCANNON DR</td>\n",
              "      <td>311870.194</td>\n",
              "      <td>4840197.712</td>\n",
              "      <td>{u'type': u'Point', u'coordinates': (-79.4120812703, 43.7036940724)}</td>\n",
              "      <td>-79.4120812703</td>\n",
              "      <td>43.7036940724</td>\n",
              "    </tr>\n",
              "    <tr>\n",
              "      <th>3</th>\n",
              "      <td>4</td>\n",
              "      <td>HY4041398</td>\n",
              "      <td>6150 YONGE ST ON GOULDING AVE NORTH WEST CORNER</td>\n",
              "      <td>311311.715</td>\n",
              "      <td>4850015.128</td>\n",
              "      <td>{u'type': u'Point', u'coordinates': (-79.4188921533, 43.7920683833)}</td>\n",
              "      <td>-79.4188921533</td>\n",
              "      <td>43.7920683833</td>\n",
              "    </tr>\n",
              "    <tr>\n",
              "      <th>4</th>\n",
              "      <td>5</td>\n",
              "      <td>HY1362146</td>\n",
              "      <td>135m North 685 LAKE SHORE BLVD E</td>\n",
              "      <td>317514.332</td>\n",
              "      <td>4834560.646</td>\n",
              "      <td>{u'type': u'Point', u'coordinates': (-79.3421839331, 43.6528793339)}</td>\n",
              "      <td>-79.3421839331</td>\n",
              "      <td>43.6528793339</td>\n",
              "    </tr>\n",
              "  </tbody>\n",
              "</table>\n",
              "</div>"
            ],
            "text/plain": [
              "   _id FACILITYID  \\\n",
              "0  1    HY4014837   \n",
              "1  2    HY4019330   \n",
              "2  3    HY1356043   \n",
              "3  4    HY4041398   \n",
              "4  5    HY1362146   \n",
              "\n",
              "                                                            LOCDESC  \\\n",
              "0  99 BEVERLY HILLS DR ACROSS  2ND SOUTH OF WILSON AVE ON EAST SIDE   \n",
              "1  62m South 82 CARNFORTH RD                                          \n",
              "2  21m West 67 DUNCANNON DR                                           \n",
              "3  6150 YONGE ST ON GOULDING AVE NORTH WEST CORNER                    \n",
              "4  135m North 685 LAKE SHORE BLVD E                                   \n",
              "\n",
              "   X_COORDINATE  Y_COORDINATE  \\\n",
              "0  303523.657    4841793.384    \n",
              "1  319369.222    4843857.194    \n",
              "2  311870.194    4840197.712    \n",
              "3  311311.715    4850015.128    \n",
              "4  317514.332    4834560.646    \n",
              "\n",
              "                                                               geometry  \\\n",
              "0  {u'type': u'Point', u'coordinates': (-79.5156446895, 43.7180897096)}   \n",
              "1  {u'type': u'Point', u'coordinates': (-79.3189377615, 43.7365254436)}   \n",
              "2  {u'type': u'Point', u'coordinates': (-79.4120812703, 43.7036940724)}   \n",
              "3  {u'type': u'Point', u'coordinates': (-79.4188921533, 43.7920683833)}   \n",
              "4  {u'type': u'Point', u'coordinates': (-79.3421839331, 43.6528793339)}   \n",
              "\n",
              "         latitude      longitude  \n",
              "0  -79.5156446895  43.7180897096  \n",
              "1  -79.3189377615  43.7365254436  \n",
              "2  -79.4120812703  43.7036940724  \n",
              "3  -79.4188921533  43.7920683833  \n",
              "4  -79.3421839331  43.6528793339  "
            ]
          },
          "metadata": {},
          "execution_count": 34
        }
      ]
    },
    {
      "cell_type": "code",
      "metadata": {
        "id": "UMRXUGBuR4ib"
      },
      "source": [
        ""
      ],
      "execution_count": null,
      "outputs": []
    }
  ]
}